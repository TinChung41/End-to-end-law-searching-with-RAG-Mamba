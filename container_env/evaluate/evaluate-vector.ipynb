{
 "cells": [
  {
   "cell_type": "code",
   "execution_count": 2,
   "id": "8456b5b6-185b-440b-ab98-1822aac2fe4f",
   "metadata": {},
   "outputs": [],
   "source": [
    "import json\n",
    "\n",
    "with open('/app/Law_corpus/documents-with-ids.json', 'rt') as f_in:\n",
    "    documents = json.load(f_in)"
   ]
  },
  {
   "cell_type": "code",
   "execution_count": 3,
   "id": "5833e987-21f5-4788-8609-d32410bc7b10",
   "metadata": {},
   "outputs": [
    {
     "data": {
      "application/vnd.jupyter.widget-view+json": {
       "model_id": "fc0fe53c386945ee9f497b4609c0e369",
       "version_major": 2,
       "version_minor": 0
      },
      "text/plain": [
       "modules.json:   0%|          | 0.00/349 [00:00<?, ?B/s]"
      ]
     },
     "metadata": {},
     "output_type": "display_data"
    },
    {
     "data": {
      "application/vnd.jupyter.widget-view+json": {
       "model_id": "93095fef4d77466bba4ccf4dfe09164f",
       "version_major": 2,
       "version_minor": 0
      },
      "text/plain": [
       "config_sentence_transformers.json:   0%|          | 0.00/195 [00:00<?, ?B/s]"
      ]
     },
     "metadata": {},
     "output_type": "display_data"
    },
    {
     "data": {
      "application/vnd.jupyter.widget-view+json": {
       "model_id": "04fb9b8c88e44bc690d75e395cd31342",
       "version_major": 2,
       "version_minor": 0
      },
      "text/plain": [
       "README.md:   0%|          | 0.00/5.07k [00:00<?, ?B/s]"
      ]
     },
     "metadata": {},
     "output_type": "display_data"
    },
    {
     "data": {
      "application/vnd.jupyter.widget-view+json": {
       "model_id": "4f7ac6be9a694c3994a2d57b80cb7ee1",
       "version_major": 2,
       "version_minor": 0
      },
      "text/plain": [
       "sentence_bert_config.json:   0%|          | 0.00/53.0 [00:00<?, ?B/s]"
      ]
     },
     "metadata": {},
     "output_type": "display_data"
    },
    {
     "data": {
      "application/vnd.jupyter.widget-view+json": {
       "model_id": "49565b1d4ccc4394a455814a175378b4",
       "version_major": 2,
       "version_minor": 0
      },
      "text/plain": [
       "config.json:   0%|          | 0.00/707 [00:00<?, ?B/s]"
      ]
     },
     "metadata": {},
     "output_type": "display_data"
    },
    {
     "data": {
      "application/vnd.jupyter.widget-view+json": {
       "model_id": "f403a55e7de44154ab17b34e790f414d",
       "version_major": 2,
       "version_minor": 0
      },
      "text/plain": [
       "model.safetensors:   0%|          | 0.00/1.11G [00:00<?, ?B/s]"
      ]
     },
     "metadata": {},
     "output_type": "display_data"
    },
    {
     "data": {
      "application/vnd.jupyter.widget-view+json": {
       "model_id": "27e371629d7a49929c52124e02d587bb",
       "version_major": 2,
       "version_minor": 0
      },
      "text/plain": [
       "tokenizer_config.json:   0%|          | 0.00/1.34k [00:00<?, ?B/s]"
      ]
     },
     "metadata": {},
     "output_type": "display_data"
    },
    {
     "data": {
      "application/vnd.jupyter.widget-view+json": {
       "model_id": "c19006c71c7c420b9b867acb5ae0cd79",
       "version_major": 2,
       "version_minor": 0
      },
      "text/plain": [
       "tokenizer.json:   0%|          | 0.00/17.1M [00:00<?, ?B/s]"
      ]
     },
     "metadata": {},
     "output_type": "display_data"
    },
    {
     "data": {
      "application/vnd.jupyter.widget-view+json": {
       "model_id": "04c4aa8e31634c14adaf8813aa1818d1",
       "version_major": 2,
       "version_minor": 0
      },
      "text/plain": [
       "special_tokens_map.json:   0%|          | 0.00/964 [00:00<?, ?B/s]"
      ]
     },
     "metadata": {},
     "output_type": "display_data"
    },
    {
     "name": "stderr",
     "output_type": "stream",
     "text": [
      "Invalid model-index. Not loading eval results into CardData.\n"
     ]
    },
    {
     "data": {
      "application/vnd.jupyter.widget-view+json": {
       "model_id": "b94eeea03f8d444ba4405ce62eb9b21c",
       "version_major": 2,
       "version_minor": 0
      },
      "text/plain": [
       "1_Pooling/config.json:   0%|          | 0.00/296 [00:00<?, ?B/s]"
      ]
     },
     "metadata": {},
     "output_type": "display_data"
    },
    {
     "name": "stderr",
     "output_type": "stream",
     "text": [
      "Invalid model-index. Not loading eval results into CardData.\n"
     ]
    }
   ],
   "source": [
    "from sentence_transformers import SentenceTransformer\n",
    "model = SentenceTransformer(\"truro7/vn-law-embedding\", truncate_dim = 768) #truncate_dim = 768 "
   ]
  },
  {
   "cell_type": "code",
   "execution_count": 4,
   "id": "341b331f-e3aa-41b7-91a2-b42cd3a57c2e",
   "metadata": {},
   "outputs": [],
   "source": [
    "v = model.encode('Người lái xe cần tuân thủ quy định về tốc độ như thế nào trên đường?')"
   ]
  },
  {
   "cell_type": "code",
   "execution_count": 5,
   "id": "5783a592-5d76-44ee-89a7-05615ef966bf",
   "metadata": {},
   "outputs": [
    {
     "data": {
      "text/plain": [
       "768"
      ]
     },
     "execution_count": 5,
     "metadata": {},
     "output_type": "execute_result"
    }
   ],
   "source": [
    "len(v)"
   ]
  },
  {
   "cell_type": "code",
   "execution_count": 7,
   "id": "620ed5a1-cc06-40a3-8627-891aed525cba",
   "metadata": {},
   "outputs": [
    {
     "ename": "ConnectionError",
     "evalue": "Connection error caused by: ConnectionError(Connection error caused by: NewConnectionError(<urllib3.connection.HTTPConnection object at 0x7fad655d3d30>: Failed to establish a new connection: [Errno 111] Connection refused))",
     "output_type": "error",
     "traceback": [
      "\u001b[0;31m---------------------------------------------------------------------------\u001b[0m",
      "\u001b[0;31mConnectionRefusedError\u001b[0m                    Traceback (most recent call last)",
      "File \u001b[0;32m/usr/local/lib/python3.10/dist-packages/urllib3/connection.py:199\u001b[0m, in \u001b[0;36mHTTPConnection._new_conn\u001b[0;34m(self)\u001b[0m\n\u001b[1;32m    198\u001b[0m \u001b[38;5;28;01mtry\u001b[39;00m:\n\u001b[0;32m--> 199\u001b[0m     sock \u001b[38;5;241m=\u001b[39m \u001b[43mconnection\u001b[49m\u001b[38;5;241;43m.\u001b[39;49m\u001b[43mcreate_connection\u001b[49m\u001b[43m(\u001b[49m\n\u001b[1;32m    200\u001b[0m \u001b[43m        \u001b[49m\u001b[43m(\u001b[49m\u001b[38;5;28;43mself\u001b[39;49m\u001b[38;5;241;43m.\u001b[39;49m\u001b[43m_dns_host\u001b[49m\u001b[43m,\u001b[49m\u001b[43m \u001b[49m\u001b[38;5;28;43mself\u001b[39;49m\u001b[38;5;241;43m.\u001b[39;49m\u001b[43mport\u001b[49m\u001b[43m)\u001b[49m\u001b[43m,\u001b[49m\n\u001b[1;32m    201\u001b[0m \u001b[43m        \u001b[49m\u001b[38;5;28;43mself\u001b[39;49m\u001b[38;5;241;43m.\u001b[39;49m\u001b[43mtimeout\u001b[49m\u001b[43m,\u001b[49m\n\u001b[1;32m    202\u001b[0m \u001b[43m        \u001b[49m\u001b[43msource_address\u001b[49m\u001b[38;5;241;43m=\u001b[39;49m\u001b[38;5;28;43mself\u001b[39;49m\u001b[38;5;241;43m.\u001b[39;49m\u001b[43msource_address\u001b[49m\u001b[43m,\u001b[49m\n\u001b[1;32m    203\u001b[0m \u001b[43m        \u001b[49m\u001b[43msocket_options\u001b[49m\u001b[38;5;241;43m=\u001b[39;49m\u001b[38;5;28;43mself\u001b[39;49m\u001b[38;5;241;43m.\u001b[39;49m\u001b[43msocket_options\u001b[49m\u001b[43m,\u001b[49m\n\u001b[1;32m    204\u001b[0m \u001b[43m    \u001b[49m\u001b[43m)\u001b[49m\n\u001b[1;32m    205\u001b[0m \u001b[38;5;28;01mexcept\u001b[39;00m socket\u001b[38;5;241m.\u001b[39mgaierror \u001b[38;5;28;01mas\u001b[39;00m e:\n",
      "File \u001b[0;32m/usr/local/lib/python3.10/dist-packages/urllib3/util/connection.py:85\u001b[0m, in \u001b[0;36mcreate_connection\u001b[0;34m(address, timeout, source_address, socket_options)\u001b[0m\n\u001b[1;32m     84\u001b[0m \u001b[38;5;28;01mtry\u001b[39;00m:\n\u001b[0;32m---> 85\u001b[0m     \u001b[38;5;28;01mraise\u001b[39;00m err\n\u001b[1;32m     86\u001b[0m \u001b[38;5;28;01mfinally\u001b[39;00m:\n\u001b[1;32m     87\u001b[0m     \u001b[38;5;66;03m# Break explicitly a reference cycle\u001b[39;00m\n",
      "File \u001b[0;32m/usr/local/lib/python3.10/dist-packages/urllib3/util/connection.py:73\u001b[0m, in \u001b[0;36mcreate_connection\u001b[0;34m(address, timeout, source_address, socket_options)\u001b[0m\n\u001b[1;32m     72\u001b[0m     sock\u001b[38;5;241m.\u001b[39mbind(source_address)\n\u001b[0;32m---> 73\u001b[0m \u001b[43msock\u001b[49m\u001b[38;5;241;43m.\u001b[39;49m\u001b[43mconnect\u001b[49m\u001b[43m(\u001b[49m\u001b[43msa\u001b[49m\u001b[43m)\u001b[49m\n\u001b[1;32m     74\u001b[0m \u001b[38;5;66;03m# Break explicitly a reference cycle\u001b[39;00m\n",
      "\u001b[0;31mConnectionRefusedError\u001b[0m: [Errno 111] Connection refused",
      "\nThe above exception was the direct cause of the following exception:\n",
      "\u001b[0;31mNewConnectionError\u001b[0m                        Traceback (most recent call last)",
      "File \u001b[0;32m/usr/local/lib/python3.10/dist-packages/elastic_transport/_node/_http_urllib3.py:167\u001b[0m, in \u001b[0;36mUrllib3HttpNode.perform_request\u001b[0;34m(self, method, target, body, headers, request_timeout)\u001b[0m\n\u001b[1;32m    165\u001b[0m     body_to_send \u001b[38;5;241m=\u001b[39m \u001b[38;5;28;01mNone\u001b[39;00m\n\u001b[0;32m--> 167\u001b[0m response \u001b[38;5;241m=\u001b[39m \u001b[38;5;28;43mself\u001b[39;49m\u001b[38;5;241;43m.\u001b[39;49m\u001b[43mpool\u001b[49m\u001b[38;5;241;43m.\u001b[39;49m\u001b[43murlopen\u001b[49m\u001b[43m(\u001b[49m\n\u001b[1;32m    168\u001b[0m \u001b[43m    \u001b[49m\u001b[43mmethod\u001b[49m\u001b[43m,\u001b[49m\n\u001b[1;32m    169\u001b[0m \u001b[43m    \u001b[49m\u001b[43mtarget\u001b[49m\u001b[43m,\u001b[49m\n\u001b[1;32m    170\u001b[0m \u001b[43m    \u001b[49m\u001b[43mbody\u001b[49m\u001b[38;5;241;43m=\u001b[39;49m\u001b[43mbody_to_send\u001b[49m\u001b[43m,\u001b[49m\n\u001b[1;32m    171\u001b[0m \u001b[43m    \u001b[49m\u001b[43mretries\u001b[49m\u001b[38;5;241;43m=\u001b[39;49m\u001b[43mRetry\u001b[49m\u001b[43m(\u001b[49m\u001b[38;5;28;43;01mFalse\u001b[39;49;00m\u001b[43m)\u001b[49m\u001b[43m,\u001b[49m\n\u001b[1;32m    172\u001b[0m \u001b[43m    \u001b[49m\u001b[43mheaders\u001b[49m\u001b[38;5;241;43m=\u001b[39;49m\u001b[43mrequest_headers\u001b[49m\u001b[43m,\u001b[49m\n\u001b[1;32m    173\u001b[0m \u001b[43m    \u001b[49m\u001b[38;5;241;43m*\u001b[39;49m\u001b[38;5;241;43m*\u001b[39;49m\u001b[43mkw\u001b[49m\u001b[43m,\u001b[49m\u001b[43m  \u001b[49m\u001b[38;5;66;43;03m# type: ignore[arg-type]\u001b[39;49;00m\n\u001b[1;32m    174\u001b[0m \u001b[43m\u001b[49m\u001b[43m)\u001b[49m\n\u001b[1;32m    175\u001b[0m response_headers \u001b[38;5;241m=\u001b[39m HttpHeaders(response\u001b[38;5;241m.\u001b[39mheaders)\n",
      "File \u001b[0;32m/usr/local/lib/python3.10/dist-packages/urllib3/connectionpool.py:843\u001b[0m, in \u001b[0;36mHTTPConnectionPool.urlopen\u001b[0;34m(self, method, url, body, headers, retries, redirect, assert_same_host, timeout, pool_timeout, release_conn, chunked, body_pos, preload_content, decode_content, **response_kw)\u001b[0m\n\u001b[1;32m    841\u001b[0m     new_e \u001b[38;5;241m=\u001b[39m ProtocolError(\u001b[38;5;124m\"\u001b[39m\u001b[38;5;124mConnection aborted.\u001b[39m\u001b[38;5;124m\"\u001b[39m, new_e)\n\u001b[0;32m--> 843\u001b[0m retries \u001b[38;5;241m=\u001b[39m \u001b[43mretries\u001b[49m\u001b[38;5;241;43m.\u001b[39;49m\u001b[43mincrement\u001b[49m\u001b[43m(\u001b[49m\n\u001b[1;32m    844\u001b[0m \u001b[43m    \u001b[49m\u001b[43mmethod\u001b[49m\u001b[43m,\u001b[49m\u001b[43m \u001b[49m\u001b[43murl\u001b[49m\u001b[43m,\u001b[49m\u001b[43m \u001b[49m\u001b[43merror\u001b[49m\u001b[38;5;241;43m=\u001b[39;49m\u001b[43mnew_e\u001b[49m\u001b[43m,\u001b[49m\u001b[43m \u001b[49m\u001b[43m_pool\u001b[49m\u001b[38;5;241;43m=\u001b[39;49m\u001b[38;5;28;43mself\u001b[39;49m\u001b[43m,\u001b[49m\u001b[43m \u001b[49m\u001b[43m_stacktrace\u001b[49m\u001b[38;5;241;43m=\u001b[39;49m\u001b[43msys\u001b[49m\u001b[38;5;241;43m.\u001b[39;49m\u001b[43mexc_info\u001b[49m\u001b[43m(\u001b[49m\u001b[43m)\u001b[49m\u001b[43m[\u001b[49m\u001b[38;5;241;43m2\u001b[39;49m\u001b[43m]\u001b[49m\n\u001b[1;32m    845\u001b[0m \u001b[43m\u001b[49m\u001b[43m)\u001b[49m\n\u001b[1;32m    846\u001b[0m retries\u001b[38;5;241m.\u001b[39msleep()\n",
      "File \u001b[0;32m/usr/local/lib/python3.10/dist-packages/urllib3/util/retry.py:449\u001b[0m, in \u001b[0;36mRetry.increment\u001b[0;34m(self, method, url, response, error, _pool, _stacktrace)\u001b[0m\n\u001b[1;32m    447\u001b[0m \u001b[38;5;28;01mif\u001b[39;00m \u001b[38;5;28mself\u001b[39m\u001b[38;5;241m.\u001b[39mtotal \u001b[38;5;129;01mis\u001b[39;00m \u001b[38;5;28;01mFalse\u001b[39;00m \u001b[38;5;129;01mand\u001b[39;00m error:\n\u001b[1;32m    448\u001b[0m     \u001b[38;5;66;03m# Disabled, indicate to re-raise the error.\u001b[39;00m\n\u001b[0;32m--> 449\u001b[0m     \u001b[38;5;28;01mraise\u001b[39;00m \u001b[43mreraise\u001b[49m\u001b[43m(\u001b[49m\u001b[38;5;28;43mtype\u001b[39;49m\u001b[43m(\u001b[49m\u001b[43merror\u001b[49m\u001b[43m)\u001b[49m\u001b[43m,\u001b[49m\u001b[43m \u001b[49m\u001b[43merror\u001b[49m\u001b[43m,\u001b[49m\u001b[43m \u001b[49m\u001b[43m_stacktrace\u001b[49m\u001b[43m)\u001b[49m\n\u001b[1;32m    451\u001b[0m total \u001b[38;5;241m=\u001b[39m \u001b[38;5;28mself\u001b[39m\u001b[38;5;241m.\u001b[39mtotal\n",
      "File \u001b[0;32m/usr/local/lib/python3.10/dist-packages/urllib3/util/util.py:39\u001b[0m, in \u001b[0;36mreraise\u001b[0;34m(tp, value, tb)\u001b[0m\n\u001b[1;32m     38\u001b[0m         \u001b[38;5;28;01mraise\u001b[39;00m value\u001b[38;5;241m.\u001b[39mwith_traceback(tb)\n\u001b[0;32m---> 39\u001b[0m     \u001b[38;5;28;01mraise\u001b[39;00m value\n\u001b[1;32m     40\u001b[0m \u001b[38;5;28;01mfinally\u001b[39;00m:\n",
      "File \u001b[0;32m/usr/local/lib/python3.10/dist-packages/urllib3/connectionpool.py:789\u001b[0m, in \u001b[0;36mHTTPConnectionPool.urlopen\u001b[0;34m(self, method, url, body, headers, retries, redirect, assert_same_host, timeout, pool_timeout, release_conn, chunked, body_pos, preload_content, decode_content, **response_kw)\u001b[0m\n\u001b[1;32m    788\u001b[0m \u001b[38;5;66;03m# Make the request on the HTTPConnection object\u001b[39;00m\n\u001b[0;32m--> 789\u001b[0m response \u001b[38;5;241m=\u001b[39m \u001b[38;5;28;43mself\u001b[39;49m\u001b[38;5;241;43m.\u001b[39;49m\u001b[43m_make_request\u001b[49m\u001b[43m(\u001b[49m\n\u001b[1;32m    790\u001b[0m \u001b[43m    \u001b[49m\u001b[43mconn\u001b[49m\u001b[43m,\u001b[49m\n\u001b[1;32m    791\u001b[0m \u001b[43m    \u001b[49m\u001b[43mmethod\u001b[49m\u001b[43m,\u001b[49m\n\u001b[1;32m    792\u001b[0m \u001b[43m    \u001b[49m\u001b[43murl\u001b[49m\u001b[43m,\u001b[49m\n\u001b[1;32m    793\u001b[0m \u001b[43m    \u001b[49m\u001b[43mtimeout\u001b[49m\u001b[38;5;241;43m=\u001b[39;49m\u001b[43mtimeout_obj\u001b[49m\u001b[43m,\u001b[49m\n\u001b[1;32m    794\u001b[0m \u001b[43m    \u001b[49m\u001b[43mbody\u001b[49m\u001b[38;5;241;43m=\u001b[39;49m\u001b[43mbody\u001b[49m\u001b[43m,\u001b[49m\n\u001b[1;32m    795\u001b[0m \u001b[43m    \u001b[49m\u001b[43mheaders\u001b[49m\u001b[38;5;241;43m=\u001b[39;49m\u001b[43mheaders\u001b[49m\u001b[43m,\u001b[49m\n\u001b[1;32m    796\u001b[0m \u001b[43m    \u001b[49m\u001b[43mchunked\u001b[49m\u001b[38;5;241;43m=\u001b[39;49m\u001b[43mchunked\u001b[49m\u001b[43m,\u001b[49m\n\u001b[1;32m    797\u001b[0m \u001b[43m    \u001b[49m\u001b[43mretries\u001b[49m\u001b[38;5;241;43m=\u001b[39;49m\u001b[43mretries\u001b[49m\u001b[43m,\u001b[49m\n\u001b[1;32m    798\u001b[0m \u001b[43m    \u001b[49m\u001b[43mresponse_conn\u001b[49m\u001b[38;5;241;43m=\u001b[39;49m\u001b[43mresponse_conn\u001b[49m\u001b[43m,\u001b[49m\n\u001b[1;32m    799\u001b[0m \u001b[43m    \u001b[49m\u001b[43mpreload_content\u001b[49m\u001b[38;5;241;43m=\u001b[39;49m\u001b[43mpreload_content\u001b[49m\u001b[43m,\u001b[49m\n\u001b[1;32m    800\u001b[0m \u001b[43m    \u001b[49m\u001b[43mdecode_content\u001b[49m\u001b[38;5;241;43m=\u001b[39;49m\u001b[43mdecode_content\u001b[49m\u001b[43m,\u001b[49m\n\u001b[1;32m    801\u001b[0m \u001b[43m    \u001b[49m\u001b[38;5;241;43m*\u001b[39;49m\u001b[38;5;241;43m*\u001b[39;49m\u001b[43mresponse_kw\u001b[49m\u001b[43m,\u001b[49m\n\u001b[1;32m    802\u001b[0m \u001b[43m\u001b[49m\u001b[43m)\u001b[49m\n\u001b[1;32m    804\u001b[0m \u001b[38;5;66;03m# Everything went great!\u001b[39;00m\n",
      "File \u001b[0;32m/usr/local/lib/python3.10/dist-packages/urllib3/connectionpool.py:495\u001b[0m, in \u001b[0;36mHTTPConnectionPool._make_request\u001b[0;34m(self, conn, method, url, body, headers, retries, timeout, chunked, response_conn, preload_content, decode_content, enforce_content_length)\u001b[0m\n\u001b[1;32m    494\u001b[0m \u001b[38;5;28;01mtry\u001b[39;00m:\n\u001b[0;32m--> 495\u001b[0m     \u001b[43mconn\u001b[49m\u001b[38;5;241;43m.\u001b[39;49m\u001b[43mrequest\u001b[49m\u001b[43m(\u001b[49m\n\u001b[1;32m    496\u001b[0m \u001b[43m        \u001b[49m\u001b[43mmethod\u001b[49m\u001b[43m,\u001b[49m\n\u001b[1;32m    497\u001b[0m \u001b[43m        \u001b[49m\u001b[43murl\u001b[49m\u001b[43m,\u001b[49m\n\u001b[1;32m    498\u001b[0m \u001b[43m        \u001b[49m\u001b[43mbody\u001b[49m\u001b[38;5;241;43m=\u001b[39;49m\u001b[43mbody\u001b[49m\u001b[43m,\u001b[49m\n\u001b[1;32m    499\u001b[0m \u001b[43m        \u001b[49m\u001b[43mheaders\u001b[49m\u001b[38;5;241;43m=\u001b[39;49m\u001b[43mheaders\u001b[49m\u001b[43m,\u001b[49m\n\u001b[1;32m    500\u001b[0m \u001b[43m        \u001b[49m\u001b[43mchunked\u001b[49m\u001b[38;5;241;43m=\u001b[39;49m\u001b[43mchunked\u001b[49m\u001b[43m,\u001b[49m\n\u001b[1;32m    501\u001b[0m \u001b[43m        \u001b[49m\u001b[43mpreload_content\u001b[49m\u001b[38;5;241;43m=\u001b[39;49m\u001b[43mpreload_content\u001b[49m\u001b[43m,\u001b[49m\n\u001b[1;32m    502\u001b[0m \u001b[43m        \u001b[49m\u001b[43mdecode_content\u001b[49m\u001b[38;5;241;43m=\u001b[39;49m\u001b[43mdecode_content\u001b[49m\u001b[43m,\u001b[49m\n\u001b[1;32m    503\u001b[0m \u001b[43m        \u001b[49m\u001b[43menforce_content_length\u001b[49m\u001b[38;5;241;43m=\u001b[39;49m\u001b[43menforce_content_length\u001b[49m\u001b[43m,\u001b[49m\n\u001b[1;32m    504\u001b[0m \u001b[43m    \u001b[49m\u001b[43m)\u001b[49m\n\u001b[1;32m    506\u001b[0m \u001b[38;5;66;03m# We are swallowing BrokenPipeError (errno.EPIPE) since the server is\u001b[39;00m\n\u001b[1;32m    507\u001b[0m \u001b[38;5;66;03m# legitimately able to close the connection after sending a valid response.\u001b[39;00m\n\u001b[1;32m    508\u001b[0m \u001b[38;5;66;03m# With this behaviour, the received response is still readable.\u001b[39;00m\n",
      "File \u001b[0;32m/usr/local/lib/python3.10/dist-packages/urllib3/connection.py:441\u001b[0m, in \u001b[0;36mHTTPConnection.request\u001b[0;34m(self, method, url, body, headers, chunked, preload_content, decode_content, enforce_content_length)\u001b[0m\n\u001b[1;32m    440\u001b[0m     \u001b[38;5;28mself\u001b[39m\u001b[38;5;241m.\u001b[39mputheader(header, value)\n\u001b[0;32m--> 441\u001b[0m \u001b[38;5;28;43mself\u001b[39;49m\u001b[38;5;241;43m.\u001b[39;49m\u001b[43mendheaders\u001b[49m\u001b[43m(\u001b[49m\u001b[43m)\u001b[49m\n\u001b[1;32m    443\u001b[0m \u001b[38;5;66;03m# If we're given a body we start sending that in chunks.\u001b[39;00m\n",
      "File \u001b[0;32m/usr/lib/python3.10/http/client.py:1278\u001b[0m, in \u001b[0;36mHTTPConnection.endheaders\u001b[0;34m(self, message_body, encode_chunked)\u001b[0m\n\u001b[1;32m   1277\u001b[0m     \u001b[38;5;28;01mraise\u001b[39;00m CannotSendHeader()\n\u001b[0;32m-> 1278\u001b[0m \u001b[38;5;28;43mself\u001b[39;49m\u001b[38;5;241;43m.\u001b[39;49m\u001b[43m_send_output\u001b[49m\u001b[43m(\u001b[49m\u001b[43mmessage_body\u001b[49m\u001b[43m,\u001b[49m\u001b[43m \u001b[49m\u001b[43mencode_chunked\u001b[49m\u001b[38;5;241;43m=\u001b[39;49m\u001b[43mencode_chunked\u001b[49m\u001b[43m)\u001b[49m\n",
      "File \u001b[0;32m/usr/lib/python3.10/http/client.py:1038\u001b[0m, in \u001b[0;36mHTTPConnection._send_output\u001b[0;34m(self, message_body, encode_chunked)\u001b[0m\n\u001b[1;32m   1037\u001b[0m \u001b[38;5;28;01mdel\u001b[39;00m \u001b[38;5;28mself\u001b[39m\u001b[38;5;241m.\u001b[39m_buffer[:]\n\u001b[0;32m-> 1038\u001b[0m \u001b[38;5;28;43mself\u001b[39;49m\u001b[38;5;241;43m.\u001b[39;49m\u001b[43msend\u001b[49m\u001b[43m(\u001b[49m\u001b[43mmsg\u001b[49m\u001b[43m)\u001b[49m\n\u001b[1;32m   1040\u001b[0m \u001b[38;5;28;01mif\u001b[39;00m message_body \u001b[38;5;129;01mis\u001b[39;00m \u001b[38;5;129;01mnot\u001b[39;00m \u001b[38;5;28;01mNone\u001b[39;00m:\n\u001b[1;32m   1041\u001b[0m \n\u001b[1;32m   1042\u001b[0m     \u001b[38;5;66;03m# create a consistent interface to message_body\u001b[39;00m\n",
      "File \u001b[0;32m/usr/lib/python3.10/http/client.py:976\u001b[0m, in \u001b[0;36mHTTPConnection.send\u001b[0;34m(self, data)\u001b[0m\n\u001b[1;32m    975\u001b[0m \u001b[38;5;28;01mif\u001b[39;00m \u001b[38;5;28mself\u001b[39m\u001b[38;5;241m.\u001b[39mauto_open:\n\u001b[0;32m--> 976\u001b[0m     \u001b[38;5;28;43mself\u001b[39;49m\u001b[38;5;241;43m.\u001b[39;49m\u001b[43mconnect\u001b[49m\u001b[43m(\u001b[49m\u001b[43m)\u001b[49m\n\u001b[1;32m    977\u001b[0m \u001b[38;5;28;01melse\u001b[39;00m:\n",
      "File \u001b[0;32m/usr/local/lib/python3.10/dist-packages/urllib3/connection.py:279\u001b[0m, in \u001b[0;36mHTTPConnection.connect\u001b[0;34m(self)\u001b[0m\n\u001b[1;32m    278\u001b[0m \u001b[38;5;28;01mdef\u001b[39;00m \u001b[38;5;21mconnect\u001b[39m(\u001b[38;5;28mself\u001b[39m) \u001b[38;5;241m-\u001b[39m\u001b[38;5;241m>\u001b[39m \u001b[38;5;28;01mNone\u001b[39;00m:\n\u001b[0;32m--> 279\u001b[0m     \u001b[38;5;28mself\u001b[39m\u001b[38;5;241m.\u001b[39msock \u001b[38;5;241m=\u001b[39m \u001b[38;5;28;43mself\u001b[39;49m\u001b[38;5;241;43m.\u001b[39;49m\u001b[43m_new_conn\u001b[49m\u001b[43m(\u001b[49m\u001b[43m)\u001b[49m\n\u001b[1;32m    280\u001b[0m     \u001b[38;5;28;01mif\u001b[39;00m \u001b[38;5;28mself\u001b[39m\u001b[38;5;241m.\u001b[39m_tunnel_host:\n\u001b[1;32m    281\u001b[0m         \u001b[38;5;66;03m# If we're tunneling it means we're connected to our proxy.\u001b[39;00m\n",
      "File \u001b[0;32m/usr/local/lib/python3.10/dist-packages/urllib3/connection.py:214\u001b[0m, in \u001b[0;36mHTTPConnection._new_conn\u001b[0;34m(self)\u001b[0m\n\u001b[1;32m    213\u001b[0m \u001b[38;5;28;01mexcept\u001b[39;00m \u001b[38;5;167;01mOSError\u001b[39;00m \u001b[38;5;28;01mas\u001b[39;00m e:\n\u001b[0;32m--> 214\u001b[0m     \u001b[38;5;28;01mraise\u001b[39;00m NewConnectionError(\n\u001b[1;32m    215\u001b[0m         \u001b[38;5;28mself\u001b[39m, \u001b[38;5;124mf\u001b[39m\u001b[38;5;124m\"\u001b[39m\u001b[38;5;124mFailed to establish a new connection: \u001b[39m\u001b[38;5;132;01m{\u001b[39;00me\u001b[38;5;132;01m}\u001b[39;00m\u001b[38;5;124m\"\u001b[39m\n\u001b[1;32m    216\u001b[0m     ) \u001b[38;5;28;01mfrom\u001b[39;00m \u001b[38;5;21;01me\u001b[39;00m\n\u001b[1;32m    218\u001b[0m \u001b[38;5;66;03m# Audit hooks are only available in Python 3.8+\u001b[39;00m\n",
      "\u001b[0;31mNewConnectionError\u001b[0m: <urllib3.connection.HTTPConnection object at 0x7fad655d3970>: Failed to establish a new connection: [Errno 111] Connection refused",
      "\nThe above exception was the direct cause of the following exception:\n",
      "\u001b[0;31mConnectionError\u001b[0m                           Traceback (most recent call last)",
      "Cell \u001b[0;32mIn[7], line 43\u001b[0m\n\u001b[1;32m      5\u001b[0m index_settings \u001b[38;5;241m=\u001b[39m {\n\u001b[1;32m      6\u001b[0m     \u001b[38;5;124m\"\u001b[39m\u001b[38;5;124msettings\u001b[39m\u001b[38;5;124m\"\u001b[39m: {\n\u001b[1;32m      7\u001b[0m         \u001b[38;5;124m\"\u001b[39m\u001b[38;5;124mnumber_of_shards\u001b[39m\u001b[38;5;124m\"\u001b[39m: \u001b[38;5;241m1\u001b[39m,\n\u001b[0;32m   (...)\u001b[0m\n\u001b[1;32m     38\u001b[0m     }\n\u001b[1;32m     39\u001b[0m }\n\u001b[1;32m     41\u001b[0m index_name \u001b[38;5;241m=\u001b[39m \u001b[38;5;124m\"\u001b[39m\u001b[38;5;124mlegal_documents_ids\u001b[39m\u001b[38;5;124m\"\u001b[39m\n\u001b[0;32m---> 43\u001b[0m \u001b[43mes_client\u001b[49m\u001b[38;5;241;43m.\u001b[39;49m\u001b[43mindices\u001b[49m\u001b[38;5;241;43m.\u001b[39;49m\u001b[43mdelete\u001b[49m\u001b[43m(\u001b[49m\u001b[43mindex\u001b[49m\u001b[38;5;241;43m=\u001b[39;49m\u001b[43mindex_name\u001b[49m\u001b[43m,\u001b[49m\u001b[43m \u001b[49m\u001b[43mignore_unavailable\u001b[49m\u001b[38;5;241;43m=\u001b[39;49m\u001b[38;5;28;43;01mTrue\u001b[39;49;00m\u001b[43m)\u001b[49m\n\u001b[1;32m     44\u001b[0m es_client\u001b[38;5;241m.\u001b[39mindices\u001b[38;5;241m.\u001b[39mcreate(index\u001b[38;5;241m=\u001b[39mindex_name, body\u001b[38;5;241m=\u001b[39mindex_settings)\n",
      "File \u001b[0;32m/usr/local/lib/python3.10/dist-packages/elasticsearch/_sync/client/utils.py:455\u001b[0m, in \u001b[0;36m_rewrite_parameters.<locals>.wrapper.<locals>.wrapped\u001b[0;34m(*args, **kwargs)\u001b[0m\n\u001b[1;32m    452\u001b[0m         \u001b[38;5;28;01mexcept\u001b[39;00m \u001b[38;5;167;01mKeyError\u001b[39;00m:\n\u001b[1;32m    453\u001b[0m             \u001b[38;5;28;01mpass\u001b[39;00m\n\u001b[0;32m--> 455\u001b[0m \u001b[38;5;28;01mreturn\u001b[39;00m \u001b[43mapi\u001b[49m\u001b[43m(\u001b[49m\u001b[38;5;241;43m*\u001b[39;49m\u001b[43margs\u001b[49m\u001b[43m,\u001b[49m\u001b[43m \u001b[49m\u001b[38;5;241;43m*\u001b[39;49m\u001b[38;5;241;43m*\u001b[39;49m\u001b[43mkwargs\u001b[49m\u001b[43m)\u001b[49m\n",
      "File \u001b[0;32m/usr/local/lib/python3.10/dist-packages/elasticsearch/_sync/client/indices.py:782\u001b[0m, in \u001b[0;36mIndicesClient.delete\u001b[0;34m(self, index, allow_no_indices, error_trace, expand_wildcards, filter_path, human, ignore_unavailable, master_timeout, pretty, timeout)\u001b[0m\n\u001b[1;32m    780\u001b[0m     __query[\u001b[38;5;124m\"\u001b[39m\u001b[38;5;124mtimeout\u001b[39m\u001b[38;5;124m\"\u001b[39m] \u001b[38;5;241m=\u001b[39m timeout\n\u001b[1;32m    781\u001b[0m __headers \u001b[38;5;241m=\u001b[39m {\u001b[38;5;124m\"\u001b[39m\u001b[38;5;124maccept\u001b[39m\u001b[38;5;124m\"\u001b[39m: \u001b[38;5;124m\"\u001b[39m\u001b[38;5;124mapplication/json\u001b[39m\u001b[38;5;124m\"\u001b[39m}\n\u001b[0;32m--> 782\u001b[0m \u001b[38;5;28;01mreturn\u001b[39;00m \u001b[38;5;28;43mself\u001b[39;49m\u001b[38;5;241;43m.\u001b[39;49m\u001b[43mperform_request\u001b[49m\u001b[43m(\u001b[49m\u001b[43m  \u001b[49m\u001b[38;5;66;43;03m# type: ignore[return-value]\u001b[39;49;00m\n\u001b[1;32m    783\u001b[0m \u001b[43m    \u001b[49m\u001b[38;5;124;43m\"\u001b[39;49m\u001b[38;5;124;43mDELETE\u001b[39;49m\u001b[38;5;124;43m\"\u001b[39;49m\u001b[43m,\u001b[49m\n\u001b[1;32m    784\u001b[0m \u001b[43m    \u001b[49m\u001b[43m__path\u001b[49m\u001b[43m,\u001b[49m\n\u001b[1;32m    785\u001b[0m \u001b[43m    \u001b[49m\u001b[43mparams\u001b[49m\u001b[38;5;241;43m=\u001b[39;49m\u001b[43m__query\u001b[49m\u001b[43m,\u001b[49m\n\u001b[1;32m    786\u001b[0m \u001b[43m    \u001b[49m\u001b[43mheaders\u001b[49m\u001b[38;5;241;43m=\u001b[39;49m\u001b[43m__headers\u001b[49m\u001b[43m,\u001b[49m\n\u001b[1;32m    787\u001b[0m \u001b[43m    \u001b[49m\u001b[43mendpoint_id\u001b[49m\u001b[38;5;241;43m=\u001b[39;49m\u001b[38;5;124;43m\"\u001b[39;49m\u001b[38;5;124;43mindices.delete\u001b[39;49m\u001b[38;5;124;43m\"\u001b[39;49m\u001b[43m,\u001b[49m\n\u001b[1;32m    788\u001b[0m \u001b[43m    \u001b[49m\u001b[43mpath_parts\u001b[49m\u001b[38;5;241;43m=\u001b[39;49m\u001b[43m__path_parts\u001b[49m\u001b[43m,\u001b[49m\n\u001b[1;32m    789\u001b[0m \u001b[43m\u001b[49m\u001b[43m)\u001b[49m\n",
      "File \u001b[0;32m/usr/local/lib/python3.10/dist-packages/elasticsearch/_sync/client/_base.py:423\u001b[0m, in \u001b[0;36mNamespacedClient.perform_request\u001b[0;34m(self, method, path, params, headers, body, endpoint_id, path_parts)\u001b[0m\n\u001b[1;32m    410\u001b[0m \u001b[38;5;28;01mdef\u001b[39;00m \u001b[38;5;21mperform_request\u001b[39m(\n\u001b[1;32m    411\u001b[0m     \u001b[38;5;28mself\u001b[39m,\n\u001b[1;32m    412\u001b[0m     method: \u001b[38;5;28mstr\u001b[39m,\n\u001b[0;32m   (...)\u001b[0m\n\u001b[1;32m    421\u001b[0m     \u001b[38;5;66;03m# Use the internal clients .perform_request() implementation\u001b[39;00m\n\u001b[1;32m    422\u001b[0m     \u001b[38;5;66;03m# so we take advantage of their transport options.\u001b[39;00m\n\u001b[0;32m--> 423\u001b[0m     \u001b[38;5;28;01mreturn\u001b[39;00m \u001b[38;5;28;43mself\u001b[39;49m\u001b[38;5;241;43m.\u001b[39;49m\u001b[43m_client\u001b[49m\u001b[38;5;241;43m.\u001b[39;49m\u001b[43mperform_request\u001b[49m\u001b[43m(\u001b[49m\n\u001b[1;32m    424\u001b[0m \u001b[43m        \u001b[49m\u001b[43mmethod\u001b[49m\u001b[43m,\u001b[49m\n\u001b[1;32m    425\u001b[0m \u001b[43m        \u001b[49m\u001b[43mpath\u001b[49m\u001b[43m,\u001b[49m\n\u001b[1;32m    426\u001b[0m \u001b[43m        \u001b[49m\u001b[43mparams\u001b[49m\u001b[38;5;241;43m=\u001b[39;49m\u001b[43mparams\u001b[49m\u001b[43m,\u001b[49m\n\u001b[1;32m    427\u001b[0m \u001b[43m        \u001b[49m\u001b[43mheaders\u001b[49m\u001b[38;5;241;43m=\u001b[39;49m\u001b[43mheaders\u001b[49m\u001b[43m,\u001b[49m\n\u001b[1;32m    428\u001b[0m \u001b[43m        \u001b[49m\u001b[43mbody\u001b[49m\u001b[38;5;241;43m=\u001b[39;49m\u001b[43mbody\u001b[49m\u001b[43m,\u001b[49m\n\u001b[1;32m    429\u001b[0m \u001b[43m        \u001b[49m\u001b[43mendpoint_id\u001b[49m\u001b[38;5;241;43m=\u001b[39;49m\u001b[43mendpoint_id\u001b[49m\u001b[43m,\u001b[49m\n\u001b[1;32m    430\u001b[0m \u001b[43m        \u001b[49m\u001b[43mpath_parts\u001b[49m\u001b[38;5;241;43m=\u001b[39;49m\u001b[43mpath_parts\u001b[49m\u001b[43m,\u001b[49m\n\u001b[1;32m    431\u001b[0m \u001b[43m    \u001b[49m\u001b[43m)\u001b[49m\n",
      "File \u001b[0;32m/usr/local/lib/python3.10/dist-packages/elasticsearch/_sync/client/_base.py:271\u001b[0m, in \u001b[0;36mBaseClient.perform_request\u001b[0;34m(self, method, path, params, headers, body, endpoint_id, path_parts)\u001b[0m\n\u001b[1;32m    255\u001b[0m \u001b[38;5;28;01mdef\u001b[39;00m \u001b[38;5;21mperform_request\u001b[39m(\n\u001b[1;32m    256\u001b[0m     \u001b[38;5;28mself\u001b[39m,\n\u001b[1;32m    257\u001b[0m     method: \u001b[38;5;28mstr\u001b[39m,\n\u001b[0;32m   (...)\u001b[0m\n\u001b[1;32m    264\u001b[0m     path_parts: Optional[Mapping[\u001b[38;5;28mstr\u001b[39m, Any]] \u001b[38;5;241m=\u001b[39m \u001b[38;5;28;01mNone\u001b[39;00m,\n\u001b[1;32m    265\u001b[0m ) \u001b[38;5;241m-\u001b[39m\u001b[38;5;241m>\u001b[39m ApiResponse[Any]:\n\u001b[1;32m    266\u001b[0m     \u001b[38;5;28;01mwith\u001b[39;00m \u001b[38;5;28mself\u001b[39m\u001b[38;5;241m.\u001b[39m_otel\u001b[38;5;241m.\u001b[39mspan(\n\u001b[1;32m    267\u001b[0m         method,\n\u001b[1;32m    268\u001b[0m         endpoint_id\u001b[38;5;241m=\u001b[39mendpoint_id,\n\u001b[1;32m    269\u001b[0m         path_parts\u001b[38;5;241m=\u001b[39mpath_parts \u001b[38;5;129;01mor\u001b[39;00m {},\n\u001b[1;32m    270\u001b[0m     ) \u001b[38;5;28;01mas\u001b[39;00m otel_span:\n\u001b[0;32m--> 271\u001b[0m         response \u001b[38;5;241m=\u001b[39m \u001b[38;5;28;43mself\u001b[39;49m\u001b[38;5;241;43m.\u001b[39;49m\u001b[43m_perform_request\u001b[49m\u001b[43m(\u001b[49m\n\u001b[1;32m    272\u001b[0m \u001b[43m            \u001b[49m\u001b[43mmethod\u001b[49m\u001b[43m,\u001b[49m\n\u001b[1;32m    273\u001b[0m \u001b[43m            \u001b[49m\u001b[43mpath\u001b[49m\u001b[43m,\u001b[49m\n\u001b[1;32m    274\u001b[0m \u001b[43m            \u001b[49m\u001b[43mparams\u001b[49m\u001b[38;5;241;43m=\u001b[39;49m\u001b[43mparams\u001b[49m\u001b[43m,\u001b[49m\n\u001b[1;32m    275\u001b[0m \u001b[43m            \u001b[49m\u001b[43mheaders\u001b[49m\u001b[38;5;241;43m=\u001b[39;49m\u001b[43mheaders\u001b[49m\u001b[43m,\u001b[49m\n\u001b[1;32m    276\u001b[0m \u001b[43m            \u001b[49m\u001b[43mbody\u001b[49m\u001b[38;5;241;43m=\u001b[39;49m\u001b[43mbody\u001b[49m\u001b[43m,\u001b[49m\n\u001b[1;32m    277\u001b[0m \u001b[43m            \u001b[49m\u001b[43motel_span\u001b[49m\u001b[38;5;241;43m=\u001b[39;49m\u001b[43motel_span\u001b[49m\u001b[43m,\u001b[49m\n\u001b[1;32m    278\u001b[0m \u001b[43m        \u001b[49m\u001b[43m)\u001b[49m\n\u001b[1;32m    279\u001b[0m         otel_span\u001b[38;5;241m.\u001b[39mset_elastic_cloud_metadata(response\u001b[38;5;241m.\u001b[39mmeta\u001b[38;5;241m.\u001b[39mheaders)\n\u001b[1;32m    280\u001b[0m         \u001b[38;5;28;01mreturn\u001b[39;00m response\n",
      "File \u001b[0;32m/usr/local/lib/python3.10/dist-packages/elasticsearch/_sync/client/_base.py:316\u001b[0m, in \u001b[0;36mBaseClient._perform_request\u001b[0;34m(self, method, path, params, headers, body, otel_span)\u001b[0m\n\u001b[1;32m    313\u001b[0m \u001b[38;5;28;01melse\u001b[39;00m:\n\u001b[1;32m    314\u001b[0m     target \u001b[38;5;241m=\u001b[39m path\n\u001b[0;32m--> 316\u001b[0m meta, resp_body \u001b[38;5;241m=\u001b[39m \u001b[38;5;28;43mself\u001b[39;49m\u001b[38;5;241;43m.\u001b[39;49m\u001b[43mtransport\u001b[49m\u001b[38;5;241;43m.\u001b[39;49m\u001b[43mperform_request\u001b[49m\u001b[43m(\u001b[49m\n\u001b[1;32m    317\u001b[0m \u001b[43m    \u001b[49m\u001b[43mmethod\u001b[49m\u001b[43m,\u001b[49m\n\u001b[1;32m    318\u001b[0m \u001b[43m    \u001b[49m\u001b[43mtarget\u001b[49m\u001b[43m,\u001b[49m\n\u001b[1;32m    319\u001b[0m \u001b[43m    \u001b[49m\u001b[43mheaders\u001b[49m\u001b[38;5;241;43m=\u001b[39;49m\u001b[43mrequest_headers\u001b[49m\u001b[43m,\u001b[49m\n\u001b[1;32m    320\u001b[0m \u001b[43m    \u001b[49m\u001b[43mbody\u001b[49m\u001b[38;5;241;43m=\u001b[39;49m\u001b[43mbody\u001b[49m\u001b[43m,\u001b[49m\n\u001b[1;32m    321\u001b[0m \u001b[43m    \u001b[49m\u001b[43mrequest_timeout\u001b[49m\u001b[38;5;241;43m=\u001b[39;49m\u001b[38;5;28;43mself\u001b[39;49m\u001b[38;5;241;43m.\u001b[39;49m\u001b[43m_request_timeout\u001b[49m\u001b[43m,\u001b[49m\n\u001b[1;32m    322\u001b[0m \u001b[43m    \u001b[49m\u001b[43mmax_retries\u001b[49m\u001b[38;5;241;43m=\u001b[39;49m\u001b[38;5;28;43mself\u001b[39;49m\u001b[38;5;241;43m.\u001b[39;49m\u001b[43m_max_retries\u001b[49m\u001b[43m,\u001b[49m\n\u001b[1;32m    323\u001b[0m \u001b[43m    \u001b[49m\u001b[43mretry_on_status\u001b[49m\u001b[38;5;241;43m=\u001b[39;49m\u001b[38;5;28;43mself\u001b[39;49m\u001b[38;5;241;43m.\u001b[39;49m\u001b[43m_retry_on_status\u001b[49m\u001b[43m,\u001b[49m\n\u001b[1;32m    324\u001b[0m \u001b[43m    \u001b[49m\u001b[43mretry_on_timeout\u001b[49m\u001b[38;5;241;43m=\u001b[39;49m\u001b[38;5;28;43mself\u001b[39;49m\u001b[38;5;241;43m.\u001b[39;49m\u001b[43m_retry_on_timeout\u001b[49m\u001b[43m,\u001b[49m\n\u001b[1;32m    325\u001b[0m \u001b[43m    \u001b[49m\u001b[43mclient_meta\u001b[49m\u001b[38;5;241;43m=\u001b[39;49m\u001b[38;5;28;43mself\u001b[39;49m\u001b[38;5;241;43m.\u001b[39;49m\u001b[43m_client_meta\u001b[49m\u001b[43m,\u001b[49m\n\u001b[1;32m    326\u001b[0m \u001b[43m    \u001b[49m\u001b[43motel_span\u001b[49m\u001b[38;5;241;43m=\u001b[39;49m\u001b[43motel_span\u001b[49m\u001b[43m,\u001b[49m\n\u001b[1;32m    327\u001b[0m \u001b[43m\u001b[49m\u001b[43m)\u001b[49m\n\u001b[1;32m    329\u001b[0m \u001b[38;5;66;03m# HEAD with a 404 is returned as a normal response\u001b[39;00m\n\u001b[1;32m    330\u001b[0m \u001b[38;5;66;03m# since this is used as an 'exists' functionality.\u001b[39;00m\n\u001b[1;32m    331\u001b[0m \u001b[38;5;28;01mif\u001b[39;00m \u001b[38;5;129;01mnot\u001b[39;00m (method \u001b[38;5;241m==\u001b[39m \u001b[38;5;124m\"\u001b[39m\u001b[38;5;124mHEAD\u001b[39m\u001b[38;5;124m\"\u001b[39m \u001b[38;5;129;01mand\u001b[39;00m meta\u001b[38;5;241m.\u001b[39mstatus \u001b[38;5;241m==\u001b[39m \u001b[38;5;241m404\u001b[39m) \u001b[38;5;129;01mand\u001b[39;00m (\n\u001b[1;32m    332\u001b[0m     \u001b[38;5;129;01mnot\u001b[39;00m \u001b[38;5;241m200\u001b[39m \u001b[38;5;241m<\u001b[39m\u001b[38;5;241m=\u001b[39m meta\u001b[38;5;241m.\u001b[39mstatus \u001b[38;5;241m<\u001b[39m \u001b[38;5;241m299\u001b[39m\n\u001b[1;32m    333\u001b[0m     \u001b[38;5;129;01mand\u001b[39;00m (\n\u001b[0;32m   (...)\u001b[0m\n\u001b[1;32m    337\u001b[0m     )\n\u001b[1;32m    338\u001b[0m ):\n",
      "File \u001b[0;32m/usr/local/lib/python3.10/dist-packages/elastic_transport/_transport.py:342\u001b[0m, in \u001b[0;36mTransport.perform_request\u001b[0;34m(self, method, target, body, headers, max_retries, retry_on_status, retry_on_timeout, request_timeout, client_meta, otel_span)\u001b[0m\n\u001b[1;32m    340\u001b[0m \u001b[38;5;28;01mtry\u001b[39;00m:\n\u001b[1;32m    341\u001b[0m     otel_span\u001b[38;5;241m.\u001b[39mset_node_metadata(node\u001b[38;5;241m.\u001b[39mhost, node\u001b[38;5;241m.\u001b[39mport, node\u001b[38;5;241m.\u001b[39mbase_url, target)\n\u001b[0;32m--> 342\u001b[0m     resp \u001b[38;5;241m=\u001b[39m \u001b[43mnode\u001b[49m\u001b[38;5;241;43m.\u001b[39;49m\u001b[43mperform_request\u001b[49m\u001b[43m(\u001b[49m\n\u001b[1;32m    343\u001b[0m \u001b[43m        \u001b[49m\u001b[43mmethod\u001b[49m\u001b[43m,\u001b[49m\n\u001b[1;32m    344\u001b[0m \u001b[43m        \u001b[49m\u001b[43mtarget\u001b[49m\u001b[43m,\u001b[49m\n\u001b[1;32m    345\u001b[0m \u001b[43m        \u001b[49m\u001b[43mbody\u001b[49m\u001b[38;5;241;43m=\u001b[39;49m\u001b[43mrequest_body\u001b[49m\u001b[43m,\u001b[49m\n\u001b[1;32m    346\u001b[0m \u001b[43m        \u001b[49m\u001b[43mheaders\u001b[49m\u001b[38;5;241;43m=\u001b[39;49m\u001b[43mrequest_headers\u001b[49m\u001b[43m,\u001b[49m\n\u001b[1;32m    347\u001b[0m \u001b[43m        \u001b[49m\u001b[43mrequest_timeout\u001b[49m\u001b[38;5;241;43m=\u001b[39;49m\u001b[43mrequest_timeout\u001b[49m\u001b[43m,\u001b[49m\n\u001b[1;32m    348\u001b[0m \u001b[43m    \u001b[49m\u001b[43m)\u001b[49m\n\u001b[1;32m    349\u001b[0m     _logger\u001b[38;5;241m.\u001b[39minfo(\n\u001b[1;32m    350\u001b[0m         \u001b[38;5;124m\"\u001b[39m\u001b[38;5;132;01m%s\u001b[39;00m\u001b[38;5;124m \u001b[39m\u001b[38;5;132;01m%s\u001b[39;00m\u001b[38;5;132;01m%s\u001b[39;00m\u001b[38;5;124m [status:\u001b[39m\u001b[38;5;132;01m%s\u001b[39;00m\u001b[38;5;124m duration:\u001b[39m\u001b[38;5;132;01m%.3f\u001b[39;00m\u001b[38;5;124ms]\u001b[39m\u001b[38;5;124m\"\u001b[39m\n\u001b[1;32m    351\u001b[0m         \u001b[38;5;241m%\u001b[39m (\n\u001b[0;32m   (...)\u001b[0m\n\u001b[1;32m    357\u001b[0m         )\n\u001b[1;32m    358\u001b[0m     )\n\u001b[1;32m    360\u001b[0m     \u001b[38;5;28;01mif\u001b[39;00m method \u001b[38;5;241m!=\u001b[39m \u001b[38;5;124m\"\u001b[39m\u001b[38;5;124mHEAD\u001b[39m\u001b[38;5;124m\"\u001b[39m:\n",
      "File \u001b[0;32m/usr/local/lib/python3.10/dist-packages/elastic_transport/_node/_http_urllib3.py:202\u001b[0m, in \u001b[0;36mUrllib3HttpNode.perform_request\u001b[0;34m(self, method, target, body, headers, request_timeout)\u001b[0m\n\u001b[1;32m    194\u001b[0m         err \u001b[38;5;241m=\u001b[39m \u001b[38;5;167;01mConnectionError\u001b[39;00m(\u001b[38;5;28mstr\u001b[39m(e), errors\u001b[38;5;241m=\u001b[39m(e,))\n\u001b[1;32m    195\u001b[0m     \u001b[38;5;28mself\u001b[39m\u001b[38;5;241m.\u001b[39m_log_request(\n\u001b[1;32m    196\u001b[0m         method\u001b[38;5;241m=\u001b[39mmethod,\n\u001b[1;32m    197\u001b[0m         target\u001b[38;5;241m=\u001b[39mtarget,\n\u001b[0;32m   (...)\u001b[0m\n\u001b[1;32m    200\u001b[0m         exception\u001b[38;5;241m=\u001b[39merr,\n\u001b[1;32m    201\u001b[0m     )\n\u001b[0;32m--> 202\u001b[0m     \u001b[38;5;28;01mraise\u001b[39;00m err \u001b[38;5;28;01mfrom\u001b[39;00m \u001b[38;5;21;01me\u001b[39;00m\n\u001b[1;32m    204\u001b[0m meta \u001b[38;5;241m=\u001b[39m ApiResponseMeta(\n\u001b[1;32m    205\u001b[0m     node\u001b[38;5;241m=\u001b[39m\u001b[38;5;28mself\u001b[39m\u001b[38;5;241m.\u001b[39mconfig,\n\u001b[1;32m    206\u001b[0m     duration\u001b[38;5;241m=\u001b[39mduration,\n\u001b[0;32m   (...)\u001b[0m\n\u001b[1;32m    209\u001b[0m     headers\u001b[38;5;241m=\u001b[39mresponse_headers,\n\u001b[1;32m    210\u001b[0m )\n\u001b[1;32m    211\u001b[0m \u001b[38;5;28mself\u001b[39m\u001b[38;5;241m.\u001b[39m_log_request(\n\u001b[1;32m    212\u001b[0m     method\u001b[38;5;241m=\u001b[39mmethod,\n\u001b[1;32m    213\u001b[0m     target\u001b[38;5;241m=\u001b[39mtarget,\n\u001b[0;32m   (...)\u001b[0m\n\u001b[1;32m    217\u001b[0m     response\u001b[38;5;241m=\u001b[39mdata,\n\u001b[1;32m    218\u001b[0m )\n",
      "\u001b[0;31mConnectionError\u001b[0m: Connection error caused by: ConnectionError(Connection error caused by: NewConnectionError(<urllib3.connection.HTTPConnection object at 0x7fad655d3d30>: Failed to establish a new connection: [Errno 111] Connection refused))"
     ]
    }
   ],
   "source": [
    "from elasticsearch import Elasticsearch\n",
    "es_client = Elasticsearch('http://localhost:9200') \n",
    "\n",
    "# es_client.info()\n",
    "index_settings = {\n",
    "    \"settings\": {\n",
    "        \"number_of_shards\": 1,\n",
    "        \"number_of_replicas\": 0\n",
    "    },\n",
    "    \"mappings\": {\n",
    "        \"properties\": {\n",
    "            \"law_title\": {\"type\": \"keyword\"},                \n",
    "            \"law_number\": {\"type\": \"keyword\"},               \n",
    "            \"chapter_title\": {\"type\": \"keyword\"},            \n",
    "            \"article_number\": {\"type\": \"keyword\"},            \n",
    "            \"title\": {\"type\": \"text\"},                        \n",
    "            \"content\": {\"type\": \"text\"},   \n",
    "            \"id\": {\"type\": \"text\"},   \n",
    "            \"title_vector\": {                                 \n",
    "                \"type\": \"dense_vector\",\n",
    "                \"dims\": 768,                                 \n",
    "                \"index\": True,\n",
    "                \"similarity\": \"cosine\"\n",
    "            },\n",
    "            \"content_vector\": {                                 \n",
    "                \"type\": \"dense_vector\",\n",
    "                \"dims\": 768,                                 \n",
    "                \"index\": True,\n",
    "                \"similarity\": \"cosine\"\n",
    "            },\n",
    "            \"title_content_vector\": {                                 \n",
    "                \"type\": \"dense_vector\",\n",
    "                \"dims\": 768,                                 \n",
    "                \"index\": True,\n",
    "                \"similarity\": \"cosine\"\n",
    "            }                \n",
    "        }\n",
    "    }\n",
    "}\n",
    "\n",
    "index_name = \"legal_documents_ids\"\n",
    "\n",
    "es_client.indices.delete(index=index_name, ignore_unavailable=True)\n",
    "es_client.indices.create(index=index_name, body=index_settings)"
   ]
  },
  {
   "cell_type": "code",
   "execution_count": 46,
   "id": "91721a90-96d6-4ef9-8baf-a3d42c4b03e1",
   "metadata": {},
   "outputs": [],
   "source": [
    "from tqdm.auto import tqdm"
   ]
  },
  {
   "cell_type": "code",
   "execution_count": 47,
   "id": "ad8a4ba1-35d8-4650-9267-86afabef7386",
   "metadata": {},
   "outputs": [
    {
     "data": {
      "application/vnd.jupyter.widget-view+json": {
       "model_id": "1076e0d6c1ba407f8b3969a75470494f",
       "version_major": 2,
       "version_minor": 0
      },
      "text/plain": [
       "  0%|          | 0/314 [00:00<?, ?it/s]"
      ]
     },
     "metadata": {},
     "output_type": "display_data"
    }
   ],
   "source": [
    "for doc in tqdm(documents):\n",
    "    title = doc['title']\n",
    "    content = doc['content']\n",
    "    qt = title + ' ' + content\n",
    "\n",
    "    doc['title_vector'] = model.encode(title)\n",
    "    doc['content_vector'] = model.encode(content)\n",
    "    doc['title_content_vector'] = model.encode(qt)"
   ]
  },
  {
   "cell_type": "code",
   "execution_count": 48,
   "id": "d5b27abe-a0c2-426c-9780-3b1c0534dbe6",
   "metadata": {},
   "outputs": [
    {
     "data": {
      "application/vnd.jupyter.widget-view+json": {
       "model_id": "de29ae076b5b44e5a61e5d5bf5b14caf",
       "version_major": 2,
       "version_minor": 0
      },
      "text/plain": [
       "  0%|          | 0/314 [00:00<?, ?it/s]"
      ]
     },
     "metadata": {},
     "output_type": "display_data"
    }
   ],
   "source": [
    "for doc in tqdm(documents):\n",
    "    es_client.index(index=index_name, document=doc)"
   ]
  },
  {
   "cell_type": "code",
   "execution_count": 51,
   "id": "82a78984-1440-4195-9513-106109013fce",
   "metadata": {},
   "outputs": [],
   "source": [
    "query = 'Khi nào thì người điều khiển được phép lùi xe?'"
   ]
  },
  {
   "cell_type": "code",
   "execution_count": 52,
   "id": "8a5ac3e8-8d75-48f6-8d3c-0b25d227d1f2",
   "metadata": {},
   "outputs": [],
   "source": [
    "v_q = model.encode(query)"
   ]
  },
  {
   "cell_type": "code",
   "execution_count": 56,
   "id": "2339a71b",
   "metadata": {},
   "outputs": [
    {
     "data": {
      "text/plain": [
       "{'law_title': 'Luật Giao Thông Đường Bộ',\n",
       " 'law_number': 'Luật số: 23/2008/QH12',\n",
       " 'chapter_title': 'CHƯƠNG VIII',\n",
       " 'article_number': 'Điều 89',\n",
       " 'title': 'Quy định chi tiết và hướng dẫn thi hành',\n",
       " 'content': 'Chính phủ và cơ quan có thẩm quyền quy định chi tiết và hướng dẫn thi hành các điều, khoản được giao trong Luật; hướng dẫn những nội dung cần thiết khác của Luật này để đáp ứng yêu cầu quản lý nhà nước. Luật này đã được Quốc hội nước Cộng hòa xã hội chủ nghĩa Việt Nam khóa XII, kỳ họp thứ 4 thông qua ngày 13 tháng 11 năm 2008. CHỦ TỊCH QUỐC HỘI Nguyễn Phú Trọng ',\n",
       " 'id': '2bb7dafa',\n",
       " 'title_vector': array([-7.99200905e-04,  5.17771719e-03,  1.00677451e-02,  4.25530188e-02,\n",
       "        -7.46648088e-02, -1.46973412e-02,  7.89543847e-04, -3.56543213e-02,\n",
       "        -1.54640134e-02, -1.49523607e-02, -3.37247029e-02, -9.68723965e-04,\n",
       "        -4.36103866e-02,  1.64200701e-02, -8.93867016e-03,  1.31670712e-02,\n",
       "        -5.95484897e-02,  7.83475041e-02, -5.42611291e-04, -6.18260028e-03,\n",
       "        -1.90626848e-02,  4.25487161e-02, -6.20836355e-02, -1.03500756e-02,\n",
       "         9.16473195e-02, -5.70987687e-02,  9.24589038e-02,  4.07592580e-02,\n",
       "        -3.52106057e-02, -1.29524264e-02, -9.75014002e-04, -1.60162579e-02,\n",
       "         4.88937311e-02,  3.21598761e-02,  1.74727291e-02,  5.56594459e-03,\n",
       "         2.28027441e-02,  4.24954528e-03,  4.23315987e-02,  6.27977327e-02,\n",
       "        -5.86111024e-02,  2.65725162e-02, -5.48686162e-02,  1.11962920e-02,\n",
       "         3.04345768e-02,  6.68245368e-04,  6.97317719e-02, -2.32255179e-03,\n",
       "         5.71099296e-03, -2.29123677e-03, -1.77464336e-02, -4.21281941e-02,\n",
       "        -5.17401882e-02,  6.32159710e-02,  3.66946161e-02, -1.03988871e-02,\n",
       "        -4.83295918e-02, -2.82975361e-02, -3.01451404e-02,  4.13255878e-02,\n",
       "         2.95012314e-02,  3.45306983e-03, -6.04443345e-03, -2.63263229e-02,\n",
       "        -1.25088235e-02,  2.44883411e-02,  2.14253385e-02, -6.18879013e-02,\n",
       "         1.09821523e-03,  2.48702466e-02, -4.38258685e-02,  1.87712163e-02,\n",
       "         2.59197727e-02,  1.46634104e-02,  4.40710410e-03, -1.61514059e-02,\n",
       "         1.34520810e-02, -2.52504461e-02, -3.89906429e-02, -5.41248024e-02,\n",
       "         3.70091945e-02,  2.75809858e-02,  5.27794883e-02,  9.01933834e-02,\n",
       "        -7.80483708e-02, -2.84194201e-02, -1.50145134e-02,  1.95538122e-02,\n",
       "         1.15175648e-02, -1.34953379e-03, -5.45349997e-03,  2.96565462e-02,\n",
       "        -4.10983153e-02, -7.67342653e-03,  6.59958199e-02, -3.33574750e-02,\n",
       "        -1.62485261e-02,  2.48942617e-02,  4.27577505e-03, -2.16743667e-02,\n",
       "        -3.19994846e-03,  2.57928967e-02, -2.94892658e-02, -8.50883424e-02,\n",
       "        -6.65051341e-02, -1.37617840e-02,  2.28102617e-02, -5.05643897e-02,\n",
       "        -1.06875654e-02,  5.93524240e-03, -5.99253550e-02, -3.59498407e-03,\n",
       "         5.12503600e-03,  1.28577705e-02, -7.10202977e-02, -2.19539087e-02,\n",
       "        -1.51601434e-02,  4.71914597e-02,  1.69136357e-02,  1.99830420e-02,\n",
       "         3.47178206e-02, -7.23059289e-03,  4.54459563e-02,  1.21707320e-02,\n",
       "         1.39026092e-02, -6.10422194e-02,  7.65736625e-02, -3.53846997e-02,\n",
       "         1.89077538e-02,  2.95249000e-02, -1.67965218e-02, -3.03577967e-02,\n",
       "         5.86646516e-03,  5.30990288e-02,  1.92387924e-02,  2.04886515e-02,\n",
       "         1.93849346e-03, -4.96928692e-02,  4.82590782e-04, -5.52081643e-03,\n",
       "         5.17829368e-03,  5.08030057e-02,  1.87670514e-02, -5.55193610e-02,\n",
       "         2.56587751e-02, -1.65207069e-02, -3.73393344e-03,  1.45985195e-02,\n",
       "         2.76329983e-02, -3.88141796e-02, -2.54016537e-02,  1.12814559e-02,\n",
       "        -1.52121254e-04,  8.28891620e-02, -8.03245138e-03, -1.26919234e-02,\n",
       "        -7.61573091e-02, -3.02663017e-02,  4.07832861e-02,  7.86875486e-02,\n",
       "         1.24865491e-02, -3.08761150e-02, -2.63207834e-02, -7.59676937e-03,\n",
       "        -1.86737180e-02,  5.56517951e-02, -5.05775353e-03,  3.63122113e-02,\n",
       "        -2.36023925e-02,  1.87863354e-02,  6.84052706e-02,  4.90779802e-03,\n",
       "        -4.53395657e-02, -6.93468982e-03,  1.49596063e-02, -4.09566937e-03,\n",
       "        -3.71847823e-02, -4.32709679e-02,  3.94860469e-02,  8.32614023e-03,\n",
       "         6.48497045e-02, -3.98086943e-03, -9.44839884e-03,  5.88645227e-03,\n",
       "         1.03266407e-02,  3.69908474e-02, -3.78843695e-02, -4.49751643e-03,\n",
       "        -1.01189874e-02, -1.35902846e-02, -3.63030173e-02,  7.95263052e-03,\n",
       "        -1.17451705e-01,  3.08999345e-02, -1.85269862e-02,  2.57607829e-02,\n",
       "        -6.43953234e-02,  2.85375188e-03, -3.10725030e-02,  8.48401338e-03,\n",
       "         1.97052453e-02, -7.69177219e-03,  4.45016474e-02,  4.00375947e-03,\n",
       "         8.44023675e-02, -3.05177551e-02,  1.50984414e-02, -5.76025769e-02,\n",
       "        -1.89759005e-02, -1.09298790e-05, -5.76100452e-03, -2.33642291e-02,\n",
       "         8.03403035e-02, -5.50916279e-03,  6.05837144e-02, -2.53399331e-02,\n",
       "        -1.91088431e-02,  1.03000700e-02,  1.91116575e-02, -5.48160188e-02,\n",
       "        -5.19193360e-04,  9.77100804e-03,  2.94508096e-02,  2.81161070e-02,\n",
       "         1.79162174e-02,  2.71188915e-02,  6.82258978e-02,  3.81626040e-02,\n",
       "         1.47258798e-02,  4.08956744e-02,  1.54964924e-02,  4.80260653e-03,\n",
       "        -5.65160923e-02,  5.65094757e-04,  3.55927204e-03, -1.62139330e-02,\n",
       "        -1.68667734e-02, -1.12244124e-02,  1.61363631e-02,  1.79383457e-02,\n",
       "        -1.56543218e-02, -5.44701442e-02, -2.57926024e-02, -4.80383076e-02,\n",
       "        -8.98910314e-03, -2.53795553e-02, -2.44811997e-02,  3.06618568e-02,\n",
       "        -3.85288373e-02,  4.24247831e-02, -1.76046994e-02, -9.21417214e-03,\n",
       "        -1.40365390e-02,  4.50565629e-02, -2.68019922e-02,  1.51434699e-02,\n",
       "        -1.27113173e-02, -1.55041581e-02,  2.23988034e-02, -1.35780480e-02,\n",
       "        -4.65971678e-02, -1.09588960e-02,  2.66303383e-02, -2.30068825e-02,\n",
       "        -3.69027443e-02, -3.73922735e-02, -9.32285190e-03, -2.99818497e-02,\n",
       "        -3.43806222e-02,  8.16014409e-03, -5.00642601e-03, -4.25172187e-02,\n",
       "         3.28629948e-02, -1.12951342e-02, -9.07306559e-03, -6.32792711e-02,\n",
       "         1.71354897e-02, -4.50143330e-02,  7.31443912e-02, -1.12156561e-02,\n",
       "        -6.28545806e-02,  5.17282635e-02, -9.07401294e-02, -1.57917831e-02,\n",
       "         1.13474140e-02, -2.59817950e-02,  1.75376702e-02, -3.13707092e-03,\n",
       "        -3.07262270e-03,  2.89273430e-02, -3.69629310e-03,  2.24602856e-02,\n",
       "         2.08375212e-02, -6.75178319e-02, -3.31209078e-02, -5.37209176e-02,\n",
       "        -2.86235958e-02, -3.35693033e-03, -6.01054281e-02, -7.59157687e-02,\n",
       "        -3.84251541e-03,  3.60193849e-02, -3.03720571e-02, -3.58121321e-02,\n",
       "        -2.71944422e-03, -3.86333815e-03, -1.34250000e-02, -3.14007886e-02,\n",
       "         3.06325611e-02, -9.15106237e-02,  2.80011948e-02,  5.25018992e-03,\n",
       "        -2.77287625e-02,  1.28774401e-02, -3.26943621e-02,  4.01577055e-02,\n",
       "         2.17909105e-02,  2.27421448e-02, -9.92281269e-03, -6.97675869e-02,\n",
       "        -2.42743976e-02, -1.35908239e-02, -1.99243277e-02,  3.34380493e-02,\n",
       "        -6.44427687e-02, -3.48713286e-02,  9.76951886e-03,  5.42422459e-02,\n",
       "         1.93575788e-02,  1.37028946e-02,  2.78487634e-02,  4.60050218e-02,\n",
       "        -2.37163566e-02,  8.14104751e-02, -6.87297136e-02, -3.87259237e-02,\n",
       "        -2.61787362e-02, -1.59158111e-02,  2.80193575e-02,  3.23333517e-02,\n",
       "         1.15998806e-02,  2.96050142e-02, -1.06080575e-02,  2.59138886e-02,\n",
       "         1.38013419e-02, -3.59672606e-02,  2.23851595e-02, -1.38780456e-02,\n",
       "         1.88806951e-02, -2.92733181e-02,  1.07421512e-02, -1.86814275e-02,\n",
       "         2.71145464e-03, -2.99437204e-03, -3.25609669e-02,  5.85873565e-03,\n",
       "        -3.83051336e-02,  4.82989624e-02,  6.48666918e-03, -8.17963257e-02,\n",
       "        -1.46012139e-02,  1.83722586e-03,  2.81283502e-02,  2.18211152e-02,\n",
       "         6.68226602e-03,  7.02784676e-03,  4.39079255e-02,  9.31758527e-03,\n",
       "         1.35591151e-02,  5.60312197e-02, -4.93075810e-02,  3.75833549e-02,\n",
       "         1.51468543e-02, -3.87366116e-03,  2.48926114e-02, -3.25866789e-02,\n",
       "        -5.52204326e-02, -5.68470433e-02, -6.38207048e-03,  5.29866219e-02,\n",
       "         2.55414210e-02, -6.95564970e-03,  3.82741503e-02, -6.18592277e-02,\n",
       "         3.29084322e-02, -2.61046030e-02, -5.06432578e-02, -6.49308562e-02,\n",
       "        -4.12996300e-02, -5.29389502e-03, -1.70745642e-03, -7.56893959e-03,\n",
       "        -1.81213506e-02,  3.74373384e-02,  2.83479318e-02, -4.74711135e-02,\n",
       "         1.28882797e-02,  2.43542120e-02,  1.23507529e-02, -2.82042120e-02,\n",
       "         2.57224496e-02, -1.39975045e-02,  2.51722801e-02,  2.33916361e-02,\n",
       "        -5.92095964e-02, -2.06249077e-02, -7.06462935e-02,  8.76812730e-03,\n",
       "         5.16861379e-02,  3.33511904e-02,  4.02835719e-02,  2.99008954e-02,\n",
       "         3.01058143e-02,  5.06981574e-02,  1.88440625e-02, -1.11736485e-03,\n",
       "        -4.46595326e-02, -1.70533883e-03, -4.69703833e-03,  2.10684654e-03,\n",
       "         6.07098732e-03,  2.93485932e-02,  2.58834884e-02,  1.85458623e-02,\n",
       "         2.17388142e-02, -1.07877813e-02,  5.29849380e-02,  1.10226346e-03,\n",
       "         1.80842448e-02,  1.36635937e-02,  4.56002802e-02, -5.38049964e-03,\n",
       "         4.39197710e-03, -4.07023430e-02,  4.61506471e-03, -2.99324244e-02,\n",
       "        -2.78018042e-02, -4.09832671e-02,  5.56973144e-02, -1.85909420e-02,\n",
       "        -3.23385410e-02, -2.18008757e-02,  4.37407345e-02, -2.24453695e-02,\n",
       "        -1.74924675e-02,  1.47811072e-02,  3.42247784e-02, -4.11698632e-02,\n",
       "        -5.93501925e-02,  7.68230716e-03, -6.47378201e-03, -4.53889556e-02,\n",
       "        -5.47148101e-02,  3.74817685e-03,  2.47649290e-02, -4.92973858e-03,\n",
       "         5.14398701e-02,  2.34114788e-02,  2.00193822e-02, -4.06747870e-02,\n",
       "         3.04405708e-02,  5.51725253e-02,  6.08418742e-03,  5.69752678e-02,\n",
       "        -4.59651910e-02,  1.61340702e-02,  5.57025447e-02, -5.75705990e-02,\n",
       "        -1.14968931e-02,  6.28045425e-02,  2.39499900e-02,  7.99064816e-04,\n",
       "        -1.07110711e-03, -2.36368794e-02,  1.08008794e-02, -1.04733361e-02,\n",
       "        -2.51605455e-02,  6.42376393e-02,  7.46356994e-02,  8.05795193e-02,\n",
       "        -1.33169675e-03,  6.11613728e-02, -4.87894798e-03, -5.51306382e-02,\n",
       "         4.21315478e-03,  8.82421434e-03, -2.17451435e-02, -2.34042536e-02,\n",
       "        -2.13507917e-02, -3.75130097e-03,  5.47822937e-03,  3.14395614e-02,\n",
       "         8.62054229e-02,  4.25347351e-02, -3.54246385e-02, -2.34873984e-02,\n",
       "         3.77472006e-02, -2.69084703e-02, -2.07570326e-02,  1.28824979e-01,\n",
       "        -4.52462621e-02,  4.77405041e-02, -3.98966521e-02, -1.80919804e-02,\n",
       "        -1.21074850e-02, -2.48162001e-02, -2.24213954e-02,  1.71235837e-02,\n",
       "         6.83891699e-02,  1.47363171e-02,  3.16323489e-02,  4.87283543e-02,\n",
       "         3.88473063e-03,  1.61167476e-02, -2.72100586e-02, -4.11085747e-02,\n",
       "        -3.05202641e-02,  2.97047887e-02,  2.13707499e-02,  3.21687981e-02,\n",
       "        -6.78856671e-03,  8.66018143e-03,  4.72422969e-03,  1.88298039e-02,\n",
       "         3.27091245e-03, -1.04071554e-02,  5.62725924e-02, -2.55611558e-02,\n",
       "         8.45319629e-02, -1.73015483e-02,  2.52887197e-02, -9.81006473e-02,\n",
       "        -6.18182719e-02,  6.43934160e-02,  4.73677218e-02,  9.75753367e-03,\n",
       "         3.51754911e-02, -4.93451916e-02, -3.95973213e-02, -4.84062955e-02,\n",
       "         1.12000329e-03,  1.25116610e-03,  9.70148575e-03,  3.92917246e-02,\n",
       "        -3.29271257e-02,  1.61756184e-02, -4.42378558e-02, -1.07415800e-03,\n",
       "        -8.54447111e-03, -1.05163977e-02, -2.61476226e-02, -5.89973526e-03,\n",
       "         6.68234704e-03, -5.03835967e-03,  4.26081233e-02,  2.19390802e-02,\n",
       "        -2.64286883e-02, -4.02082838e-02, -1.98501572e-02, -1.47481579e-02,\n",
       "        -4.70772721e-02, -1.13450689e-02, -4.31528054e-02,  2.40505729e-02,\n",
       "        -1.48184216e-02, -2.23297421e-02,  1.61367618e-02,  4.12261896e-02,\n",
       "        -4.47640158e-02,  2.02662069e-02, -3.12920138e-02, -1.21825729e-02,\n",
       "         3.86416838e-02, -6.89166263e-02, -7.56378844e-02, -6.05424792e-02,\n",
       "        -6.03859453e-03,  3.79112735e-02, -1.05170570e-01, -6.04308136e-02,\n",
       "         5.65885641e-02,  5.39667085e-02,  5.71744815e-02,  2.26043016e-02,\n",
       "         3.24976891e-02, -1.61959939e-02,  6.43148348e-02,  1.26248412e-02,\n",
       "        -7.08986819e-03,  5.79262190e-02,  1.21703641e-02, -9.57101285e-02,\n",
       "         9.69028100e-03,  2.60111270e-03,  1.24037862e-02,  3.98281552e-02,\n",
       "        -1.30259721e-02, -4.22132611e-02, -1.57498736e-02, -3.24981264e-03,\n",
       "         3.26424837e-02, -6.71573803e-02,  8.60753190e-03, -3.87909263e-02,\n",
       "         2.63485704e-02,  8.69835839e-02,  2.31911821e-04,  7.33082369e-03,\n",
       "         3.05217486e-02,  1.02570802e-02, -2.08540969e-02,  3.10412906e-02,\n",
       "        -5.38647920e-02, -4.04922338e-03, -3.66731733e-03, -1.31456228e-02,\n",
       "        -2.28596125e-02,  2.18717698e-02,  2.56601302e-03,  1.30538186e-02,\n",
       "        -2.63810381e-02, -2.20294520e-02, -3.29920789e-03,  8.84999856e-02,\n",
       "         1.27726840e-02, -1.93013512e-02, -6.71277717e-02,  7.47095644e-02,\n",
       "        -2.10763980e-02,  2.11186074e-02,  3.08471788e-02,  1.79654490e-02,\n",
       "         4.89459746e-02,  2.58922875e-02, -3.96438241e-02,  5.84420413e-02,\n",
       "         1.62897464e-02,  3.40358615e-02,  4.22089137e-02,  1.48157552e-02,\n",
       "        -3.18422588e-03,  4.74121422e-03, -3.83363548e-03, -3.57611440e-02,\n",
       "        -3.63115445e-02,  4.21460010e-02, -1.06784618e-02, -2.28625201e-02,\n",
       "         2.68084854e-02, -3.19377258e-02, -1.09568518e-02,  2.71357931e-02,\n",
       "         4.14327309e-02, -3.38320769e-02, -2.29570158e-02, -2.49766689e-02,\n",
       "        -5.17626964e-02, -1.63343865e-02, -3.51125840e-04,  1.62984561e-02,\n",
       "         1.57014318e-02,  5.79852797e-03,  2.69737579e-02, -5.70856640e-03,\n",
       "         4.74913567e-02, -1.79001028e-04, -1.61419045e-02,  9.69693158e-03,\n",
       "         1.59017164e-02,  6.31553307e-02, -7.22110793e-02,  8.28748941e-03,\n",
       "         3.97337116e-02, -6.53456431e-03, -4.27313335e-02,  2.88351495e-02,\n",
       "        -2.90425643e-02,  1.52854733e-02, -3.98119155e-04, -2.38860045e-02,\n",
       "        -1.65332090e-02, -1.35838159e-03,  4.31529386e-03,  2.36953143e-03,\n",
       "         5.09796012e-03, -1.09338993e-02,  4.37652990e-02, -4.03728057e-03,\n",
       "         5.51008582e-02, -4.07942496e-02, -3.79281826e-02, -2.70468299e-03,\n",
       "         7.76842935e-03,  1.61698963e-02,  6.24066070e-02,  5.19477874e-02,\n",
       "        -3.23106498e-02,  3.59224826e-02, -1.88158993e-02,  5.68074500e-03,\n",
       "         2.25592614e-03,  2.42074449e-02,  2.03509373e-03, -6.26926776e-04,\n",
       "        -2.96010561e-02, -4.59870696e-02,  3.21611129e-02,  5.12195975e-02,\n",
       "         2.22544055e-02, -4.64892164e-02,  1.66175421e-02,  1.71707980e-02,\n",
       "        -9.07303183e-04,  6.64988011e-02,  2.92429514e-03,  5.42489486e-03,\n",
       "         7.42193684e-02,  7.27955298e-03,  1.12906713e-02,  4.16675359e-02,\n",
       "         7.31012644e-03, -3.33592072e-02, -1.49482014e-02, -2.10342109e-02,\n",
       "        -1.28810946e-02,  6.65415227e-02,  3.02984659e-02, -1.21258292e-02,\n",
       "        -1.34777359e-03, -6.27031326e-02, -3.08173448e-02,  4.72733341e-02,\n",
       "        -1.96913034e-02,  6.04963638e-02, -1.21748084e-02, -5.63084744e-02,\n",
       "        -1.05196415e-02, -9.98142920e-03,  2.01963428e-02, -5.53552136e-02,\n",
       "        -3.30299959e-02, -7.42047187e-03, -6.13443181e-03,  3.29138450e-02,\n",
       "         1.70130804e-02,  2.00087074e-02,  4.08195890e-02, -6.55137450e-02,\n",
       "        -5.53129707e-03,  1.23505481e-02, -1.93229932e-02, -1.84926074e-02,\n",
       "         5.87823009e-03, -7.30010029e-03,  1.09774195e-01, -1.93972141e-02,\n",
       "         5.93736283e-02, -6.30828515e-02, -4.22947966e-02,  9.90094338e-03,\n",
       "        -6.34449795e-02, -7.22666308e-02,  6.46736324e-02,  2.72617619e-02,\n",
       "        -2.02834066e-02,  2.18973197e-02,  1.16602713e-02,  2.14620540e-03],\n",
       "       dtype=float32),\n",
       " 'content_vector': array([ 2.29968056e-02, -1.44171501e-02,  2.02948377e-02,  8.68570358e-02,\n",
       "        -7.32555613e-02,  6.67960988e-03, -1.53618772e-02,  3.42836305e-02,\n",
       "        -2.01705508e-02,  1.01338312e-01, -1.61843244e-02,  1.50355911e-02,\n",
       "         2.42591798e-02,  2.31772056e-03, -1.55846113e-02,  2.10327469e-02,\n",
       "         7.53787532e-03,  5.99814244e-02, -5.89364395e-02,  7.74988756e-02,\n",
       "        -1.90619975e-02,  8.70748088e-02,  5.22813834e-02, -4.05461295e-03,\n",
       "         3.05765569e-02, -1.58009920e-02,  7.34691396e-02, -3.31851677e-03,\n",
       "        -2.34094691e-02, -2.58366372e-02, -2.58155689e-02,  5.12068681e-02,\n",
       "        -7.23081157e-02,  5.06474311e-03, -2.03865096e-02, -1.70969069e-02,\n",
       "         4.65897247e-02,  8.86842236e-03,  3.16533297e-02,  7.79494271e-02,\n",
       "        -4.37290259e-02, -2.61316840e-02, -2.26471294e-02, -5.21716513e-02,\n",
       "        -1.53026609e-02,  4.65937927e-02, -2.45468151e-02, -2.09481865e-02,\n",
       "         2.92228069e-02, -4.79010008e-02, -3.54725979e-02, -6.47201063e-03,\n",
       "         4.50352347e-03,  4.03196774e-02,  8.01455677e-02, -1.98686793e-02,\n",
       "        -1.81938801e-02,  9.72746611e-02, -2.18434744e-02,  8.79193172e-02,\n",
       "        -3.77287678e-02, -3.92495235e-03, -4.35509942e-02,  2.86685023e-03,\n",
       "        -3.88703384e-02, -2.60146931e-02,  8.14794898e-02, -6.00738339e-02,\n",
       "        -4.72967839e-03,  1.40404077e-02,  1.75794971e-03,  5.94870821e-02,\n",
       "         4.83670458e-02, -6.96162879e-02, -3.20689613e-03, -3.28051299e-02,\n",
       "         5.06094024e-02, -1.92396790e-02,  2.82200938e-03, -7.77093275e-03,\n",
       "        -6.27788203e-03, -2.03337148e-02,  6.47971556e-02, -4.95604100e-03,\n",
       "        -1.71172544e-02,  8.19351804e-03, -1.50298765e-02,  1.05337892e-02,\n",
       "        -2.30563502e-03, -9.16330516e-02, -7.52000092e-03,  3.82792205e-02,\n",
       "         3.09931822e-02,  1.77342561e-03,  2.59981509e-02, -3.08761932e-02,\n",
       "        -1.81034990e-02,  1.08437520e-02,  1.98442917e-02,  1.98565051e-03,\n",
       "        -6.47124946e-02, -1.15148984e-02, -1.94190200e-02,  8.49940404e-02,\n",
       "         3.70452031e-02,  4.25595976e-02, -7.31720552e-02, -2.28646733e-02,\n",
       "        -4.64350842e-02,  4.33667377e-02,  1.24361906e-02,  2.23349052e-04,\n",
       "        -7.23178610e-02,  2.68420205e-02, -6.38275519e-02, -4.68391255e-02,\n",
       "        -3.60212065e-02,  7.20321238e-02,  3.57403755e-02,  1.57398395e-02,\n",
       "         6.39088154e-02,  3.79861053e-03,  3.61416861e-02,  2.38019899e-02,\n",
       "        -9.74419620e-03, -8.64392426e-03,  2.20622178e-02,  1.65848492e-03,\n",
       "         1.27615472e-02,  1.20804291e-02,  6.38553724e-02, -4.76443116e-03,\n",
       "        -6.13453351e-02,  1.26500139e-02,  3.00931763e-02,  5.24370633e-02,\n",
       "        -3.85450013e-03, -3.68003757e-03,  4.71022539e-03,  1.12138242e-02,\n",
       "        -5.92621863e-02,  2.51019076e-02,  2.49240454e-02, -3.96225452e-02,\n",
       "        -2.08689757e-02,  2.87950523e-02,  2.09849421e-02,  2.57965154e-03,\n",
       "         4.12412696e-02, -2.68209465e-02, -1.93840489e-02,  3.23329456e-02,\n",
       "        -3.92342582e-02,  1.15779471e-02, -5.43081053e-02, -3.47224772e-02,\n",
       "         4.49058153e-02, -1.47015639e-02,  3.63699645e-02,  1.66582447e-02,\n",
       "         3.01382970e-02, -9.78721119e-03, -3.66569571e-02,  1.60859339e-02,\n",
       "         6.18484523e-03,  1.16955033e-02,  3.00887804e-02,  3.97912785e-02,\n",
       "        -2.35551726e-02,  3.11315376e-02,  8.92700851e-02,  1.50653375e-02,\n",
       "         5.95838092e-02, -1.19955856e-02, -8.10601935e-03,  3.89020033e-02,\n",
       "        -3.25709917e-02, -2.64095981e-02, -2.30122823e-02, -1.55179501e-02,\n",
       "         3.81613076e-02,  6.56348560e-03, -2.46311463e-02, -9.73516610e-03,\n",
       "         2.88309180e-03,  3.61243971e-02,  3.03618722e-02, -5.38217053e-02,\n",
       "        -2.25896481e-02, -3.96147147e-02, -4.29643318e-02,  4.24298309e-02,\n",
       "        -3.25010866e-02, -5.90986721e-02, -4.08071838e-02,  1.63830500e-02,\n",
       "        -7.26099759e-02, -2.20945943e-02, -3.92445736e-02,  1.97289512e-02,\n",
       "         6.45158952e-03, -4.63294312e-02, -4.15117927e-02, -3.56475487e-02,\n",
       "         6.54367954e-02,  1.25725372e-02,  3.35755944e-02, -5.56670837e-02,\n",
       "         2.74145212e-02,  4.56480868e-02,  3.85702774e-02, -3.46753821e-02,\n",
       "        -2.60271858e-02, -6.25110120e-02,  5.67007586e-02, -2.69542206e-02,\n",
       "        -5.18893115e-02, -6.13448098e-02, -3.66559215e-02,  3.39407139e-02,\n",
       "        -2.24335697e-02,  1.62010640e-02,  1.85801778e-02, -4.45391610e-03,\n",
       "         5.14981616e-03,  3.90594490e-02,  2.04833858e-02,  6.38831854e-02,\n",
       "        -2.71528290e-04, -4.69233692e-02, -2.04264373e-02,  1.76422969e-02,\n",
       "        -1.00761512e-02, -2.03012815e-03,  2.17538700e-02,  1.18693179e-02,\n",
       "        -3.73953618e-02,  1.06189325e-02,  2.18296871e-02,  4.28779498e-02,\n",
       "        -3.69383432e-02, -1.78054497e-02, -3.03418096e-03, -6.34304062e-02,\n",
       "         1.66355204e-02,  9.65313893e-03, -6.11578524e-02,  3.16819735e-02,\n",
       "        -1.53842820e-02,  2.07780059e-02, -1.73257980e-02, -6.29832083e-03,\n",
       "        -2.89684068e-02, -1.59927104e-02, -5.16774766e-02,  1.39134536e-02,\n",
       "         4.43176329e-02, -1.60068143e-02, -1.38287805e-02, -8.32372084e-02,\n",
       "         2.46934462e-02, -5.54675749e-03, -3.96522470e-02, -9.15882818e-04,\n",
       "         4.65637632e-02, -1.08077535e-02, -1.79471783e-02,  9.15816519e-03,\n",
       "        -3.41447140e-03,  5.10658026e-02,  5.09929024e-02, -2.61120368e-02,\n",
       "        -3.24185640e-02,  1.81943048e-02, -1.19900703e-02, -4.03205082e-02,\n",
       "         3.45243402e-02, -3.77395339e-02,  7.68118650e-02,  1.89415365e-02,\n",
       "        -5.70197515e-02, -1.34065663e-02, -2.75415890e-02,  5.72818378e-03,\n",
       "        -7.01368507e-03,  3.02132852e-02,  2.90827882e-02, -4.22909530e-03,\n",
       "         4.75791246e-02,  1.37351155e-02, -3.72686237e-02,  1.54852606e-02,\n",
       "        -1.43223265e-02, -2.18717977e-02, -3.53572592e-02, -3.25667113e-02,\n",
       "        -1.32974824e-02,  3.44346017e-02,  1.83516107e-02, -1.82413943e-02,\n",
       "        -9.91381519e-03, -4.17822972e-02, -1.86936762e-02,  7.29085691e-03,\n",
       "         4.43540439e-02, -3.24905142e-02, -2.87651401e-02, -4.71601821e-03,\n",
       "         7.32950913e-03, -5.76923676e-02,  6.89398572e-02, -1.67963151e-02,\n",
       "         5.62800989e-02, -4.15870212e-02, -5.88611439e-02,  2.81274319e-02,\n",
       "         1.97504237e-02,  7.53651885e-03, -5.48775606e-02, -1.33890833e-03,\n",
       "        -5.51184155e-02, -3.16043291e-03, -6.73336461e-02,  6.88646128e-03,\n",
       "        -4.39150669e-02, -1.38966842e-02, -4.02135327e-02,  3.73673886e-02,\n",
       "         2.00748891e-02,  2.33462825e-02,  1.50471125e-02,  5.48064187e-02,\n",
       "        -2.86862180e-02, -7.08176848e-03, -1.91920232e-02,  1.16100442e-03,\n",
       "         1.45226745e-02, -6.79426044e-02,  5.87145202e-02,  1.98984146e-02,\n",
       "         5.30881360e-02, -1.46036129e-02, -1.11674517e-02, -3.77819338e-03,\n",
       "         1.47963054e-02, -2.66508870e-02,  5.28868809e-02,  1.95280146e-02,\n",
       "         6.60366267e-02, -2.32562535e-02, -3.45939733e-02, -1.76049676e-02,\n",
       "        -9.56307445e-03,  1.46520985e-02, -3.61535326e-02,  5.69153531e-03,\n",
       "        -1.91099886e-02,  8.93198177e-02, -4.30011936e-03, -6.73695430e-02,\n",
       "        -5.44781648e-02, -6.05819225e-02, -2.63156649e-02,  5.57395145e-02,\n",
       "        -3.37958522e-02, -3.09240236e-03, -2.30575483e-02,  2.43679574e-03,\n",
       "        -1.62339583e-02,  2.29346156e-02, -5.85281551e-02,  3.58624314e-03,\n",
       "        -1.83198936e-02, -3.46336979e-04,  3.99751618e-04, -5.77410720e-02,\n",
       "        -1.20753227e-02, -2.42411122e-02, -1.35181928e-02,  4.29590829e-02,\n",
       "         5.39614670e-02,  5.49186021e-02, -8.76249000e-03, -2.64560692e-02,\n",
       "         3.15261856e-02,  2.49867756e-02, -1.95876230e-02, -1.36943469e-02,\n",
       "         1.85703449e-02,  2.95940191e-02,  3.93936634e-02, -4.77383137e-02,\n",
       "        -3.84793468e-02,  1.08140700e-01, -4.62366492e-02,  1.25116706e-02,\n",
       "        -9.21078306e-03,  5.37353382e-02,  3.53170373e-02,  1.09039554e-02,\n",
       "         2.49950793e-02, -6.40759943e-03,  1.42933391e-02,  9.01105534e-03,\n",
       "        -5.06736450e-02, -1.70233548e-02, -2.94872820e-02, -6.00502603e-02,\n",
       "         9.33370460e-03,  3.77339087e-02, -2.76961509e-04,  3.87999080e-02,\n",
       "         2.04905998e-02,  4.82751504e-02, -3.00685945e-03, -1.40369972e-02,\n",
       "         1.51685039e-02, -6.22617733e-03, -2.76560560e-02,  1.26767270e-02,\n",
       "         3.25283930e-02,  5.05712954e-03, -2.19270121e-02, -1.54525610e-02,\n",
       "         5.75705655e-02,  4.81826141e-02,  2.09822264e-02, -2.04923656e-02,\n",
       "        -1.56170840e-03,  2.13299785e-02, -5.78010874e-03,  1.16601679e-02,\n",
       "        -4.29758169e-02,  2.37729680e-02, -3.21585461e-02,  2.31893584e-02,\n",
       "        -1.80525351e-02, -9.43267569e-02,  2.01212484e-02, -4.69310433e-02,\n",
       "        -1.25137372e-02, -7.03906827e-03, -4.12689298e-02,  5.77933788e-02,\n",
       "        -2.55704876e-02,  4.96993139e-02,  3.07740010e-02, -6.15540631e-02,\n",
       "        -1.59323476e-02, -3.48959304e-02,  3.67197138e-03,  4.79456633e-02,\n",
       "        -4.96136025e-02, -3.01428940e-02, -1.26143899e-02,  2.11203936e-02,\n",
       "        -3.43361171e-03,  9.22224484e-03,  3.63316536e-02,  2.21861545e-02,\n",
       "         3.55530381e-02,  1.64821055e-02,  3.00915539e-03, -1.88428648e-02,\n",
       "        -5.53202955e-03,  8.60236064e-02,  4.11678012e-03,  1.23241134e-02,\n",
       "        -5.13134561e-02,  4.21780199e-02,  4.66812141e-02, -4.55970541e-02,\n",
       "        -3.55193764e-03,  3.73253524e-02, -4.80038822e-02, -2.15687398e-02,\n",
       "         4.67874669e-03,  2.94973832e-02,  7.00317994e-02,  6.69322610e-02,\n",
       "         7.39392033e-03,  2.41118316e-02, -2.51651350e-02,  1.91541705e-02,\n",
       "         2.79012248e-02, -1.53177092e-02,  7.18707219e-02, -7.58523643e-02,\n",
       "        -2.65213046e-02,  3.93277891e-02,  4.96219285e-02, -2.62524784e-02,\n",
       "        -7.44069635e-04,  4.03769128e-02, -6.62961453e-02,  2.26800069e-02,\n",
       "         4.16749828e-02,  9.57356300e-03,  2.67259981e-02,  4.44227830e-02,\n",
       "         3.48557904e-02, -1.68004725e-02,  4.58586309e-03,  4.86734696e-02,\n",
       "        -6.00287504e-03, -1.99486427e-02,  1.93381626e-02, -2.22649239e-02,\n",
       "         3.89300734e-02,  2.77731381e-02,  5.47834039e-02,  1.13609545e-02,\n",
       "        -5.06729819e-02,  1.06856050e-02, -3.12114891e-04, -5.79092167e-02,\n",
       "         3.34414728e-02,  3.02175451e-02, -7.16372486e-03, -3.68076600e-02,\n",
       "         1.39247449e-02,  3.02180108e-02, -1.54707339e-02,  2.35166065e-02,\n",
       "         1.43097611e-02,  5.85270254e-03, -1.31056481e-03, -1.85436700e-02,\n",
       "        -1.38682956e-02, -2.77137589e-02, -4.50979993e-02, -8.65689367e-02,\n",
       "         9.92292166e-03,  2.11592857e-03,  4.15382236e-02, -3.81078310e-02,\n",
       "        -5.36968652e-03,  1.88060068e-02,  3.12062558e-02, -4.98523265e-02,\n",
       "         3.98815945e-02,  1.93671752e-02,  2.30307281e-02, -1.10051669e-02,\n",
       "        -3.47573161e-02,  1.75227653e-02, -3.93831395e-02,  3.06781139e-02,\n",
       "        -6.51455596e-02, -5.18172011e-02, -2.66116820e-02, -4.02843617e-02,\n",
       "         8.20173230e-03, -8.75824597e-03,  6.89309016e-02, -2.11011525e-02,\n",
       "        -2.22627576e-02,  3.56792435e-02, -5.93598559e-02, -5.18888272e-02,\n",
       "        -2.18226444e-02,  8.70178267e-03, -3.91452499e-02,  4.29958403e-02,\n",
       "         9.07457434e-03, -3.63232084e-02,  1.35755474e-02,  2.20366083e-02,\n",
       "         1.69406515e-02, -1.38080522e-05,  5.23923635e-02, -7.77755529e-02,\n",
       "         2.19986178e-02, -3.00923968e-03, -1.45902419e-02, -2.44998354e-02,\n",
       "         2.65426878e-02, -1.31412623e-02, -6.85289130e-02, -1.13581810e-02,\n",
       "         7.92675652e-03,  1.75659154e-02,  1.86615286e-03,  3.31491381e-02,\n",
       "         2.95663234e-02, -2.99712121e-02, -8.65782797e-03,  3.10176816e-02,\n",
       "         9.43156704e-02, -1.07686538e-02,  3.16123776e-02, -1.55339297e-02,\n",
       "         7.91457947e-03, -3.75648700e-02,  3.73057313e-02, -5.48155047e-03,\n",
       "        -3.01606134e-02, -2.99655758e-02, -6.62645847e-02, -2.31473986e-02,\n",
       "         2.68871412e-02, -5.87659888e-02,  1.71975177e-02, -4.08392847e-02,\n",
       "         4.18820838e-03,  2.39683688e-02, -6.28417656e-02,  1.92634854e-02,\n",
       "        -2.81519350e-02, -2.76984996e-03,  3.70239355e-02,  1.29529238e-02,\n",
       "        -5.53690046e-02,  2.06973571e-02, -2.01160256e-02, -6.49537658e-03,\n",
       "        -8.03710613e-03,  2.64722779e-02, -2.89212167e-02, -1.17138512e-02,\n",
       "         7.62283662e-03, -1.55543229e-02, -2.00266000e-02,  7.03558475e-02,\n",
       "         4.48148651e-03, -4.83001024e-03,  4.67342623e-02,  1.65608022e-02,\n",
       "        -1.16800533e-04,  5.16076311e-02,  3.79444920e-02, -1.22673223e-02,\n",
       "        -1.15221692e-03,  5.98341301e-02, -3.68652716e-02,  3.01652197e-02,\n",
       "         5.13744764e-02,  1.11583304e-02,  6.16904013e-02,  3.16729173e-02,\n",
       "         5.11465371e-02,  9.00600851e-03,  1.24902334e-02, -2.70694941e-02,\n",
       "        -4.66965549e-02,  2.27446593e-02,  1.72088109e-02, -1.38353864e-02,\n",
       "         2.55859806e-04,  3.17649753e-03,  5.85423149e-02,  1.96708739e-03,\n",
       "         5.25882794e-03, -4.19416651e-02, -6.32472010e-03, -2.35567931e-02,\n",
       "        -2.25813966e-02,  6.46988992e-05, -1.26018748e-02,  1.35078318e-02,\n",
       "        -7.47821061e-03,  1.85358934e-02, -8.75836797e-03, -2.10477635e-02,\n",
       "         5.82627207e-02,  1.06259044e-02, -1.57652870e-02,  5.44328094e-02,\n",
       "         4.38130694e-03, -3.93380085e-03, -4.79303375e-02,  3.57241463e-03,\n",
       "         9.48497560e-04,  2.28066277e-02, -2.56303996e-02,  2.79106013e-02,\n",
       "        -1.74496472e-02,  5.65917045e-02, -2.31393073e-02, -5.71009144e-02,\n",
       "        -5.07198600e-03,  1.16195334e-02,  4.91738580e-02, -8.21243878e-03,\n",
       "         1.41656930e-02, -4.17412743e-02,  2.81070322e-02, -3.48864347e-02,\n",
       "         1.19613841e-01, -4.00042459e-02, -5.63020259e-03,  1.33388974e-02,\n",
       "        -4.70594987e-02, -2.93210037e-02, -1.55280288e-02, -1.36569620e-03,\n",
       "         4.49720630e-03,  2.02382542e-02,  1.88650656e-02, -9.95865278e-03,\n",
       "         5.28326258e-02,  3.04448847e-02, -1.30692786e-02, -2.68893375e-04,\n",
       "        -5.69678284e-02, -2.53582895e-02,  8.45198799e-03, -1.38725154e-03,\n",
       "         6.27440512e-02, -3.90262902e-02,  9.87418275e-03,  1.08359559e-02,\n",
       "         1.05517870e-02,  1.13154888e-01,  1.75260031e-03, -1.00325188e-02,\n",
       "         4.91782874e-02,  3.98939401e-02, -3.75817008e-02, -3.26532796e-02,\n",
       "        -1.08420979e-02,  5.47315506e-03, -1.59972291e-02, -5.87913841e-02,\n",
       "        -3.69007811e-02,  3.07095014e-02,  3.31132696e-03, -1.14388261e-02,\n",
       "         4.02334146e-02, -8.99834000e-03, -3.53128128e-02,  4.00880501e-02,\n",
       "         1.86922960e-02,  1.89846382e-02,  1.47447120e-02, -5.85850626e-02,\n",
       "        -5.23133948e-03,  5.48687764e-02, -7.88703635e-02, -7.45714158e-02,\n",
       "        -4.29817699e-02,  5.16940374e-03,  3.73096392e-02,  4.29921970e-03,\n",
       "        -9.38243140e-03,  4.27429825e-02,  3.60389426e-03, -5.45946024e-02,\n",
       "         7.04544783e-03,  1.46233421e-02, -3.97272855e-02, -3.16331126e-02,\n",
       "         1.48998983e-02, -5.65558448e-02, -3.58286835e-02, -4.42738570e-02,\n",
       "         9.53036174e-03,  2.28417479e-02, -8.90131854e-03, -1.71803534e-02,\n",
       "        -5.73289953e-02, -9.21052042e-03,  5.94159439e-02,  6.01578578e-02,\n",
       "        -1.28135523e-02,  3.97272035e-02, -3.56014818e-04,  5.58545403e-02],\n",
       "       dtype=float32),\n",
       " 'title_content_vector': array([ 0.03062332, -0.0007842 ,  0.01034924,  0.07412016, -0.07904744,\n",
       "        -0.01609376,  0.00993172,  0.02629728, -0.03964366,  0.06963439,\n",
       "        -0.04531438, -0.01140823,  0.01710617,  0.01043326, -0.00014229,\n",
       "         0.01395606, -0.02928975,  0.04616176, -0.0443659 ,  0.04843489,\n",
       "        -0.02940471,  0.10420768,  0.02599656,  0.00343016,  0.06145548,\n",
       "        -0.05449426,  0.08286743,  0.0330942 , -0.00963219, -0.01957325,\n",
       "        -0.00892285,  0.03463686, -0.0471412 , -0.00746679, -0.00445063,\n",
       "        -0.0203387 ,  0.02247326, -0.00288648,  0.04471055,  0.09140246,\n",
       "        -0.04632476, -0.01561575, -0.0554206 , -0.0350778 ,  0.01761809,\n",
       "         0.04873935,  0.01532439,  0.02147984,  0.03175182, -0.04288661,\n",
       "        -0.03511221, -0.02409923,  0.01289068,  0.04474179,  0.06484827,\n",
       "        -0.01014084, -0.03270412,  0.06983232, -0.02070693,  0.0812266 ,\n",
       "        -0.01714906,  0.01136716, -0.02449063,  0.00512237, -0.03773239,\n",
       "        -0.01990939,  0.06801377, -0.07260623, -0.02078855,  0.02340272,\n",
       "         0.01134662,  0.06376649,  0.03840968, -0.04307819,  0.00714242,\n",
       "        -0.02973674,  0.03820044, -0.04018627, -0.01397326, -0.01262084,\n",
       "         0.01089777, -0.0251453 ,  0.05334365,  0.02164   , -0.04795455,\n",
       "        -0.02067443, -0.01102539,  0.00346571, -0.00273328, -0.07309474,\n",
       "        -0.00445488,  0.05544439,  0.02431561, -0.01354139,  0.04721611,\n",
       "        -0.04606989, -0.01865339,  0.02923293, -0.00199636,  0.00147447,\n",
       "        -0.04551202,  0.01162525, -0.01331049,  0.0444009 ,  0.00128037,\n",
       "         0.0235057 , -0.06637017, -0.0420303 , -0.05274493,  0.02884207,\n",
       "        -0.01770808,  0.00516068, -0.07679949,  0.00395459, -0.07059003,\n",
       "        -0.04090234, -0.03430718,  0.07472088,  0.04315512,  0.00517673,\n",
       "         0.05519874,  0.03557492,  0.04767417,  0.04291955,  0.01897594,\n",
       "        -0.01583413,  0.05263716, -0.0031305 ,  0.00771732,  0.00533544,\n",
       "         0.06255195,  0.00052203, -0.04952994,  0.02794044,  0.01591998,\n",
       "         0.07564471, -0.00639879, -0.02620156,  0.02034118,  0.01071456,\n",
       "        -0.04790468,  0.04584394,  0.01116493, -0.05639276, -0.00169243,\n",
       "         0.00528941,  0.03082939, -0.00039213,  0.0523893 , -0.02402598,\n",
       "        -0.0345329 ,  0.02097022, -0.02889194,  0.04079032, -0.06658194,\n",
       "        -0.03612623,  0.00021421, -0.0299063 ,  0.02308706,  0.0344282 ,\n",
       "         0.02109521, -0.00873378, -0.0316081 ,  0.02496049,  0.01128639,\n",
       "         0.02744009,  0.00424028,  0.0301018 , -0.04263327,  0.06662116,\n",
       "         0.07759181, -0.00092197,  0.0328358 , -0.01267579, -0.00290032,\n",
       "         0.01021522, -0.03879219, -0.04649287,  0.02229716, -0.03766659,\n",
       "         0.0285293 ,  0.00893551, -0.03074285, -0.00275141,  0.00251064,\n",
       "         0.02844274, -0.00462227, -0.04707257, -0.02237987, -0.03566674,\n",
       "        -0.05286759,  0.03841724, -0.07418533, -0.03824421, -0.02655536,\n",
       "         0.04084961, -0.07971402, -0.055304  , -0.04071003,  0.00524748,\n",
       "         0.00443663, -0.03409206, -0.02296348, -0.03426403,  0.06480623,\n",
       "        -0.01778799,  0.03128505, -0.06184699,  0.03656331,  0.03829484,\n",
       "         0.02179414, -0.01431958, -0.00335788, -0.02640831,  0.06461875,\n",
       "        -0.02663768, -0.07276746, -0.03142368, -0.02722487,  0.00584092,\n",
       "        -0.0156698 ,  0.01579379,  0.02321398,  0.01145131, -0.01895624,\n",
       "         0.04641125,  0.03362966,  0.06523699,  0.01799836, -0.03486858,\n",
       "         0.01933356,  0.0252797 , -0.04022639, -0.00131439,  0.01708429,\n",
       "        -0.00357776, -0.0430396 ,  0.01151547,  0.00785208,  0.02652391,\n",
       "        -0.03425298, -0.03919235,  0.00256157, -0.06120459,  0.01839805,\n",
       "         0.00447647, -0.04746333,  0.02273714, -0.05147813,  0.02331488,\n",
       "        -0.01968353, -0.00849663, -0.03140985,  0.01974026, -0.03929195,\n",
       "        -0.00320089,  0.03258371, -0.01726271,  0.0127165 , -0.06964768,\n",
       "         0.00328305,  0.00439496, -0.03780361, -0.01018102,  0.01457305,\n",
       "        -0.01812134, -0.01036743,  0.00857036, -0.02202832,  0.05271894,\n",
       "         0.03099392, -0.03778439, -0.02323085,  0.01804361, -0.0019512 ,\n",
       "        -0.06144005,  0.02523949, -0.03808702,  0.07985704, -0.00255242,\n",
       "        -0.05755042,  0.01023378, -0.06608646, -0.0274738 , -0.01534294,\n",
       "         0.00884543,  0.02278395,  0.02724262,  0.00991695,  0.03331804,\n",
       "        -0.01618984,  0.01162656, -0.00534981, -0.02121667, -0.0256813 ,\n",
       "        -0.02338609, -0.00348823,  0.00718791, -0.01150466, -0.03706886,\n",
       "        -0.01519858, -0.03013554, -0.02753039, -0.01934373,  0.04731691,\n",
       "        -0.0287942 , -0.01415952, -0.01080066, -0.0021979 , -0.07150972,\n",
       "         0.05321069, -0.01795541,  0.03650543, -0.04438578, -0.04581709,\n",
       "         0.04231375,  0.02469627,  0.00484304, -0.03594846, -0.0144749 ,\n",
       "        -0.05822361,  0.00482824, -0.09301076,  0.00938825, -0.059973  ,\n",
       "        -0.01360821, -0.03135371,  0.07093054,  0.01462599,  0.02761254,\n",
       "         0.0284934 ,  0.05034213, -0.02642137,  0.02405984, -0.04698658,\n",
       "         0.00790393, -0.01474016, -0.05788307,  0.03783935,  0.01664697,\n",
       "         0.0472642 , -0.00071571, -0.02349828,  0.0079248 ,  0.00974268,\n",
       "        -0.02989798,  0.06285137,  0.00370208,  0.04805457, -0.0385385 ,\n",
       "        -0.04056506, -0.00879525, -0.00067869,  0.01332309, -0.03299055,\n",
       "         0.00477734, -0.02828491,  0.10001545,  0.0041894 , -0.08296353,\n",
       "        -0.06123319, -0.04583194, -0.01772171,  0.04858689, -0.03784629,\n",
       "         0.00473973, -0.0238269 ,  0.00847496, -0.00651819,  0.02667944,\n",
       "        -0.0666516 ,  0.01728672, -0.01078424, -0.00043491,  0.01722872,\n",
       "        -0.05358496, -0.02430708, -0.03845667, -0.02207723,  0.05561008,\n",
       "         0.0563974 ,  0.02630073,  0.00603624, -0.03892007,  0.04597295,\n",
       "         0.01884469, -0.01678937, -0.03782542,  0.01482378, -0.00190944,\n",
       "         0.03094623, -0.05723563, -0.01842164,  0.10846131, -0.02279555,\n",
       "        -0.01423858, -0.00919054,  0.06990676,  0.02469198,  0.00041431,\n",
       "         0.01440726, -0.01407181,  0.00843016,  0.02979829, -0.05826935,\n",
       "        -0.02584487, -0.03248879, -0.01554634,  0.00526343,  0.05753604,\n",
       "         0.00693387,  0.02160605,  0.03558232,  0.05054053,  0.00627118,\n",
       "        -0.00424863,  0.00600958, -0.00084981, -0.0175872 ,  0.00977136,\n",
       "         0.03724241,  0.0068744 , -0.01569537,  0.00050551,  0.04595589,\n",
       "         0.01009379,  0.02483632, -0.03971247, -0.00292158,  0.00360335,\n",
       "        -0.00185643, -0.02303895, -0.03240954,  0.02248268, -0.00289003,\n",
       "         0.00268239, -0.0207774 , -0.06469379,  0.03242848, -0.03429165,\n",
       "        -0.00761854, -0.02205722, -0.02701184,  0.04517304, -0.04065809,\n",
       "         0.06215963,  0.03884323, -0.04009372, -0.02064764, -0.01885584,\n",
       "         0.00025838,  0.02006054, -0.05172969, -0.01724735,  0.00435999,\n",
       "        -0.00593886, -0.00696541,  0.00388755,  0.03591707,  0.00669567,\n",
       "         0.04359701,  0.01256804, -0.00087616, -0.01816239, -0.02178567,\n",
       "         0.07016115,  0.00601998, -0.0113477 , -0.04498685,  0.05818142,\n",
       "         0.05211949, -0.02461068,  0.00075262,  0.01512152, -0.02687884,\n",
       "        -0.0181833 , -0.00268689,  0.0358604 ,  0.07857488,  0.07115712,\n",
       "        -0.01517762,  0.03336829, -0.02131727, -0.0016264 ,  0.04021277,\n",
       "        -0.01313302,  0.04760955, -0.058867  , -0.02777864,  0.04214745,\n",
       "         0.01784632, -0.00082204,  0.03048117,  0.04672662, -0.02536138,\n",
       "         0.00818591,  0.02843247, -0.00792933,  0.03250491,  0.09675266,\n",
       "        -0.00693805, -0.00670864, -0.01433837,  0.02805237, -0.01640057,\n",
       "        -0.01534822,  0.00934491,  0.00299641,  0.05566756,  0.01930993,\n",
       "         0.08313663,  0.01237497, -0.04443988,  0.02632176, -0.02345391,\n",
       "        -0.04557131,  0.00702103,  0.03076121, -0.00141275, -0.00376242,\n",
       "         0.00676552,  0.03461573, -0.0085564 ,  0.03385695,  0.02071708,\n",
       "         0.02760582,  0.00893064, -0.03687854,  0.00971106, -0.02816459,\n",
       "        -0.02647058, -0.11773841,  0.00255936, -0.00375967,  0.02417764,\n",
       "        -0.04163712,  0.00477728, -0.02458397,  0.02282428, -0.06126856,\n",
       "         0.02723766,  0.01517657,  0.01120779, -0.00052659, -0.02422045,\n",
       "         0.01733861, -0.03061469,  0.02086625, -0.04164736, -0.05800528,\n",
       "         0.00954658, -0.05429634, -0.02013285, -0.01014006,  0.07088365,\n",
       "        -0.01972164, -0.01246768,  0.02125231, -0.07544183, -0.03756456,\n",
       "        -0.03489328, -0.0197486 , -0.0475818 ,  0.05821097,  0.00477033,\n",
       "        -0.03859916,  0.04441996,  0.03205075,  0.01368233,  0.02209965,\n",
       "         0.05244546, -0.05179138,  0.03558229, -0.04186573, -0.06616941,\n",
       "        -0.02620159,  0.02152508, -0.00582687, -0.08393968, -0.01942958,\n",
       "         0.03408581,  0.01800063,  0.01565658,  0.03443022,  0.04763511,\n",
       "        -0.02580697,  0.01372828,  0.02100898,  0.05225186,  0.03468521,\n",
       "         0.02684677, -0.05099412,  0.00183853, -0.01633704,  0.02248172,\n",
       "         0.00596833, -0.0150197 , -0.05099929, -0.0473734 , -0.02160198,\n",
       "         0.03169791, -0.04796929,  0.00528954, -0.04478437,  0.0269164 ,\n",
       "         0.04138378, -0.06948978, -0.00904626, -0.00873709,  0.00722733,\n",
       "         0.01612475,  0.00794122, -0.06868996,  0.01711903, -0.04532181,\n",
       "        -0.01641904,  0.0072963 ,  0.01973309, -0.0092834 ,  0.00066804,\n",
       "        -0.02977948, -0.01054058, -0.02004278,  0.0813816 , -0.01762315,\n",
       "         0.01348528,  0.02674495,  0.04617549, -0.01754394,  0.0578277 ,\n",
       "         0.01606091, -0.00874332,  0.01423929,  0.04821525, -0.03595514,\n",
       "         0.03288363,  0.06515476,  0.02558162,  0.06206295,  0.0317234 ,\n",
       "         0.03555763,  0.02392519,  0.02128651, -0.00763294, -0.05316394,\n",
       "         0.02470795,  0.00853314, -0.01144087,  0.02357751, -0.0001306 ,\n",
       "         0.03118152,  0.01375128,  0.02079457, -0.03842372, -0.01229497,\n",
       "        -0.01979547, -0.03768991, -0.0054905 , -0.01360799,  0.00820667,\n",
       "        -0.01037623,  0.0245474 ,  0.00624884, -0.03212404,  0.07545009,\n",
       "         0.0280594 , -0.03885968,  0.05616882,  0.00291115,  0.00752055,\n",
       "        -0.05611778,  0.00085641,  0.01987303,  0.03172608, -0.0382233 ,\n",
       "         0.04253381, -0.04113524,  0.06487425, -0.00995152, -0.06716978,\n",
       "         0.00269602,  0.00468496,  0.03004373, -0.03286873,  0.02165952,\n",
       "        -0.03172152,  0.03416276, -0.03306124,  0.09874003, -0.07108793,\n",
       "        -0.02465032, -0.00702125, -0.01272458, -0.02411228,  0.0004792 ,\n",
       "         0.01654015,  0.00717689,  0.0310101 ,  0.01267592,  0.00022095,\n",
       "         0.07705944,  0.02978325,  0.00164428,  0.00863584, -0.03482915,\n",
       "        -0.02921723,  0.00192951,  0.01025903,  0.07267241, -0.03908787,\n",
       "         0.01267603,  0.00185398,  0.0157099 ,  0.10094444,  0.01513384,\n",
       "        -0.00311163,  0.07102416,  0.0520583 , -0.01619976, -0.00994162,\n",
       "        -0.00505312, -0.00319771, -0.02985778, -0.04168617, -0.02454256,\n",
       "         0.02979549,  0.02312408,  0.0126517 ,  0.02443675, -0.03396047,\n",
       "        -0.05946349,  0.04565998, -0.0026587 ,  0.02547736,  0.01576355,\n",
       "        -0.07164893,  0.02250089,  0.04003105, -0.04277771, -0.09652781,\n",
       "        -0.04896869, -0.00205142,  0.02560637,  0.00619328,  0.02224938,\n",
       "         0.05009876,  0.02611076, -0.05573853, -0.00775424,  0.02208413,\n",
       "        -0.02823645, -0.01021925,  0.02371516, -0.04403436, -0.0236064 ,\n",
       "        -0.03368381,  0.03026145, -0.02177723, -0.01048167, -0.01607671,\n",
       "        -0.05509033, -0.00519075,  0.08875702,  0.05628365, -0.01473588,\n",
       "         0.05274107, -0.02195901,  0.05630071], dtype=float32)}"
      ]
     },
     "execution_count": 56,
     "metadata": {},
     "output_type": "execute_result"
    }
   ],
   "source": [
    "documents[-1]"
   ]
  },
  {
   "cell_type": "code",
   "execution_count": 55,
   "id": "ecba8e3b-7f61-402c-8106-62bde9eb1746",
   "metadata": {},
   "outputs": [],
   "source": [
    "def elastic_search_knn(field, vector, law_title):\n",
    "    knn = {\n",
    "        \"field\": field,\n",
    "        \"query_vector\": vector,\n",
    "        \"k\": 5,\n",
    "        \"num_candidates\": 10000,\n",
    "        \"filter\": {\n",
    "            \"term\": {\n",
    "                \"law_title\": law_title\n",
    "            }\n",
    "        }\n",
    "    }\n",
    "\n",
    "    search_query = {\n",
    "        \"knn\": knn,\n",
    "        \"_source\": [\"law_title\", \"law_number\", \"chapter_title\", \"article_number\", \"title\", \"content\",\"id\"]\n",
    "    }\n",
    "\n",
    "    es_results = es_client.search(\n",
    "        index=index_name,\n",
    "        body=search_query\n",
    "    )\n",
    "    \n",
    "    result_docs = []\n",
    "    \n",
    "    for hit in es_results['hits']['hits']:\n",
    "        result_docs.append(hit['_source'])\n",
    "\n",
    "    return result_docs"
   ]
  },
  {
   "cell_type": "code",
   "execution_count": 57,
   "id": "cfee8915",
   "metadata": {},
   "outputs": [
    {
     "data": {
      "text/plain": [
       "[{'article_number': 'Điều 16',\n",
       "  'law_number': 'Luật số: 23/2008/QH12',\n",
       "  'chapter_title': 'CHƯƠNG II',\n",
       "  'id': '7f7a2ff6',\n",
       "  'title': 'Lùi xe',\n",
       "  'law_title': 'Luật Giao Thông Đường Bộ',\n",
       "  'content': '1. Khi lùi xe, người điều khiển phải quan sát phía sau, có tín hiệu cần thiết và chỉ khi nào thấy không nguy hiểm mới được lùi. 2. Không được lùi xe ở khu vực cấm dừng, trên phần đường dành cho người đi bộ qua đường, nơi đường bộ giao nhau, đường bộ giao nhau cùng mức với đường sắt, nơi tầm nhìn bị che khuất, trong hầm đường bộ, đường cao tốc. '},\n",
       " {'article_number': 'Điều 27',\n",
       "  'law_number': 'Luật số: 23/2008/QH12',\n",
       "  'chapter_title': 'CHƯƠNG II',\n",
       "  'id': '4f15f43a',\n",
       "  'title': 'Giao thông trong hầm đường bộ',\n",
       "  'law_title': 'Luật Giao Thông Đường Bộ',\n",
       "  'content': 'Người điều khiển phương tiện trong hầm đường bộ ngoài việc tuân thủ các quy tắc giao thông quy định tại Luật này còn phải thực hiện các quy định sau đây: 1. Xe cơ giới, xe máy chuyên dùng phải bật đèn; xe thô sơ phải bật đèn hoặc có vật phát sáng báo hiệu; 2. Chỉ được dừng xe, đỗ xe ở nơi quy định. '},\n",
       " {'article_number': 'Điều 15',\n",
       "  'law_number': 'Luật số: 23/2008/QH12',\n",
       "  'chapter_title': 'CHƯƠNG II',\n",
       "  'id': '4fde6f0d',\n",
       "  'title': 'Chuyển hướng xe',\n",
       "  'law_title': 'Luật Giao Thông Đường Bộ',\n",
       "  'content': '1. Khi muốn chuyển hướng, người điều khiển phương tiện phải giảm tốc độ và có tín hiệu báo hướng rẽ. 2. Trong khi chuyển hướng, người lái xe, người điều khiển xe máy chuyên dùng phải nhường quyền đi trước cho người đi bộ, người đi xe đạp đang đi trên phần đường dành riêng cho họ, nhường đường cho các xe đi ngược chiều và chỉ cho xe chuyển hướng khi quan sát thấy không gây trở ngại hoặc nguy hiểm cho người và phương tiện khác. 3. Trong khu dân cư, người lái xe, người điều khiển xe máy chuyên dùng chỉ được quay đầu xe ở nơi đường giao nhau và nơi có biển báo cho phép quay đầu xe. 4. Không được quay đầu xe ở phần đường dành cho người đi bộ qua đường, trên cầu, đầu cầu, gầm cầu vượt, ngầm, trong hầm đường bộ, đường cao tốc, tại nơi đường bộ giao nhau cùng mức với đường sắt, đường hẹp, đường dốc, đoạn đường cong tầm nhìn bị che khuất. '},\n",
       " {'article_number': 'Điều 26',\n",
       "  'law_number': 'Luật số: 23/2008/QH12',\n",
       "  'chapter_title': 'CHƯƠNG II',\n",
       "  'id': '727fc1fe',\n",
       "  'title': 'Giao thông trên đường cao tốc',\n",
       "  'law_title': 'Luật Giao Thông Đường Bộ',\n",
       "  'content': '1. Người lái xe, người điều khiển xe máy chuyên dùng trên đường cao tốc ngoài việc tuân thủ các quy tắc giao thông quy định tại Luật này còn phải thực hiện các quy định sau đây: a) Khi vào đường cao tốc phải có tín hiệu xin vào và phải nhường đường cho xe đang chạy trên đường, khi thấy an toàn mới cho xe nhập vào dòng xe ở làn đường sát mép ngoài, nếu có làn đường tăng tốc thì phải cho xe chạy trên làn đường đó trước khi vào làn đường của đường cao tốc; b) Khi ra khỏi đường cao tốc phải thực hiện chuyển dần sang làn đường phía bên phải, nếu có làn đường giảm tốc thì phải cho xe chạy trên làn đường đó trước khi rời khỏi đường cao tốc; c) Không được cho xe chạy ở làn dừng xe khẩn cấp và phần lề đường; d) Không được cho xe chạy quá tốc độ tối đa và dưới tốc độ tối thiểu ghi trên biển báo hiệu, sơn kẻ trên mặt đường. 2. Người lái xe, người điều khiển xe máy chuyên dùng phải cho xe chạy cách nhau một khoảng cách an toàn ghi trên biển báo hiệu. 3. Chỉ được dừng xe, đỗ xe ở nơi quy định; trường hợp buộc phải dừng xe, đỗ xe không đúng nơi quy định thì người lái xe phải đưa xe ra khỏi phần đường xe chạy, nếu không thể được thì phải báo hiệu để người lái xe khác biết. 4. Người đi bộ, xe thô sơ, xe gắn máy, xe mô tô và máy kéo; xe máy chuyên dùng có tốc độ thiết kế nhỏ hơn 70 km/h không được đi vào đường cao tốc, trừ người, phương tiện, thiết bị phục vụ việc quản lý, bảo trì đường cao tốc. '},\n",
       " {'article_number': 'Điều 19',\n",
       "  'law_number': 'Luật số: 23/2008/QH12',\n",
       "  'chapter_title': 'CHƯƠNG II',\n",
       "  'id': '0367a752',\n",
       "  'title': 'Dừng xe, đỗ xe trên đường phố',\n",
       "  'law_title': 'Luật Giao Thông Đường Bộ',\n",
       "  'content': 'Người điều khiển phương tiện khi dừng xe, đỗ xe trên đường phố phải tuân theo quy định tại Điều 18 của Luật này và các quy định sau đây: 1. Phải cho xe dừng, đỗ sát theo lề đường, hè phố phía bên phải theo chiều đi của mình; bánh xe gần nhất không được cách xa lề đường, hè phố quá 0,25 mét và không gây cản trở, nguy hiểm cho giao thông. Trường hợp đường phố hẹp, phải dừng xe, đỗ xe ở vị trí cách xe ô tô đang đỗ bên kia đường tối thiểu 20 mét. 2. Không được dừng xe, đỗ xe trên đường xe điện, trên miệng cống thoát nước, miệng hầm của đường điện thoại, điện cao thế, chỗ dành riêng cho xe chữa cháy lấy nước. Không được để phương tiện giao thông ở lòng đường, hè phố trái quy định. '}]"
      ]
     },
     "execution_count": 57,
     "metadata": {},
     "output_type": "execute_result"
    }
   ],
   "source": [
    "elastic_search_knn('content_vector',v_q,'Luật Giao Thông Đường Bộ')"
   ]
  },
  {
   "cell_type": "code",
   "execution_count": 59,
   "id": "cc09b90a-a88b-4678-a613-eb68e16136d5",
   "metadata": {},
   "outputs": [],
   "source": [
    "def question_vector_knn(q):\n",
    "    questions = q['questions']\n",
    "    law_title = q['law_title']\n",
    "\n",
    "    v_q = model.encode(questions)\n",
    "\n",
    "    return elastic_search_knn('content_vector', v_q, law_title)"
   ]
  },
  {
   "cell_type": "code",
   "execution_count": 60,
   "id": "163d5e97-e1b7-45e1-ba1e-61fca4fc37a9",
   "metadata": {},
   "outputs": [],
   "source": [
    "import pandas as pd"
   ]
  },
  {
   "cell_type": "code",
   "execution_count": 61,
   "id": "e3da963b-cd17-471b-9cff-7f8c4276b915",
   "metadata": {},
   "outputs": [],
   "source": [
    "df_ground_truth = pd.read_csv('./ground-truth-data.csv')"
   ]
  },
  {
   "cell_type": "code",
   "execution_count": 62,
   "id": "d53d3beb-d699-46c8-bc85-953afc4ef48d",
   "metadata": {},
   "outputs": [],
   "source": [
    "ground_truth = df_ground_truth.to_dict(orient='records')"
   ]
  },
  {
   "cell_type": "code",
   "execution_count": 64,
   "id": "0deced29-bae5-4b6c-b2b8-53ce46b4f8ab",
   "metadata": {},
   "outputs": [
    {
     "data": {
      "text/plain": [
       "{'questions': 'Luật có liên quan đến những nội dung nào khác không?',\n",
       " 'law_title': 'Luật Giao Thông Đường Bộ',\n",
       " 'document': '2bb7dafa'}"
      ]
     },
     "execution_count": 64,
     "metadata": {},
     "output_type": "execute_result"
    }
   ],
   "source": [
    "ground_truth[-1]"
   ]
  },
  {
   "cell_type": "code",
   "execution_count": 65,
   "id": "8959c9ff-5bbe-4729-8fa3-cdc51ed10f5f",
   "metadata": {},
   "outputs": [],
   "source": [
    "def hit_rate(relevance_total):\n",
    "    cnt = 0\n",
    "\n",
    "    for line in relevance_total:\n",
    "        if True in line:\n",
    "            cnt = cnt + 1\n",
    "\n",
    "    return cnt / len(relevance_total)"
   ]
  },
  {
   "cell_type": "code",
   "execution_count": 66,
   "id": "842255b5-18f2-4102-9689-a5835e0a621c",
   "metadata": {},
   "outputs": [],
   "source": [
    "def mrr(relevance_total):\n",
    "    total_score = 0.0\n",
    "\n",
    "    for line in relevance_total:\n",
    "        for rank in range(len(line)):\n",
    "            if line[rank] == True:\n",
    "                total_score = total_score + 1 / (rank + 1)\n",
    "\n",
    "    return total_score / len(relevance_total)"
   ]
  },
  {
   "cell_type": "code",
   "execution_count": 67,
   "id": "f11baaff-43d9-4b8c-a896-561b86e85743",
   "metadata": {},
   "outputs": [],
   "source": [
    "def evaluate(ground_truth, search_function):\n",
    "    relevance_total = []\n",
    "\n",
    "    for q in tqdm(ground_truth):\n",
    "        doc_id = q['document']\n",
    "        results = search_function(q)\n",
    "        relevance = [d['id'] == doc_id for d in results]\n",
    "        relevance_total.append(relevance)\n",
    "\n",
    "    return {\n",
    "        'hit_rate': hit_rate(relevance_total),\n",
    "        'mrr': mrr(relevance_total),\n",
    "    }"
   ]
  },
  {
   "cell_type": "code",
   "execution_count": 68,
   "id": "f1d3530e-1406-49dd-bba9-914f6a39d7f2",
   "metadata": {},
   "outputs": [
    {
     "data": {
      "application/vnd.jupyter.widget-view+json": {
       "model_id": "2f21416dc5b743e7b1c993acc3fdde05",
       "version_major": 2,
       "version_minor": 0
      },
      "text/plain": [
       "  0%|          | 0/1570 [00:00<?, ?it/s]"
      ]
     },
     "metadata": {},
     "output_type": "display_data"
    },
    {
     "data": {
      "text/plain": [
       "{'hit_rate': 0.9063694267515924, 'mrr': 0.7849044585987267}"
      ]
     },
     "execution_count": 68,
     "metadata": {},
     "output_type": "execute_result"
    }
   ],
   "source": [
    "evaluate(ground_truth, question_vector_knn)"
   ]
  },
  {
   "cell_type": "markdown",
   "id": "3aa5eb82-27df-4577-a2e2-23971f2fa964",
   "metadata": {},
   "source": [
    "ES text only: 0.7395720769397017, 0.6032418413658963"
   ]
  },
  {
   "cell_type": "code",
   "execution_count": 77,
   "id": "e87f0987-02e9-4e2c-a091-14a75c9ce58d",
   "metadata": {},
   "outputs": [],
   "source": [
    "def title_content_vector_knn(q):\n",
    "    questions = q['questions']\n",
    "    law_title = q['law_title']\n",
    "\n",
    "    v_q = model.encode(questions)\n",
    "\n",
    "    return elastic_search_knn('title_content_vector', v_q, law_title)\n"
   ]
  },
  {
   "cell_type": "code",
   "execution_count": null,
   "id": "d676bd5e-4abc-4799-bb37-c1a86b3b9872",
   "metadata": {},
   "outputs": [
    {
     "data": {
      "application/vnd.jupyter.widget-view+json": {
       "model_id": "de59e808e65b4fa49a91d9d486d25af6",
       "version_major": 2,
       "version_minor": 0
      },
      "text/plain": [
       "  0%|          | 0/1570 [00:00<?, ?it/s]"
      ]
     },
     "metadata": {},
     "output_type": "display_data"
    },
    {
     "data": {
      "text/plain": [
       "{'hit_rate': 0.9159235668789809, 'mrr': 0.7966985138004254}"
      ]
     },
     "execution_count": 78,
     "metadata": {},
     "output_type": "execute_result"
    },
    {
     "ename": "",
     "evalue": "",
     "output_type": "error",
     "traceback": [
      "\u001b[1;31mThe Kernel crashed while executing code in the current cell or a previous cell. \n",
      "\u001b[1;31mPlease review the code in the cell(s) to identify a possible cause of the failure. \n",
      "\u001b[1;31mClick <a href='https://aka.ms/vscodeJupyterKernelCrash'>here</a> for more info. \n",
      "\u001b[1;31mView Jupyter <a href='command:jupyter.viewOutput'>log</a> for further details."
     ]
    }
   ],
   "source": [
    "evaluate(ground_truth, title_content_vector_knn)"
   ]
  }
 ],
 "metadata": {
  "kernelspec": {
   "display_name": "Python 3 (ipykernel)",
   "language": "python",
   "name": "python3"
  }
 },
 "nbformat": 4,
 "nbformat_minor": 5
}
