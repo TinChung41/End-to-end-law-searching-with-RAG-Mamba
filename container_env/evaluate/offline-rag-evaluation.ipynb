{
 "cells": [
  {
   "cell_type": "markdown",
   "id": "82e471cb-7aec-4c00-9eed-36e6f2447eb5",
   "metadata": {},
   "source": [
    "## Load documents with IDs"
   ]
  },
  {
   "cell_type": "code",
   "execution_count": 1,
   "id": "76241162-06cf-4d61-959b-1d36a8678bf3",
   "metadata": {},
   "outputs": [],
   "source": [
    "import json\n",
    "from tqdm.auto import tqdm\n",
    "\n",
    "\n",
    "with open('/app/Law_corpus/documents-with-ids.json', 'rt') as f_in:\n",
    "    documents = json.load(f_in)"
   ]
  },
  {
   "cell_type": "code",
   "execution_count": 2,
   "id": "f745e802-1cb5-4e77-afa0-a4e276270a62",
   "metadata": {},
   "outputs": [
    {
     "data": {
      "text/plain": [
       "{'law_title': 'Luật Hôn Nhân Và Gia Đình',\n",
       " 'law_number': 'Số: 52/2014/QH13',\n",
       " 'chapter_title': 'Chương III',\n",
       " 'article_number': 'Điều 46',\n",
       " 'title': 'Nhập tài sản riêng của vợ, chồng vào tài sản chung',\n",
       " 'content': '1. Việc nhập tài sản riêng của vợ, chồng vào tài sản chung được thực hiện theo thỏa thuận của vợ chồng. 2. Tài sản được nhập vào tài sản chung mà theo quy định của pháp luật, giao dịch liên quan đến tài sản đó phải tuân theo hình thức nhất định thì thỏa thuận phải bảo đảm hình thức đó. 3. Nghĩa vụ liên quan đến tài sản riêng đã nhập vào tài sản chung được thực hiện bằng tài sản chung, trừ trường hợp vợ chồng có thỏa thuận khác hoặc pháp luật có quy định khác. ',\n",
       " 'id': '146451b7'}"
      ]
     },
     "execution_count": 2,
     "metadata": {},
     "output_type": "execute_result"
    }
   ],
   "source": [
    "documents[150]"
   ]
  },
  {
   "cell_type": "markdown",
   "id": "2dcd8e36-32c1-435a-be50-56618ee7a605",
   "metadata": {},
   "source": [
    "## Load ground truth"
   ]
  },
  {
   "cell_type": "code",
   "execution_count": 3,
   "id": "79da91e5-bb37-4a7a-860b-0d3909f5de88",
   "metadata": {},
   "outputs": [],
   "source": [
    "import pandas as pd\n",
    "\n",
    "df_ground_truth = pd.read_csv('./evaluate/ground-truth-data.csv')\n",
    "ground_truth = df_ground_truth.to_dict(orient='records')"
   ]
  },
  {
   "cell_type": "code",
   "execution_count": 4,
   "id": "4b830c7b-03a9-44be-93cd-3a0e7da12eed",
   "metadata": {},
   "outputs": [
    {
     "data": {
      "text/plain": [
       "{'generated_question': 'Các loại hình cơ sở giáo dục mầm non được quy định như thế nào trong Luật Giáo Dục?',\n",
       " 'generated_answer': 'Cơ sở giáo dục mầm non bao gồm: 1. Nhà trẻ, nhóm trẻ độc lập nhận trẻ em từ 03 tháng tuổi đến 03 tuổi; 2. Trường mẫu giáo, lớp mẫu giáo độc lập nhận trẻ em từ 03 tuổi đến 06 tuổi; 3. Trường mầm non, lớp mầm non độc lập là cơ sở giáo dục kết hợp nhà trẻ và mẫu giáo, nhận trẻ em từ 03 tháng tuổi đến 06 tuổi.',\n",
       " 'doc_id': 'a0fcdc5b',\n",
       " 'law_title': 'Luật Giáo Dục'}"
      ]
     },
     "execution_count": 4,
     "metadata": {},
     "output_type": "execute_result"
    }
   ],
   "source": [
    "ground_truth[0]"
   ]
  },
  {
   "cell_type": "code",
   "execution_count": 5,
   "id": "7cfd91ec-8ec8-4570-bff7-228c5eb7327b",
   "metadata": {},
   "outputs": [
    {
     "data": {
      "text/plain": [
       "{'law_title': 'Luật Giáo Dục',\n",
       " 'law_number': 'Luật số: 43/2019/QH14',\n",
       " 'chapter_title': 'Chương II',\n",
       " 'article_number': 'Điều 26',\n",
       " 'title': 'Cơ sở giáo dục mầm non',\n",
       " 'content': 'Cơ sở giáo dục mầm non bao gồm: 1. Nhà trẻ, nhóm trẻ độc lập nhận trẻ em từ 03 tháng tuổi đến 03 tuổi; 2. Trường mẫu giáo, lớp mẫu giáo độc lập nhận trẻ em từ 03 tuổi đến 06 tuổi; 3. Trường mầm non, lớp mầm non độc lập là cơ sở giáo dục kết hợp nhà trẻ và mẫu giáo, nhận trẻ em từ 03 tháng tuổi đến 06 tuổi. ',\n",
       " 'id': 'a0fcdc5b'}"
      ]
     },
     "execution_count": 5,
     "metadata": {},
     "output_type": "execute_result"
    }
   ],
   "source": [
    "doc_idx = {d['id']: d for d in documents}\n",
    "doc_idx['a0fcdc5b']"
   ]
  },
  {
   "cell_type": "code",
   "execution_count": 6,
   "id": "4637a874",
   "metadata": {},
   "outputs": [
    {
     "data": {
      "text/plain": [
       "{'generated_question': 'Các loại hình cơ sở giáo dục mầm non được quy định như thế nào trong Luật Giáo Dục?',\n",
       " 'generated_answer': 'Cơ sở giáo dục mầm non bao gồm: 1. Nhà trẻ, nhóm trẻ độc lập nhận trẻ em từ 03 tháng tuổi đến 03 tuổi; 2. Trường mẫu giáo, lớp mẫu giáo độc lập nhận trẻ em từ 03 tuổi đến 06 tuổi; 3. Trường mầm non, lớp mầm non độc lập là cơ sở giáo dục kết hợp nhà trẻ và mẫu giáo, nhận trẻ em từ 03 tháng tuổi đến 06 tuổi.',\n",
       " 'doc_id': 'a0fcdc5b',\n",
       " 'law_title': 'Luật Giáo Dục'}"
      ]
     },
     "execution_count": 6,
     "metadata": {},
     "output_type": "execute_result"
    }
   ],
   "source": [
    "ground_truth[0]"
   ]
  },
  {
   "cell_type": "markdown",
   "id": "9042aa10-abed-4009-b7af-769d8b477cd0",
   "metadata": {},
   "source": [
    "## Index data"
   ]
  },
  {
   "cell_type": "code",
   "execution_count": 7,
   "id": "3f61b1fe-f67a-4217-9fbe-5fd57eefd53d",
   "metadata": {},
   "outputs": [
    {
     "data": {
      "application/vnd.jupyter.widget-view+json": {
       "model_id": "1e52259211654c07b35ba3d02a40c573",
       "version_major": 2,
       "version_minor": 0
      },
      "text/plain": [
       "modules.json:   0%|          | 0.00/349 [00:00<?, ?B/s]"
      ]
     },
     "metadata": {},
     "output_type": "display_data"
    },
    {
     "data": {
      "application/vnd.jupyter.widget-view+json": {
       "model_id": "8e5efdf7011d4960bc0398bcc879c911",
       "version_major": 2,
       "version_minor": 0
      },
      "text/plain": [
       "config_sentence_transformers.json:   0%|          | 0.00/195 [00:00<?, ?B/s]"
      ]
     },
     "metadata": {},
     "output_type": "display_data"
    },
    {
     "data": {
      "application/vnd.jupyter.widget-view+json": {
       "model_id": "000db53ba57c4fb6b0281f2de46f088f",
       "version_major": 2,
       "version_minor": 0
      },
      "text/plain": [
       "README.md:   0%|          | 0.00/5.07k [00:00<?, ?B/s]"
      ]
     },
     "metadata": {},
     "output_type": "display_data"
    },
    {
     "data": {
      "application/vnd.jupyter.widget-view+json": {
       "model_id": "6ecf77fefc224b11aeb80122340de2fe",
       "version_major": 2,
       "version_minor": 0
      },
      "text/plain": [
       "sentence_bert_config.json:   0%|          | 0.00/53.0 [00:00<?, ?B/s]"
      ]
     },
     "metadata": {},
     "output_type": "display_data"
    },
    {
     "data": {
      "application/vnd.jupyter.widget-view+json": {
       "model_id": "71a6be7589fa4434a52e14c9c26b6280",
       "version_major": 2,
       "version_minor": 0
      },
      "text/plain": [
       "config.json:   0%|          | 0.00/707 [00:00<?, ?B/s]"
      ]
     },
     "metadata": {},
     "output_type": "display_data"
    },
    {
     "data": {
      "application/vnd.jupyter.widget-view+json": {
       "model_id": "3bfab057dcf44e5a9b1093a242e3c752",
       "version_major": 2,
       "version_minor": 0
      },
      "text/plain": [
       "model.safetensors:   0%|          | 0.00/1.11G [00:00<?, ?B/s]"
      ]
     },
     "metadata": {},
     "output_type": "display_data"
    },
    {
     "data": {
      "application/vnd.jupyter.widget-view+json": {
       "model_id": "fc44c50830ee4394922f759620f13b35",
       "version_major": 2,
       "version_minor": 0
      },
      "text/plain": [
       "tokenizer_config.json:   0%|          | 0.00/1.34k [00:00<?, ?B/s]"
      ]
     },
     "metadata": {},
     "output_type": "display_data"
    },
    {
     "data": {
      "application/vnd.jupyter.widget-view+json": {
       "model_id": "125bb29ab7c94cc2bb2ea7e9fcfd9b13",
       "version_major": 2,
       "version_minor": 0
      },
      "text/plain": [
       "tokenizer.json:   0%|          | 0.00/17.1M [00:00<?, ?B/s]"
      ]
     },
     "metadata": {},
     "output_type": "display_data"
    },
    {
     "data": {
      "application/vnd.jupyter.widget-view+json": {
       "model_id": "367ef7b7284741978be90cd746dea695",
       "version_major": 2,
       "version_minor": 0
      },
      "text/plain": [
       "special_tokens_map.json:   0%|          | 0.00/964 [00:00<?, ?B/s]"
      ]
     },
     "metadata": {},
     "output_type": "display_data"
    },
    {
     "name": "stderr",
     "output_type": "stream",
     "text": [
      "Invalid model-index. Not loading eval results into CardData.\n"
     ]
    },
    {
     "data": {
      "application/vnd.jupyter.widget-view+json": {
       "model_id": "6ce77ffef8864f8a827bc5687458b10d",
       "version_major": 2,
       "version_minor": 0
      },
      "text/plain": [
       "1_Pooling%2Fconfig.json:   0%|          | 0.00/296 [00:00<?, ?B/s]"
      ]
     },
     "metadata": {},
     "output_type": "display_data"
    },
    {
     "name": "stderr",
     "output_type": "stream",
     "text": [
      "Invalid model-index. Not loading eval results into CardData.\n"
     ]
    }
   ],
   "source": [
    "from sentence_transformers import SentenceTransformer\n",
    "model = SentenceTransformer(\"truro7/vn-law-embedding\", truncate_dim = 768) #truncate_dim = 768"
   ]
  },
  {
   "cell_type": "code",
   "execution_count": 8,
   "id": "79c49a41-7693-4bf5-a086-9ad6aaaf0284",
   "metadata": {},
   "outputs": [
    {
     "data": {
      "text/plain": [
       "ObjectApiResponse({'acknowledged': True, 'shards_acknowledged': True, 'index': 'legal_documents_ids'})"
      ]
     },
     "execution_count": 8,
     "metadata": {},
     "output_type": "execute_result"
    }
   ],
   "source": [
    "from elasticsearch import Elasticsearch\n",
    "# es_client = Elasticsearch('http://localhost:9200') \n",
    "es_client = Elasticsearch('http://elasticsearch_compose:9200') #connect to docker compose network if runinng from dockerfile container \n",
    "# es_client.info()\n",
    "\n",
    "index_settings = {\n",
    "    \"settings\": {\n",
    "        \"number_of_shards\": 1,\n",
    "        \"number_of_replicas\": 0\n",
    "    },\n",
    "    \"mappings\": {\n",
    "        \"properties\": {\n",
    "            \"law_title\": {\"type\": \"keyword\"},                \n",
    "            \"law_number\": {\"type\": \"keyword\"},               \n",
    "            \"chapter_title\": {\"type\": \"keyword\"},            \n",
    "            \"article_number\": {\"type\": \"keyword\"},            \n",
    "            \"title\": {\"type\": \"text\"},                        \n",
    "            \"content\": {\"type\": \"text\"},   \n",
    "            \"id\": {\"type\": \"text\"},   \n",
    "            \"title_content_vector\": {                                 \n",
    "                \"type\": \"dense_vector\",\n",
    "                \"dims\": 768,                                 \n",
    "                \"index\": True,\n",
    "                \"similarity\": \"cosine\"\n",
    "            }                \n",
    "        }\n",
    "    }\n",
    "}\n",
    "\n",
    "index_name = \"legal_documents_ids\"\n",
    "\n",
    "es_client.indices.delete(index=index_name, ignore_unavailable=True)\n",
    "es_client.indices.create(index=index_name, body=index_settings)"
   ]
  },
  {
   "cell_type": "code",
   "execution_count": 9,
   "id": "4918cff9",
   "metadata": {},
   "outputs": [
    {
     "data": {
      "application/vnd.jupyter.widget-view+json": {
       "model_id": "7b4ad79ce0524b0f8da175868cc9cb48",
       "version_major": 2,
       "version_minor": 0
      },
      "text/plain": [
       "  0%|          | 0/314 [00:00<?, ?it/s]"
      ]
     },
     "metadata": {},
     "output_type": "display_data"
    }
   ],
   "source": [
    "from tqdm.auto import tqdm\n",
    "\n",
    "for doc in tqdm(documents):\n",
    "    title = doc['title']\n",
    "    content = doc['content']\n",
    "    doc['title_content_vector'] = model.encode(title + ' ' + content)\n",
    "\n",
    "    es_client.index(index=index_name, document=doc)"
   ]
  },
  {
   "cell_type": "code",
   "execution_count": 10,
   "id": "f619e527",
   "metadata": {},
   "outputs": [
    {
     "data": {
      "text/plain": [
       "{'law_title': 'Luật Giáo Dục',\n",
       " 'law_number': 'Luật số: 43/2019/QH14',\n",
       " 'chapter_title': 'Chương I',\n",
       " 'article_number': 'Điều 1',\n",
       " 'title': 'Phạm vi điều chỉnh',\n",
       " 'content': 'Luật này quy định về hệ thống giáo dục quốc dân; cơ sở giáo dục, nhà giáo, người học; quản lý nhà nước về giáo dục; quyền và trách nhiệm của cơ quan, tổ chức, cá nhân liên quan đến hoạt động giáo dục. ',\n",
       " 'id': '75a9286e',\n",
       " 'title_content_vector': array([-1.97882224e-02, -1.99339297e-02,  4.56860475e-02,  8.96888971e-02,\n",
       "        -5.92795312e-02, -6.35427088e-02,  4.05403003e-02,  1.20414663e-02,\n",
       "         1.30230516e-01,  3.74822877e-02,  7.43912440e-03,  8.62386171e-03,\n",
       "         4.33983728e-02,  2.53979526e-02,  1.36169503e-02, -1.71789490e-02,\n",
       "         6.61228448e-02,  7.36672133e-02, -5.86116761e-02,  9.18327495e-02,\n",
       "        -1.52075256e-03,  4.18600067e-02,  3.99471521e-02,  8.13104771e-03,\n",
       "         2.45093219e-02,  8.91548989e-05,  2.86348090e-02, -6.75837044e-03,\n",
       "         1.57178324e-02,  5.52585609e-02,  1.17705390e-02,  5.95496828e-03,\n",
       "        -1.36533482e-02,  3.90819507e-03,  6.66174293e-02, -2.31575239e-02,\n",
       "        -1.98699106e-02,  4.71658185e-02,  1.02514410e-02,  5.18499576e-02,\n",
       "        -1.07755754e-02, -4.65019979e-03, -9.90018323e-02, -5.45790829e-02,\n",
       "         1.16914026e-02, -6.37483820e-02, -9.12048072e-02, -4.88089994e-02,\n",
       "        -3.31294797e-02, -3.42906304e-02, -8.89409892e-03,  1.38464607e-02,\n",
       "         2.76592448e-02,  3.03702373e-02,  1.30555024e-02, -6.72110096e-02,\n",
       "        -6.12668991e-02,  8.05784203e-03,  1.60065126e-02,  9.11568925e-02,\n",
       "        -4.55023050e-02,  4.07142602e-02, -3.98442820e-02, -2.15663295e-03,\n",
       "        -1.09871430e-02,  6.05622446e-03,  1.13751002e-01,  2.88625266e-02,\n",
       "         1.54049154e-02,  2.17854250e-02, -2.59449091e-02, -2.06726734e-02,\n",
       "         6.36177137e-03, -3.48505490e-02,  4.36222889e-02, -3.41947973e-02,\n",
       "         1.26460204e-02,  1.18791247e-02, -1.72960348e-02,  2.55805627e-02,\n",
       "        -6.32940605e-02, -1.27873905e-02,  4.03085463e-02, -8.69144313e-03,\n",
       "         3.22629362e-02, -2.84244455e-02, -1.56922843e-02,  6.75964868e-03,\n",
       "         4.47872207e-02, -1.75076239e-02, -2.43373029e-02,  5.54608814e-02,\n",
       "         3.86876725e-02,  1.35822641e-02, -3.66201252e-03,  1.21593308e-02,\n",
       "        -1.64994355e-02,  1.13994582e-02, -2.41392590e-02,  2.69384421e-02,\n",
       "        -5.47493398e-02, -2.69850343e-02,  2.68295920e-03,  1.83037221e-02,\n",
       "         5.61038516e-02,  3.29984762e-02, -6.47342652e-02, -8.60801488e-02,\n",
       "        -8.20627809e-02,  1.03383360e-03, -3.54028121e-02, -1.52368816e-02,\n",
       "        -1.92258246e-02,  1.16992071e-02, -7.37199374e-03, -6.99972585e-02,\n",
       "        -8.76934677e-02,  4.82466109e-02,  9.32560302e-03,  1.56299782e-03,\n",
       "         5.03594503e-02, -2.47773770e-02, -1.87867843e-02, -5.60578927e-02,\n",
       "        -2.63294019e-02,  2.02489225e-03,  4.52885265e-03, -5.15439510e-02,\n",
       "        -5.87531775e-02,  5.21741807e-02,  6.92582428e-02,  3.85817997e-02,\n",
       "        -7.43807405e-02, -1.00163859e-03,  1.43876364e-02, -7.27482289e-02,\n",
       "         2.74872091e-02, -3.55702937e-02, -1.39469132e-02, -2.53002392e-03,\n",
       "         2.43891254e-02, -2.22719759e-02,  2.92085987e-02, -1.31863132e-02,\n",
       "         4.40467037e-02, -2.11272240e-02,  1.30630052e-02, -9.54812579e-03,\n",
       "         1.60325132e-02, -9.59298015e-03, -1.14749325e-02,  5.05448785e-03,\n",
       "         1.24219405e-02, -2.19639894e-02, -9.36420113e-02,  1.25346836e-02,\n",
       "        -2.41750907e-02,  4.65310812e-02,  3.38518843e-02,  1.24587566e-02,\n",
       "        -9.44123324e-03, -4.10059504e-02,  1.72953848e-02, -1.77387502e-02,\n",
       "        -2.06292886e-02,  4.11508372e-03, -1.88253932e-02,  2.97383182e-02,\n",
       "        -6.03371337e-02, -9.47524421e-03,  1.70080573e-03,  5.54369092e-02,\n",
       "         3.73982987e-03,  4.56995293e-02, -1.91709399e-02,  5.17071970e-02,\n",
       "         4.51552263e-03, -1.74405817e-02, -1.68974083e-02, -7.38396047e-05,\n",
       "         1.28871398e-02,  3.00438721e-02,  1.64266936e-02, -1.23596760e-02,\n",
       "         2.49963887e-02,  5.37007116e-02,  1.46596152e-02, -3.34916785e-02,\n",
       "        -6.62616268e-02, -1.94380060e-02, -6.41178414e-02,  9.57213044e-02,\n",
       "        -2.27364991e-02, -5.68324365e-02, -3.72149758e-02, -3.52365971e-02,\n",
       "        -3.91937494e-02, -1.47837093e-02,  1.68652721e-02, -2.61589941e-02,\n",
       "        -3.49321552e-02, -5.22928797e-02, -5.03318831e-02, -6.80068284e-02,\n",
       "         6.38185889e-02, -3.36788222e-02, -1.81072261e-02, -4.90314662e-02,\n",
       "         7.22382870e-03, -2.38797180e-02,  6.37478530e-02, -3.05680335e-02,\n",
       "        -5.32255415e-03, -5.20670414e-02, -2.01467797e-02,  3.74589786e-02,\n",
       "         1.36511577e-02, -4.39700298e-02, -9.32888910e-02, -3.33278929e-03,\n",
       "         2.13854089e-02, -2.51023099e-02, -2.12562010e-02, -3.80894318e-02,\n",
       "         2.91582779e-03, -7.37526128e-03,  4.84443344e-02, -9.47581604e-03,\n",
       "         5.39071523e-02, -4.36178409e-02,  3.08205690e-02,  1.08805271e-02,\n",
       "        -2.64344569e-02, -1.82214677e-02, -6.62933476e-03, -4.34531681e-02,\n",
       "         2.40316335e-02,  8.30997434e-03,  6.77536009e-04,  1.17085008e-02,\n",
       "         4.95536020e-03,  2.92651355e-02,  8.11062194e-03, -1.26451468e-02,\n",
       "        -4.95704310e-03,  4.25521992e-02, -1.73015483e-02,  1.04802791e-02,\n",
       "         8.98090471e-03,  1.84325594e-02, -3.66717763e-02,  9.16522592e-02,\n",
       "        -1.11143626e-02, -6.81969821e-02, -1.29620293e-02, -1.53309721e-02,\n",
       "         2.87247393e-02, -2.09458228e-02, -1.45750390e-02, -5.50156385e-02,\n",
       "        -2.85355430e-02,  2.16825027e-02, -6.55925600e-03,  6.43746033e-02,\n",
       "         8.95649493e-02, -1.71960574e-02, -6.35135919e-02, -2.30324175e-03,\n",
       "         1.19748330e-02, -7.85747357e-03,  2.65271608e-02,  4.19202773e-03,\n",
       "        -3.02750361e-03, -3.55505408e-03,  2.41548866e-02, -4.34689457e-03,\n",
       "        -1.46510275e-02, -1.90944877e-02,  4.83760657e-03,  3.54315042e-02,\n",
       "        -4.91747372e-02,  2.32442711e-02, -3.87327862e-03, -3.11319847e-02,\n",
       "        -2.06513200e-02,  5.53575763e-03,  1.80164464e-02,  4.68767509e-02,\n",
       "         5.28238975e-02,  3.44063267e-02, -2.98938882e-02,  3.23506282e-03,\n",
       "        -1.93130430e-02, -1.54174585e-02, -1.93324219e-02,  1.29110469e-02,\n",
       "        -1.91833135e-02, -3.80007811e-02, -1.74334925e-02,  4.01562564e-02,\n",
       "         1.58459973e-02, -2.14617923e-02,  2.72560446e-03,  7.31100217e-02,\n",
       "         4.13615219e-02, -7.65324431e-03, -1.35348253e-02,  1.33758942e-02,\n",
       "         2.80163195e-02,  8.89339112e-03,  4.76474166e-02,  3.61502171e-02,\n",
       "        -4.06186562e-03, -3.15645598e-02, -3.12608071e-02,  4.60304432e-02,\n",
       "         3.59402187e-02,  8.53943173e-03, -4.56544086e-02, -1.42845903e-02,\n",
       "        -4.77020778e-02, -1.89343877e-02,  1.74007323e-02,  3.76502760e-02,\n",
       "        -1.63587406e-02,  1.02228289e-02, -6.39392734e-02,  4.30632047e-02,\n",
       "         5.24906665e-02, -1.65057238e-02,  4.21740785e-02, -1.12803588e-02,\n",
       "        -6.59309700e-02, -2.13322419e-04,  8.12904164e-03,  3.41546573e-02,\n",
       "         4.15423550e-02,  2.21973732e-02,  4.35294509e-02, -2.13745870e-02,\n",
       "         3.28156129e-02, -2.01711860e-02,  2.15878971e-02, -4.74285372e-02,\n",
       "         2.72833854e-02,  8.66241753e-04, -2.79878289e-03, -3.75492834e-02,\n",
       "        -1.19944913e-02,  2.28315499e-02,  6.19184924e-03, -1.50930863e-02,\n",
       "         2.08736919e-02, -2.09463425e-02, -1.38723524e-02, -2.33901292e-03,\n",
       "         3.83620374e-02,  5.78371212e-02,  3.34197171e-02, -1.34063121e-02,\n",
       "        -5.83260208e-02, -1.70928314e-02, -1.86355282e-02,  7.63078555e-02,\n",
       "         6.23494899e-03, -9.88758728e-03, -6.56128395e-03,  2.26542004e-03,\n",
       "        -4.54940498e-02, -4.73272130e-02, -3.64385471e-02, -2.61524003e-02,\n",
       "        -1.59813333e-02,  1.07688562e-03,  1.40987420e-02, -1.07931131e-02,\n",
       "        -1.54987853e-02, -1.31036388e-02,  3.20458151e-02,  4.51768637e-02,\n",
       "         6.22657537e-02,  2.06491537e-02,  4.01663780e-02,  9.37112980e-03,\n",
       "        -9.60026216e-03,  5.96565194e-03, -1.58619881e-02,  2.29686033e-02,\n",
       "        -2.01997869e-02, -8.80624913e-03, -9.04443860e-03, -2.43520550e-02,\n",
       "         5.56076644e-03,  1.04095817e-01,  9.10422020e-03,  9.54340771e-02,\n",
       "        -6.70988858e-02, -3.57702677e-03,  4.37985286e-02, -1.43238464e-02,\n",
       "        -4.11667749e-02,  3.30924504e-02,  3.50279845e-02, -4.45931964e-03,\n",
       "         8.29215813e-03,  9.55675449e-03, -4.73760851e-02, -6.09743670e-02,\n",
       "         1.92651507e-02,  1.29455281e-02,  5.13535477e-02,  1.75243188e-02,\n",
       "         1.14804143e-02,  2.04478558e-02,  1.53614227e-02, -2.67983172e-02,\n",
       "        -2.67522540e-02, -9.76130366e-02, -1.75153017e-02,  4.88365553e-02,\n",
       "         4.09931988e-02, -1.72837842e-02,  6.74918247e-03, -4.92163142e-03,\n",
       "         3.65142561e-02,  1.26354201e-02,  4.95755300e-02,  6.01049326e-02,\n",
       "         2.94875819e-03, -4.36782092e-02,  3.98193225e-02,  1.46994684e-02,\n",
       "        -1.80374049e-02, -1.39776142e-02, -2.96009127e-02,  1.25235999e-02,\n",
       "         3.92782241e-02,  2.22490598e-02,  4.65829931e-02, -4.67952155e-02,\n",
       "         2.22957367e-03,  1.48853334e-02,  5.22739533e-03,  4.19783741e-02,\n",
       "        -4.25840020e-02,  3.08056585e-02,  4.27514352e-02,  1.28574464e-02,\n",
       "        -8.61365721e-03,  4.48062606e-02,  1.52134988e-02,  4.14292254e-02,\n",
       "         2.87349075e-02, -1.64732952e-02, -6.77748322e-02, -5.05477078e-02,\n",
       "         2.09582709e-02, -1.64897021e-04,  1.36725872e-03,  1.40340514e-02,\n",
       "        -1.28160939e-02,  5.20012565e-02, -2.21281070e-02, -8.55724234e-03,\n",
       "         6.84362650e-02,  1.73817854e-02,  6.69185743e-02,  5.88517124e-03,\n",
       "         2.29596216e-02,  2.07045171e-02, -4.53006104e-02,  5.23399338e-02,\n",
       "         1.29066873e-03, -3.24367881e-02,  4.10664873e-03, -6.69645220e-02,\n",
       "        -9.58189927e-03, -1.23540394e-03,  4.41633202e-02, -1.08801397e-02,\n",
       "         2.73239110e-02,  3.85403982e-03, -2.47026258e-03,  3.88960727e-02,\n",
       "         4.58521470e-02, -5.54085635e-02,  2.07461268e-02, -3.92487198e-02,\n",
       "        -4.47965600e-03, -8.69084988e-03,  2.60262750e-02, -4.19213390e-03,\n",
       "        -2.97878142e-02,  2.35664677e-02, -7.96415098e-03,  2.18448490e-02,\n",
       "         3.65405902e-02, -1.22046340e-02, -1.00375796e-02,  8.72720499e-03,\n",
       "        -3.13841812e-02, -1.81800239e-02, -1.44146141e-02,  1.71566252e-02,\n",
       "        -2.80238353e-02,  8.55374336e-02,  2.87550241e-02, -2.00633015e-02,\n",
       "         2.92376913e-02,  1.63980573e-02, -4.76357900e-02,  8.03555269e-03,\n",
       "         1.71756800e-02, -2.88448837e-02,  4.37149256e-02, -1.86623689e-02,\n",
       "         2.42796801e-02,  1.95773551e-03,  7.27227936e-03,  6.69320822e-02,\n",
       "        -6.48769662e-02,  2.78404038e-02, -1.83672979e-02, -2.92773023e-02,\n",
       "        -1.81942042e-02,  4.23556892e-03,  3.85336727e-02, -3.40383761e-02,\n",
       "         2.68219765e-02, -1.63578987e-02,  2.56916531e-03, -3.07611283e-02,\n",
       "         3.57556716e-02,  9.54027846e-03,  2.64919382e-02,  5.11950925e-02,\n",
       "        -3.34491134e-02,  2.19015740e-02,  2.93436623e-03, -1.62582193e-02,\n",
       "         6.74641051e-04, -8.51502642e-03,  2.88350154e-02, -8.47680047e-02,\n",
       "        -4.15115021e-02,  1.19707674e-01, -4.87178713e-02,  7.53136724e-03,\n",
       "        -5.01665846e-02, -1.85451806e-02, -3.68262008e-02, -1.55517757e-02,\n",
       "        -2.97107249e-02,  9.92915710e-04,  5.05388193e-02, -4.29523364e-02,\n",
       "        -2.32805312e-02,  3.20299156e-02, -3.18012610e-02, -1.83809735e-02,\n",
       "        -1.89291462e-02, -4.09509465e-02, -3.40047218e-02, -9.96134058e-02,\n",
       "        -3.55561860e-02, -4.04128022e-02, -4.50617336e-02,  7.23582730e-02,\n",
       "        -1.25143640e-02,  4.77954932e-02,  5.67339547e-02, -1.00527341e-02,\n",
       "         1.34902308e-02,  2.59200633e-02,  6.73387572e-02,  6.43660361e-03,\n",
       "         1.23883067e-02, -1.92032475e-02, -2.87992321e-02, -3.27026546e-02,\n",
       "         1.15649533e-02, -2.35412270e-02,  6.26865178e-02,  2.67271511e-02,\n",
       "        -3.69218402e-02, -3.62002701e-02, -1.29175587e-02,  5.74038504e-03,\n",
       "         3.71893384e-02,  1.54084200e-02, -1.58194900e-02,  3.91851664e-02,\n",
       "         2.54670694e-03,  2.62733549e-02, -1.00667365e-02,  2.17556972e-02,\n",
       "        -3.86073627e-02, -5.04170321e-02, -4.79236841e-02,  6.78841323e-02,\n",
       "        -1.41769489e-02, -5.61675578e-02,  3.81185859e-02, -7.24912509e-02,\n",
       "        -2.45659966e-02,  3.24886013e-03, -3.45380302e-03, -1.67503748e-02,\n",
       "         1.27828969e-02,  1.71677545e-02,  2.36565247e-02,  9.43487957e-02,\n",
       "         4.42845188e-03, -2.38926783e-02,  1.24338246e-03,  2.61720363e-02,\n",
       "        -1.92451128e-03, -3.27551030e-02,  3.84874903e-02,  1.10410266e-02,\n",
       "         1.64317694e-02, -2.54522134e-02, -2.62701139e-02,  1.88749488e-02,\n",
       "         6.01074845e-02, -4.14118618e-02,  2.88087558e-02,  2.21520774e-02,\n",
       "        -6.25638813e-02, -1.75865944e-02, -4.66132397e-03,  2.03321613e-02,\n",
       "         8.89953077e-02,  6.73462171e-03, -5.70559092e-02, -1.54262986e-02,\n",
       "        -4.27061841e-02, -6.31707767e-03,  4.06382643e-02, -2.08228752e-02,\n",
       "         1.23508396e-02, -4.92451414e-02,  3.74059342e-02,  1.98138934e-02,\n",
       "         1.73211750e-02,  1.25189247e-02,  1.58958975e-02,  3.44202407e-02,\n",
       "         2.06022779e-03, -2.27816440e-02,  3.91141213e-02, -1.50891580e-02,\n",
       "         2.82007512e-02, -2.05639098e-02,  3.23717482e-02,  2.54114717e-02,\n",
       "        -5.55961905e-03,  6.67542070e-02, -4.35899422e-02, -3.02439332e-02,\n",
       "         1.38064716e-02,  4.62053195e-02,  1.73406340e-02,  4.80172820e-02,\n",
       "        -7.49637652e-03, -6.37933686e-02,  2.17441190e-03,  1.48110753e-02,\n",
       "         2.65085176e-02, -5.41339926e-02,  9.45320353e-03,  5.47394576e-03,\n",
       "         5.32723293e-02, -2.22679283e-02,  1.90740228e-02,  2.49079764e-02,\n",
       "        -1.53810950e-02,  5.38324378e-02,  9.11469199e-03, -5.22047356e-02,\n",
       "        -2.56421641e-02,  3.48772593e-02,  2.25119069e-02,  2.74150148e-02,\n",
       "         2.05354728e-02,  2.93200538e-02, -1.51664102e-02,  2.88243778e-02,\n",
       "         3.85946594e-02,  5.02680289e-03,  3.81097309e-02,  1.84765682e-02,\n",
       "         1.64019447e-02,  1.16203278e-02,  2.18171906e-02, -5.41566201e-02,\n",
       "         2.50826534e-02, -6.00952357e-02, -3.09177805e-02, -7.13045746e-02,\n",
       "        -7.69537268e-03, -4.94934618e-02, -6.95180818e-02, -4.04841341e-02,\n",
       "        -2.41784938e-02,  1.64461136e-02, -7.86525896e-04,  5.06165549e-02,\n",
       "         5.20631224e-02, -2.42694821e-02,  1.53768957e-02, -4.22427431e-02,\n",
       "         1.04187371e-03,  4.75595072e-02, -2.74405070e-03,  5.13291638e-03,\n",
       "         2.43977327e-02,  2.07354911e-02, -3.09179761e-02, -4.24440764e-02,\n",
       "        -2.58231424e-02, -1.22568365e-02,  3.34280320e-02,  2.79327836e-02,\n",
       "        -1.75710544e-02,  7.39873946e-03, -1.13544064e-02, -4.78621013e-02,\n",
       "         6.40647188e-02,  1.06481183e-03,  3.66425316e-04,  7.42186978e-02,\n",
       "         1.98641568e-02,  2.12538596e-02, -1.80600882e-02, -2.65915357e-02,\n",
       "        -5.91531396e-02, -3.79025377e-03, -4.38901223e-02, -2.89438237e-02,\n",
       "         6.84824539e-03, -2.77204177e-04,  1.09340493e-02, -5.01964949e-02,\n",
       "        -3.46182548e-02,  5.59873367e-03, -2.96822172e-02, -6.29666522e-02,\n",
       "         3.74335572e-02, -6.62331749e-03, -8.99591134e-04, -4.11284044e-02,\n",
       "         1.80794578e-02,  6.50274521e-03,  6.55135512e-03, -5.40625937e-02,\n",
       "        -1.79281819e-03,  2.60692090e-02,  3.50623168e-02, -2.42680479e-02,\n",
       "        -4.50993106e-02, -4.09372784e-02,  8.10219068e-03,  6.79503530e-02,\n",
       "        -8.18075426e-03, -2.00214479e-02,  3.33608389e-02,  2.29214579e-02],\n",
       "       dtype=float32)}"
      ]
     },
     "execution_count": 10,
     "metadata": {},
     "output_type": "execute_result"
    }
   ],
   "source": [
    "documents[0]"
   ]
  },
  {
   "cell_type": "markdown",
   "id": "666609c9-93d0-4167-8287-392572eaa762",
   "metadata": {},
   "source": [
    "## Retrieval"
   ]
  },
  {
   "cell_type": "code",
   "execution_count": 11,
   "id": "7de211a5-70c5-463a-8a63-d4e63fdad821",
   "metadata": {},
   "outputs": [],
   "source": [
    "def elastic_search_knn(field, vector, law_title):\n",
    "    knn = {\n",
    "        \"field\": field,\n",
    "        \"query_vector\": vector,\n",
    "        \"k\": 3,\n",
    "        \"num_candidates\": 10000,\n",
    "        \"filter\": {\n",
    "            \"term\": {\n",
    "                \"law_title\": law_title\n",
    "            }\n",
    "        }\n",
    "    }\n",
    "\n",
    "    search_query = {\n",
    "        \"knn\": knn,\n",
    "        \"_source\": [\"law_title\", \"law_number\", \"chapter_title\", \"article_number\", \"title\", \"content\",\"id\"]\n",
    "    }\n",
    "\n",
    "    es_results = es_client.search(\n",
    "        index=index_name,\n",
    "        body=search_query\n",
    "    )\n",
    "    \n",
    "    result_docs = []\n",
    "    \n",
    "    for hit in es_results['hits']['hits']:\n",
    "        result_docs.append(hit['_source'])\n",
    "\n",
    "    return result_docs\n",
    "\n",
    "def title_content_vector_knn(q):\n",
    "    questions = q['generated_question']\n",
    "    law_title = q['law_title']\n",
    "\n",
    "    v_q = model.encode(questions)\n",
    "\n",
    "    return elastic_search_knn('title_content_vector', v_q, law_title)\n"
   ]
  },
  {
   "cell_type": "markdown",
   "id": "8b63d9cf",
   "metadata": {},
   "source": [
    "## Add better search method"
   ]
  },
  {
   "cell_type": "code",
   "execution_count": 12,
   "id": "a0af5253",
   "metadata": {},
   "outputs": [],
   "source": [
    "def bm25_search(q):\n",
    "    # Extract the question and law title from the input\n",
    "    question = q['generated_question']\n",
    "    law_title = q['law_title']\n",
    "    \n",
    "    # Construct the BM25 search query\n",
    "    search_query = {\n",
    "        \"query\": {\n",
    "            \"bool\": {\n",
    "                \"must\": {\n",
    "                    \"multi_match\": {\n",
    "                        \"query\": question,  # Search for the question in the title and content fields\n",
    "                        \"fields\": [\"title\", \"content\"]\n",
    "                    }\n",
    "                },\n",
    "                \"filter\": {\n",
    "                    \"term\": {\n",
    "                        \"law_title\": law_title  # Filter by the law title\n",
    "                    }\n",
    "                }\n",
    "            }\n",
    "        },\n",
    "        \"_source\": [\"law_title\", \"law_number\", \"chapter_title\", \"article_number\", \"title\", \"content\", \"id\"],  # Fields to return\n",
    "        \"size\": 3  # Number of results to return (adjust as needed)\n",
    "    }\n",
    "    \n",
    "    # Execute the search query\n",
    "    es_results = es_client.search(index=index_name, body=search_query)\n",
    "    \n",
    "    # Extract and return the documents\n",
    "    return [hit['_source'] for hit in es_results['hits']['hits']]\n",
    "def hybrid_search(q):\n",
    "    # Extract the question and law title from the input\n",
    "    question = q['generated_question']\n",
    "    law_title = q['law_title']\n",
    "    \n",
    "    # Get vector embedding for the question\n",
    "    question_vector = model.encode(question)\n",
    "    \n",
    "    # KNN vector search\n",
    "    knn_query = {\n",
    "        \"knn\": {\n",
    "            \"field\": \"title_content_vector\",\n",
    "            \"query_vector\": question_vector.tolist(),\n",
    "            \"k\": 3,\n",
    "            \"num_candidates\": 10000,\n",
    "            \"filter\": {\n",
    "                \"term\": {\n",
    "                    \"law_title\": law_title\n",
    "                }\n",
    "            }\n",
    "        },\n",
    "        \"query\": {\n",
    "            \"bool\": {\n",
    "                \"must\": {\n",
    "                    \"multi_match\": {\n",
    "                        \"query\": question,\n",
    "                        \"fields\": [\"title\", \"content\"],\n",
    "                        \"boost\": 0.5  # Give less weight to text matching\n",
    "                    }\n",
    "                },\n",
    "                \"filter\": {\n",
    "                    \"term\": {\n",
    "                        \"law_title\": law_title\n",
    "                    }\n",
    "                }\n",
    "            }\n",
    "        },\n",
    "        \"_source\": [\"law_title\", \"law_number\", \"chapter_title\", \"article_number\", \"title\", \"content\", \"id\"],\n",
    "        \"size\": 1\n",
    "    }\n",
    "    \n",
    "    # Execute the hybrid search query\n",
    "    hybrid_results = es_client.search(\n",
    "        index=index_name,\n",
    "        body=knn_query\n",
    "    )\n",
    "    \n",
    "    # Extract and return the documents\n",
    "    return [hit['_source'] for hit in hybrid_results['hits']['hits']]"
   ]
  },
  {
   "cell_type": "code",
   "execution_count": 13,
   "id": "61d7a9a4",
   "metadata": {},
   "outputs": [
    {
     "data": {
      "text/plain": [
       "[{'article_number': 'Điều 26',\n",
       "  'law_number': 'Luật số: 43/2019/QH14',\n",
       "  'chapter_title': 'Chương II',\n",
       "  'id': 'a0fcdc5b',\n",
       "  'title': 'Cơ sở giáo dục mầm non',\n",
       "  'law_title': 'Luật Giáo Dục',\n",
       "  'content': 'Cơ sở giáo dục mầm non bao gồm: 1. Nhà trẻ, nhóm trẻ độc lập nhận trẻ em từ 03 tháng tuổi đến 03 tuổi; 2. Trường mẫu giáo, lớp mẫu giáo độc lập nhận trẻ em từ 03 tuổi đến 06 tuổi; 3. Trường mầm non, lớp mầm non độc lập là cơ sở giáo dục kết hợp nhà trẻ và mẫu giáo, nhận trẻ em từ 03 tháng tuổi đến 06 tuổi. '},\n",
       " {'article_number': 'Điều 47',\n",
       "  'law_number': 'Luật số: 43/2019/QH14',\n",
       "  'chapter_title': 'Chương III',\n",
       "  'id': 'ff030746',\n",
       "  'title': 'Loại hình nhà trường trong hệ thống giáo dục quốc dân',\n",
       "  'law_title': 'Luật Giáo Dục',\n",
       "  'content': '1. Nhà trường trong hệ thống giáo dục quốc dân được tổ chức theo các loại hình sau đây: a) Trường công lập do Nhà nước đầu tư, bảo đảm điều kiện hoạt động và đại diện chủ sở hữu; b) Trường dân lập do cộng đồng dân cư ở cơ sở gồm tổ chức và cá nhân tại thôn, ấp, bản, làng, buôn, phum, sóc, xã, phường, thị trấn đầu tư xây dựng cơ sở vật chất và bảo đảm điều kiện hoạt động. Loại hình trường dân lập chỉ áp dụng đối với cơ sở giáo dục mầm non; c) Trường tư thục do nhà đầu tư trong nước hoặc nhà đầu tư nước ngoài đầu tư và bảo đảm điều kiện hoạt động. Trường tư thục hoạt động không vì lợi nhuận là trường mà nhà đầu tư cam kết và thực hiện cam kết hoạt động không vì lợi nhuận, được ghi trong quyết định thành lập hoặc quyết định chuyển đổi loại hình trường; hoạt động không vì lợi nhuận, không rút vốn, không hưởng lợi tức; phần lợi nhuận tích lũy hằng năm thuộc sở hữu chung hợp nhất không phân chia để tiếp tục đầu tư phát triển nhà trường. 2. Việc chuyển đổi loại hình nhà trường trong hệ thống giáo dục quốc dân được thực hiện theo nguyên tắc sau đây: a) Chỉ chuyển đổi loại hình nhà trường từ trường tư thục sang trường tư thục hoạt động không vì lợi nhuận; b) Thực hiện quy định của điều lệ, quy chế tổ chức và hoạt động của loại hình nhà trường ở mỗi cấp học, trình độ đào tạo; c) Bảo đảm quyền của giáo viên, giảng viên, cán bộ quản lý giáo dục, người lao động và người học; d) Không làm thất thoát đất đai, vốn và tài sản. 3. Chính phủ quy định chi tiết việc chuyển đổi loại hình nhà trường quy định tại khoản 2 Điều này. '},\n",
       " {'article_number': 'Điều 24',\n",
       "  'law_number': 'Luật số: 43/2019/QH14',\n",
       "  'chapter_title': 'Chương II',\n",
       "  'id': '60d219bb',\n",
       "  'title': 'Yêu cầu về nội dung, phương pháp giáo dục mầm non',\n",
       "  'law_title': 'Luật Giáo Dục',\n",
       "  'content': '1. Nội dung giáo dục mầm non phải bảo đảm phù hợp với sự phát triển tâm sinh lý của trẻ em; hài hòa giữa bảo vệ, chăm sóc, nuôi dưỡng với giáo dục trẻ em; phát triển toàn diện về thể chất, tình cảm, kỹ năng xã hội, trí tuệ, thẩm mỹ; tôn trọng sự khác biệt; phù hợp với các độ tuổi và liên thông với giáo dục tiểu học. 2. Phương pháp giáo dục mầm non được quy định như sau: a) Giáo dục nhà trẻ phải tạo điều kiện thuận lợi cho trẻ em được tích cực hoạt động, vui chơi, tạo sự gắn bó giữa người lớn với trẻ em; kích thích sự phát triển các giác quan, cảm xúc và các chức năng tâm sinh lý; b) Giáo dục mẫu giáo phải tạo điều kiện cho trẻ em được vui chơi, trải nghiệm, tìm tòi, khám phá môi trường xung quanh bằng nhiều hình thức, đáp ứng nhu cầu, hứng thú của trẻ em. '}]"
      ]
     },
     "execution_count": 13,
     "metadata": {},
     "output_type": "execute_result"
    }
   ],
   "source": [
    "title_content_vector_knn(ground_truth[0])"
   ]
  },
  {
   "cell_type": "code",
   "execution_count": 14,
   "id": "74132802",
   "metadata": {},
   "outputs": [
    {
     "data": {
      "text/plain": [
       "[{'article_number': 'Điều 66',\n",
       "  'law_number': 'Luật số: 43/2019/QH14',\n",
       "  'chapter_title': 'Chương IV',\n",
       "  'id': '074a5ce5',\n",
       "  'title': 'Vị trí, vai trò của nhà giáo',\n",
       "  'law_title': 'Luật Giáo Dục',\n",
       "  'content': '1. Nhà giáo làm nhiệm vụ giảng dạy, giáo dục trong cơ sở giáo dục, trừ cơ sở giáo dục quy định tại điểm c khoản 1 Điều 65 của Luật này. Nhà giáo giảng dạy ở cơ sở giáo dục mầm non, giáo dục phổ thông, cơ sở giáo dục khác, giảng dạy trình độ sơ cấp, trung cấp gọi là giáo viên; nhà giáo giảng dạy từ trình độ cao đẳng trở lên gọi là giảng viên. 2. Nhà giáo có vai trò quyết định trong việc bảo đảm chất lượng giáo dục, có vị thế quan trọng trong xã hội, được xã hội tôn vinh. '},\n",
       " {'article_number': 'Điều 25',\n",
       "  'law_number': 'Luật số: 43/2019/QH14',\n",
       "  'chapter_title': 'Chương II',\n",
       "  'id': '7bbe02ec',\n",
       "  'title': 'Chương trình giáo dục mầm non',\n",
       "  'law_title': 'Luật Giáo Dục',\n",
       "  'content': '1. Chương trình giáo dục mầm non phải bảo đảm các yêu cầu sau đây: a) Thể hiện mục tiêu giáo dục mầm non; b) Quy định yêu cầu cần đạt ở mỗi độ tuổi, các hoạt động giáo dục, phương pháp, hình thức tổ chức hoạt động giáo dục, môi trường giáo dục, đánh giá sự phát triển của trẻ em; c) Thống nhất trong cả nước và được tổ chức thực hiện linh hoạt, phù hợp với điều kiện cụ thể của địa phương và cơ sở giáo dục mầm non. 2. Hội đồng quốc gia thẩm định chương trình giáo dục mầm non do Bộ trưởng Bộ Giáo dục và Đào tạo thành lập để thẩm định chương trình giáo dục mầm non. Hội đồng gồm nhà giáo, cán bộ quản lý giáo dục, nhà khoa học có kinh nghiệm, uy tín về giáo dục và đại diện cơ quan, tổ chức có liên quan. Hội đồng phải có ít nhất một phần ba tổng số thành viên là nhà giáo đang giảng dạy ở giáo dục mầm non. Hội đồng và thành viên Hội đồng phải chịu trách nhiệm về nội dung và chất lượng thẩm định. 3. Bộ trưởng Bộ Giáo dục và Đào tạo ban hành chương trình giáo dục mầm non sau khi được thẩm định của Hội đồng quốc gia thẩm định chương trình giáo dục mầm non; quy định tiêu chuẩn, quy trình biên soạn, chỉnh sửa chương trình giáo dục mầm non; quy định tiêu chuẩn và việc lựa chọn đồ chơi, học liệu được sử dụng trong các cơ sở giáo dục mầm non; quy định nhiệm vụ, quyền hạn, phương thức hoạt động, tiêu chuẩn, số lượng và cơ cấu thành viên của Hội đồng quốc gia thẩm định chương trình giáo dục mầm non. '},\n",
       " {'article_number': 'Điều 53',\n",
       "  'law_number': 'Luật số: 43/2019/QH14',\n",
       "  'chapter_title': 'Chương III',\n",
       "  'id': '266ff403',\n",
       "  'title': 'Điều lệ, quy chế tổ chức và hoạt động của cơ sở giáo dục',\n",
       "  'law_title': 'Luật Giáo Dục',\n",
       "  'content': '1. Điều lệ nhà trường được áp dụng chung cho các loại hình nhà trường ở giáo dục mầm non, giáo dục phổ thông, giáo dục nghề nghiệp và có các nội dung chủ yếu sau đây: a) Nhiệm vụ và quyền hạn của nhà trường; b) Tổ chức hoạt động giáo dục trong nhà trường; c) Nhiệm vụ và quyền của nhà giáo; d) Nhiệm vụ và quyền của người học; đ) Tổ chức và quản lý nhà trường; e) Tài chính và tài sản của nhà trường; g) Quan hệ giữa nhà trường, gia đình và xã hội. 2. Quy chế tổ chức và hoạt động của cơ sở giáo dục cụ thể hóa các nội dung của điều lệ nhà trường để áp dụng cho từng loại hình cơ sở giáo dục. 3. Bộ trưởng Bộ Giáo dục và Đào tạo, Bộ trưởng Bộ Lao động - Thương binh và Xã hội, trong phạm vi nhiệm vụ, quyền hạn của mình, ban hành điều lệ nhà trường, quy chế tổ chức và hoạt động của cơ sở giáo dục. '}]"
      ]
     },
     "execution_count": 14,
     "metadata": {},
     "output_type": "execute_result"
    }
   ],
   "source": [
    "bm25_search(ground_truth[0])"
   ]
  },
  {
   "cell_type": "code",
   "execution_count": 15,
   "id": "85f62a03",
   "metadata": {},
   "outputs": [
    {
     "data": {
      "text/plain": [
       "[{'article_number': 'Điều 66',\n",
       "  'law_number': 'Luật số: 43/2019/QH14',\n",
       "  'chapter_title': 'Chương IV',\n",
       "  'id': '074a5ce5',\n",
       "  'title': 'Vị trí, vai trò của nhà giáo',\n",
       "  'law_title': 'Luật Giáo Dục',\n",
       "  'content': '1. Nhà giáo làm nhiệm vụ giảng dạy, giáo dục trong cơ sở giáo dục, trừ cơ sở giáo dục quy định tại điểm c khoản 1 Điều 65 của Luật này. Nhà giáo giảng dạy ở cơ sở giáo dục mầm non, giáo dục phổ thông, cơ sở giáo dục khác, giảng dạy trình độ sơ cấp, trung cấp gọi là giáo viên; nhà giáo giảng dạy từ trình độ cao đẳng trở lên gọi là giảng viên. 2. Nhà giáo có vai trò quyết định trong việc bảo đảm chất lượng giáo dục, có vị thế quan trọng trong xã hội, được xã hội tôn vinh. '}]"
      ]
     },
     "execution_count": 15,
     "metadata": {},
     "output_type": "execute_result"
    }
   ],
   "source": [
    "hybrid_search(ground_truth[0])"
   ]
  },
  {
   "cell_type": "code",
   "execution_count": 116,
   "id": "294be629",
   "metadata": {},
   "outputs": [
    {
     "data": {
      "text/plain": [
       "{'generated_question': 'Các loại hình cơ sở giáo dục mầm non được quy định như thế nào trong Luật Giáo Dục?',\n",
       " 'generated_answer': 'Cơ sở giáo dục mầm non bao gồm: 1. Nhà trẻ, nhóm trẻ độc lập nhận trẻ em từ 03 tháng tuổi đến 03 tuổi; 2. Trường mẫu giáo, lớp mẫu giáo độc lập nhận trẻ em từ 03 tuổi đến 06 tuổi; 3. Trường mầm non, lớp mầm non độc lập là cơ sở giáo dục kết hợp nhà trẻ và mẫu giáo, nhận trẻ em từ 03 tháng tuổi đến 06 tuổi.',\n",
       " 'doc_id': 'a0fcdc5b',\n",
       " 'law_title': 'Luật Giáo Dục'}"
      ]
     },
     "execution_count": 116,
     "metadata": {},
     "output_type": "execute_result"
    }
   ],
   "source": [
    "ground_truth[0]"
   ]
  },
  {
   "cell_type": "markdown",
   "id": "443cb32b-5018-477a-b215-647a1ee0eb9c",
   "metadata": {},
   "source": [
    "## The RAG flow"
   ]
  },
  {
   "cell_type": "code",
   "execution_count": 16,
   "id": "651c0d24",
   "metadata": {},
   "outputs": [
    {
     "data": {
      "text/plain": [
       "'Các loại hình cơ sở giáo dục mầm non được quy định như thế nào trong Luật Giáo Dục?'"
      ]
     },
     "execution_count": 16,
     "metadata": {},
     "output_type": "execute_result"
    }
   ],
   "source": [
    "ground_truth[0]['generated_question']"
   ]
  },
  {
   "cell_type": "markdown",
   "id": "8b768eac",
   "metadata": {},
   "source": [
    "# Translation layer"
   ]
  },
  {
   "cell_type": "markdown",
   "id": "69fbed2b",
   "metadata": {},
   "source": [
    "# Googletrans"
   ]
  },
  {
   "cell_type": "code",
   "execution_count": 18,
   "id": "8b44fa5d",
   "metadata": {},
   "outputs": [],
   "source": [
    "import re\n",
    "import time\n",
    "from googletrans import Translator, LANGUAGES\n",
    "from retry import retry\n",
    "\n",
    "# Create translator with increased timeout and retries\n",
    "translator = Translator(service_urls=['translate.google.com'])\n",
    "\n",
    "# Retry decorator for translation functions\n",
    "@retry(tries=3, delay=1, backoff=2)\n",
    "def safe_translate(text, src, dest):\n",
    "    \"\"\"\n",
    "    Performs translation with retry mechanism and proper error handling.\n",
    "    \"\"\"\n",
    "    if not text or text.strip() == \"\":\n",
    "        return \"\"\n",
    "        \n",
    "    try:\n",
    "        # Add a small delay to avoid rate limiting\n",
    "        time.sleep(0.5)\n",
    "        translation = translator.translate(text, src=src, dest=dest)\n",
    "        if translation and hasattr(translation, 'text'):\n",
    "            return translation.text\n",
    "        else:\n",
    "            raise ValueError(\"Empty translation result\")\n",
    "    except Exception as e:\n",
    "        print(f\"Translation error: {e}\")\n",
    "        # Fallback - return original text if translation fails\n",
    "        return text\n",
    "\n",
    "def clean_text(text):\n",
    "    \"\"\"\n",
    "    Cleans text by removing non-printable characters, normalizing whitespace,\n",
    "    and specifically handling problematic semicolons.\n",
    "    \"\"\"\n",
    "    if not text:\n",
    "        return \"\"\n",
    "    text = re.sub(r'\\s+', ' ', text)  # Replace multiple spaces with single spaces\n",
    "    text = ''.join(c for c in text if c.isprintable())  # Remove non-printable characters\n",
    "    text = text.replace(';', ',')  # Replace semicolons with commas\n",
    "    return text.strip()\n",
    "\n",
    "def undo_clean_text(text):\n",
    "    \"\"\"\n",
    "    Reverses the semicolon replacement done by clean_text.\n",
    "    \"\"\"\n",
    "    if not text:\n",
    "        return \"\"\n",
    "    text = text.replace(',', ';')  # Replace commas back to semicolons\n",
    "    return text\n",
    "\n",
    "def translate_in_chunks(text, src='vi', dest='it', chunk_size=1000):\n",
    "    \"\"\"\n",
    "    Translates text in smaller chunks to avoid potential issues with large text.\n",
    "    \"\"\"\n",
    "    if not text:\n",
    "        return \"\"\n",
    "        \n",
    "    if len(text) <= chunk_size:\n",
    "        return safe_translate(text, src=src, dest=dest)\n",
    "\n",
    "    chunks = [text[i:i+chunk_size] for i in range(0, len(text), chunk_size)]\n",
    "    translated_chunks = []\n",
    "    \n",
    "    for chunk in chunks:\n",
    "        translated_chunk = safe_translate(chunk, src=src, dest=dest)\n",
    "        translated_chunks.append(translated_chunk)\n",
    "        # Add delay between chunk translations\n",
    "        time.sleep(0.7)\n",
    "        \n",
    "    return \" \".join(translated_chunks)\n",
    "\n",
    "def vietnamese_to_italian(text):\n",
    "    \"\"\"\n",
    "    Translates Vietnamese text to Italian with error handling.\n",
    "    \"\"\"\n",
    "    if not text:\n",
    "        return \"\"\n",
    "    return translate_in_chunks(text, src='vi', dest='it')\n",
    "\n",
    "def italian_to_vietnamese(text):\n",
    "    \"\"\"\n",
    "    Translates Italian text to Vietnamese with error handling.\n",
    "    \"\"\"\n",
    "    if not text:\n",
    "        return \"\"\n",
    "    return translate_in_chunks(text, src='it', dest='vi')\n"
   ]
  },
  {
   "cell_type": "markdown",
   "id": "b69a19c3",
   "metadata": {},
   "source": [
    "# Deep translator"
   ]
  },
  {
   "cell_type": "code",
   "execution_count": 21,
   "id": "b494eb2f",
   "metadata": {},
   "outputs": [],
   "source": [
    "import re\n",
    "import time\n",
    "from deep_translator import GoogleTranslator\n",
    "from retry import retry\n",
    "\n",
    "# Retry decorator for translation functions\n",
    "@retry(tries=3, delay=1, backoff=2)\n",
    "def safe_translate(text, src, dest):\n",
    "    \"\"\"\n",
    "    Performs translation with retry mechanism and proper error handling.\n",
    "    \"\"\"\n",
    "    if not text or text.strip() == \"\":\n",
    "        return \"\"\n",
    "        \n",
    "    try:\n",
    "        # Add a small delay to avoid rate limiting\n",
    "        time.sleep(0.5)\n",
    "        translation = GoogleTranslator(source=src, target=dest).translate(text)\n",
    "        return translation\n",
    "    except Exception as e:\n",
    "        print(f\"Translation error: {e}\")\n",
    "        # Fallback - return original text if translation fails\n",
    "        return text\n",
    "\n",
    "def clean_text(text):\n",
    "    \"\"\"\n",
    "    Cleans text by removing non-printable characters, normalizing whitespace,\n",
    "    and specifically handling problematic semicolons.\n",
    "    \"\"\"\n",
    "    if not text:\n",
    "        return \"\"\n",
    "    text = re.sub(r'\\s+', ' ', text)  # Replace multiple spaces with single spaces\n",
    "    text = ''.join(c for c in text if c.isprintable())  # Remove non-printable characters\n",
    "    text = text.replace(';', ',')  # Replace semicolons with commas\n",
    "    return text.strip()\n",
    "\n",
    "def undo_clean_text(text):\n",
    "    \"\"\"\n",
    "    Reverses the semicolon replacement done by clean_text.\n",
    "    \"\"\"\n",
    "    if not text:\n",
    "        return \"\"\n",
    "    text = text.replace(',', ';')  # Replace commas back to semicolons\n",
    "    return text\n",
    "\n",
    "def translate_in_chunks(text, src='vi', dest='it', chunk_size=1000):\n",
    "    \"\"\"\n",
    "    Translates text in smaller chunks to avoid potential issues with large text.\n",
    "    \"\"\"\n",
    "    if not text:\n",
    "        return \"\"\n",
    "        \n",
    "    if len(text) <= chunk_size:\n",
    "        return safe_translate(text, src=src, dest=dest)\n",
    "\n",
    "    chunks = [text[i:i+chunk_size] for i in range(0, len(text), chunk_size)]\n",
    "    translated_chunks = []\n",
    "    \n",
    "    for chunk in chunks:\n",
    "        translated_chunk = safe_translate(chunk, src=src, dest=dest)\n",
    "        translated_chunks.append(translated_chunk)\n",
    "        # Add delay between chunk translations\n",
    "        time.sleep(0.7)\n",
    "        \n",
    "    return \" \".join(translated_chunks)\n",
    "\n",
    "def vietnamese_to_italian(text):\n",
    "    \"\"\"\n",
    "    Translates Vietnamese text to Italian with error handling.\n",
    "    \"\"\"\n",
    "    if not text:\n",
    "        return \"\"\n",
    "    return translate_in_chunks(text, src='vi', dest='it')\n",
    "\n",
    "def italian_to_vietnamese(text):\n",
    "    \"\"\"\n",
    "    Translates Italian text to Vietnamese with error handling.\n",
    "    \"\"\"\n",
    "    if not text:\n",
    "        return \"\"\n",
    "    return translate_in_chunks(text, src='it', dest='vi')\n",
    "\n",
    "def vietnamese_to_english(text):\n",
    "    \"\"\"\n",
    "    Translates Vietnamese text to English with error handling.\n",
    "    \"\"\"\n",
    "    if not text:\n",
    "        return \"\"\n",
    "    return translate_in_chunks(text, src='vi', dest='en')\n",
    "\n",
    "def english_to_vietnamese(text):\n",
    "    \"\"\"\n",
    "    Translates English text to Vietnamese with error handling.\n",
    "    \"\"\"\n",
    "    if not text:\n",
    "        return \"\"\n",
    "    return translate_in_chunks(text, src='en', dest='vi')"
   ]
  },
  {
   "cell_type": "code",
   "execution_count": 22,
   "id": "6171a968",
   "metadata": {},
   "outputs": [],
   "source": [
    "def build_prompt(query, search_results, model_type=\"mamba\"):\n",
    "    \"\"\"\n",
    "    Builds a simple prompt by combining the translated query and search results.\n",
    "    \n",
    "    Args:\n",
    "        query (str): The query to be translated and used in the prompt.\n",
    "        search_results (list): List of search results (documents) to build the context.\n",
    "        model_type (str): The type of model being used (\"mamba\" or \"transformer\").\n",
    "    \n",
    "    Returns:\n",
    "        str: The constructed prompt.\n",
    "    \"\"\"\n",
    "    # Translate the query based on the model type\n",
    "    if model_type.lower() == \"mamba\":\n",
    "        translated_query = vietnamese_to_italian(query)  # Mamba: Vietnamese -> Italian\n",
    "    else:\n",
    "        translated_query = vietnamese_to_english(query)  # Transformer: Vietnamese -> English\n",
    "\n",
    "    # Translate the search results\n",
    "    translated_docs = []\n",
    "    for doc in search_results:\n",
    "        if model_type.lower() == \"mamba\":\n",
    "            translated_content = vietnamese_to_italian(doc['content'])  # Translate to Italian\n",
    "        else:\n",
    "            translated_content = vietnamese_to_english(doc['content'])  # Translate to English\n",
    "        translated_docs.append(translated_content)\n",
    "\n",
    "    # Combine the translated query and documents into a prompt\n",
    "    prompt = f\"Query: {translated_query}\\n\\nContext:\\n\"\n",
    "    for i, doc in enumerate(translated_docs):\n",
    "        prompt += f\"Document {i+1}:\\n{doc}\\n\\n\"\n",
    "    \n",
    "    return prompt"
   ]
  },
  {
   "cell_type": "code",
   "execution_count": 23,
   "id": "64b50a5f",
   "metadata": {},
   "outputs": [
    {
     "name": "stdout",
     "output_type": "stream",
     "text": [
      "Mèo siêu béo\n"
     ]
    }
   ],
   "source": [
    "vietnamese_to_italian(\"con mèo siêu mập\")\n",
    "print(italian_to_vietnamese('Gatto super grasso'))"
   ]
  },
  {
   "cell_type": "code",
   "execution_count": 49,
   "id": "7592c376",
   "metadata": {},
   "outputs": [
    {
     "name": "stdout",
     "output_type": "stream",
     "text": [
      "Super fat cat\n",
      "Mèo siêu béo\n"
     ]
    }
   ],
   "source": [
    "print(vietnamese_to_english(\"con mèo siêu mập\")) \n",
    "print(english_to_vietnamese('super fat cat'))"
   ]
  },
  {
   "cell_type": "code",
   "execution_count": 25,
   "id": "20562128",
   "metadata": {},
   "outputs": [
    {
     "name": "stdout",
     "output_type": "stream",
     "text": [
      "Truy vấn: Các loại tổ chức mầm non được quy định trong luật giáo dục là gì?\n",
      "\n",
      "Bối cảnh:\n",
      "Tài liệu 1:\n",
      "Các tổ chức giáo dục mầm non bao gồm: 1. Mẫu giáo, một nhóm trẻ em độc lập từ 03 đến 03 tuổi; 2. Các trường mẫu giáo và mẫu giáo độc lập nhận được trẻ em từ 03 đến 06 năm; 3. Năm học mẫu giáo, các bài học trường mẫu giáo độc lập là các tổ chức giáo dục kết hợp mẫu giáo và mẫu giáo, đưa trẻ em từ 03 tháng đến 06 tuổi.\n",
      "\n",
      "Tài liệu 2:\n",
      "1 b) Trường tư thục được tổ chức bởi các cộng đồng cơ bản, bao gồm các tổ chức và cá nhân trong làng, ấp, làng, công ty, khớp, đô thị, phòng ban và thành phố để xây dựng cấu trúc vật chất và đảm bảo điều kiện hoạt động. Loại trường tư chỉ áp dụng cho các tổ chức của giáo dục mầm non; c) Các trường tư thục đầu tư bởi các nhà đầu tư quốc gia hoặc các nhà đầu tư nước ngoài và bảo đảm điều kiện hoạt động. Các trường tư hoạt động cho phi lợi nhuận là trường mà các nhà đầu tư cam kết và thực hiện các cam kết của họ đối với phi lợi nhuận, được ghi lại trong quyết định thiết lập hoặc quyết định thay đổi loại trường học; Các hoạt động phi lợi nhuận, không rút vốn, không có lợi ích; Lợi nhuận tích lũy hàng năm của tài sản chung thống nhất không được chia để tiếp tục đầu tư vào phát triển trường học. 2 b) thực hiện các quy định về giấy, quy định về tổ chức và hoạt động của loại trường ở mỗi cấp, cấp độ đào tạo; c) đảm bảo quyền của giáo viên, giáo viên, người quản lý giáo dục hoạt động, công nhân và sinh viên; D) Không bỏ lỡ đất, vốn và tài sản. 3. Chính phủ mô tả chi tiết việc chuyển đổi loại trường được chỉ định trong khoản 2 của bài viết này.\n",
      "\n",
      "Tài liệu 3:\n",
      "1. Nội dung giáo dục mầm non phải phù hợp cho sự phát triển sinh lý của trẻ em; hài hòa, chăm sóc, nuôi dưỡng với giáo dục trẻ em; Phát triển toàn cầu về thể chất, cảm xúc, xã hội, trí thông minh và các kỹ năng thẩm mỹ; tôn trọng sự khác biệt; Thích hợp cho tuổi và kết nối với giáo dục tiểu học. 2 kích thích sự phát triển của các giác quan, cảm xúc và chức năng tâm lý; b) Giáo dục mẫu giáo phải tạo điều kiện cho trẻ em vui chơi, kinh nghiệm, khám phá và khám phá môi trường xung quanh dưới nhiều hình thức, thỏa mãn nhu cầu và sự phấn khích của trẻ em.\n"
     ]
    }
   ],
   "source": [
    "query = ground_truth[0]['generated_question']\n",
    "\n",
    "# Call build_prompt with the extracted question\n",
    "context = build_prompt(query, title_content_vector_knn(ground_truth[0]))\n",
    "\n",
    "# Translate the context back to Vietnamese (if needed)\n",
    "print(italian_to_vietnamese(context))"
   ]
  },
  {
   "cell_type": "markdown",
   "id": "b25eda09",
   "metadata": {},
   "source": [
    "# Load Mamba model"
   ]
  },
  {
   "cell_type": "code",
   "execution_count": null,
   "id": "acbc99bb-1a84-42de-82f6-b68b563b7154",
   "metadata": {},
   "outputs": [
    {
     "data": {
      "application/vnd.jupyter.widget-view+json": {
       "model_id": "be8867b01a9f466598d70a66a8b81ddb",
       "version_major": 2,
       "version_minor": 0
      },
      "text/plain": [
       "tokenizer_config.json:   0%|          | 0.00/4.79k [00:00<?, ?B/s]"
      ]
     },
     "metadata": {},
     "output_type": "display_data"
    },
    {
     "data": {
      "application/vnd.jupyter.widget-view+json": {
       "model_id": "511d0d45cc7a49e0a93ceb162d565b33",
       "version_major": 2,
       "version_minor": 0
      },
      "text/plain": [
       "tokenizer.json:   0%|          | 0.00/2.11M [00:00<?, ?B/s]"
      ]
     },
     "metadata": {},
     "output_type": "display_data"
    },
    {
     "data": {
      "application/vnd.jupyter.widget-view+json": {
       "model_id": "4edabcd4fe684fb68f10a1a3dd3fd677",
       "version_major": 2,
       "version_minor": 0
      },
      "text/plain": [
       "special_tokens_map.json:   0%|          | 0.00/587 [00:00<?, ?B/s]"
      ]
     },
     "metadata": {},
     "output_type": "display_data"
    },
    {
     "data": {
      "application/vnd.jupyter.widget-view+json": {
       "model_id": "addb74aec61c4d17808056f155a5b0f6",
       "version_major": 2,
       "version_minor": 0
      },
      "text/plain": [
       "config.json:   0%|          | 0.00/921 [00:00<?, ?B/s]"
      ]
     },
     "metadata": {},
     "output_type": "display_data"
    },
    {
     "data": {
      "application/vnd.jupyter.widget-view+json": {
       "model_id": "60fa1632acec4740a04cd2ff313dcf43",
       "version_major": 2,
       "version_minor": 0
      },
      "text/plain": [
       "model.safetensors:   0%|          | 0.00/3.17G [00:00<?, ?B/s]"
      ]
     },
     "metadata": {},
     "output_type": "display_data"
    },
    {
     "name": "stderr",
     "output_type": "stream",
     "text": [
      "The fast path is not available because one of `(selective_state_update, selective_scan_fn, causal_conv1d_fn, causal_conv1d_update, mamba_inner_fn)` is None. Falling back to the sequential implementation of Mamba, as use_mambapy is set to False. To install follow https://github.com/state-spaces/mamba/#installation and https://github.com/Dao-AILab/causal-conv1d. For the mamba.py backend, follow https://github.com/alxndrTL/mamba.py.\n"
     ]
    },
    {
     "data": {
      "application/vnd.jupyter.widget-view+json": {
       "model_id": "7d8d95e090944b2784fa1c52eca6fd05",
       "version_major": 2,
       "version_minor": 0
      },
      "text/plain": [
       "generation_config.json:   0%|          | 0.00/132 [00:00<?, ?B/s]"
      ]
     },
     "metadata": {},
     "output_type": "display_data"
    }
   ],
   "source": [
    "from transformers import MambaConfig, MambaForCausalLM, AutoTokenizer\n",
    "import torch\n",
    "\n",
    "mamba_model_name = \"DeepMount00/mamba_790_hf_qa\"\n",
    "mamba_tokenizer = AutoTokenizer.from_pretrained(mamba_model_name)\n",
    "mamba_model = MambaForCausalLM.from_pretrained(mamba_model_name, device_map={\"\": 0}).eval()"
   ]
  },
  {
   "cell_type": "markdown",
   "id": "e921ba82",
   "metadata": {},
   "source": [
    "# Load Transformer model\n"
   ]
  },
  {
   "cell_type": "code",
   "execution_count": null,
   "id": "7b75dd18",
   "metadata": {},
   "outputs": [
    {
     "data": {
      "application/vnd.jupyter.widget-view+json": {
       "model_id": "f8ec1788a1b24e8b9db585f746456ba6",
       "version_major": 2,
       "version_minor": 0
      },
      "text/plain": [
       "tokenizer_config.json:   0%|          | 0.00/2.35k [00:00<?, ?B/s]"
      ]
     },
     "metadata": {},
     "output_type": "display_data"
    },
    {
     "data": {
      "application/vnd.jupyter.widget-view+json": {
       "model_id": "c7c6a98f5fb04ac8a53ab5e04039ad67",
       "version_major": 2,
       "version_minor": 0
      },
      "text/plain": [
       "spiece.model:   0%|          | 0.00/792k [00:00<?, ?B/s]"
      ]
     },
     "metadata": {},
     "output_type": "display_data"
    },
    {
     "data": {
      "application/vnd.jupyter.widget-view+json": {
       "model_id": "12832839b4bd498f9b110002f6bbea87",
       "version_major": 2,
       "version_minor": 0
      },
      "text/plain": [
       "tokenizer.json:   0%|          | 0.00/2.42M [00:00<?, ?B/s]"
      ]
     },
     "metadata": {},
     "output_type": "display_data"
    },
    {
     "data": {
      "application/vnd.jupyter.widget-view+json": {
       "model_id": "f8a5ac31ce6e4d93a6e9351be9cc8e43",
       "version_major": 2,
       "version_minor": 0
      },
      "text/plain": [
       "added_tokens.json:   0%|          | 0.00/21.0 [00:00<?, ?B/s]"
      ]
     },
     "metadata": {},
     "output_type": "display_data"
    },
    {
     "data": {
      "application/vnd.jupyter.widget-view+json": {
       "model_id": "b13770da355947bfa1dbda99c6954f9f",
       "version_major": 2,
       "version_minor": 0
      },
      "text/plain": [
       "special_tokens_map.json:   0%|          | 0.00/2.23k [00:00<?, ?B/s]"
      ]
     },
     "metadata": {},
     "output_type": "display_data"
    },
    {
     "name": "stdout",
     "output_type": "stream",
     "text": [
      "512\n"
     ]
    }
   ],
   "source": [
    "from transformers import MambaConfig, MambaForCausalLM, AutoTokenizer, AutoModelForQuestionAnswering\n",
    "import torch\n",
    "\n",
    "transformer_model_name = \"sjrhuschlee/flan-t5-large-squad2\"\n",
    "transformer_tokenizer = AutoTokenizer.from_pretrained(transformer_model_name)\n",
    "transformer_model = AutoModelForQuestionAnswering.from_pretrained(transformer_model_name)"
   ]
  },
  {
   "cell_type": "code",
   "execution_count": 28,
   "id": "5526d92f",
   "metadata": {},
   "outputs": [
    {
     "data": {
      "application/vnd.jupyter.widget-view+json": {
       "model_id": "88c4bab322d0474aac6054ee5d12352f",
       "version_major": 2,
       "version_minor": 0
      },
      "text/plain": [
       "config.json:   0%|          | 0.00/885 [00:00<?, ?B/s]"
      ]
     },
     "metadata": {},
     "output_type": "display_data"
    },
    {
     "data": {
      "application/vnd.jupyter.widget-view+json": {
       "model_id": "79909a2226d14479b7a497b61c62ed7d",
       "version_major": 2,
       "version_minor": 0
      },
      "text/plain": [
       "model.safetensors:   0%|          | 0.00/3.00G [00:00<?, ?B/s]"
      ]
     },
     "metadata": {},
     "output_type": "display_data"
    }
   ],
   "source": [
    "def llm(context, question, model_type=\"mamba\"):\n",
    "    device = \"cuda:0\" if torch.cuda.is_available() else \"cpu\"\n",
    "    \n",
    "    if model_type.lower() == \"mamba\":\n",
    "        # Mamba model logic\n",
    "        prompt = f\"##CONTESTO: {context}\\n##DOMANDA: {question}\\n\"\n",
    "        input_ids = mamba_tokenizer([prompt], return_tensors=\"pt\").to(device)\n",
    "        generate_ids = mamba_model.generate(**input_ids, max_length=3500, eos_token_id=8112)\n",
    "        answer = mamba_tokenizer.batch_decode(generate_ids)\n",
    "        try:\n",
    "            final_answer = answer[0].split(\"##RISPOSTA: \")[1].split(\"##END\")[0].strip(\"\\n\")\n",
    "        except IndexError:\n",
    "            final_answer = \"\"\n",
    "            \n",
    "    elif model_type.lower() == \"transformer\":\n",
    "        # FLAN-T5 QA approach\n",
    "        # Move the transformer model to the correct device\n",
    "        transformer_model.to(device)\n",
    "        \n",
    "        question_with_cls = f'{transformer_tokenizer.cls_token}{question}'\n",
    "        encoding = transformer_tokenizer(question_with_cls, context, return_tensors=\"pt\").to(device)\n",
    "        \n",
    "        output = transformer_model(\n",
    "            encoding[\"input_ids\"],\n",
    "            attention_mask=encoding[\"attention_mask\"]\n",
    "        )\n",
    "        \n",
    "        all_tokens = transformer_tokenizer.convert_ids_to_tokens(encoding[\"input_ids\"][0].tolist())\n",
    "        answer_tokens = all_tokens[torch.argmax(output[\"start_logits\"]):torch.argmax(output[\"end_logits\"]) + 1]\n",
    "        final_answer = transformer_tokenizer.decode(transformer_tokenizer.convert_tokens_to_ids(answer_tokens))\n",
    "    \n",
    "    else:\n",
    "        raise ValueError(f\"Unknown model type: {model_type}. Choose 'mamba' or 'transformer'.\")\n",
    "        \n",
    "    return final_answer"
   ]
  },
  {
   "cell_type": "code",
   "execution_count": 29,
   "id": "607115f6",
   "metadata": {},
   "outputs": [
    {
     "name": "stderr",
     "output_type": "stream",
     "text": [
      "The 'batch_size' argument of MambaCache is deprecated and will be removed in v4.49. Use the more precisely named 'max_batch_size' argument instead.\n"
     ]
    },
    {
     "data": {
      "text/plain": [
       "\"La torre degli Asinelli si trova in piazza di porta Ravegnana, all'incrocio tra le antiche strade San Donato (ora via Zamboni, San Vitale, Maggiore e Castiglione).\""
      ]
     },
     "execution_count": 29,
     "metadata": {},
     "output_type": "execute_result"
    }
   ],
   "source": [
    "contesto = \"\"\"La torre degli Asinelli è una delle cosiddette due torri di Bologna, simbolo della città, situate in piazza di porta Ravegnana, all'incrocio tra le antiche strade San Donato (ora via Zamboni), San Vitale, Maggiore e Castiglione. Eretta, secondo la tradizione, fra il 1109 e il 1119 dal nobile Gherardo Asinelli, la torre è alta 97,20 metri, pende verso ovest per 2,23 metri e presenta all'interno una scalinata composta da 498 gradini. Ancora non si può dire con certezza quando e da chi fu costruita la torre degli Asinelli. Si presume che la torre debba il proprio nome a Gherardo Asinelli, il nobile cavaliere di fazione ghibellina al quale se ne attribuisce la costruzione, iniziata secondo una consolidata tradizione l'11 ottobre 1109 e terminata dieci anni dopo, nel 1119.\"\"\"\n",
    "domanda = \"Dove si trova precisamente la torre degli Asinelli?\"\n",
    "llm(contesto,domanda,model_type =\"mamba\")"
   ]
  },
  {
   "cell_type": "code",
   "execution_count": 50,
   "id": "6d8e3cba",
   "metadata": {},
   "outputs": [
    {
     "data": {
      "text/plain": [
       "'London'"
      ]
     },
     "execution_count": 50,
     "metadata": {},
     "output_type": "execute_result"
    }
   ],
   "source": [
    "llm('My name is Sarah and I live in London','Where do I live?',model_type =\"transformer\")"
   ]
  },
  {
   "cell_type": "markdown",
   "id": "d2e5c047",
   "metadata": {},
   "source": [
    "## Trying to fix None Type error from Translation"
   ]
  },
  {
   "cell_type": "code",
   "execution_count": 25,
   "id": "972b0159",
   "metadata": {},
   "outputs": [
    {
     "data": {
      "text/plain": [
       "{'generated_question': 'Các loại hình cơ sở giáo dục mầm non được quy định như thế nào trong Luật Giáo Dục?',\n",
       " 'generated_answer': 'Cơ sở giáo dục mầm non bao gồm: 1. Nhà trẻ, nhóm trẻ độc lập nhận trẻ em từ 03 tháng tuổi đến 03 tuổi; 2. Trường mẫu giáo, lớp mẫu giáo độc lập nhận trẻ em từ 03 tuổi đến 06 tuổi; 3. Trường mầm non, lớp mầm non độc lập là cơ sở giáo dục kết hợp nhà trẻ và mẫu giáo, nhận trẻ em từ 03 tháng tuổi đến 06 tuổi.',\n",
       " 'doc_id': 'a0fcdc5b',\n",
       " 'law_title': 'Luật Giáo Dục'}"
      ]
     },
     "execution_count": 25,
     "metadata": {},
     "output_type": "execute_result"
    }
   ],
   "source": [
    "ground_truth[0]"
   ]
  },
  {
   "cell_type": "markdown",
   "id": "0b05a88d",
   "metadata": {},
   "source": [
    "# Rag with hybird search"
   ]
  },
  {
   "cell_type": "code",
   "execution_count": 51,
   "id": "90dfbeeb",
   "metadata": {},
   "outputs": [],
   "source": [
    "def rag(query, model_type=\"mamba\"):\n",
    "    \"\"\"\n",
    "    RAG function that retrieves, translates, and generates answers.\n",
    "\n",
    "    Args:\n",
    "        query (str or dict): The query to process. If a dict, it must contain 'generated_question' or 'questions'.\n",
    "        model_type (str): The type of model being used (\"mamba\" or \"transformer\").\n",
    "\n",
    "    Returns:\n",
    "        str: The final answer.\n",
    "    \"\"\"\n",
    "    # Get search results\n",
    "    search_results = hybrid_search(query)\n",
    "    \n",
    "    # Extract the question depending on input format\n",
    "    if isinstance(query, str):\n",
    "        question = query\n",
    "    elif isinstance(query, dict):\n",
    "        if 'generated_question' in query:\n",
    "            question = query['generated_question']\n",
    "    else:\n",
    "        raise ValueError(\"Query must be a string or a dictionary\")\n",
    "\n",
    "    # Translate the query based on the model type\n",
    "    if model_type.lower() == \"mamba\":\n",
    "        translated_query = vietnamese_to_italian(question)  # Mamba: Vietnamese -> Italian\n",
    "    else:\n",
    "        translated_query = vietnamese_to_english(question)  # Transformer: Vietnamese -> English\n",
    "    \n",
    "    # Build context and get answer\n",
    "    context = build_prompt(translated_query, search_results, model_type=model_type)\n",
    "    answer = llm(context, translated_query, model_type=model_type)\n",
    "\n",
    "    # Translate answer back to Vietnamese if using Mamba\n",
    "    if model_type.lower() == \"mamba\":\n",
    "        final_answer = italian_to_vietnamese(answer)  # Mamba: Italian -> Vietnamese\n",
    "    else:\n",
    "        final_answer = english_to_vietnamese(answer)  # Transformer: English -> Vietnamese\n",
    "    \n",
    "    return final_answer\n",
    "def rag_with_search(query, model_type=\"mamba\"):\n",
    "    \"\"\"\n",
    "    RAG function that returns both search results and answer, supporting multiple models.\n",
    "\n",
    "    Args:\n",
    "        query (str or dict): The query to process. If a dict, it must contain 'generated_question' or 'questions'.\n",
    "        model_type (str): The type of model being used (\"mamba\" or \"transformer\").\n",
    "\n",
    "    Returns:\n",
    "        str: A formatted string containing search results and the final answer.\n",
    "    \"\"\"\n",
    "    # Get search results\n",
    "    search_results = hybrid_search(query)\n",
    "    search_results_str = format_search_results(search_results)\n",
    "    \n",
    "    # Extract the question depending on input format\n",
    "    if isinstance(query, str):\n",
    "        question = query\n",
    "    elif isinstance(query, dict):\n",
    "        if 'generated_question' in query:\n",
    "            question = query['generated_question']\n",
    "\n",
    "    # Translate the query based on the model type\n",
    "    if model_type.lower() == \"mamba\":\n",
    "        translated_query = vietnamese_to_italian(question)  # Mamba: Vietnamese -> Italian\n",
    "    else:\n",
    "        translated_query = vietnamese_to_english(question)  # Transformer: Vietnamese -> English\n",
    "\n",
    "    # Build context and get answer\n",
    "    context = build_prompt(translated_query, search_results, model_type=model_type)\n",
    "    answer = llm(context, translated_query, model_type=model_type)\n",
    "\n",
    "    # Translate answer back to Vietnamese if using Mamba\n",
    "    if model_type.lower() == \"mamba\":\n",
    "        final_answer = italian_to_vietnamese(answer)  # Mamba: Italian -> Vietnamese\n",
    "    else:\n",
    "        final_answer = english_to_vietnamese(answer)  # Transformer: English -> Vietnamese\n",
    "    \n",
    "    # Format the output for better readability\n",
    "    formatted_output = (\n",
    "        \"=== Search Results ===\\n\"\n",
    "        f\"{search_results_str}\\n\\n\"\n",
    "        \"=== Final Answer ===\\n\"\n",
    "        f\"{model_type.capitalize()}: {final_answer}\"\n",
    "    )\n",
    "    \n",
    "    return formatted_output\n",
    "def format_search_results(search_results):\n",
    "    \"\"\"\n",
    "    Formats the search results into a structured and readable string.\n",
    "\n",
    "    Args:\n",
    "        search_results (list): A list of dictionaries, where each dictionary is a search result.\n",
    "\n",
    "    Returns:\n",
    "        str: The formatted search results string.\n",
    "    \"\"\"\n",
    "    formatted_results = []\n",
    "    for i, doc in enumerate(search_results):\n",
    "        formatted_results.append(\n",
    "            f\"=== Document {i+1} ===\\n\"\n",
    "            f\"- Law Title: {doc['law_title']}\\n\"\n",
    "            f\"- Law Number: {doc['law_number']}\\n\"\n",
    "            f\"- Article Number: {doc['article_number']}\\n\"\n",
    "            f\"- Title: {doc['title']}\\n\"\n",
    "            f\"- Content: {doc['content']}\\n\"\n",
    "        )\n",
    "    return \"\\n\".join(formatted_results)"
   ]
  },
  {
   "cell_type": "markdown",
   "id": "ed213bbe",
   "metadata": {},
   "source": [
    "# Example"
   ]
  },
  {
   "cell_type": "code",
   "execution_count": 35,
   "id": "6ca99718",
   "metadata": {},
   "outputs": [
    {
     "data": {
      "text/plain": [
       "'Các loại hình cơ sở giáo dục mầm non được quy định như thế nào trong Luật Giáo Dục?'"
      ]
     },
     "execution_count": 35,
     "metadata": {},
     "output_type": "execute_result"
    }
   ],
   "source": [
    "ground_truth[0]['generated_question']"
   ]
  },
  {
   "cell_type": "code",
   "execution_count": 36,
   "id": "7559424c",
   "metadata": {},
   "outputs": [
    {
     "data": {
      "text/plain": [
       "[{'article_number': 'Điều 66',\n",
       "  'law_number': 'Luật số: 43/2019/QH14',\n",
       "  'chapter_title': 'Chương IV',\n",
       "  'id': '074a5ce5',\n",
       "  'title': 'Vị trí, vai trò của nhà giáo',\n",
       "  'law_title': 'Luật Giáo Dục',\n",
       "  'content': '1. Nhà giáo làm nhiệm vụ giảng dạy, giáo dục trong cơ sở giáo dục, trừ cơ sở giáo dục quy định tại điểm c khoản 1 Điều 65 của Luật này. Nhà giáo giảng dạy ở cơ sở giáo dục mầm non, giáo dục phổ thông, cơ sở giáo dục khác, giảng dạy trình độ sơ cấp, trung cấp gọi là giáo viên; nhà giáo giảng dạy từ trình độ cao đẳng trở lên gọi là giảng viên. 2. Nhà giáo có vai trò quyết định trong việc bảo đảm chất lượng giáo dục, có vị thế quan trọng trong xã hội, được xã hội tôn vinh. '}]"
      ]
     },
     "execution_count": 36,
     "metadata": {},
     "output_type": "execute_result"
    }
   ],
   "source": [
    "hybrid_search(ground_truth[0])"
   ]
  },
  {
   "cell_type": "code",
   "execution_count": 44,
   "id": "ff47328e",
   "metadata": {},
   "outputs": [
    {
     "data": {
      "text/plain": [
       "'Các loại của Viện giáo dục được quy định là: Tài liệu 1, Tài liệu 2, Tài liệu 3, Tài liệu 4, Tài liệu 5, Tài liệu 6, Tài liệu 7, Tài liệu 8, Tài liệu 9, Tài liệu 10, Tài liệu 11, Tài liệu 12, Tài liệu 13, Tài liệu 14, Tài liệu 15, Tài liệu 15, Tài liệu 16, Tài liệu 17, Tài liệu 18, Tài liệu 19, Tài liệu 20, Tài liệu 20, 21. Tài liệu 22, Tài liệu 23, Tài liệu 24, Tài liệu 25.'"
      ]
     },
     "execution_count": 44,
     "metadata": {},
     "output_type": "execute_result"
    }
   ],
   "source": [
    "rag(ground_truth[0], model_type=\"mamba\")"
   ]
  },
  {
   "cell_type": "code",
   "execution_count": 38,
   "id": "83c99c42",
   "metadata": {},
   "outputs": [
    {
     "data": {
      "text/plain": [
       "'<CLS>'"
      ]
     },
     "execution_count": 38,
     "metadata": {},
     "output_type": "execute_result"
    }
   ],
   "source": [
    "rag(ground_truth[0], model_type=\"transformer\")"
   ]
  },
  {
   "cell_type": "code",
   "execution_count": 53,
   "id": "79d42e14",
   "metadata": {},
   "outputs": [
    {
     "name": "stdout",
     "output_type": "stream",
     "text": [
      "\n",
      "Record 0:\n",
      "Generated Question: Các loại hình cơ sở giáo dục mầm non được quy định như thế nào trong Luật Giáo Dục?\n",
      "Generated Answer (Ground Truth): Cơ sở giáo dục mầm non bao gồm: 1. Nhà trẻ, nhóm trẻ độc lập nhận trẻ em từ 03 tháng tuổi đến 03 tuổi; 2. Trường mẫu giáo, lớp mẫu giáo độc lập nhận trẻ em từ 03 tuổi đến 06 tuổi; 3. Trường mầm non, lớp mầm non độc lập là cơ sở giáo dục kết hợp nhà trẻ và mẫu giáo, nhận trẻ em từ 03 tháng tuổi đến 06 tuổi.\n",
      "RAG Answer (Transformer): <CLS>\n",
      "\n",
      "Record 1:\n",
      "Generated Question: Nếu tôi là công dân Việt Nam kết hôn với người nước ngoài và muốn ly hôn, tôi cần làm thủ tục ở đâu?\n",
      "Generated Answer (Ground Truth): Việc ly hôn giữa công dân Việt Nam với người nước ngoài, giữa người nước ngoài với nhau thường trú ở Việt Nam được giải quyết tại cơ quan có thẩm quyền của Việt Nam theo quy định của Luật Hôn Nhân Và Gia Đình.\n",
      "RAG Answer (Transformer): tại cơ quan có thẩm quyền của Việt Nam\n",
      "\n",
      "Record 2:\n",
      "Generated Question: Khi nào cô, dì, chú, cậu, bác ruột có nghĩa vụ cấp dưỡng cho cháu ruột?\n",
      "Generated Answer (Ground Truth): Cô, dì, chú, cậu, bác ruột không sống chung với cháu ruột có nghĩa vụ cấp dưỡng cho cháu trong trường hợp cháu chưa thành niên hoặc cháu đã thành niên không có khả năng lao động và không có tài sản để tự nuôi mình mà không có người khác cấp dưỡng theo quy định của Luật Hôn Nhân Và Gia Đình.\n",
      "RAG Answer (Transformer): Trong trường hợp một đứa cháu nhỏ hoặc trẻ vị thành niên không thể làm việc và không có tài sản để hỗ trợ bản thân mà không có người khác\n",
      "\n",
      "Record 3:\n",
      "Generated Question: Tại nơi có cả biển báo hiệu cố định và báo hiệu tạm thời, người tham gia giao thông phải tuân theo hiệu lệnh nào?\n",
      "Generated Answer (Ground Truth): Tại nơi có biển báo hiệu cố định lại có báo hiệu tạm thời thì người tham gia giao thông phải chấp hành hiệu lệnh của báo hiệu tạm thời.\n",
      "RAG Answer (Transformer): Ở nơi bảng hiệu cố định có tín hiệu tạm thời, người tham gia giao thông phải tuân theo tín hiệu của tín hiệu tạm thời\n",
      "\n",
      "Record 4:\n",
      "Generated Question: Khi nào tôi được phép vượt xe bên phải thay vì bên trái?\n",
      "Generated Answer (Ground Truth): Bạn được phép vượt xe bên phải trong các trường hợp sau: 1) Khi xe phía trước có tín hiệu rẽ trái hoặc đang rẽ trái; 2) Khi xe điện đang chạy giữa đường; 3) Khi xe chuyên dùng đang làm việc trên đường mà không thể vượt bên trái được.\n",
      "RAG Answer (Transformer): <CLS>\n"
     ]
    }
   ],
   "source": [
    "# Loop through the first 10 questions in ground_truth\n",
    "for i, rec in enumerate(ground_truth[:5]):\n",
    "    print(f\"\\nRecord {i}:\")\n",
    "    print(f\"Generated Question: {rec['generated_question']}\")\n",
    "    print(f\"Generated Answer (Ground Truth): {rec['generated_answer']}\")\n",
    "\n",
    "    # Call the RAG function for the transformer model\n",
    "    rag_answer_transformer = rag(rec, model_type=\"transformer\")\n",
    "    print(f\"RAG Answer (Transformer): {rag_answer_transformer}\")"
   ]
  },
  {
   "cell_type": "code",
   "execution_count": 41,
   "id": "086e65e3",
   "metadata": {},
   "outputs": [
    {
     "data": {
      "text/plain": [
       "{'generated_question': 'Trong trường hợp nào việc chia tài sản chung trong thời kỳ hôn nhân bị coi là vô hiệu?',\n",
       " 'generated_answer': 'Việc chia tài sản chung trong thời kỳ hôn nhân bị vô hiệu khi thuộc một trong các trường hợp sau: 1. Ảnh hưởng nghiêm trọng đến lợi ích của gia đình; quyền, lợi ích hợp pháp của con chưa thành niên, con đã thành niên mất năng lực hành vi dân sự hoặc không có khả năng lao động và không có tài sản để tự nuôi mình; 2. Nhằm trốn tránh thực hiện các nghĩa vụ như nuôi dưỡng, cấp dưỡng, bồi thường thiệt hại, thanh toán khi bị Tòa án tuyên bố phá sản, trả nợ cho cá nhân, tổ chức, nộp thuế hoặc nghĩa vụ tài chính khác đối với Nhà nước, và các nghĩa vụ khác về tài sản theo quy định của Luật Hôn Nhân Và Gia Đình, Bộ luật dân sự và quy định khác của pháp luật có liên quan.',\n",
       " 'doc_id': 'b74bd375',\n",
       " 'law_title': 'Luật Hôn Nhân Và Gia Đình'}"
      ]
     },
     "execution_count": 41,
     "metadata": {},
     "output_type": "execute_result"
    }
   ],
   "source": [
    "ground_truth[10]"
   ]
  },
  {
   "cell_type": "code",
   "execution_count": 45,
   "id": "8799889b",
   "metadata": {},
   "outputs": [
    {
     "name": "stdout",
     "output_type": "stream",
     "text": [
      "=== Search Results ===\n",
      "=== Document 1 ===\n",
      "- Law Title: Luật Giao Thông Đường Bộ\n",
      "- Law Number: Luật số: 23/2008/QH12\n",
      "- Article Number: Điều 17\n",
      "- Title: Tránh xe đi ngược chiều\n",
      "- Content: 1. Trên đường không phân chia thành hai chiều xe chạy riêng biệt, hai xe đi ngược chiều tránh nhau, người điều khiển phải giảm tốc độ và cho xe đi về bên phải theo chiều xe chạy của mình. 2. Các trường hợp nhường đường khi tránh nhau quy định như sau: a) Nơi đường hẹp chỉ đủ cho một xe chạy và có chỗ tránh xe thì xe nào ở gần chỗ tránh hơn phải vào vị trí tránh, nhường đường cho xe kia đi; b) Xe xuống dốc phải nhường đường cho xe đang lên dốc; c) Xe nào có chướng ngại vật phía trước phải nhường đường cho xe không có chướng ngại vật đi trước. 3. Xe cơ giới đi ngược chiều gặp nhau không được dùng đèn chiếu xa. \n",
      "\n",
      "\n",
      "=== Final Answer ===\n",
      "Mamba: Khi bạn đi theo hướng ngược lại để tránh chiếc xe bạn sắp tránh.\n"
     ]
    }
   ],
   "source": [
    "rag_with_search_result= rag_with_search({'generated_question': 'Khi nào được đi ngược chiều',\n",
    " 'law_title': \"Luật Giao Thông Đường Bộ\"}, model_type=\"mamba\")\n",
    "print(rag_with_search_result)"
   ]
  },
  {
   "cell_type": "code",
   "execution_count": 46,
   "id": "760c83da",
   "metadata": {},
   "outputs": [
    {
     "name": "stdout",
     "output_type": "stream",
     "text": [
      "=== Search Results ===\n",
      "=== Document 1 ===\n",
      "- Law Title: Luật Giao Thông Đường Bộ\n",
      "- Law Number: Luật số: 23/2008/QH12\n",
      "- Article Number: Điều 17\n",
      "- Title: Tránh xe đi ngược chiều\n",
      "- Content: 1. Trên đường không phân chia thành hai chiều xe chạy riêng biệt, hai xe đi ngược chiều tránh nhau, người điều khiển phải giảm tốc độ và cho xe đi về bên phải theo chiều xe chạy của mình. 2. Các trường hợp nhường đường khi tránh nhau quy định như sau: a) Nơi đường hẹp chỉ đủ cho một xe chạy và có chỗ tránh xe thì xe nào ở gần chỗ tránh hơn phải vào vị trí tránh, nhường đường cho xe kia đi; b) Xe xuống dốc phải nhường đường cho xe đang lên dốc; c) Xe nào có chướng ngại vật phía trước phải nhường đường cho xe không có chướng ngại vật đi trước. 3. Xe cơ giới đi ngược chiều gặp nhau không được dùng đèn chiếu xa. \n",
      "\n",
      "\n",
      "=== Final Answer ===\n",
      "Transformer: \n"
     ]
    }
   ],
   "source": [
    "rag_with_search_result= rag_with_search({'generated_question': 'Khi nào được đi ngược chiều',\n",
    " 'law_title': \"Luật Giao Thông Đường Bộ\"}, model_type=\"transformer\")\n",
    "print(rag_with_search_result)"
   ]
  },
  {
   "cell_type": "markdown",
   "id": "053bc755",
   "metadata": {},
   "source": [
    "## 100 question for evaluate"
   ]
  },
  {
   "cell_type": "code",
   "execution_count": 162,
   "id": "75123a0b-1aea-467c-84d9-ae5f6f6c2256",
   "metadata": {},
   "outputs": [
    {
     "data": {
      "text/plain": [
       "{'law_title': 'Luật Giáo Dục',\n",
       " 'law_number': 'Luật số: 43/2019/QH14',\n",
       " 'chapter_title': 'Chương I',\n",
       " 'article_number': 'Điều 1',\n",
       " 'title': 'Phạm vi điều chỉnh',\n",
       " 'content': 'Luật này quy định về hệ thống giáo dục quốc dân; cơ sở giáo dục, nhà giáo, người học; quản lý nhà nước về giáo dục; quyền và trách nhiệm của cơ quan, tổ chức, cá nhân liên quan đến hoạt động giáo dục. ',\n",
       " 'id': '75a9286e',\n",
       " 'title_content_vector': array([-1.97882224e-02, -1.99339297e-02,  4.56860475e-02,  8.96888971e-02,\n",
       "        -5.92795312e-02, -6.35427088e-02,  4.05403003e-02,  1.20414663e-02,\n",
       "         1.30230516e-01,  3.74822877e-02,  7.43912440e-03,  8.62386171e-03,\n",
       "         4.33983728e-02,  2.53979526e-02,  1.36169503e-02, -1.71789490e-02,\n",
       "         6.61228448e-02,  7.36672133e-02, -5.86116761e-02,  9.18327495e-02,\n",
       "        -1.52075256e-03,  4.18600067e-02,  3.99471521e-02,  8.13104771e-03,\n",
       "         2.45093219e-02,  8.91548989e-05,  2.86348090e-02, -6.75837044e-03,\n",
       "         1.57178324e-02,  5.52585609e-02,  1.17705390e-02,  5.95496828e-03,\n",
       "        -1.36533482e-02,  3.90819507e-03,  6.66174293e-02, -2.31575239e-02,\n",
       "        -1.98699106e-02,  4.71658185e-02,  1.02514410e-02,  5.18499576e-02,\n",
       "        -1.07755754e-02, -4.65019979e-03, -9.90018323e-02, -5.45790829e-02,\n",
       "         1.16914026e-02, -6.37483820e-02, -9.12048072e-02, -4.88089994e-02,\n",
       "        -3.31294797e-02, -3.42906304e-02, -8.89409892e-03,  1.38464607e-02,\n",
       "         2.76592448e-02,  3.03702373e-02,  1.30555024e-02, -6.72110096e-02,\n",
       "        -6.12668991e-02,  8.05784203e-03,  1.60065126e-02,  9.11568925e-02,\n",
       "        -4.55023050e-02,  4.07142602e-02, -3.98442820e-02, -2.15663295e-03,\n",
       "        -1.09871430e-02,  6.05622446e-03,  1.13751002e-01,  2.88625266e-02,\n",
       "         1.54049154e-02,  2.17854250e-02, -2.59449091e-02, -2.06726734e-02,\n",
       "         6.36177137e-03, -3.48505490e-02,  4.36222889e-02, -3.41947973e-02,\n",
       "         1.26460204e-02,  1.18791247e-02, -1.72960348e-02,  2.55805627e-02,\n",
       "        -6.32940605e-02, -1.27873905e-02,  4.03085463e-02, -8.69144313e-03,\n",
       "         3.22629362e-02, -2.84244455e-02, -1.56922843e-02,  6.75964868e-03,\n",
       "         4.47872207e-02, -1.75076239e-02, -2.43373029e-02,  5.54608814e-02,\n",
       "         3.86876725e-02,  1.35822641e-02, -3.66201252e-03,  1.21593308e-02,\n",
       "        -1.64994355e-02,  1.13994582e-02, -2.41392590e-02,  2.69384421e-02,\n",
       "        -5.47493398e-02, -2.69850343e-02,  2.68295920e-03,  1.83037221e-02,\n",
       "         5.61038516e-02,  3.29984762e-02, -6.47342652e-02, -8.60801488e-02,\n",
       "        -8.20627809e-02,  1.03383360e-03, -3.54028121e-02, -1.52368816e-02,\n",
       "        -1.92258246e-02,  1.16992071e-02, -7.37199374e-03, -6.99972585e-02,\n",
       "        -8.76934677e-02,  4.82466109e-02,  9.32560302e-03,  1.56299782e-03,\n",
       "         5.03594503e-02, -2.47773770e-02, -1.87867843e-02, -5.60578927e-02,\n",
       "        -2.63294019e-02,  2.02489225e-03,  4.52885265e-03, -5.15439510e-02,\n",
       "        -5.87531775e-02,  5.21741807e-02,  6.92582428e-02,  3.85817997e-02,\n",
       "        -7.43807405e-02, -1.00163859e-03,  1.43876364e-02, -7.27482289e-02,\n",
       "         2.74872091e-02, -3.55702937e-02, -1.39469132e-02, -2.53002392e-03,\n",
       "         2.43891254e-02, -2.22719759e-02,  2.92085987e-02, -1.31863132e-02,\n",
       "         4.40467037e-02, -2.11272240e-02,  1.30630052e-02, -9.54812579e-03,\n",
       "         1.60325132e-02, -9.59298015e-03, -1.14749325e-02,  5.05448785e-03,\n",
       "         1.24219405e-02, -2.19639894e-02, -9.36420113e-02,  1.25346836e-02,\n",
       "        -2.41750907e-02,  4.65310812e-02,  3.38518843e-02,  1.24587566e-02,\n",
       "        -9.44123324e-03, -4.10059504e-02,  1.72953848e-02, -1.77387502e-02,\n",
       "        -2.06292886e-02,  4.11508372e-03, -1.88253932e-02,  2.97383182e-02,\n",
       "        -6.03371337e-02, -9.47524421e-03,  1.70080573e-03,  5.54369092e-02,\n",
       "         3.73982987e-03,  4.56995293e-02, -1.91709399e-02,  5.17071970e-02,\n",
       "         4.51552263e-03, -1.74405817e-02, -1.68974083e-02, -7.38396047e-05,\n",
       "         1.28871398e-02,  3.00438721e-02,  1.64266936e-02, -1.23596760e-02,\n",
       "         2.49963887e-02,  5.37007116e-02,  1.46596152e-02, -3.34916785e-02,\n",
       "        -6.62616268e-02, -1.94380060e-02, -6.41178414e-02,  9.57213044e-02,\n",
       "        -2.27364991e-02, -5.68324365e-02, -3.72149758e-02, -3.52365971e-02,\n",
       "        -3.91937494e-02, -1.47837093e-02,  1.68652721e-02, -2.61589941e-02,\n",
       "        -3.49321552e-02, -5.22928797e-02, -5.03318831e-02, -6.80068284e-02,\n",
       "         6.38185889e-02, -3.36788222e-02, -1.81072261e-02, -4.90314662e-02,\n",
       "         7.22382870e-03, -2.38797180e-02,  6.37478530e-02, -3.05680335e-02,\n",
       "        -5.32255415e-03, -5.20670414e-02, -2.01467797e-02,  3.74589786e-02,\n",
       "         1.36511577e-02, -4.39700298e-02, -9.32888910e-02, -3.33278929e-03,\n",
       "         2.13854089e-02, -2.51023099e-02, -2.12562010e-02, -3.80894318e-02,\n",
       "         2.91582779e-03, -7.37526128e-03,  4.84443344e-02, -9.47581604e-03,\n",
       "         5.39071523e-02, -4.36178409e-02,  3.08205690e-02,  1.08805271e-02,\n",
       "        -2.64344569e-02, -1.82214677e-02, -6.62933476e-03, -4.34531681e-02,\n",
       "         2.40316335e-02,  8.30997434e-03,  6.77536009e-04,  1.17085008e-02,\n",
       "         4.95536020e-03,  2.92651355e-02,  8.11062194e-03, -1.26451468e-02,\n",
       "        -4.95704310e-03,  4.25521992e-02, -1.73015483e-02,  1.04802791e-02,\n",
       "         8.98090471e-03,  1.84325594e-02, -3.66717763e-02,  9.16522592e-02,\n",
       "        -1.11143626e-02, -6.81969821e-02, -1.29620293e-02, -1.53309721e-02,\n",
       "         2.87247393e-02, -2.09458228e-02, -1.45750390e-02, -5.50156385e-02,\n",
       "        -2.85355430e-02,  2.16825027e-02, -6.55925600e-03,  6.43746033e-02,\n",
       "         8.95649493e-02, -1.71960574e-02, -6.35135919e-02, -2.30324175e-03,\n",
       "         1.19748330e-02, -7.85747357e-03,  2.65271608e-02,  4.19202773e-03,\n",
       "        -3.02750361e-03, -3.55505408e-03,  2.41548866e-02, -4.34689457e-03,\n",
       "        -1.46510275e-02, -1.90944877e-02,  4.83760657e-03,  3.54315042e-02,\n",
       "        -4.91747372e-02,  2.32442711e-02, -3.87327862e-03, -3.11319847e-02,\n",
       "        -2.06513200e-02,  5.53575763e-03,  1.80164464e-02,  4.68767509e-02,\n",
       "         5.28238975e-02,  3.44063267e-02, -2.98938882e-02,  3.23506282e-03,\n",
       "        -1.93130430e-02, -1.54174585e-02, -1.93324219e-02,  1.29110469e-02,\n",
       "        -1.91833135e-02, -3.80007811e-02, -1.74334925e-02,  4.01562564e-02,\n",
       "         1.58459973e-02, -2.14617923e-02,  2.72560446e-03,  7.31100217e-02,\n",
       "         4.13615219e-02, -7.65324431e-03, -1.35348253e-02,  1.33758942e-02,\n",
       "         2.80163195e-02,  8.89339112e-03,  4.76474166e-02,  3.61502171e-02,\n",
       "        -4.06186562e-03, -3.15645598e-02, -3.12608071e-02,  4.60304432e-02,\n",
       "         3.59402187e-02,  8.53943173e-03, -4.56544086e-02, -1.42845903e-02,\n",
       "        -4.77020778e-02, -1.89343877e-02,  1.74007323e-02,  3.76502760e-02,\n",
       "        -1.63587406e-02,  1.02228289e-02, -6.39392734e-02,  4.30632047e-02,\n",
       "         5.24906665e-02, -1.65057238e-02,  4.21740785e-02, -1.12803588e-02,\n",
       "        -6.59309700e-02, -2.13322419e-04,  8.12904164e-03,  3.41546573e-02,\n",
       "         4.15423550e-02,  2.21973732e-02,  4.35294509e-02, -2.13745870e-02,\n",
       "         3.28156129e-02, -2.01711860e-02,  2.15878971e-02, -4.74285372e-02,\n",
       "         2.72833854e-02,  8.66241753e-04, -2.79878289e-03, -3.75492834e-02,\n",
       "        -1.19944913e-02,  2.28315499e-02,  6.19184924e-03, -1.50930863e-02,\n",
       "         2.08736919e-02, -2.09463425e-02, -1.38723524e-02, -2.33901292e-03,\n",
       "         3.83620374e-02,  5.78371212e-02,  3.34197171e-02, -1.34063121e-02,\n",
       "        -5.83260208e-02, -1.70928314e-02, -1.86355282e-02,  7.63078555e-02,\n",
       "         6.23494899e-03, -9.88758728e-03, -6.56128395e-03,  2.26542004e-03,\n",
       "        -4.54940498e-02, -4.73272130e-02, -3.64385471e-02, -2.61524003e-02,\n",
       "        -1.59813333e-02,  1.07688562e-03,  1.40987420e-02, -1.07931131e-02,\n",
       "        -1.54987853e-02, -1.31036388e-02,  3.20458151e-02,  4.51768637e-02,\n",
       "         6.22657537e-02,  2.06491537e-02,  4.01663780e-02,  9.37112980e-03,\n",
       "        -9.60026216e-03,  5.96565194e-03, -1.58619881e-02,  2.29686033e-02,\n",
       "        -2.01997869e-02, -8.80624913e-03, -9.04443860e-03, -2.43520550e-02,\n",
       "         5.56076644e-03,  1.04095817e-01,  9.10422020e-03,  9.54340771e-02,\n",
       "        -6.70988858e-02, -3.57702677e-03,  4.37985286e-02, -1.43238464e-02,\n",
       "        -4.11667749e-02,  3.30924504e-02,  3.50279845e-02, -4.45931964e-03,\n",
       "         8.29215813e-03,  9.55675449e-03, -4.73760851e-02, -6.09743670e-02,\n",
       "         1.92651507e-02,  1.29455281e-02,  5.13535477e-02,  1.75243188e-02,\n",
       "         1.14804143e-02,  2.04478558e-02,  1.53614227e-02, -2.67983172e-02,\n",
       "        -2.67522540e-02, -9.76130366e-02, -1.75153017e-02,  4.88365553e-02,\n",
       "         4.09931988e-02, -1.72837842e-02,  6.74918247e-03, -4.92163142e-03,\n",
       "         3.65142561e-02,  1.26354201e-02,  4.95755300e-02,  6.01049326e-02,\n",
       "         2.94875819e-03, -4.36782092e-02,  3.98193225e-02,  1.46994684e-02,\n",
       "        -1.80374049e-02, -1.39776142e-02, -2.96009127e-02,  1.25235999e-02,\n",
       "         3.92782241e-02,  2.22490598e-02,  4.65829931e-02, -4.67952155e-02,\n",
       "         2.22957367e-03,  1.48853334e-02,  5.22739533e-03,  4.19783741e-02,\n",
       "        -4.25840020e-02,  3.08056585e-02,  4.27514352e-02,  1.28574464e-02,\n",
       "        -8.61365721e-03,  4.48062606e-02,  1.52134988e-02,  4.14292254e-02,\n",
       "         2.87349075e-02, -1.64732952e-02, -6.77748322e-02, -5.05477078e-02,\n",
       "         2.09582709e-02, -1.64897021e-04,  1.36725872e-03,  1.40340514e-02,\n",
       "        -1.28160939e-02,  5.20012565e-02, -2.21281070e-02, -8.55724234e-03,\n",
       "         6.84362650e-02,  1.73817854e-02,  6.69185743e-02,  5.88517124e-03,\n",
       "         2.29596216e-02,  2.07045171e-02, -4.53006104e-02,  5.23399338e-02,\n",
       "         1.29066873e-03, -3.24367881e-02,  4.10664873e-03, -6.69645220e-02,\n",
       "        -9.58189927e-03, -1.23540394e-03,  4.41633202e-02, -1.08801397e-02,\n",
       "         2.73239110e-02,  3.85403982e-03, -2.47026258e-03,  3.88960727e-02,\n",
       "         4.58521470e-02, -5.54085635e-02,  2.07461268e-02, -3.92487198e-02,\n",
       "        -4.47965600e-03, -8.69084988e-03,  2.60262750e-02, -4.19213390e-03,\n",
       "        -2.97878142e-02,  2.35664677e-02, -7.96415098e-03,  2.18448490e-02,\n",
       "         3.65405902e-02, -1.22046340e-02, -1.00375796e-02,  8.72720499e-03,\n",
       "        -3.13841812e-02, -1.81800239e-02, -1.44146141e-02,  1.71566252e-02,\n",
       "        -2.80238353e-02,  8.55374336e-02,  2.87550241e-02, -2.00633015e-02,\n",
       "         2.92376913e-02,  1.63980573e-02, -4.76357900e-02,  8.03555269e-03,\n",
       "         1.71756800e-02, -2.88448837e-02,  4.37149256e-02, -1.86623689e-02,\n",
       "         2.42796801e-02,  1.95773551e-03,  7.27227936e-03,  6.69320822e-02,\n",
       "        -6.48769662e-02,  2.78404038e-02, -1.83672979e-02, -2.92773023e-02,\n",
       "        -1.81942042e-02,  4.23556892e-03,  3.85336727e-02, -3.40383761e-02,\n",
       "         2.68219765e-02, -1.63578987e-02,  2.56916531e-03, -3.07611283e-02,\n",
       "         3.57556716e-02,  9.54027846e-03,  2.64919382e-02,  5.11950925e-02,\n",
       "        -3.34491134e-02,  2.19015740e-02,  2.93436623e-03, -1.62582193e-02,\n",
       "         6.74641051e-04, -8.51502642e-03,  2.88350154e-02, -8.47680047e-02,\n",
       "        -4.15115021e-02,  1.19707674e-01, -4.87178713e-02,  7.53136724e-03,\n",
       "        -5.01665846e-02, -1.85451806e-02, -3.68262008e-02, -1.55517757e-02,\n",
       "        -2.97107249e-02,  9.92915710e-04,  5.05388193e-02, -4.29523364e-02,\n",
       "        -2.32805312e-02,  3.20299156e-02, -3.18012610e-02, -1.83809735e-02,\n",
       "        -1.89291462e-02, -4.09509465e-02, -3.40047218e-02, -9.96134058e-02,\n",
       "        -3.55561860e-02, -4.04128022e-02, -4.50617336e-02,  7.23582730e-02,\n",
       "        -1.25143640e-02,  4.77954932e-02,  5.67339547e-02, -1.00527341e-02,\n",
       "         1.34902308e-02,  2.59200633e-02,  6.73387572e-02,  6.43660361e-03,\n",
       "         1.23883067e-02, -1.92032475e-02, -2.87992321e-02, -3.27026546e-02,\n",
       "         1.15649533e-02, -2.35412270e-02,  6.26865178e-02,  2.67271511e-02,\n",
       "        -3.69218402e-02, -3.62002701e-02, -1.29175587e-02,  5.74038504e-03,\n",
       "         3.71893384e-02,  1.54084200e-02, -1.58194900e-02,  3.91851664e-02,\n",
       "         2.54670694e-03,  2.62733549e-02, -1.00667365e-02,  2.17556972e-02,\n",
       "        -3.86073627e-02, -5.04170321e-02, -4.79236841e-02,  6.78841323e-02,\n",
       "        -1.41769489e-02, -5.61675578e-02,  3.81185859e-02, -7.24912509e-02,\n",
       "        -2.45659966e-02,  3.24886013e-03, -3.45380302e-03, -1.67503748e-02,\n",
       "         1.27828969e-02,  1.71677545e-02,  2.36565247e-02,  9.43487957e-02,\n",
       "         4.42845188e-03, -2.38926783e-02,  1.24338246e-03,  2.61720363e-02,\n",
       "        -1.92451128e-03, -3.27551030e-02,  3.84874903e-02,  1.10410266e-02,\n",
       "         1.64317694e-02, -2.54522134e-02, -2.62701139e-02,  1.88749488e-02,\n",
       "         6.01074845e-02, -4.14118618e-02,  2.88087558e-02,  2.21520774e-02,\n",
       "        -6.25638813e-02, -1.75865944e-02, -4.66132397e-03,  2.03321613e-02,\n",
       "         8.89953077e-02,  6.73462171e-03, -5.70559092e-02, -1.54262986e-02,\n",
       "        -4.27061841e-02, -6.31707767e-03,  4.06382643e-02, -2.08228752e-02,\n",
       "         1.23508396e-02, -4.92451414e-02,  3.74059342e-02,  1.98138934e-02,\n",
       "         1.73211750e-02,  1.25189247e-02,  1.58958975e-02,  3.44202407e-02,\n",
       "         2.06022779e-03, -2.27816440e-02,  3.91141213e-02, -1.50891580e-02,\n",
       "         2.82007512e-02, -2.05639098e-02,  3.23717482e-02,  2.54114717e-02,\n",
       "        -5.55961905e-03,  6.67542070e-02, -4.35899422e-02, -3.02439332e-02,\n",
       "         1.38064716e-02,  4.62053195e-02,  1.73406340e-02,  4.80172820e-02,\n",
       "        -7.49637652e-03, -6.37933686e-02,  2.17441190e-03,  1.48110753e-02,\n",
       "         2.65085176e-02, -5.41339926e-02,  9.45320353e-03,  5.47394576e-03,\n",
       "         5.32723293e-02, -2.22679283e-02,  1.90740228e-02,  2.49079764e-02,\n",
       "        -1.53810950e-02,  5.38324378e-02,  9.11469199e-03, -5.22047356e-02,\n",
       "        -2.56421641e-02,  3.48772593e-02,  2.25119069e-02,  2.74150148e-02,\n",
       "         2.05354728e-02,  2.93200538e-02, -1.51664102e-02,  2.88243778e-02,\n",
       "         3.85946594e-02,  5.02680289e-03,  3.81097309e-02,  1.84765682e-02,\n",
       "         1.64019447e-02,  1.16203278e-02,  2.18171906e-02, -5.41566201e-02,\n",
       "         2.50826534e-02, -6.00952357e-02, -3.09177805e-02, -7.13045746e-02,\n",
       "        -7.69537268e-03, -4.94934618e-02, -6.95180818e-02, -4.04841341e-02,\n",
       "        -2.41784938e-02,  1.64461136e-02, -7.86525896e-04,  5.06165549e-02,\n",
       "         5.20631224e-02, -2.42694821e-02,  1.53768957e-02, -4.22427431e-02,\n",
       "         1.04187371e-03,  4.75595072e-02, -2.74405070e-03,  5.13291638e-03,\n",
       "         2.43977327e-02,  2.07354911e-02, -3.09179761e-02, -4.24440764e-02,\n",
       "        -2.58231424e-02, -1.22568365e-02,  3.34280320e-02,  2.79327836e-02,\n",
       "        -1.75710544e-02,  7.39873946e-03, -1.13544064e-02, -4.78621013e-02,\n",
       "         6.40647188e-02,  1.06481183e-03,  3.66425316e-04,  7.42186978e-02,\n",
       "         1.98641568e-02,  2.12538596e-02, -1.80600882e-02, -2.65915357e-02,\n",
       "        -5.91531396e-02, -3.79025377e-03, -4.38901223e-02, -2.89438237e-02,\n",
       "         6.84824539e-03, -2.77204177e-04,  1.09340493e-02, -5.01964949e-02,\n",
       "        -3.46182548e-02,  5.59873367e-03, -2.96822172e-02, -6.29666522e-02,\n",
       "         3.74335572e-02, -6.62331749e-03, -8.99591134e-04, -4.11284044e-02,\n",
       "         1.80794578e-02,  6.50274521e-03,  6.55135512e-03, -5.40625937e-02,\n",
       "        -1.79281819e-03,  2.60692090e-02,  3.50623168e-02, -2.42680479e-02,\n",
       "        -4.50993106e-02, -4.09372784e-02,  8.10219068e-03,  6.79503530e-02,\n",
       "        -8.18075426e-03, -2.00214479e-02,  3.33608389e-02,  2.29214579e-02],\n",
       "       dtype=float32)}"
      ]
     },
     "execution_count": 162,
     "metadata": {},
     "output_type": "execute_result"
    }
   ],
   "source": [
    "doc_idx['75a9286e']"
   ]
  },
  {
   "cell_type": "markdown",
   "id": "3c26035e-ea80-4817-93a9-46a6af4eaf91",
   "metadata": {},
   "source": [
    "## Cosine similarity metric"
   ]
  },
  {
   "cell_type": "code",
   "execution_count": 163,
   "id": "754db44d-5e73-4784-9369-707691fb9229",
   "metadata": {},
   "outputs": [
    {
     "data": {
      "text/plain": [
       "np.float32(0.65316844)"
      ]
     },
     "execution_count": 163,
     "metadata": {},
     "output_type": "execute_result"
    }
   ],
   "source": [
    "law_content = 'Những quyền và trách nhiệm nào của cá nhân liên quan đến hoạt động giáo dục được quy định trong Luật này?'\n",
    "\n",
    "rag_answer_llm = 'Học sinh chịu trách nhiệm về an toàn cho việc học tập, đào tạo, nghiên cứu và thúc đẩy truyền thống của các tổ chức giáo dục.'\n",
    "\n",
    "\n",
    "v_llm = model.encode(rag_answer_llm)\n",
    "v_orig = model.encode(law_content)\n",
    "\n",
    "v_llm.dot(v_orig)"
   ]
  },
  {
   "cell_type": "code",
   "execution_count": 164,
   "id": "f8a789ed",
   "metadata": {},
   "outputs": [
    {
     "data": {
      "text/plain": [
       "{'generated_question': 'Các loại hình cơ sở giáo dục mầm non được quy định như thế nào trong Luật Giáo Dục?',\n",
       " 'generated_answer': 'Cơ sở giáo dục mầm non bao gồm: 1. Nhà trẻ, nhóm trẻ độc lập nhận trẻ em từ 03 tháng tuổi đến 03 tuổi; 2. Trường mẫu giáo, lớp mẫu giáo độc lập nhận trẻ em từ 03 tuổi đến 06 tuổi; 3. Trường mầm non, lớp mầm non độc lập là cơ sở giáo dục kết hợp nhà trẻ và mẫu giáo, nhận trẻ em từ 03 tháng tuổi đến 06 tuổi.',\n",
       " 'doc_id': 'a0fcdc5b',\n",
       " 'law_title': 'Luật Giáo Dục'}"
      ]
     },
     "execution_count": 164,
     "metadata": {},
     "output_type": "execute_result"
    }
   ],
   "source": [
    "ground_truth[0]"
   ]
  },
  {
   "cell_type": "code",
   "execution_count": 165,
   "id": "61f7deed-9730-467d-afc7-f053b23fe8e6",
   "metadata": {},
   "outputs": [
    {
     "name": "stdout",
     "output_type": "stream",
     "text": [
      "101\n"
     ]
    }
   ],
   "source": [
    "print(len(ground_truth))"
   ]
  },
  {
   "cell_type": "markdown",
   "id": "6631801a",
   "metadata": {},
   "source": [
    "## Evaluating "
   ]
  },
  {
   "cell_type": "code",
   "execution_count": 55,
   "id": "8364349b",
   "metadata": {},
   "outputs": [
    {
     "data": {
      "application/vnd.jupyter.widget-view+json": {
       "model_id": "dfe12393d4a34faab920405f910e5fba",
       "version_major": 2,
       "version_minor": 0
      },
      "text/plain": [
       "  0%|          | 0/101 [00:00<?, ?it/s]"
      ]
     },
     "metadata": {},
     "output_type": "display_data"
    },
    {
     "name": "stdout",
     "output_type": "stream",
     "text": [
      "Translation error: Se uomini e donne vivono insieme come marito e moglie senza registrazione del matrimonio, hanno gli stessi diritti e obblighi della coppia legale? --> No translation was found using the current translator. Try another translator?\n"
     ]
    }
   ],
   "source": [
    "answers = {}\n",
    "for i, rec in enumerate(tqdm(ground_truth)):\n",
    "    if i in answers:\n",
    "        continue\n",
    "\n",
    "    rag_answer_llm = rag(rec,model_type=\"mamba\")\n",
    "    doc_id = rec['doc_id']\n",
    "    original_doc = doc_idx[doc_id]\n",
    "    law_content = original_doc['content']\n",
    "    \n",
    "\n",
    "    answers[i] = {\n",
    "        'law_content': law_content,\n",
    "        'generated_question': rec['generated_question'],\n",
    "        'rag_answer_llm': rag_answer_llm,\n",
    "        'generated_answer': rec['generated_answer'],\n",
    "\n",
    "    }"
   ]
  },
  {
   "cell_type": "code",
   "execution_count": 56,
   "id": "be991e23",
   "metadata": {},
   "outputs": [
    {
     "data": {
      "text/plain": [
       "101"
      ]
     },
     "execution_count": 56,
     "metadata": {},
     "output_type": "execute_result"
    }
   ],
   "source": [
    "len(answers)"
   ]
  },
  {
   "cell_type": "code",
   "execution_count": 57,
   "id": "ea50d3b0",
   "metadata": {},
   "outputs": [],
   "source": [
    "df_mamba = pd.DataFrame(answers.values())\n",
    "# df.to_csv(\"DeepMount00_mamba_790_hf_qa_1_top_search.csv\", index=False)\n",
    "df_mamba.to_csv(\"DeepMount00_mamba_790_hf_qa.csv\", index=False)"
   ]
  },
  {
   "cell_type": "code",
   "execution_count": 58,
   "id": "95d49b51",
   "metadata": {},
   "outputs": [
    {
     "data": {
      "text/html": [
       "<div>\n",
       "<style scoped>\n",
       "    .dataframe tbody tr th:only-of-type {\n",
       "        vertical-align: middle;\n",
       "    }\n",
       "\n",
       "    .dataframe tbody tr th {\n",
       "        vertical-align: top;\n",
       "    }\n",
       "\n",
       "    .dataframe thead th {\n",
       "        text-align: right;\n",
       "    }\n",
       "</style>\n",
       "<table border=\"1\" class=\"dataframe\">\n",
       "  <thead>\n",
       "    <tr style=\"text-align: right;\">\n",
       "      <th></th>\n",
       "      <th>law_content</th>\n",
       "      <th>generated_question</th>\n",
       "      <th>rag_answer_llm</th>\n",
       "      <th>generated_answer</th>\n",
       "    </tr>\n",
       "  </thead>\n",
       "  <tbody>\n",
       "    <tr>\n",
       "      <th>0</th>\n",
       "      <td>Cơ sở giáo dục mầm non bao gồm: 1. Nhà trẻ, nh...</td>\n",
       "      <td>Các loại hình cơ sở giáo dục mầm non được quy ...</td>\n",
       "      <td>Các loại của Viện giáo dục được quy định là: T...</td>\n",
       "      <td>Cơ sở giáo dục mầm non bao gồm: 1. Nhà trẻ, nh...</td>\n",
       "    </tr>\n",
       "    <tr>\n",
       "      <th>1</th>\n",
       "      <td>1. Việc ly hôn giữa công dân Việt Nam với ngườ...</td>\n",
       "      <td>Nếu tôi là công dân Việt Nam kết hôn với người...</td>\n",
       "      <td>Việc ly hôn giữa người Việt Nam và người nước ...</td>\n",
       "      <td>Việc ly hôn giữa công dân Việt Nam với người n...</td>\n",
       "    </tr>\n",
       "    <tr>\n",
       "      <th>2</th>\n",
       "      <td>1. Cô, dì, chú, cậu, bác ruột không sống chung...</td>\n",
       "      <td>Khi nào cô, dì, chú, cậu, bác ruột có nghĩa vụ...</td>\n",
       "      <td>Khi bạn là những đứa cháu nhỏ hoặc nhỏ, không ...</td>\n",
       "      <td>Cô, dì, chú, cậu, bác ruột không sống chung vớ...</td>\n",
       "    </tr>\n",
       "    <tr>\n",
       "      <th>3</th>\n",
       "      <td>1. Người tham gia giao thông phải chấp hành hi...</td>\n",
       "      <td>Tại nơi có cả biển báo hiệu cố định và báo hiệ...</td>\n",
       "      <td>Ở nơi có nhà điều hành giao thông, những người...</td>\n",
       "      <td>Tại nơi có biển báo hiệu cố định lại có báo hi...</td>\n",
       "    </tr>\n",
       "    <tr>\n",
       "      <th>4</th>\n",
       "      <td>1. Xe xin vượt phải có báo hiệu bằng đèn hoặc ...</td>\n",
       "      <td>Khi nào tôi được phép vượt xe bên phải thay vì...</td>\n",
       "      <td>Ở các khu vực đô thị và các khu vực đông dân c...</td>\n",
       "      <td>Bạn được phép vượt xe bên phải trong các trườn...</td>\n",
       "    </tr>\n",
       "    <tr>\n",
       "      <th>...</th>\n",
       "      <td>...</td>\n",
       "      <td>...</td>\n",
       "      <td>...</td>\n",
       "      <td>...</td>\n",
       "    </tr>\n",
       "    <tr>\n",
       "      <th>96</th>\n",
       "      <td>Luật này quy định chế độ hôn nhân và gia đình;...</td>\n",
       "      <td>Luật Hôn Nhân Và Gia Đình điều chỉnh những vấn...</td>\n",
       "      <td>Các vấn đề về hôn nhân và luật gia đình bao gồ...</td>\n",
       "      <td>Luật này quy định chế độ hôn nhân và gia đình;...</td>\n",
       "    </tr>\n",
       "    <tr>\n",
       "      <th>97</th>\n",
       "      <td>1. Việc mang thai hộ vì mục đích nhân đạo phải...</td>\n",
       "      <td>Điều kiện để một cặp vợ chồng được nhờ người m...</td>\n",
       "      <td>Làm mẹ thay thế cho mục đích nhân đạo được thự...</td>\n",
       "      <td>Vợ chồng có quyền nhờ người mang thai hộ khi c...</td>\n",
       "    </tr>\n",
       "    <tr>\n",
       "      <th>98</th>\n",
       "      <td>1. Cha mẹ là người đại diện theo pháp luật của...</td>\n",
       "      <td>Cha mẹ có quyền tự mình thực hiện giao dịch tà...</td>\n",
       "      <td>Vâng, cha mẹ có quyền thực hiện một giao dịch ...</td>\n",
       "      <td>Cha hoặc mẹ có quyền tự mình thực hiện giao dị...</td>\n",
       "    </tr>\n",
       "    <tr>\n",
       "      <th>99</th>\n",
       "      <td>Vợ, chồng có nghĩa vụ tôn trọng quyền tự do tí...</td>\n",
       "      <td>Vợ chồng có nghĩa vụ gì đối với quyền tự do tí...</td>\n",
       "      <td>Các nghĩa vụ cho tự do của niềm tin và tôn giá...</td>\n",
       "      <td>Vợ, chồng có nghĩa vụ tôn trọng quyền tự do tí...</td>\n",
       "    </tr>\n",
       "    <tr>\n",
       "      <th>100</th>\n",
       "      <td>1. Tài sản riêng của vợ, chồng gồm tài sản mà ...</td>\n",
       "      <td>Tài sản nào được coi là tài sản riêng của vợ h...</td>\n",
       "      <td>Tài sản chất lượng được coi là một tài sản riê...</td>\n",
       "      <td>Tài sản riêng của vợ, chồng gồm tài sản mà mỗi...</td>\n",
       "    </tr>\n",
       "  </tbody>\n",
       "</table>\n",
       "<p>101 rows × 4 columns</p>\n",
       "</div>"
      ],
      "text/plain": [
       "                                           law_content  \\\n",
       "0    Cơ sở giáo dục mầm non bao gồm: 1. Nhà trẻ, nh...   \n",
       "1    1. Việc ly hôn giữa công dân Việt Nam với ngườ...   \n",
       "2    1. Cô, dì, chú, cậu, bác ruột không sống chung...   \n",
       "3    1. Người tham gia giao thông phải chấp hành hi...   \n",
       "4    1. Xe xin vượt phải có báo hiệu bằng đèn hoặc ...   \n",
       "..                                                 ...   \n",
       "96   Luật này quy định chế độ hôn nhân và gia đình;...   \n",
       "97   1. Việc mang thai hộ vì mục đích nhân đạo phải...   \n",
       "98   1. Cha mẹ là người đại diện theo pháp luật của...   \n",
       "99   Vợ, chồng có nghĩa vụ tôn trọng quyền tự do tí...   \n",
       "100  1. Tài sản riêng của vợ, chồng gồm tài sản mà ...   \n",
       "\n",
       "                                    generated_question  \\\n",
       "0    Các loại hình cơ sở giáo dục mầm non được quy ...   \n",
       "1    Nếu tôi là công dân Việt Nam kết hôn với người...   \n",
       "2    Khi nào cô, dì, chú, cậu, bác ruột có nghĩa vụ...   \n",
       "3    Tại nơi có cả biển báo hiệu cố định và báo hiệ...   \n",
       "4    Khi nào tôi được phép vượt xe bên phải thay vì...   \n",
       "..                                                 ...   \n",
       "96   Luật Hôn Nhân Và Gia Đình điều chỉnh những vấn...   \n",
       "97   Điều kiện để một cặp vợ chồng được nhờ người m...   \n",
       "98   Cha mẹ có quyền tự mình thực hiện giao dịch tà...   \n",
       "99   Vợ chồng có nghĩa vụ gì đối với quyền tự do tí...   \n",
       "100  Tài sản nào được coi là tài sản riêng của vợ h...   \n",
       "\n",
       "                                        rag_answer_llm  \\\n",
       "0    Các loại của Viện giáo dục được quy định là: T...   \n",
       "1    Việc ly hôn giữa người Việt Nam và người nước ...   \n",
       "2    Khi bạn là những đứa cháu nhỏ hoặc nhỏ, không ...   \n",
       "3    Ở nơi có nhà điều hành giao thông, những người...   \n",
       "4    Ở các khu vực đô thị và các khu vực đông dân c...   \n",
       "..                                                 ...   \n",
       "96   Các vấn đề về hôn nhân và luật gia đình bao gồ...   \n",
       "97   Làm mẹ thay thế cho mục đích nhân đạo được thự...   \n",
       "98   Vâng, cha mẹ có quyền thực hiện một giao dịch ...   \n",
       "99   Các nghĩa vụ cho tự do của niềm tin và tôn giá...   \n",
       "100  Tài sản chất lượng được coi là một tài sản riê...   \n",
       "\n",
       "                                      generated_answer  \n",
       "0    Cơ sở giáo dục mầm non bao gồm: 1. Nhà trẻ, nh...  \n",
       "1    Việc ly hôn giữa công dân Việt Nam với người n...  \n",
       "2    Cô, dì, chú, cậu, bác ruột không sống chung vớ...  \n",
       "3    Tại nơi có biển báo hiệu cố định lại có báo hi...  \n",
       "4    Bạn được phép vượt xe bên phải trong các trườn...  \n",
       "..                                                 ...  \n",
       "96   Luật này quy định chế độ hôn nhân và gia đình;...  \n",
       "97   Vợ chồng có quyền nhờ người mang thai hộ khi c...  \n",
       "98   Cha hoặc mẹ có quyền tự mình thực hiện giao dị...  \n",
       "99   Vợ, chồng có nghĩa vụ tôn trọng quyền tự do tí...  \n",
       "100  Tài sản riêng của vợ, chồng gồm tài sản mà mỗi...  \n",
       "\n",
       "[101 rows x 4 columns]"
      ]
     },
     "execution_count": 58,
     "metadata": {},
     "output_type": "execute_result"
    }
   ],
   "source": [
    "df_mamba"
   ]
  },
  {
   "cell_type": "code",
   "execution_count": 59,
   "id": "2b63fb6d-f125-42b4-a634-52c3c17e582d",
   "metadata": {
    "scrolled": true
   },
   "outputs": [],
   "source": [
    "results_mamba_qa = [None] * len(ground_truth)\n",
    "\n",
    "for i, val in answers.items():\n",
    "    results_mamba_qa[i] = val.copy()\n",
    "    results_mamba_qa[i].update(ground_truth[i])"
   ]
  },
  {
   "cell_type": "code",
   "execution_count": 60,
   "id": "1d8748a7",
   "metadata": {},
   "outputs": [
    {
     "data": {
      "text/plain": [
       "[{'law_content': 'Cơ sở giáo dục mầm non bao gồm: 1. Nhà trẻ, nhóm trẻ độc lập nhận trẻ em từ 03 tháng tuổi đến 03 tuổi; 2. Trường mẫu giáo, lớp mẫu giáo độc lập nhận trẻ em từ 03 tuổi đến 06 tuổi; 3. Trường mầm non, lớp mầm non độc lập là cơ sở giáo dục kết hợp nhà trẻ và mẫu giáo, nhận trẻ em từ 03 tháng tuổi đến 06 tuổi. ',\n",
       "  'generated_question': 'Các loại hình cơ sở giáo dục mầm non được quy định như thế nào trong Luật Giáo Dục?',\n",
       "  'rag_answer_llm': 'Các loại của Viện giáo dục được quy định là: Tài liệu 1, Tài liệu 2, Tài liệu 3, Tài liệu 4, Tài liệu 5, Tài liệu 6, Tài liệu 7, Tài liệu 8, Tài liệu 9, Tài liệu 10, Tài liệu 11, Tài liệu 12, Tài liệu 13, Tài liệu 14, Tài liệu 15, Tài liệu 15, Tài liệu 16, Tài liệu 17, Tài liệu 18, Tài liệu 19, Tài liệu 20, Tài liệu 20, 21. Tài liệu 22, Tài liệu 23, Tài liệu 24, Tài liệu 25.',\n",
       "  'generated_answer': 'Cơ sở giáo dục mầm non bao gồm: 1. Nhà trẻ, nhóm trẻ độc lập nhận trẻ em từ 03 tháng tuổi đến 03 tuổi; 2. Trường mẫu giáo, lớp mẫu giáo độc lập nhận trẻ em từ 03 tuổi đến 06 tuổi; 3. Trường mầm non, lớp mầm non độc lập là cơ sở giáo dục kết hợp nhà trẻ và mẫu giáo, nhận trẻ em từ 03 tháng tuổi đến 06 tuổi.',\n",
       "  'doc_id': 'a0fcdc5b',\n",
       "  'law_title': 'Luật Giáo Dục'},\n",
       " {'law_content': '1. Việc ly hôn giữa công dân Việt Nam với người nước ngoài, giữa người nước ngoài với nhau thường trú ở Việt Nam được giải quyết tại cơ quan có thẩm quyền của Việt Nam theo quy định của Luật này. 2. Trong trường hợp bên là công dân Việt Nam không thường trú ở Việt Nam vào thời điểm yêu cầu ly hôn thì việc ly hôn được giải quyết theo pháp luật của nước nơi thường trú chung của vợ chồng; nếu họ không có nơi thường trú chung thì giải quyết theo pháp luật Việt Nam. 3. Việc giải quyết tài sản là bất động sản ở nước ngoài khi ly hôn tuân theo pháp luật của nước nơi có bất động sản đó. ',\n",
       "  'generated_question': 'Nếu tôi là công dân Việt Nam kết hôn với người nước ngoài và muốn ly hôn, tôi cần làm thủ tục ở đâu?',\n",
       "  'rag_answer_llm': 'Việc ly hôn giữa người Việt Nam và người nước ngoài, giữa những người nước ngoài với nhau, thường trú tại Việt Nam, được thành lập tại cơ quan có thẩm quyền của Việt Nam.',\n",
       "  'generated_answer': 'Việc ly hôn giữa công dân Việt Nam với người nước ngoài, giữa người nước ngoài với nhau thường trú ở Việt Nam được giải quyết tại cơ quan có thẩm quyền của Việt Nam theo quy định của Luật Hôn Nhân Và Gia Đình.',\n",
       "  'doc_id': 'a2a23d08',\n",
       "  'law_title': 'Luật Hôn Nhân Và Gia Đình'},\n",
       " {'law_content': '1. Cô, dì, chú, cậu, bác ruột không sống chung với cháu ruột có nghĩa vụ cấp dưỡng cho cháu trong trường hợp cháu chưa thành niên hoặc cháu đã thành niên không có khả năng lao động và không có tài sản để tự nuôi mình mà không có người khác cấp dưỡng theo quy định của Luật này. 2. Cháu đã thành niên không sống chung với cô, dì, chú, cậu, bác ruột có nghĩa vụ cấp dưỡng cho cô, dì, chú, cậu, bác ruột trong trường hợp người cần được cấp dưỡng không có khả năng lao động và không có tài sản để tự nuôi mình mà không có người khác cấp dưỡng theo quy định của Luật này. ',\n",
       "  'generated_question': 'Khi nào cô, dì, chú, cậu, bác ruột có nghĩa vụ cấp dưỡng cho cháu ruột?',\n",
       "  'rag_answer_llm': 'Khi bạn là những đứa cháu nhỏ hoặc nhỏ, không thể làm việc và không có tài sản để hỗ trợ bản thân mà không có người khác theo luật này.',\n",
       "  'generated_answer': 'Cô, dì, chú, cậu, bác ruột không sống chung với cháu ruột có nghĩa vụ cấp dưỡng cho cháu trong trường hợp cháu chưa thành niên hoặc cháu đã thành niên không có khả năng lao động và không có tài sản để tự nuôi mình mà không có người khác cấp dưỡng theo quy định của Luật Hôn Nhân Và Gia Đình.',\n",
       "  'doc_id': '36501b98',\n",
       "  'law_title': 'Luật Hôn Nhân Và Gia Đình'},\n",
       " {'law_content': '1. Người tham gia giao thông phải chấp hành hiệu lệnh và chỉ dẫn của hệ thống báo hiệu đường bộ. 2. Khi có người điều khiển giao thông thì người tham gia giao thông phải chấp hành hiệu lệnh của người điều khiển giao thông. 3. Tại nơi có biển báo hiệu cố định lại có báo hiệu tạm thời thì người tham gia giao thông phải chấp hành hiệu lệnh của báo hiệu tạm thời. 4. Tại nơi có vạch kẻ đường dành cho người đi bộ, người điều khiển phương tiện phải quan sát, giảm tốc độ và nhường đường cho người đi bộ, xe lăn của người khuyết tật qua đường. Những nơi không có vạch kẻ đường cho người đi bộ, người điều khiển phương tiện phải quan sát, nếu thấy người đi bộ, xe lăn của người khuyết tật đang qua đường thì phải giảm tốc độ, nhường đường cho người đi bộ, xe lăn của người khuyết tật qua đường bảo đảm an toàn. ',\n",
       "  'generated_question': 'Tại nơi có cả biển báo hiệu cố định và báo hiệu tạm thời, người tham gia giao thông phải tuân theo hiệu lệnh nào?',\n",
       "  'rag_answer_llm': 'Ở nơi có nhà điều hành giao thông, những người tham gia giao thông phải tuân theo tín hiệu của tín hiệu tạm thời.',\n",
       "  'generated_answer': 'Tại nơi có biển báo hiệu cố định lại có báo hiệu tạm thời thì người tham gia giao thông phải chấp hành hiệu lệnh của báo hiệu tạm thời.',\n",
       "  'doc_id': '4d5249af',\n",
       "  'law_title': 'Luật Giao Thông Đường Bộ'},\n",
       " {'law_content': '1. Xe xin vượt phải có báo hiệu bằng đèn hoặc còi; trong đô thị và khu đông dân cư từ 22 giờ đến 5 giờ chỉ được báo hiệu xin vượt bằng đèn. 2. Xe xin vượt chỉ được vượt khi không có chướng ngại vật phía trước, không có xe chạy ngược chiều trong đoạn đường định vượt, xe chạy trước không có tín hiệu vượt xe khác và đã tránh về bên phải. 3. Khi có xe xin vượt, nếu đủ điều kiện an toàn, người điều khiển phương tiện phía trước phải giảm tốc độ, đi sát về bên phải của phần đường xe chạy cho đến khi xe sau đã vượt qua, không được gây trở ngại đối với xe xin vượt. 4. Khi vượt, các xe phải vượt về bên trái, trừ các trường hợp sau đây thì được phép vượt bên phải: a) Khi xe phía trước có tín hiệu rẽ trái hoặc đang rẽ trái; b) Khi xe điện đang chạy giữa đường; c) Khi xe chuyên dùng đang làm việc trên đường mà không thể vượt bên trái được. 5. Không được vượt xe khi có một trong các trường hợp sau đây: a) Không bảo đảm các điều kiện quy định tại khoản 2 Điều này; b) Trên cầu hẹp có một làn xe; c) Đường vòng, đầu dốc và các vị trí có tầm nhìn hạn chế; d) Nơi đường giao nhau, đường bộ giao nhau cùng mức với đường sắt; đ) Khi điều kiện thời tiết hoặc đường không bảo đảm an toàn cho việc vượt; e) Xe được quyền ưu tiên đang phát tín hiệu ưu tiên đi làm nhiệm vụ. ',\n",
       "  'generated_question': 'Khi nào tôi được phép vượt xe bên phải thay vì bên trái?',\n",
       "  'rag_answer_llm': 'Ở các khu vực đô thị và các khu vực đông dân cư từ 22:00 đến 5 giờ, nó chỉ được báo cáo để đi qua đèn.',\n",
       "  'generated_answer': 'Bạn được phép vượt xe bên phải trong các trường hợp sau: 1) Khi xe phía trước có tín hiệu rẽ trái hoặc đang rẽ trái; 2) Khi xe điện đang chạy giữa đường; 3) Khi xe chuyên dùng đang làm việc trên đường mà không thể vượt bên trái được.',\n",
       "  'doc_id': '7d030583',\n",
       "  'law_title': 'Luật Giao Thông Đường Bộ'},\n",
       " {'law_content': '1. Sau khi chia tài sản chung trong thời kỳ hôn nhân, vợ chồng có quyền thỏa thuận chấm dứt hiệu lực của việc chia tài sản chung. Hình thức của thỏa thuận được thực hiện theo quy định tại khoản 2 Điều 38 của Luật này. 2. Kể từ ngày thỏa thuận của vợ chồng quy định tại khoản 1 Điều này có hiệu lực thì việc xác định tài sản chung, tài sản riêng của vợ chồng được thực hiện theo quy định tại Điều 33 và Điều 43 của Luật này. Phần tài sản mà vợ, chồng đã được chia vẫn thuộc sở hữu riêng của vợ, chồng, trừ trường hợp vợ chồng có thỏa thuận khác. 3. Quyền, nghĩa vụ về tài sản phát sinh trước thời điểm chấm dứt hiệu lực của việc chia tài sản chung vẫn có hiệu lực, trừ trường hợp các bên có thỏa thuận khác. 4. Trong trường hợp việc chia tài sản chung trong thời kỳ hôn nhân được thực hiện theo bản án, quyết định có hiệu lực của Tòa án thì thỏa thuận chấm dứt hiệu lực của việc chia tài sản chung phải được Tòa án công nhận. ',\n",
       "  'generated_question': 'Vợ chồng có thể chấm dứt hiệu lực của việc chia tài sản chung trong thời kỳ hôn nhân không?',\n",
       "  'rag_answer_llm': 'Có, cặp vợ chồng có quyền chấp nhận làm gián đoạn tính hợp lệ của bộ phận tài sản chung.',\n",
       "  'generated_answer': 'Sau khi chia tài sản chung trong thời kỳ hôn nhân, vợ chồng có quyền thỏa thuận chấm dứt hiệu lực của việc chia tài sản chung. Hình thức của thỏa thuận được thực hiện theo quy định tại khoản 2 Điều 38 của Luật Hôn Nhân Và Gia Đình.',\n",
       "  'doc_id': '2b6300b7',\n",
       "  'law_title': 'Luật Hôn Nhân Và Gia Đình'},\n",
       " {'law_content': 'Quyền, nghĩa vụ về nhân thân của vợ, chồng quy định tại Luật này, Bộ luật dân sự và các luật khác có liên quan được tôn trọng và bảo vệ. ',\n",
       "  'generated_question': 'Quyền và nghĩa vụ về nhân thân của vợ chồng được bảo vệ như thế nào theo Luật Hôn Nhân và Gia Đình?',\n",
       "  'rag_answer_llm': 'Danh tính và nghĩa vụ của vợ chồng cô được bảo vệ theo luật về hôn nhân và gia đình, như được nêu trong tài liệu 1.',\n",
       "  'generated_answer': 'Quyền, nghĩa vụ về nhân thân của vợ, chồng quy định tại Luật Hôn Nhân và Gia Đình, Bộ luật dân sự và các luật khác có liên quan được tôn trọng và bảo vệ.',\n",
       "  'doc_id': '64eda91d',\n",
       "  'law_title': 'Luật Hôn Nhân Và Gia Đình'},\n",
       " {'law_content': '1. Chương trình giáo dục mầm non phải bảo đảm các yêu cầu sau đây: a) Thể hiện mục tiêu giáo dục mầm non; b) Quy định yêu cầu cần đạt ở mỗi độ tuổi, các hoạt động giáo dục, phương pháp, hình thức tổ chức hoạt động giáo dục, môi trường giáo dục, đánh giá sự phát triển của trẻ em; c) Thống nhất trong cả nước và được tổ chức thực hiện linh hoạt, phù hợp với điều kiện cụ thể của địa phương và cơ sở giáo dục mầm non. 2. Hội đồng quốc gia thẩm định chương trình giáo dục mầm non do Bộ trưởng Bộ Giáo dục và Đào tạo thành lập để thẩm định chương trình giáo dục mầm non. Hội đồng gồm nhà giáo, cán bộ quản lý giáo dục, nhà khoa học có kinh nghiệm, uy tín về giáo dục và đại diện cơ quan, tổ chức có liên quan. Hội đồng phải có ít nhất một phần ba tổng số thành viên là nhà giáo đang giảng dạy ở giáo dục mầm non. Hội đồng và thành viên Hội đồng phải chịu trách nhiệm về nội dung và chất lượng thẩm định. 3. Bộ trưởng Bộ Giáo dục và Đào tạo ban hành chương trình giáo dục mầm non sau khi được thẩm định của Hội đồng quốc gia thẩm định chương trình giáo dục mầm non; quy định tiêu chuẩn, quy trình biên soạn, chỉnh sửa chương trình giáo dục mầm non; quy định tiêu chuẩn và việc lựa chọn đồ chơi, học liệu được sử dụng trong các cơ sở giáo dục mầm non; quy định nhiệm vụ, quyền hạn, phương thức hoạt động, tiêu chuẩn, số lượng và cơ cấu thành viên của Hội đồng quốc gia thẩm định chương trình giáo dục mầm non. ',\n",
       "  'generated_question': 'Chương trình giáo dục mầm non cần đáp ứng những yêu cầu gì theo Luật Giáo Dục?',\n",
       "  'rag_answer_llm': 'Các yêu cầu bao gồm các chương trình giáo dục để đảm bảo các mục tiêu của giáo dục mầm non và các quy định về các yêu cầu cần đạt được trong mọi lứa tuổi, các hoạt động giáo dục, phương pháp và hình thức của các hoạt động giáo dục, môi trường giáo dục, đánh giá sự phát triển của trẻ em.',\n",
       "  'generated_answer': 'Chương trình giáo dục mầm non phải bảo đảm các yêu cầu sau: thể hiện mục tiêu giáo dục mầm non; quy định yêu cầu cần đạt ở mỗi độ tuổi, các hoạt động giáo dục, phương pháp, hình thức tổ chức hoạt động giáo dục, môi trường giáo dục, đánh giá sự phát triển của trẻ em; thống nhất trong cả nước và được tổ chức thực hiện linh hoạt, phù hợp với điều kiện cụ thể của địa phương và cơ sở giáo dục mầm non.',\n",
       "  'doc_id': '7bbe02ec',\n",
       "  'law_title': 'Luật Giáo Dục'},\n",
       " {'law_content': '1. Người vận tải, người lái xe khách phải chấp hành các quy định sau đây: a) Đón, trả hành khách đúng nơi quy định; b) Không chở hành khách trên mui, trong khoang chở hành lý hoặc để hành khách đu, bám bên ngoài xe; c) Không chở hàng nguy hiểm, hàng có mùi hôi thối hoặc động vật, hàng hóa khác có ảnh hưởng đến sức khỏe của hành khách; d) Không chở hành khách, hành lý, hàng hóa vượt quá trọng tải, số người theo quy định; e) Không để hàng hóa trong khoang chở hành khách; có biện pháp giữ gìn vệ sinh trong xe. 2. Bộ trưởng Bộ Giao thông vận tải quy định về tổ chức và quản lý hoạt động vận tải hành khách bằng xe ô tô. ',\n",
       "  'generated_question': 'Người lái xe khách có được phép chở hành khách trên mui xe hoặc để hành khách đu, bám bên ngoài xe không?',\n",
       "  'rag_answer_llm': 'Có, tài xế hành khách được ủy quyền vận chuyển hành khách trên mui xe hoặc đu, tấn công ra khỏi xe.',\n",
       "  'generated_answer': 'Không, người lái xe khách không được phép chở hành khách trên mui, trong khoang chở hành lý hoặc để hành khách đu, bám bên ngoài xe.',\n",
       "  'doc_id': '55ac7fd3',\n",
       "  'law_title': 'Luật Giao Thông Đường Bộ'},\n",
       " {'law_content': '1. Nghĩa vụ cấp dưỡng được thực hiện giữa cha, mẹ và con; giữa anh, chị, em với nhau; giữa ông bà nội, ông bà ngoại và cháu; giữa cô, dì, chú, cậu, bác ruột và cháu ruột; giữa vợ và chồng theo quy định của Luật này. Nghĩa vụ cấp dưỡng không thể thay thế bằng nghĩa vụ khác và không thể chuyển giao cho người khác. 2. Trong trường hợp người có nghĩa vụ nuôi dưỡng trốn tránh nghĩa vụ thì theo yêu cầu của cá nhân, cơ quan, tổ chức được quy định tại Điều 119 của Luật này, Tòa án buộc người đó phải thực hiện nghĩa vụ cấp dưỡng theo quy định của Luật này. ',\n",
       "  'generated_question': 'Nghĩa vụ cấp dưỡng được thực hiện giữa những ai theo Luật Hôn Nhân và Gia Đình?',\n",
       "  'rag_answer_llm': 'Khi nào nó có thể thực hiện các nghĩa vụ này?',\n",
       "  'generated_answer': 'Nghĩa vụ cấp dưỡng được thực hiện giữa cha, mẹ và con; giữa anh, chị, em với nhau; giữa ông bà nội, ông bà ngoại và cháu; giữa cô, dì, chú, cậu, bác ruột và cháu ruột; giữa vợ và chồng theo quy định của Luật Hôn Nhân và Gia Đình.',\n",
       "  'doc_id': 'edaf687b',\n",
       "  'law_title': 'Luật Hôn Nhân Và Gia Đình'},\n",
       " {'law_content': 'Việc chia tài sản chung trong thời kỳ hôn nhân bị vô hiệu khi thuộc một trong các trường hợp sau đây: 1. Ảnh hưởng nghiêm trọng đến lợi ích của gia đình; quyền, lợi ích hợp pháp của con chưa thành niên, con đã thành niên mất năng lực hành vi dân sự hoặc không có khả năng lao động và không có tài sản để tự nuôi mình; 2. Nhằm trốn tránh thực hiện các nghĩa vụ sau đây: a) Nghĩa vụ nuôi dưỡng, cấp dưỡng; b) Nghĩa vụ bồi thường thiệt hại; c) Nghĩa vụ thanh toán khi bị Tòa án tuyên bố phá sản; d) Nghĩa vụ trả nợ cho cá nhân, tổ chức; đ) Nghĩa vụ nộp thuế hoặc nghĩa vụ tài chính khác đối với Nhà nước; e) Nghĩa vụ khác về tài sản theo quy định của Luật này, Bộ luật dân sự và quy định khác của pháp luật có liên quan. ',\n",
       "  'generated_question': 'Trong trường hợp nào việc chia tài sản chung trong thời kỳ hôn nhân bị coi là vô hiệu?',\n",
       "  'rag_answer_llm': 'Có, việc phân chia tài sản chung trong hôn nhân không hợp lệ trong mọi trường hợp, vì nó xác định tài sản chung chứ không phải phân chia quyền và quyền sở hữu.',\n",
       "  'generated_answer': 'Việc chia tài sản chung trong thời kỳ hôn nhân bị vô hiệu khi thuộc một trong các trường hợp sau: 1. Ảnh hưởng nghiêm trọng đến lợi ích của gia đình; quyền, lợi ích hợp pháp của con chưa thành niên, con đã thành niên mất năng lực hành vi dân sự hoặc không có khả năng lao động và không có tài sản để tự nuôi mình; 2. Nhằm trốn tránh thực hiện các nghĩa vụ như nuôi dưỡng, cấp dưỡng, bồi thường thiệt hại, thanh toán khi bị Tòa án tuyên bố phá sản, trả nợ cho cá nhân, tổ chức, nộp thuế hoặc nghĩa vụ tài chính khác đối với Nhà nước, và các nghĩa vụ khác về tài sản theo quy định của Luật Hôn Nhân Và Gia Đình, Bộ luật dân sự và quy định khác của pháp luật có liên quan.',\n",
       "  'doc_id': 'b74bd375',\n",
       "  'law_title': 'Luật Hôn Nhân Và Gia Đình'},\n",
       " {'law_content': 'Người điều khiển phương tiện khi dừng xe, đỗ xe trên đường phố phải tuân theo quy định tại Điều 18 của Luật này và các quy định sau đây: 1. Phải cho xe dừng, đỗ sát theo lề đường, hè phố phía bên phải theo chiều đi của mình; bánh xe gần nhất không được cách xa lề đường, hè phố quá 0,25 mét và không gây cản trở, nguy hiểm cho giao thông. Trường hợp đường phố hẹp, phải dừng xe, đỗ xe ở vị trí cách xe ô tô đang đỗ bên kia đường tối thiểu 20 mét. 2. Không được dừng xe, đỗ xe trên đường xe điện, trên miệng cống thoát nước, miệng hầm của đường điện thoại, điện cao thế, chỗ dành riêng cho xe chữa cháy lấy nước. Không được để phương tiện giao thông ở lòng đường, hè phố trái quy định. ',\n",
       "  'generated_question': 'Khi dừng xe, đỗ xe trên đường phố, tôi cần tuân thủ những quy định gì về vị trí đỗ xe?',\n",
       "  'rag_answer_llm': 'Các quy tắc của bãi đậu xe bao gồm dừng xe, đỗ xe gần vỉa hè, con đường bên phải bên phải theo hướng của riêng nó, và không đỗ xe ra khỏi vỉa hè, từ đường bên phải bên phải theo hướng của nó.',\n",
       "  'generated_answer': 'Khi dừng xe, đỗ xe trên đường phố, bạn phải cho xe dừng, đỗ sát theo lề đường, hè phố phía bên phải theo chiều đi của mình. Bánh xe gần nhất không được cách xa lề đường, hè phố quá 0,25 mét và không được gây cản trở, nguy hiểm cho giao thông. Trường hợp đường phố hẹp, bạn phải dừng xe, đỗ xe ở vị trí cách xe ô tô đang đỗ bên kia đường tối thiểu 20 mét.',\n",
       "  'doc_id': '0367a752',\n",
       "  'law_title': 'Luật Giao Thông Đường Bộ'},\n",
       " {'law_content': '1. Các thành viên gia đình có quyền, nghĩa vụ quan tâm, chăm sóc, giúp đỡ, tôn trọng nhau. Quyền, lợi ích hợp pháp về nhân thân và tài sản của các thành viên gia đình quy định tại Luật này, Bộ luật dân sự và các luật khác có liên quan được pháp luật bảo vệ. 2. Trong trường hợp sống chung thì các thành viên gia đình có nghĩa vụ tham gia công việc gia đình, lao động tạo thu nhập; đóng góp công sức, tiền hoặc tài sản khác để duy trì đời sống chung của gia đình phù hợp với khả năng thực tế của mình. 3. Nhà nước có chính sách tạo điều kiện để các thế hệ trong gia đình quan tâm, chăm sóc, giúp đỡ nhau nhằm giữ gìn và phát huy truyền thống tốt đẹp của gia đình Việt Nam; khuyến khích các cá nhân, tổ chức trong xã hội cùng tham gia vào việc giữ gìn, phát huy truyền thống tốt đẹp của gia đình Việt Nam. ',\n",
       "  'generated_question': 'Các thành viên trong gia đình có nghĩa vụ gì khi sống chung?',\n",
       "  'rag_answer_llm': 'Các thành viên gia đình có quyền và nghĩa vụ chăm sóc, chăm sóc, giúp đỡ và tôn trọng bản thân.',\n",
       "  'generated_answer': 'Khi sống chung, các thành viên gia đình có nghĩa vụ tham gia công việc gia đình, lao động tạo thu nhập; đóng góp công sức, tiền hoặc tài sản khác để duy trì đời sống chung của gia đình phù hợp với khả năng thực tế của mình.',\n",
       "  'doc_id': '2e530947',\n",
       "  'law_title': 'Luật Hôn Nhân Và Gia Đình'},\n",
       " {'law_content': '1. Vợ, chồng có quyền chiếm hữu, sử dụng, định đoạt tài sản riêng của mình; nhập hoặc không nhập tài sản riêng vào tài sản chung. 2. Trong trường hợp vợ hoặc chồng không thể tự mình quản lý tài sản riêng và cũng không ủy quyền cho người khác quản lý thì bên kia có quyền quản lý tài sản đó. Việc quản lý tài sản phải bảo đảm lợi ích của người có tài sản. 3. Nghĩa vụ riêng về tài sản của mỗi người được thanh toán từ tài sản riêng của người đó. 4. Trong trường hợp vợ, chồng có tài sản riêng mà hoa lợi, lợi tức từ tài sản riêng đó là nguồn sống duy nhất của gia đình thì việc định đoạt tài sản này phải có sự đồng ý của chồng, vợ. ',\n",
       "  'generated_question': 'Nếu một người không thể tự quản lý tài sản riêng của mình trong hôn nhân, ai có quyền quản lý tài sản đó?',\n",
       "  'rag_answer_llm': 'Ai có quyền quản lý tài sản đó là chồng hoặc vợ.',\n",
       "  'generated_answer': 'Trong trường hợp vợ hoặc chồng không thể tự mình quản lý tài sản riêng và cũng không ủy quyền cho người khác quản lý thì bên kia có quyền quản lý tài sản đó. Việc quản lý tài sản phải bảo đảm lợi ích của người có tài sản.',\n",
       "  'doc_id': '8ce1ad4f',\n",
       "  'law_title': 'Luật Hôn Nhân Và Gia Đình'},\n",
       " {'law_content': '1. Ông bà nội, ông bà ngoại không sống chung với cháu có nghĩa vụ cấp dưỡng cho cháu trong trường hợp cháu chưa thành niên hoặc cháu đã thành niên không có khả năng lao động, không có tài sản để tự nuôi mình và không có người cấp dưỡng theo quy định tại Điều 112 của Luật này. 2. Cháu đã thành niên không sống chung với ông bà nội, ông bà ngoại có nghĩa vụ cấp dưỡng cho ông bà nội, ông bà ngoại trong trường hợp ông bà không có khả năng lao động, không có tài sản để tự nuôi mình và không có người khác cấp dưỡng theo quy định của Luật này. ',\n",
       "  'generated_question': 'Ông bà nội, ông bà ngoại có nghĩa vụ cấp dưỡng cho cháu trong trường hợp nào?',\n",
       "  'rag_answer_llm': 'Nghĩa vụ hỗ trợ ông bà và ông bà là hỗ trợ các cháu của họ trong trường hợp các cháu nhỏ không thể làm việc, không có tài sản để hỗ trợ bản thân và không có sự hỗ trợ như quy định tại Điều 112 của Luật này.',\n",
       "  'generated_answer': 'Ông bà nội, ông bà ngoại không sống chung với cháu có nghĩa vụ cấp dưỡng cho cháu trong trường hợp cháu chưa thành niên hoặc cháu đã thành niên không có khả năng lao động, không có tài sản để tự nuôi mình và không có người cấp dưỡng theo quy định tại Điều 112 của Luật Hôn Nhân Và Gia Đình.',\n",
       "  'doc_id': '30000d3a',\n",
       "  'law_title': 'Luật Hôn Nhân Và Gia Đình'},\n",
       " {'law_content': 'Quyền, nghĩa vụ giữa nam, nữ chung sống với nhau như vợ chồng và con được giải quyết theo quy định của Luật này về quyền, nghĩa vụ của cha mẹ và con. ',\n",
       "  'generated_question': 'Nếu nam và nữ chung sống với nhau như vợ chồng mà không đăng ký kết hôn, quyền và nghĩa vụ của họ đối với con cái được quy định như thế nào?',\n",
       "  'rag_answer_llm': 'Quyền và nghĩa vụ của họ đối với trẻ em, tài sản, nghĩa vụ và hợp đồng của họ được giải quyết theo các quy định của Điều 15 và Điều 16 của luật này.',\n",
       "  'generated_answer': 'Quyền, nghĩa vụ giữa nam, nữ chung sống với nhau như vợ chồng và con được giải quyết theo quy định của Luật Hôn Nhân Và Gia Đình về quyền, nghĩa vụ của cha mẹ và con.',\n",
       "  'doc_id': 'ddb4c799',\n",
       "  'law_title': 'Luật Hôn Nhân Và Gia Đình'},\n",
       " {'law_content': '1. Khi muốn chuyển hướng, người điều khiển phương tiện phải giảm tốc độ và có tín hiệu báo hướng rẽ. 2. Trong khi chuyển hướng, người lái xe, người điều khiển xe máy chuyên dùng phải nhường quyền đi trước cho người đi bộ, người đi xe đạp đang đi trên phần đường dành riêng cho họ, nhường đường cho các xe đi ngược chiều và chỉ cho xe chuyển hướng khi quan sát thấy không gây trở ngại hoặc nguy hiểm cho người và phương tiện khác. 3. Trong khu dân cư, người lái xe, người điều khiển xe máy chuyên dùng chỉ được quay đầu xe ở nơi đường giao nhau và nơi có biển báo cho phép quay đầu xe. 4. Không được quay đầu xe ở phần đường dành cho người đi bộ qua đường, trên cầu, đầu cầu, gầm cầu vượt, ngầm, trong hầm đường bộ, đường cao tốc, tại nơi đường bộ giao nhau cùng mức với đường sắt, đường hẹp, đường dốc, đoạn đường cong tầm nhìn bị che khuất. ',\n",
       "  'generated_question': 'Khi muốn chuyển hướng xe, người điều khiển phương tiện cần tuân thủ những quy định gì?',\n",
       "  'rag_answer_llm': 'Bạn muốn người điều khiển xe nên cho bước ngoặt khi bạn muốn thay đổi phương tiện.',\n",
       "  'generated_answer': 'Khi muốn chuyển hướng, người điều khiển phương tiện phải giảm tốc độ và có tín hiệu báo hướng rẽ. Trong khi chuyển hướng, người lái xe phải nhường quyền đi trước cho người đi bộ, người đi xe đạp đang đi trên phần đường dành riêng cho họ, nhường đường cho các xe đi ngược chiều và chỉ cho xe chuyển hướng khi quan sát thấy không gây trở ngại hoặc nguy hiểm cho người và phương tiện khác.',\n",
       "  'doc_id': '4fde6f0d',\n",
       "  'law_title': 'Luật Giao Thông Đường Bộ'},\n",
       " {'law_content': '1. Cha, mẹ có nghĩa vụ và quyền ngang nhau, cùng nhau chăm sóc, nuôi dưỡng con chưa thành niên, con đã thành niên mất năng lực hành vi dân sự hoặc không có khả năng lao động và không có tài sản để tự nuôi mình. 2. Con có nghĩa vụ và quyền chăm sóc, nuôi dưỡng cha mẹ, đặc biệt khi cha mẹ mất năng lực hành vi dân sự, ốm đau, già yếu, khuyết tật; trường hợp gia đình có nhiều con thì các con phải cùng nhau chăm sóc, nuôi dưỡng cha mẹ. ',\n",
       "  'generated_question': 'Cha mẹ có nghĩa vụ và quyền chăm sóc, nuôi dưỡng con như thế nào theo Luật Hôn Nhân Và Gia Đình?',\n",
       "  'rag_answer_llm': 'Các nghĩa vụ và quyền của cha mẹ và con cái của họ bao gồm sự cần thiết phải chăm sóc và nuôi dưỡng con cái của họ, đặc biệt là khi cha mẹ có nhiều con, để đảm bảo việc duy trì và chăm sóc của họ.',\n",
       "  'generated_answer': 'Theo Luật Hôn Nhân Và Gia Đình, cha mẹ có nghĩa vụ và quyền ngang nhau, cùng nhau chăm sóc, nuôi dưỡng con chưa thành niên, con đã thành niên mất năng lực hành vi dân sự hoặc không có khả năng lao động và không có tài sản để tự nuôi mình.',\n",
       "  'doc_id': '3df2d127',\n",
       "  'law_title': 'Luật Hôn Nhân Và Gia Đình'},\n",
       " {'law_content': '1. Độ tuổi của người lái xe quy định như sau: a) Người đủ 16 tuổi trở lên được lái xe gắn máy có dung tích xi-lanh dưới 50 cm3; b) Người đủ 18 tuổi trở lên được lái xe mô tô hai bánh, xe mô tô ba bánh có dung tích xi-lanh từ 50 cm3 trở lên và các loại xe có kết cấu tương tự; xe ô tô tải, máy kéo có trọng tải dưới 3.500 kg; xe ô tô chở người đến 9 chỗ ngồi; c) Người đủ 21 tuổi trở lên được lái xe ô tô tải, máy kéo có trọng tải từ 3.500 kg trở lên; lái xe hạng B2 kéo rơ moóc (FB2); d) Người đủ 24 tuổi trở lên được lái xe ô tô chở người từ 10 đến 30 chỗ ngồi; lái xe hạng C kéo rơ moóc, sơ mi rơ moóc (FC); đ) Người đủ 27 tuổi trở lên được lái xe ô tô chở người trên 30 chỗ ngồi; lái xe hạng D kéo rơ moóc (FD); e) Tuổi tối đa của người lái xe ô tô chở người trên 30 chỗ ngồi là 50 tuổi đối với nữ và 55 tuổi đối với nam. 2. Người lái xe phải có sức khỏe phù hợp với loại xe, công dụng của xe. Bộ trưởng Bộ Y tế chủ trì, phối hợp với Bộ trưởng Bộ Giao thông vận tải quy định về tiêu chuẩn sức khỏe của người lái xe, việc khám sức khỏe định kỳ đối với người lái xe ô tô và quy định về cơ sở y tế khám sức khoẻ của người lái xe. ',\n",
       "  'generated_question': 'Tôi 18 tuổi, tôi có được lái xe ô tô chở người đến 9 chỗ ngồi không?',\n",
       "  'rag_answer_llm': 'Vâng, văn bản cụ thể có thể lái một chiếc xe vận chuyển tới 9 chỗ ngồi.',\n",
       "  'generated_answer': 'Theo quy định của Luật Giao Thông Đường Bộ, người đủ 18 tuổi trở lên được lái xe ô tô chở người đến 9 chỗ ngồi. Do đó, bạn đủ tuổi để lái loại xe này.',\n",
       "  'doc_id': '913967dc',\n",
       "  'law_title': 'Luật Giao Thông Đường Bộ'},\n",
       " {'law_content': '1. Thỏa thuận về mang thai hộ vì mục đích nhân đạo giữa vợ chồng nhờ mang thai hộ (sau đây gọi là bên nhờ mang thai hộ) và vợ chồng người mang thai hộ (sau đây gọi là bên mang thai hộ) phải có các nội dung cơ bản sau đây: a) Thông tin đầy đủ về bên nhờ mang thai hộ và bên mang thai hộ theo các điều kiện có liên quan quy định tại Điều 95 của Luật này; b) Cam kết thực hiện các quyền, nghĩa vụ quy định tại Điều 97 và Điều 98 của Luật này; c) Việc giải quyết hậu quả trong trường hợp có tai biến sản khoa; hỗ trợ để bảo đảm sức khỏe sinh sản cho người mang thai hộ trong thời gian mang thai và sinh con, việc nhận con của bên nhờ mang thai hộ, quyền và nghĩa vụ của hai bên đối với con trong trường hợp con chưa được giao cho bên nhờ mang thai hộ và các quyền, nghĩa vụ khác có liên quan; d) Trách nhiệm dân sự trong trường hợp một hoặc cả hai bên vi phạm cam kết theo thỏa thuận. 2. Thỏa thuận về việc mang thai hộ phải được lập thành văn bản có công chứng. Trong trường hợp vợ chồng bên nhờ mang thai hộ ủy quyền cho nhau hoặc vợ chồng bên mang thai hộ ủy quyền cho nhau về việc thỏa thuận thì việc ủy quyền phải lập thành văn bản có công chứng. Việc ủy quyền cho người thứ ba không có giá trị pháp lý. Trong trường hợp thỏa thuận về mang thai hộ giữa bên mang thai hộ và bên nhờ mang thai hộ được lập cùng với thỏa thuận giữa họ với cơ sở y tế thực hiện việc sinh con bằng kỹ thuật hỗ trợ sinh sản thì thỏa thuận này phải có xác nhận của người có thẩm quyền của cơ sở y tế này. ',\n",
       "  'generated_question': 'Thỏa thuận về mang thai hộ vì mục đích nhân đạo cần bao gồm những nội dung gì?',\n",
       "  'rag_answer_llm': 'Nội dung của thỏa thuận bao gồm thỏa thuận giữa vợ và chồng vì đã thay thế việc làm mẹ cho mục đích nhân đạo, đảm bảo sức khỏe sinh sản cho phụ nữ mang thai khi mang thai và sinh con, và nghĩa vụ của các bên trong việc thực hiện các quyền và nghĩa vụ được quy định trong Điều 97 và 98 của pháp luật.',\n",
       "  'generated_answer': 'Thỏa thuận về mang thai hộ vì mục đích nhân đạo cần bao gồm các nội dung cơ bản sau: thông tin đầy đủ về bên nhờ mang thai hộ và bên mang thai hộ, cam kết thực hiện các quyền và nghĩa vụ theo quy định, việc giải quyết hậu quả trong trường hợp có tai biến sản khoa, hỗ trợ bảo đảm sức khỏe sinh sản cho người mang thai hộ, việc nhận con của bên nhờ mang thai hộ, quyền và nghĩa vụ của hai bên đối với con, và trách nhiệm dân sự trong trường hợp vi phạm cam kết.',\n",
       "  'doc_id': 'bd9fb543',\n",
       "  'law_title': 'Luật Hôn Nhân Và Gia Đình'},\n",
       " {'law_content': '1. Trong việc kết hôn giữa công dân Việt Nam với người nước ngoài, mỗi bên phải tuân theo pháp luật của nước mình về điều kiện kết hôn; nếu việc kết hôn được tiến hành tại cơ quan nhà nước có thẩm quyền của Việt Nam thì người nước ngoài còn phải tuân theo các quy định của Luật này về điều kiện kết hôn. 2. Việc kết hôn giữa những người nước ngoài thường trú ở Việt Nam tại cơ quan có thẩm quyền của Việt Nam phải tuân theo các quy định của Luật này về điều kiện kết hôn. ',\n",
       "  'generated_question': 'Nếu một công dân Việt Nam kết hôn với người nước ngoài tại Việt Nam, họ cần tuân theo những quy định pháp luật nào?',\n",
       "  'rag_answer_llm': 'Một người nước ngoài vẫn chưa tôn trọng các quy định của luật này về các điều kiện kết hôn.',\n",
       "  'generated_answer': 'Trong việc kết hôn giữa công dân Việt Nam với người nước ngoài, mỗi bên phải tuân theo pháp luật của nước mình về điều kiện kết hôn. Nếu việc kết hôn được tiến hành tại cơ quan nhà nước có thẩm quyền của Việt Nam, người nước ngoài còn phải tuân theo các quy định của Luật Hôn Nhân Và Gia Đình Việt Nam về điều kiện kết hôn.',\n",
       "  'doc_id': '3d54654f',\n",
       "  'law_title': 'Luật Hôn Nhân Và Gia Đình'},\n",
       " {'law_content': 'Chính phủ quy định chi tiết các điều, khoản được giao trong Luật. Tòa án nhân dân tối cao chủ trì phối hợp với Viện kiểm sát nhân dân tối cao và Bộ Tư pháp hướng dẫn thi hành các điều, khoản được giao trong Luật. Luật này đã được Quốc hội nước Cộng hòa xã hội chủ nghĩa Việt Nam khóa XIII, kỳ họp thứ 7 thông qua ngày 19 tháng 6 năm 2014. CHỦ TỊCH QUỐC HỘI Nguyễn Sinh Hùng ',\n",
       "  'generated_question': 'Luật Hôn Nhân Và Gia Đình được thông qua vào thời gian nào và bởi cơ quan nào?',\n",
       "  'rag_answer_llm': 'Không có câu trả lời trong bối cảnh',\n",
       "  'generated_answer': 'Luật Hôn Nhân Và Gia Đình đã được Quốc hội nước Cộng hòa xã hội chủ nghĩa Việt Nam khóa XIII, kỳ họp thứ 7 thông qua ngày 19 tháng 6 năm 2014.',\n",
       "  'doc_id': 'eff71113',\n",
       "  'law_title': 'Luật Hôn Nhân Và Gia Đình'},\n",
       " {'law_content': '1. Nội dung giáo dục mầm non phải bảo đảm phù hợp với sự phát triển tâm sinh lý của trẻ em; hài hòa giữa bảo vệ, chăm sóc, nuôi dưỡng với giáo dục trẻ em; phát triển toàn diện về thể chất, tình cảm, kỹ năng xã hội, trí tuệ, thẩm mỹ; tôn trọng sự khác biệt; phù hợp với các độ tuổi và liên thông với giáo dục tiểu học. 2. Phương pháp giáo dục mầm non được quy định như sau: a) Giáo dục nhà trẻ phải tạo điều kiện thuận lợi cho trẻ em được tích cực hoạt động, vui chơi, tạo sự gắn bó giữa người lớn với trẻ em; kích thích sự phát triển các giác quan, cảm xúc và các chức năng tâm sinh lý; b) Giáo dục mẫu giáo phải tạo điều kiện cho trẻ em được vui chơi, trải nghiệm, tìm tòi, khám phá môi trường xung quanh bằng nhiều hình thức, đáp ứng nhu cầu, hứng thú của trẻ em. ',\n",
       "  'generated_question': 'Nội dung giáo dục mầm non cần đảm bảo những yêu cầu gì theo Luật Giáo Dục?',\n",
       "  'rag_answer_llm': 'Mục tiêu của giáo dục mầm non được đảm bảo trên toàn quốc và được quy định ở mọi lứa tuổi, các hoạt động giáo dục, phương pháp và hình thức của các hoạt động giáo dục, môi trường giáo dục, đánh giá sự phát triển của trẻ em.',\n",
       "  'generated_answer': 'Nội dung giáo dục mầm non phải bảo đảm phù hợp với sự phát triển tâm sinh lý của trẻ em; hài hòa giữa bảo vệ, chăm sóc, nuôi dưỡng với giáo dục trẻ em; phát triển toàn diện về thể chất, tình cảm, kỹ năng xã hội, trí tuệ, thẩm mỹ; tôn trọng sự khác biệt; phù hợp với các độ tuổi và liên thông với giáo dục tiểu học.',\n",
       "  'doc_id': '60d219bb',\n",
       "  'law_title': 'Luật Giáo Dục'},\n",
       " {'law_content': '1. Cha nuôi, mẹ nuôi, con nuôi có quyền và nghĩa vụ của cha, mẹ, con được quy định trong Luật này kể từ thời điểm quan hệ nuôi con nuôi được xác lập theo quy định của Luật nuôi con nuôi. Trong trường hợp chấm dứt việc nuôi con nuôi theo quyết định của Tòa án thì quyền, nghĩa vụ của cha nuôi, mẹ nuôi với con nuôi chấm dứt kể từ ngày quyết định của Tòa án có hiệu lực pháp luật. 2. Quyền, nghĩa vụ của cha đẻ, mẹ đẻ và con đã làm con nuôi của người khác được thực hiện theo quy định của Luật nuôi con nuôi. 3. Quyền, nghĩa vụ giữa cha đẻ, mẹ đẻ và con đẻ được khôi phục kể từ thời điểm quan hệ nuôi con nuôi chấm dứt. Trong trường hợp cha đẻ, mẹ đẻ không còn hoặc không có đủ điều kiện để nuôi con chưa thành niên, con đã thành niên mất năng lực hành vi dân sự hoặc không có khả năng lao động và không có tài sản để tự nuôi mình thì Tòa án giải quyết việc chấm dứt nuôi con nuôi và chỉ định người giám hộ cho con theo quy định của Bộ luật dân sự. ',\n",
       "  'generated_question': 'Khi nào quyền và nghĩa vụ của cha nuôi, mẹ nuôi với con nuôi chấm dứt?',\n",
       "  'rag_answer_llm': 'Các quyền và nghĩa vụ của người cha nuôi và người mẹ được nhận nuôi kết thúc khi mối quan hệ nhận con nuôi được thiết lập theo luật nhận con nuôi.',\n",
       "  'generated_answer': 'Quyền và nghĩa vụ của cha nuôi, mẹ nuôi với con nuôi chấm dứt kể từ ngày quyết định của Tòa án về việc chấm dứt nuôi con nuôi có hiệu lực pháp luật.',\n",
       "  'doc_id': '094280f6',\n",
       "  'law_title': 'Luật Hôn Nhân Và Gia Đình'},\n",
       " {'law_content': 'Khi đến gần đường giao nhau, người điều khiển phương tiện phải cho xe giảm tốc độ và nhường đường theo quy định sau đây: 1. Tại nơi đường giao nhau không có báo hiệu đi theo vòng xuyến, phải nhường đường cho xe đi đến từ bên phải; 2. Tại nơi đường giao nhau có báo hiệu đi theo vòng xuyến, phải nhường đường cho xe đi bên trái; 3. Tại nơi đường giao nhau giữa đường không ưu tiên và đường ưu tiên hoặc giữa đường nhánh và đường chính thì xe đi từ đường không ưu tiên hoặc đường nhánh phải nhường đường cho xe đi trên đường ưu tiên hoặc đường chính từ bất kỳ hướng nào tới. ',\n",
       "  'generated_question': 'Khi đến gần đường giao nhau không có báo hiệu đi theo vòng xuyến, tôi phải nhường đường như thế nào?',\n",
       "  'rag_answer_llm': 'Bối cảnh không chứa thông tin này.',\n",
       "  'generated_answer': 'Tại nơi đường giao nhau không có báo hiệu đi theo vòng xuyến, bạn phải nhường đường cho xe đi đến từ bên phải.',\n",
       "  'doc_id': '2c8ddb11',\n",
       "  'law_title': 'Luật Giao Thông Đường Bộ'},\n",
       " {'law_content': '1. Đào tạo nhân lực trình độ cao, nâng cao dân trí, bồi dưỡng nhân tài; nghiên cứu khoa học và công nghệ tạo ra tri thức, sản phẩm mới, phục vụ nhu cầu phát triển kinh tế - xã hội, bảo đảm quốc phòng, an ninh, hội nhập quốc tế. 2. Đào tạo người học phát triển toàn diện về đức, trí, thể, mỹ; có tri thức, kỹ năng, trách nhiệm nghề nghiệp; có khả năng nắm bắt tiến bộ khoa học và công nghệ tương xứng với trình độ đào tạo, khả năng tự học, sáng tạo, thích nghi với môi trường làm việc; có tinh thần lập nghiệp, có ý thức phục vụ Nhân dân. ',\n",
       "  'generated_question': 'Mục tiêu của giáo dục đại học theo Luật Giáo Dục là gì?',\n",
       "  'rag_answer_llm': 'Mục tiêu của giáo dục đại học theo luật giáo dục là sự hình thành nguồn nhân lực chất lượng cao, thúc đẩy tài năng, phát triển kiến \\u200b\\u200bthức, kỹ năng, khả năng nắm bắt tiến bộ khoa học và công nghệ, và tạo ra kiến \\u200b\\u200bthức và sản phẩm, đảm bảo nhu cầu phát triển kinh tế xã hội và đảm bảo quốc phòng, an toàn và hội nhập quốc tế.',\n",
       "  'generated_answer': 'Mục tiêu của giáo dục đại học bao gồm đào tạo nhân lực trình độ cao, nâng cao dân trí, bồi dưỡng nhân tài; nghiên cứu khoa học và công nghệ tạo ra tri thức, sản phẩm mới phục vụ phát triển kinh tế - xã hội, bảo đảm quốc phòng, an ninh, hội nhập quốc tế. Đồng thời, giáo dục đại học hướng đến đào tạo người học phát triển toàn diện về đức, trí, thể, mỹ; có tri thức, kỹ năng, trách nhiệm nghề nghiệp; có khả năng nắm bắt tiến bộ khoa học và công nghệ, tự học, sáng tạo, thích nghi với môi trường làm việc; có tinh thần lập nghiệp và ý thức phục vụ Nhân dân.',\n",
       "  'doc_id': '00640fda',\n",
       "  'law_title': 'Luật Giáo Dục'},\n",
       " {'law_content': '1. Người mang thai hộ, chồng của người mang thai hộ có quyền, nghĩa vụ như cha mẹ trong việc chăm sóc sức khỏe sinh sản và chăm sóc, nuôi dưỡng con cho đến thời điểm giao đứa trẻ cho bên nhờ mang thai hộ; phải giao đứa trẻ cho bên nhờ mang thai hộ. 2. Người mang thai hộ phải tuân thủ quy định về thăm khám, các quy trình sàng lọc để phát hiện, điều trị các bất thường, dị tật của bào thai theo quy định của Bộ Y tế. 3. Người mang thai hộ được hưởng chế độ thai sản theo quy định của pháp luật về lao động và bảo hiểm xã hội cho đến thời điểm giao đứa trẻ cho bên nhờ mang thai hộ. Trong trường hợp kể từ ngày sinh đến thời điểm giao đứa trẻ mà thời gian hưởng chế độ thai sản chưa đủ 60 ngày thì người mang thai hộ vẫn được hưởng chế độ thai sản cho đến khi đủ 60 ngày. Việc sinh con do mang thai hộ không tính vào số con theo chính sách dân số và kế hoạch hóa gia đình. 4. Bên mang thai hộ có quyền yêu cầu bên nhờ mang thai hộ thực hiện việc hỗ trợ, chăm sóc sức khỏe sinh sản. Trong trường hợp vì lý do tính mạng, sức khỏe của mình hoặc sự phát triển của thai nhi, người mang thai hộ có quyền quyết định về số lượng bào thai, việc tiếp tục hay không tiếp tục mang thai phù hợp với quy định của pháp luật về chăm sóc sức khỏe sinh sản và sinh con bằng kỹ thuật hỗ trợ sinh sản. 5. Trong trường hợp bên nhờ mang thai hộ từ chối nhận con thì bên mang thai hộ có quyền yêu cầu Tòa án buộc bên nhờ mang thai hộ nhận con. ',\n",
       "  'generated_question': 'Người mang thai hộ có được hưởng chế độ thai sản không và thời gian hưởng là bao lâu?',\n",
       "  'rag_answer_llm': 'Làm mẹ thay thế được hưởng các dịch vụ thai sản trong một khoảng thời gian thay đổi theo thời gian sinh con, nhưng phải tuân thủ các quy định về quy trình kiểm tra và sàng lọc để phát hiện và điều trị dị tật và khuyết tật thai nhi.',\n",
       "  'generated_answer': 'Người mang thai hộ được hưởng chế độ thai sản theo quy định của pháp luật về lao động và bảo hiểm xã hội cho đến thời điểm giao đứa trẻ cho bên nhờ mang thai hộ. Trong trường hợp kể từ ngày sinh đến thời điểm giao đứa trẻ mà thời gian hưởng chế độ thai sản chưa đủ 60 ngày thì người mang thai hộ vẫn được hưởng chế độ thai sản cho đến khi đủ 60 ngày.',\n",
       "  'doc_id': '36d186a0',\n",
       "  'law_title': 'Luật Hôn Nhân Và Gia Đình'},\n",
       " {'law_content': '1. Vợ chồng có quyền sửa đổi, bổ sung thỏa thuận về chế độ tài sản. 2. Hình thức sửa đổi, bổ sung nội dung của thỏa thuận về chế độ tài sản theo thỏa thuận được áp dụng theo quy định tại Điều 47 của Luật này. ',\n",
       "  'generated_question': 'Vợ chồng có thể thay đổi thỏa thuận về chế độ tài sản của mình không?',\n",
       "  'rag_answer_llm': 'Có, cặp vợ chồng có thể thay đổi thỏa thuận hoạt động của họ.',\n",
       "  'generated_answer': 'Vợ chồng có quyền sửa đổi, bổ sung thỏa thuận về chế độ tài sản. Hình thức sửa đổi, bổ sung nội dung của thỏa thuận về chế độ tài sản được áp dụng theo quy định tại Điều 47 của Luật Hôn Nhân Và Gia Đình.',\n",
       "  'doc_id': 'b33cdce7',\n",
       "  'law_title': 'Luật Hôn Nhân Và Gia Đình'},\n",
       " {'law_content': 'Vợ, chồng có các nghĩa vụ riêng về tài sản sau đây: 1. Nghĩa vụ của mỗi bên vợ, chồng có trước khi kết hôn; 2. Nghĩa vụ phát sinh từ việc chiếm hữu, sử dụng, định đoạt tài sản riêng, trừ trường hợp nghĩa vụ phát sinh trong việc bảo quản, duy trì, tu sửa tài sản riêng của vợ, chồng theo quy định tại khoản 4 Điều 44 hoặc quy định tại khoản 4 Điều 37 của Luật này; 3. Nghĩa vụ phát sinh từ giao dịch do một bên xác lập, thực hiện không vì nhu cầu của gia đình; 4. Nghĩa vụ phát sinh từ hành vi vi phạm pháp luật của vợ, chồng. ',\n",
       "  'generated_question': 'Vợ hoặc chồng có phải chịu trách nhiệm về các nghĩa vụ tài sản riêng của mình không?',\n",
       "  'rag_answer_llm': 'Có, cặp vợ chồng chịu trách nhiệm về nghĩa vụ sở hữu chung của họ.',\n",
       "  'generated_answer': 'Vợ, chồng có các nghĩa vụ riêng về tài sản sau đây: 1. Nghĩa vụ của mỗi bên vợ, chồng có trước khi kết hôn; 2. Nghĩa vụ phát sinh từ việc chiếm hữu, sử dụng, định đoạt tài sản riêng, trừ trường hợp nghĩa vụ phát sinh trong việc bảo quản, duy trì, tu sửa tài sản riêng của vợ, chồng theo quy định tại khoản 4 Điều 44 hoặc quy định tại khoản 4 Điều 37 của Luật này; 3. Nghĩa vụ phát sinh từ giao dịch do một bên xác lập, thực hiện không vì nhu cầu của gia đình; 4. Nghĩa vụ phát sinh từ hành vi vi phạm pháp luật của vợ, chồng.',\n",
       "  'doc_id': '6a1cc6bc',\n",
       "  'law_title': 'Luật Hôn Nhân Và Gia Đình'},\n",
       " {'law_content': 'Giáo dục đại học đào tạo trình độ đại học, trình độ thạc sĩ, trình độ tiến sĩ. ',\n",
       "  'generated_question': 'Giáo dục đại học tại Việt Nam đào tạo những trình độ nào?',\n",
       "  'rag_answer_llm': 'Giáo dục đại học cho trình độ đại học, bằng thạc sĩ, cấp độ tiến sĩ.',\n",
       "  'generated_answer': 'Giáo dục đại học đào tạo trình độ đại học, trình độ thạc sĩ, trình độ tiến sĩ.',\n",
       "  'doc_id': 'e66c485e',\n",
       "  'law_title': 'Luật Giáo Dục'},\n",
       " {'law_content': '1. Trường giáo dưỡng có nhiệm vụ giáo dục người chưa thành niên vi phạm pháp luật để đối tượng này rèn luyện, phát triển lành mạnh, trở thành người lương thiện, có khả năng tái hòa nhập vào đời sống xã hội. 2. Bộ trưởng Bộ Công an có trách nhiệm chủ trì, phối hợp với Bộ trưởng Bộ Giáo dục và Đào tạo, Bộ trưởng Bộ Lao động - Thương binh và Xã hội quy định chương trình giáo dục cho trường giáo dưỡng. ',\n",
       "  'generated_question': 'Trường giáo dưỡng có nhiệm vụ gì đối với người chưa thành niên vi phạm pháp luật?',\n",
       "  'rag_answer_llm': 'Nhiệm vụ phản ánh là trách nhiệm giáo dục trẻ vị thành niên vi phạm luật pháp để nó có thể đào tạo và phát triển lành mạnh, trở nên trung thực và tái hòa nhập với đời sống xã hội.',\n",
       "  'generated_answer': 'Trường giáo dưỡng có nhiệm vụ giáo dục người chưa thành niên vi phạm pháp luật để đối tượng này rèn luyện, phát triển lành mạnh, trở thành người lương thiện, có khả năng tái hòa nhập vào đời sống xã hội.',\n",
       "  'doc_id': '3308ef92',\n",
       "  'law_title': 'Luật Giáo Dục'},\n",
       " {'law_content': 'Người học là người đang học tập tại cơ sở giáo dục trong hệ thống giáo dục quốc dân bao gồm: 1. Trẻ em của cơ sở giáo dục mầm non; 2. Học sinh của cơ sở giáo dục phổ thông, lớp đào tạo nghề, trung tâm giáo dục nghề nghiệp - giáo dục thường xuyên, trung tâm giáo dục nghề nghiệp, trường trung cấp, trường dự bị đại học; 3. Sinh viên của trường cao đẳng, trường đại học; 4. Học viên của cơ sở đào tạo thạc sĩ; 5. Nghiên cứu sinh của cơ sở đào tạo tiến sĩ; 6. Học viên theo học chương trình giáo dục thường xuyên. ',\n",
       "  'generated_question': 'Những đối tượng nào được coi là người học theo Luật Giáo Dục?',\n",
       "  'rag_answer_llm': 'Các môn học được coi là luật giáo dục là: chất lượng, chất lượng trường học, chất lượng tranh và chính sách chất lượng.',\n",
       "  'generated_answer': 'Người học là người đang học tập tại cơ sở giáo dục trong hệ thống giáo dục quốc dân, bao gồm: trẻ em của cơ sở giáo dục mầm non; học sinh của cơ sở giáo dục phổ thông, lớp đào tạo nghề, trung tâm giáo dục nghề nghiệp - giáo dục thường xuyên, trung tâm giáo dục nghề nghiệp, trường trung cấp, trường dự bị đại học; sinh viên của trường cao đẳng, trường đại học; học viên của cơ sở đào tạo thạc sĩ; nghiên cứu sinh của cơ sở đào tạo tiến sĩ; và học viên theo học chương trình giáo dục thường xuyên.',\n",
       "  'doc_id': 'd8d5b7a5',\n",
       "  'law_title': 'Luật Giáo Dục'},\n",
       " {'law_content': '1. Tùy theo loại động vật sống, người kinh doanh vận tải yêu cầu người thuê vận tải bố trí người áp tải để chăm sóc trong quá trình vận tải. 2. Người thuê vận tải chịu trách nhiệm về việc xếp, dỡ động vật sống theo hướng dẫn của người kinh doanh vận tải; trường hợp người thuê vận tải không thực hiện được thì phải trả cước, phí xếp, dỡ cho người kinh doanh vận tải. 3. Việc vận chuyển động vật sống trên đường phải tuân theo quy định của pháp luật về vệ sinh, phòng dịch và bảo vệ môi trường. ',\n",
       "  'generated_question': 'Khi vận chuyển động vật sống trên đường, người thuê vận tải cần tuân thủ những quy định gì?',\n",
       "  'rag_answer_llm': 'Các quy định liên quan đến việc tuân thủ các quy định của luật vệ sinh, phòng ngừa dịch bệnh và bảo vệ môi trường.',\n",
       "  'generated_answer': 'Khi vận chuyển động vật sống trên đường, người thuê vận tải cần tuân thủ các quy định của pháp luật về vệ sinh, phòng dịch và bảo vệ môi trường. Ngoài ra, người thuê vận tải phải chịu trách nhiệm về việc xếp, dỡ động vật sống theo hướng dẫn của người kinh doanh vận tải. Nếu không thực hiện được, người thuê vận tải phải trả cước, phí xếp, dỡ cho người kinh doanh vận tải.',\n",
       "  'doc_id': 'e287b488',\n",
       "  'law_title': 'Luật Giao Thông Đường Bộ'},\n",
       " {'law_content': '1. Khi vợ hoặc chồng yêu cầu ly hôn mà hòa giải tại Tòa án không thành thì Tòa án giải quyết cho ly hôn nếu có căn cứ về việc vợ, chồng có hành vi bạo lực gia đình hoặc vi phạm nghiêm trọng quyền, nghĩa vụ của vợ, chồng làm cho hôn nhân lâm vào tình trạng trầm trọng, đời sống chung không thể kéo dài, mục đích của hôn nhân không đạt được. 2. Trong trường hợp vợ hoặc chồng của người bị Tòa án tuyên bố mất tích yêu cầu ly hôn thì Tòa án giải quyết cho ly hôn. 3. Trong trường hợp có yêu cầu ly hôn theo quy định tại khoản 2 Điều 51 của Luật này thì Tòa án giải quyết cho ly hôn nếu có căn cứ về việc chồng, vợ có hành vi bạo lực gia đình làm ảnh hưởng nghiêm trọng đến tính mạng, sức khỏe, tinh thần của người kia. ',\n",
       "  'generated_question': 'Trong trường hợp nào Tòa án sẽ giải quyết cho ly hôn theo yêu cầu của một bên?',\n",
       "  'rag_answer_llm': 'Vâng, tòa án sẽ giải quyết việc ly hôn nếu có cơ sở để vợ chồng cô ấy thực hiện bạo lực gia đình hoặc vi phạm các nghĩa vụ và lợi ích của người phối ngẫu.',\n",
       "  'generated_answer': 'Tòa án sẽ giải quyết cho ly hôn nếu có căn cứ về việc vợ hoặc chồng có hành vi bạo lực gia đình hoặc vi phạm nghiêm trọng quyền, nghĩa vụ của vợ, chồng làm cho hôn nhân lâm vào tình trạng trầm trọng, đời sống chung không thể kéo dài, mục đích của hôn nhân không đạt được. Ngoài ra, trong trường hợp vợ hoặc chồng của người bị Tòa án tuyên bố mất tích yêu cầu ly hôn, Tòa án cũng sẽ giải quyết cho ly hôn.',\n",
       "  'doc_id': '63501459',\n",
       "  'law_title': 'Luật Hôn Nhân Và Gia Đình'},\n",
       " {'law_content': '1. Tiếng Việt là ngôn ngữ chính thức dùng trong cơ sở giáo dục. Căn cứ vào mục tiêu giáo dục và yêu cầu cụ thể về nội dung giáo dục, Chính phủ quy định việc dạy và học bằng tiếng nước ngoài trong cơ sở giáo dục. 2. Nhà nước khuyến khích, tạo điều kiện để người dân tộc thiểu số được học tiếng nói, chữ viết của dân tộc mình theo quy định của Chính phủ; người khuyết tật nghe, nói được học bằng ngôn ngữ ký hiệu, người khuyết tật nhìn được học bằng chữ nổi Braille theo quy định của Luật Người khuyết tật. 3. Ngoại ngữ quy định trong chương trình giáo dục là ngôn ngữ được sử dụng phổ biến trong giao dịch quốc tế. Việc tổ chức dạy ngoại ngữ trong cơ sở giáo dục phải bảo đảm để người học được học liên tục, hiệu quả. ',\n",
       "  'generated_question': 'Ngôn ngữ chính thức được sử dụng trong các cơ sở giáo dục ở Việt Nam là gì?',\n",
       "  'rag_answer_llm': 'Ngôn ngữ chính thức được sử dụng trong các tổ chức giáo dục ở Việt Nam là người Việt Nam.',\n",
       "  'generated_answer': 'Tiếng Việt là ngôn ngữ chính thức dùng trong cơ sở giáo dục. Tuy nhiên, căn cứ vào mục tiêu giáo dục và yêu cầu cụ thể về nội dung giáo dục, Chính phủ có thể quy định việc dạy và học bằng tiếng nước ngoài trong cơ sở giáo dục.',\n",
       "  'doc_id': '1095c99a',\n",
       "  'law_title': 'Luật Giáo Dục'},\n",
       " {'law_content': '1. Người kinh doanh vận tải hành khách có các quyền sau đây: a) Thu cước, phí vận tải; b) Từ chối vận chuyển trước khi phương tiện rời bến xe, rời vị trí đón, trả hành khách theo hợp đồng vận chuyển những người đã có vé hoặc người trong danh sách hợp đồng có hành vi gây rối trật tự công cộng, gây cản trở công việc của người kinh doanh vận tải, ảnh hưởng đến sức khoẻ, tài sản của người khác, gian lận vé hoặc hành khách đang bị dịch bệnh nguy hiểm. 2. Người kinh doanh vận tải hành khách có các nghĩa vụ sau đây: a) Thực hiện đầy đủ các cam kết về chất lượng vận tải, hợp đồng vận tải; b) Mua bảo hiểm cho hành khách; phí bảo hiểm được tính vào giá vé hành khách; c) Giao vé, chứng từ thu cước, phí vận tải cho hành khách; d) Bồi thường thiệt hại do người làm công, người đại diện gây ra trong khi thực hiện công việc được người kinh doanh vận tải giao; đ) Chịu trách nhiệm về hậu quả mà người làm công, người đại diện gây ra do thực hiện yêu cầu của người kinh doanh vận tải trái quy định của Luật này. 3. Bộ trưởng Bộ Tài chính chủ trì, phối hợp với Bộ trưởng Bộ Giao thông vận tải quy định về vé và chứng từ thu cước, phí vận tải hành khách. ',\n",
       "  'generated_question': 'Người kinh doanh vận tải hành khách có quyền từ chối vận chuyển hành khách trong trường hợp nào?',\n",
       "  'rag_answer_llm': 'Quyền từ chối từ chối hành khách là từ chối chấp nhận hành khách.',\n",
       "  'generated_answer': 'Người kinh doanh vận tải hành khách có quyền từ chối vận chuyển trước khi phương tiện rời bến xe, rời vị trí đón, trả hành khách theo hợp đồng vận chuyển những người đã có vé hoặc người trong danh sách hợp đồng có hành vi gây rối trật tự công cộng, gây cản trở công việc của người kinh doanh vận tải, ảnh hưởng đến sức khoẻ, tài sản của người khác, gian lận vé hoặc hành khách đang bị dịch bệnh nguy hiểm.',\n",
       "  'doc_id': 'fc2fbd8d',\n",
       "  'law_title': 'Luật Giao Thông Đường Bộ'},\n",
       " {'law_content': 'Khi ly hôn nếu bên khó khăn, túng thiếu có yêu cầu cấp dưỡng mà có lý do chính đáng thì bên kia có nghĩa vụ cấp dưỡng theo khả năng của mình. ',\n",
       "  'generated_question': 'Khi ly hôn, nếu một bên gặp khó khăn tài chính, bên kia có nghĩa vụ cấp dưỡng không?',\n",
       "  'rag_answer_llm': 'Khi một phần gặp khó khăn về tài chính, phần khác của hỗ trợ có nghĩa vụ hỗ trợ khả năng của nó.',\n",
       "  'generated_answer': 'Khi ly hôn, nếu bên khó khăn, túng thiếu có yêu cầu cấp dưỡng và có lý do chính đáng, bên kia có nghĩa vụ cấp dưỡng theo khả năng của mình.',\n",
       "  'doc_id': '98aefc90',\n",
       "  'law_title': 'Luật Hôn Nhân Và Gia Đình'},\n",
       " {'law_content': '1. Quyền, nghĩa vụ tài sản của vợ chồng đối với người thứ ba vẫn có hiệu lực sau khi ly hôn, trừ trường hợp vợ chồng và người thứ ba có thỏa thuận khác. 2. Trong trường hợp có tranh chấp về quyền, nghĩa vụ tài sản thì áp dụng quy định tại các điều 27, 37 và 45 của Luật này và quy định của Bộ luật dân sự để giải quyết. ',\n",
       "  'generated_question': 'Khi ly hôn, quyền và nghĩa vụ tài sản của vợ chồng đối với người thứ ba có còn hiệu lực không?',\n",
       "  'rag_answer_llm': 'Các quyền và nghĩa vụ của quyền sở hữu của cặp vợ chồng đối với người thứ ba vẫn còn hiệu lực sau khi ly hôn, ngoại trừ vụ án của cặp vợ chồng và người thứ ba với các thỏa thuận khác.',\n",
       "  'generated_answer': 'Quyền, nghĩa vụ tài sản của vợ chồng đối với người thứ ba vẫn có hiệu lực sau khi ly hôn, trừ trường hợp vợ chồng và người thứ ba có thỏa thuận khác.',\n",
       "  'doc_id': 'c1d63340',\n",
       "  'law_title': 'Luật Hôn Nhân Và Gia Đình'},\n",
       " {'law_content': '1. Trên đoạn đường bộ giao nhau cùng mức với đường sắt, cầu đường bộ đi chung với đường sắt, phương tiện giao thông đường sắt được quyền ưu tiên đi trước. 2. Tại nơi đường bộ giao nhau cùng mức với đường sắt có đèn tín hiệu, rào chắn và chuông báo hiệu, khi đèn tín hiệu mầu đỏ đã bật sáng, có tiếng chuông báo hiệu, rào chắn đang dịch chuyển hoặc đã đóng, người tham gia giao thông đường bộ phải dừng lại phía phần đường của mình và cách rào chắn một khoảng cách an toàn; khi đèn tín hiệu đã tắt, rào chắn mở hết, tiếng chuông báo hiệu ngừng mới được đi qua. 3. Tại nơi đường bộ giao nhau cùng mức với đường sắt chỉ có đèn tín hiệu hoặc chuông báo hiệu, khi đèn tín hiệu mầu đỏ đã bật sáng hoặc có tiếng chuông báo hiệu, người tham gia giao thông đường bộ phải dừng ngay lại và giữ khoảng cách tối thiểu 5 mét tính từ ray gần nhất; khi đèn tín hiệu đã tắt hoặc tiếng chuông báo hiệu ngừng mới được đi qua. 4. Tại nơi đường bộ giao nhau cùng mức với đường sắt không có đèn tín hiệu, rào chắn và chuông báo hiệu, người tham gia giao thông đường bộ phải quan sát cả hai phía, khi thấy chắc chắn không có phương tiện đường sắt đang đi tới mới được đi qua, nếu thấy có phương tiện đường sắt đang đi tới thì phải dừng lại và giữ khoảng cách tối thiểu 5 mét tính từ ray gần nhất và chỉ khi phương tiện đường sắt đã đi qua mới được đi. 5. Khi phương tiện tham gia giao thông đường bộ bị hư hỏng tại nơi đường bộ giao nhau cùng mức với đường sắt hoặc trong phạm vi an toàn đường sắt thì người điều khiển phương tiện phải bằng mọi cách nhanh nhất đặt báo hiệu trên đường sắt cách tối thiểu 500 mét về hai phía để báo cho người điều khiển phương tiện đường sắt và tìm cách báo cho người quản lý đường sắt, nhà ga nơi gần nhất, đồng thời phải bằng mọi biện pháp nhanh chóng đưa phương tiện ra khỏi phạm vi an toàn đường sắt. 6. Những người có mặt tại nơi phương tiện tham gia giao thông đường bộ bị hư hỏng trên đoạn đường bộ giao nhau cùng mức với đường sắt có trách nhiệm giúp đỡ người điều khiển phương tiện đưa phương tiện ra khỏi phạm vi an toàn đường sắt. ',\n",
       "  'generated_question': 'Tôi cần làm gì khi gặp đèn tín hiệu màu đỏ và rào chắn đang đóng tại nơi đường bộ giao nhau cùng mức với đường sắt?',\n",
       "  'rag_answer_llm': 'Dừng lại ở phía của khoảng cách an toàn của rào cản và đóng hàng rào.',\n",
       "  'generated_answer': 'Khi đèn tín hiệu màu đỏ đã bật sáng, có tiếng chuông báo hiệu, rào chắn đang dịch chuyển hoặc đã đóng, người tham gia giao thông đường bộ phải dừng lại phía phần đường của mình và cách rào chắn một khoảng cách an toàn. Khi đèn tín hiệu đã tắt, rào chắn mở hết, tiếng chuông báo hiệu ngừng, bạn mới được đi qua.',\n",
       "  'doc_id': 'aafaff10',\n",
       "  'law_title': 'Luật Giao Thông Đường Bộ'},\n",
       " {'law_content': '1. Khi một bên vợ, chồng chết hoặc bị Tòa án tuyên bố là đã chết thì bên còn sống quản lý tài sản chung của vợ chồng, trừ trường hợp trong di chúc có chỉ định người khác quản lý di sản hoặc những người thừa kế thỏa thuận cử người khác quản lý di sản. 2. Khi có yêu cầu về chia di sản thì tài sản chung của vợ chồng được chia đôi, trừ trường hợp vợ chồng có thỏa thuận về chế độ tài sản. Phần tài sản của vợ, chồng chết hoặc bị Tòa án tuyên bố là đã chết được chia theo quy định của pháp luật về thừa kế. 3. Trong trường hợp việc chia di sản ảnh hưởng nghiêm trọng đến đời sống của vợ hoặc chồng còn sống, gia đình thì vợ, chồng còn sống có quyền yêu cầu Tòa án hạn chế phân chia di sản theo quy định của Bộ luật dân sự. 4. Tài sản của vợ chồng trong kinh doanh được giải quyết theo quy định tại các khoản 1, 2 và 3 Điều này, trừ trường hợp pháp luật về kinh doanh có quy định khác. ',\n",
       "  'generated_question': 'Khi một người vợ hoặc chồng chết, ai sẽ quản lý tài sản chung của vợ chồng?',\n",
       "  'rag_answer_llm': 'Những người quản lý tài sản chung của cặp vợ chồng là phía của chồng và vợ do tòa án bổ nhiệm.',\n",
       "  'generated_answer': 'Khi một bên vợ hoặc chồng chết hoặc bị Tòa án tuyên bố là đã chết, bên còn sống sẽ quản lý tài sản chung của vợ chồng, trừ trường hợp trong di chúc có chỉ định người khác quản lý di sản hoặc những người thừa kế thỏa thuận cử người khác quản lý di sản.',\n",
       "  'doc_id': '145c53b2',\n",
       "  'law_title': 'Luật Hôn Nhân Và Gia Đình'},\n",
       " {'law_content': '1. Tổ chức giao thông gồm các nội dung sau đây: a) Phân làn, phân luồng, phân tuyến và quy định thời gian đi lại cho người và phương tiện tham gia giao thông đường bộ; b) Quy định các đoạn đường cấm đi, đường đi một chiều, nơi cấm dừng, cấm đỗ, cấm quay đầu xe; lắp đặt báo hiệu đường bộ; c) Thông báo khi có sự thay đổi về việc phân luồng, phân tuyến, thời gian đi lại tạm thời hoặc lâu dài; thực hiện các biện pháp ứng cứu khi có sự cố xảy ra và các biện pháp khác về đi lại trên đường bộ để bảo đảm giao thông thông suốt, an toàn. 2. Trách nhiệm tổ chức giao thông quy định như sau: a) Bộ trưởng Bộ Giao thông vận tải chịu trách nhiệm tổ chức giao thông trên hệ thống quốc lộ; b) Chủ tịch Ủy ban nhân dân cấp tỉnh chịu trách nhiệm tổ chức giao thông trên các hệ thống đường bộ thuộc phạm vi quản lý. 3. Trách nhiệm điều khiển giao thông của cảnh sát giao thông như sau: a) Chỉ huy, điều khiển giao thông trên đường; hướng dẫn, bắt buộc người tham gia giao thông chấp hành quy tắc giao thông; b) Khi có tình huống gây ách tắc giao thông hoặc có yêu cầu cần thiết khác về bảo đảm an ninh, trật tự được tạm thời đình chỉ đi lại ở một số đoạn đường nhất định, phân lại luồng, phân lại tuyến và nơi tạm dừng xe, đỗ xe. ',\n",
       "  'generated_question': 'Ai là người chịu trách nhiệm tổ chức giao thông trên hệ thống quốc lộ theo Luật Giao Thông Đường Bộ?',\n",
       "  'rag_answer_llm': 'Bộ trưởng Bộ Giao thông vận tải chịu trách nhiệm tổ chức giao thông trên hệ thống đường cao tốc quốc gia.',\n",
       "  'generated_answer': 'Bộ trưởng Bộ Giao thông vận tải chịu trách nhiệm tổ chức giao thông trên hệ thống quốc lộ.',\n",
       "  'doc_id': 'ca9492b0',\n",
       "  'law_title': 'Luật Giao Thông Đường Bộ'},\n",
       " {'law_content': '1. Cha, mẹ bị hạn chế quyền đối với con chưa thành niên trong các trường hợp sau đây: a) Bị kết án về một trong các tội xâm phạm tính mạng, sức khỏe, nhân phẩm, danh dự của con với lỗi cố ý hoặc có hành vi vi phạm nghiêm trọng nghĩa vụ trông nom, chăm sóc, nuôi dưỡng, giáo dục con; b) Phá tán tài sản của con; c) Có lối sống đồi trụy; d) Xúi giục, ép buộc con làm những việc trái pháp luật, trái đạo đức xã hội. 2. Căn cứ vào từng trường hợp cụ thể, Tòa án có thể tự mình hoặc theo yêu cầu của cá nhân, cơ quan, tổ chức quy định tại Điều 86 của Luật này ra quyết định không cho cha, mẹ trông nom, chăm sóc, giáo dục con, quản lý tài sản riêng của con hoặc đại diện theo pháp luật cho con trong thời hạn từ 01 năm đến 05 năm. Tòa án có thể xem xét việc rút ngắn thời hạn này. ',\n",
       "  'generated_question': 'Trong trường hợp nào cha mẹ bị hạn chế quyền đối với con chưa thành niên theo Luật Hôn Nhân và Gia Đình?',\n",
       "  'rag_answer_llm': 'Có, nếu cha hoặc mẹ bị tòa án giới hạn cho trẻ em, người khác thực hiện quyền chăm sóc, cho ăn, đối xử, giáo dục trẻ em, quản lý tài sản của chúng và đại diện cho luật của trẻ em.',\n",
       "  'generated_answer': 'Cha, mẹ bị hạn chế quyền đối với con chưa thành niên trong các trường hợp sau: a) Bị kết án về một trong các tội xâm phạm tính mạng, sức khỏe, nhân phẩm, danh dự của con với lỗi cố ý hoặc có hành vi vi phạm nghiêm trọng nghĩa vụ trông nom, chăm sóc, nuôi dưỡng, giáo dục con; b) Phá tán tài sản của con; c) Có lối sống đồi trụy; d) Xúi giục, ép buộc con làm những việc trái pháp luật, trái đạo đức xã hội.',\n",
       "  'doc_id': 'f85a0fdc',\n",
       "  'law_title': 'Luật Hôn Nhân Và Gia Đình'},\n",
       " {'law_content': '1. Nghĩa vụ cấp dưỡng tuân theo pháp luật của nước nơi người yêu cầu cấp dưỡng cư trú. Trường hợp người yêu cầu cấp dưỡng không có nơi cư trú tại Việt Nam thì áp dụng pháp luật của nước nơi người yêu cầu cấp dưỡng là công dân. 2. Cơ quan có thẩm quyền giải quyết đơn yêu cầu cấp dưỡng của người quy định tại khoản 1 Điều này là cơ quan của nước nơi người yêu cầu cấp dưỡng cư trú. ',\n",
       "  'generated_question': 'Nếu tôi muốn yêu cầu cấp dưỡng từ người thân đang sống ở nước ngoài, luật nào sẽ được áp dụng?',\n",
       "  'rag_answer_llm': 'Luật của đất nước nơi cần cư trú.',\n",
       "  'generated_answer': 'Nghĩa vụ cấp dưỡng tuân theo pháp luật của nước nơi người yêu cầu cấp dưỡng cư trú. Trường hợp người yêu cầu cấp dưỡng không có nơi cư trú tại Việt Nam thì áp dụng pháp luật của nước nơi người yêu cầu cấp dưỡng là công dân.',\n",
       "  'doc_id': 'fddfb9a0',\n",
       "  'law_title': 'Luật Hôn Nhân Và Gia Đình'},\n",
       " {'law_content': '1. Trong trường hợp vợ chồng sống chung với gia đình mà ly hôn, nếu tài sản của vợ chồng trong khối tài sản chung của gia đình không xác định được thì vợ hoặc chồng được chia một phần trong khối tài sản chung của gia đình căn cứ vào công sức đóng góp của vợ chồng vào việc tạo lập, duy trì, phát triển khối tài sản chung cũng như vào đời sống chung của gia đình. Việc chia một phần trong khối tài sản chung do vợ chồng thỏa thuận với gia đình; nếu không thỏa thuận được thì yêu cầu Tòa án giải quyết. 2. Trong trường hợp vợ chồng sống chung với gia đình mà tài sản của vợ chồng trong khối tài sản chung của gia đình có thể xác định được theo phần thì khi ly hôn, phần tài sản của vợ chồng được trích ra từ khối tài sản chung đó để chia theo quy định tại Điều 59 của Luật này. ',\n",
       "  'generated_question': 'Nếu vợ chồng sống chung với gia đình và ly hôn, nhưng không xác định được tài sản riêng của họ trong khối tài sản chung, thì việc chia tài sản sẽ được giải quyết như thế nào?',\n",
       "  'rag_answer_llm': 'Nếu quyền sở hữu của cặp vợ chồng trong tài sản chung không thể được xác định, vợ chồng được chia một phần vào sự phong tỏa chung của gia đình của gia đình trên cơ sở những nỗ lực đóng góp của cặp vợ chồng đối với việc tạo ra, bảo trì và phát triển khối tài sản chung và cuộc sống chung của gia đình.',\n",
       "  'generated_answer': 'Trong trường hợp vợ chồng sống chung với gia đình mà ly hôn, nếu tài sản của vợ chồng trong khối tài sản chung của gia đình không xác định được, vợ hoặc chồng được chia một phần trong khối tài sản chung của gia đình căn cứ vào công sức đóng góp của họ vào việc tạo lập, duy trì, phát triển khối tài sản chung cũng như vào đời sống chung của gia đình. Việc chia tài sản do vợ chồng thỏa thuận với gia đình; nếu không thỏa thuận được thì yêu cầu Tòa án giải quyết.',\n",
       "  'doc_id': '2067f1b4',\n",
       "  'law_title': 'Luật Hôn Nhân Và Gia Đình'},\n",
       " {'law_content': '1. Vợ, chồng có quyền, nghĩa vụ thực hiện giao dịch nhằm đáp ứng nhu cầu thiết yếu của gia đình. 2. Trong trường hợp vợ chồng không có tài sản chung hoặc tài sản chung không đủ để đáp ứng nhu cầu thiết yếu của gia đình thì vợ, chồng có nghĩa vụ đóng góp tài sản riêng theo khả năng kinh tế của mỗi bên. ',\n",
       "  'generated_question': 'Vợ chồng có nghĩa vụ gì khi tài sản chung không đủ để đáp ứng nhu cầu thiết yếu của gia đình?',\n",
       "  'rag_answer_llm': 'Vợ chồng có nghĩa vụ đóng góp với tài sản của riêng họ dựa trên năng lực kinh tế của từng bộ phận.',\n",
       "  'generated_answer': 'Trong trường hợp vợ chồng không có tài sản chung hoặc tài sản chung không đủ để đáp ứng nhu cầu thiết yếu của gia đình, vợ chồng có nghĩa vụ đóng góp tài sản riêng theo khả năng kinh tế của mỗi bên.',\n",
       "  'doc_id': 'b4d84fed',\n",
       "  'law_title': 'Luật Hôn Nhân Và Gia Đình'},\n",
       " {'law_content': '1. Thực hiện xóa mù chữ cho người trong độ tuổi theo quy định của pháp luật. 2. Đào tạo, bồi dưỡng nâng cao năng lực làm việc; cập nhật, bổ sung kiến thức, kỹ năng cần thiết trong cuộc sống cho mọi người; tạo cơ hội cho người có nhu cầu học tập nâng cao trình độ học vấn. ',\n",
       "  'generated_question': 'Giáo dục thường xuyên có nhiệm vụ gì đối với người dân?',\n",
       "  'rag_answer_llm': 'Thực hiện mù chữ ở tuổi già theo quy định của pháp luật.',\n",
       "  'generated_answer': 'Giáo dục thường xuyên có nhiệm vụ thực hiện xóa mù chữ cho người trong độ tuổi theo quy định của pháp luật, đào tạo, bồi dưỡng nâng cao năng lực làm việc, cập nhật, bổ sung kiến thức, kỹ năng cần thiết trong cuộc sống cho mọi người, và tạo cơ hội cho người có nhu cầu học tập nâng cao trình độ học vấn.',\n",
       "  'doc_id': 'c8eab58e',\n",
       "  'law_title': 'Luật Giáo Dục'},\n",
       " {'law_content': '1. Kinh doanh vận tải hành khách bằng xe ô tô bao gồm: a) Kinh doanh vận tải hành khách theo tuyến cố định có xác định bến đi, bến đến với lịch trình, hành trình nhất định; b) Kinh doanh vận tải hành khách bằng xe buýt theo tuyến cố định có các điểm dừng đón, trả khách và xe chạy theo biểu đồ vận hành với cự ly, phạm vi hoạt động nhất định; c) Kinh doanh vận tải hành khách bằng xe taxi có lịch trình và hành trình theo yêu cầu của hành khách; cước tính theo đồng hồ tính tiền; d) Kinh doanh vận tải hành khách theo hợp đồng không theo tuyến cố định được thực hiện theo hợp đồng vận tải; đ) Kinh doanh vận tải khách du lịch theo tuyến, chương trình và địa điểm du lịch. 2. Kinh doanh vận tải hàng hóa bằng xe ô tô bao gồm: a) Kinh doanh vận tải hàng hóa thông thường; b) Kinh doanh vận tải hàng hóa bằng xe taxi tải; c) Kinh doanh vận tải hàng hóa siêu trường, siêu trọng; d) Kinh doanh vận tải hàng nguy hiểm. 3. Chính phủ quy định cụ thể về kinh doanh vận tải bằng xe ô tô. ',\n",
       "  'generated_question': 'Kinh doanh vận tải hành khách bằng xe ô tô bao gồm những loại hình nào?',\n",
       "  'rag_answer_llm': 'Các loại hoạt động vận chuyển ô tô trong ô tô bao gồm: các vấn đề vận chuyển xe hơi cho ô tô, vận chuyển hành khách cho xe hơi, vận chuyển ô tô cho xe hơi, đàm phán vận chuyển hành khách cho các tuyến đường cố định, du lịch, giao dịch ô tô, vận chuyển du lịch cho các tuyến đường cố định, hàng hóa xe hơi, vận chuyển siêu chiều và siêu thu nhập.',\n",
       "  'generated_answer': 'Kinh doanh vận tải hành khách bằng xe ô tô bao gồm: kinh doanh vận tải hành khách theo tuyến cố định, kinh doanh vận tải hành khách bằng xe buýt theo tuyến cố định, kinh doanh vận tải hành khách bằng xe taxi, kinh doanh vận tải hành khách theo hợp đồng không theo tuyến cố định, và kinh doanh vận tải khách du lịch theo tuyến, chương trình và địa điểm du lịch.',\n",
       "  'doc_id': 'e3ef6bec',\n",
       "  'law_title': 'Luật Giao Thông Đường Bộ'},\n",
       " {'law_content': '1. Nhà đầu tư thực hiện hoạt động đầu tư trong lĩnh vực giáo dục bao gồm: a) Nhà đầu tư trong nước là cá nhân có quốc tịch Việt Nam, tổ chức được thành lập theo pháp luật Việt Nam; b) Nhà đầu tư nước ngoài là cá nhân có quốc tịch nước ngoài, tổ chức thành lập theo pháp luật nước ngoài. 2. Quyền và trách nhiệm của nhà đầu tư được quy định như sau: a) Thông qua kế hoạch phát triển nhà trường theo quy định của pháp luật do hội đồng trường đề xuất; b) Quyết định tổng vốn góp của nhà đầu tư, dự án đầu tư phát triển trường, việc huy động vốn đầu tư (nếu có); phương án sử dụng phần chênh lệch thu, chi hằng năm hoặc phương án xử lý lỗ của nhà trường; thông qua báo cáo tài chính hằng năm; c) Bầu hoặc cử, miễn nhiệm, bãi nhiệm thành viên của hội đồng trường; d) Tổ chức giám sát và đánh giá hoạt động của hội đồng trường; đ) Quyết định ban hành, sửa đổi, bổ sung quy chế tài chính; thông qua nội dung liên quan đến tài chính, tài sản trong quy chế tổ chức và hoạt động của nhà trường; e) Góp vốn đầy đủ, đúng hạn, giám sát việc góp vốn vào nhà trường theo đề án thành lập; g) Xem xét, xử lý vi phạm gây thiệt hại của hội đồng trường theo quy định của pháp luật, quy chế tổ chức và hoạt động của nhà trường; h) Quyết định tổ chức lại, giải thể nhà trường theo quy định của pháp luật; i) Công khai danh sách tổ chức và cá nhân góp vốn đầu tư trên trang thông tin điện tử của nhà trường; k) Nhà đầu tư thành lập trường tư thục hoạt động không vì lợi nhuận được vinh danh về công lao góp vốn đầu tư thành lập, xây dựng và phát triển trường. 3. Nhà đầu tư thành lập cơ sở giáo dục tư thục được lựa chọn một trong các phương thức sau đây: a) Đầu tư thành lập tổ chức kinh tế theo quy định của Luật Đầu tư, Luật Doanh nghiệp để tổ chức kinh tế thành lập cơ sở giáo dục tư thục theo quy định của Luật này; b) Trực tiếp đầu tư thành lập cơ sở giáo dục tư thục theo quy định của Luật này. ',\n",
       "  'generated_question': 'Nhà đầu tư trong lĩnh vực giáo dục bao gồm những đối tượng nào?',\n",
       "  'rag_answer_llm': 'Đầu tư vào giáo dục, đầu tư phát triển, hoạt động đầu tư với ưu tiên tiêu cực, hỗ trợ và hỗ trợ của các nhà đầu tư, bảo vệ quyền và lợi ích hợp pháp của các tổ chức quốc gia, công viên công nghiệp, đào tạo phổ quát và phát triển, đảo, các lĩnh vực có điều kiện kinh tế xã hội và công viên công nghiệp, khó khăn với ưu tiên trong tài nguyên đầu tư.',\n",
       "  'generated_answer': 'Nhà đầu tư trong lĩnh vực giáo dục bao gồm: a) Nhà đầu tư trong nước là cá nhân có quốc tịch Việt Nam, tổ chức được thành lập theo pháp luật Việt Nam; b) Nhà đầu tư nước ngoài là cá nhân có quốc tịch nước ngoài, tổ chức thành lập theo pháp luật nước ngoài.',\n",
       "  'doc_id': '95354c8a',\n",
       "  'law_title': 'Luật Giáo Dục'},\n",
       " {'law_content': '1. Trẻ em tại cơ sở giáo dục mầm non có các quyền sau đây: a) Được chăm sóc, nuôi dưỡng, giáo dục theo chương trình giáo dục mầm non do Bộ trưởng Bộ Giáo dục và Đào tạo ban hành; được chăm sóc sức khỏe và bảo vệ theo quy định của Luật Trẻ em và quy định khác của pháp luật có liên quan; b) Được miễn, giảm giá vé đối với các dịch vụ vui chơi, giải trí công cộng. 2. Chính phủ quy định chính sách đối với trẻ em tại cơ sở giáo dục mầm non. ',\n",
       "  'generated_question': 'Trẻ em tại cơ sở giáo dục mầm non có những quyền gì theo Luật Giáo Dục?',\n",
       "  'rag_answer_llm': 'Quyền bao gồm chăm sóc sức khỏe và bảo vệ, miễn trừ và giảm giá cho các dịch vụ giải trí và giải trí công cộng.',\n",
       "  'generated_answer': 'Trẻ em tại cơ sở giáo dục mầm non có các quyền sau: được chăm sóc, nuôi dưỡng, giáo dục theo chương trình giáo dục mầm non do Bộ trưởng Bộ Giáo dục và Đào tạo ban hành; được chăm sóc sức khỏe và bảo vệ theo quy định của Luật Trẻ em và các quy định khác của pháp luật có liên quan; được miễn, giảm giá vé đối với các dịch vụ vui chơi, giải trí công cộng.',\n",
       "  'doc_id': '8aed8c41',\n",
       "  'law_title': 'Luật Giáo Dục'},\n",
       " {'law_content': '1. Sách giáo khoa giáo dục phổ thông được quy định như sau: a) Sách giáo khoa triển khai chương trình giáo dục phổ thông, cụ thể hóa yêu cầu của chương trình giáo dục phổ thông về mục tiêu, nội dung giáo dục, yêu cầu về phẩm chất và năng lực của học sinh; định hướng về phương pháp giảng dạy và cách thức kiểm tra, đánh giá chất lượng giáo dục; nội dung và hình thức sách giáo khoa không mang định kiến dân tộc, tôn giáo, nghề nghiệp, giới, lứa tuổi và địa vị xã hội; sách giáo khoa thể hiện dưới dạng sách in, sách chữ nổi Braille, sách điện tử; b) Mỗi môn học có một hoặc một số sách giáo khoa; thực hiện xã hội hóa việc biên soạn sách giáo khoa; việc xuất bản sách giáo khoa thực hiện theo quy định của pháp luật; c) Ủy ban nhân dân cấp tỉnh quyết định việc lựa chọn sách giáo khoa sử dụng ổn định trong cơ sở giáo dục phổ thông trên địa bàn theo quy định của Bộ trưởng Bộ Giáo dục và Đào tạo; d) Tài liệu giáo dục địa phương do Ủy ban nhân dân cấp tỉnh tổ chức biên soạn đáp ứng nhu cầu và phù hợp với đặc điểm của địa phương, được hội đồng thẩm định cấp tỉnh thẩm định và Bộ trưởng Bộ Giáo dục và Đào tạo phê duyệt. 2. Hội đồng quốc gia thẩm định sách giáo khoa do Bộ trưởng Bộ Giáo dục và Đào tạo thành lập theo từng môn học, hoạt động giáo dục ở từng cấp học để thẩm định sách giáo khoa. Hội đồng gồm nhà giáo, cán bộ quản lý giáo dục, nhà khoa học có kinh nghiệm, uy tín về giáo dục và đại diện cơ quan, tổ chức có liên quan. Hội đồng phải có ít nhất một phần ba tổng số thành viên là nhà giáo đang giảng dạy ở cấp học tương ứng. Hội đồng và thành viên Hội đồng phải chịu trách nhiệm về nội dung và chất lượng thẩm định. 3. Bộ trưởng Bộ Giáo dục và Đào tạo chịu trách nhiệm về sách giáo khoa giáo dục phổ thông; phê duyệt sách giáo khoa để sử dụng trong cơ sở giáo dục phổ thông sau khi được Hội đồng quốc gia thẩm định sách giáo khoa thẩm định; quy định tiêu chuẩn, quy trình biên soạn, chỉnh sửa sách giáo khoa giáo dục phổ thông; quy định việc lựa chọn sách giáo khoa trong cơ sở giáo dục phổ thông; quy định nhiệm vụ, quyền hạn, phương thức hoạt động, tiêu chuẩn, số lượng và cơ cấu thành viên của Hội đồng quốc gia thẩm định sách giáo khoa và hội đồng thẩm định cấp tỉnh. 4. Chủ tịch Ủy ban nhân dân cấp tỉnh quyết định việc thành lập hội đồng thẩm định cấp tỉnh thẩm định tài liệu giáo dục địa phương. ',\n",
       "  'generated_question': 'Ai là người chịu trách nhiệm phê duyệt sách giáo khoa để sử dụng trong các cơ sở giáo dục phổ thông?',\n",
       "  'rag_answer_llm': 'Bộ trưởng Bộ Giáo dục và Đào tạo.',\n",
       "  'generated_answer': 'Bộ trưởng Bộ Giáo dục và Đào tạo chịu trách nhiệm về sách giáo khoa giáo dục phổ thông và phê duyệt sách giáo khoa để sử dụng trong cơ sở giáo dục phổ thông sau khi được Hội đồng quốc gia thẩm định sách giáo khoa thẩm định.',\n",
       "  'doc_id': 'f93b7fdb',\n",
       "  'law_title': 'Luật Giáo Dục'},\n",
       " {'law_content': '1. Đầu tư cho giáo dục là đầu tư phát triển. Đầu tư trong lĩnh vực giáo dục là hoạt động đầu tư thuộc ngành, nghề đầu tư kinh doanh có điều kiện và được ưu đãi, hỗ trợ đầu tư theo quy định của pháp luật. 2. Nhà nước ưu tiên đầu tư và thu hút các nguồn đầu tư khác cho giáo dục; ưu tiên đầu tư cho phổ cập giáo dục, phát triển giáo dục ở miền núi, hải đảo, vùng đồng bào dân tộc thiểu số, vùng có điều kiện kinh tế - xã hội đặc biệt khó khăn, địa bàn có khu công nghiệp. Nhà nước khuyến khích và bảo hộ các quyền, lợi ích hợp pháp của tổ chức, cá nhân trong nước, người Việt Nam định cư ở nước ngoài, tổ chức, cá nhân nước ngoài đầu tư cho giáo dục. 3. Ngân sách nhà nước giữ vai trò chủ đạo trong tổng nguồn lực đầu tư cho giáo dục. ',\n",
       "  'generated_question': 'Nhà nước có chính sách ưu tiên đầu tư cho giáo dục ở những khu vực nào?',\n",
       "  'rag_answer_llm': 'Đầu tư vào giáo dục là đầu tư vào phát triển, hỗ trợ và bảo vệ các quyền và lợi ích hợp pháp của các tổ chức quốc gia và cá nhân và người Việt Nam cư trú ở nước ngoài.',\n",
       "  'generated_answer': 'Nhà nước ưu tiên đầu tư cho phổ cập giáo dục, phát triển giáo dục ở miền núi, hải đảo, vùng đồng bào dân tộc thiểu số, vùng có điều kiện kinh tế - xã hội đặc biệt khó khăn, địa bàn có khu công nghiệp.',\n",
       "  'doc_id': '73d171d2',\n",
       "  'law_title': 'Luật Giáo Dục'},\n",
       " {'law_content': '1. Trong giao dịch với người thứ ba ngay tình thì vợ, chồng là người đứng tên tài khoản ngân hàng, tài khoản chứng khoán được coi là người có quyền xác lập, thực hiện giao dịch liên quan đến tài sản đó. 2. Trong giao dịch với người thứ ba ngay tình thì vợ, chồng đang chiếm hữu động sản mà theo quy định của pháp luật không phải đăng ký quyền sở hữu được coi là người có quyền xác lập, thực hiện giao dịch liên quan đến tài sản đó trong trường hợp Bộ luật dân sự có quy định về việc bảo vệ người thứ ba ngay tình. ',\n",
       "  'generated_question': 'Nếu vợ hoặc chồng đứng tên tài khoản ngân hàng hoặc tài khoản chứng khoán, họ có quyền thực hiện giao dịch liên quan đến tài sản đó không?',\n",
       "  'rag_answer_llm': 'Có, nếu người phối ngẫu thay mặt cho tài khoản ngân hàng hoặc tài khoản, họ có quyền thực hiện các giao dịch liên quan đến tài sản này.',\n",
       "  'generated_answer': 'Theo Luật Hôn Nhân Và Gia Đình, trong giao dịch với người thứ ba ngay tình, vợ hoặc chồng là người đứng tên tài khoản ngân hàng, tài khoản chứng khoán được coi là người có quyền xác lập, thực hiện giao dịch liên quan đến tài sản đó.',\n",
       "  'doc_id': 'f57e49dc',\n",
       "  'law_title': 'Luật Hôn Nhân Và Gia Đình'},\n",
       " {'law_content': '1. Người bị cưỡng ép kết hôn, bị lừa dối kết hôn, theo quy định của pháp luật về tố tụng dân sự, có quyền tự mình yêu cầu hoặc đề nghị cá nhân, tổ chức quy định tại khoản 2 Điều này yêu cầu Tòa án hủy việc kết hôn trái pháp luật do việc kết hôn vi phạm quy định tại điểm b khoản 1 Điều 8 của Luật này. 2. Cá nhân, cơ quan, tổ chức sau đây, theo quy định của pháp luật về tố tụng dân sự, có quyền yêu cầu Tòa án hủy việc kết hôn trái pháp luật do việc kết hôn vi phạm quy định tại các điểm a, c và d khoản 1 Điều 8 của Luật này: a) Vợ, chồng của người đang có vợ, có chồng mà kết hôn với người khác; cha, mẹ, con, người giám hộ hoặc người đại diện theo pháp luật khác của người kết hôn trái pháp luật; b) Cơ quan quản lý nhà nước về gia đình; c) Cơ quan quản lý nhà nước về trẻ em; d) Hội liên hiệp phụ nữ. 3. Cá nhân, cơ quan, tổ chức khác khi phát hiện việc kết hôn trái pháp luật thì có quyền đề nghị cơ quan, tổ chức quy định tại các điểm b, c và d khoản 2 Điều này yêu cầu Tòa án hủy việc kết hôn trái pháp luật. ',\n",
       "  'generated_question': 'Ai có quyền yêu cầu Tòa án hủy việc kết hôn trái pháp luật?',\n",
       "  'rag_answer_llm': 'Những người bị buộc phải kết hôn bị lừa dối bởi hôn nhân, theo luật tố tụng dân sự, có quyền yêu cầu hoặc yêu cầu các cá nhân và tổ chức được quy định tại khoản 1 của bài viết này để yêu cầu tòa án hủy kết hôn bất hợp pháp do vi phạm hôn nhân được quy định tại điểm B, Khoản 1, Điều 8 của luật này.',\n",
       "  'generated_answer': 'Theo Luật Hôn Nhân Và Gia Đình, người bị cưỡng ép kết hôn, bị lừa dối kết hôn có quyền tự mình yêu cầu hoặc đề nghị cá nhân, tổ chức như vợ, chồng, cha, mẹ, con, người giám hộ, cơ quan quản lý nhà nước về gia đình, cơ quan quản lý nhà nước về trẻ em, Hội liên hiệp phụ nữ yêu cầu Tòa án hủy việc kết hôn trái pháp luật.',\n",
       "  'doc_id': '6acc6cf8',\n",
       "  'law_title': 'Luật Hôn Nhân Và Gia Đình'},\n",
       " {'law_content': 'Trong trường hợp vợ chồng có thỏa thuận về việc một bên đưa tài sản chung vào kinh doanh thì người này có quyền tự mình thực hiện giao dịch liên quan đến tài sản chung đó. Thỏa thuận này phải lập thành văn bản. ',\n",
       "  'generated_question': 'Nếu vợ hoặc chồng muốn đưa tài sản chung vào kinh doanh, họ cần làm gì để đảm bảo hợp pháp?',\n",
       "  'rag_answer_llm': 'Vợ chồng cô phải áp dụng các thỏa thuận hoặc quy định của Điều 36 của Luật trong trường hợp hoạt động của tài sản chung.',\n",
       "  'generated_answer': 'Trong trường hợp vợ chồng có thỏa thuận về việc một bên đưa tài sản chung vào kinh doanh, thỏa thuận này phải được lập thành văn bản. Người được thỏa thuận có quyền tự mình thực hiện giao dịch liên quan đến tài sản chung đó.',\n",
       "  'doc_id': '547a5091',\n",
       "  'law_title': 'Luật Hôn Nhân Và Gia Đình'},\n",
       " {'law_content': '1. Trên đường không phân chia thành hai chiều xe chạy riêng biệt, hai xe đi ngược chiều tránh nhau, người điều khiển phải giảm tốc độ và cho xe đi về bên phải theo chiều xe chạy của mình. 2. Các trường hợp nhường đường khi tránh nhau quy định như sau: a) Nơi đường hẹp chỉ đủ cho một xe chạy và có chỗ tránh xe thì xe nào ở gần chỗ tránh hơn phải vào vị trí tránh, nhường đường cho xe kia đi; b) Xe xuống dốc phải nhường đường cho xe đang lên dốc; c) Xe nào có chướng ngại vật phía trước phải nhường đường cho xe không có chướng ngại vật đi trước. 3. Xe cơ giới đi ngược chiều gặp nhau không được dùng đèn chiếu xa. ',\n",
       "  'generated_question': 'Khi hai xe đi ngược chiều trên đường không phân chia thành hai chiều xe chạy riêng biệt, tôi cần làm gì để tránh nhau?',\n",
       "  'rag_answer_llm': 'Hai máy đi theo hướng ngược lại trên đường không phân chia thành hai chiếc xe riêng biệt, để người điều khiển phải chậm lại và để xe đi đúng hướng theo hướng xe của anh ta.',\n",
       "  'generated_answer': 'Khi hai xe đi ngược chiều trên đường không phân chia thành hai chiều xe chạy riêng biệt, người điều khiển phải giảm tốc độ và cho xe đi về bên phải theo chiều xe chạy của mình.',\n",
       "  'doc_id': '0ed53793',\n",
       "  'law_title': 'Luật Giao Thông Đường Bộ'},\n",
       " {'law_content': '1. Nhà nước có chính sách, biện pháp bảo hộ hôn nhân và gia đình, tạo điều kiện để nam, nữ xác lập hôn nhân tự nguyện, tiến bộ, một vợ một chồng, vợ chồng bình đẳng; xây dựng gia đình ấm no, tiến bộ, hạnh phúc và thực hiện đầy đủ chức năng của mình; tăng cường tuyên truyền, phổ biến, giáo dục pháp luật về hôn nhân và gia đình; vận động nhân dân xóa bỏ phong tục, tập quán lạc hậu về hôn nhân và gia đình, phát huy truyền thống, phong tục, tập quán tốt đẹp thể hiện bản sắc của mỗi dân tộc. 2. Chính phủ thống nhất quản lý nhà nước về hôn nhân và gia đình. Các bộ, cơ quan ngang bộ thực hiện quản lý nhà nước về hôn nhân và gia đình theo sự phân công của Chính phủ. Ủy ban nhân dân các cấp và các cơ quan khác thực hiện quản lý nhà nước về hôn nhân và gia đình theo quy định của pháp luật. 3. Cơ quan, tổ chức có trách nhiệm giáo dục, vận động cán bộ, công chức, viên chức, người lao động, các thành viên của mình và mọi công dân xây dựng gia đình văn hóa; kịp thời hòa giải mâu thuẫn trong gia đình, bảo vệ quyền, lợi ích hợp pháp của các thành viên gia đình. Nhà trường phối hợp với gia đình trong việc giáo dục, tuyên truyền, phổ biến pháp luật về hôn nhân và gia đình cho thế hệ trẻ. ',\n",
       "  'generated_question': 'Nhà nước có những chính sách gì để bảo vệ hôn nhân và gia đình?',\n",
       "  'rag_answer_llm': 'Nhà nước có các chính sách và biện pháp để bảo vệ hôn nhân và gia đình, tạo điều kiện cho nam và nữ để thiết lập một cuộc hôn nhân tự nguyện và tiến bộ, một người chồng và một người vợ.',\n",
       "  'generated_answer': 'Nhà nước có chính sách, biện pháp bảo hộ hôn nhân và gia đình, tạo điều kiện để nam, nữ xác lập hôn nhân tự nguyện, tiến bộ, một vợ một chồng, vợ chồng bình đẳng; xây dựng gia đình ấm no, tiến bộ, hạnh phúc và thực hiện đầy đủ chức năng của mình. Nhà nước cũng tăng cường tuyên truyền, phổ biến, giáo dục pháp luật về hôn nhân và gia đình, vận động nhân dân xóa bỏ phong tục, tập quán lạc hậu và phát huy truyền thống, phong tục, tập quán tốt đẹp thể hiện bản sắc của mỗi dân tộc.',\n",
       "  'doc_id': '673a834b',\n",
       "  'law_title': 'Luật Hôn Nhân Và Gia Đình'},\n",
       " {'law_content': 'Trong trường hợp không còn cha mẹ hoặc cha mẹ không có khả năng lao động và không có tài sản để cấp dưỡng cho con thì anh, chị đã thành niên không sống chung với em có nghĩa vụ cấp dưỡng cho em chưa thành niên không có tài sản để tự nuôi mình hoặc em đã thành niên không có khả năng lao động và không có tài sản để tự nuôi mình; em đã thành niên không sống chung với anh, chị có nghĩa vụ cấp dưỡng cho anh, chị không có khả năng lao động và không có tài sản để tự nuôi mình. ',\n",
       "  'generated_question': 'Trong trường hợp nào thì anh, chị có nghĩa vụ cấp dưỡng cho em mình theo Luật Hôn Nhân và Gia Đình?',\n",
       "  'rag_answer_llm': 'Vâng, trong mọi trường hợp, bạn có nghĩa vụ phải hỗ trợ em trai của bạn dựa trên luật hôn nhân và gia đình.',\n",
       "  'generated_answer': 'Theo Luật Hôn Nhân và Gia Đình, anh, chị đã thành niên không sống chung với em có nghĩa vụ cấp dưỡng cho em chưa thành niên không có tài sản để tự nuôi mình hoặc em đã thành niên không có khả năng lao động và không có tài sản để tự nuôi mình trong trường hợp không còn cha mẹ hoặc cha mẹ không có khả năng lao động và không có tài sản để cấp dưỡng cho con.',\n",
       "  'doc_id': 'a114ebfe',\n",
       "  'law_title': 'Luật Hôn Nhân Và Gia Đình'},\n",
       " {'law_content': '1. Cơ quan đăng ký hộ tịch Việt Nam có thẩm quyền giải quyết việc xác định cha, mẹ, con mà không có tranh chấp giữa công dân Việt Nam với người nước ngoài, giữa công dân Việt Nam với nhau mà ít nhất một bên định cư ở nước ngoài, giữa người nước ngoài với nhau mà ít nhất một bên thường trú tại Việt Nam theo quy định của pháp luật về hộ tịch. 2. Tòa án có thẩm quyền của Việt Nam giải quyết việc xác định cha, mẹ, con có yếu tố nước ngoài đối với trường hợp quy định tại khoản 2 Điều 88, Điều 89, Điều 90, khoản 1, khoản 5 Điều 97, khoản 3, khoản 5 Điều 98 và Điều 99 của Luật này; các trường hợp khác có tranh chấp. ',\n",
       "  'generated_question': 'Trường hợp nào cần phải đến Tòa án để xác định cha, mẹ, con có yếu tố nước ngoài?',\n",
       "  'rag_answer_llm': 'Tại tòa án, cần phải ra tòa để xác định người cha, người mẹ và con trai với các yếu tố nước ngoài cho các trường hợp được quy định tại Điều 2, Điều 88, Điều 89, Điều 90, Điều 97, Điều 98 và Điều 99 của Luật Địa vị Dân sự.',\n",
       "  'generated_answer': 'Tòa án có thẩm quyền của Việt Nam giải quyết việc xác định cha, mẹ, con có yếu tố nước ngoài đối với các trường hợp quy định tại khoản 2 Điều 88, Điều 89, Điều 90, khoản 1, khoản 5 Điều 97, khoản 3, khoản 5 Điều 98 và Điều 99 của Luật Hôn Nhân Và Gia Đình; các trường hợp khác có tranh chấp.',\n",
       "  'doc_id': '3136fc57',\n",
       "  'law_title': 'Luật Hôn Nhân Và Gia Đình'},\n",
       " {'law_content': 'Cha mẹ phải bồi thường thiệt hại do con chưa thành niên, con đã thành niên mất năng lực hành vi dân sự gây ra theo quy định của Bộ luật dân sự. ',\n",
       "  'generated_question': 'Cha mẹ có phải bồi thường thiệt hại do con cái gây ra không?',\n",
       "  'rag_answer_llm': 'Vâng, cha mẹ phải trả thiệt hại do trẻ em gây ra.',\n",
       "  'generated_answer': 'Theo Luật Hôn Nhân Và Gia Đình, cha mẹ phải bồi thường thiệt hại do con chưa thành niên hoặc con đã thành niên nhưng mất năng lực hành vi dân sự gây ra, theo quy định của Bộ luật dân sự.',\n",
       "  'doc_id': '227bb762',\n",
       "  'law_title': 'Luật Hôn Nhân Và Gia Đình'},\n",
       " {'law_content': 'Học sinh, sinh viên được hưởng chế độ miễn, giảm giá vé khi sử dụng các dịch vụ công cộng về giao thông, giải trí, tham quan viện bảo tàng, di tích lịch sử, công trình văn hóa theo quy định của Chính phủ. ',\n",
       "  'generated_question': 'Học sinh, sinh viên có được hưởng chế độ miễn, giảm giá vé khi sử dụng dịch vụ công cộng không?',\n",
       "  'rag_answer_llm': 'Có, sinh viên thích miễn trừ và giảm giá khi sử dụng các dịch vụ công cộng về giao thông, giải trí, tham quan bảo tàng, di tích lịch sử, các công trình văn hóa theo quy định của chính phủ.',\n",
       "  'generated_answer': 'Học sinh, sinh viên được hưởng chế độ miễn, giảm giá vé khi sử dụng các dịch vụ công cộng về giao thông, giải trí, tham quan viện bảo tàng, di tích lịch sử, công trình văn hóa theo quy định của Chính phủ.',\n",
       "  'doc_id': 'c5813216',\n",
       "  'law_title': 'Luật Giáo Dục'},\n",
       " {'law_content': '1. Nhà trường bị đình chỉ hoạt động giáo dục trong trường hợp sau đây: a) Có hành vi gian lận để được cho phép hoạt động giáo dục; b) Không bảo đảm một trong các điều kiện quy định tại khoản 2 Điều 49 của Luật này; c) Người cho phép hoạt động giáo dục không đúng thẩm quyền; d) Không triển khai hoạt động giáo dục trong thời hạn quy định kể từ ngày được phép hoạt động giáo dục; đ) Vi phạm quy định của pháp luật về giáo dục bị xử phạt vi phạm hành chính ở mức độ phải đình chỉ; e) Trường hợp khác theo quy định của pháp luật. 2. Quyết định đình chỉ hoạt động giáo dục đối với nhà trường phải xác định rõ lý do đình chỉ, thời hạn đình chỉ, biện pháp bảo đảm quyền, lợi ích của nhà giáo, cán bộ quản lý giáo dục, người học, người lao động trong nhà trường và phải công bố công khai trên phương tiện thông tin đại chúng. 3. Trong thời hạn bị đình chỉ, nếu nguyên nhân dẫn đến việc đình chỉ được khắc phục thì người có thẩm quyền quyết định đình chỉ ra quyết định cho phép nhà trường hoạt động giáo dục trở lại. ',\n",
       "  'generated_question': 'Trường hợp nào nhà trường có thể bị đình chỉ hoạt động giáo dục?',\n",
       "  'rag_answer_llm': 'Trường có thể bị đình chỉ khỏi các hoạt động giáo dục trong các trường hợp sau: a) có các hành vi gian lận để cho phép các hoạt động giáo dục; b) không đảm bảo một trong các điều kiện được quy định trong khoản 2, Điều 49 của luật này; c) những người cho phép các hoạt động giáo dục không tuân thủ năng lực của họ; d) không thể thực hiện các hoạt động giáo dục trong giới hạn thời gian được quy định từ ngày hoạt động giáo dục; e) vi phạm các quy định của luật giáo dục bị xử phạt vì vi phạm hành chính ở cấp đình chỉ; Các trường hợp khác theo quy định của pháp luật.',\n",
       "  'generated_answer': 'Nhà trường có thể bị đình chỉ hoạt động giáo dục trong các trường hợp sau: 1) Có hành vi gian lận để được cho phép hoạt động giáo dục; 2) Không bảo đảm một trong các điều kiện quy định tại khoản 2 Điều 49 của Luật Giáo Dục; 3) Người cho phép hoạt động giáo dục không đúng thẩm quyền; 4) Không triển khai hoạt động giáo dục trong thời hạn quy định kể từ ngày được phép hoạt động giáo dục; 5) Vi phạm quy định của pháp luật về giáo dục bị xử phạt vi phạm hành chính ở mức độ phải đình chỉ; 6) Trường hợp khác theo quy định của pháp luật.',\n",
       "  'doc_id': '4751dc48',\n",
       "  'law_title': 'Luật Giáo Dục'},\n",
       " {'law_content': '1. Người đi bộ phải đi trên hè phố, lề đường; trường hợp đường không có hè phố, lề đường thì người đi bộ phải đi sát mép đường. 2. Người đi bộ chỉ được qua đường ở những nơi có đèn tín hiệu, có vạch kẻ đường hoặc có cầu vượt, hầm dành cho người đi bộ và phải tuân thủ tín hiệu chỉ dẫn. 3. Trường hợp không có đèn tín hiệu, không có vạch kẻ đường, cầu vượt, hầm dành cho người đi bộ thì người đi bộ phải quan sát các xe đang đi tới, chỉ qua đường khi bảo đảm an toàn và chịu trách nhiệm bảo đảm an toàn khi qua đường. 4. Người đi bộ không được vượt qua dải phân cách, không đu bám vào phương tiện giao thông đang chạy; khi mang vác vật cồng kềnh phải bảo đảm an toàn và không gây trở ngại cho người và phương tiện tham gia giao thông đường bộ. 5. Trẻ em dưới 7 tuổi khi đi qua đường đô thị, đường thường xuyên có xe cơ giới qua lại phải có người lớn dắt; mọi người có trách nhiệm giúp đỡ trẻ em dưới 7 tuổi khi đi qua đường. ',\n",
       "  'generated_question': 'Người đi bộ phải đi ở đâu khi đường không có hè phố hoặc lề đường?',\n",
       "  'rag_answer_llm': 'Người đi bộ có thể đi trên vỉa hè, vỉa hè hoặc tiếp cận rìa đường.',\n",
       "  'generated_answer': 'Trường hợp đường không có hè phố, lề đường thì người đi bộ phải đi sát mép đường.',\n",
       "  'doc_id': '18b2ecf6',\n",
       "  'law_title': 'Luật Giao Thông Đường Bộ'},\n",
       " {'law_content': '1. Liên thông trong giáo dục là việc sử dụng kết quả học tập đã có để học tiếp ở các cấp học, trình độ khác cùng ngành, nghề đào tạo hoặc khi chuyển sang ngành, nghề đào tạo, hình thức giáo dục và trình độ đào tạo khác phù hợp với yêu cầu nội dung tương ứng, bảo đảm liên thông giữa các cấp học, trình độ đào tạo trong giáo dục phổ thông, giáo dục nghề nghiệp và giáo dục đại học. 2. Việc liên thông trong giáo dục phải đáp ứng các điều kiện bảo đảm chất lượng. Chương trình giáo dục được thiết kế theo hướng kế thừa, tích hợp kiến thức và kỹ năng dựa trên chuẩn đầu ra của từng bậc trình độ đào tạo trong Khung trình độ quốc gia Việt Nam. Người học không phải học lại kiến thức và kỹ năng đã tích lũy ở các chương trình giáo dục trước đó. 3. Chính phủ quy định chi tiết về liên thông giữa các cấp học, trình độ đào tạo trong hệ thống giáo dục quốc dân. ',\n",
       "  'generated_question': 'Liên thông trong giáo dục là gì và người học có phải học lại kiến thức đã tích lũy không?',\n",
       "  'rag_answer_llm': 'Giáo dục phải học kiến \\u200b\\u200bthức và kỹ năng tích lũy trong các chương trình giáo dục trước đây.',\n",
       "  'generated_answer': 'Liên thông trong giáo dục là việc sử dụng kết quả học tập đã có để học tiếp ở các cấp học, trình độ khác cùng ngành, nghề đào tạo hoặc khi chuyển sang ngành, nghề đào tạo, hình thức giáo dục và trình độ đào tạo khác phù hợp với yêu cầu nội dung tương ứng. Người học không phải học lại kiến thức và kỹ năng đã tích lũy ở các chương trình giáo dục trước đó.',\n",
       "  'doc_id': '8152392a',\n",
       "  'law_title': 'Luật Giáo Dục'},\n",
       " {'law_content': '1. Xử lý việc kết hôn trái pháp luật được Tòa án thực hiện theo quy định tại Luật này và pháp luật về tố tụng dân sự. 2. Trong trường hợp tại thời điểm Tòa án giải quyết yêu cầu hủy việc kết hôn trái pháp luật mà cả hai bên kết hôn đã có đủ các điều kiện kết hôn theo quy định tại Điều 8 của Luật này và hai bên yêu cầu công nhận quan hệ hôn nhân thì Tòa án công nhận quan hệ hôn nhân đó. Trong trường hợp này, quan hệ hôn nhân được xác lập từ thời điểm các bên đủ điều kiện kết hôn theo quy định của Luật này. 3. Quyết định của Tòa án về việc hủy kết hôn trái pháp luật hoặc công nhận quan hệ hôn nhân phải được gửi cho cơ quan đã thực hiện việc đăng ký kết hôn để ghi vào sổ hộ tịch; hai bên kết hôn trái pháp luật; cá nhân, cơ quan, tổ chức liên quan theo quy định của pháp luật về tố tụng dân sự. 4. Tòa án nhân dân tối cao chủ trì phối hợp với Viện kiểm sát nhân dân tối cao và Bộ Tư pháp hướng dẫn Điều này. ',\n",
       "  'generated_question': 'Nếu hai người kết hôn trái pháp luật nhưng sau đó đã đủ điều kiện kết hôn, Tòa án sẽ xử lý như thế nào?',\n",
       "  'rag_answer_llm': 'Tòa án sẽ quản lý vụ án và điều phối với công tố viên của nhân dân tối cao và Bộ Công lý để đảm bảo rằng hai bên kết hôn hợp pháp.',\n",
       "  'generated_answer': 'Trong trường hợp tại thời điểm Tòa án giải quyết yêu cầu hủy việc kết hôn trái pháp luật mà cả hai bên kết hôn đã có đủ các điều kiện kết hôn theo quy định tại Điều 8 của Luật Hôn Nhân Và Gia Đình và hai bên yêu cầu công nhận quan hệ hôn nhân, Tòa án sẽ công nhận quan hệ hôn nhân đó. Quan hệ hôn nhân được xác lập từ thời điểm các bên đủ điều kiện kết hôn theo quy định của Luật này.',\n",
       "  'doc_id': 'daa1dccc',\n",
       "  'law_title': 'Luật Hôn Nhân Và Gia Đình'},\n",
       " {'law_content': '1. Nam, nữ có đủ điều kiện kết hôn theo quy định của Luật này chung sống với nhau như vợ chồng mà không đăng ký kết hôn thì không làm phát sinh quyền, nghĩa vụ giữa vợ và chồng. Quyền, nghĩa vụ đối với con, tài sản, nghĩa vụ và hợp đồng giữa các bên được giải quyết theo quy định tại Điều 15 và Điều 16 của Luật này. 2. Trong trường hợp nam, nữ chung sống với nhau như vợ chồng theo quy định tại khoản 1 Điều này nhưng sau đó thực hiện việc đăng ký kết hôn theo quy định của pháp luật thì quan hệ hôn nhân được xác lập từ thời điểm đăng ký kết hôn. ',\n",
       "  'generated_question': 'Nếu nam và nữ chung sống với nhau như vợ chồng mà không đăng ký kết hôn, họ có quyền và nghĩa vụ giống như vợ chồng hợp pháp không?',\n",
       "  'rag_answer_llm': 'Vâng, nếu đàn ông và phụ nữ sống cùng nhau như một người chồng và vợ mà không đăng ký như cuộc hôn nhân, họ có quyền và nghĩa vụ tương tự như cặp vợ chồng hợp pháp.',\n",
       "  'generated_answer': 'Nam, nữ có đủ điều kiện kết hôn theo quy định của Luật Hôn Nhân Và Gia Đình chung sống với nhau như vợ chồng mà không đăng ký kết hôn thì không làm phát sinh quyền, nghĩa vụ giữa vợ và chồng. Quyền, nghĩa vụ đối với con, tài sản, nghĩa vụ và hợp đồng giữa các bên được giải quyết theo quy định tại Điều 15 và Điều 16 của Luật này.',\n",
       "  'doc_id': '5d674582',\n",
       "  'law_title': 'Luật Hôn Nhân Và Gia Đình'},\n",
       " {'law_content': '1. Việc nhập tài sản riêng của vợ, chồng vào tài sản chung được thực hiện theo thỏa thuận của vợ chồng. 2. Tài sản được nhập vào tài sản chung mà theo quy định của pháp luật, giao dịch liên quan đến tài sản đó phải tuân theo hình thức nhất định thì thỏa thuận phải bảo đảm hình thức đó. 3. Nghĩa vụ liên quan đến tài sản riêng đã nhập vào tài sản chung được thực hiện bằng tài sản chung, trừ trường hợp vợ chồng có thỏa thuận khác hoặc pháp luật có quy định khác. ',\n",
       "  'generated_question': 'Tôi muốn nhập tài sản riêng của mình vào tài sản chung với vợ/chồng thì cần làm thế nào?',\n",
       "  'rag_answer_llm': 'Có, bạn có thể nhập tài sản chung của bạn với chồng và vợ của bạn.',\n",
       "  'generated_answer': 'Việc nhập tài sản riêng của vợ, chồng vào tài sản chung được thực hiện theo thỏa thuận của vợ chồng. Nếu tài sản đó thuộc loại mà pháp luật quy định giao dịch liên quan phải tuân theo hình thức nhất định, thì thỏa thuận nhập tài sản cũng phải đảm bảo hình thức đó.',\n",
       "  'doc_id': '146451b7',\n",
       "  'law_title': 'Luật Hôn Nhân Và Gia Đình'},\n",
       " {'law_content': '1. Chương trình giáo dục phổ thông phải bảo đảm các yêu cầu sau đây: a) Thể hiện mục tiêu giáo dục phổ thông; b) Quy định yêu cầu về phẩm chất và năng lực của học sinh cần đạt được sau mỗi cấp học, nội dung giáo dục bắt buộc đối với tất cả học sinh trong cả nước; c) Quy định phương pháp, hình thức tổ chức hoạt động giáo dục và đánh giá kết quả giáo dục đối với các môn học ở mỗi lớp, mỗi cấp học của giáo dục phổ thông; d) Thống nhất trong cả nước và được tổ chức thực hiện linh hoạt, phù hợp với điều kiện cụ thể của địa phương và cơ sở giáo dục phổ thông; đ) Được lấy ý kiến rộng rãi các tổ chức, cá nhân và thực nghiệm trước khi ban hành; được công bố công khai sau khi ban hành. 2. Hội đồng quốc gia thẩm định chương trình giáo dục phổ thông do Bộ trưởng Bộ Giáo dục và Đào tạo thành lập để thẩm định chương trình giáo dục phổ thông. Hội đồng gồm nhà giáo, cán bộ quản lý giáo dục, nhà khoa học có kinh nghiệm, uy tín về giáo dục và đại diện cơ quan, tổ chức có liên quan. Hội đồng phải có ít nhất một phần ba tổng số thành viên là nhà giáo đang giảng dạy ở cấp học tương ứng. Hội đồng và thành viên Hội đồng phải chịu trách nhiệm về nội dung và chất lượng thẩm định. 3. Bộ trưởng Bộ Giáo dục và Đào tạo chịu trách nhiệm về chất lượng chương trình giáo dục phổ thông; ban hành chương trình giáo dục phổ thông sau khi được Hội đồng quốc gia thẩm định chương trình giáo dục phổ thông thẩm định; quy định tiêu chuẩn, quy trình biên soạn, chỉnh sửa chương trình giáo dục phổ thông; quy định về mục tiêu, đối tượng, quy mô, thời gian thực nghiệm một số nội dung, phương pháp giáo dục mới trong cơ sở giáo dục phổ thông; quy định nhiệm vụ, quyền hạn, phương thức hoạt động, tiêu chuẩn, số lượng và cơ cấu thành viên của Hội đồng quốc gia thẩm định chương trình giáo dục phổ thông. ',\n",
       "  'generated_question': 'Chương trình giáo dục phổ thông có những yêu cầu gì để đảm bảo chất lượng giáo dục?',\n",
       "  'rag_answer_llm': 'Các yêu cầu bao gồm các mục tiêu giáo dục chung, quy định các phương pháp và hình thức của các hoạt động giáo dục, điều chỉnh nội dung và phương pháp đào tạo đang được tiến hành và thống nhất trên toàn quốc.',\n",
       "  'generated_answer': 'Chương trình giáo dục phổ thông phải bảo đảm các yêu cầu sau: thể hiện mục tiêu giáo dục phổ thông; quy định yêu cầu về phẩm chất và năng lực của học sinh cần đạt được sau mỗi cấp học, nội dung giáo dục bắt buộc đối với tất cả học sinh trong cả nước; quy định phương pháp, hình thức tổ chức hoạt động giáo dục và đánh giá kết quả giáo dục đối với các môn học ở mỗi lớp, mỗi cấp học; thống nhất trong cả nước và được tổ chức thực hiện linh hoạt, phù hợp với điều kiện cụ thể của địa phương và cơ sở giáo dục phổ thông; được lấy ý kiến rộng rãi các tổ chức, cá nhân và thực nghiệm trước khi ban hành; được công bố công khai sau khi ban hành.',\n",
       "  'doc_id': '7635a3db',\n",
       "  'law_title': 'Luật Giáo Dục'},\n",
       " {'law_content': '1. Con sinh ra trong thời kỳ hôn nhân hoặc do người vợ có thai trong thời kỳ hôn nhân là con chung của vợ chồng. Con được sinh ra trong thời hạn 300 ngày kể từ thời điểm chấm dứt hôn nhân được coi là con do người vợ có thai trong thời kỳ hôn nhân. Con sinh ra trước ngày đăng ký kết hôn và được cha mẹ thừa nhận là con chung của vợ chồng. 2. Trong trường hợp cha, mẹ không thừa nhận con thì phải có chứng cứ và phải được Tòa án xác định. ',\n",
       "  'generated_question': 'Nếu một đứa trẻ được sinh ra trong vòng 300 ngày sau khi cha mẹ ly hôn, đứa trẻ đó có được coi là con chung của vợ chồng không?',\n",
       "  'rag_answer_llm': 'Vâng, nếu một đứa trẻ được sinh ra trong vòng 300 ngày kể từ khi kết thúc đám cưới, anh ta được coi là một đứa trẻ phổ biến của cặp vợ chồng.',\n",
       "  'generated_answer': 'Theo Luật Hôn Nhân Và Gia Đình, con được sinh ra trong thời hạn 300 ngày kể từ thời điểm chấm dứt hôn nhân được coi là con do người vợ có thai trong thời kỳ hôn nhân và là con chung của vợ chồng.',\n",
       "  'doc_id': '88843b74',\n",
       "  'law_title': 'Luật Hôn Nhân Và Gia Đình'},\n",
       " {'law_content': '1. Nhà trường được thành lập khi có đề án thành lập trường phù hợp với quy hoạch phát triển kinh tế - xã hội và quy hoạch mạng lưới cơ sở giáo dục theo quy định của Luật Quy hoạch. Đề án thành lập trường xác định rõ mục tiêu, nhiệm vụ, chương trình và nội dung giáo dục; đất đai, cơ sở vật chất, thiết bị, địa điểm dự kiến xây dựng trường, tổ chức bộ máy, nguồn lực và tài chính; phương hướng chiến lược xây dựng và phát triển nhà trường. 2. Nhà trường được phép hoạt động giáo dục khi đáp ứng đủ các điều kiện sau đây: a) Có đất đai, cơ sở vật chất, thiết bị đáp ứng yêu cầu hoạt động giáo dục; địa điểm xây dựng trường bảo đảm môi trường giáo dục, an toàn cho người học, người dạy và người lao động; b) Có chương trình giáo dục và tài liệu giảng dạy, học tập theo quy định phù hợp với mỗi cấp học, trình độ đào tạo; có đội ngũ nhà giáo và cán bộ quản lý đạt tiêu chuẩn, đủ về số lượng, đồng bộ về cơ cấu để bảo đảm thực hiện chương trình giáo dục và tổ chức các hoạt động giáo dục; c) Có đủ nguồn lực tài chính theo quy định để bảo đảm duy trì và phát triển hoạt động giáo dục; d) Có quy chế tổ chức và hoạt động của nhà trường. 3. Trong thời hạn quy định, nếu nhà trường có đủ các điều kiện quy định tại khoản 2 Điều này thì được cơ quan nhà nước có thẩm quyền cho phép hoạt động giáo dục; khi hết thời hạn quy định, nếu không đủ điều kiện quy định tại khoản 2 Điều này thì bị thu hồi quyết định thành lập hoặc quyết định cho phép thành lập. ',\n",
       "  'generated_question': 'Nhà trường cần đáp ứng những điều kiện gì để được phép hoạt động giáo dục?',\n",
       "  'rag_answer_llm': 'Đất đai, cấu trúc, thiết bị, địa điểm nên xây dựng trường học, cấu trúc tổ chức, tài nguyên và tài trợ.',\n",
       "  'generated_answer': 'Nhà trường được phép hoạt động giáo dục khi đáp ứng đủ các điều kiện sau: có đất đai, cơ sở vật chất, thiết bị đáp ứng yêu cầu hoạt động giáo dục; có chương trình giáo dục và tài liệu giảng dạy, học tập phù hợp với mỗi cấp học, trình độ đào tạo; có đội ngũ nhà giáo và cán bộ quản lý đạt tiêu chuẩn, đủ về số lượng, đồng bộ về cơ cấu; có đủ nguồn lực tài chính để bảo đảm duy trì và phát triển hoạt động giáo dục; và có quy chế tổ chức và hoạt động của nhà trường.',\n",
       "  'doc_id': 'be76406b',\n",
       "  'law_title': 'Luật Giáo Dục'},\n",
       " {'law_content': '1. Được cha mẹ thương yêu, tôn trọng, thực hiện các quyền, lợi ích hợp pháp về nhân thân và tài sản theo quy định của pháp luật; được học tập và giáo dục; được phát triển lành mạnh về thể chất, trí tuệ và đạo đức. 2. Có bổn phận yêu quý, kính trọng, biết ơn, hiếu thảo, phụng dưỡng cha mẹ, giữ gìn danh dự, truyền thống tốt đẹp của gia đình. 3. Con chưa thành niên, con đã thành niên mất năng lực hành vi dân sự hoặc không có khả năng lao động và không có tài sản để tự nuôi mình thì có quyền sống chung với cha mẹ, được cha mẹ trông nom, nuôi dưỡng, chăm sóc. Con chưa thành niên tham gia công việc gia đình phù hợp với lứa tuổi và không trái với quy định của pháp luật về bảo vệ, chăm sóc và giáo dục trẻ em. 4. Con đã thành niên có quyền tự do lựa chọn nghề nghiệp, nơi cư trú, học tập, nâng cao trình độ văn hóa, chuyên môn, nghiệp vụ; tham gia hoạt động chính trị, kinh tế, văn hóa, xã hội theo nguyện vọng và khả năng của mình. Khi sống cùng với cha mẹ, con có nghĩa vụ tham gia công việc gia đình, lao động, sản xuất, tạo thu nhập nhằm bảo đảm đời sống chung của gia đình; đóng góp thu nhập vào việc đáp ứng nhu cầu của gia đình phù hợp với khả năng của mình. 5. Được hưởng quyền về tài sản tương xứng với công sức đóng góp vào tài sản của gia đình. ',\n",
       "  'generated_question': 'Con cái có những quyền gì khi sống chung với cha mẹ theo Luật Hôn Nhân Và Gia Đình?',\n",
       "  'rag_answer_llm': 'Quyền sống',\n",
       "  'generated_answer': 'Con cái có quyền sống chung với cha mẹ, được cha mẹ trông nom, nuôi dưỡng, chăm sóc. Con đã thành niên có quyền tự do lựa chọn nghề nghiệp, nơi cư trú, học tập, nâng cao trình độ văn hóa, chuyên môn, nghiệp vụ; tham gia hoạt động chính trị, kinh tế, văn hóa, xã hội theo nguyện vọng và khả năng của mình. Khi sống cùng với cha mẹ, con có nghĩa vụ tham gia công việc gia đình, lao động, sản xuất, tạo thu nhập nhằm bảo đảm đời sống chung của gia đình; đóng góp thu nhập vào việc đáp ứng nhu cầu của gia đình phù hợp với khả năng của mình.',\n",
       "  'doc_id': '646f4add',\n",
       "  'law_title': 'Luật Hôn Nhân Và Gia Đình'},\n",
       " {'law_content': '1. Điều lệ nhà trường được áp dụng chung cho các loại hình nhà trường ở giáo dục mầm non, giáo dục phổ thông, giáo dục nghề nghiệp và có các nội dung chủ yếu sau đây: a) Nhiệm vụ và quyền hạn của nhà trường; b) Tổ chức hoạt động giáo dục trong nhà trường; c) Nhiệm vụ và quyền của nhà giáo; d) Nhiệm vụ và quyền của người học; đ) Tổ chức và quản lý nhà trường; e) Tài chính và tài sản của nhà trường; g) Quan hệ giữa nhà trường, gia đình và xã hội. 2. Quy chế tổ chức và hoạt động của cơ sở giáo dục cụ thể hóa các nội dung của điều lệ nhà trường để áp dụng cho từng loại hình cơ sở giáo dục. 3. Bộ trưởng Bộ Giáo dục và Đào tạo, Bộ trưởng Bộ Lao động - Thương binh và Xã hội, trong phạm vi nhiệm vụ, quyền hạn của mình, ban hành điều lệ nhà trường, quy chế tổ chức và hoạt động của cơ sở giáo dục. ',\n",
       "  'generated_question': 'Điều lệ nhà trường bao gồm những nội dung chính nào?',\n",
       "  'rag_answer_llm': 'Nội dung chính của các quy tắc của trường bao gồm nhiệm vụ và quyền hạn của trường, tổ chức các hoạt động giáo dục trong trường học, nhiệm vụ và quyền của giáo viên, nhiệm vụ và quyền của học sinh, tổ chức và quản lý trường học, tài chính và tài sản của trường, và các mối quan hệ giữa trường học, gia đình và xã hội.',\n",
       "  'generated_answer': 'Điều lệ nhà trường bao gồm các nội dung chính như: nhiệm vụ và quyền hạn của nhà trường, tổ chức hoạt động giáo dục trong nhà trường, nhiệm vụ và quyền của nhà giáo, nhiệm vụ và quyền của người học, tổ chức và quản lý nhà trường, tài chính và tài sản của nhà trường, và quan hệ giữa nhà trường, gia đình và xã hội.',\n",
       "  'doc_id': '266ff403',\n",
       "  'law_title': 'Luật Giáo Dục'},\n",
       " {'law_content': '1. Tổ chức, cá nhân nước ngoài, tổ chức quốc tế, người Việt Nam định cư ở nước ngoài được Nhà nước khuyến khích, tạo điều kiện để giảng dạy, học tập, đầu tư, tài trợ, hợp tác, nghiên cứu khoa học, ứng dụng và chuyển giao công nghệ về giáo dục tại Việt Nam; được bảo hộ các quyền, lợi ích hợp pháp theo pháp luật Việt Nam và điều ước quốc tế mà nước Cộng hòa xã hội chủ nghĩa Việt Nam là thành viên. 2. Hợp tác về giáo dục với Việt Nam phải bảo đảm giáo dục người học về nhân cách, phẩm chất và năng lực công dân; tôn trọng bản sắc văn hóa dân tộc; thực hiện mục tiêu giáo dục, yêu cầu về nội dung, phương pháp giáo dục phù hợp với mỗi cấp học, trình độ đào tạo trong hệ thống giáo dục quốc dân; hoạt động giáo dục phù hợp với quy định của pháp luật Việt Nam. 3. Các hình thức hợp tác, đầu tư của nước ngoài về giáo dục tại Việt Nam bao gồm: a) Liên kết giáo dục, đào tạo; b) Thành lập văn phòng đại diện; c) Thành lập phân hiệu; d) Thành lập cơ sở giáo dục; đ) Các hình thức hợp tác, đầu tư khác. 4. Chính phủ quy định chi tiết Điều này. ',\n",
       "  'generated_question': 'Những hình thức hợp tác, đầu tư của nước ngoài về giáo dục tại Việt Nam bao gồm những gì?',\n",
       "  'rag_answer_llm': 'Các hình thức hợp tác và đầu tư của giáo dục nước ngoài ở Việt Nam bao gồm kết nối giáo dục và đào tạo, thành lập một văn phòng đại diện, thành lập chi nhánh, thành lập các tổ chức giáo dục, các hình thức hợp tác và đầu tư khác.',\n",
       "  'generated_answer': 'Các hình thức hợp tác, đầu tư của nước ngoài về giáo dục tại Việt Nam bao gồm: liên kết giáo dục, đào tạo; thành lập văn phòng đại diện; thành lập phân hiệu; thành lập cơ sở giáo dục; và các hình thức hợp tác, đầu tư khác.',\n",
       "  'doc_id': '6e20e083',\n",
       "  'law_title': 'Luật Giáo Dục'},\n",
       " {'law_content': '1. Việc chiếm hữu, sử dụng, định đoạt tài sản chung do vợ chồng thỏa thuận. 2. Việc định đoạt tài sản chung phải có sự thỏa thuận bằng văn bản của vợ chồng trong những trường hợp sau đây: a) Bất động sản; b) Động sản mà theo quy định của pháp luật phải đăng ký quyền sở hữu; c) Tài sản đang là nguồn tạo ra thu nhập chủ yếu của gia đình. ',\n",
       "  'generated_question': 'Khi vợ chồng muốn định đoạt tài sản chung như bất động sản hoặc động sản phải đăng ký quyền sở hữu, họ cần làm gì theo quy định của Luật Hôn Nhân Và Gia Đình?',\n",
       "  'rag_answer_llm': 'Tài sản chung phải có một thỏa thuận bằng văn bản của chồng và vợ trong các trường hợp sau: a) tài sản; b) Các thuộc tính theo luật pháp phải ghi lại tài sản.',\n",
       "  'generated_answer': 'Theo Luật Hôn Nhân Và Gia Đình, việc định đoạt tài sản chung như bất động sản hoặc động sản phải đăng ký quyền sở hữu cần có sự thỏa thuận bằng văn bản của vợ chồng.',\n",
       "  'doc_id': '6bebc96e',\n",
       "  'law_title': 'Luật Hôn Nhân Và Gia Đình'},\n",
       " {'law_content': 'Vợ, chồng có nghĩa vụ tôn trọng, giữ gìn và bảo vệ danh dự, nhân phẩm, uy tín cho nhau. ',\n",
       "  'generated_question': 'Vợ chồng có nghĩa vụ gì trong việc bảo vệ danh dự và nhân phẩm của nhau theo Luật Hôn Nhân và Gia Đình?',\n",
       "  'rag_answer_llm': 'Người chồng và vợ có nghĩa vụ phải tôn trọng, bảo tồn và bảo vệ danh dự, nhân phẩm và danh tiếng lẫn nhau.',\n",
       "  'generated_answer': 'Vợ, chồng có nghĩa vụ tôn trọng, giữ gìn và bảo vệ danh dự, nhân phẩm, uy tín cho nhau.',\n",
       "  'doc_id': '8246899f',\n",
       "  'law_title': 'Luật Hôn Nhân Và Gia Đình'},\n",
       " {'law_content': '1. Cơ sở giáo dục thực hiện nhiệm vụ đào tạo, bồi dưỡng nhà giáo gồm trường sư phạm, cơ sở giáo dục có khoa sư phạm, cơ sở giáo dục được phép đào tạo, bồi dưỡng nhà giáo. 2. Cơ sở giáo dục thực hiện nhiệm vụ đào tạo, bồi dưỡng cán bộ quản lý giáo dục gồm trường sư phạm, cơ sở giáo dục đại học có khoa quản lý giáo dục, cơ sở giáo dục được phép đào tạo, bồi dưỡng cán bộ quản lý giáo dục. 3. Trường sư phạm do Nhà nước thành lập để đào tạo, bồi dưỡng nhà giáo, cán bộ quản lý giáo dục được ưu tiên trong việc tuyển dụng nhà giáo, bố trí cán bộ quản lý giáo dục, đầu tư xây dựng cơ sở vật chất, ký túc xá và bảo đảm kinh phí đào tạo. Trường sư phạm có trường thực hành hoặc cơ sở thực hành. 4. Bộ trưởng Bộ Giáo dục và Đào tạo, Bộ trưởng Bộ Lao động - Thương binh và Xã hội, trong phạm vi nhiệm vụ, quyền hạn của mình, quy định việc thực hiện nhiệm vụ đào tạo, bồi dưỡng, nhà giáo, cán bộ quản lý giáo dục và cơ sở giáo dục được phép đào tạo, bồi dưỡng nhà giáo, cán bộ quản lý giáo dục. Mục 4. CHÍNH SÁCH ĐỐI VỚI NHÀ GIÁO ',\n",
       "  'generated_question': 'Những cơ sở giáo dục nào được phép đào tạo và bồi dưỡng nhà giáo?',\n",
       "  'rag_answer_llm': 'Các tổ chức giáo dục được ủy quyền đào tạo và khuyến khích giáo viên bao gồm các trường sư phạm, các tổ chức giáo dục với các khoa sư phạm, tổ chức giáo dục được ủy quyền quản lý các trường, tổ chức giáo dục với các bộ phận quản lý giáo dục và các tổ chức giáo dục được ủy quyền đào tạo và khuyến khích giáo viên.',\n",
       "  'generated_answer': 'Các cơ sở giáo dục được phép đào tạo và bồi dưỡng nhà giáo bao gồm trường sư phạm, cơ sở giáo dục có khoa sư phạm, và các cơ sở giáo dục được phép đào tạo, bồi dưỡng nhà giáo.',\n",
       "  'doc_id': '3d81e63a',\n",
       "  'law_title': 'Luật Giáo Dục'},\n",
       " {'law_content': 'Việc xuất bản sách giáo khoa, giáo trình, tài liệu dạy học; sản xuất và cung ứng thiết bị dạy học, đồ chơi cho trẻ em trong cơ sở giáo dục mầm non; nhập khẩu sách, báo, tài liệu giảng dạy, học tập, thiết bị dạy học, thiết bị nghiên cứu dùng trong cơ sở giáo dục được Nhà nước ưu đãi về thuế theo quy định của pháp luật về thuế. ',\n",
       "  'generated_question': 'Những loại sản phẩm nào liên quan đến giáo dục được hưởng ưu đãi về thuế theo Luật Giáo Dục?',\n",
       "  'rag_answer_llm': 'Xuất bản sách giáo khoa, chương trình giảng dạy, tài liệu giáo dục, học tập, thiết bị giảng dạy và đồ chơi cho trẻ em của các tổ chức mầm non.',\n",
       "  'generated_answer': 'Theo Luật Giáo Dục, các sản phẩm được hưởng ưu đãi về thuế bao gồm sách giáo khoa, giáo trình, tài liệu dạy học; thiết bị dạy học, đồ chơi cho trẻ em trong cơ sở giáo dục mầm non; và các sách, báo, tài liệu giảng dạy, học tập, thiết bị dạy học, thiết bị nghiên cứu nhập khẩu dùng trong cơ sở giáo dục.',\n",
       "  'doc_id': '149f303c',\n",
       "  'law_title': 'Luật Giáo Dục'},\n",
       " {'law_content': '1. Giảng dạy, giáo dục theo mục tiêu, nguyên lý giáo dục, thực hiện đầy đủ và có chất lượng chương trình giáo dục. 2. Gương mẫu thực hiện nghĩa vụ công dân, điều lệ nhà trường, quy tắc ứng xử của nhà giáo. 3. Giữ gìn phẩm chất, uy tín, danh dự của nhà giáo; tôn trọng, đối xử công bằng với người học; bảo vệ các quyền, lợi ích chính đáng của người học. 4. Học tập, rèn luyện để nâng cao phẩm chất đạo đức, trình độ chính trị, chuyên môn, nghiệp vụ, đổi mới phương pháp giảng dạy, nêu gương tốt cho người học. ',\n",
       "  'generated_question': 'Nhà giáo có những nhiệm vụ gì theo Luật Giáo Dục?',\n",
       "  'rag_answer_llm': 'Giáo viên có các nhiệm vụ như thực hiện đầy đủ các mục tiêu và nguyên tắc giáo dục, quản lý các chương trình giáo dục, bảo vệ các quyền và lợi ích hợp pháp của học sinh, duy trì chất lượng của các chương trình giáo dục, quy định về học tập và thực hành để cải thiện phẩm chất đạo đức, chuyên môn và chuyên môn và đổi mới trong phương pháp giảng dạy.',\n",
       "  'generated_answer': 'Theo Luật Giáo Dục, nhà giáo có các nhiệm vụ sau: 1. Giảng dạy, giáo dục theo mục tiêu, nguyên lý giáo dục, thực hiện đầy đủ và có chất lượng chương trình giáo dục. 2. Gương mẫu thực hiện nghĩa vụ công dân, điều lệ nhà trường, quy tắc ứng xử của nhà giáo. 3. Giữ gìn phẩm chất, uy tín, danh dự của nhà giáo; tôn trọng, đối xử công bằng với người học; bảo vệ các quyền, lợi ích chính đáng của người học. 4. Học tập, rèn luyện để nâng cao phẩm chất đạo đức, trình độ chính trị, chuyên môn, nghiệp vụ, đổi mới phương pháp giảng dạy, nêu gương tốt cho người học.',\n",
       "  'doc_id': '115e68df',\n",
       "  'law_title': 'Luật Giáo Dục'},\n",
       " {'law_content': '1. Kiểm tra các điều kiện bảo đảm an toàn của xe trước khi khởi hành. 2. Có thái độ văn minh, lịch sự, hướng dẫn hành khách ngồi đúng nơi quy định. 3. Kiểm tra việc sắp xếp, chằng buộc hành lý, hàng hóa bảo đảm an toàn. 4. Có biện pháp bảo vệ tính mạng, sức khỏe, tài sản của hành khách đi xe, giữ gìn trật tự, vệ sinh trong xe. 5. Đóng cửa lên xuống của xe trước và trong khi xe chạy. ',\n",
       "  'generated_question': 'Người lái xe và nhân viên phục vụ trên xe ô tô vận tải hành khách có những trách nhiệm gì để đảm bảo an toàn cho hành khách?',\n",
       "  'rag_answer_llm': 'Trách nhiệm của các tài xế được kết nối với các hoạt động vận chuyển và phải được kết nối với thiết bị giám sát hành trình xe.',\n",
       "  'generated_answer': 'Người lái xe và nhân viên phục vụ trên xe ô tô vận tải hành khách có các trách nhiệm sau: 1. Kiểm tra các điều kiện bảo đảm an toàn của xe trước khi khởi hành. 2. Có thái độ văn minh, lịch sự, hướng dẫn hành khách ngồi đúng nơi quy định. 3. Kiểm tra việc sắp xếp, chằng buộc hành lý, hàng hóa bảo đảm an toàn. 4. Có biện pháp bảo vệ tính mạng, sức khỏe, tài sản của hành khách đi xe, giữ gìn trật tự, vệ sinh trong xe. 5. Đóng cửa lên xuống của xe trước và trong khi xe chạy.',\n",
       "  'doc_id': '9004be5b',\n",
       "  'law_title': 'Luật Giao Thông Đường Bộ'},\n",
       " {'law_content': '1. Những xe sau đây được quyền ưu tiên đi trước xe khác khi qua đường giao nhau từ bất kỳ hướng nào tới theo thứ tự: a) Xe chữa cháy đi làm nhiệm vụ; b) Xe quân sự, xe công an đi làm nhiệm vụ khẩn cấp, đoàn xe có xe cảnh sát dẫn đường; c) Xe cứu thương đang thực hiện nhiệm vụ cấp cứu; d) Xe hộ đê, xe đi làm nhiệm vụ khắc phục sự cố thiên tai, dịch bệnh hoặc xe đi làm nhiệm vụ trong tình trạng khẩn cấp theo quy định của pháp luật; đ) Đoàn xe tang. 2. Xe quy định tại các điểm a, b, c và d khoản 1 Điều này khi đi làm nhiệm vụ phải có tín hiệu còi, cờ, đèn theo quy định; không bị hạn chế tốc độ; được phép đi vào đường ngược chiều, các đường khác có thể đi được, kể cả khi có tín hiệu đèn đỏ và chỉ phải tuân theo chỉ dẫn của người điều khiển giao thông. Chính phủ quy định cụ thể tín hiệu của xe được quyền ưu tiên. 3. Khi có tín hiệu của xe được quyền ưu tiên, người tham gia giao thông phải nhanh chóng giảm tốc độ, tránh hoặc dừng lại sát lề đường bên phải để nhường đường. Không được gây cản trở xe được quyền ưu tiên. ',\n",
       "  'generated_question': 'Những loại xe nào được ưu tiên đi trước khi qua đường giao nhau?',\n",
       "  'rag_answer_llm': 'Phương tiện quân sự, cảnh sát cho các nhiệm vụ khẩn cấp, đoàn xe với xe cảnh sát, xe cứu thương, các phương tiện phục vụ để vượt qua các tình tiết thảm họa tự nhiên, dịch bệnh hoặc phương tiện đang phục vụ trong tình trạng khẩn cấp theo luật pháp.',\n",
       "  'generated_answer': 'Theo Luật Giao Thông Đường Bộ, các loại xe được ưu tiên đi trước khi qua đường giao nhau bao gồm: xe chữa cháy đi làm nhiệm vụ; xe quân sự, xe công an đi làm nhiệm vụ khẩn cấp, đoàn xe có xe cảnh sát dẫn đường; xe cứu thương đang thực hiện nhiệm vụ cấp cứu; xe hộ đê, xe đi làm nhiệm vụ khắc phục sự cố thiên tai, dịch bệnh hoặc xe đi làm nhiệm vụ trong tình trạng khẩn cấp theo quy định của pháp luật; và đoàn xe tang.',\n",
       "  'doc_id': 'c0f9feda',\n",
       "  'law_title': 'Luật Giao Thông Đường Bộ'},\n",
       " {'law_content': '1. Luật này có hiệu lực thi hành từ ngày 01 tháng 7 năm 2009. 2. Luật này thay thế Luật giao thông đường bộ ngày 29 tháng 6 năm 2001. ',\n",
       "  'generated_question': 'Luật Giao Thông Đường Bộ hiện tại có hiệu lực từ khi nào và thay thế luật nào?',\n",
       "  'rag_answer_llm': 'Luật giao thông đường bộ hiện hành sẽ có hiệu lực từ ngày 1 tháng 7 năm 2009 và luật thay thế là luật giao thông đường bộ ngày 29 tháng 6 năm 2001.',\n",
       "  'generated_answer': 'Luật Giao Thông Đường Bộ hiện tại có hiệu lực thi hành từ ngày 01 tháng 7 năm 2009 và thay thế Luật giao thông đường bộ ngày 29 tháng 6 năm 2001.',\n",
       "  'doc_id': '0c561b01',\n",
       "  'law_title': 'Luật Giao Thông Đường Bộ'},\n",
       " {'law_content': '1. Vợ, chồng bình đẳng với nhau về quyền, nghĩa vụ trong việc tạo lập, chiếm hữu, sử dụng, định đoạt tài sản chung; không phân biệt giữa lao động trong gia đình và lao động có thu nhập. 2. Vợ, chồng có nghĩa vụ bảo đảm điều kiện để đáp ứng nhu cầu thiết yếu của gia đình. 3. Việc thực hiện quyền, nghĩa vụ về tài sản của vợ chồng mà xâm phạm đến quyền, lợi ích hợp pháp của vợ, chồng, gia đình và của người khác thì phải bồi thường. ',\n",
       "  'generated_question': 'Vợ và chồng có quyền bình đẳng như thế nào trong việc quản lý tài sản chung?',\n",
       "  'rag_answer_llm': 'Bất kể công việc gia đình và công việc thu nhập.',\n",
       "  'generated_answer': 'Vợ và chồng bình đẳng với nhau về quyền, nghĩa vụ trong việc tạo lập, chiếm hữu, sử dụng, định đoạt tài sản chung; không phân biệt giữa lao động trong gia đình và lao động có thu nhập.',\n",
       "  'doc_id': '65242f61',\n",
       "  'law_title': 'Luật Hôn Nhân Và Gia Đình'},\n",
       " {'law_content': '1. Nhà nước thực hiện tuyển sinh vào trung cấp, cao đẳng, đại học theo chế độ cử tuyển đối với học sinh là người dân tộc thiểu số rất ít người; học sinh là người dân tộc thiểu số ở vùng có điều kiện kinh tế - xã hội đặc biệt khó khăn chưa có hoặc có rất ít cán bộ, công chức, viên chức là người dân tộc thiểu số; có chính sách tạo nguồn cử tuyển, tạo điều kiện thuận lợi để các đối tượng này vào học trường phổ thông dân tộc nội trú và tăng thời gian học dự bị đại học. 2. Ủy ban nhân dân cấp tỉnh căn cứ vào nhu cầu của địa phương đề xuất, phân bổ chỉ tiêu cử tuyển; cử người đi học theo tiêu chuẩn, chỉ tiêu được duyệt; xét tuyển và bố trí việc làm cho người học sau khi tốt nghiệp. Cơ sở giáo dục có trách nhiệm hỗ trợ cho người học theo chế độ cử tuyển để bảo đảm chất lượng đầu ra. 3. Người học theo chế độ cử tuyển có trách nhiệm trở về làm việc tại địa phương nơi cử đi học; được xét tuyển và bố trí việc làm. 4. Chính phủ quy định chi tiết tiêu chuẩn và đối tượng được hưởng chế độ cử tuyển; việc tổ chức thực hiện chế độ cử tuyển và việc tuyển dụng người học theo chế độ cử tuyển sau khi tốt nghiệp. ',\n",
       "  'generated_question': 'Ai là đối tượng được hưởng chế độ cử tuyển theo Luật Giáo Dục?',\n",
       "  'rag_answer_llm': 'Chủ đề cho sinh viên rất ít người dân tộc thiểu số.',\n",
       "  'generated_answer': 'Đối tượng được hưởng chế độ cử tuyển bao gồm học sinh là người dân tộc thiểu số rất ít người; học sinh là người dân tộc thiểu số ở vùng có điều kiện kinh tế - xã hội đặc biệt khó khăn chưa có hoặc có rất ít cán bộ, công chức, viên chức là người dân tộc thiểu số.',\n",
       "  'doc_id': 'f1594d18',\n",
       "  'law_title': 'Luật Giáo Dục'},\n",
       " {'law_content': '1. Hoạt động khoa học và công nghệ là một nhiệm vụ của cơ sở giáo dục. 2. Cơ sở giáo dục tự triển khai hoặc phối hợp với tổ chức khoa học và công nghệ, cơ sở sản xuất, kinh doanh, dịch vụ trong việc đào tạo, nghiên cứu khoa học và chuyển giao công nghệ, phục vụ phát triển kinh tế - xã hội. 3. Nhà nước tạo điều kiện cho cơ sở giáo dục hoạt động khoa học và công nghệ, kết hợp đào tạo với nghiên cứu khoa học và sản xuất nhằm nâng cao chất lượng giáo dục; xây dựng cơ sở giáo dục thành trung tâm văn hóa, khoa học và công nghệ của địa phương hoặc của cả nước. 4. Nhà nước có chính sách ưu tiên phát triển hoạt động khoa học và công nghệ trong cơ sở giáo dục. Các chủ trương, chính sách về giáo dục phải được xây dựng trên cơ sở kết quả nghiên cứu khoa học phù hợp với thực tiễn Việt Nam và xu hướng quốc tế. ',\n",
       "  'generated_question': 'Cơ sở giáo dục có trách nhiệm gì trong hoạt động khoa học và công nghệ theo Luật Giáo Dục?',\n",
       "  'rag_answer_llm': 'Các tổ chức giáo dục chịu trách nhiệm cho các hoạt động khoa học và công nghệ.',\n",
       "  'generated_answer': 'Theo Luật Giáo Dục, hoạt động khoa học và công nghệ là một nhiệm vụ của cơ sở giáo dục. Cơ sở giáo dục có thể tự triển khai hoặc phối hợp với tổ chức khoa học và công nghệ, cơ sở sản xuất, kinh doanh, dịch vụ trong việc đào tạo, nghiên cứu khoa học và chuyển giao công nghệ, phục vụ phát triển kinh tế - xã hội.',\n",
       "  'doc_id': '3f0e7c5a',\n",
       "  'law_title': 'Luật Giáo Dục'},\n",
       " {'law_content': '1. Cha mẹ có nghĩa vụ và quyền giáo dục con, chăm lo và tạo điều kiện cho con học tập. Cha mẹ tạo điều kiện cho con được sống trong môi trường gia đình đầm ấm, hòa thuận; làm gương tốt cho con về mọi mặt; phối hợp chặt chẽ với nhà trường, cơ quan, tổ chức trong việc giáo dục con. 2. Cha mẹ hướng dẫn con chọn nghề; tôn trọng quyền chọn nghề, quyền tham gia hoạt động chính trị, kinh tế, văn hóa, xã hội của con. 3. Cha mẹ có thể đề nghị cơ quan, tổ chức hữu quan giúp đỡ để thực hiện việc giáo dục con khi gặp khó khăn không thể tự giải quyết được. ',\n",
       "  'generated_question': 'Cha mẹ có những nghĩa vụ và quyền gì trong việc giáo dục con theo Luật Hôn Nhân và Gia Đình?',\n",
       "  'rag_answer_llm': '',\n",
       "  'generated_answer': 'Cha mẹ có nghĩa vụ và quyền giáo dục con, chăm lo và tạo điều kiện cho con học tập. Họ cần tạo điều kiện cho con được sống trong môi trường gia đình đầm ấm, hòa thuận; làm gương tốt cho con về mọi mặt; phối hợp chặt chẽ với nhà trường, cơ quan, tổ chức trong việc giáo dục con. Ngoài ra, cha mẹ còn hướng dẫn con chọn nghề và tôn trọng quyền chọn nghề, quyền tham gia hoạt động chính trị, kinh tế, văn hóa, xã hội của con.',\n",
       "  'doc_id': '39207ac4',\n",
       "  'law_title': 'Luật Hôn Nhân Và Gia Đình'},\n",
       " {'law_content': '1. Khi tham gia giao thông, xe thô sơ phải bảo đảm điều kiện an toàn giao thông đường bộ. 2. Ủy ban nhân dân cấp tỉnh quy định cụ thể điều kiện, phạm vi hoạt động của xe thô sơ tại địa phương mình. ',\n",
       "  'generated_question': 'Xe thô sơ cần đáp ứng những điều kiện gì khi tham gia giao thông?',\n",
       "  'rag_answer_llm': 'Các điều kiện cho những chiếc xe thô sơ để đáp ứng giao thông là đảm bảo rằng chúng phù hợp với các điều kiện an toàn của giao thông đường bộ.',\n",
       "  'generated_answer': 'Khi tham gia giao thông, xe thô sơ phải bảo đảm điều kiện an toàn giao thông đường bộ. Ủy ban nhân dân cấp tỉnh sẽ quy định cụ thể điều kiện và phạm vi hoạt động của xe thô sơ tại địa phương mình.',\n",
       "  'doc_id': '9d610d76',\n",
       "  'law_title': 'Luật Giao Thông Đường Bộ'},\n",
       " {'law_content': '1. Tài sản chung của vợ chồng gồm tài sản do vợ, chồng tạo ra, thu nhập do lao động, hoạt động sản xuất, kinh doanh, hoa lợi, lợi tức phát sinh từ tài sản riêng và thu nhập hợp pháp khác trong thời kỳ hôn nhân, trừ trường hợp được quy định tại khoản 1 Điều 40 của Luật này; tài sản mà vợ chồng được thừa kế chung hoặc được tặng cho chung và tài sản khác mà vợ chồng thỏa thuận là tài sản chung. Quyền sử dụng đất mà vợ, chồng có được sau khi kết hôn là tài sản chung của vợ chồng, trừ trường hợp vợ hoặc chồng được thừa kế riêng, được tặng cho riêng hoặc có được thông qua giao dịch bằng tài sản riêng. 2. Tài sản chung của vợ chồng thuộc sở hữu chung hợp nhất, được dùng để bảo đảm nhu cầu của gia đình, thực hiện nghĩa vụ chung của vợ chồng. 3. Trong trường hợp không có căn cứ để chứng minh tài sản mà vợ, chồng đang có tranh chấp là tài sản riêng của mỗi bên thì tài sản đó được coi là tài sản chung. ',\n",
       "  'generated_question': 'Tài sản chung của vợ chồng bao gồm những gì theo Luật Hôn Nhân và Gia Đình?',\n",
       "  'rag_answer_llm': 'Tài sản chung của cặp vợ chồng bao gồm quyền sở hữu của người phối ngẫu.',\n",
       "  'generated_answer': 'Tài sản chung của vợ chồng bao gồm tài sản do vợ, chồng tạo ra, thu nhập từ lao động, hoạt động sản xuất, kinh doanh, hoa lợi, lợi tức phát sinh từ tài sản riêng và thu nhập hợp pháp khác trong thời kỳ hôn nhân. Ngoài ra, tài sản mà vợ chồng được thừa kế chung, được tặng cho chung, và tài sản khác mà vợ chồng thỏa thuận là tài sản chung cũng thuộc tài sản chung. Quyền sử dụng đất mà vợ, chồng có được sau khi kết hôn cũng là tài sản chung, trừ trường hợp được thừa kế riêng, được tặng cho riêng hoặc có được thông qua giao dịch bằng tài sản riêng.',\n",
       "  'doc_id': '88ef4181',\n",
       "  'law_title': 'Luật Hôn Nhân Và Gia Đình'},\n",
       " {'law_content': '1. Cha dượng, mẹ kế có quyền và nghĩa vụ trông nom, nuôi dưỡng, chăm sóc, giáo dục con riêng của bên kia cùng sống chung với mình theo quy định tại các điều 69, 71 và 72 của Luật này. 2. Con riêng có quyền và nghĩa vụ chăm sóc, phụng dưỡng cha dượng, mẹ kế cùng sống chung với mình theo quy định tại Điều 70 và Điều 71 của Luật này. ',\n",
       "  'generated_question': 'Cha dượng, mẹ kế có quyền và nghĩa vụ gì đối với con riêng của vợ hoặc chồng mình?',\n",
       "  'rag_answer_llm': 'Người mẹ kế có quyền và nghĩa vụ chăm sóc, cho ăn, chăm sóc và giáo dục con riêng của họ để sống với cô như được quy định trong các điều 69, 71 và 72 của luật này.',\n",
       "  'generated_answer': 'Cha dượng, mẹ kế có quyền và nghĩa vụ trông nom, nuôi dưỡng, chăm sóc, giáo dục con riêng của bên kia cùng sống chung với mình theo quy định tại các điều 69, 71 và 72 của Luật Hôn Nhân Và Gia Đình.',\n",
       "  'doc_id': 'f523c4e4',\n",
       "  'law_title': 'Luật Hôn Nhân Và Gia Đình'},\n",
       " {'law_content': '1. Hệ thống giáo dục quốc dân là hệ thống giáo dục mở, liên thông gồm giáo dục chính quy và giáo dục thường xuyên. 2. Cấp học, trình độ đào tạo của hệ thống giáo dục quốc dân bao gồm: a) Giáo dục mầm non gồm giáo dục nhà trẻ và giáo dục mẫu giáo; b) Giáo dục phổ thông gồm giáo dục tiểu học, giáo dục trung học cơ sở và giáo dục trung học phổ thông; c) Giáo dục nghề nghiệp đào tạo trình độ sơ cấp, trình độ trung cấp, trình độ cao đẳng và các chương trình đào tạo nghề nghiệp khác; d) Giáo dục đại học đào tạo trình độ đại học, trình độ thạc sĩ và trình độ tiến sĩ. 3. Thủ tướng Chính phủ quyết định phê duyệt Khung cơ cấu hệ thống giáo dục quốc dân và Khung trình độ quốc gia Việt Nam; quy định thời gian đào tạo, tiêu chuẩn cho từng trình độ đào tạo, khối lượng học tập tối thiểu đối với trình độ của giáo dục nghề nghiệp, giáo dục đại học. 4. Bộ trưởng Bộ Giáo dục và Đào tạo, Bộ trưởng Bộ Lao động - Thương binh và Xã hội, trong phạm vi nhiệm vụ, quyền hạn của mình, quy định ngưỡng đầu vào trình độ cao đẳng, trình độ đại học thuộc ngành đào tạo giáo viên và ngành thuộc lĩnh vực sức khỏe. ',\n",
       "  'generated_question': 'Hệ thống giáo dục quốc dân Việt Nam bao gồm những cấp học và trình độ đào tạo nào?',\n",
       "  'rag_answer_llm': 'Hệ thống giáo dục quốc gia bao gồm một hệ thống giáo dục mở và kết nối giữa chất lượng giáo dục LIVASCO và hệ thống giáo dục quốc gia.',\n",
       "  'generated_answer': 'Hệ thống giáo dục quốc dân bao gồm các cấp học và trình độ đào tạo sau: giáo dục mầm non (gồm giáo dục nhà trẻ và giáo dục mẫu giáo), giáo dục phổ thông (gồm giáo dục tiểu học, giáo dục trung học cơ sở và giáo dục trung học phổ thông), giáo dục nghề nghiệp (đào tạo trình độ sơ cấp, trung cấp, cao đẳng và các chương trình đào tạo nghề nghiệp khác), và giáo dục đại học (đào tạo trình độ đại học, thạc sĩ và tiến sĩ).',\n",
       "  'doc_id': 'f01c46b4',\n",
       "  'law_title': 'Luật Giáo Dục'},\n",
       " {'law_content': '1. Vợ, chồng hoặc cả hai người có quyền yêu cầu Tòa án giải quyết ly hôn. 2. Cha, mẹ, người thân thích khác có quyền yêu cầu Tòa án giải quyết ly hôn khi một bên vợ, chồng do bị bệnh tâm thần hoặc mắc bệnh khác mà không thể nhận thức, làm chủ được hành vi của mình, đồng thời là nạn nhân của bạo lực gia đình do chồng, vợ của họ gây ra làm ảnh hưởng nghiêm trọng đến tính mạng, sức khỏe, tinh thần của họ. 3. Chồng không có quyền yêu cầu ly hôn trong trường hợp vợ đang có thai, sinh con hoặc đang nuôi con dưới 12 tháng tuổi. ',\n",
       "  'generated_question': 'Trong trường hợp nào chồng không có quyền yêu cầu ly hôn?',\n",
       "  'rag_answer_llm': 'Không, ly hôn không thể được yêu cầu trong mọi trường hợp.',\n",
       "  'generated_answer': 'Chồng không có quyền yêu cầu ly hôn trong trường hợp vợ đang có thai, sinh con hoặc đang nuôi con dưới 12 tháng tuổi.',\n",
       "  'doc_id': '7ad757e4',\n",
       "  'law_title': 'Luật Hôn Nhân Và Gia Đình'},\n",
       " {'law_content': '1. Chính phủ thống nhất quản lý nhà nước về giao thông đường bộ. 2. Bộ Giao thông vận tải chịu trách nhiệm trước Chính phủ thực hiện quản lý nhà nước về giao thông đường bộ. 3. Bộ Công an thực hiện các nhiệm vụ quản lý nhà nước về giao thông đường bộ theo quy định của Luật này và các quy định khác của pháp luật có liên quan; thực hiện các biện pháp bảo đảm trật tự, an toàn giao thông; phối hợp với Bộ Giao thông vận tải bảo vệ kết cấu hạ tầng giao thông đường bộ. Bộ Công an, Bộ Giao thông vận tải có trách nhiệm phối hợp trong việc cung cấp số liệu đăng ký phương tiện giao thông đường bộ, dữ liệu về tai nạn giao thông và cấp, đổi, thu hồi giấy phép lái xe. 4. Bộ Quốc phòng thực hiện các nhiệm vụ quản lý nhà nước về giao thông đường bộ theo quy định của Luật này và các quy định khác của pháp luật có liên quan. 5. Bộ, cơ quan ngang bộ trong phạm vi nhiệm vụ, quyền hạn của mình có trách nhiệm phối hợp với Bộ Giao thông vận tải thực hiện quản lý nhà nước về giao thông đường bộ. 6. Ủy ban nhân dân các cấp trong phạm vi nhiệm vụ, quyền hạn của mình tổ chức thực hiện quản lý nhà nước về giao thông đường bộ theo quy định của Luật này và các quy định khác của pháp luật có liên quan trong phạm vi địa phương. ',\n",
       "  'generated_question': 'Ai là cơ quan chịu trách nhiệm chính trong việc quản lý nhà nước về giao thông đường bộ?',\n",
       "  'rag_answer_llm': 'Chính phủ',\n",
       "  'generated_answer': 'Bộ Giao thông vận tải chịu trách nhiệm trước Chính phủ thực hiện quản lý nhà nước về giao thông đường bộ. Bộ Công an và Bộ Quốc phòng cũng thực hiện các nhiệm vụ quản lý nhà nước về giao thông đường bộ theo quy định của Luật này và các quy định khác của pháp luật có liên quan.',\n",
       "  'doc_id': 'f7febb2b',\n",
       "  'law_title': 'Luật Giao Thông Đường Bộ'},\n",
       " {'law_content': 'Đoàn thể, tổ chức xã hội trong nhà trường có trách nhiệm góp phần thực hiện mục tiêu giáo dục và hoạt động theo quy định của pháp luật. ',\n",
       "  'generated_question': 'Đoàn thể, tổ chức xã hội trong nhà trường có trách nhiệm gì theo Luật Giáo Dục?',\n",
       "  'rag_answer_llm': 'Các tổ chức xã hội có trách nhiệm và các tổ chức xã hội trong trường chịu trách nhiệm đóng góp cho việc thực hiện các mục tiêu giáo dục và hoạt động theo luật pháp.',\n",
       "  'generated_answer': 'Đoàn thể, tổ chức xã hội trong nhà trường có trách nhiệm góp phần thực hiện mục tiêu giáo dục và hoạt động theo quy định của pháp luật.',\n",
       "  'doc_id': '6dab4f3e',\n",
       "  'law_title': 'Luật Giáo Dục'},\n",
       " {'law_content': '1. Hướng nghiệp trong giáo dục là hệ thống các biện pháp tiến hành trong và ngoài cơ sở giáo dục để giúp học sinh có kiến thức về nghề nghiệp, khả năng lựa chọn nghề nghiệp trên cơ sở kết hợp nguyện vọng, sở trường của cá nhân với nhu cầu sử dụng lao động của xã hội. 2. Phân luồng trong giáo dục là biện pháp tổ chức hoạt động giáo dục trên cơ sở thực hiện hướng nghiệp trong giáo dục, tạo điều kiện để học sinh tốt nghiệp trung học cơ sở, trung học phổ thông tiếp tục học ở cấp học, trình độ cao hơn hoặc theo học giáo dục nghề nghiệp hoặc tham gia lao động phù hợp với năng lực, điều kiện cụ thể của cá nhân và nhu cầu xã hội, góp phần điều tiết cơ cấu ngành nghề của lực lượng lao động phù hợp với yêu cầu phát triển của đất nước. 3. Chính phủ quy định chi tiết hướng nghiệp và phân luồng trong giáo dục theo từng giai đoạn phù hợp với nhu cầu phát triển kinh tế - xã hội. ',\n",
       "  'generated_question': 'Hướng nghiệp trong giáo dục là gì và nó có vai trò như thế nào đối với học sinh?',\n",
       "  'rag_answer_llm': 'Sự nghiệp trong giáo dục là quá trình phát triển giáo dục, nơi những người trẻ tuổi tích cực tham gia để xây dựng một công ty học tập.',\n",
       "  'generated_answer': 'Hướng nghiệp trong giáo dục là hệ thống các biện pháp tiến hành trong và ngoài cơ sở giáo dục để giúp học sinh có kiến thức về nghề nghiệp, khả năng lựa chọn nghề nghiệp trên cơ sở kết hợp nguyện vọng, sở trường của cá nhân với nhu cầu sử dụng lao động của xã hội.',\n",
       "  'doc_id': 'a8c67f16',\n",
       "  'law_title': 'Luật Giáo Dục'},\n",
       " {'law_content': '1. Người kinh doanh vận tải hàng hóa có các quyền sau đây: a) Yêu cầu người thuê vận tải cung cấp thông tin cần thiết về hàng hóa để ghi vào giấy vận chuyển và có quyền kiểm tra tính xác thực của thông tin đó; b) Yêu cầu người thuê vận tải thanh toán đủ cước, phí vận tải và chi phí phát sinh; yêu cầu người thuê vận tải bồi thường thiệt hại do vi phạm thỏa thuận trong hợp đồng; c) Từ chối vận chuyển nếu người thuê vận tải không giao hàng hóa theo thỏa thuận trong hợp đồng; d) Yêu cầu giám định hàng hóa khi cần thiết. 2. Người kinh doanh vận tải hàng hóa có các nghĩa vụ sau đây: a) Cung cấp phương tiện đúng loại, thời gian, địa điểm và giao hàng hóa cho người nhận hàng theo thỏa thuận trong hợp đồng; b) Hướng dẫn xếp, dỡ hàng hóa trên phương tiện; c) Bồi thường thiệt hại cho người thuê vận tải do mất mát, hư hỏng hàng hóa xảy ra trong quá trình vận tải từ lúc nhận hàng đến lúc giao hàng, trừ trường hợp miễn bồi thường thiệt hại theo quy định của pháp luật; d) Bồi thường thiệt hại do người làm công, người đại diện gây ra trong khi thực hiện công việc được người kinh doanh vận tải giao; đ) Chịu trách nhiệm về hậu quả mà người làm công, người đại diện gây ra do thực hiện yêu cầu của người kinh doanh vận tải trái quy định của Luật này. 3. Chính phủ quy định giới hạn trách nhiệm của người kinh doanh vận tải hàng hóa. ',\n",
       "  'generated_question': 'Người kinh doanh vận tải hàng hóa có quyền gì khi người thuê vận tải không giao hàng theo thỏa thuận trong hợp đồng?',\n",
       "  'rag_answer_llm': 'Quyền vận chuyển hàng hóa',\n",
       "  'generated_answer': 'Người kinh doanh vận tải hàng hóa có quyền từ chối vận chuyển nếu người thuê vận tải không giao hàng hóa theo thỏa thuận trong hợp đồng.',\n",
       "  'doc_id': 'e2799572',\n",
       "  'law_title': 'Luật Giao Thông Đường Bộ'},\n",
       " {'law_content': '1. Xây dựng quy hoạch, kế hoạch và chính sách phát triển giao thông đường bộ; xây dựng và chỉ đạo thực hiện chương trình quốc gia về an toàn giao thông đường bộ. 2. Ban hành và tổ chức thực hiện các văn bản quy phạm pháp luật về giao thông đường bộ; quy chuẩn, tiêu chuẩn về giao thông đường bộ. 3. Tuyên truyền, phổ biến, giáo dục pháp luật về giao thông đường bộ. 4. Tổ chức quản lý, bảo trì, bảo vệ kết cấu hạ tầng giao thông đường bộ. 5. Đăng ký, cấp, thu hồi biển số phương tiện giao thông đường bộ; cấp, thu hồi giấy chứng nhận chất lượng, an toàn kỹ thuật và bảo vệ môi trường của phương tiện giao thông đường bộ. 6. Quản lý đào tạo, sát hạch lái xe; cấp, đổi, thu hồi giấy phép lái xe, chứng chỉ bồi dưỡng kiến thức pháp luật về giao thông đường bộ 7. Quản lý hoạt động vận tải và dịch vụ hỗ trợ vận tải; tổ chức cứu nạn giao thông đường bộ. 8. Tổ chức nghiên cứu, ứng dụng khoa học và công nghệ về giao thông đường bộ; đào tạo cán bộ và công nhân kỹ thuật giao thông đường bộ. 9. Kiểm tra, thanh tra, giải quyết khiếu nại, tố cáo; xử lý vi phạm pháp luật về giao thông đường bộ. 10. Hợp tác quốc tế về giao thông đường bộ. ',\n",
       "  'generated_question': 'Nhà nước có trách nhiệm gì trong việc quản lý và bảo trì kết cấu hạ tầng giao thông đường bộ?',\n",
       "  'rag_answer_llm': 'Tình trạng cơ sở hạ tầng giao thông đường bộ chịu trách nhiệm cho Bộ Giao thông vận tải.',\n",
       "  'generated_answer': 'Nhà nước có trách nhiệm tổ chức quản lý, bảo trì, bảo vệ kết cấu hạ tầng giao thông đường bộ, bao gồm việc xây dựng quy hoạch, kế hoạch và chính sách phát triển giao thông đường bộ, cũng như thực hiện các chương trình quốc gia về an toàn giao thông đường bộ.',\n",
       "  'doc_id': 'd2166e14',\n",
       "  'law_title': 'Luật Giao Thông Đường Bộ'},\n",
       " {'law_content': 'Nhà nước và xã hội khuyến khích việc hòa giải ở cơ sở khi vợ, chồng có yêu cầu ly hôn. Việc hòa giải được thực hiện theo quy định của pháp luật về hòa giải ở cơ sở. ',\n",
       "  'generated_question': 'Nhà nước có khuyến khích việc hòa giải khi vợ chồng có yêu cầu ly hôn không?',\n",
       "  'rag_answer_llm': 'Có, nhà nước khuyến khích hòa giải khi cặp vợ chồng yêu cầu ly hôn, như được chỉ ra trong tài liệu 1.',\n",
       "  'generated_answer': 'Nhà nước và xã hội khuyến khích việc hòa giải ở cơ sở khi vợ, chồng có yêu cầu ly hôn. Việc hòa giải được thực hiện theo quy định của pháp luật về hòa giải ở cơ sở.',\n",
       "  'doc_id': '3f2a4a4d',\n",
       "  'law_title': 'Luật Hôn Nhân Và Gia Đình'},\n",
       " {'law_content': '1. Một xe ô tô chỉ được kéo theo một xe ô tô hoặc xe máy chuyên dùng khác khi xe này không tự chạy được và phải bảo đảm các quy định sau đây: a) Xe được kéo phải có người điều khiển và hệ thống lái của xe đó phải còn hiệu lực; b) Việc nối xe kéo với xe được kéo phải bảo đảm chắc chắn, an toàn; trường hợp hệ thống hãm của xe được kéo không còn hiệu lực thì xe kéo nhau phải nối bằng thanh nối cứng; c) Phía trước của xe kéo và phía sau của xe được kéo phải có biển báo hiệu. 2. Xe kéo rơ moóc phải có tổng trọng lượng lớn hơn tổng trọng lượng của rơ moóc hoặc phải có hệ thống hãm có hiệu lực cho rơ moóc. 3. Không được thực hiện các hành vi sau đây: a) Xe kéo rơ moóc, xe kéo sơ mi rơ moóc kéo thêm rơ moóc hoặc xe khác; b) Chở người trên xe được kéo; c) Kéo theo xe thô sơ, xe gắn máy, xe mô tô. ',\n",
       "  'generated_question': 'Khi nào một xe ô tô được phép kéo theo một xe ô tô hoặc xe máy chuyên dùng khác?',\n",
       "  'rag_answer_llm': 'Khi không thể đảm bảo rằng chiếc xe hoạt động chính xác.',\n",
       "  'generated_answer': 'Một xe ô tô chỉ được kéo theo một xe ô tô hoặc xe máy chuyên dùng khác khi xe này không tự chạy được và phải bảo đảm các quy định sau: xe được kéo phải có người điều khiển và hệ thống lái của xe đó phải còn hiệu lực; việc nối xe kéo với xe được kéo phải bảo đảm chắc chắn, an toàn; phía trước của xe kéo và phía sau của xe được kéo phải có biển báo hiệu.',\n",
       "  'doc_id': 'd638a752',\n",
       "  'law_title': 'Luật Giao Thông Đường Bộ'},\n",
       " {'law_content': 'Luật này quy định chế độ hôn nhân và gia đình; chuẩn mực pháp lý cho cách ứng xử giữa các thành viên gia đình; trách nhiệm của cá nhân, tổ chức, Nhà nước và xã hội trong việc xây dựng, củng cố chế độ hôn nhân và gia đình. ',\n",
       "  'generated_question': 'Luật Hôn Nhân Và Gia Đình điều chỉnh những vấn đề gì?',\n",
       "  'rag_answer_llm': 'Các vấn đề về hôn nhân và luật gia đình bao gồm hôn nhân tự nguyện và tiến bộ, xây dựng một gia đình thịnh vượng, bảo vệ và chăm sóc trẻ em, người già và người khuyết tật, kế hoạch hóa gia đình, thực hiện các quyền của hôn nhân và gia đình, trách nhiệm đối với chức năng và thúc đẩy truyền thống văn hóa và đạo đức tốt của quốc gia, và thúc đẩy niềm tin và giá trị.',\n",
       "  'generated_answer': 'Luật này quy định chế độ hôn nhân và gia đình; chuẩn mực pháp lý cho cách ứng xử giữa các thành viên gia đình; trách nhiệm của cá nhân, tổ chức, Nhà nước và xã hội trong việc xây dựng, củng cố chế độ hôn nhân và gia đình.',\n",
       "  'doc_id': '424554a8',\n",
       "  'law_title': 'Luật Hôn Nhân Và Gia Đình'},\n",
       " {'law_content': '1. Việc mang thai hộ vì mục đích nhân đạo phải được thực hiện trên cơ sở tự nguyện của các bên và được lập thành văn bản. 2. Vợ chồng có quyền nhờ người mang thai hộ khi có đủ các điều kiện sau đây: a) Có xác nhận của tổ chức y tế có thẩm quyền về việc người vợ không thể mang thai và sinh con ngay cả khi áp dụng kỹ thuật hỗ trợ sinh sản; b) Vợ chồng đang không có con chung; c) Đã được tư vấn về y tế, pháp lý, tâm lý. 3. Người được nhờ mang thai hộ phải có đủ các điều kiện sau đây: a) Là người thân thích cùng hàng của bên vợ hoặc bên chồng nhờ mang thai hộ; b) Đã từng sinh con và chỉ được mang thai hộ một lần; c) Ở độ tuổi phù hợp và có xác nhận của tổ chức y tế có thẩm quyền về khả năng mang thai hộ; d) Trường hợp người phụ nữ mang thai hộ có chồng thì phải có sự đồng ý bằng văn bản của người chồng; đ) Đã được tư vấn về y tế, pháp lý, tâm lý. 4. Việc mang thai hộ vì mục đích nhân đạo không được trái với quy định của pháp luật về sinh con bằng kỹ thuật hỗ trợ sinh sản. 5. Chính phủ quy định chi tiết Điều này. ',\n",
       "  'generated_question': 'Điều kiện để một cặp vợ chồng được nhờ người mang thai hộ vì mục đích nhân đạo là gì?',\n",
       "  'rag_answer_llm': 'Làm mẹ thay thế cho mục đích nhân đạo được thực hiện trên cơ sở các phần tự nguyện và bằng văn bản.',\n",
       "  'generated_answer': 'Vợ chồng có quyền nhờ người mang thai hộ khi có đủ các điều kiện sau: 1) Có xác nhận của tổ chức y tế có thẩm quyền về việc người vợ không thể mang thai và sinh con ngay cả khi áp dụng kỹ thuật hỗ trợ sinh sản; 2) Vợ chồng đang không có con chung; 3) Đã được tư vấn về y tế, pháp lý, tâm lý.',\n",
       "  'doc_id': '04868edf',\n",
       "  'law_title': 'Luật Hôn Nhân Và Gia Đình'},\n",
       " {'law_content': '1. Cha mẹ là người đại diện theo pháp luật của con chưa thành niên, con đã thành niên mất năng lực hành vi dân sự, trừ trường hợp con có người khác làm giám hộ hoặc có người khác đại diện theo pháp luật. 2. Cha hoặc mẹ có quyền tự mình thực hiện giao dịch nhằm đáp ứng nhu cầu thiết yếu của con chưa thành niên, con đã thành niên mất năng lực hành vi dân sự hoặc không có khả năng lao động và không có tài sản để tự nuôi mình. 3. Đối với giao dịch liên quan đến tài sản là bất động sản, động sản có đăng ký quyền sở hữu, quyền sử dụng, tài sản đưa vào kinh doanh của con chưa thành niên, con đã thành niên mất năng lực hành vi dân sự thì phải có sự thỏa thuận của cha mẹ. 4. Cha, mẹ phải chịu trách nhiệm liên đới về việc thực hiện giao dịch liên quan đến tài sản của con được quy định tại khoản 2 và khoản 3 Điều này và theo quy định của Bộ luật dân sự. ',\n",
       "  'generated_question': 'Cha mẹ có quyền tự mình thực hiện giao dịch tài sản của con chưa thành niên không?',\n",
       "  'rag_answer_llm': 'Vâng, cha mẹ có quyền thực hiện một giao dịch thuộc sở hữu của một đứa trẻ vị thành niên.',\n",
       "  'generated_answer': 'Cha hoặc mẹ có quyền tự mình thực hiện giao dịch nhằm đáp ứng nhu cầu thiết yếu của con chưa thành niên, con đã thành niên mất năng lực hành vi dân sự hoặc không có khả năng lao động và không có tài sản để tự nuôi mình. Tuy nhiên, đối với giao dịch liên quan đến tài sản là bất động sản, động sản có đăng ký quyền sở hữu, quyền sử dụng, tài sản đưa vào kinh doanh của con chưa thành niên, con đã thành niên mất năng lực hành vi dân sự thì phải có sự thỏa thuận của cha mẹ.',\n",
       "  'doc_id': 'dc292a9c',\n",
       "  'law_title': 'Luật Hôn Nhân Và Gia Đình'},\n",
       " {'law_content': 'Vợ, chồng có nghĩa vụ tôn trọng quyền tự do tín ngưỡng, tôn giáo của nhau. ',\n",
       "  'generated_question': 'Vợ chồng có nghĩa vụ gì đối với quyền tự do tín ngưỡng, tôn giáo của nhau theo Luật Hôn Nhân và Gia Đình?',\n",
       "  'rag_answer_llm': 'Các nghĩa vụ cho tự do của niềm tin và tôn giáo lẫn nhau được pháp luật tôn trọng và bảo vệ.',\n",
       "  'generated_answer': 'Vợ, chồng có nghĩa vụ tôn trọng quyền tự do tín ngưỡng, tôn giáo của nhau.',\n",
       "  'doc_id': 'c8a7e8e1',\n",
       "  'law_title': 'Luật Hôn Nhân Và Gia Đình'},\n",
       " {'law_content': '1. Tài sản riêng của vợ, chồng gồm tài sản mà mỗi người có trước khi kết hôn; tài sản được thừa kế riêng, được tặng cho riêng trong thời kỳ hôn nhân; tài sản được chia riêng cho vợ, chồng theo quy định tại các điều 38, 39 và 40 của Luật này; tài sản phục vụ nhu cầu thiết yếu của vợ, chồng và tài sản khác mà theo quy định của pháp luật thuộc sở hữu riêng của vợ, chồng. 2. Tài sản được hình thành từ tài sản riêng của vợ, chồng cũng là tài sản riêng của vợ, chồng. Hoa lợi, lợi tức phát sinh từ tài sản riêng trong thời kỳ hôn nhân được thực hiện theo quy định tại khoản 1 Điều 33 và khoản 1 Điều 40 của Luật này. ',\n",
       "  'generated_question': 'Tài sản nào được coi là tài sản riêng của vợ hoặc chồng theo Luật Hôn Nhân Và Gia Đình?',\n",
       "  'rag_answer_llm': 'Tài sản chất lượng được coi là một tài sản riêng của vợ chồng theo luật hôn nhân và thỏa thuận hôn nhân.',\n",
       "  'generated_answer': 'Tài sản riêng của vợ, chồng gồm tài sản mà mỗi người có trước khi kết hôn; tài sản được thừa kế riêng, được tặng cho riêng trong thời kỳ hôn nhân; tài sản được chia riêng cho vợ, chồng theo quy định tại các điều 38, 39 và 40 của Luật này; tài sản phục vụ nhu cầu thiết yếu của vợ, chồng và tài sản khác mà theo quy định của pháp luật thuộc sở hữu riêng của vợ, chồng.',\n",
       "  'doc_id': '48bc6ff9',\n",
       "  'law_title': 'Luật Hôn Nhân Và Gia Đình'}]"
      ]
     },
     "execution_count": 60,
     "metadata": {},
     "output_type": "execute_result"
    }
   ],
   "source": [
    "results_mamba_qa"
   ]
  },
  {
   "cell_type": "code",
   "execution_count": 61,
   "id": "3d68aec3-c05f-447d-9795-eb6c82c439ae",
   "metadata": {},
   "outputs": [],
   "source": [
    "import pandas as pd"
   ]
  },
  {
   "cell_type": "code",
   "execution_count": 62,
   "id": "141bf0e3-b25d-474f-a633-53d4189daf77",
   "metadata": {},
   "outputs": [
    {
     "data": {
      "text/html": [
       "<div>\n",
       "<style scoped>\n",
       "    .dataframe tbody tr th:only-of-type {\n",
       "        vertical-align: middle;\n",
       "    }\n",
       "\n",
       "    .dataframe tbody tr th {\n",
       "        vertical-align: top;\n",
       "    }\n",
       "\n",
       "    .dataframe thead th {\n",
       "        text-align: right;\n",
       "    }\n",
       "</style>\n",
       "<table border=\"1\" class=\"dataframe\">\n",
       "  <thead>\n",
       "    <tr style=\"text-align: right;\">\n",
       "      <th></th>\n",
       "      <th>law_content</th>\n",
       "      <th>generated_question</th>\n",
       "      <th>rag_answer_llm</th>\n",
       "      <th>generated_answer</th>\n",
       "    </tr>\n",
       "  </thead>\n",
       "  <tbody>\n",
       "    <tr>\n",
       "      <th>0</th>\n",
       "      <td>Cơ sở giáo dục mầm non bao gồm: 1. Nhà trẻ, nh...</td>\n",
       "      <td>Các loại hình cơ sở giáo dục mầm non được quy ...</td>\n",
       "      <td>Các loại của Viện giáo dục được quy định là: T...</td>\n",
       "      <td>Cơ sở giáo dục mầm non bao gồm: 1. Nhà trẻ, nh...</td>\n",
       "    </tr>\n",
       "    <tr>\n",
       "      <th>1</th>\n",
       "      <td>1. Việc ly hôn giữa công dân Việt Nam với ngườ...</td>\n",
       "      <td>Nếu tôi là công dân Việt Nam kết hôn với người...</td>\n",
       "      <td>Việc ly hôn giữa người Việt Nam và người nước ...</td>\n",
       "      <td>Việc ly hôn giữa công dân Việt Nam với người n...</td>\n",
       "    </tr>\n",
       "    <tr>\n",
       "      <th>2</th>\n",
       "      <td>1. Cô, dì, chú, cậu, bác ruột không sống chung...</td>\n",
       "      <td>Khi nào cô, dì, chú, cậu, bác ruột có nghĩa vụ...</td>\n",
       "      <td>Khi bạn là những đứa cháu nhỏ hoặc nhỏ, không ...</td>\n",
       "      <td>Cô, dì, chú, cậu, bác ruột không sống chung vớ...</td>\n",
       "    </tr>\n",
       "    <tr>\n",
       "      <th>3</th>\n",
       "      <td>1. Người tham gia giao thông phải chấp hành hi...</td>\n",
       "      <td>Tại nơi có cả biển báo hiệu cố định và báo hiệ...</td>\n",
       "      <td>Ở nơi có nhà điều hành giao thông, những người...</td>\n",
       "      <td>Tại nơi có biển báo hiệu cố định lại có báo hi...</td>\n",
       "    </tr>\n",
       "    <tr>\n",
       "      <th>4</th>\n",
       "      <td>1. Xe xin vượt phải có báo hiệu bằng đèn hoặc ...</td>\n",
       "      <td>Khi nào tôi được phép vượt xe bên phải thay vì...</td>\n",
       "      <td>Ở các khu vực đô thị và các khu vực đông dân c...</td>\n",
       "      <td>Bạn được phép vượt xe bên phải trong các trườn...</td>\n",
       "    </tr>\n",
       "    <tr>\n",
       "      <th>...</th>\n",
       "      <td>...</td>\n",
       "      <td>...</td>\n",
       "      <td>...</td>\n",
       "      <td>...</td>\n",
       "    </tr>\n",
       "    <tr>\n",
       "      <th>96</th>\n",
       "      <td>Luật này quy định chế độ hôn nhân và gia đình;...</td>\n",
       "      <td>Luật Hôn Nhân Và Gia Đình điều chỉnh những vấn...</td>\n",
       "      <td>Các vấn đề về hôn nhân và luật gia đình bao gồ...</td>\n",
       "      <td>Luật này quy định chế độ hôn nhân và gia đình;...</td>\n",
       "    </tr>\n",
       "    <tr>\n",
       "      <th>97</th>\n",
       "      <td>1. Việc mang thai hộ vì mục đích nhân đạo phải...</td>\n",
       "      <td>Điều kiện để một cặp vợ chồng được nhờ người m...</td>\n",
       "      <td>Làm mẹ thay thế cho mục đích nhân đạo được thự...</td>\n",
       "      <td>Vợ chồng có quyền nhờ người mang thai hộ khi c...</td>\n",
       "    </tr>\n",
       "    <tr>\n",
       "      <th>98</th>\n",
       "      <td>1. Cha mẹ là người đại diện theo pháp luật của...</td>\n",
       "      <td>Cha mẹ có quyền tự mình thực hiện giao dịch tà...</td>\n",
       "      <td>Vâng, cha mẹ có quyền thực hiện một giao dịch ...</td>\n",
       "      <td>Cha hoặc mẹ có quyền tự mình thực hiện giao dị...</td>\n",
       "    </tr>\n",
       "    <tr>\n",
       "      <th>99</th>\n",
       "      <td>Vợ, chồng có nghĩa vụ tôn trọng quyền tự do tí...</td>\n",
       "      <td>Vợ chồng có nghĩa vụ gì đối với quyền tự do tí...</td>\n",
       "      <td>Các nghĩa vụ cho tự do của niềm tin và tôn giá...</td>\n",
       "      <td>Vợ, chồng có nghĩa vụ tôn trọng quyền tự do tí...</td>\n",
       "    </tr>\n",
       "    <tr>\n",
       "      <th>100</th>\n",
       "      <td>1. Tài sản riêng của vợ, chồng gồm tài sản mà ...</td>\n",
       "      <td>Tài sản nào được coi là tài sản riêng của vợ h...</td>\n",
       "      <td>Tài sản chất lượng được coi là một tài sản riê...</td>\n",
       "      <td>Tài sản riêng của vợ, chồng gồm tài sản mà mỗi...</td>\n",
       "    </tr>\n",
       "  </tbody>\n",
       "</table>\n",
       "<p>101 rows × 4 columns</p>\n",
       "</div>"
      ],
      "text/plain": [
       "                                           law_content  \\\n",
       "0    Cơ sở giáo dục mầm non bao gồm: 1. Nhà trẻ, nh...   \n",
       "1    1. Việc ly hôn giữa công dân Việt Nam với ngườ...   \n",
       "2    1. Cô, dì, chú, cậu, bác ruột không sống chung...   \n",
       "3    1. Người tham gia giao thông phải chấp hành hi...   \n",
       "4    1. Xe xin vượt phải có báo hiệu bằng đèn hoặc ...   \n",
       "..                                                 ...   \n",
       "96   Luật này quy định chế độ hôn nhân và gia đình;...   \n",
       "97   1. Việc mang thai hộ vì mục đích nhân đạo phải...   \n",
       "98   1. Cha mẹ là người đại diện theo pháp luật của...   \n",
       "99   Vợ, chồng có nghĩa vụ tôn trọng quyền tự do tí...   \n",
       "100  1. Tài sản riêng của vợ, chồng gồm tài sản mà ...   \n",
       "\n",
       "                                    generated_question  \\\n",
       "0    Các loại hình cơ sở giáo dục mầm non được quy ...   \n",
       "1    Nếu tôi là công dân Việt Nam kết hôn với người...   \n",
       "2    Khi nào cô, dì, chú, cậu, bác ruột có nghĩa vụ...   \n",
       "3    Tại nơi có cả biển báo hiệu cố định và báo hiệ...   \n",
       "4    Khi nào tôi được phép vượt xe bên phải thay vì...   \n",
       "..                                                 ...   \n",
       "96   Luật Hôn Nhân Và Gia Đình điều chỉnh những vấn...   \n",
       "97   Điều kiện để một cặp vợ chồng được nhờ người m...   \n",
       "98   Cha mẹ có quyền tự mình thực hiện giao dịch tà...   \n",
       "99   Vợ chồng có nghĩa vụ gì đối với quyền tự do tí...   \n",
       "100  Tài sản nào được coi là tài sản riêng của vợ h...   \n",
       "\n",
       "                                        rag_answer_llm  \\\n",
       "0    Các loại của Viện giáo dục được quy định là: T...   \n",
       "1    Việc ly hôn giữa người Việt Nam và người nước ...   \n",
       "2    Khi bạn là những đứa cháu nhỏ hoặc nhỏ, không ...   \n",
       "3    Ở nơi có nhà điều hành giao thông, những người...   \n",
       "4    Ở các khu vực đô thị và các khu vực đông dân c...   \n",
       "..                                                 ...   \n",
       "96   Các vấn đề về hôn nhân và luật gia đình bao gồ...   \n",
       "97   Làm mẹ thay thế cho mục đích nhân đạo được thự...   \n",
       "98   Vâng, cha mẹ có quyền thực hiện một giao dịch ...   \n",
       "99   Các nghĩa vụ cho tự do của niềm tin và tôn giá...   \n",
       "100  Tài sản chất lượng được coi là một tài sản riê...   \n",
       "\n",
       "                                      generated_answer  \n",
       "0    Cơ sở giáo dục mầm non bao gồm: 1. Nhà trẻ, nh...  \n",
       "1    Việc ly hôn giữa công dân Việt Nam với người n...  \n",
       "2    Cô, dì, chú, cậu, bác ruột không sống chung vớ...  \n",
       "3    Tại nơi có biển báo hiệu cố định lại có báo hi...  \n",
       "4    Bạn được phép vượt xe bên phải trong các trườn...  \n",
       "..                                                 ...  \n",
       "96   Luật này quy định chế độ hôn nhân và gia đình;...  \n",
       "97   Vợ chồng có quyền nhờ người mang thai hộ khi c...  \n",
       "98   Cha hoặc mẹ có quyền tự mình thực hiện giao dị...  \n",
       "99   Vợ, chồng có nghĩa vụ tôn trọng quyền tự do tí...  \n",
       "100  Tài sản riêng của vợ, chồng gồm tài sản mà mỗi...  \n",
       "\n",
       "[101 rows x 4 columns]"
      ]
     },
     "execution_count": 62,
     "metadata": {},
     "output_type": "execute_result"
    }
   ],
   "source": [
    "df_mamba_qa = pd.read_csv(\"./DeepMount00_mamba_790_hf_qa.csv\")\n",
    "df_mamba_qa"
   ]
  },
  {
   "cell_type": "markdown",
   "id": "67827816-f598-41c9-9bee-b312e117a32a",
   "metadata": {},
   "source": [
    "## Cosine similarity\n",
    "\n",
    "A->Q->A' cosine similarity\n",
    "\n",
    "A -> Q -> A'\n",
    "\n",
    "cosine(A, A')\n",
    "\n",
    "### DeepMount00/mamba_790_hf_qa"
   ]
  },
  {
   "cell_type": "code",
   "execution_count": 63,
   "id": "2af96a0d-627a-4f32-9965-c90ba542d65c",
   "metadata": {},
   "outputs": [],
   "source": [
    "results_mamba_qa = df_mamba_qa.to_dict(orient='records')"
   ]
  },
  {
   "cell_type": "code",
   "execution_count": 64,
   "id": "e8bfb5a3-06da-4459-bbc4-eed5ed1a84ce",
   "metadata": {},
   "outputs": [
    {
     "data": {
      "text/plain": [
       "{'law_content': 'Cơ sở giáo dục mầm non bao gồm: 1. Nhà trẻ, nhóm trẻ độc lập nhận trẻ em từ 03 tháng tuổi đến 03 tuổi; 2. Trường mẫu giáo, lớp mẫu giáo độc lập nhận trẻ em từ 03 tuổi đến 06 tuổi; 3. Trường mầm non, lớp mầm non độc lập là cơ sở giáo dục kết hợp nhà trẻ và mẫu giáo, nhận trẻ em từ 03 tháng tuổi đến 06 tuổi. ',\n",
       " 'generated_question': 'Các loại hình cơ sở giáo dục mầm non được quy định như thế nào trong Luật Giáo Dục?',\n",
       " 'rag_answer_llm': 'Các loại của Viện giáo dục được quy định là: Tài liệu 1, Tài liệu 2, Tài liệu 3, Tài liệu 4, Tài liệu 5, Tài liệu 6, Tài liệu 7, Tài liệu 8, Tài liệu 9, Tài liệu 10, Tài liệu 11, Tài liệu 12, Tài liệu 13, Tài liệu 14, Tài liệu 15, Tài liệu 15, Tài liệu 16, Tài liệu 17, Tài liệu 18, Tài liệu 19, Tài liệu 20, Tài liệu 20, 21. Tài liệu 22, Tài liệu 23, Tài liệu 24, Tài liệu 25.',\n",
       " 'generated_answer': 'Cơ sở giáo dục mầm non bao gồm: 1. Nhà trẻ, nhóm trẻ độc lập nhận trẻ em từ 03 tháng tuổi đến 03 tuổi; 2. Trường mẫu giáo, lớp mẫu giáo độc lập nhận trẻ em từ 03 tuổi đến 06 tuổi; 3. Trường mầm non, lớp mầm non độc lập là cơ sở giáo dục kết hợp nhà trẻ và mẫu giáo, nhận trẻ em từ 03 tháng tuổi đến 06 tuổi.'}"
      ]
     },
     "execution_count": 64,
     "metadata": {},
     "output_type": "execute_result"
    }
   ],
   "source": [
    "record = results_mamba_qa[0]\n",
    "record"
   ]
  },
  {
   "cell_type": "code",
   "execution_count": 65,
   "id": "453b5a1d-a0cc-4023-aa74-de23a65ce71c",
   "metadata": {},
   "outputs": [],
   "source": [
    "def compute_similarity(record):\n",
    "    generated_answer = str(record['generated_answer'])  # Convert to string\n",
    "    rag_answer_llm = str(record['rag_answer_llm'])    # Convert to string\n",
    "    v_llm = model.encode(rag_answer_llm)\n",
    "    v_orig = model.encode(generated_answer)\n",
    "    return v_llm.dot(v_orig)"
   ]
  },
  {
   "cell_type": "code",
   "execution_count": 66,
   "id": "9b70aad3-71f4-46a4-81df-9c34ecfa6283",
   "metadata": {},
   "outputs": [
    {
     "data": {
      "application/vnd.jupyter.widget-view+json": {
       "model_id": "34a2462596f44474ace71d63e6dbde4c",
       "version_major": 2,
       "version_minor": 0
      },
      "text/plain": [
       "  0%|          | 0/101 [00:00<?, ?it/s]"
      ]
     },
     "metadata": {},
     "output_type": "display_data"
    }
   ],
   "source": [
    "similarity_mamba = []\n",
    "\n",
    "for record in tqdm(results_mamba_qa):\n",
    "    sim = compute_similarity(record)\n",
    "    similarity_mamba.append(sim)"
   ]
  },
  {
   "cell_type": "code",
   "execution_count": 67,
   "id": "39e10c57-34a0-41bf-9867-10a50fc6d9ac",
   "metadata": {},
   "outputs": [
    {
     "data": {
      "text/plain": [
       "count    101.000000\n",
       "mean       0.667071\n",
       "std        0.206907\n",
       "min        0.033297\n",
       "25%        0.528678\n",
       "50%        0.735012\n",
       "75%        0.823105\n",
       "max        0.956557\n",
       "Name: cosine, dtype: float64"
      ]
     },
     "execution_count": 67,
     "metadata": {},
     "output_type": "execute_result"
    }
   ],
   "source": [
    "df_mamba_qa['cosine'] = similarity_mamba\n",
    "df_mamba_qa['cosine'].describe()"
   ]
  },
  {
   "cell_type": "code",
   "execution_count": 68,
   "id": "96b69a9a-ecd6-43fa-85da-e4ca00bdc61b",
   "metadata": {},
   "outputs": [],
   "source": [
    "import seaborn as sns"
   ]
  },
  {
   "cell_type": "code",
   "execution_count": 69,
   "id": "45f7f3e9",
   "metadata": {},
   "outputs": [
    {
     "data": {
      "text/plain": [
       "<seaborn.axisgrid.FacetGrid at 0x7fc22bb18f10>"
      ]
     },
     "execution_count": 69,
     "metadata": {},
     "output_type": "execute_result"
    },
    {
     "data": {
      "image/png": "[encoded data removed]",
      "text/plain": [
       "<Figure size 500x500 with 1 Axes>"
      ]
     },
     "metadata": {},
     "output_type": "display_data"
    }
   ],
   "source": [
    "sns.displot(df_mamba_qa['cosine'])"
   ]
  },
  {
   "attachments": {
    "image.png": {
     "image/png": "[encoded data removed]"
    }
   },
   "cell_type": "markdown",
   "id": "3837db12",
   "metadata": {},
   "source": [
    "# mamba with top 3 relevant document  \n",
    "\n",
    "![image.png](attachment:image.png)"
   ]
  },
  {
   "cell_type": "markdown",
   "id": "d7d2807c",
   "metadata": {},
   "source": [
    "### sjrhuschlee/flan-t5-large-squad2"
   ]
  },
  {
   "cell_type": "code",
   "execution_count": 70,
   "id": "3f497b01-c8c6-4809-8ac8-2be8db0ca578",
   "metadata": {},
   "outputs": [
    {
     "data": {
      "application/vnd.jupyter.widget-view+json": {
       "model_id": "dbf999b876dd420c871b929432381401",
       "version_major": 2,
       "version_minor": 0
      },
      "text/plain": [
       "  0%|          | 0/101 [00:00<?, ?it/s]"
      ]
     },
     "metadata": {},
     "output_type": "display_data"
    },
    {
     "name": "stderr",
     "output_type": "stream",
     "text": [
      "Token indices sequence length is longer than the specified maximum sequence length for this model (1235 > 512). Running this sequence through the model will result in indexing errors\n"
     ]
    }
   ],
   "source": [
    "answers_trans = {}\n",
    "for i, rec in enumerate(tqdm(ground_truth)):\n",
    "    if i in answers_trans:\n",
    "        continue\n",
    "\n",
    "    rag_answer_llm = rag(rec,model_type=\"transformer\")\n",
    "    doc_id = rec['doc_id']\n",
    "    original_doc = doc_idx[doc_id]\n",
    "    law_content = original_doc['content']\n",
    "    \n",
    "\n",
    "    answers_trans[i] = {\n",
    "        'law_content': law_content,\n",
    "        'generated_question': rec['generated_question'],\n",
    "        'rag_answer_llm': rag_answer_llm,\n",
    "        'generated_answer': rec['generated_answer'],\n",
    "\n",
    "    }"
   ]
  },
  {
   "cell_type": "code",
   "execution_count": 71,
   "id": "005b7c40",
   "metadata": {},
   "outputs": [],
   "source": [
    "df_trans = pd.DataFrame(answers_trans.values())\n",
    "# df.to_csv(\"DeepMount00_mamba_790_hf_qa_1_top_search.csv\", index=False)\n",
    "df_trans.to_csv(\"flan-t5-large-squad2.csv\", index=False)"
   ]
  },
  {
   "cell_type": "code",
   "execution_count": 72,
   "id": "683dcc80",
   "metadata": {},
   "outputs": [],
   "source": [
    "results_transformer_qa = [None] * len(ground_truth)\n",
    "\n",
    "for i, val in answers.items():\n",
    "    results_transformer_qa[i] = val.copy()\n",
    "    results_transformer_qa[i].update(ground_truth[i])"
   ]
  },
  {
   "cell_type": "code",
   "execution_count": 73,
   "id": "9471c91d",
   "metadata": {},
   "outputs": [
    {
     "data": {
      "text/html": [
       "<div>\n",
       "<style scoped>\n",
       "    .dataframe tbody tr th:only-of-type {\n",
       "        vertical-align: middle;\n",
       "    }\n",
       "\n",
       "    .dataframe tbody tr th {\n",
       "        vertical-align: top;\n",
       "    }\n",
       "\n",
       "    .dataframe thead th {\n",
       "        text-align: right;\n",
       "    }\n",
       "</style>\n",
       "<table border=\"1\" class=\"dataframe\">\n",
       "  <thead>\n",
       "    <tr style=\"text-align: right;\">\n",
       "      <th></th>\n",
       "      <th>law_content</th>\n",
       "      <th>generated_question</th>\n",
       "      <th>rag_answer_llm</th>\n",
       "      <th>generated_answer</th>\n",
       "    </tr>\n",
       "  </thead>\n",
       "  <tbody>\n",
       "    <tr>\n",
       "      <th>0</th>\n",
       "      <td>Cơ sở giáo dục mầm non bao gồm: 1. Nhà trẻ, nh...</td>\n",
       "      <td>Các loại hình cơ sở giáo dục mầm non được quy ...</td>\n",
       "      <td>&lt;CLS&gt;</td>\n",
       "      <td>Cơ sở giáo dục mầm non bao gồm: 1. Nhà trẻ, nh...</td>\n",
       "    </tr>\n",
       "    <tr>\n",
       "      <th>1</th>\n",
       "      <td>1. Việc ly hôn giữa công dân Việt Nam với ngườ...</td>\n",
       "      <td>Nếu tôi là công dân Việt Nam kết hôn với người...</td>\n",
       "      <td>tại cơ quan có thẩm quyền của Việt Nam</td>\n",
       "      <td>Việc ly hôn giữa công dân Việt Nam với người n...</td>\n",
       "    </tr>\n",
       "    <tr>\n",
       "      <th>2</th>\n",
       "      <td>1. Cô, dì, chú, cậu, bác ruột không sống chung...</td>\n",
       "      <td>Khi nào cô, dì, chú, cậu, bác ruột có nghĩa vụ...</td>\n",
       "      <td>Trong trường hợp một đứa cháu nhỏ hoặc trẻ vị ...</td>\n",
       "      <td>Cô, dì, chú, cậu, bác ruột không sống chung vớ...</td>\n",
       "    </tr>\n",
       "    <tr>\n",
       "      <th>3</th>\n",
       "      <td>1. Người tham gia giao thông phải chấp hành hi...</td>\n",
       "      <td>Tại nơi có cả biển báo hiệu cố định và báo hiệ...</td>\n",
       "      <td>Ở nơi bảng hiệu cố định có tín hiệu tạm thời, ...</td>\n",
       "      <td>Tại nơi có biển báo hiệu cố định lại có báo hi...</td>\n",
       "    </tr>\n",
       "    <tr>\n",
       "      <th>4</th>\n",
       "      <td>1. Xe xin vượt phải có báo hiệu bằng đèn hoặc ...</td>\n",
       "      <td>Khi nào tôi được phép vượt xe bên phải thay vì...</td>\n",
       "      <td>&lt;CLS&gt;</td>\n",
       "      <td>Bạn được phép vượt xe bên phải trong các trườn...</td>\n",
       "    </tr>\n",
       "    <tr>\n",
       "      <th>...</th>\n",
       "      <td>...</td>\n",
       "      <td>...</td>\n",
       "      <td>...</td>\n",
       "      <td>...</td>\n",
       "    </tr>\n",
       "    <tr>\n",
       "      <th>96</th>\n",
       "      <td>Luật này quy định chế độ hôn nhân và gia đình;...</td>\n",
       "      <td>Luật Hôn Nhân Và Gia Đình điều chỉnh những vấn...</td>\n",
       "      <td>Tự nguyện, hôn nhân tiến bộ, một người chồng v...</td>\n",
       "      <td>Luật này quy định chế độ hôn nhân và gia đình;...</td>\n",
       "    </tr>\n",
       "    <tr>\n",
       "      <th>97</th>\n",
       "      <td>1. Việc mang thai hộ vì mục đích nhân đạo phải...</td>\n",
       "      <td>Điều kiện để một cặp vợ chồng được nhờ người m...</td>\n",
       "      <td>a) Được chứng nhận bởi tổ chức y tế có thẩm qu...</td>\n",
       "      <td>Vợ chồng có quyền nhờ người mang thai hộ khi c...</td>\n",
       "    </tr>\n",
       "    <tr>\n",
       "      <th>98</th>\n",
       "      <td>1. Cha mẹ là người đại diện theo pháp luật của...</td>\n",
       "      <td>Cha mẹ có quyền tự mình thực hiện giao dịch tà...</td>\n",
       "      <td>Cha mẹ có quyền thực hiện các giao dịch của ri...</td>\n",
       "      <td>Cha hoặc mẹ có quyền tự mình thực hiện giao dị...</td>\n",
       "    </tr>\n",
       "    <tr>\n",
       "      <th>99</th>\n",
       "      <td>Vợ, chồng có nghĩa vụ tôn trọng quyền tự do tí...</td>\n",
       "      <td>Vợ chồng có nghĩa vụ gì đối với quyền tự do tí...</td>\n",
       "      <td>&lt;CLS&gt;</td>\n",
       "      <td>Vợ, chồng có nghĩa vụ tôn trọng quyền tự do tí...</td>\n",
       "    </tr>\n",
       "    <tr>\n",
       "      <th>100</th>\n",
       "      <td>1. Tài sản riêng của vợ, chồng gồm tài sản mà ...</td>\n",
       "      <td>Tài sản nào được coi là tài sản riêng của vợ h...</td>\n",
       "      <td>&lt;CLS&gt;</td>\n",
       "      <td>Tài sản riêng của vợ, chồng gồm tài sản mà mỗi...</td>\n",
       "    </tr>\n",
       "  </tbody>\n",
       "</table>\n",
       "<p>101 rows × 4 columns</p>\n",
       "</div>"
      ],
      "text/plain": [
       "                                           law_content  \\\n",
       "0    Cơ sở giáo dục mầm non bao gồm: 1. Nhà trẻ, nh...   \n",
       "1    1. Việc ly hôn giữa công dân Việt Nam với ngườ...   \n",
       "2    1. Cô, dì, chú, cậu, bác ruột không sống chung...   \n",
       "3    1. Người tham gia giao thông phải chấp hành hi...   \n",
       "4    1. Xe xin vượt phải có báo hiệu bằng đèn hoặc ...   \n",
       "..                                                 ...   \n",
       "96   Luật này quy định chế độ hôn nhân và gia đình;...   \n",
       "97   1. Việc mang thai hộ vì mục đích nhân đạo phải...   \n",
       "98   1. Cha mẹ là người đại diện theo pháp luật của...   \n",
       "99   Vợ, chồng có nghĩa vụ tôn trọng quyền tự do tí...   \n",
       "100  1. Tài sản riêng của vợ, chồng gồm tài sản mà ...   \n",
       "\n",
       "                                    generated_question  \\\n",
       "0    Các loại hình cơ sở giáo dục mầm non được quy ...   \n",
       "1    Nếu tôi là công dân Việt Nam kết hôn với người...   \n",
       "2    Khi nào cô, dì, chú, cậu, bác ruột có nghĩa vụ...   \n",
       "3    Tại nơi có cả biển báo hiệu cố định và báo hiệ...   \n",
       "4    Khi nào tôi được phép vượt xe bên phải thay vì...   \n",
       "..                                                 ...   \n",
       "96   Luật Hôn Nhân Và Gia Đình điều chỉnh những vấn...   \n",
       "97   Điều kiện để một cặp vợ chồng được nhờ người m...   \n",
       "98   Cha mẹ có quyền tự mình thực hiện giao dịch tà...   \n",
       "99   Vợ chồng có nghĩa vụ gì đối với quyền tự do tí...   \n",
       "100  Tài sản nào được coi là tài sản riêng của vợ h...   \n",
       "\n",
       "                                        rag_answer_llm  \\\n",
       "0                                                <CLS>   \n",
       "1               tại cơ quan có thẩm quyền của Việt Nam   \n",
       "2    Trong trường hợp một đứa cháu nhỏ hoặc trẻ vị ...   \n",
       "3    Ở nơi bảng hiệu cố định có tín hiệu tạm thời, ...   \n",
       "4                                                <CLS>   \n",
       "..                                                 ...   \n",
       "96   Tự nguyện, hôn nhân tiến bộ, một người chồng v...   \n",
       "97   a) Được chứng nhận bởi tổ chức y tế có thẩm qu...   \n",
       "98   Cha mẹ có quyền thực hiện các giao dịch của ri...   \n",
       "99                                               <CLS>   \n",
       "100                                              <CLS>   \n",
       "\n",
       "                                      generated_answer  \n",
       "0    Cơ sở giáo dục mầm non bao gồm: 1. Nhà trẻ, nh...  \n",
       "1    Việc ly hôn giữa công dân Việt Nam với người n...  \n",
       "2    Cô, dì, chú, cậu, bác ruột không sống chung vớ...  \n",
       "3    Tại nơi có biển báo hiệu cố định lại có báo hi...  \n",
       "4    Bạn được phép vượt xe bên phải trong các trườn...  \n",
       "..                                                 ...  \n",
       "96   Luật này quy định chế độ hôn nhân và gia đình;...  \n",
       "97   Vợ chồng có quyền nhờ người mang thai hộ khi c...  \n",
       "98   Cha hoặc mẹ có quyền tự mình thực hiện giao dị...  \n",
       "99   Vợ, chồng có nghĩa vụ tôn trọng quyền tự do tí...  \n",
       "100  Tài sản riêng của vợ, chồng gồm tài sản mà mỗi...  \n",
       "\n",
       "[101 rows x 4 columns]"
      ]
     },
     "execution_count": 73,
     "metadata": {},
     "output_type": "execute_result"
    }
   ],
   "source": [
    "df_transformer_qa = pd.read_csv(\"./flan-t5-large-squad2.csv\")\n",
    "df_transformer_qa"
   ]
  },
  {
   "cell_type": "code",
   "execution_count": 74,
   "id": "9ca1ac6f",
   "metadata": {},
   "outputs": [],
   "source": [
    "results_transformer_qa = df_transformer_qa.to_dict(orient='records')"
   ]
  },
  {
   "cell_type": "code",
   "execution_count": 81,
   "id": "e1900c93",
   "metadata": {},
   "outputs": [
    {
     "data": {
      "application/vnd.jupyter.widget-view+json": {
       "model_id": "1d6e3c6d8ad14619a8c8a889d06f88d1",
       "version_major": 2,
       "version_minor": 0
      },
      "text/plain": [
       "  0%|          | 0/101 [00:00<?, ?it/s]"
      ]
     },
     "metadata": {},
     "output_type": "display_data"
    }
   ],
   "source": [
    "similarity_transformer = []\n",
    "\n",
    "for record in tqdm(results_transformer_qa):\n",
    "    sim = compute_similarity(record)\n",
    "    similarity_transformer.append(sim)"
   ]
  },
  {
   "cell_type": "code",
   "execution_count": 82,
   "id": "e79554d4",
   "metadata": {},
   "outputs": [
    {
     "data": {
      "text/plain": [
       "count    101.000000\n",
       "mean       0.407877\n",
       "std        0.341616\n",
       "min       -0.238415\n",
       "25%        0.089735\n",
       "50%        0.469433\n",
       "75%        0.697230\n",
       "max        0.970881\n",
       "Name: cosine, dtype: float64"
      ]
     },
     "execution_count": 82,
     "metadata": {},
     "output_type": "execute_result"
    }
   ],
   "source": [
    "df_transformer_qa['cosine'] = similarity_transformer\n",
    "df_transformer_qa['cosine'].describe()"
   ]
  },
  {
   "cell_type": "code",
   "execution_count": 83,
   "id": "6d7223b0",
   "metadata": {},
   "outputs": [
    {
     "data": {
      "text/plain": [
       "count    101.000000\n",
       "mean       0.667071\n",
       "std        0.206907\n",
       "min        0.033297\n",
       "25%        0.528678\n",
       "50%        0.735012\n",
       "75%        0.823105\n",
       "max        0.956557\n",
       "Name: cosine, dtype: float64"
      ]
     },
     "execution_count": 83,
     "metadata": {},
     "output_type": "execute_result"
    }
   ],
   "source": [
    "df_mamba_qa['cosine'].describe()"
   ]
  },
  {
   "cell_type": "code",
   "execution_count": 84,
   "id": "908f76c6",
   "metadata": {},
   "outputs": [
    {
     "data": {
      "text/plain": [
       "<seaborn.axisgrid.FacetGrid at 0x7fc22975e5c0>"
      ]
     },
     "execution_count": 84,
     "metadata": {},
     "output_type": "execute_result"
    },
    {
     "data": {
      "image/png": "[encoded data removed]",
      "text/plain": [
       "<Figure size 500x500 with 1 Axes>"
      ]
     },
     "metadata": {},
     "output_type": "display_data"
    }
   ],
   "source": [
    "sns.displot(df_transformer_qa['cosine'])"
   ]
  },
  {
   "cell_type": "code",
   "execution_count": 85,
   "id": "0714e575",
   "metadata": {},
   "outputs": [
    {
     "data": {
      "image/png": "[encoded data removed]",
      "text/plain": [
       "<Figure size 1000x600 with 1 Axes>"
      ]
     },
     "metadata": {},
     "output_type": "display_data"
    }
   ],
   "source": [
    "plt.figure(figsize=(10, 6))\n",
    "sns.kdeplot(data=df_transformer_qa['cosine'], color='blue', label='Transformer QA')\n",
    "sns.kdeplot(data=df_mamba_qa['cosine'], color='red', label='Mamba QA')\n",
    "\n",
    "plt.title('Cosine Similarity Density Comparison')\n",
    "plt.xlabel('Cosine Similarity')\n",
    "plt.ylabel('Density')\n",
    "plt.legend()\n",
    "plt.show()"
   ]
  },
  {
   "cell_type": "markdown",
   "id": "2e515bdc-2a05-4934-800b-7e1ccc1652b5",
   "metadata": {},
   "source": [
    "## Saving all the data"
   ]
  }
 ],
 "metadata": {
  "kernelspec": {
   "display_name": "Python 3 (ipykernel)",
   "language": "python",
   "name": "python3"
  },
  "language_info": {
   "codemirror_mode": {
    "name": "ipython",
    "version": 3
   },
   "file_extension": ".py",
   "mimetype": "text/x-python",
   "name": "python",
   "nbconvert_exporter": "python",
   "pygments_lexer": "ipython3",
   "version": "3.10.12"
  }
 },
 "nbformat": 4,
 "nbformat_minor": 5
}
