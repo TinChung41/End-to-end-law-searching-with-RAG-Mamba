{
 "cells": [
  {
   "cell_type": "markdown",
   "id": "82e471cb-7aec-4c00-9eed-36e6f2447eb5",
   "metadata": {},
   "source": [
    "## Load documents with IDs"
   ]
  },
  {
   "cell_type": "code",
   "execution_count": 11,
   "id": "76241162-06cf-4d61-959b-1d36a8678bf3",
   "metadata": {},
   "outputs": [],
   "source": [
    "import json\n",
    "\n",
    "with open('/app/Law_corpus/documents-with-ids.json', 'rt') as f_in:\n",
    "    documents = json.load(f_in)"
   ]
  },
  {
   "cell_type": "code",
   "execution_count": 12,
   "id": "f745e802-1cb5-4e77-afa0-a4e276270a62",
   "metadata": {},
   "outputs": [
    {
     "data": {
      "text/plain": [
       "{'law_title': 'Luật Giáo Dục',\n",
       " 'law_number': 'Luật số: 43/2019/QH14',\n",
       " 'chapter_title': 'Chương I',\n",
       " 'article_number': 'Điều 1',\n",
       " 'title': 'Phạm vi điều chỉnh',\n",
       " 'content': 'Luật này quy định về hệ thống giáo dục quốc dân; cơ sở giáo dục, nhà giáo, người học; quản lý nhà nước về giáo dục; quyền và trách nhiệm của cơ quan, tổ chức, cá nhân liên quan đến hoạt động giáo dục. ',\n",
       " 'id': '75a9286e'}"
      ]
     },
     "execution_count": 12,
     "metadata": {},
     "output_type": "execute_result"
    }
   ],
   "source": [
    "documents[0]"
   ]
  },
  {
   "cell_type": "markdown",
   "id": "2dcd8e36-32c1-435a-be50-56618ee7a605",
   "metadata": {},
   "source": [
    "## Load ground truth"
   ]
  },
  {
   "cell_type": "code",
   "execution_count": 13,
   "id": "79da91e5-bb37-4a7a-860b-0d3909f5de88",
   "metadata": {},
   "outputs": [],
   "source": [
    "import pandas as pd\n",
    "\n",
    "df_ground_truth = pd.read_csv('./evaluate/ground-truth-data.csv')\n",
    "ground_truth = df_ground_truth.to_dict(orient='records')"
   ]
  },
  {
   "cell_type": "code",
   "execution_count": 14,
   "id": "4b830c7b-03a9-44be-93cd-3a0e7da12eed",
   "metadata": {},
   "outputs": [
    {
     "data": {
      "text/plain": [
       "{'generated_question': 'Các loại hình cơ sở giáo dục mầm non được quy định như thế nào trong Luật Giáo Dục?',\n",
       " 'generated_answer': 'Cơ sở giáo dục mầm non bao gồm: 1. Nhà trẻ, nhóm trẻ độc lập nhận trẻ em từ 03 tháng tuổi đến 03 tuổi; 2. Trường mẫu giáo, lớp mẫu giáo độc lập nhận trẻ em từ 03 tuổi đến 06 tuổi; 3. Trường mầm non, lớp mầm non độc lập là cơ sở giáo dục kết hợp nhà trẻ và mẫu giáo, nhận trẻ em từ 03 tháng tuổi đến 06 tuổi.',\n",
       " 'doc_id': 'a0fcdc5b',\n",
       " 'law_title': 'Luật Giáo Dục'}"
      ]
     },
     "execution_count": 14,
     "metadata": {},
     "output_type": "execute_result"
    }
   ],
   "source": [
    "ground_truth[0]"
   ]
  },
  {
   "cell_type": "code",
   "execution_count": 15,
   "id": "7cfd91ec-8ec8-4570-bff7-228c5eb7327b",
   "metadata": {},
   "outputs": [
    {
     "data": {
      "text/plain": [
       "{'law_title': 'Luật Giáo Dục',\n",
       " 'law_number': 'Luật số: 43/2019/QH14',\n",
       " 'chapter_title': 'Chương II',\n",
       " 'article_number': 'Điều 26',\n",
       " 'title': 'Cơ sở giáo dục mầm non',\n",
       " 'content': 'Cơ sở giáo dục mầm non bao gồm: 1. Nhà trẻ, nhóm trẻ độc lập nhận trẻ em từ 03 tháng tuổi đến 03 tuổi; 2. Trường mẫu giáo, lớp mẫu giáo độc lập nhận trẻ em từ 03 tuổi đến 06 tuổi; 3. Trường mầm non, lớp mầm non độc lập là cơ sở giáo dục kết hợp nhà trẻ và mẫu giáo, nhận trẻ em từ 03 tháng tuổi đến 06 tuổi. ',\n",
       " 'id': 'a0fcdc5b'}"
      ]
     },
     "execution_count": 15,
     "metadata": {},
     "output_type": "execute_result"
    }
   ],
   "source": [
    "doc_idx = {d['id']: d for d in documents}\n",
    "doc_idx['a0fcdc5b']"
   ]
  },
  {
   "cell_type": "markdown",
   "id": "9042aa10-abed-4009-b7af-769d8b477cd0",
   "metadata": {},
   "source": [
    "## Index data"
   ]
  },
  {
   "cell_type": "code",
   "execution_count": 16,
   "id": "3f61b1fe-f67a-4217-9fbe-5fd57eefd53d",
   "metadata": {},
   "outputs": [
    {
     "name": "stderr",
     "output_type": "stream",
     "text": [
      "Invalid model-index. Not loading eval results into CardData.\n",
      "Invalid model-index. Not loading eval results into CardData.\n"
     ]
    }
   ],
   "source": [
    "from sentence_transformers import SentenceTransformer\n",
    "model = SentenceTransformer(\"truro7/vn-law-embedding\", truncate_dim = 768) #truncate_dim = 768"
   ]
  },
  {
   "cell_type": "code",
   "execution_count": 17,
   "id": "79c49a41-7693-4bf5-a086-9ad6aaaf0284",
   "metadata": {},
   "outputs": [
    {
     "data": {
      "text/plain": [
       "ObjectApiResponse({'acknowledged': True, 'shards_acknowledged': True, 'index': 'legal_documents_ids'})"
      ]
     },
     "execution_count": 17,
     "metadata": {},
     "output_type": "execute_result"
    }
   ],
   "source": [
    "from elasticsearch import Elasticsearch\n",
    "# es_client = Elasticsearch('http://localhost:9200') \n",
    "es_client = Elasticsearch('http://elasticsearch_compose:9200') #connect to docker compose network if runinng from dockerfile container \n",
    "# es_client.info()\n",
    "\n",
    "index_settings = {\n",
    "    \"settings\": {\n",
    "        \"number_of_shards\": 1,\n",
    "        \"number_of_replicas\": 0\n",
    "    },\n",
    "    \"mappings\": {\n",
    "        \"properties\": {\n",
    "            \"law_title\": {\"type\": \"keyword\"},                \n",
    "            \"law_number\": {\"type\": \"keyword\"},               \n",
    "            \"chapter_title\": {\"type\": \"keyword\"},            \n",
    "            \"article_number\": {\"type\": \"keyword\"},            \n",
    "            \"title\": {\"type\": \"text\"},                        \n",
    "            \"content\": {\"type\": \"text\"},   \n",
    "            \"id\": {\"type\": \"text\"},   \n",
    "            \"title_content_vector\": {                                 \n",
    "                \"type\": \"dense_vector\",\n",
    "                \"dims\": 768,                                 \n",
    "                \"index\": True,\n",
    "                \"similarity\": \"cosine\"\n",
    "            }                \n",
    "        }\n",
    "    }\n",
    "}\n",
    "\n",
    "index_name = \"legal_documents_ids\"\n",
    "\n",
    "es_client.indices.delete(index=index_name, ignore_unavailable=True)\n",
    "es_client.indices.create(index=index_name, body=index_settings)"
   ]
  },
  {
   "cell_type": "code",
   "execution_count": 18,
   "id": "8bd33453-4885-4c59-a566-3f5f405e2622",
   "metadata": {},
   "outputs": [
    {
     "data": {
      "application/vnd.jupyter.widget-view+json": {
       "model_id": "292642845a344805b53268f478ec7f30",
       "version_major": 2,
       "version_minor": 0
      },
      "text/plain": [
       "  0%|          | 0/314 [00:00<?, ?it/s]"
      ]
     },
     "metadata": {},
     "output_type": "display_data"
    }
   ],
   "source": [
    "from tqdm.auto import tqdm\n",
    "\n",
    "for doc in tqdm(documents):\n",
    "    title = doc['title']\n",
    "    content = doc['content']\n",
    "    doc['title_content_vector'] = model.encode(title + ' ' + content)\n",
    "\n",
    "    es_client.index(index=index_name, document=doc)"
   ]
  },
  {
   "cell_type": "markdown",
   "id": "666609c9-93d0-4167-8287-392572eaa762",
   "metadata": {},
   "source": [
    "## Retrieval"
   ]
  },
  {
   "cell_type": "code",
   "execution_count": 19,
   "id": "7de211a5-70c5-463a-8a63-d4e63fdad821",
   "metadata": {},
   "outputs": [],
   "source": [
    "def elastic_search_knn(field, vector, law_title):\n",
    "    knn = {\n",
    "        \"field\": field,\n",
    "        \"query_vector\": vector,\n",
    "        \"k\": 3,\n",
    "        \"num_candidates\": 10000,\n",
    "        \"filter\": {\n",
    "            \"term\": {\n",
    "                \"law_title\": law_title\n",
    "            }\n",
    "        }\n",
    "    }\n",
    "\n",
    "    search_query = {\n",
    "        \"knn\": knn,\n",
    "        \"_source\": [\"law_title\", \"law_number\", \"chapter_title\", \"article_number\", \"title\", \"content\",\"id\"]\n",
    "    }\n",
    "\n",
    "    es_results = es_client.search(\n",
    "        index=index_name,\n",
    "        body=search_query\n",
    "    )\n",
    "    \n",
    "    result_docs = []\n",
    "    \n",
    "    for hit in es_results['hits']['hits']:\n",
    "        result_docs.append(hit['_source'])\n",
    "\n",
    "    return result_docs\n",
    "\n",
    "def title_content_vector_knn(q):\n",
    "    questions = q['generated_question']\n",
    "    law_title = q['law_title']\n",
    "\n",
    "    v_q = model.encode(questions)\n",
    "\n",
    "    return elastic_search_knn('title_content_vector', v_q, law_title)\n"
   ]
  },
  {
   "cell_type": "code",
   "execution_count": 20,
   "id": "294be629",
   "metadata": {},
   "outputs": [
    {
     "data": {
      "text/plain": [
       "{'generated_question': 'Các loại hình cơ sở giáo dục mầm non được quy định như thế nào trong Luật Giáo Dục?',\n",
       " 'generated_answer': 'Cơ sở giáo dục mầm non bao gồm: 1. Nhà trẻ, nhóm trẻ độc lập nhận trẻ em từ 03 tháng tuổi đến 03 tuổi; 2. Trường mẫu giáo, lớp mẫu giáo độc lập nhận trẻ em từ 03 tuổi đến 06 tuổi; 3. Trường mầm non, lớp mầm non độc lập là cơ sở giáo dục kết hợp nhà trẻ và mẫu giáo, nhận trẻ em từ 03 tháng tuổi đến 06 tuổi.',\n",
       " 'doc_id': 'a0fcdc5b',\n",
       " 'law_title': 'Luật Giáo Dục'}"
      ]
     },
     "execution_count": 20,
     "metadata": {},
     "output_type": "execute_result"
    }
   ],
   "source": [
    "ground_truth[0]"
   ]
  },
  {
   "cell_type": "code",
   "execution_count": 21,
   "id": "96a7f632-a928-4236-abff-ff2a73d6f463",
   "metadata": {},
   "outputs": [
    {
     "data": {
      "text/plain": [
       "[{'article_number': 'Điều 26',\n",
       "  'law_number': 'Luật số: 43/2019/QH14',\n",
       "  'chapter_title': 'Chương II',\n",
       "  'id': 'a0fcdc5b',\n",
       "  'title': 'Cơ sở giáo dục mầm non',\n",
       "  'law_title': 'Luật Giáo Dục',\n",
       "  'content': 'Cơ sở giáo dục mầm non bao gồm: 1. Nhà trẻ, nhóm trẻ độc lập nhận trẻ em từ 03 tháng tuổi đến 03 tuổi; 2. Trường mẫu giáo, lớp mẫu giáo độc lập nhận trẻ em từ 03 tuổi đến 06 tuổi; 3. Trường mầm non, lớp mầm non độc lập là cơ sở giáo dục kết hợp nhà trẻ và mẫu giáo, nhận trẻ em từ 03 tháng tuổi đến 06 tuổi. '},\n",
       " {'article_number': 'Điều 47',\n",
       "  'law_number': 'Luật số: 43/2019/QH14',\n",
       "  'chapter_title': 'Chương III',\n",
       "  'id': 'ff030746',\n",
       "  'title': 'Loại hình nhà trường trong hệ thống giáo dục quốc dân',\n",
       "  'law_title': 'Luật Giáo Dục',\n",
       "  'content': '1. Nhà trường trong hệ thống giáo dục quốc dân được tổ chức theo các loại hình sau đây: a) Trường công lập do Nhà nước đầu tư, bảo đảm điều kiện hoạt động và đại diện chủ sở hữu; b) Trường dân lập do cộng đồng dân cư ở cơ sở gồm tổ chức và cá nhân tại thôn, ấp, bản, làng, buôn, phum, sóc, xã, phường, thị trấn đầu tư xây dựng cơ sở vật chất và bảo đảm điều kiện hoạt động. Loại hình trường dân lập chỉ áp dụng đối với cơ sở giáo dục mầm non; c) Trường tư thục do nhà đầu tư trong nước hoặc nhà đầu tư nước ngoài đầu tư và bảo đảm điều kiện hoạt động. Trường tư thục hoạt động không vì lợi nhuận là trường mà nhà đầu tư cam kết và thực hiện cam kết hoạt động không vì lợi nhuận, được ghi trong quyết định thành lập hoặc quyết định chuyển đổi loại hình trường; hoạt động không vì lợi nhuận, không rút vốn, không hưởng lợi tức; phần lợi nhuận tích lũy hằng năm thuộc sở hữu chung hợp nhất không phân chia để tiếp tục đầu tư phát triển nhà trường. 2. Việc chuyển đổi loại hình nhà trường trong hệ thống giáo dục quốc dân được thực hiện theo nguyên tắc sau đây: a) Chỉ chuyển đổi loại hình nhà trường từ trường tư thục sang trường tư thục hoạt động không vì lợi nhuận; b) Thực hiện quy định của điều lệ, quy chế tổ chức và hoạt động của loại hình nhà trường ở mỗi cấp học, trình độ đào tạo; c) Bảo đảm quyền của giáo viên, giảng viên, cán bộ quản lý giáo dục, người lao động và người học; d) Không làm thất thoát đất đai, vốn và tài sản. 3. Chính phủ quy định chi tiết việc chuyển đổi loại hình nhà trường quy định tại khoản 2 Điều này. '},\n",
       " {'article_number': 'Điều 24',\n",
       "  'law_number': 'Luật số: 43/2019/QH14',\n",
       "  'chapter_title': 'Chương II',\n",
       "  'id': '60d219bb',\n",
       "  'title': 'Yêu cầu về nội dung, phương pháp giáo dục mầm non',\n",
       "  'law_title': 'Luật Giáo Dục',\n",
       "  'content': '1. Nội dung giáo dục mầm non phải bảo đảm phù hợp với sự phát triển tâm sinh lý của trẻ em; hài hòa giữa bảo vệ, chăm sóc, nuôi dưỡng với giáo dục trẻ em; phát triển toàn diện về thể chất, tình cảm, kỹ năng xã hội, trí tuệ, thẩm mỹ; tôn trọng sự khác biệt; phù hợp với các độ tuổi và liên thông với giáo dục tiểu học. 2. Phương pháp giáo dục mầm non được quy định như sau: a) Giáo dục nhà trẻ phải tạo điều kiện thuận lợi cho trẻ em được tích cực hoạt động, vui chơi, tạo sự gắn bó giữa người lớn với trẻ em; kích thích sự phát triển các giác quan, cảm xúc và các chức năng tâm sinh lý; b) Giáo dục mẫu giáo phải tạo điều kiện cho trẻ em được vui chơi, trải nghiệm, tìm tòi, khám phá môi trường xung quanh bằng nhiều hình thức, đáp ứng nhu cầu, hứng thú của trẻ em. '}]"
      ]
     },
     "execution_count": 21,
     "metadata": {},
     "output_type": "execute_result"
    }
   ],
   "source": [
    "title_content_vector_knn({'generated_question': 'Các loại hình cơ sở giáo dục mầm non được quy định như thế nào trong Luật Giáo Dục?',\n",
    " 'generated_answer': 'Cơ sở giáo dục mầm non bao gồm: 1. Nhà trẻ, nhóm trẻ độc lập nhận trẻ em từ 03 tháng tuổi đến 03 tuổi; 2. Trường mẫu giáo, lớp mẫu giáo độc lập nhận trẻ em từ 03 tuổi đến 06 tuổi; 3. Trường mầm non, lớp mầm non độc lập là cơ sở giáo dục kết hợp nhà trẻ và mẫu giáo, nhận trẻ em từ 03 tháng tuổi đến 06 tuổi.',\n",
    " 'doc_id': 'a0fcdc5b',\n",
    " 'law_title': 'Luật Giáo Dục'})"
   ]
  },
  {
   "cell_type": "markdown",
   "id": "443cb32b-5018-477a-b215-647a1ee0eb9c",
   "metadata": {},
   "source": [
    "## The RAG flow"
   ]
  },
  {
   "cell_type": "code",
   "execution_count": 25,
   "id": "8a7dfc24",
   "metadata": {},
   "outputs": [],
   "source": [
    "import re\n",
    "import time\n",
    "from googletrans import Translator\n",
    "\n",
    "translator = Translator()\n",
    "\n",
    "def vietnamese_to_english(text):\n",
    "    \"\"\"\n",
    "    Translates Vietnamese text to English using the googletrans library.\n",
    "    \"\"\"\n",
    "    # Translate the text\n",
    "    translation = translator.translate(text, src='vi', dest='en')\n",
    "    \n",
    "    # Return the translated text\n",
    "    return translation.text\n",
    "\n",
    "def english_to_vietnamese(text):\n",
    "    \"\"\"\n",
    "    Translates English text to Vietnamese using the googletrans library.\n",
    "    \"\"\"\n",
    "    # Translate the text\n",
    "    translation = translator.translate(text, src='en', dest='vi')\n",
    "    \n",
    "    # Return the translated text\n",
    "    return translation.text"
   ]
  },
  {
   "cell_type": "code",
   "execution_count": 29,
   "id": "651c0d24",
   "metadata": {},
   "outputs": [
    {
     "data": {
      "text/plain": [
       "'Các loại hình cơ sở giáo dục mầm non được quy định như thế nào trong Luật Giáo Dục?'"
      ]
     },
     "execution_count": 29,
     "metadata": {},
     "output_type": "execute_result"
    }
   ],
   "source": [
    "ground_truth[0]['generated_question']"
   ]
  },
  {
   "cell_type": "code",
   "execution_count": 47,
   "id": "9d89d054",
   "metadata": {},
   "outputs": [],
   "source": [
    "import re\n",
    "import time\n",
    "from googletrans import Translator\n",
    "\n",
    "translator = Translator()\n",
    "\n",
    "def clean_text(text):\n",
    "    \"\"\"\n",
    "    Cleans text by removing non-printable characters, normalizing whitespace,\n",
    "    and specifically handling problematic semicolons.\n",
    "    \"\"\"\n",
    "    text = re.sub(r'\\s+', ' ', text)  # Replace multiple spaces with single spaces\n",
    "    text = ''.join(c for c in text if c.isprintable())  # Remove non-printable characters\n",
    "    text = text.replace(';', ',')  # Replace semicolons with commas\n",
    "    return text\n",
    "\n",
    "def undo_clean_text(text):\n",
    "    \"\"\"\n",
    "    Reverses the semicolon replacement done by clean_text.\n",
    "    \"\"\"\n",
    "    text = text.replace(',', ';')  # Replace commas back to semicolons\n",
    "    return text\n",
    "\n",
    "def translate_in_chunks(text, chunk_size=4000):\n",
    "    \"\"\"\n",
    "    Translates text in smaller chunks to avoid potential issues with large text.\n",
    "    \"\"\"\n",
    "    if len(text) <= chunk_size:\n",
    "        return vietnamese_to_italian(text)\n",
    "\n",
    "    chunks = [text[i:i+chunk_size] for i in range(0, len(text), chunk_size)]\n",
    "    translated_chunks = [vietnamese_to_italian(chunk) for chunk in chunks]\n",
    "    return \" \".join(translated_chunks)\n",
    "\n",
    "def vietnamese_to_italian(text):\n",
    "    \"\"\"\n",
    "    Translates Vietnamese text to Italian using the googletrans library.\n",
    "    Handles potential None values returned by the translator.\n",
    "    \"\"\"\n",
    "    translation = translator.translate(text, src='vi', dest='it')\n",
    "    \n",
    "    # Return the translated text\n",
    "    return translation.text\n",
    "\n",
    "def italian_to_vietnamese(text):\n",
    "    \"\"\"\n",
    "    Translates Italian text to Vietnamese using the googletrans library.\n",
    "    No error handling is applied, so any issues will raise exceptions.\n",
    "    \"\"\"\n",
    "    # Translate the text\n",
    "    translation = translator.translate(text, src='it', dest='vi')\n",
    "    \n",
    "    # Return the translated text\n",
    "    return translation.text\n",
    "\n",
    "def build_prompt(query, search_results):\n",
    "    prompt_template = \"\"\"\n",
    "Sei un assistente di ricerca legale. Rispondi alla DOMANDA basandoti sul CONTESTO del database legale.\n",
    "Utilizza solo i fatti dal CONTESTO quando rispondi alla DOMANDA.\n",
    "\n",
    "CONTESTO:\n",
    "{context}\n",
    "\"\"\".strip()\n",
    "\n",
    "    # Translate the query to Italian\n",
    "    translated_query = vietnamese_to_italian(query)\n",
    "\n",
    "    context = \"\"\n",
    "    # Prioritize the first document (best match)\n",
    "    if search_results:\n",
    "        first_doc = search_results[0]\n",
    "        # Translate each field, cleaning the text first\n",
    "        translated_law_title = vietnamese_to_italian(clean_text(first_doc['law_title']))\n",
    "        translated_title = vietnamese_to_italian(clean_text(first_doc['title']))\n",
    "        translated_content = translate_in_chunks(clean_text(first_doc['content']))\n",
    "        translated_content = undo_clean_text(translated_content)\n",
    "\n",
    "        # Add the first document to the context with a note about its priority\n",
    "        context += f\"PRIMA LEGGE (MIGLIOR RISULTATO):\\n\"\n",
    "        context += f\"titolo di legge: {translated_law_title}\\n titolo: {translated_title}\\n legge: {translated_content}\\n\\n\"\n",
    "\n",
    "    # Add the remaining documents to the context\n",
    "    for doc in search_results[1:]:\n",
    "        # Translate each field, cleaning the text first\n",
    "        translated_law_title = vietnamese_to_italian(clean_text(doc['law_title']))\n",
    "        translated_title = vietnamese_to_italian(clean_text(doc['title']))\n",
    "        translated_content = translate_in_chunks(clean_text(doc['content']))\n",
    "        translated_content = undo_clean_text(translated_content)\n",
    "\n",
    "        context += f\"titolo di legge: {translated_law_title}\\n titolo: {translated_title}\\n legge: {translated_content}\\n\\n\"\n",
    "\n",
    "    # Use the correct key 'question' here\n",
    "    prompt = prompt_template.format(question=translated_query, context=context).strip()\n",
    "    return prompt"
   ]
  },
  {
   "cell_type": "code",
   "execution_count": 31,
   "id": "20562128",
   "metadata": {},
   "outputs": [
    {
     "name": "stdout",
     "output_type": "stream",
     "text": [
      "Bạn là một trợ lý nghiên cứu pháp lý.Trả lời câu hỏi dựa trên bối cảnh của cơ sở dữ liệu pháp lý.\n",
      "Chỉ sử dụng các sự kiện từ bối cảnh khi bạn trả lời câu hỏi.\n",
      "\n",
      "BỐI CẢNH:\n",
      "Luật đầu tiên (kết quả tốt nhất):\n",
      "Tiêu đề của pháp luật: Luật giáo dục\n",
      "Tiêu đề: Các tổ chức giáo dục ở độ tuổi mẫu giáo\n",
      "Luật: Các tổ chức giáo dục Fleechool bao gồm: 1. Mẫu giáo;Nhóm trẻ em độc lập từ 03 tháng đến 03 tuổi;2. Mẫu giáo;Lớp học mẫu giáo độc lập chấp nhận trẻ em từ 03 đến 06 tuổi;Tuổi;3. Mẫu giáo;Các lớp học mầm non độc lập là các tổ chức giáo dục kết hợp anidergartens và năm;Đưa trẻ em từ 03 tháng đến 06 năm.\n",
      "\n",
      "Tiêu đề của pháp luật: Luật giáo dục\n",
      "Tiêu đề: Loại trường trong Hệ thống Giáo dục Quốc gia\n",
      "Luật: 1đảm bảo điều kiện hoạt động và đại diện của chủ sở hữu;b) do cộng đồng cơ bản;bao gồm các tổ chức và cá nhân trong ấp;Làng;Làng;Phum;con sóc;Đô thị;Các phòng ban và thành phố để đầu tư vào các cấu trúc để xây dựng và đảm bảo điều kiện hoạt động.c) Các trường tư thục đầu tư bởi các nhà đầu tư quốc gia hoặc các nhà đầu tư nước ngoài và các điều kiện hoạt động.Đăng ký trong quyết định thiết lập hoặc quyết định thay đổi loại trường học;Không phải vì lợi ích.Những lợi ích;Lợi nhuận tích lũy hàng năm của tài sản chung thống nhất không được chia để tiếp tục đầu tư vào phát triển trường học.Việc chuyển đổi loại trường trong hệ thống giáo dục quốc gia được thực hiện theo các nguyên tắc sau: a) chỉ loại trường từ trường tư sang trường tư hoạt động mà không thay đổi lợi nhuận;b) thực hiện các quy định giấy;Quy định về tổ chức và hoạt động của loại trường ở mỗi cấp;mức độ đào tạo;c) đảm bảo quyền của giáo viên;giáo viên;quản lý giáo dục;công nhân và sinh viên;D) không mất đất;Vốn và các hoạt động.Chính phủ mô tả chi tiết việc chuyển đổi loại trường được chỉ định trong khoản 2 của bài viết này.\n",
      "\n",
      "Tiêu đề của pháp luật: Luật giáo dục\n",
      "Tiêu đề: Yêu cầu về giáo dục và phương pháp mầm non\n",
      "Luật: 1. Nội dung giáo dục mầm non phải phù hợp với sự phát triển sinh lý của trẻ em;bảo vệ hài hòa;phương pháp chữa bệnh;sự nuôi dưỡng giáo dục trẻ em;sự phát triển toàn cầu của tình cảm thể chất và tình cảm;kỹ năng xã hội;trí thông minh;Thẩm mỹ;tôn trọng sự khác biệt;Thích hợp cho tuổi và kết nối với giáo dục tiểu học.Phương pháp giáo dục xe đẩy được quy định như sau: a) Giáo dục trẻ phải tạo ra các điều kiện thuận lợi cho trẻ em để hoạt động tích cực;vui chơi;Tạo sự gắn bó giữa người lớn và trẻ em;Nhấp vào sự phát triển của các giác quan;cảm xúc và chức năng tâm lý;B) Giáo dục mẫu giáo phải tạo điều kiện cho trẻ em vui chơi;kinh nghiệm;Khám phá và khám phá môi trường xung quanh với nhiều hình ảnh.\n"
     ]
    }
   ],
   "source": [
    "context = build_prompt(ground_truth[0], title_content_vector_knn(ground_truth[0]))\n",
    "print(italian_to_vietnamese(context))"
   ]
  },
  {
   "cell_type": "code",
   "execution_count": 28,
   "id": "acbc99bb-1a84-42de-82f6-b68b563b7154",
   "metadata": {},
   "outputs": [
    {
     "data": {
      "application/vnd.jupyter.widget-view+json": {
       "model_id": "f50b71846dcb4512a730e6239bd8bbea",
       "version_major": 2,
       "version_minor": 0
      },
      "text/plain": [
       "tokenizer_config.json:   0%|          | 0.00/4.79k [00:00<?, ?B/s]"
      ]
     },
     "metadata": {},
     "output_type": "display_data"
    },
    {
     "data": {
      "application/vnd.jupyter.widget-view+json": {
       "model_id": "ad5f44e66c074c0890501e98415d5f61",
       "version_major": 2,
       "version_minor": 0
      },
      "text/plain": [
       "tokenizer.json:   0%|          | 0.00/2.11M [00:00<?, ?B/s]"
      ]
     },
     "metadata": {},
     "output_type": "display_data"
    },
    {
     "data": {
      "application/vnd.jupyter.widget-view+json": {
       "model_id": "6c7d17dc43fd466b95966bd434b0a984",
       "version_major": 2,
       "version_minor": 0
      },
      "text/plain": [
       "special_tokens_map.json:   0%|          | 0.00/587 [00:00<?, ?B/s]"
      ]
     },
     "metadata": {},
     "output_type": "display_data"
    },
    {
     "data": {
      "application/vnd.jupyter.widget-view+json": {
       "model_id": "b6cb93d28fbf4f8d8acf7fba74b76863",
       "version_major": 2,
       "version_minor": 0
      },
      "text/plain": [
       "config.json:   0%|          | 0.00/921 [00:00<?, ?B/s]"
      ]
     },
     "metadata": {},
     "output_type": "display_data"
    },
    {
     "data": {
      "application/vnd.jupyter.widget-view+json": {
       "model_id": "56f8930d3c3d4d2cbea8eebd5f248385",
       "version_major": 2,
       "version_minor": 0
      },
      "text/plain": [
       "model.safetensors:   0%|          | 0.00/3.17G [00:00<?, ?B/s]"
      ]
     },
     "metadata": {},
     "output_type": "display_data"
    },
    {
     "name": "stderr",
     "output_type": "stream",
     "text": [
      "The fast path is not available because one of `(selective_state_update, selective_scan_fn, causal_conv1d_fn, causal_conv1d_update, mamba_inner_fn)` is None. Falling back to the sequential implementation of Mamba, as use_mambapy is set to False. To install follow https://github.com/state-spaces/mamba/#installation and https://github.com/Dao-AILab/causal-conv1d. For the mamba.py backend, follow https://github.com/alxndrTL/mamba.py.\n"
     ]
    },
    {
     "data": {
      "application/vnd.jupyter.widget-view+json": {
       "model_id": "503b38182a0348dbb7c1388ff635c670",
       "version_major": 2,
       "version_minor": 0
      },
      "text/plain": [
       "generation_config.json:   0%|          | 0.00/132 [00:00<?, ?B/s]"
      ]
     },
     "metadata": {},
     "output_type": "display_data"
    }
   ],
   "source": [
    "from transformers import MambaConfig, MambaForCausalLM, AutoTokenizer\n",
    "import torch\n",
    "\n",
    "mamba_model_name = \"DeepMount00/mamba_790_hf_qa\"\n",
    "mamba_tokenizer = AutoTokenizer.from_pretrained(mamba_model_name)\n",
    "mamba_model = MambaForCausalLM.from_pretrained(mamba_model_name, device_map={\"\": 0}).eval()"
   ]
  },
  {
   "cell_type": "code",
   "execution_count": 32,
   "id": "e769ceef",
   "metadata": {},
   "outputs": [],
   "source": [
    "def llm(context, question):\n",
    "    device = \"cuda:0\"\n",
    "    # Hybrid prefix: Start with the working Italian, then transition to English instructions\n",
    "\n",
    "    prompt = f\"\"\" ##CONTESTO: {context}\\n##DOMANDA: {question}\\n\"\"\"\n",
    "\n",
    "    input_ids = mamba_tokenizer([prompt], return_tensors=\"pt\").to(device)\n",
    "\n",
    "    generate_ids = mamba_model.generate(**input_ids, max_length=2000, eos_token_id=8112)\n",
    "\n",
    "    answer = mamba_tokenizer.batch_decode(generate_ids)\n",
    "\n",
    "    try:\n",
    "        final_answer = answer[0].split(\"##RISPOSTA: \")[1].split(\"##END\")[0].strip(\"\\n\")\n",
    "    except IndexError:\n",
    "        final_answer = \"\"\n",
    "    return final_answer"
   ]
  },
  {
   "cell_type": "markdown",
   "id": "d2e5c047",
   "metadata": {},
   "source": [
    "## Trying to fix None Type error from Translation"
   ]
  },
  {
   "cell_type": "code",
   "execution_count": 34,
   "id": "d2634003",
   "metadata": {},
   "outputs": [
    {
     "data": {
      "text/plain": [
       "[{'article_number': 'Điều 26',\n",
       "  'law_number': 'Luật số: 43/2019/QH14',\n",
       "  'chapter_title': 'Chương II',\n",
       "  'id': 'a0fcdc5b',\n",
       "  'title': 'Cơ sở giáo dục mầm non',\n",
       "  'law_title': 'Luật Giáo Dục',\n",
       "  'content': 'Cơ sở giáo dục mầm non bao gồm: 1. Nhà trẻ, nhóm trẻ độc lập nhận trẻ em từ 03 tháng tuổi đến 03 tuổi; 2. Trường mẫu giáo, lớp mẫu giáo độc lập nhận trẻ em từ 03 tuổi đến 06 tuổi; 3. Trường mầm non, lớp mầm non độc lập là cơ sở giáo dục kết hợp nhà trẻ và mẫu giáo, nhận trẻ em từ 03 tháng tuổi đến 06 tuổi. '},\n",
       " {'article_number': 'Điều 47',\n",
       "  'law_number': 'Luật số: 43/2019/QH14',\n",
       "  'chapter_title': 'Chương III',\n",
       "  'id': 'ff030746',\n",
       "  'title': 'Loại hình nhà trường trong hệ thống giáo dục quốc dân',\n",
       "  'law_title': 'Luật Giáo Dục',\n",
       "  'content': '1. Nhà trường trong hệ thống giáo dục quốc dân được tổ chức theo các loại hình sau đây: a) Trường công lập do Nhà nước đầu tư, bảo đảm điều kiện hoạt động và đại diện chủ sở hữu; b) Trường dân lập do cộng đồng dân cư ở cơ sở gồm tổ chức và cá nhân tại thôn, ấp, bản, làng, buôn, phum, sóc, xã, phường, thị trấn đầu tư xây dựng cơ sở vật chất và bảo đảm điều kiện hoạt động. Loại hình trường dân lập chỉ áp dụng đối với cơ sở giáo dục mầm non; c) Trường tư thục do nhà đầu tư trong nước hoặc nhà đầu tư nước ngoài đầu tư và bảo đảm điều kiện hoạt động. Trường tư thục hoạt động không vì lợi nhuận là trường mà nhà đầu tư cam kết và thực hiện cam kết hoạt động không vì lợi nhuận, được ghi trong quyết định thành lập hoặc quyết định chuyển đổi loại hình trường; hoạt động không vì lợi nhuận, không rút vốn, không hưởng lợi tức; phần lợi nhuận tích lũy hằng năm thuộc sở hữu chung hợp nhất không phân chia để tiếp tục đầu tư phát triển nhà trường. 2. Việc chuyển đổi loại hình nhà trường trong hệ thống giáo dục quốc dân được thực hiện theo nguyên tắc sau đây: a) Chỉ chuyển đổi loại hình nhà trường từ trường tư thục sang trường tư thục hoạt động không vì lợi nhuận; b) Thực hiện quy định của điều lệ, quy chế tổ chức và hoạt động của loại hình nhà trường ở mỗi cấp học, trình độ đào tạo; c) Bảo đảm quyền của giáo viên, giảng viên, cán bộ quản lý giáo dục, người lao động và người học; d) Không làm thất thoát đất đai, vốn và tài sản. 3. Chính phủ quy định chi tiết việc chuyển đổi loại hình nhà trường quy định tại khoản 2 Điều này. '},\n",
       " {'article_number': 'Điều 24',\n",
       "  'law_number': 'Luật số: 43/2019/QH14',\n",
       "  'chapter_title': 'Chương II',\n",
       "  'id': '60d219bb',\n",
       "  'title': 'Yêu cầu về nội dung, phương pháp giáo dục mầm non',\n",
       "  'law_title': 'Luật Giáo Dục',\n",
       "  'content': '1. Nội dung giáo dục mầm non phải bảo đảm phù hợp với sự phát triển tâm sinh lý của trẻ em; hài hòa giữa bảo vệ, chăm sóc, nuôi dưỡng với giáo dục trẻ em; phát triển toàn diện về thể chất, tình cảm, kỹ năng xã hội, trí tuệ, thẩm mỹ; tôn trọng sự khác biệt; phù hợp với các độ tuổi và liên thông với giáo dục tiểu học. 2. Phương pháp giáo dục mầm non được quy định như sau: a) Giáo dục nhà trẻ phải tạo điều kiện thuận lợi cho trẻ em được tích cực hoạt động, vui chơi, tạo sự gắn bó giữa người lớn với trẻ em; kích thích sự phát triển các giác quan, cảm xúc và các chức năng tâm sinh lý; b) Giáo dục mẫu giáo phải tạo điều kiện cho trẻ em được vui chơi, trải nghiệm, tìm tòi, khám phá môi trường xung quanh bằng nhiều hình thức, đáp ứng nhu cầu, hứng thú của trẻ em. '}]"
      ]
     },
     "execution_count": 34,
     "metadata": {},
     "output_type": "execute_result"
    }
   ],
   "source": [
    "search_results = title_content_vector_knn(ground_truth[0])\n",
    "search_results"
   ]
  },
  {
   "cell_type": "code",
   "execution_count": 141,
   "id": "972b0159",
   "metadata": {},
   "outputs": [
    {
     "data": {
      "text/plain": [
       "{'generated_question': 'Các loại hình cơ sở giáo dục mầm non được quy định như thế nào trong Luật Giáo Dục?',\n",
       " 'generated_answer': 'Cơ sở giáo dục mầm non bao gồm: 1. Nhà trẻ, nhóm trẻ độc lập nhận trẻ em từ 03 tháng tuổi đến 03 tuổi; 2. Trường mẫu giáo, lớp mẫu giáo độc lập nhận trẻ em từ 03 tuổi đến 06 tuổi; 3. Trường mầm non, lớp mầm non độc lập là cơ sở giáo dục kết hợp nhà trẻ và mẫu giáo, nhận trẻ em từ 03 tháng tuổi đến 06 tuổi.',\n",
       " 'doc_id': 'a0fcdc5b',\n",
       " 'law_title': 'Luật Giáo Dục'}"
      ]
     },
     "execution_count": 141,
     "metadata": {},
     "output_type": "execute_result"
    }
   ],
   "source": [
    "ground_truth[0]"
   ]
  },
  {
   "cell_type": "code",
   "execution_count": 39,
   "id": "c13a67cb",
   "metadata": {},
   "outputs": [
    {
     "name": "stdout",
     "output_type": "stream",
     "text": [
      "Mèo siêu béo\n"
     ]
    }
   ],
   "source": [
    "vietnamese_to_italian(\"con mèo siêu mập\")\n",
    "print(italian_to_vietnamese('Gatto super grasso'))"
   ]
  },
  {
   "cell_type": "code",
   "execution_count": 35,
   "id": "0b241372",
   "metadata": {},
   "outputs": [],
   "source": [
    "def rag_test(query: str) -> str:\n",
    "    search_results = title_content_vector_knn(query)\n",
    "    print(\"Search Results:\", search_results)\n",
    "\n",
    "    # Translate the query to Italian before passing it to build_prompt\n",
    "    translated_query = vietnamese_to_italian(query['generated_question'])\n",
    "    print(\"Translated Query:\", translated_query)\n",
    "\n",
    "    context = build_prompt(translated_query, search_results)  # Context is built using the translated query\n",
    "    print(\"Context:\", context)\n",
    "\n",
    "    answer = llm(context, translated_query)\n",
    "    print(\"LLM Answer:\", answer)\n",
    "\n",
    "    # Combine the formatted search results and translated answer with a newline separator\n",
    "    final_answer = italian_to_vietnamese(answer)\n",
    "    print(\"Final Answer:\", final_answer)\n",
    "\n",
    "    return final_answer"
   ]
  },
  {
   "cell_type": "code",
   "execution_count": 48,
   "id": "7c025101-f138-44fb-a7fa-2159a426422a",
   "metadata": {},
   "outputs": [],
   "source": [
    "def format_search_results(search_results):\n",
    "    \"\"\"\n",
    "    Formats the search results into a readable string.\n",
    "\n",
    "    Args:\n",
    "        search_results (list): A list of dictionaries, where each dictionary is a search result.\n",
    "\n",
    "    Returns:\n",
    "        str: The formatted search results string.\n",
    "    \"\"\"\n",
    "    formatted_results = \"\"\n",
    "    for doc in search_results:\n",
    "        formatted_results += (\n",
    "            f\"{doc['law_title']}\\n\"\n",
    "            f\"{doc['law_number']}\\n\"\n",
    "            f\"{doc['article_number']}\\n\"\n",
    "            f\"{doc['title']}\\n\"\n",
    "            f\"{doc['content']}\\n\\n\"\n",
    "        )\n",
    "    return formatted_results.strip()\n",
    "\n",
    "def rag(query: str) -> str:\n",
    "    search_results = title_content_vector_knn(query)\n",
    "\n",
    "    # Translate the query to Italian before passing it to build_prompt\n",
    "    translated_query = vietnamese_to_italian(query['generated_question'])\n",
    "\n",
    "    context = build_prompt(translated_query, search_results)  # Context is built using the translated query\n",
    "\n",
    "    answer = llm(context, translated_query)\n",
    "\n",
    "    # Combine the formatted search results and translated answer with a newline separator\n",
    "    final_answer = italian_to_vietnamese(answer)\n",
    "\n",
    "    return final_answer\n",
    "\n",
    "def rag_with_search(query: str) -> str:\n",
    "    search_results = title_content_vector_knn(query)\n",
    "    search_results_str = format_search_results(search_results)\n",
    "\n",
    "    # Translate the query to Italian before passing it to build_prompt\n",
    "    translated_query = vietnamese_to_italian(query['generated_question'])\n",
    "\n",
    "    context = build_prompt(translated_query, search_results)  # Context is built using the translated query\n",
    "\n",
    "    answer = llm(context, translated_query)\n",
    "\n",
    "    # Combine the formatted search results and translated answer with a newline separator\n",
    "    return print(f\"{search_results_str}\\n\\n DeepMount00/mamba_790_hf_qa:{italian_to_vietnamese(answer)}\")"
   ]
  },
  {
   "cell_type": "code",
   "execution_count": 49,
   "id": "ff47328e",
   "metadata": {},
   "outputs": [
    {
     "name": "stderr",
     "output_type": "stream",
     "text": [
      "The 'batch_size' argument of MambaCache is deprecated and will be removed in v4.49. Use the more precisely named 'max_batch_size' argument instead.\n"
     ]
    },
    {
     "data": {
      "text/plain": [
       "'Các loại tổ chức mầm non được quy định trong luật giáo dục là: trường tư thục, trường công được đầu tư bởi tiểu bang, trường công, trường tư, các hoạt động, đào tạo, giáo dục, lớp học, phòng ban, khóa học, v.v.'"
      ]
     },
     "execution_count": 49,
     "metadata": {},
     "output_type": "execute_result"
    }
   ],
   "source": [
    "rag(ground_truth[0])"
   ]
  },
  {
   "cell_type": "code",
   "execution_count": 165,
   "id": "256ad18e",
   "metadata": {},
   "outputs": [
    {
     "name": "stdout",
     "output_type": "stream",
     "text": [
      "Luật Hôn Nhân Và Gia Đình\n",
      "Số: 52/2014/QH13\n",
      "Điều 43\n",
      "Tài sản riêng của vợ, chồng\n",
      "1. Tài sản riêng của vợ, chồng gồm tài sản mà mỗi người có trước khi kết hôn; tài sản được thừa kế riêng, được tặng cho riêng trong thời kỳ hôn nhân; tài sản được chia riêng cho vợ, chồng theo quy định tại các điều 38, 39 và 40 của Luật này; tài sản phục vụ nhu cầu thiết yếu của vợ, chồng và tài sản khác mà theo quy định của pháp luật thuộc sở hữu riêng của vợ, chồng. 2. Tài sản được hình thành từ tài sản riêng của vợ, chồng cũng là tài sản riêng của vợ, chồng. Hoa lợi, lợi tức phát sinh từ tài sản riêng trong thời kỳ hôn nhân được thực hiện theo quy định tại khoản 1 Điều 33 và khoản 1 Điều 40 của Luật này.\n",
      "\n",
      " DeepMount00/mamba_790_hf_qa:Tài sản riêng của vợ chồng cô được coi là tài sản riêng của vợ chồng, người cũng bao gồm tài sản mà mỗi người có trước khi kết hôn, tài sản mà mỗi người có trước đám cưới, tài sản được thừa kế riêng với chồng e Theo các quy tắc của pháp luật, và các hoạt động phục vụ các nhu cầu thiết yếu của các vợ hoặc chồng khác và các tài sản khác.\n"
     ]
    }
   ],
   "source": [
    "rag_with_search(ground_truth[-1])"
   ]
  },
  {
   "cell_type": "code",
   "execution_count": 51,
   "id": "e5a6ad63-5b55-49c2-a115-cdccc4874720",
   "metadata": {},
   "outputs": [
    {
     "name": "stdout",
     "output_type": "stream",
     "text": [
      "Luật Giao Thông Đường Bộ\n",
      "Luật số: 23/2008/QH12\n",
      "Điều 17\n",
      "Tránh xe đi ngược chiều\n",
      "1. Trên đường không phân chia thành hai chiều xe chạy riêng biệt, hai xe đi ngược chiều tránh nhau, người điều khiển phải giảm tốc độ và cho xe đi về bên phải theo chiều xe chạy của mình. 2. Các trường hợp nhường đường khi tránh nhau quy định như sau: a) Nơi đường hẹp chỉ đủ cho một xe chạy và có chỗ tránh xe thì xe nào ở gần chỗ tránh hơn phải vào vị trí tránh, nhường đường cho xe kia đi; b) Xe xuống dốc phải nhường đường cho xe đang lên dốc; c) Xe nào có chướng ngại vật phía trước phải nhường đường cho xe không có chướng ngại vật đi trước. 3. Xe cơ giới đi ngược chiều gặp nhau không được dùng đèn chiếu xa. \n",
      "\n",
      "Luật Giao Thông Đường Bộ\n",
      "Luật số: 23/2008/QH12\n",
      "Điều 15\n",
      "Chuyển hướng xe\n",
      "1. Khi muốn chuyển hướng, người điều khiển phương tiện phải giảm tốc độ và có tín hiệu báo hướng rẽ. 2. Trong khi chuyển hướng, người lái xe, người điều khiển xe máy chuyên dùng phải nhường quyền đi trước cho người đi bộ, người đi xe đạp đang đi trên phần đường dành riêng cho họ, nhường đường cho các xe đi ngược chiều và chỉ cho xe chuyển hướng khi quan sát thấy không gây trở ngại hoặc nguy hiểm cho người và phương tiện khác. 3. Trong khu dân cư, người lái xe, người điều khiển xe máy chuyên dùng chỉ được quay đầu xe ở nơi đường giao nhau và nơi có biển báo cho phép quay đầu xe. 4. Không được quay đầu xe ở phần đường dành cho người đi bộ qua đường, trên cầu, đầu cầu, gầm cầu vượt, ngầm, trong hầm đường bộ, đường cao tốc, tại nơi đường bộ giao nhau cùng mức với đường sắt, đường hẹp, đường dốc, đoạn đường cong tầm nhìn bị che khuất. \n",
      "\n",
      "Luật Giao Thông Đường Bộ\n",
      "Luật số: 23/2008/QH12\n",
      "Điều 14\n",
      "Vượt xe\n",
      "1. Xe xin vượt phải có báo hiệu bằng đèn hoặc còi; trong đô thị và khu đông dân cư từ 22 giờ đến 5 giờ chỉ được báo hiệu xin vượt bằng đèn. 2. Xe xin vượt chỉ được vượt khi không có chướng ngại vật phía trước, không có xe chạy ngược chiều trong đoạn đường định vượt, xe chạy trước không có tín hiệu vượt xe khác và đã tránh về bên phải. 3. Khi có xe xin vượt, nếu đủ điều kiện an toàn, người điều khiển phương tiện phía trước phải giảm tốc độ, đi sát về bên phải của phần đường xe chạy cho đến khi xe sau đã vượt qua, không được gây trở ngại đối với xe xin vượt. 4. Khi vượt, các xe phải vượt về bên trái, trừ các trường hợp sau đây thì được phép vượt bên phải: a) Khi xe phía trước có tín hiệu rẽ trái hoặc đang rẽ trái; b) Khi xe điện đang chạy giữa đường; c) Khi xe chuyên dùng đang làm việc trên đường mà không thể vượt bên trái được. 5. Không được vượt xe khi có một trong các trường hợp sau đây: a) Không bảo đảm các điều kiện quy định tại khoản 2 Điều này; b) Trên cầu hẹp có một làn xe; c) Đường vòng, đầu dốc và các vị trí có tầm nhìn hạn chế; d) Nơi đường giao nhau, đường bộ giao nhau cùng mức với đường sắt; đ) Khi điều kiện thời tiết hoặc đường không bảo đảm an toàn cho việc vượt; e) Xe được quyền ưu tiên đang phát tín hiệu ưu tiên đi làm nhiệm vụ.\n",
      "\n",
      " DeepMount00/mamba_790_hf_qa:Không có câu trả lời trong bối cảnh\n"
     ]
    }
   ],
   "source": [
    "rag_with_search({'generated_question': 'chạy xe ngược chiều bị gì',\n",
    " 'generated_answer': 'Nhà nước có trách nhiệm tổ chức quản lý, bảo trì, bảo vệ kết cấu hạ tầng giao thông đường bộ, bao gồm việc xây dựng quy hoạch, kế hoạch và chính sách phát triển giao thông đường bộ, cũng như thực hiện các chương trình quốc gia về an toàn giao thông đường bộ.',\n",
    " 'doc_id': 'd2166e14',\n",
    " 'law_title': 'Luật Giao Thông Đường Bộ'})"
   ]
  },
  {
   "cell_type": "markdown",
   "id": "053bc755",
   "metadata": {},
   "source": [
    "## 100 question for evaluate"
   ]
  },
  {
   "cell_type": "code",
   "execution_count": 167,
   "id": "75123a0b-1aea-467c-84d9-ae5f6f6c2256",
   "metadata": {},
   "outputs": [
    {
     "data": {
      "text/plain": [
       "{'law_title': 'Luật Giáo Dục',\n",
       " 'law_number': 'Luật số: 43/2019/QH14',\n",
       " 'chapter_title': 'Chương I',\n",
       " 'article_number': 'Điều 1',\n",
       " 'title': 'Phạm vi điều chỉnh',\n",
       " 'content': 'Luật này quy định về hệ thống giáo dục quốc dân; cơ sở giáo dục, nhà giáo, người học; quản lý nhà nước về giáo dục; quyền và trách nhiệm của cơ quan, tổ chức, cá nhân liên quan đến hoạt động giáo dục. ',\n",
       " 'id': '75a9286e',\n",
       " 'title_content_vector': array([-1.97882224e-02, -1.99339297e-02,  4.56860475e-02,  8.96888971e-02,\n",
       "        -5.92795312e-02, -6.35427088e-02,  4.05403003e-02,  1.20414663e-02,\n",
       "         1.30230516e-01,  3.74822877e-02,  7.43912440e-03,  8.62386171e-03,\n",
       "         4.33983728e-02,  2.53979526e-02,  1.36169503e-02, -1.71789490e-02,\n",
       "         6.61228448e-02,  7.36672133e-02, -5.86116761e-02,  9.18327495e-02,\n",
       "        -1.52075256e-03,  4.18600067e-02,  3.99471521e-02,  8.13104771e-03,\n",
       "         2.45093219e-02,  8.91548989e-05,  2.86348090e-02, -6.75837044e-03,\n",
       "         1.57178324e-02,  5.52585609e-02,  1.17705390e-02,  5.95496828e-03,\n",
       "        -1.36533482e-02,  3.90819507e-03,  6.66174293e-02, -2.31575239e-02,\n",
       "        -1.98699106e-02,  4.71658185e-02,  1.02514410e-02,  5.18499576e-02,\n",
       "        -1.07755754e-02, -4.65019979e-03, -9.90018323e-02, -5.45790829e-02,\n",
       "         1.16914026e-02, -6.37483820e-02, -9.12048072e-02, -4.88089994e-02,\n",
       "        -3.31294797e-02, -3.42906304e-02, -8.89409892e-03,  1.38464607e-02,\n",
       "         2.76592448e-02,  3.03702373e-02,  1.30555024e-02, -6.72110096e-02,\n",
       "        -6.12668991e-02,  8.05784203e-03,  1.60065126e-02,  9.11568925e-02,\n",
       "        -4.55023050e-02,  4.07142602e-02, -3.98442820e-02, -2.15663295e-03,\n",
       "        -1.09871430e-02,  6.05622446e-03,  1.13751002e-01,  2.88625266e-02,\n",
       "         1.54049154e-02,  2.17854250e-02, -2.59449091e-02, -2.06726734e-02,\n",
       "         6.36177137e-03, -3.48505490e-02,  4.36222889e-02, -3.41947973e-02,\n",
       "         1.26460204e-02,  1.18791247e-02, -1.72960348e-02,  2.55805627e-02,\n",
       "        -6.32940605e-02, -1.27873905e-02,  4.03085463e-02, -8.69144313e-03,\n",
       "         3.22629362e-02, -2.84244455e-02, -1.56922843e-02,  6.75964868e-03,\n",
       "         4.47872207e-02, -1.75076239e-02, -2.43373029e-02,  5.54608814e-02,\n",
       "         3.86876725e-02,  1.35822641e-02, -3.66201252e-03,  1.21593308e-02,\n",
       "        -1.64994355e-02,  1.13994582e-02, -2.41392590e-02,  2.69384421e-02,\n",
       "        -5.47493398e-02, -2.69850343e-02,  2.68295920e-03,  1.83037221e-02,\n",
       "         5.61038516e-02,  3.29984762e-02, -6.47342652e-02, -8.60801488e-02,\n",
       "        -8.20627809e-02,  1.03383360e-03, -3.54028121e-02, -1.52368816e-02,\n",
       "        -1.92258246e-02,  1.16992071e-02, -7.37199374e-03, -6.99972585e-02,\n",
       "        -8.76934677e-02,  4.82466109e-02,  9.32560302e-03,  1.56299782e-03,\n",
       "         5.03594503e-02, -2.47773770e-02, -1.87867843e-02, -5.60578927e-02,\n",
       "        -2.63294019e-02,  2.02489225e-03,  4.52885265e-03, -5.15439510e-02,\n",
       "        -5.87531775e-02,  5.21741807e-02,  6.92582428e-02,  3.85817997e-02,\n",
       "        -7.43807405e-02, -1.00163859e-03,  1.43876364e-02, -7.27482289e-02,\n",
       "         2.74872091e-02, -3.55702937e-02, -1.39469132e-02, -2.53002392e-03,\n",
       "         2.43891254e-02, -2.22719759e-02,  2.92085987e-02, -1.31863132e-02,\n",
       "         4.40467037e-02, -2.11272240e-02,  1.30630052e-02, -9.54812579e-03,\n",
       "         1.60325132e-02, -9.59298015e-03, -1.14749325e-02,  5.05448785e-03,\n",
       "         1.24219405e-02, -2.19639894e-02, -9.36420113e-02,  1.25346836e-02,\n",
       "        -2.41750907e-02,  4.65310812e-02,  3.38518843e-02,  1.24587566e-02,\n",
       "        -9.44123324e-03, -4.10059504e-02,  1.72953848e-02, -1.77387502e-02,\n",
       "        -2.06292886e-02,  4.11508372e-03, -1.88253932e-02,  2.97383182e-02,\n",
       "        -6.03371337e-02, -9.47524421e-03,  1.70080573e-03,  5.54369092e-02,\n",
       "         3.73982987e-03,  4.56995293e-02, -1.91709399e-02,  5.17071970e-02,\n",
       "         4.51552263e-03, -1.74405817e-02, -1.68974083e-02, -7.38396047e-05,\n",
       "         1.28871398e-02,  3.00438721e-02,  1.64266936e-02, -1.23596760e-02,\n",
       "         2.49963887e-02,  5.37007116e-02,  1.46596152e-02, -3.34916785e-02,\n",
       "        -6.62616268e-02, -1.94380060e-02, -6.41178414e-02,  9.57213044e-02,\n",
       "        -2.27364991e-02, -5.68324365e-02, -3.72149758e-02, -3.52365971e-02,\n",
       "        -3.91937494e-02, -1.47837093e-02,  1.68652721e-02, -2.61589941e-02,\n",
       "        -3.49321552e-02, -5.22928797e-02, -5.03318831e-02, -6.80068284e-02,\n",
       "         6.38185889e-02, -3.36788222e-02, -1.81072261e-02, -4.90314662e-02,\n",
       "         7.22382870e-03, -2.38797180e-02,  6.37478530e-02, -3.05680335e-02,\n",
       "        -5.32255415e-03, -5.20670414e-02, -2.01467797e-02,  3.74589786e-02,\n",
       "         1.36511577e-02, -4.39700298e-02, -9.32888910e-02, -3.33278929e-03,\n",
       "         2.13854089e-02, -2.51023099e-02, -2.12562010e-02, -3.80894318e-02,\n",
       "         2.91582779e-03, -7.37526128e-03,  4.84443344e-02, -9.47581604e-03,\n",
       "         5.39071523e-02, -4.36178409e-02,  3.08205690e-02,  1.08805271e-02,\n",
       "        -2.64344569e-02, -1.82214677e-02, -6.62933476e-03, -4.34531681e-02,\n",
       "         2.40316335e-02,  8.30997434e-03,  6.77536009e-04,  1.17085008e-02,\n",
       "         4.95536020e-03,  2.92651355e-02,  8.11062194e-03, -1.26451468e-02,\n",
       "        -4.95704310e-03,  4.25521992e-02, -1.73015483e-02,  1.04802791e-02,\n",
       "         8.98090471e-03,  1.84325594e-02, -3.66717763e-02,  9.16522592e-02,\n",
       "        -1.11143626e-02, -6.81969821e-02, -1.29620293e-02, -1.53309721e-02,\n",
       "         2.87247393e-02, -2.09458228e-02, -1.45750390e-02, -5.50156385e-02,\n",
       "        -2.85355430e-02,  2.16825027e-02, -6.55925600e-03,  6.43746033e-02,\n",
       "         8.95649493e-02, -1.71960574e-02, -6.35135919e-02, -2.30324175e-03,\n",
       "         1.19748330e-02, -7.85747357e-03,  2.65271608e-02,  4.19202773e-03,\n",
       "        -3.02750361e-03, -3.55505408e-03,  2.41548866e-02, -4.34689457e-03,\n",
       "        -1.46510275e-02, -1.90944877e-02,  4.83760657e-03,  3.54315042e-02,\n",
       "        -4.91747372e-02,  2.32442711e-02, -3.87327862e-03, -3.11319847e-02,\n",
       "        -2.06513200e-02,  5.53575763e-03,  1.80164464e-02,  4.68767509e-02,\n",
       "         5.28238975e-02,  3.44063267e-02, -2.98938882e-02,  3.23506282e-03,\n",
       "        -1.93130430e-02, -1.54174585e-02, -1.93324219e-02,  1.29110469e-02,\n",
       "        -1.91833135e-02, -3.80007811e-02, -1.74334925e-02,  4.01562564e-02,\n",
       "         1.58459973e-02, -2.14617923e-02,  2.72560446e-03,  7.31100217e-02,\n",
       "         4.13615219e-02, -7.65324431e-03, -1.35348253e-02,  1.33758942e-02,\n",
       "         2.80163195e-02,  8.89339112e-03,  4.76474166e-02,  3.61502171e-02,\n",
       "        -4.06186562e-03, -3.15645598e-02, -3.12608071e-02,  4.60304432e-02,\n",
       "         3.59402187e-02,  8.53943173e-03, -4.56544086e-02, -1.42845903e-02,\n",
       "        -4.77020778e-02, -1.89343877e-02,  1.74007323e-02,  3.76502760e-02,\n",
       "        -1.63587406e-02,  1.02228289e-02, -6.39392734e-02,  4.30632047e-02,\n",
       "         5.24906665e-02, -1.65057238e-02,  4.21740785e-02, -1.12803588e-02,\n",
       "        -6.59309700e-02, -2.13322419e-04,  8.12904164e-03,  3.41546573e-02,\n",
       "         4.15423550e-02,  2.21973732e-02,  4.35294509e-02, -2.13745870e-02,\n",
       "         3.28156129e-02, -2.01711860e-02,  2.15878971e-02, -4.74285372e-02,\n",
       "         2.72833854e-02,  8.66241753e-04, -2.79878289e-03, -3.75492834e-02,\n",
       "        -1.19944913e-02,  2.28315499e-02,  6.19184924e-03, -1.50930863e-02,\n",
       "         2.08736919e-02, -2.09463425e-02, -1.38723524e-02, -2.33901292e-03,\n",
       "         3.83620374e-02,  5.78371212e-02,  3.34197171e-02, -1.34063121e-02,\n",
       "        -5.83260208e-02, -1.70928314e-02, -1.86355282e-02,  7.63078555e-02,\n",
       "         6.23494899e-03, -9.88758728e-03, -6.56128395e-03,  2.26542004e-03,\n",
       "        -4.54940498e-02, -4.73272130e-02, -3.64385471e-02, -2.61524003e-02,\n",
       "        -1.59813333e-02,  1.07688562e-03,  1.40987420e-02, -1.07931131e-02,\n",
       "        -1.54987853e-02, -1.31036388e-02,  3.20458151e-02,  4.51768637e-02,\n",
       "         6.22657537e-02,  2.06491537e-02,  4.01663780e-02,  9.37112980e-03,\n",
       "        -9.60026216e-03,  5.96565194e-03, -1.58619881e-02,  2.29686033e-02,\n",
       "        -2.01997869e-02, -8.80624913e-03, -9.04443860e-03, -2.43520550e-02,\n",
       "         5.56076644e-03,  1.04095817e-01,  9.10422020e-03,  9.54340771e-02,\n",
       "        -6.70988858e-02, -3.57702677e-03,  4.37985286e-02, -1.43238464e-02,\n",
       "        -4.11667749e-02,  3.30924504e-02,  3.50279845e-02, -4.45931964e-03,\n",
       "         8.29215813e-03,  9.55675449e-03, -4.73760851e-02, -6.09743670e-02,\n",
       "         1.92651507e-02,  1.29455281e-02,  5.13535477e-02,  1.75243188e-02,\n",
       "         1.14804143e-02,  2.04478558e-02,  1.53614227e-02, -2.67983172e-02,\n",
       "        -2.67522540e-02, -9.76130366e-02, -1.75153017e-02,  4.88365553e-02,\n",
       "         4.09931988e-02, -1.72837842e-02,  6.74918247e-03, -4.92163142e-03,\n",
       "         3.65142561e-02,  1.26354201e-02,  4.95755300e-02,  6.01049326e-02,\n",
       "         2.94875819e-03, -4.36782092e-02,  3.98193225e-02,  1.46994684e-02,\n",
       "        -1.80374049e-02, -1.39776142e-02, -2.96009127e-02,  1.25235999e-02,\n",
       "         3.92782241e-02,  2.22490598e-02,  4.65829931e-02, -4.67952155e-02,\n",
       "         2.22957367e-03,  1.48853334e-02,  5.22739533e-03,  4.19783741e-02,\n",
       "        -4.25840020e-02,  3.08056585e-02,  4.27514352e-02,  1.28574464e-02,\n",
       "        -8.61365721e-03,  4.48062606e-02,  1.52134988e-02,  4.14292254e-02,\n",
       "         2.87349075e-02, -1.64732952e-02, -6.77748322e-02, -5.05477078e-02,\n",
       "         2.09582709e-02, -1.64897021e-04,  1.36725872e-03,  1.40340514e-02,\n",
       "        -1.28160939e-02,  5.20012565e-02, -2.21281070e-02, -8.55724234e-03,\n",
       "         6.84362650e-02,  1.73817854e-02,  6.69185743e-02,  5.88517124e-03,\n",
       "         2.29596216e-02,  2.07045171e-02, -4.53006104e-02,  5.23399338e-02,\n",
       "         1.29066873e-03, -3.24367881e-02,  4.10664873e-03, -6.69645220e-02,\n",
       "        -9.58189927e-03, -1.23540394e-03,  4.41633202e-02, -1.08801397e-02,\n",
       "         2.73239110e-02,  3.85403982e-03, -2.47026258e-03,  3.88960727e-02,\n",
       "         4.58521470e-02, -5.54085635e-02,  2.07461268e-02, -3.92487198e-02,\n",
       "        -4.47965600e-03, -8.69084988e-03,  2.60262750e-02, -4.19213390e-03,\n",
       "        -2.97878142e-02,  2.35664677e-02, -7.96415098e-03,  2.18448490e-02,\n",
       "         3.65405902e-02, -1.22046340e-02, -1.00375796e-02,  8.72720499e-03,\n",
       "        -3.13841812e-02, -1.81800239e-02, -1.44146141e-02,  1.71566252e-02,\n",
       "        -2.80238353e-02,  8.55374336e-02,  2.87550241e-02, -2.00633015e-02,\n",
       "         2.92376913e-02,  1.63980573e-02, -4.76357900e-02,  8.03555269e-03,\n",
       "         1.71756800e-02, -2.88448837e-02,  4.37149256e-02, -1.86623689e-02,\n",
       "         2.42796801e-02,  1.95773551e-03,  7.27227936e-03,  6.69320822e-02,\n",
       "        -6.48769662e-02,  2.78404038e-02, -1.83672979e-02, -2.92773023e-02,\n",
       "        -1.81942042e-02,  4.23556892e-03,  3.85336727e-02, -3.40383761e-02,\n",
       "         2.68219765e-02, -1.63578987e-02,  2.56916531e-03, -3.07611283e-02,\n",
       "         3.57556716e-02,  9.54027846e-03,  2.64919382e-02,  5.11950925e-02,\n",
       "        -3.34491134e-02,  2.19015740e-02,  2.93436623e-03, -1.62582193e-02,\n",
       "         6.74641051e-04, -8.51502642e-03,  2.88350154e-02, -8.47680047e-02,\n",
       "        -4.15115021e-02,  1.19707674e-01, -4.87178713e-02,  7.53136724e-03,\n",
       "        -5.01665846e-02, -1.85451806e-02, -3.68262008e-02, -1.55517757e-02,\n",
       "        -2.97107249e-02,  9.92915710e-04,  5.05388193e-02, -4.29523364e-02,\n",
       "        -2.32805312e-02,  3.20299156e-02, -3.18012610e-02, -1.83809735e-02,\n",
       "        -1.89291462e-02, -4.09509465e-02, -3.40047218e-02, -9.96134058e-02,\n",
       "        -3.55561860e-02, -4.04128022e-02, -4.50617336e-02,  7.23582730e-02,\n",
       "        -1.25143640e-02,  4.77954932e-02,  5.67339547e-02, -1.00527341e-02,\n",
       "         1.34902308e-02,  2.59200633e-02,  6.73387572e-02,  6.43660361e-03,\n",
       "         1.23883067e-02, -1.92032475e-02, -2.87992321e-02, -3.27026546e-02,\n",
       "         1.15649533e-02, -2.35412270e-02,  6.26865178e-02,  2.67271511e-02,\n",
       "        -3.69218402e-02, -3.62002701e-02, -1.29175587e-02,  5.74038504e-03,\n",
       "         3.71893384e-02,  1.54084200e-02, -1.58194900e-02,  3.91851664e-02,\n",
       "         2.54670694e-03,  2.62733549e-02, -1.00667365e-02,  2.17556972e-02,\n",
       "        -3.86073627e-02, -5.04170321e-02, -4.79236841e-02,  6.78841323e-02,\n",
       "        -1.41769489e-02, -5.61675578e-02,  3.81185859e-02, -7.24912509e-02,\n",
       "        -2.45659966e-02,  3.24886013e-03, -3.45380302e-03, -1.67503748e-02,\n",
       "         1.27828969e-02,  1.71677545e-02,  2.36565247e-02,  9.43487957e-02,\n",
       "         4.42845188e-03, -2.38926783e-02,  1.24338246e-03,  2.61720363e-02,\n",
       "        -1.92451128e-03, -3.27551030e-02,  3.84874903e-02,  1.10410266e-02,\n",
       "         1.64317694e-02, -2.54522134e-02, -2.62701139e-02,  1.88749488e-02,\n",
       "         6.01074845e-02, -4.14118618e-02,  2.88087558e-02,  2.21520774e-02,\n",
       "        -6.25638813e-02, -1.75865944e-02, -4.66132397e-03,  2.03321613e-02,\n",
       "         8.89953077e-02,  6.73462171e-03, -5.70559092e-02, -1.54262986e-02,\n",
       "        -4.27061841e-02, -6.31707767e-03,  4.06382643e-02, -2.08228752e-02,\n",
       "         1.23508396e-02, -4.92451414e-02,  3.74059342e-02,  1.98138934e-02,\n",
       "         1.73211750e-02,  1.25189247e-02,  1.58958975e-02,  3.44202407e-02,\n",
       "         2.06022779e-03, -2.27816440e-02,  3.91141213e-02, -1.50891580e-02,\n",
       "         2.82007512e-02, -2.05639098e-02,  3.23717482e-02,  2.54114717e-02,\n",
       "        -5.55961905e-03,  6.67542070e-02, -4.35899422e-02, -3.02439332e-02,\n",
       "         1.38064716e-02,  4.62053195e-02,  1.73406340e-02,  4.80172820e-02,\n",
       "        -7.49637652e-03, -6.37933686e-02,  2.17441190e-03,  1.48110753e-02,\n",
       "         2.65085176e-02, -5.41339926e-02,  9.45320353e-03,  5.47394576e-03,\n",
       "         5.32723293e-02, -2.22679283e-02,  1.90740228e-02,  2.49079764e-02,\n",
       "        -1.53810950e-02,  5.38324378e-02,  9.11469199e-03, -5.22047356e-02,\n",
       "        -2.56421641e-02,  3.48772593e-02,  2.25119069e-02,  2.74150148e-02,\n",
       "         2.05354728e-02,  2.93200538e-02, -1.51664102e-02,  2.88243778e-02,\n",
       "         3.85946594e-02,  5.02680289e-03,  3.81097309e-02,  1.84765682e-02,\n",
       "         1.64019447e-02,  1.16203278e-02,  2.18171906e-02, -5.41566201e-02,\n",
       "         2.50826534e-02, -6.00952357e-02, -3.09177805e-02, -7.13045746e-02,\n",
       "        -7.69537268e-03, -4.94934618e-02, -6.95180818e-02, -4.04841341e-02,\n",
       "        -2.41784938e-02,  1.64461136e-02, -7.86525896e-04,  5.06165549e-02,\n",
       "         5.20631224e-02, -2.42694821e-02,  1.53768957e-02, -4.22427431e-02,\n",
       "         1.04187371e-03,  4.75595072e-02, -2.74405070e-03,  5.13291638e-03,\n",
       "         2.43977327e-02,  2.07354911e-02, -3.09179761e-02, -4.24440764e-02,\n",
       "        -2.58231424e-02, -1.22568365e-02,  3.34280320e-02,  2.79327836e-02,\n",
       "        -1.75710544e-02,  7.39873946e-03, -1.13544064e-02, -4.78621013e-02,\n",
       "         6.40647188e-02,  1.06481183e-03,  3.66425316e-04,  7.42186978e-02,\n",
       "         1.98641568e-02,  2.12538596e-02, -1.80600882e-02, -2.65915357e-02,\n",
       "        -5.91531396e-02, -3.79025377e-03, -4.38901223e-02, -2.89438237e-02,\n",
       "         6.84824539e-03, -2.77204177e-04,  1.09340493e-02, -5.01964949e-02,\n",
       "        -3.46182548e-02,  5.59873367e-03, -2.96822172e-02, -6.29666522e-02,\n",
       "         3.74335572e-02, -6.62331749e-03, -8.99591134e-04, -4.11284044e-02,\n",
       "         1.80794578e-02,  6.50274521e-03,  6.55135512e-03, -5.40625937e-02,\n",
       "        -1.79281819e-03,  2.60692090e-02,  3.50623168e-02, -2.42680479e-02,\n",
       "        -4.50993106e-02, -4.09372784e-02,  8.10219068e-03,  6.79503530e-02,\n",
       "        -8.18075426e-03, -2.00214479e-02,  3.33608389e-02,  2.29214579e-02],\n",
       "       dtype=float32)}"
      ]
     },
     "execution_count": 167,
     "metadata": {},
     "output_type": "execute_result"
    }
   ],
   "source": [
    "doc_idx['75a9286e']"
   ]
  },
  {
   "cell_type": "markdown",
   "id": "3c26035e-ea80-4817-93a9-46a6af4eaf91",
   "metadata": {},
   "source": [
    "## Cosine similarity metric"
   ]
  },
  {
   "cell_type": "code",
   "execution_count": null,
   "id": "754db44d-5e73-4784-9369-707691fb9229",
   "metadata": {},
   "outputs": [
    {
     "data": {
      "text/plain": [
       "np.float32(0.65316844)"
      ]
     },
     "execution_count": 25,
     "metadata": {},
     "output_type": "execute_result"
    }
   ],
   "source": [
    "law_content = 'Những quyền và trách nhiệm nào của cá nhân liên quan đến hoạt động giáo dục được quy định trong Luật này?'\n",
    "\n",
    "rag_answer_llm = 'Học sinh chịu trách nhiệm về an toàn cho việc học tập, đào tạo, nghiên cứu và thúc đẩy truyền thống của các tổ chức giáo dục.'\n",
    "\n",
    "\n",
    "v_llm = model.encode(rag_answer_llm)\n",
    "v_orig = model.encode(law_content)\n",
    "\n",
    "v_llm.dot(v_orig)"
   ]
  },
  {
   "cell_type": "code",
   "execution_count": 168,
   "id": "f8a789ed",
   "metadata": {},
   "outputs": [
    {
     "data": {
      "text/plain": [
       "{'generated_question': 'Các loại hình cơ sở giáo dục mầm non được quy định như thế nào trong Luật Giáo Dục?',\n",
       " 'generated_answer': 'Cơ sở giáo dục mầm non bao gồm: 1. Nhà trẻ, nhóm trẻ độc lập nhận trẻ em từ 03 tháng tuổi đến 03 tuổi; 2. Trường mẫu giáo, lớp mẫu giáo độc lập nhận trẻ em từ 03 tuổi đến 06 tuổi; 3. Trường mầm non, lớp mầm non độc lập là cơ sở giáo dục kết hợp nhà trẻ và mẫu giáo, nhận trẻ em từ 03 tháng tuổi đến 06 tuổi.',\n",
       " 'doc_id': 'a0fcdc5b',\n",
       " 'law_title': 'Luật Giáo Dục'}"
      ]
     },
     "execution_count": 168,
     "metadata": {},
     "output_type": "execute_result"
    }
   ],
   "source": [
    "ground_truth[0]"
   ]
  },
  {
   "cell_type": "code",
   "execution_count": 170,
   "id": "61f7deed-9730-467d-afc7-f053b23fe8e6",
   "metadata": {},
   "outputs": [
    {
     "name": "stdout",
     "output_type": "stream",
     "text": [
      "101\n"
     ]
    }
   ],
   "source": [
    "print(len(ground_truth))"
   ]
  },
  {
   "cell_type": "code",
   "execution_count": 172,
   "id": "df95a351",
   "metadata": {},
   "outputs": [
    {
     "data": {
      "text/plain": [
       "{'generated_question': 'Các loại hình cơ sở giáo dục mầm non được quy định như thế nào trong Luật Giáo Dục?',\n",
       " 'generated_answer': 'Cơ sở giáo dục mầm non bao gồm: 1. Nhà trẻ, nhóm trẻ độc lập nhận trẻ em từ 03 tháng tuổi đến 03 tuổi; 2. Trường mẫu giáo, lớp mẫu giáo độc lập nhận trẻ em từ 03 tuổi đến 06 tuổi; 3. Trường mầm non, lớp mầm non độc lập là cơ sở giáo dục kết hợp nhà trẻ và mẫu giáo, nhận trẻ em từ 03 tháng tuổi đến 06 tuổi.',\n",
       " 'doc_id': 'a0fcdc5b',\n",
       " 'law_title': 'Luật Giáo Dục'}"
      ]
     },
     "execution_count": 172,
     "metadata": {},
     "output_type": "execute_result"
    }
   ],
   "source": [
    "ground_truth[0]"
   ]
  },
  {
   "cell_type": "code",
   "execution_count": 173,
   "id": "14e923cd",
   "metadata": {},
   "outputs": [
    {
     "data": {
      "text/plain": [
       "{'law_title': 'Luật Giáo Dục',\n",
       " 'law_number': 'Luật số: 43/2019/QH14',\n",
       " 'chapter_title': 'Chương II',\n",
       " 'article_number': 'Điều 26',\n",
       " 'title': 'Cơ sở giáo dục mầm non',\n",
       " 'content': 'Cơ sở giáo dục mầm non bao gồm: 1. Nhà trẻ, nhóm trẻ độc lập nhận trẻ em từ 03 tháng tuổi đến 03 tuổi; 2. Trường mẫu giáo, lớp mẫu giáo độc lập nhận trẻ em từ 03 tuổi đến 06 tuổi; 3. Trường mầm non, lớp mầm non độc lập là cơ sở giáo dục kết hợp nhà trẻ và mẫu giáo, nhận trẻ em từ 03 tháng tuổi đến 06 tuổi. ',\n",
       " 'id': 'a0fcdc5b',\n",
       " 'title_content_vector': array([ 7.95298629e-03, -4.98195663e-02, -1.41766975e-02,  9.84302834e-02,\n",
       "        -6.20751604e-02, -6.11004829e-02,  1.06136993e-01, -1.19053842e-02,\n",
       "         3.72010469e-02, -7.81889558e-02, -5.54205850e-03, -3.55521473e-03,\n",
       "         7.56526589e-02,  9.28157344e-02,  1.14507992e-02,  3.76506476e-03,\n",
       "         5.42252045e-03, -7.10310601e-03,  7.21576810e-03,  2.13801078e-02,\n",
       "         2.43167114e-02, -1.93169750e-02,  2.54439772e-03,  1.40028857e-02,\n",
       "        -1.95312127e-02,  7.82484338e-02, -8.24304763e-03, -1.79862455e-02,\n",
       "         1.08295582e-01,  6.28066659e-02, -5.08609861e-02, -1.84657481e-02,\n",
       "         2.89686210e-02, -4.20259684e-02,  9.08224434e-02,  1.31264003e-02,\n",
       "         4.79310891e-03,  2.04529241e-02, -3.20855603e-02, -4.94644195e-02,\n",
       "        -8.49969406e-03, -9.17999819e-02, -7.59129897e-02, -2.34136451e-02,\n",
       "        -2.13193391e-02,  8.42367671e-03, -3.63980010e-02, -1.18931778e-01,\n",
       "         7.18418732e-02, -3.25351208e-02, -2.01344918e-02,  4.02072184e-02,\n",
       "         5.81500083e-02,  2.27707904e-02, -1.93712097e-02, -2.04274543e-02,\n",
       "         3.62983420e-02, -2.75729736e-03, -5.44666871e-03, -3.64913940e-02,\n",
       "         2.71604806e-02,  5.34885190e-03, -4.11047135e-03, -6.32366687e-02,\n",
       "         1.26667032e-02,  1.87178701e-02, -6.36597425e-02, -1.87728293e-02,\n",
       "         4.26006913e-02,  1.99144240e-02,  1.19642243e-01,  8.81708506e-03,\n",
       "         4.13694568e-02,  2.10451670e-02, -4.16863002e-02,  4.65327166e-02,\n",
       "        -2.15257686e-02, -7.42034102e-03, -1.82428360e-02,  1.70588922e-02,\n",
       "        -1.05642341e-02, -2.69132014e-02,  2.12351829e-02,  1.34226447e-02,\n",
       "        -1.53208487e-02, -1.62965804e-02, -2.84939874e-02, -2.64493190e-02,\n",
       "        -1.85968410e-02,  4.08073962e-02, -6.82408661e-02,  6.98501756e-03,\n",
       "         5.05259410e-02,  1.24181537e-02, -2.37708930e-02,  1.47907110e-02,\n",
       "         4.04443534e-04,  2.97079161e-02, -2.19932105e-02,  4.11858037e-02,\n",
       "         8.94220197e-04,  3.95954065e-02,  3.45606394e-02, -1.37501320e-06,\n",
       "        -6.59260433e-04,  7.19812214e-02, -1.97354238e-02, -6.33466765e-02,\n",
       "        -1.54234646e-02,  1.46442307e-02, -5.01695685e-02,  5.10268882e-02,\n",
       "        -1.24826254e-02, -5.02641350e-02,  1.36776231e-02, -1.08606830e-01,\n",
       "         1.25500308e-02, -2.69398708e-02,  4.74170595e-02, -9.40107927e-03,\n",
       "         2.93752998e-02,  6.37344196e-02, -5.63572235e-02, -2.46447902e-02,\n",
       "        -3.51978317e-02, -2.70781294e-02,  1.36170471e-02,  6.67728344e-03,\n",
       "         2.45676879e-02,  7.61425048e-02,  4.68810573e-02,  7.08116665e-02,\n",
       "        -1.85412262e-02, -8.83050188e-02,  1.88883441e-03, -2.35411059e-02,\n",
       "         5.06527349e-02, -1.88926291e-02, -3.00914869e-02, -5.68270274e-02,\n",
       "        -3.80530837e-03,  2.53745988e-02,  1.64244429e-03, -5.17699495e-03,\n",
       "         7.92128071e-02,  2.54820846e-02,  4.52070497e-02,  7.41615240e-03,\n",
       "         1.90410390e-02, -1.81359462e-02, -4.77519520e-02,  3.57230268e-02,\n",
       "        -6.54025981e-03,  1.77828986e-02, -4.69280332e-02,  5.31717651e-02,\n",
       "        -6.84668198e-02,  1.20295156e-02,  3.35291997e-02, -1.71221010e-02,\n",
       "        -5.31415194e-02,  1.88817549e-02,  5.09248227e-02, -9.76771396e-03,\n",
       "        -7.82767870e-03, -3.67850950e-03, -1.45586869e-02,  6.50925711e-02,\n",
       "         7.09538115e-03,  3.70072164e-02,  1.90982986e-02,  4.11527827e-02,\n",
       "        -1.80438161e-02,  4.64884844e-03, -3.98196504e-02,  2.84385569e-02,\n",
       "        -2.15914636e-03, -6.29610335e-03, -1.79849640e-02,  6.46962598e-02,\n",
       "         1.46909365e-02, -1.34735452e-02, -7.73908244e-03, -1.49535211e-02,\n",
       "         1.59204733e-02,  1.91199351e-02, -3.02948076e-02, -7.69701786e-03,\n",
       "        -5.83590493e-02, -5.42080216e-03,  1.44200190e-03, -3.84940468e-02,\n",
       "        -1.44443512e-02, -1.21855577e-02, -2.18415353e-02, -1.74260754e-02,\n",
       "        -2.51688920e-02,  3.06376927e-02, -1.71991829e-02,  1.09398440e-02,\n",
       "        -4.54758853e-02, -2.28216425e-02, -1.48804151e-02,  6.02804543e-03,\n",
       "         1.49956467e-02, -6.64243326e-02, -3.18401530e-02, -1.59515459e-02,\n",
       "         7.61497170e-02, -4.08802517e-02,  3.77152003e-02, -2.47900598e-02,\n",
       "        -4.77758348e-02,  2.89061219e-02,  3.01022436e-02,  1.32695241e-02,\n",
       "         2.62976699e-02,  3.09083462e-02, -5.15820272e-02, -1.23198591e-02,\n",
       "         1.20136151e-02, -1.08902957e-02,  4.57616933e-02, -2.24273819e-02,\n",
       "        -1.70096029e-02,  1.11646140e-02,  6.83806464e-02, -1.54840257e-02,\n",
       "        -6.55203825e-03, -1.27554350e-02,  4.49079983e-02, -6.85361177e-02,\n",
       "         7.49990926e-04, -1.09767793e-02, -1.40109211e-02, -6.17148727e-02,\n",
       "        -1.27900904e-02, -1.43196224e-03, -1.74909253e-02,  2.72349752e-02,\n",
       "        -4.05620374e-02,  1.76330153e-02, -2.34645023e-03,  5.36760911e-02,\n",
       "         1.88975986e-02,  8.08756351e-02,  8.14431906e-02, -3.56625132e-02,\n",
       "         7.84328906e-04,  1.35272276e-02, -1.31957866e-02, -3.60268578e-02,\n",
       "         3.63168051e-03,  3.72886546e-02, -7.67851435e-03, -1.43290590e-02,\n",
       "         2.74501294e-02, -5.53596132e-02, -4.61181961e-02,  8.31838883e-03,\n",
       "        -8.21976736e-03,  2.56898976e-03,  8.81925877e-03,  2.36450210e-02,\n",
       "        -2.92669516e-02, -1.51212979e-02,  1.42885838e-02,  1.57953780e-02,\n",
       "         3.84287932e-03,  5.63567579e-02,  1.01664811e-01,  2.03035437e-02,\n",
       "        -7.09784627e-02,  4.55634557e-02,  2.43401621e-03, -1.05221360e-03,\n",
       "        -9.30380896e-02, -3.07889339e-02, -1.85356122e-02,  6.95492402e-02,\n",
       "         1.92345474e-02,  2.32306700e-02, -1.80398915e-02, -8.76416713e-02,\n",
       "        -2.64850352e-02, -4.01989929e-02,  1.47436252e-02,  4.07448225e-02,\n",
       "         2.20442675e-02,  3.67298350e-02, -2.29328573e-02, -2.41654404e-02,\n",
       "         1.64539851e-02, -5.98133588e-03, -1.06558707e-02, -3.82890254e-02,\n",
       "         5.37900580e-03, -5.91746047e-02,  9.90566704e-03,  6.27839100e-03,\n",
       "        -2.42525786e-02, -3.45239975e-02, -3.16108018e-02,  5.85145243e-02,\n",
       "         2.01001260e-02, -1.82713987e-03, -1.01334825e-02,  2.51999963e-02,\n",
       "         3.37404460e-02, -8.31390470e-02, -5.88471361e-04,  5.69991879e-02,\n",
       "         2.25921869e-02, -1.04485061e-02,  4.73922528e-02, -2.69756448e-02,\n",
       "        -1.74963828e-02, -4.88198996e-02,  2.24390393e-03, -9.04749334e-03,\n",
       "        -1.90681890e-02, -2.56864987e-02,  2.41291858e-02, -5.18459938e-02,\n",
       "         2.03286312e-04,  5.23048453e-02, -6.25369027e-02, -8.37846398e-02,\n",
       "         1.41553469e-02, -4.68758158e-02,  3.07256971e-02, -1.34942895e-02,\n",
       "        -2.60331053e-02,  1.65777432e-03,  1.74426362e-02, -4.59598377e-02,\n",
       "         5.03107859e-03, -2.13525258e-02, -8.33429862e-03, -1.85402799e-02,\n",
       "         2.17410736e-03,  3.49689350e-02,  2.97030527e-02, -5.23326779e-03,\n",
       "        -2.73132566e-02,  2.81054713e-02, -4.85165194e-02, -1.64524876e-02,\n",
       "         4.09675688e-02,  3.78673710e-02,  2.71680411e-02, -1.81582035e-03,\n",
       "         5.86750917e-04, -2.15326566e-02, -2.26738751e-02,  1.78489462e-02,\n",
       "         1.10502746e-02,  2.34759059e-02, -3.77955474e-02,  5.11540994e-02,\n",
       "        -2.09951606e-02, -4.92577143e-02,  3.74078372e-04,  1.97334848e-02,\n",
       "        -6.52713561e-03,  1.69977695e-02, -1.35567104e-02,  1.11758979e-02,\n",
       "        -2.25330815e-02, -7.13987797e-02,  1.50306278e-03,  6.32022098e-02,\n",
       "        -1.13165528e-02,  5.41059934e-02,  4.45116386e-02, -3.53837881e-04,\n",
       "         2.31471099e-02,  6.68387860e-02,  1.17046377e-02,  5.31556197e-02,\n",
       "         4.08779196e-02, -1.00424020e-02,  2.30620466e-02, -8.25213734e-03,\n",
       "        -4.64091040e-02,  6.41102996e-03,  2.43611783e-02,  7.74952397e-02,\n",
       "        -1.02069266e-02,  2.99208239e-02, -1.61329191e-02,  4.93651964e-02,\n",
       "         4.03012037e-02,  3.64878923e-02,  5.45251332e-02,  4.75420803e-02,\n",
       "        -6.13151416e-02, -1.56995393e-02,  2.95352899e-02, -2.26090476e-02,\n",
       "        -5.61977290e-02, -5.31033147e-03, -8.24692845e-03, -1.03077386e-02,\n",
       "        -1.49316257e-02, -7.25927530e-03,  4.72096056e-02, -1.74300410e-02,\n",
       "         2.90362444e-02,  5.47279269e-02,  3.18728313e-02, -5.36357239e-02,\n",
       "        -6.08032420e-02,  3.99690717e-02,  1.53351231e-02, -1.35171181e-02,\n",
       "         4.51143086e-02, -4.46201535e-03,  7.39892153e-03, -4.58491631e-02,\n",
       "         3.02008819e-02, -1.41980797e-02, -4.53366339e-02, -3.02362572e-02,\n",
       "         4.16766293e-02,  7.16051832e-03, -1.39342835e-02, -3.75727974e-02,\n",
       "        -3.95158975e-04, -4.93135629e-03,  1.12464214e-02,  2.88920291e-03,\n",
       "        -3.09004192e-03, -2.12276466e-02,  3.70124914e-02, -1.97004247e-02,\n",
       "        -3.72621380e-02,  2.72607766e-02,  5.49291335e-02, -6.06775768e-02,\n",
       "        -1.32331336e-02,  1.84433535e-02,  3.58818397e-02,  3.72117572e-02,\n",
       "         3.99355497e-03,  4.86505777e-02, -1.51432985e-02,  2.18520556e-02,\n",
       "        -6.70496672e-02,  1.86140686e-02,  4.03003246e-02, -3.19220312e-02,\n",
       "        -2.04927265e-03, -4.01982144e-02,  4.29491326e-02, -4.28630598e-02,\n",
       "         1.17443800e-02, -3.43358405e-02, -1.14581939e-02, -3.24704908e-02,\n",
       "        -2.85639111e-02,  7.03020196e-04, -9.39115509e-03, -5.43126836e-03,\n",
       "         1.36184692e-03, -3.27461325e-02, -3.94706577e-02, -3.23407613e-02,\n",
       "        -4.27271426e-03, -2.35168878e-02,  3.53417248e-02, -4.25046869e-02,\n",
       "         2.71507688e-02, -5.67350574e-02, -3.92921120e-02, -1.14196306e-02,\n",
       "         1.28358509e-02, -9.17560980e-03,  5.38002662e-02,  2.39148922e-02,\n",
       "        -1.90946665e-02,  4.57725575e-04, -8.27577710e-03, -1.74370892e-02,\n",
       "         3.66510376e-02, -7.01922327e-02,  1.88252330e-02, -4.62544672e-02,\n",
       "         3.52389775e-02, -3.53989447e-03, -7.77551858e-03,  1.63194537e-02,\n",
       "        -2.03736499e-02,  8.06408096e-03, -6.18109070e-02,  3.28403041e-02,\n",
       "         7.99381360e-02, -6.74045738e-03, -7.64294490e-02,  4.35534716e-02,\n",
       "        -1.39837479e-02, -1.95814334e-02, -7.55364969e-02, -2.26061121e-02,\n",
       "        -6.54815063e-02,  3.52939293e-02, -1.24525093e-02, -1.16356686e-02,\n",
       "         2.44741067e-02,  1.33198807e-02,  7.54591869e-03, -5.25304489e-02,\n",
       "         6.06064275e-02, -2.90283784e-02,  1.41782183e-02, -3.97407003e-02,\n",
       "         8.09502788e-03, -1.35780340e-02, -2.17441078e-02,  3.55118178e-02,\n",
       "        -3.51545289e-02,  1.52922515e-03, -8.99742637e-03, -3.32586244e-02,\n",
       "        -1.70113128e-02, -1.83158312e-02,  5.64803928e-02,  1.32213701e-02,\n",
       "        -1.74355078e-02,  3.96158285e-02,  5.19411825e-03,  5.79790659e-02,\n",
       "        -3.04393079e-02, -2.44251098e-02,  2.57016569e-02,  5.13283769e-03,\n",
       "        -6.58201352e-02,  9.30202100e-03, -3.98206040e-02, -3.84626277e-02,\n",
       "         1.95522103e-02, -2.00019013e-02,  5.92907667e-02, -1.32987676e-02,\n",
       "        -4.72912379e-02,  6.14231564e-02,  4.10465151e-02,  2.15742178e-02,\n",
       "         2.52612419e-02,  4.01927829e-02, -2.97162198e-02, -4.72799614e-02,\n",
       "        -9.71390493e-03, -4.24439181e-03, -8.81445222e-03,  1.64174300e-03,\n",
       "         2.04027668e-02, -2.52252314e-02, -2.02427199e-03,  3.43192555e-02,\n",
       "         1.05446447e-02, -2.43792217e-03,  2.67927982e-02, -4.55539562e-02,\n",
       "        -1.72874623e-03, -6.01171888e-02, -1.46256043e-02,  3.79097164e-02,\n",
       "        -7.83261210e-02,  5.61217079e-03,  5.45297861e-02,  5.52193671e-02,\n",
       "         3.53870876e-02,  3.58745381e-02, -2.32169777e-02,  2.98146773e-02,\n",
       "        -1.47051010e-02, -3.55958566e-02,  6.72099786e-03, -5.53396456e-02,\n",
       "        -9.41012986e-03, -4.28136364e-02,  1.47053255e-02,  3.33722569e-02,\n",
       "        -4.66138870e-02, -1.69618316e-02, -9.30930395e-03, -5.88035770e-03,\n",
       "         9.38284397e-03, -2.99542584e-02, -3.22050750e-02, -5.97413862e-03,\n",
       "        -2.38977023e-03,  1.03512211e-02,  1.71522200e-02, -4.80943397e-02,\n",
       "         3.24930511e-02, -4.32955213e-02, -1.06607564e-02,  3.83087397e-02,\n",
       "        -1.35942781e-03, -2.41014976e-02,  5.97390905e-02,  1.22515308e-02,\n",
       "        -2.97160745e-02,  3.85096930e-02,  8.07971954e-02, -3.20094302e-02,\n",
       "         3.79312225e-02,  5.74982017e-02, -2.78896503e-02,  2.44224234e-03,\n",
       "         5.27012907e-03, -1.53456647e-02,  2.45647728e-02,  5.74442267e-04,\n",
       "         4.43761833e-02, -8.42919480e-03,  2.72228173e-03,  1.74319521e-02,\n",
       "         9.33896378e-03,  8.38012318e-04, -4.43756906e-03,  3.55737880e-02,\n",
       "         8.40002224e-02,  4.98347310e-03, -4.82428707e-02,  1.08767971e-02,\n",
       "        -6.34158701e-02,  3.70352753e-02, -2.61618458e-02, -9.01112519e-03,\n",
       "         3.23068239e-02, -2.54510883e-02, -1.89288519e-02,  1.33977728e-02,\n",
       "        -5.84900230e-02,  4.64246422e-02, -4.13558073e-03, -3.32098198e-03,\n",
       "         4.58420739e-02,  3.08598764e-02,  7.00405100e-03,  2.09075697e-02,\n",
       "        -5.04495576e-04, -3.30061167e-02, -9.73069761e-03,  1.55701926e-02,\n",
       "        -7.19645470e-02, -3.98135111e-02,  6.47868663e-02,  3.44457738e-02,\n",
       "        -8.97819828e-03,  1.74668953e-02, -5.58784455e-02, -3.87726687e-02,\n",
       "         9.71880928e-03,  5.78612974e-03,  1.22387230e-03, -1.41885539e-03,\n",
       "        -3.62963555e-03,  1.78754590e-02,  2.32666545e-02,  7.27919936e-02,\n",
       "         4.09595557e-02,  7.43309781e-03,  1.54510420e-02,  1.09270746e-02,\n",
       "        -1.98326097e-03, -5.33174397e-03,  1.00905690e-02,  1.94828082e-02,\n",
       "         1.17817735e-02, -1.43751912e-02, -5.43910405e-03, -2.99222767e-04,\n",
       "         2.23894026e-02,  1.28628500e-02, -5.25530986e-02, -2.93342136e-02,\n",
       "        -8.22823774e-03, -4.19030264e-02, -2.01097429e-02, -3.92385200e-02,\n",
       "        -4.18009497e-02,  5.92440441e-02,  2.78366245e-02, -1.60585158e-02,\n",
       "         1.25616910e-02, -5.37586287e-02,  1.83952339e-02, -7.82209728e-03,\n",
       "        -5.17586581e-02,  3.01927831e-02, -1.09382449e-02, -1.26915783e-01,\n",
       "         1.74289308e-02, -5.95599338e-02,  4.77626584e-02, -1.86850671e-02,\n",
       "        -1.40214497e-02, -2.43861657e-02,  1.12145124e-02,  2.03372240e-02,\n",
       "        -4.99616861e-02,  3.12094972e-03,  1.38588725e-02,  9.21416935e-03,\n",
       "         1.32246120e-02,  4.10538279e-02,  1.80552565e-02, -1.67192556e-02,\n",
       "        -2.94551644e-02,  3.36017087e-02,  6.91625802e-03,  4.99716438e-02,\n",
       "         2.86814589e-02,  2.17404822e-03, -2.50792187e-02, -3.10942382e-02,\n",
       "         4.06368189e-02,  5.22841923e-02,  6.65908074e-03,  3.42232548e-02,\n",
       "        -2.82528577e-03, -2.21341234e-02, -8.06150772e-03,  5.72978519e-02,\n",
       "         3.90985683e-02,  1.68467928e-02, -4.38490510e-02,  2.93402541e-02,\n",
       "         5.46475686e-02,  4.13570181e-02,  1.83129497e-02, -1.63130295e-02,\n",
       "        -2.63661309e-03,  6.20956300e-04, -2.86750514e-02, -1.23923633e-03,\n",
       "         4.38399836e-02,  2.39861920e-03, -5.44831948e-03, -4.17303517e-02,\n",
       "         1.07780891e-02, -3.21251936e-02,  4.63125706e-02, -2.65102014e-02,\n",
       "        -1.00708632e-02,  9.12968244e-05,  5.91830276e-02,  8.53912532e-02,\n",
       "        -2.90781427e-02,  9.41410214e-02,  9.41215176e-03, -3.22465599e-02,\n",
       "         6.65622670e-03,  1.95467416e-02,  1.44505166e-02,  1.66011713e-02,\n",
       "         1.49488570e-02, -2.97013726e-02, -7.46421656e-03, -2.79746763e-02,\n",
       "        -3.03756446e-02,  9.22335312e-03, -2.39986666e-02,  5.70982881e-02],\n",
       "       dtype=float32)}"
      ]
     },
     "execution_count": 173,
     "metadata": {},
     "output_type": "execute_result"
    }
   ],
   "source": [
    "doc_idx['a0fcdc5b']"
   ]
  },
  {
   "cell_type": "code",
   "execution_count": null,
   "id": "9e470ca3-6c27-4a62-a1d9-6ea9fc3e84f5",
   "metadata": {},
   "outputs": [],
   "source": [
    "answers = {}\n",
    "for i, rec in enumerate(tqdm(ground_truth)):\n",
    "    if i in answers:\n",
    "        continue\n",
    "\n",
    "    rag_answer_llm = rag(rec)\n",
    "    doc_id = rec['doc_id']\n",
    "    original_doc = doc_idx[doc_id]\n",
    "    law_content = original_doc['content']\n",
    "    \n",
    "\n",
    "    answers[i] = {\n",
    "        'law_content': law_content,\n",
    "        'generated_question': rec['generated_question'],\n",
    "        'rag_answer_llm': rag_answer_llm,\n",
    "        'generated_answer': rec['generated_answer'],\n",
    "\n",
    "    }"
   ]
  },
  {
   "cell_type": "code",
   "execution_count": 52,
   "id": "be991e23",
   "metadata": {},
   "outputs": [
    {
     "ename": "NameError",
     "evalue": "name 'answers' is not defined",
     "output_type": "error",
     "traceback": [
      "\u001b[0;31m---------------------------------------------------------------------------\u001b[0m",
      "\u001b[0;31mNameError\u001b[0m                                 Traceback (most recent call last)",
      "Cell \u001b[0;32mIn[52], line 1\u001b[0m\n\u001b[0;32m----> 1\u001b[0m \u001b[38;5;28mlen\u001b[39m(\u001b[43manswers\u001b[49m)\n",
      "\u001b[0;31mNameError\u001b[0m: name 'answers' is not defined"
     ]
    }
   ],
   "source": [
    "len(answers)"
   ]
  },
  {
   "cell_type": "code",
   "execution_count": 181,
   "id": "3e35465d",
   "metadata": {},
   "outputs": [
    {
     "data": {
      "text/plain": [
       "dict_values([{'law_content': 'Cơ sở giáo dục mầm non bao gồm: 1. Nhà trẻ, nhóm trẻ độc lập nhận trẻ em từ 03 tháng tuổi đến 03 tuổi; 2. Trường mẫu giáo, lớp mẫu giáo độc lập nhận trẻ em từ 03 tuổi đến 06 tuổi; 3. Trường mầm non, lớp mầm non độc lập là cơ sở giáo dục kết hợp nhà trẻ và mẫu giáo, nhận trẻ em từ 03 tháng tuổi đến 06 tuổi. ', 'generated_question': 'Các loại hình cơ sở giáo dục mầm non được quy định như thế nào trong Luật Giáo Dục?', 'rag_answer_llm': 'Các loại tổ chức mầm non được quy định trong luật giáo dục là: 1. Mẫu giáo;2. Mẫu giáo / trẻ sơ sinh;3. Mẫu giáo / Tiểu học.', 'generated_answer': 'Cơ sở giáo dục mầm non bao gồm: 1. Nhà trẻ, nhóm trẻ độc lập nhận trẻ em từ 03 tháng tuổi đến 03 tuổi; 2. Trường mẫu giáo, lớp mẫu giáo độc lập nhận trẻ em từ 03 tuổi đến 06 tuổi; 3. Trường mầm non, lớp mầm non độc lập là cơ sở giáo dục kết hợp nhà trẻ và mẫu giáo, nhận trẻ em từ 03 tháng tuổi đến 06 tuổi.'}, {'law_content': '1. Việc ly hôn giữa công dân Việt Nam với người nước ngoài, giữa người nước ngoài với nhau thường trú ở Việt Nam được giải quyết tại cơ quan có thẩm quyền của Việt Nam theo quy định của Luật này. 2. Trong trường hợp bên là công dân Việt Nam không thường trú ở Việt Nam vào thời điểm yêu cầu ly hôn thì việc ly hôn được giải quyết theo pháp luật của nước nơi thường trú chung của vợ chồng; nếu họ không có nơi thường trú chung thì giải quyết theo pháp luật Việt Nam. 3. Việc giải quyết tài sản là bất động sản ở nước ngoài khi ly hôn tuân theo pháp luật của nước nơi có bất động sản đó. ', 'generated_question': 'Nếu tôi là công dân Việt Nam kết hôn với người nước ngoài và muốn ly hôn, tôi cần làm thủ tục ở đâu?', 'rag_answer_llm': 'Bạn phải giải quyết ly hôn theo luật pháp của quốc gia nơi nơi cư trú thường trú chung của cặp vợ chồng.', 'generated_answer': 'Việc ly hôn giữa công dân Việt Nam với người nước ngoài, giữa người nước ngoài với nhau thường trú ở Việt Nam được giải quyết tại cơ quan có thẩm quyền của Việt Nam theo quy định của Luật Hôn Nhân Và Gia Đình.'}, {'law_content': '1. Cô, dì, chú, cậu, bác ruột không sống chung với cháu ruột có nghĩa vụ cấp dưỡng cho cháu trong trường hợp cháu chưa thành niên hoặc cháu đã thành niên không có khả năng lao động và không có tài sản để tự nuôi mình mà không có người khác cấp dưỡng theo quy định của Luật này. 2. Cháu đã thành niên không sống chung với cô, dì, chú, cậu, bác ruột có nghĩa vụ cấp dưỡng cho cô, dì, chú, cậu, bác ruột trong trường hợp người cần được cấp dưỡng không có khả năng lao động và không có tài sản để tự nuôi mình mà không có người khác cấp dưỡng theo quy định của Luật này. ', 'generated_question': 'Khi nào cô, dì, chú, cậu, bác ruột có nghĩa vụ cấp dưỡng cho cháu ruột?', 'rag_answer_llm': 'Nếu một người chú không có một cháu trai có khả năng hỗ trợ cháu trai của mình, cháu trai của anh ta phải trả lời câu hỏi.', 'generated_answer': 'Cô, dì, chú, cậu, bác ruột không sống chung với cháu ruột có nghĩa vụ cấp dưỡng cho cháu trong trường hợp cháu chưa thành niên hoặc cháu đã thành niên không có khả năng lao động và không có tài sản để tự nuôi mình mà không có người khác cấp dưỡng theo quy định của Luật Hôn Nhân Và Gia Đình.'}, {'law_content': '1. Người tham gia giao thông phải chấp hành hiệu lệnh và chỉ dẫn của hệ thống báo hiệu đường bộ. 2. Khi có người điều khiển giao thông thì người tham gia giao thông phải chấp hành hiệu lệnh của người điều khiển giao thông. 3. Tại nơi có biển báo hiệu cố định lại có báo hiệu tạm thời thì người tham gia giao thông phải chấp hành hiệu lệnh của báo hiệu tạm thời. 4. Tại nơi có vạch kẻ đường dành cho người đi bộ, người điều khiển phương tiện phải quan sát, giảm tốc độ và nhường đường cho người đi bộ, xe lăn của người khuyết tật qua đường. Những nơi không có vạch kẻ đường cho người đi bộ, người điều khiển phương tiện phải quan sát, nếu thấy người đi bộ, xe lăn của người khuyết tật đang qua đường thì phải giảm tốc độ, nhường đường cho người đi bộ, xe lăn của người khuyết tật qua đường bảo đảm an toàn. ', 'generated_question': 'Tại nơi có cả biển báo hiệu cố định và báo hiệu tạm thời, người tham gia giao thông phải tuân theo hiệu lệnh nào?', 'rag_answer_llm': 'Lệnh giao thông', 'generated_answer': 'Tại nơi có biển báo hiệu cố định lại có báo hiệu tạm thời thì người tham gia giao thông phải chấp hành hiệu lệnh của báo hiệu tạm thời.'}, {'law_content': '1. Xe xin vượt phải có báo hiệu bằng đèn hoặc còi; trong đô thị và khu đông dân cư từ 22 giờ đến 5 giờ chỉ được báo hiệu xin vượt bằng đèn. 2. Xe xin vượt chỉ được vượt khi không có chướng ngại vật phía trước, không có xe chạy ngược chiều trong đoạn đường định vượt, xe chạy trước không có tín hiệu vượt xe khác và đã tránh về bên phải. 3. Khi có xe xin vượt, nếu đủ điều kiện an toàn, người điều khiển phương tiện phía trước phải giảm tốc độ, đi sát về bên phải của phần đường xe chạy cho đến khi xe sau đã vượt qua, không được gây trở ngại đối với xe xin vượt. 4. Khi vượt, các xe phải vượt về bên trái, trừ các trường hợp sau đây thì được phép vượt bên phải: a) Khi xe phía trước có tín hiệu rẽ trái hoặc đang rẽ trái; b) Khi xe điện đang chạy giữa đường; c) Khi xe chuyên dùng đang làm việc trên đường mà không thể vượt bên trái được. 5. Không được vượt xe khi có một trong các trường hợp sau đây: a) Không bảo đảm các điều kiện quy định tại khoản 2 Điều này; b) Trên cầu hẹp có một làn xe; c) Đường vòng, đầu dốc và các vị trí có tầm nhìn hạn chế; d) Nơi đường giao nhau, đường bộ giao nhau cùng mức với đường sắt; đ) Khi điều kiện thời tiết hoặc đường không bảo đảm an toàn cho việc vượt; e) Xe được quyền ưu tiên đang phát tín hiệu ưu tiên đi làm nhiệm vụ. ', 'generated_question': 'Khi nào tôi được phép vượt xe bên phải thay vì bên trái?', 'rag_answer_llm': 'Không có câu trả lời trong bối cảnh', 'generated_answer': 'Bạn được phép vượt xe bên phải trong các trường hợp sau: 1) Khi xe phía trước có tín hiệu rẽ trái hoặc đang rẽ trái; 2) Khi xe điện đang chạy giữa đường; 3) Khi xe chuyên dùng đang làm việc trên đường mà không thể vượt bên trái được.'}, {'law_content': '1. Sau khi chia tài sản chung trong thời kỳ hôn nhân, vợ chồng có quyền thỏa thuận chấm dứt hiệu lực của việc chia tài sản chung. Hình thức của thỏa thuận được thực hiện theo quy định tại khoản 2 Điều 38 của Luật này. 2. Kể từ ngày thỏa thuận của vợ chồng quy định tại khoản 1 Điều này có hiệu lực thì việc xác định tài sản chung, tài sản riêng của vợ chồng được thực hiện theo quy định tại Điều 33 và Điều 43 của Luật này. Phần tài sản mà vợ, chồng đã được chia vẫn thuộc sở hữu riêng của vợ, chồng, trừ trường hợp vợ chồng có thỏa thuận khác. 3. Quyền, nghĩa vụ về tài sản phát sinh trước thời điểm chấm dứt hiệu lực của việc chia tài sản chung vẫn có hiệu lực, trừ trường hợp các bên có thỏa thuận khác. 4. Trong trường hợp việc chia tài sản chung trong thời kỳ hôn nhân được thực hiện theo bản án, quyết định có hiệu lực của Tòa án thì thỏa thuận chấm dứt hiệu lực của việc chia tài sản chung phải được Tòa án công nhận. ', 'generated_question': 'Vợ chồng có thể chấm dứt hiệu lực của việc chia tài sản chung trong thời kỳ hôn nhân không?', 'rag_answer_llm': 'Không, việc phân chia tài sản chung là hợp lệ cho đến khi trường hợp phân chia được quyết định theo khoản 2.', 'generated_answer': 'Sau khi chia tài sản chung trong thời kỳ hôn nhân, vợ chồng có quyền thỏa thuận chấm dứt hiệu lực của việc chia tài sản chung. Hình thức của thỏa thuận được thực hiện theo quy định tại khoản 2 Điều 38 của Luật Hôn Nhân Và Gia Đình.'}, {'law_content': 'Quyền, nghĩa vụ về nhân thân của vợ, chồng quy định tại Luật này, Bộ luật dân sự và các luật khác có liên quan được tôn trọng và bảo vệ. ', 'generated_question': 'Quyền và nghĩa vụ về nhân thân của vợ chồng được bảo vệ như thế nào theo Luật Hôn Nhân và Gia Đình?', 'rag_answer_llm': 'Bản sắc của người phối ngẫu được bảo vệ thông qua luật về hôn nhân và gia đình, điều này bảo vệ các quyền và nghĩa vụ của người phối ngẫu, bao gồm cả việc bảo vệ các quyền và nghĩa vụ của người phối ngẫu, gia đình và người khác .', 'generated_answer': 'Quyền, nghĩa vụ về nhân thân của vợ, chồng quy định tại Luật Hôn Nhân và Gia Đình, Bộ luật dân sự và các luật khác có liên quan được tôn trọng và bảo vệ.'}, {'law_content': '1. Chương trình giáo dục mầm non phải bảo đảm các yêu cầu sau đây: a) Thể hiện mục tiêu giáo dục mầm non; b) Quy định yêu cầu cần đạt ở mỗi độ tuổi, các hoạt động giáo dục, phương pháp, hình thức tổ chức hoạt động giáo dục, môi trường giáo dục, đánh giá sự phát triển của trẻ em; c) Thống nhất trong cả nước và được tổ chức thực hiện linh hoạt, phù hợp với điều kiện cụ thể của địa phương và cơ sở giáo dục mầm non. 2. Hội đồng quốc gia thẩm định chương trình giáo dục mầm non do Bộ trưởng Bộ Giáo dục và Đào tạo thành lập để thẩm định chương trình giáo dục mầm non. Hội đồng gồm nhà giáo, cán bộ quản lý giáo dục, nhà khoa học có kinh nghiệm, uy tín về giáo dục và đại diện cơ quan, tổ chức có liên quan. Hội đồng phải có ít nhất một phần ba tổng số thành viên là nhà giáo đang giảng dạy ở giáo dục mầm non. Hội đồng và thành viên Hội đồng phải chịu trách nhiệm về nội dung và chất lượng thẩm định. 3. Bộ trưởng Bộ Giáo dục và Đào tạo ban hành chương trình giáo dục mầm non sau khi được thẩm định của Hội đồng quốc gia thẩm định chương trình giáo dục mầm non; quy định tiêu chuẩn, quy trình biên soạn, chỉnh sửa chương trình giáo dục mầm non; quy định tiêu chuẩn và việc lựa chọn đồ chơi, học liệu được sử dụng trong các cơ sở giáo dục mầm non; quy định nhiệm vụ, quyền hạn, phương thức hoạt động, tiêu chuẩn, số lượng và cơ cấu thành viên của Hội đồng quốc gia thẩm định chương trình giáo dục mầm non. ', 'generated_question': 'Chương trình giáo dục mầm non cần đáp ứng những yêu cầu gì theo Luật Giáo Dục?', 'rag_answer_llm': 'Các yêu cầu cho các chương trình giáo dục mầm non bao gồm trình diễn các mục tiêu của giáo dục mầm non, quy định nội dung và chất lượng, đánh giá chương trình của Hội đồng quốc gia, thành lập Hội đồng quản lý, đánh giá chương trình về phía Hội đồng, Kinh nghiệm, đào tạo giáo viên, thẩm mỹ, giải quyết các vấn đề, chất lượng, khám phá giáo dục mầm non và áp dụng các tiêu chuẩn và giao thức.', 'generated_answer': 'Chương trình giáo dục mầm non phải bảo đảm các yêu cầu sau: thể hiện mục tiêu giáo dục mầm non; quy định yêu cầu cần đạt ở mỗi độ tuổi, các hoạt động giáo dục, phương pháp, hình thức tổ chức hoạt động giáo dục, môi trường giáo dục, đánh giá sự phát triển của trẻ em; thống nhất trong cả nước và được tổ chức thực hiện linh hoạt, phù hợp với điều kiện cụ thể của địa phương và cơ sở giáo dục mầm non.'}, {'law_content': '1. Người vận tải, người lái xe khách phải chấp hành các quy định sau đây: a) Đón, trả hành khách đúng nơi quy định; b) Không chở hành khách trên mui, trong khoang chở hành lý hoặc để hành khách đu, bám bên ngoài xe; c) Không chở hàng nguy hiểm, hàng có mùi hôi thối hoặc động vật, hàng hóa khác có ảnh hưởng đến sức khỏe của hành khách; d) Không chở hành khách, hành lý, hàng hóa vượt quá trọng tải, số người theo quy định; e) Không để hàng hóa trong khoang chở hành khách; có biện pháp giữ gìn vệ sinh trong xe. 2. Bộ trưởng Bộ Giao thông vận tải quy định về tổ chức và quản lý hoạt động vận tải hành khách bằng xe ô tô. ', 'generated_question': 'Người lái xe khách có được phép chở hành khách trên mui xe hoặc để hành khách đu, bám bên ngoài xe không?', 'rag_answer_llm': 'KHÔNG', 'generated_answer': 'Không, người lái xe khách không được phép chở hành khách trên mui, trong khoang chở hành lý hoặc để hành khách đu, bám bên ngoài xe.'}, {'law_content': '1. Nghĩa vụ cấp dưỡng được thực hiện giữa cha, mẹ và con; giữa anh, chị, em với nhau; giữa ông bà nội, ông bà ngoại và cháu; giữa cô, dì, chú, cậu, bác ruột và cháu ruột; giữa vợ và chồng theo quy định của Luật này. Nghĩa vụ cấp dưỡng không thể thay thế bằng nghĩa vụ khác và không thể chuyển giao cho người khác. 2. Trong trường hợp người có nghĩa vụ nuôi dưỡng trốn tránh nghĩa vụ thì theo yêu cầu của cá nhân, cơ quan, tổ chức được quy định tại Điều 119 của Luật này, Tòa án buộc người đó phải thực hiện nghĩa vụ cấp dưỡng theo quy định của Luật này. ', 'generated_question': 'Nghĩa vụ cấp dưỡng được thực hiện giữa những ai theo Luật Hôn Nhân và Gia Đình?', 'rag_answer_llm': 'Vâng, nghĩa vụ điều dưỡng được thực hiện giữa cha, mẹ và con trai, giữa anh chị em, cho những người hỗ trợ cháu của họ.', 'generated_answer': 'Nghĩa vụ cấp dưỡng được thực hiện giữa cha, mẹ và con; giữa anh, chị, em với nhau; giữa ông bà nội, ông bà ngoại và cháu; giữa cô, dì, chú, cậu, bác ruột và cháu ruột; giữa vợ và chồng theo quy định của Luật Hôn Nhân và Gia Đình.'}, {'law_content': 'Việc chia tài sản chung trong thời kỳ hôn nhân bị vô hiệu khi thuộc một trong các trường hợp sau đây: 1. Ảnh hưởng nghiêm trọng đến lợi ích của gia đình; quyền, lợi ích hợp pháp của con chưa thành niên, con đã thành niên mất năng lực hành vi dân sự hoặc không có khả năng lao động và không có tài sản để tự nuôi mình; 2. Nhằm trốn tránh thực hiện các nghĩa vụ sau đây: a) Nghĩa vụ nuôi dưỡng, cấp dưỡng; b) Nghĩa vụ bồi thường thiệt hại; c) Nghĩa vụ thanh toán khi bị Tòa án tuyên bố phá sản; d) Nghĩa vụ trả nợ cho cá nhân, tổ chức; đ) Nghĩa vụ nộp thuế hoặc nghĩa vụ tài chính khác đối với Nhà nước; e) Nghĩa vụ khác về tài sản theo quy định của Luật này, Bộ luật dân sự và quy định khác của pháp luật có liên quan. ', 'generated_question': 'Trong trường hợp nào việc chia tài sản chung trong thời kỳ hôn nhân bị coi là vô hiệu?', 'rag_answer_llm': 'KHÔNG', 'generated_answer': 'Việc chia tài sản chung trong thời kỳ hôn nhân bị vô hiệu khi thuộc một trong các trường hợp sau: 1. Ảnh hưởng nghiêm trọng đến lợi ích của gia đình; quyền, lợi ích hợp pháp của con chưa thành niên, con đã thành niên mất năng lực hành vi dân sự hoặc không có khả năng lao động và không có tài sản để tự nuôi mình; 2. Nhằm trốn tránh thực hiện các nghĩa vụ như nuôi dưỡng, cấp dưỡng, bồi thường thiệt hại, thanh toán khi bị Tòa án tuyên bố phá sản, trả nợ cho cá nhân, tổ chức, nộp thuế hoặc nghĩa vụ tài chính khác đối với Nhà nước, và các nghĩa vụ khác về tài sản theo quy định của Luật Hôn Nhân Và Gia Đình, Bộ luật dân sự và quy định khác của pháp luật có liên quan.'}, {'law_content': 'Người điều khiển phương tiện khi dừng xe, đỗ xe trên đường phố phải tuân theo quy định tại Điều 18 của Luật này và các quy định sau đây: 1. Phải cho xe dừng, đỗ sát theo lề đường, hè phố phía bên phải theo chiều đi của mình; bánh xe gần nhất không được cách xa lề đường, hè phố quá 0,25 mét và không gây cản trở, nguy hiểm cho giao thông. Trường hợp đường phố hẹp, phải dừng xe, đỗ xe ở vị trí cách xe ô tô đang đỗ bên kia đường tối thiểu 20 mét. 2. Không được dừng xe, đỗ xe trên đường xe điện, trên miệng cống thoát nước, miệng hầm của đường điện thoại, điện cao thế, chỗ dành riêng cho xe chữa cháy lấy nước. Không được để phương tiện giao thông ở lòng đường, hè phố trái quy định. ', 'generated_question': 'Khi dừng xe, đỗ xe trên đường phố, tôi cần tuân thủ những quy định gì về vị trí đỗ xe?', 'rag_answer_llm': 'Không có câu trả lời trong bối cảnh', 'generated_answer': 'Khi dừng xe, đỗ xe trên đường phố, bạn phải cho xe dừng, đỗ sát theo lề đường, hè phố phía bên phải theo chiều đi của mình. Bánh xe gần nhất không được cách xa lề đường, hè phố quá 0,25 mét và không được gây cản trở, nguy hiểm cho giao thông. Trường hợp đường phố hẹp, bạn phải dừng xe, đỗ xe ở vị trí cách xe ô tô đang đỗ bên kia đường tối thiểu 20 mét.'}, {'law_content': '1. Các thành viên gia đình có quyền, nghĩa vụ quan tâm, chăm sóc, giúp đỡ, tôn trọng nhau. Quyền, lợi ích hợp pháp về nhân thân và tài sản của các thành viên gia đình quy định tại Luật này, Bộ luật dân sự và các luật khác có liên quan được pháp luật bảo vệ. 2. Trong trường hợp sống chung thì các thành viên gia đình có nghĩa vụ tham gia công việc gia đình, lao động tạo thu nhập; đóng góp công sức, tiền hoặc tài sản khác để duy trì đời sống chung của gia đình phù hợp với khả năng thực tế của mình. 3. Nhà nước có chính sách tạo điều kiện để các thế hệ trong gia đình quan tâm, chăm sóc, giúp đỡ nhau nhằm giữ gìn và phát huy truyền thống tốt đẹp của gia đình Việt Nam; khuyến khích các cá nhân, tổ chức trong xã hội cùng tham gia vào việc giữ gìn, phát huy truyền thống tốt đẹp của gia đình Việt Nam. ', 'generated_question': 'Các thành viên trong gia đình có nghĩa vụ gì khi sống chung?', 'rag_answer_llm': 'Các thành viên gia đình được yêu cầu tham gia vào các công việc gia đình, làm việc tại nhà;tại nơi làm việc;Đóng góp với nỗ lực, tiền bạc hoặc hàng hóa khác để duy trì cuộc sống gia đình phù hợp của gia đình.', 'generated_answer': 'Khi sống chung, các thành viên gia đình có nghĩa vụ tham gia công việc gia đình, lao động tạo thu nhập; đóng góp công sức, tiền hoặc tài sản khác để duy trì đời sống chung của gia đình phù hợp với khả năng thực tế của mình.'}, {'law_content': '1. Vợ, chồng có quyền chiếm hữu, sử dụng, định đoạt tài sản riêng của mình; nhập hoặc không nhập tài sản riêng vào tài sản chung. 2. Trong trường hợp vợ hoặc chồng không thể tự mình quản lý tài sản riêng và cũng không ủy quyền cho người khác quản lý thì bên kia có quyền quản lý tài sản đó. Việc quản lý tài sản phải bảo đảm lợi ích của người có tài sản. 3. Nghĩa vụ riêng về tài sản của mỗi người được thanh toán từ tài sản riêng của người đó. 4. Trong trường hợp vợ, chồng có tài sản riêng mà hoa lợi, lợi tức từ tài sản riêng đó là nguồn sống duy nhất của gia đình thì việc định đoạt tài sản này phải có sự đồng ý của chồng, vợ. ', 'generated_question': 'Nếu một người không thể tự quản lý tài sản riêng của mình trong hôn nhân, ai có quyền quản lý tài sản đó?', 'rag_answer_llm': 'Nếu một người không thể quản lý tài sản của mình trong hôn nhân, tài sản phải được quản lý bởi người khác.', 'generated_answer': 'Trong trường hợp vợ hoặc chồng không thể tự mình quản lý tài sản riêng và cũng không ủy quyền cho người khác quản lý thì bên kia có quyền quản lý tài sản đó. Việc quản lý tài sản phải bảo đảm lợi ích của người có tài sản.'}, {'law_content': '1. Ông bà nội, ông bà ngoại không sống chung với cháu có nghĩa vụ cấp dưỡng cho cháu trong trường hợp cháu chưa thành niên hoặc cháu đã thành niên không có khả năng lao động, không có tài sản để tự nuôi mình và không có người cấp dưỡng theo quy định tại Điều 112 của Luật này. 2. Cháu đã thành niên không sống chung với ông bà nội, ông bà ngoại có nghĩa vụ cấp dưỡng cho ông bà nội, ông bà ngoại trong trường hợp ông bà không có khả năng lao động, không có tài sản để tự nuôi mình và không có người khác cấp dưỡng theo quy định của Luật này. ', 'generated_question': 'Ông bà nội, ông bà ngoại có nghĩa vụ cấp dưỡng cho cháu trong trường hợp nào?', 'rag_answer_llm': 'Nghĩa vụ điều dưỡng giữa ông bà, ông bà và cháu.', 'generated_answer': 'Ông bà nội, ông bà ngoại không sống chung với cháu có nghĩa vụ cấp dưỡng cho cháu trong trường hợp cháu chưa thành niên hoặc cháu đã thành niên không có khả năng lao động, không có tài sản để tự nuôi mình và không có người cấp dưỡng theo quy định tại Điều 112 của Luật Hôn Nhân Và Gia Đình.'}, {'law_content': 'Quyền, nghĩa vụ giữa nam, nữ chung sống với nhau như vợ chồng và con được giải quyết theo quy định của Luật này về quyền, nghĩa vụ của cha mẹ và con. ', 'generated_question': 'Nếu nam và nữ chung sống với nhau như vợ chồng mà không đăng ký kết hôn, quyền và nghĩa vụ của họ đối với con cái được quy định như thế nào?', 'rag_answer_llm': 'Quyền và nghĩa vụ của họ được giải quyết theo luật về quyền và nghĩa vụ của cha mẹ và trẻ em.', 'generated_answer': 'Quyền, nghĩa vụ giữa nam, nữ chung sống với nhau như vợ chồng và con được giải quyết theo quy định của Luật Hôn Nhân Và Gia Đình về quyền, nghĩa vụ của cha mẹ và con.'}, {'law_content': '1. Khi muốn chuyển hướng, người điều khiển phương tiện phải giảm tốc độ và có tín hiệu báo hướng rẽ. 2. Trong khi chuyển hướng, người lái xe, người điều khiển xe máy chuyên dùng phải nhường quyền đi trước cho người đi bộ, người đi xe đạp đang đi trên phần đường dành riêng cho họ, nhường đường cho các xe đi ngược chiều và chỉ cho xe chuyển hướng khi quan sát thấy không gây trở ngại hoặc nguy hiểm cho người và phương tiện khác. 3. Trong khu dân cư, người lái xe, người điều khiển xe máy chuyên dùng chỉ được quay đầu xe ở nơi đường giao nhau và nơi có biển báo cho phép quay đầu xe. 4. Không được quay đầu xe ở phần đường dành cho người đi bộ qua đường, trên cầu, đầu cầu, gầm cầu vượt, ngầm, trong hầm đường bộ, đường cao tốc, tại nơi đường bộ giao nhau cùng mức với đường sắt, đường hẹp, đường dốc, đoạn đường cong tầm nhìn bị che khuất. ', 'generated_question': 'Khi muốn chuyển hướng xe, người điều khiển phương tiện cần tuân thủ những quy định gì?', 'rag_answer_llm': 'Người lái xe phải tuân thủ các quy định giao thông đường bộ khi thay đổi phương tiện.', 'generated_answer': 'Khi muốn chuyển hướng, người điều khiển phương tiện phải giảm tốc độ và có tín hiệu báo hướng rẽ. Trong khi chuyển hướng, người lái xe phải nhường quyền đi trước cho người đi bộ, người đi xe đạp đang đi trên phần đường dành riêng cho họ, nhường đường cho các xe đi ngược chiều và chỉ cho xe chuyển hướng khi quan sát thấy không gây trở ngại hoặc nguy hiểm cho người và phương tiện khác.'}, {'law_content': '1. Cha, mẹ có nghĩa vụ và quyền ngang nhau, cùng nhau chăm sóc, nuôi dưỡng con chưa thành niên, con đã thành niên mất năng lực hành vi dân sự hoặc không có khả năng lao động và không có tài sản để tự nuôi mình. 2. Con có nghĩa vụ và quyền chăm sóc, nuôi dưỡng cha mẹ, đặc biệt khi cha mẹ mất năng lực hành vi dân sự, ốm đau, già yếu, khuyết tật; trường hợp gia đình có nhiều con thì các con phải cùng nhau chăm sóc, nuôi dưỡng cha mẹ. ', 'generated_question': 'Cha mẹ có nghĩa vụ và quyền chăm sóc, nuôi dưỡng con như thế nào theo Luật Hôn Nhân Và Gia Đình?', 'rag_answer_llm': 'Các nghĩa vụ và quyền của cha mẹ và con cái được trình bày chi tiết trong luật hôn nhân và gia đình, bao gồm các nghĩa vụ chăm sóc, cho ăn, chăm sóc, bảo vệ con cái và quyền chăm sóc và nuôi dưỡng con cái.', 'generated_answer': 'Theo Luật Hôn Nhân Và Gia Đình, cha mẹ có nghĩa vụ và quyền ngang nhau, cùng nhau chăm sóc, nuôi dưỡng con chưa thành niên, con đã thành niên mất năng lực hành vi dân sự hoặc không có khả năng lao động và không có tài sản để tự nuôi mình.'}, {'law_content': '1. Độ tuổi của người lái xe quy định như sau: a) Người đủ 16 tuổi trở lên được lái xe gắn máy có dung tích xi-lanh dưới 50 cm3; b) Người đủ 18 tuổi trở lên được lái xe mô tô hai bánh, xe mô tô ba bánh có dung tích xi-lanh từ 50 cm3 trở lên và các loại xe có kết cấu tương tự; xe ô tô tải, máy kéo có trọng tải dưới 3.500 kg; xe ô tô chở người đến 9 chỗ ngồi; c) Người đủ 21 tuổi trở lên được lái xe ô tô tải, máy kéo có trọng tải từ 3.500 kg trở lên; lái xe hạng B2 kéo rơ moóc (FB2); d) Người đủ 24 tuổi trở lên được lái xe ô tô chở người từ 10 đến 30 chỗ ngồi; lái xe hạng C kéo rơ moóc, sơ mi rơ moóc (FC); đ) Người đủ 27 tuổi trở lên được lái xe ô tô chở người trên 30 chỗ ngồi; lái xe hạng D kéo rơ moóc (FD); e) Tuổi tối đa của người lái xe ô tô chở người trên 30 chỗ ngồi là 50 tuổi đối với nữ và 55 tuổi đối với nam. 2. Người lái xe phải có sức khỏe phù hợp với loại xe, công dụng của xe. Bộ trưởng Bộ Y tế chủ trì, phối hợp với Bộ trưởng Bộ Giao thông vận tải quy định về tiêu chuẩn sức khỏe của người lái xe, việc khám sức khỏe định kỳ đối với người lái xe ô tô và quy định về cơ sở y tế khám sức khoẻ của người lái xe. ', 'generated_question': 'Tôi 18 tuổi, tôi có được lái xe ô tô chở người đến 9 chỗ ngồi không?', 'rag_answer_llm': 'Có, bạn có thể lái một chiếc xe vận chuyển tới 9 chỗ ngồi.', 'generated_answer': 'Theo quy định của Luật Giao Thông Đường Bộ, người đủ 18 tuổi trở lên được lái xe ô tô chở người đến 9 chỗ ngồi. Do đó, bạn đủ tuổi để lái loại xe này.'}, {'law_content': '1. Thỏa thuận về mang thai hộ vì mục đích nhân đạo giữa vợ chồng nhờ mang thai hộ (sau đây gọi là bên nhờ mang thai hộ) và vợ chồng người mang thai hộ (sau đây gọi là bên mang thai hộ) phải có các nội dung cơ bản sau đây: a) Thông tin đầy đủ về bên nhờ mang thai hộ và bên mang thai hộ theo các điều kiện có liên quan quy định tại Điều 95 của Luật này; b) Cam kết thực hiện các quyền, nghĩa vụ quy định tại Điều 97 và Điều 98 của Luật này; c) Việc giải quyết hậu quả trong trường hợp có tai biến sản khoa; hỗ trợ để bảo đảm sức khỏe sinh sản cho người mang thai hộ trong thời gian mang thai và sinh con, việc nhận con của bên nhờ mang thai hộ, quyền và nghĩa vụ của hai bên đối với con trong trường hợp con chưa được giao cho bên nhờ mang thai hộ và các quyền, nghĩa vụ khác có liên quan; d) Trách nhiệm dân sự trong trường hợp một hoặc cả hai bên vi phạm cam kết theo thỏa thuận. 2. Thỏa thuận về việc mang thai hộ phải được lập thành văn bản có công chứng. Trong trường hợp vợ chồng bên nhờ mang thai hộ ủy quyền cho nhau hoặc vợ chồng bên mang thai hộ ủy quyền cho nhau về việc thỏa thuận thì việc ủy quyền phải lập thành văn bản có công chứng. Việc ủy quyền cho người thứ ba không có giá trị pháp lý. Trong trường hợp thỏa thuận về mang thai hộ giữa bên mang thai hộ và bên nhờ mang thai hộ được lập cùng với thỏa thuận giữa họ với cơ sở y tế thực hiện việc sinh con bằng kỹ thuật hỗ trợ sinh sản thì thỏa thuận này phải có xác nhận của người có thẩm quyền của cơ sở y tế này. ', 'generated_question': 'Thỏa thuận về mang thai hộ vì mục đích nhân đạo cần bao gồm những nội dung gì?', 'rag_answer_llm': 'Thỏa thuận về việc thay thế làm mẹ cho mục đích nhân đạo.', 'generated_answer': 'Thỏa thuận về mang thai hộ vì mục đích nhân đạo cần bao gồm các nội dung cơ bản sau: thông tin đầy đủ về bên nhờ mang thai hộ và bên mang thai hộ, cam kết thực hiện các quyền và nghĩa vụ theo quy định, việc giải quyết hậu quả trong trường hợp có tai biến sản khoa, hỗ trợ bảo đảm sức khỏe sinh sản cho người mang thai hộ, việc nhận con của bên nhờ mang thai hộ, quyền và nghĩa vụ của hai bên đối với con, và trách nhiệm dân sự trong trường hợp vi phạm cam kết.'}])"
      ]
     },
     "execution_count": 203,
     "metadata": {},
     "output_type": "execute_result"
    }
   ],
   "source": [
    "answers.values()"
   ]
  },
  {
   "cell_type": "code",
   "execution_count": 188,
   "id": "ea50d3b0",
   "metadata": {},
   "outputs": [],
   "source": [
    "df = pd.DataFrame(answers.values())\n",
    "# df.to_csv(\"DeepMount00_mamba_790_hf_qa_1_top_search.csv\", index=False)\n",
    "df.to_csv(\"DeepMount00_mamba_790_hf_qa.csv\", index=False)\n",
    "\n"
   ]
  },
  {
   "cell_type": "code",
   "execution_count": 187,
   "id": "95d49b51",
   "metadata": {},
   "outputs": [
    {
     "data": {
      "text/html": [
       "<div>\n",
       "<style scoped>\n",
       "    .dataframe tbody tr th:only-of-type {\n",
       "        vertical-align: middle;\n",
       "    }\n",
       "\n",
       "    .dataframe tbody tr th {\n",
       "        vertical-align: top;\n",
       "    }\n",
       "\n",
       "    .dataframe thead th {\n",
       "        text-align: right;\n",
       "    }\n",
       "</style>\n",
       "<table border=\"1\" class=\"dataframe\">\n",
       "  <thead>\n",
       "    <tr style=\"text-align: right;\">\n",
       "      <th></th>\n",
       "      <th>law_content</th>\n",
       "      <th>generated_question</th>\n",
       "      <th>rag_answer_llm</th>\n",
       "      <th>generated_answer</th>\n",
       "      <th>document</th>\n",
       "    </tr>\n",
       "  </thead>\n",
       "  <tbody>\n",
       "    <tr>\n",
       "      <th>0</th>\n",
       "      <td>Cơ sở giáo dục mầm non bao gồm: 1. Nhà trẻ, nh...</td>\n",
       "      <td>Các loại hình cơ sở giáo dục mầm non được quy ...</td>\n",
       "      <td>Các loại viện giáo dục được quy định là: các v...</td>\n",
       "      <td>Cơ sở giáo dục mầm non bao gồm: 1. Nhà trẻ, nh...</td>\n",
       "      <td>a0fcdc5b</td>\n",
       "    </tr>\n",
       "    <tr>\n",
       "      <th>1</th>\n",
       "      <td>1. Việc ly hôn giữa công dân Việt Nam với ngườ...</td>\n",
       "      <td>Nếu tôi là công dân Việt Nam kết hôn với người...</td>\n",
       "      <td>Bạn phải thực hiện các thủ tục như được chỉ ra...</td>\n",
       "      <td>Việc ly hôn giữa công dân Việt Nam với người n...</td>\n",
       "      <td>a2a23d08</td>\n",
       "    </tr>\n",
       "    <tr>\n",
       "      <th>2</th>\n",
       "      <td>1. Cô, dì, chú, cậu, bác ruột không sống chung...</td>\n",
       "      <td>Khi nào cô, dì, chú, cậu, bác ruột có nghĩa vụ...</td>\n",
       "      <td>Nếu một người không sống với dì, chú, chú, chú...</td>\n",
       "      <td>Cô, dì, chú, cậu, bác ruột không sống chung vớ...</td>\n",
       "      <td>36501b98</td>\n",
       "    </tr>\n",
       "    <tr>\n",
       "      <th>3</th>\n",
       "      <td>1. Người tham gia giao thông phải chấp hành hi...</td>\n",
       "      <td>Tại nơi có cả biển báo hiệu cố định và báo hiệ...</td>\n",
       "      <td>Ở nơi có một báo cáo đường;Những người tham gi...</td>\n",
       "      <td>Tại nơi có biển báo hiệu cố định lại có báo hi...</td>\n",
       "      <td>4d5249af</td>\n",
       "    </tr>\n",
       "    <tr>\n",
       "      <th>4</th>\n",
       "      <td>1. Xe xin vượt phải có báo hiệu bằng đèn hoặc ...</td>\n",
       "      <td>Khi nào tôi được phép vượt xe bên phải thay vì...</td>\n",
       "      <td>Tôi không đủ thông tin để trả lời câu hỏi này.</td>\n",
       "      <td>Bạn được phép vượt xe bên phải trong các trườn...</td>\n",
       "      <td>7d030583</td>\n",
       "    </tr>\n",
       "    <tr>\n",
       "      <th>...</th>\n",
       "      <td>...</td>\n",
       "      <td>...</td>\n",
       "      <td>...</td>\n",
       "      <td>...</td>\n",
       "      <td>...</td>\n",
       "    </tr>\n",
       "    <tr>\n",
       "      <th>96</th>\n",
       "      <td>Luật này quy định chế độ hôn nhân và gia đình;...</td>\n",
       "      <td>Luật Hôn Nhân Và Gia Đình điều chỉnh những vấn...</td>\n",
       "      <td>Các vấn đề về hôn nhân và luật gia đình bao gồ...</td>\n",
       "      <td>Luật này quy định chế độ hôn nhân và gia đình;...</td>\n",
       "      <td>424554a8</td>\n",
       "    </tr>\n",
       "    <tr>\n",
       "      <th>97</th>\n",
       "      <td>1. Việc mang thai hộ vì mục đích nhân đạo phải...</td>\n",
       "      <td>Điều kiện để một cặp vợ chồng được nhờ người m...</td>\n",
       "      <td>Một cặp vợ chồng phải có sự đồng ý bằng văn bả...</td>\n",
       "      <td>Vợ chồng có quyền nhờ người mang thai hộ khi c...</td>\n",
       "      <td>04868edf</td>\n",
       "    </tr>\n",
       "    <tr>\n",
       "      <th>98</th>\n",
       "      <td>1. Cha mẹ là người đại diện theo pháp luật của...</td>\n",
       "      <td>Cha mẹ có quyền tự mình thực hiện giao dịch tà...</td>\n",
       "      <td>Vâng, cha mẹ có quyền thực hiện giao dịch một ...</td>\n",
       "      <td>Cha hoặc mẹ có quyền tự mình thực hiện giao dị...</td>\n",
       "      <td>dc292a9c</td>\n",
       "    </tr>\n",
       "    <tr>\n",
       "      <th>99</th>\n",
       "      <td>Vợ, chồng có nghĩa vụ tôn trọng quyền tự do tí...</td>\n",
       "      <td>Vợ chồng có nghĩa vụ gì đối với quyền tự do tí...</td>\n",
       "      <td>Các nghĩa vụ cho sự tự do của niềm tin và tôn ...</td>\n",
       "      <td>Vợ, chồng có nghĩa vụ tôn trọng quyền tự do tí...</td>\n",
       "      <td>c8a7e8e1</td>\n",
       "    </tr>\n",
       "    <tr>\n",
       "      <th>100</th>\n",
       "      <td>1. Tài sản riêng của vợ, chồng gồm tài sản mà ...</td>\n",
       "      <td>Tài sản nào được coi là tài sản riêng của vợ h...</td>\n",
       "      <td>Tài sản riêng của vợ chồng cô được coi là tài ...</td>\n",
       "      <td>Tài sản riêng của vợ, chồng gồm tài sản mà mỗi...</td>\n",
       "      <td>48bc6ff9</td>\n",
       "    </tr>\n",
       "  </tbody>\n",
       "</table>\n",
       "<p>101 rows × 5 columns</p>\n",
       "</div>"
      ],
      "text/plain": [
       "                                           law_content  \\\n",
       "0    Cơ sở giáo dục mầm non bao gồm: 1. Nhà trẻ, nh...   \n",
       "1    1. Việc ly hôn giữa công dân Việt Nam với ngườ...   \n",
       "2    1. Cô, dì, chú, cậu, bác ruột không sống chung...   \n",
       "3    1. Người tham gia giao thông phải chấp hành hi...   \n",
       "4    1. Xe xin vượt phải có báo hiệu bằng đèn hoặc ...   \n",
       "..                                                 ...   \n",
       "96   Luật này quy định chế độ hôn nhân và gia đình;...   \n",
       "97   1. Việc mang thai hộ vì mục đích nhân đạo phải...   \n",
       "98   1. Cha mẹ là người đại diện theo pháp luật của...   \n",
       "99   Vợ, chồng có nghĩa vụ tôn trọng quyền tự do tí...   \n",
       "100  1. Tài sản riêng của vợ, chồng gồm tài sản mà ...   \n",
       "\n",
       "                                    generated_question  \\\n",
       "0    Các loại hình cơ sở giáo dục mầm non được quy ...   \n",
       "1    Nếu tôi là công dân Việt Nam kết hôn với người...   \n",
       "2    Khi nào cô, dì, chú, cậu, bác ruột có nghĩa vụ...   \n",
       "3    Tại nơi có cả biển báo hiệu cố định và báo hiệ...   \n",
       "4    Khi nào tôi được phép vượt xe bên phải thay vì...   \n",
       "..                                                 ...   \n",
       "96   Luật Hôn Nhân Và Gia Đình điều chỉnh những vấn...   \n",
       "97   Điều kiện để một cặp vợ chồng được nhờ người m...   \n",
       "98   Cha mẹ có quyền tự mình thực hiện giao dịch tà...   \n",
       "99   Vợ chồng có nghĩa vụ gì đối với quyền tự do tí...   \n",
       "100  Tài sản nào được coi là tài sản riêng của vợ h...   \n",
       "\n",
       "                                        rag_answer_llm  \\\n",
       "0    Các loại viện giáo dục được quy định là: các v...   \n",
       "1    Bạn phải thực hiện các thủ tục như được chỉ ra...   \n",
       "2    Nếu một người không sống với dì, chú, chú, chú...   \n",
       "3    Ở nơi có một báo cáo đường;Những người tham gi...   \n",
       "4       Tôi không đủ thông tin để trả lời câu hỏi này.   \n",
       "..                                                 ...   \n",
       "96   Các vấn đề về hôn nhân và luật gia đình bao gồ...   \n",
       "97   Một cặp vợ chồng phải có sự đồng ý bằng văn bả...   \n",
       "98   Vâng, cha mẹ có quyền thực hiện giao dịch một ...   \n",
       "99   Các nghĩa vụ cho sự tự do của niềm tin và tôn ...   \n",
       "100  Tài sản riêng của vợ chồng cô được coi là tài ...   \n",
       "\n",
       "                                      generated_answer  document  \n",
       "0    Cơ sở giáo dục mầm non bao gồm: 1. Nhà trẻ, nh...  a0fcdc5b  \n",
       "1    Việc ly hôn giữa công dân Việt Nam với người n...  a2a23d08  \n",
       "2    Cô, dì, chú, cậu, bác ruột không sống chung vớ...  36501b98  \n",
       "3    Tại nơi có biển báo hiệu cố định lại có báo hi...  4d5249af  \n",
       "4    Bạn được phép vượt xe bên phải trong các trườn...  7d030583  \n",
       "..                                                 ...       ...  \n",
       "96   Luật này quy định chế độ hôn nhân và gia đình;...  424554a8  \n",
       "97   Vợ chồng có quyền nhờ người mang thai hộ khi c...  04868edf  \n",
       "98   Cha hoặc mẹ có quyền tự mình thực hiện giao dị...  dc292a9c  \n",
       "99   Vợ, chồng có nghĩa vụ tôn trọng quyền tự do tí...  c8a7e8e1  \n",
       "100  Tài sản riêng của vợ, chồng gồm tài sản mà mỗi...  48bc6ff9  \n",
       "\n",
       "[101 rows x 5 columns]"
      ]
     },
     "execution_count": 187,
     "metadata": {},
     "output_type": "execute_result"
    }
   ],
   "source": [
    "df"
   ]
  },
  {
   "cell_type": "code",
   "execution_count": 185,
   "id": "2b63fb6d-f125-42b4-a634-52c3c17e582d",
   "metadata": {
    "scrolled": true
   },
   "outputs": [],
   "source": [
    "results_mamba_qa = [None] * len(ground_truth)\n",
    "\n",
    "for i, val in answers.items():\n",
    "    results_mamba_qa[i] = val.copy()\n",
    "    results_mamba_qa[i].update(ground_truth[i])"
   ]
  },
  {
   "cell_type": "code",
   "execution_count": 186,
   "id": "1d8748a7",
   "metadata": {},
   "outputs": [
    {
     "data": {
      "text/plain": [
       "[{'law_content': 'Cơ sở giáo dục mầm non bao gồm: 1. Nhà trẻ, nhóm trẻ độc lập nhận trẻ em từ 03 tháng tuổi đến 03 tuổi; 2. Trường mẫu giáo, lớp mẫu giáo độc lập nhận trẻ em từ 03 tuổi đến 06 tuổi; 3. Trường mầm non, lớp mầm non độc lập là cơ sở giáo dục kết hợp nhà trẻ và mẫu giáo, nhận trẻ em từ 03 tháng tuổi đến 06 tuổi. ',\n",
       "  'generated_question': 'Các loại hình cơ sở giáo dục mầm non được quy định như thế nào trong Luật Giáo Dục?',\n",
       "  'rag_answer_llm': 'Các loại viện giáo dục được quy định là: các viện mầm non, tổ chức giáo dục mầm non, mẫu giáo, mẫu giáo, mẫu giáo.',\n",
       "  'generated_answer': 'Cơ sở giáo dục mầm non bao gồm: 1. Nhà trẻ, nhóm trẻ độc lập nhận trẻ em từ 03 tháng tuổi đến 03 tuổi; 2. Trường mẫu giáo, lớp mẫu giáo độc lập nhận trẻ em từ 03 tuổi đến 06 tuổi; 3. Trường mầm non, lớp mầm non độc lập là cơ sở giáo dục kết hợp nhà trẻ và mẫu giáo, nhận trẻ em từ 03 tháng tuổi đến 06 tuổi.',\n",
       "  'document': 'a0fcdc5b',\n",
       "  'doc_id': 'a0fcdc5b',\n",
       "  'law_title': 'Luật Giáo Dục'},\n",
       " {'law_content': '1. Việc ly hôn giữa công dân Việt Nam với người nước ngoài, giữa người nước ngoài với nhau thường trú ở Việt Nam được giải quyết tại cơ quan có thẩm quyền của Việt Nam theo quy định của Luật này. 2. Trong trường hợp bên là công dân Việt Nam không thường trú ở Việt Nam vào thời điểm yêu cầu ly hôn thì việc ly hôn được giải quyết theo pháp luật của nước nơi thường trú chung của vợ chồng; nếu họ không có nơi thường trú chung thì giải quyết theo pháp luật Việt Nam. 3. Việc giải quyết tài sản là bất động sản ở nước ngoài khi ly hôn tuân theo pháp luật của nước nơi có bất động sản đó. ',\n",
       "  'generated_question': 'Nếu tôi là công dân Việt Nam kết hôn với người nước ngoài và muốn ly hôn, tôi cần làm thủ tục ở đâu?',\n",
       "  'rag_answer_llm': 'Bạn phải thực hiện các thủ tục như được chỉ ra trong luật và tuân thủ luật pháp.',\n",
       "  'generated_answer': 'Việc ly hôn giữa công dân Việt Nam với người nước ngoài, giữa người nước ngoài với nhau thường trú ở Việt Nam được giải quyết tại cơ quan có thẩm quyền của Việt Nam theo quy định của Luật Hôn Nhân Và Gia Đình.',\n",
       "  'document': 'a2a23d08',\n",
       "  'doc_id': 'a2a23d08',\n",
       "  'law_title': 'Luật Hôn Nhân Và Gia Đình'},\n",
       " {'law_content': '1. Cô, dì, chú, cậu, bác ruột không sống chung với cháu ruột có nghĩa vụ cấp dưỡng cho cháu trong trường hợp cháu chưa thành niên hoặc cháu đã thành niên không có khả năng lao động và không có tài sản để tự nuôi mình mà không có người khác cấp dưỡng theo quy định của Luật này. 2. Cháu đã thành niên không sống chung với cô, dì, chú, cậu, bác ruột có nghĩa vụ cấp dưỡng cho cô, dì, chú, cậu, bác ruột trong trường hợp người cần được cấp dưỡng không có khả năng lao động và không có tài sản để tự nuôi mình mà không có người khác cấp dưỡng theo quy định của Luật này. ',\n",
       "  'generated_question': 'Khi nào cô, dì, chú, cậu, bác ruột có nghĩa vụ cấp dưỡng cho cháu ruột?',\n",
       "  'rag_answer_llm': 'Nếu một người không sống với dì, chú, chú, chú, chú và chú trong trường hợp người đó phải được hỗ trợ không có khả năng làm việc.',\n",
       "  'generated_answer': 'Cô, dì, chú, cậu, bác ruột không sống chung với cháu ruột có nghĩa vụ cấp dưỡng cho cháu trong trường hợp cháu chưa thành niên hoặc cháu đã thành niên không có khả năng lao động và không có tài sản để tự nuôi mình mà không có người khác cấp dưỡng theo quy định của Luật Hôn Nhân Và Gia Đình.',\n",
       "  'document': '36501b98',\n",
       "  'doc_id': '36501b98',\n",
       "  'law_title': 'Luật Hôn Nhân Và Gia Đình'},\n",
       " {'law_content': '1. Người tham gia giao thông phải chấp hành hiệu lệnh và chỉ dẫn của hệ thống báo hiệu đường bộ. 2. Khi có người điều khiển giao thông thì người tham gia giao thông phải chấp hành hiệu lệnh của người điều khiển giao thông. 3. Tại nơi có biển báo hiệu cố định lại có báo hiệu tạm thời thì người tham gia giao thông phải chấp hành hiệu lệnh của báo hiệu tạm thời. 4. Tại nơi có vạch kẻ đường dành cho người đi bộ, người điều khiển phương tiện phải quan sát, giảm tốc độ và nhường đường cho người đi bộ, xe lăn của người khuyết tật qua đường. Những nơi không có vạch kẻ đường cho người đi bộ, người điều khiển phương tiện phải quan sát, nếu thấy người đi bộ, xe lăn của người khuyết tật đang qua đường thì phải giảm tốc độ, nhường đường cho người đi bộ, xe lăn của người khuyết tật qua đường bảo đảm an toàn. ',\n",
       "  'generated_question': 'Tại nơi có cả biển báo hiệu cố định và báo hiệu tạm thời, người tham gia giao thông phải tuân theo hiệu lệnh nào?',\n",
       "  'rag_answer_llm': 'Ở nơi có một báo cáo đường;Những người tham gia giao thông phải tuân theo tín hiệu của tín hiệu tạm thời;Đọc: Khi có một nhà điều hành giao thông;Người tham gia giao thông phải tuân theo lệnh của người lái xe giao thông;Ở những nơi không có thương hiệu trên đường;Người vận hành phải quan sát;giảm tốc độ và nhường chỗ cho người đi bộ;Ghế lăn của người khuyết tật trên đường phố là an toàn.',\n",
       "  'generated_answer': 'Tại nơi có biển báo hiệu cố định lại có báo hiệu tạm thời thì người tham gia giao thông phải chấp hành hiệu lệnh của báo hiệu tạm thời.',\n",
       "  'document': '4d5249af',\n",
       "  'doc_id': '4d5249af',\n",
       "  'law_title': 'Luật Giao Thông Đường Bộ'},\n",
       " {'law_content': '1. Xe xin vượt phải có báo hiệu bằng đèn hoặc còi; trong đô thị và khu đông dân cư từ 22 giờ đến 5 giờ chỉ được báo hiệu xin vượt bằng đèn. 2. Xe xin vượt chỉ được vượt khi không có chướng ngại vật phía trước, không có xe chạy ngược chiều trong đoạn đường định vượt, xe chạy trước không có tín hiệu vượt xe khác và đã tránh về bên phải. 3. Khi có xe xin vượt, nếu đủ điều kiện an toàn, người điều khiển phương tiện phía trước phải giảm tốc độ, đi sát về bên phải của phần đường xe chạy cho đến khi xe sau đã vượt qua, không được gây trở ngại đối với xe xin vượt. 4. Khi vượt, các xe phải vượt về bên trái, trừ các trường hợp sau đây thì được phép vượt bên phải: a) Khi xe phía trước có tín hiệu rẽ trái hoặc đang rẽ trái; b) Khi xe điện đang chạy giữa đường; c) Khi xe chuyên dùng đang làm việc trên đường mà không thể vượt bên trái được. 5. Không được vượt xe khi có một trong các trường hợp sau đây: a) Không bảo đảm các điều kiện quy định tại khoản 2 Điều này; b) Trên cầu hẹp có một làn xe; c) Đường vòng, đầu dốc và các vị trí có tầm nhìn hạn chế; d) Nơi đường giao nhau, đường bộ giao nhau cùng mức với đường sắt; đ) Khi điều kiện thời tiết hoặc đường không bảo đảm an toàn cho việc vượt; e) Xe được quyền ưu tiên đang phát tín hiệu ưu tiên đi làm nhiệm vụ. ',\n",
       "  'generated_question': 'Khi nào tôi được phép vượt xe bên phải thay vì bên trái?',\n",
       "  'rag_answer_llm': 'Tôi không đủ thông tin để trả lời câu hỏi này.',\n",
       "  'generated_answer': 'Bạn được phép vượt xe bên phải trong các trường hợp sau: 1) Khi xe phía trước có tín hiệu rẽ trái hoặc đang rẽ trái; 2) Khi xe điện đang chạy giữa đường; 3) Khi xe chuyên dùng đang làm việc trên đường mà không thể vượt bên trái được.',\n",
       "  'document': '7d030583',\n",
       "  'doc_id': '7d030583',\n",
       "  'law_title': 'Luật Giao Thông Đường Bộ'},\n",
       " {'law_content': '1. Sau khi chia tài sản chung trong thời kỳ hôn nhân, vợ chồng có quyền thỏa thuận chấm dứt hiệu lực của việc chia tài sản chung. Hình thức của thỏa thuận được thực hiện theo quy định tại khoản 2 Điều 38 của Luật này. 2. Kể từ ngày thỏa thuận của vợ chồng quy định tại khoản 1 Điều này có hiệu lực thì việc xác định tài sản chung, tài sản riêng của vợ chồng được thực hiện theo quy định tại Điều 33 và Điều 43 của Luật này. Phần tài sản mà vợ, chồng đã được chia vẫn thuộc sở hữu riêng của vợ, chồng, trừ trường hợp vợ chồng có thỏa thuận khác. 3. Quyền, nghĩa vụ về tài sản phát sinh trước thời điểm chấm dứt hiệu lực của việc chia tài sản chung vẫn có hiệu lực, trừ trường hợp các bên có thỏa thuận khác. 4. Trong trường hợp việc chia tài sản chung trong thời kỳ hôn nhân được thực hiện theo bản án, quyết định có hiệu lực của Tòa án thì thỏa thuận chấm dứt hiệu lực của việc chia tài sản chung phải được Tòa án công nhận. ',\n",
       "  'generated_question': 'Vợ chồng có thể chấm dứt hiệu lực của việc chia tài sản chung trong thời kỳ hôn nhân không?',\n",
       "  'rag_answer_llm': 'Có, nếu vợ chồng không đồng ý về các bộ phận của tài sản chung, thời gian phân chia tài sản chung có hiệu lực có giá trị pháp lý và các quyền và nghĩa vụ sở hữu giữa vợ và vợ và người thứ ba phát sinh trước khi chia thuật ngữ.',\n",
       "  'generated_answer': 'Sau khi chia tài sản chung trong thời kỳ hôn nhân, vợ chồng có quyền thỏa thuận chấm dứt hiệu lực của việc chia tài sản chung. Hình thức của thỏa thuận được thực hiện theo quy định tại khoản 2 Điều 38 của Luật Hôn Nhân Và Gia Đình.',\n",
       "  'document': '2b6300b7',\n",
       "  'doc_id': '2b6300b7',\n",
       "  'law_title': 'Luật Hôn Nhân Và Gia Đình'},\n",
       " {'law_content': 'Quyền, nghĩa vụ về nhân thân của vợ, chồng quy định tại Luật này, Bộ luật dân sự và các luật khác có liên quan được tôn trọng và bảo vệ. ',\n",
       "  'generated_question': 'Quyền và nghĩa vụ về nhân thân của vợ chồng được bảo vệ như thế nào theo Luật Hôn Nhân và Gia Đình?',\n",
       "  'rag_answer_llm': 'Danh tính của người phối ngẫu được bảo vệ thông qua luật về hôn nhân và gia đình, bao gồm các quyền và nghĩa vụ cụ thể để bảo vệ dữ liệu cá nhân và danh tính của người phối ngẫu.',\n",
       "  'generated_answer': 'Quyền, nghĩa vụ về nhân thân của vợ, chồng quy định tại Luật Hôn Nhân và Gia Đình, Bộ luật dân sự và các luật khác có liên quan được tôn trọng và bảo vệ.',\n",
       "  'document': '64eda91d',\n",
       "  'doc_id': '64eda91d',\n",
       "  'law_title': 'Luật Hôn Nhân Và Gia Đình'},\n",
       " {'law_content': '1. Chương trình giáo dục mầm non phải bảo đảm các yêu cầu sau đây: a) Thể hiện mục tiêu giáo dục mầm non; b) Quy định yêu cầu cần đạt ở mỗi độ tuổi, các hoạt động giáo dục, phương pháp, hình thức tổ chức hoạt động giáo dục, môi trường giáo dục, đánh giá sự phát triển của trẻ em; c) Thống nhất trong cả nước và được tổ chức thực hiện linh hoạt, phù hợp với điều kiện cụ thể của địa phương và cơ sở giáo dục mầm non. 2. Hội đồng quốc gia thẩm định chương trình giáo dục mầm non do Bộ trưởng Bộ Giáo dục và Đào tạo thành lập để thẩm định chương trình giáo dục mầm non. Hội đồng gồm nhà giáo, cán bộ quản lý giáo dục, nhà khoa học có kinh nghiệm, uy tín về giáo dục và đại diện cơ quan, tổ chức có liên quan. Hội đồng phải có ít nhất một phần ba tổng số thành viên là nhà giáo đang giảng dạy ở giáo dục mầm non. Hội đồng và thành viên Hội đồng phải chịu trách nhiệm về nội dung và chất lượng thẩm định. 3. Bộ trưởng Bộ Giáo dục và Đào tạo ban hành chương trình giáo dục mầm non sau khi được thẩm định của Hội đồng quốc gia thẩm định chương trình giáo dục mầm non; quy định tiêu chuẩn, quy trình biên soạn, chỉnh sửa chương trình giáo dục mầm non; quy định tiêu chuẩn và việc lựa chọn đồ chơi, học liệu được sử dụng trong các cơ sở giáo dục mầm non; quy định nhiệm vụ, quyền hạn, phương thức hoạt động, tiêu chuẩn, số lượng và cơ cấu thành viên của Hội đồng quốc gia thẩm định chương trình giáo dục mầm non. ',\n",
       "  'generated_question': 'Chương trình giáo dục mầm non cần đáp ứng những yêu cầu gì theo Luật Giáo Dục?',\n",
       "  'rag_answer_llm': 'Các yêu cầu cho các chương trình giáo dục mầm non bao gồm giáo dục trẻ phải tạo ra các điều kiện thuận lợi cho trẻ em tích cực hoạt động, vui chơi, tạo ra sự gắn bó giữa người lớn và trẻ em, nhấp vào sự phát triển của các giác quan, cảm xúc và chức năng tâm lý và giáo dục mẫu giáo phải tạo điều kiện cho trẻ em vui chơi.',\n",
       "  'generated_answer': 'Chương trình giáo dục mầm non phải bảo đảm các yêu cầu sau: thể hiện mục tiêu giáo dục mầm non; quy định yêu cầu cần đạt ở mỗi độ tuổi, các hoạt động giáo dục, phương pháp, hình thức tổ chức hoạt động giáo dục, môi trường giáo dục, đánh giá sự phát triển của trẻ em; thống nhất trong cả nước và được tổ chức thực hiện linh hoạt, phù hợp với điều kiện cụ thể của địa phương và cơ sở giáo dục mầm non.',\n",
       "  'document': '7bbe02ec',\n",
       "  'doc_id': '7bbe02ec',\n",
       "  'law_title': 'Luật Giáo Dục'},\n",
       " {'law_content': '1. Người vận tải, người lái xe khách phải chấp hành các quy định sau đây: a) Đón, trả hành khách đúng nơi quy định; b) Không chở hành khách trên mui, trong khoang chở hành lý hoặc để hành khách đu, bám bên ngoài xe; c) Không chở hàng nguy hiểm, hàng có mùi hôi thối hoặc động vật, hàng hóa khác có ảnh hưởng đến sức khỏe của hành khách; d) Không chở hành khách, hành lý, hàng hóa vượt quá trọng tải, số người theo quy định; e) Không để hàng hóa trong khoang chở hành khách; có biện pháp giữ gìn vệ sinh trong xe. 2. Bộ trưởng Bộ Giao thông vận tải quy định về tổ chức và quản lý hoạt động vận tải hành khách bằng xe ô tô. ',\n",
       "  'generated_question': 'Người lái xe khách có được phép chở hành khách trên mui xe hoặc để hành khách đu, bám bên ngoài xe không?',\n",
       "  'rag_answer_llm': 'Không, hành khách không thể rời khỏi xe và dính ra khỏi xe.',\n",
       "  'generated_answer': 'Không, người lái xe khách không được phép chở hành khách trên mui, trong khoang chở hành lý hoặc để hành khách đu, bám bên ngoài xe.',\n",
       "  'document': '55ac7fd3',\n",
       "  'doc_id': '55ac7fd3',\n",
       "  'law_title': 'Luật Giao Thông Đường Bộ'},\n",
       " {'law_content': '1. Nghĩa vụ cấp dưỡng được thực hiện giữa cha, mẹ và con; giữa anh, chị, em với nhau; giữa ông bà nội, ông bà ngoại và cháu; giữa cô, dì, chú, cậu, bác ruột và cháu ruột; giữa vợ và chồng theo quy định của Luật này. Nghĩa vụ cấp dưỡng không thể thay thế bằng nghĩa vụ khác và không thể chuyển giao cho người khác. 2. Trong trường hợp người có nghĩa vụ nuôi dưỡng trốn tránh nghĩa vụ thì theo yêu cầu của cá nhân, cơ quan, tổ chức được quy định tại Điều 119 của Luật này, Tòa án buộc người đó phải thực hiện nghĩa vụ cấp dưỡng theo quy định của Luật này. ',\n",
       "  'generated_question': 'Nghĩa vụ cấp dưỡng được thực hiện giữa những ai theo Luật Hôn Nhân và Gia Đình?',\n",
       "  'rag_answer_llm': 'Có, nghĩa vụ điều dưỡng có thể được chuyển cho người khác và không thể được thay thế bởi những người khác.',\n",
       "  'generated_answer': 'Nghĩa vụ cấp dưỡng được thực hiện giữa cha, mẹ và con; giữa anh, chị, em với nhau; giữa ông bà nội, ông bà ngoại và cháu; giữa cô, dì, chú, cậu, bác ruột và cháu ruột; giữa vợ và chồng theo quy định của Luật Hôn Nhân và Gia Đình.',\n",
       "  'document': 'edaf687b',\n",
       "  'doc_id': 'edaf687b',\n",
       "  'law_title': 'Luật Hôn Nhân Và Gia Đình'},\n",
       " {'law_content': 'Việc chia tài sản chung trong thời kỳ hôn nhân bị vô hiệu khi thuộc một trong các trường hợp sau đây: 1. Ảnh hưởng nghiêm trọng đến lợi ích của gia đình; quyền, lợi ích hợp pháp của con chưa thành niên, con đã thành niên mất năng lực hành vi dân sự hoặc không có khả năng lao động và không có tài sản để tự nuôi mình; 2. Nhằm trốn tránh thực hiện các nghĩa vụ sau đây: a) Nghĩa vụ nuôi dưỡng, cấp dưỡng; b) Nghĩa vụ bồi thường thiệt hại; c) Nghĩa vụ thanh toán khi bị Tòa án tuyên bố phá sản; d) Nghĩa vụ trả nợ cho cá nhân, tổ chức; đ) Nghĩa vụ nộp thuế hoặc nghĩa vụ tài chính khác đối với Nhà nước; e) Nghĩa vụ khác về tài sản theo quy định của Luật này, Bộ luật dân sự và quy định khác của pháp luật có liên quan. ',\n",
       "  'generated_question': 'Trong trường hợp nào việc chia tài sản chung trong thời kỳ hôn nhân bị coi là vô hiệu?',\n",
       "  'rag_answer_llm': 'Có, việc phân chia tài sản chung trong hôn nhân không hợp lệ khi một trong những trường hợp sau: 1. Ảnh hưởng nghiêm trọng đến lợi ích của gia đình;các quyền và lợi ích hợp pháp của đứa trẻ;Đứa trẻ đã quy định khả năng của các hành vi dân sự hoặc vô tận và không có tài sản nào tăng lên;2. Để trốn tránh các nghĩa vụ sau: a) nghĩa vụ giáo dục;hỗ trợ;b) nghĩa vụ bồi thường thiệt hại;c) nghĩa vụ phải trả khi tòa án tuyên bố phá sản;d) nghĩa vụ trả nợ với các cá nhân;các tổ chức;DD) Các nghĩa vụ khác trong mọi trường hợp, đối với Nhà nước, của Bộ luật Dân sự và các quy định khác của luật liên quan.',\n",
       "  'generated_answer': 'Việc chia tài sản chung trong thời kỳ hôn nhân bị vô hiệu khi thuộc một trong các trường hợp sau: 1. Ảnh hưởng nghiêm trọng đến lợi ích của gia đình; quyền, lợi ích hợp pháp của con chưa thành niên, con đã thành niên mất năng lực hành vi dân sự hoặc không có khả năng lao động và không có tài sản để tự nuôi mình; 2. Nhằm trốn tránh thực hiện các nghĩa vụ như nuôi dưỡng, cấp dưỡng, bồi thường thiệt hại, thanh toán khi bị Tòa án tuyên bố phá sản, trả nợ cho cá nhân, tổ chức, nộp thuế hoặc nghĩa vụ tài chính khác đối với Nhà nước, và các nghĩa vụ khác về tài sản theo quy định của Luật Hôn Nhân Và Gia Đình, Bộ luật dân sự và quy định khác của pháp luật có liên quan.',\n",
       "  'document': 'b74bd375',\n",
       "  'doc_id': 'b74bd375',\n",
       "  'law_title': 'Luật Hôn Nhân Và Gia Đình'},\n",
       " {'law_content': 'Người điều khiển phương tiện khi dừng xe, đỗ xe trên đường phố phải tuân theo quy định tại Điều 18 của Luật này và các quy định sau đây: 1. Phải cho xe dừng, đỗ sát theo lề đường, hè phố phía bên phải theo chiều đi của mình; bánh xe gần nhất không được cách xa lề đường, hè phố quá 0,25 mét và không gây cản trở, nguy hiểm cho giao thông. Trường hợp đường phố hẹp, phải dừng xe, đỗ xe ở vị trí cách xe ô tô đang đỗ bên kia đường tối thiểu 20 mét. 2. Không được dừng xe, đỗ xe trên đường xe điện, trên miệng cống thoát nước, miệng hầm của đường điện thoại, điện cao thế, chỗ dành riêng cho xe chữa cháy lấy nước. Không được để phương tiện giao thông ở lòng đường, hè phố trái quy định. ',\n",
       "  'generated_question': 'Khi dừng xe, đỗ xe trên đường phố, tôi cần tuân thủ những quy định gì về vị trí đỗ xe?',\n",
       "  'rag_answer_llm': 'Không có câu trả lời trong bối cảnh',\n",
       "  'generated_answer': 'Khi dừng xe, đỗ xe trên đường phố, bạn phải cho xe dừng, đỗ sát theo lề đường, hè phố phía bên phải theo chiều đi của mình. Bánh xe gần nhất không được cách xa lề đường, hè phố quá 0,25 mét và không được gây cản trở, nguy hiểm cho giao thông. Trường hợp đường phố hẹp, bạn phải dừng xe, đỗ xe ở vị trí cách xe ô tô đang đỗ bên kia đường tối thiểu 20 mét.',\n",
       "  'document': '0367a752',\n",
       "  'doc_id': '0367a752',\n",
       "  'law_title': 'Luật Giao Thông Đường Bộ'},\n",
       " {'law_content': '1. Các thành viên gia đình có quyền, nghĩa vụ quan tâm, chăm sóc, giúp đỡ, tôn trọng nhau. Quyền, lợi ích hợp pháp về nhân thân và tài sản của các thành viên gia đình quy định tại Luật này, Bộ luật dân sự và các luật khác có liên quan được pháp luật bảo vệ. 2. Trong trường hợp sống chung thì các thành viên gia đình có nghĩa vụ tham gia công việc gia đình, lao động tạo thu nhập; đóng góp công sức, tiền hoặc tài sản khác để duy trì đời sống chung của gia đình phù hợp với khả năng thực tế của mình. 3. Nhà nước có chính sách tạo điều kiện để các thế hệ trong gia đình quan tâm, chăm sóc, giúp đỡ nhau nhằm giữ gìn và phát huy truyền thống tốt đẹp của gia đình Việt Nam; khuyến khích các cá nhân, tổ chức trong xã hội cùng tham gia vào việc giữ gìn, phát huy truyền thống tốt đẹp của gia đình Việt Nam. ',\n",
       "  'generated_question': 'Các thành viên trong gia đình có nghĩa vụ gì khi sống chung?',\n",
       "  'rag_answer_llm': 'Các thành viên gia đình có quyền và nghĩa vụ chăm sóc, giúp đỡ và tôn trọng bản thân.',\n",
       "  'generated_answer': 'Khi sống chung, các thành viên gia đình có nghĩa vụ tham gia công việc gia đình, lao động tạo thu nhập; đóng góp công sức, tiền hoặc tài sản khác để duy trì đời sống chung của gia đình phù hợp với khả năng thực tế của mình.',\n",
       "  'document': '2e530947',\n",
       "  'doc_id': '2e530947',\n",
       "  'law_title': 'Luật Hôn Nhân Và Gia Đình'},\n",
       " {'law_content': '1. Vợ, chồng có quyền chiếm hữu, sử dụng, định đoạt tài sản riêng của mình; nhập hoặc không nhập tài sản riêng vào tài sản chung. 2. Trong trường hợp vợ hoặc chồng không thể tự mình quản lý tài sản riêng và cũng không ủy quyền cho người khác quản lý thì bên kia có quyền quản lý tài sản đó. Việc quản lý tài sản phải bảo đảm lợi ích của người có tài sản. 3. Nghĩa vụ riêng về tài sản của mỗi người được thanh toán từ tài sản riêng của người đó. 4. Trong trường hợp vợ, chồng có tài sản riêng mà hoa lợi, lợi tức từ tài sản riêng đó là nguồn sống duy nhất của gia đình thì việc định đoạt tài sản này phải có sự đồng ý của chồng, vợ. ',\n",
       "  'generated_question': 'Nếu một người không thể tự quản lý tài sản riêng của mình trong hôn nhân, ai có quyền quản lý tài sản đó?',\n",
       "  'rag_answer_llm': 'Nếu một người không thể quản lý tài sản của mình trong hôn nhân, bên kia có quyền quản lý tài sản đó.',\n",
       "  'generated_answer': 'Trong trường hợp vợ hoặc chồng không thể tự mình quản lý tài sản riêng và cũng không ủy quyền cho người khác quản lý thì bên kia có quyền quản lý tài sản đó. Việc quản lý tài sản phải bảo đảm lợi ích của người có tài sản.',\n",
       "  'document': '8ce1ad4f',\n",
       "  'doc_id': '8ce1ad4f',\n",
       "  'law_title': 'Luật Hôn Nhân Và Gia Đình'},\n",
       " {'law_content': '1. Ông bà nội, ông bà ngoại không sống chung với cháu có nghĩa vụ cấp dưỡng cho cháu trong trường hợp cháu chưa thành niên hoặc cháu đã thành niên không có khả năng lao động, không có tài sản để tự nuôi mình và không có người cấp dưỡng theo quy định tại Điều 112 của Luật này. 2. Cháu đã thành niên không sống chung với ông bà nội, ông bà ngoại có nghĩa vụ cấp dưỡng cho ông bà nội, ông bà ngoại trong trường hợp ông bà không có khả năng lao động, không có tài sản để tự nuôi mình và không có người khác cấp dưỡng theo quy định của Luật này. ',\n",
       "  'generated_question': 'Ông bà nội, ông bà ngoại có nghĩa vụ cấp dưỡng cho cháu trong trường hợp nào?',\n",
       "  'rag_answer_llm': 'Nghĩa vụ điều dưỡng giữa ông bà, ông bà và cháu.',\n",
       "  'generated_answer': 'Ông bà nội, ông bà ngoại không sống chung với cháu có nghĩa vụ cấp dưỡng cho cháu trong trường hợp cháu chưa thành niên hoặc cháu đã thành niên không có khả năng lao động, không có tài sản để tự nuôi mình và không có người cấp dưỡng theo quy định tại Điều 112 của Luật Hôn Nhân Và Gia Đình.',\n",
       "  'document': '30000d3a',\n",
       "  'doc_id': '30000d3a',\n",
       "  'law_title': 'Luật Hôn Nhân Và Gia Đình'},\n",
       " {'law_content': 'Quyền, nghĩa vụ giữa nam, nữ chung sống với nhau như vợ chồng và con được giải quyết theo quy định của Luật này về quyền, nghĩa vụ của cha mẹ và con. ',\n",
       "  'generated_question': 'Nếu nam và nữ chung sống với nhau như vợ chồng mà không đăng ký kết hôn, quyền và nghĩa vụ của họ đối với con cái được quy định như thế nào?',\n",
       "  'rag_answer_llm': 'Quyền và nghĩa vụ của họ được giải quyết theo luật về quyền và nghĩa vụ của cha mẹ và trẻ em.',\n",
       "  'generated_answer': 'Quyền, nghĩa vụ giữa nam, nữ chung sống với nhau như vợ chồng và con được giải quyết theo quy định của Luật Hôn Nhân Và Gia Đình về quyền, nghĩa vụ của cha mẹ và con.',\n",
       "  'document': 'ddb4c799',\n",
       "  'doc_id': 'ddb4c799',\n",
       "  'law_title': 'Luật Hôn Nhân Và Gia Đình'},\n",
       " {'law_content': '1. Khi muốn chuyển hướng, người điều khiển phương tiện phải giảm tốc độ và có tín hiệu báo hướng rẽ. 2. Trong khi chuyển hướng, người lái xe, người điều khiển xe máy chuyên dùng phải nhường quyền đi trước cho người đi bộ, người đi xe đạp đang đi trên phần đường dành riêng cho họ, nhường đường cho các xe đi ngược chiều và chỉ cho xe chuyển hướng khi quan sát thấy không gây trở ngại hoặc nguy hiểm cho người và phương tiện khác. 3. Trong khu dân cư, người lái xe, người điều khiển xe máy chuyên dùng chỉ được quay đầu xe ở nơi đường giao nhau và nơi có biển báo cho phép quay đầu xe. 4. Không được quay đầu xe ở phần đường dành cho người đi bộ qua đường, trên cầu, đầu cầu, gầm cầu vượt, ngầm, trong hầm đường bộ, đường cao tốc, tại nơi đường bộ giao nhau cùng mức với đường sắt, đường hẹp, đường dốc, đoạn đường cong tầm nhìn bị che khuất. ',\n",
       "  'generated_question': 'Khi muốn chuyển hướng xe, người điều khiển phương tiện cần tuân thủ những quy định gì?',\n",
       "  'rag_answer_llm': 'Quyền đối với người đi bộ trên xe phải được trao, nhường chỗ cho những chiếc xe đi theo hướng ngược lại và chỉ cho chiếc xe.',\n",
       "  'generated_answer': 'Khi muốn chuyển hướng, người điều khiển phương tiện phải giảm tốc độ và có tín hiệu báo hướng rẽ. Trong khi chuyển hướng, người lái xe phải nhường quyền đi trước cho người đi bộ, người đi xe đạp đang đi trên phần đường dành riêng cho họ, nhường đường cho các xe đi ngược chiều và chỉ cho xe chuyển hướng khi quan sát thấy không gây trở ngại hoặc nguy hiểm cho người và phương tiện khác.',\n",
       "  'document': '4fde6f0d',\n",
       "  'doc_id': '4fde6f0d',\n",
       "  'law_title': 'Luật Giao Thông Đường Bộ'},\n",
       " {'law_content': '1. Cha, mẹ có nghĩa vụ và quyền ngang nhau, cùng nhau chăm sóc, nuôi dưỡng con chưa thành niên, con đã thành niên mất năng lực hành vi dân sự hoặc không có khả năng lao động và không có tài sản để tự nuôi mình. 2. Con có nghĩa vụ và quyền chăm sóc, nuôi dưỡng cha mẹ, đặc biệt khi cha mẹ mất năng lực hành vi dân sự, ốm đau, già yếu, khuyết tật; trường hợp gia đình có nhiều con thì các con phải cùng nhau chăm sóc, nuôi dưỡng cha mẹ. ',\n",
       "  'generated_question': 'Cha mẹ có nghĩa vụ và quyền chăm sóc, nuôi dưỡng con như thế nào theo Luật Hôn Nhân Và Gia Đình?',\n",
       "  'rag_answer_llm': 'Các nghĩa vụ và quyền chăm sóc và nuôi dưỡng con cái của họ bao gồm quyền chăm sóc và nuôi dưỡng cha mẹ, quyền chăm sóc và nuôi con, và quyền nuôi dưỡng con cái họ.',\n",
       "  'generated_answer': 'Theo Luật Hôn Nhân Và Gia Đình, cha mẹ có nghĩa vụ và quyền ngang nhau, cùng nhau chăm sóc, nuôi dưỡng con chưa thành niên, con đã thành niên mất năng lực hành vi dân sự hoặc không có khả năng lao động và không có tài sản để tự nuôi mình.',\n",
       "  'document': '3df2d127',\n",
       "  'doc_id': '3df2d127',\n",
       "  'law_title': 'Luật Hôn Nhân Và Gia Đình'},\n",
       " {'law_content': '1. Độ tuổi của người lái xe quy định như sau: a) Người đủ 16 tuổi trở lên được lái xe gắn máy có dung tích xi-lanh dưới 50 cm3; b) Người đủ 18 tuổi trở lên được lái xe mô tô hai bánh, xe mô tô ba bánh có dung tích xi-lanh từ 50 cm3 trở lên và các loại xe có kết cấu tương tự; xe ô tô tải, máy kéo có trọng tải dưới 3.500 kg; xe ô tô chở người đến 9 chỗ ngồi; c) Người đủ 21 tuổi trở lên được lái xe ô tô tải, máy kéo có trọng tải từ 3.500 kg trở lên; lái xe hạng B2 kéo rơ moóc (FB2); d) Người đủ 24 tuổi trở lên được lái xe ô tô chở người từ 10 đến 30 chỗ ngồi; lái xe hạng C kéo rơ moóc, sơ mi rơ moóc (FC); đ) Người đủ 27 tuổi trở lên được lái xe ô tô chở người trên 30 chỗ ngồi; lái xe hạng D kéo rơ moóc (FD); e) Tuổi tối đa của người lái xe ô tô chở người trên 30 chỗ ngồi là 50 tuổi đối với nữ và 55 tuổi đối với nam. 2. Người lái xe phải có sức khỏe phù hợp với loại xe, công dụng của xe. Bộ trưởng Bộ Y tế chủ trì, phối hợp với Bộ trưởng Bộ Giao thông vận tải quy định về tiêu chuẩn sức khỏe của người lái xe, việc khám sức khỏe định kỳ đối với người lái xe ô tô và quy định về cơ sở y tế khám sức khoẻ của người lái xe. ',\n",
       "  'generated_question': 'Tôi 18 tuổi, tôi có được lái xe ô tô chở người đến 9 chỗ ngồi không?',\n",
       "  'rag_answer_llm': 'Vâng, bạn có thể lái một chiếc xe vận chuyển mọi người lên đến 9 chỗ.',\n",
       "  'generated_answer': 'Theo quy định của Luật Giao Thông Đường Bộ, người đủ 18 tuổi trở lên được lái xe ô tô chở người đến 9 chỗ ngồi. Do đó, bạn đủ tuổi để lái loại xe này.',\n",
       "  'document': '913967dc',\n",
       "  'doc_id': '913967dc',\n",
       "  'law_title': 'Luật Giao Thông Đường Bộ'},\n",
       " {'law_content': '1. Thỏa thuận về mang thai hộ vì mục đích nhân đạo giữa vợ chồng nhờ mang thai hộ (sau đây gọi là bên nhờ mang thai hộ) và vợ chồng người mang thai hộ (sau đây gọi là bên mang thai hộ) phải có các nội dung cơ bản sau đây: a) Thông tin đầy đủ về bên nhờ mang thai hộ và bên mang thai hộ theo các điều kiện có liên quan quy định tại Điều 95 của Luật này; b) Cam kết thực hiện các quyền, nghĩa vụ quy định tại Điều 97 và Điều 98 của Luật này; c) Việc giải quyết hậu quả trong trường hợp có tai biến sản khoa; hỗ trợ để bảo đảm sức khỏe sinh sản cho người mang thai hộ trong thời gian mang thai và sinh con, việc nhận con của bên nhờ mang thai hộ, quyền và nghĩa vụ của hai bên đối với con trong trường hợp con chưa được giao cho bên nhờ mang thai hộ và các quyền, nghĩa vụ khác có liên quan; d) Trách nhiệm dân sự trong trường hợp một hoặc cả hai bên vi phạm cam kết theo thỏa thuận. 2. Thỏa thuận về việc mang thai hộ phải được lập thành văn bản có công chứng. Trong trường hợp vợ chồng bên nhờ mang thai hộ ủy quyền cho nhau hoặc vợ chồng bên mang thai hộ ủy quyền cho nhau về việc thỏa thuận thì việc ủy quyền phải lập thành văn bản có công chứng. Việc ủy quyền cho người thứ ba không có giá trị pháp lý. Trong trường hợp thỏa thuận về mang thai hộ giữa bên mang thai hộ và bên nhờ mang thai hộ được lập cùng với thỏa thuận giữa họ với cơ sở y tế thực hiện việc sinh con bằng kỹ thuật hỗ trợ sinh sản thì thỏa thuận này phải có xác nhận của người có thẩm quyền của cơ sở y tế này. ',\n",
       "  'generated_question': 'Thỏa thuận về mang thai hộ vì mục đích nhân đạo cần bao gồm những nội dung gì?',\n",
       "  'rag_answer_llm': 'Thỏa thuận thai sản thay thế nhân đạo quy định về khả năng chào đón người phụ nữ mang thai vì sự ra đời của đứa trẻ, đảm bảo sức khỏe sinh sản của trẻ và đảm bảo nghĩa vụ của hai bên.',\n",
       "  'generated_answer': 'Thỏa thuận về mang thai hộ vì mục đích nhân đạo cần bao gồm các nội dung cơ bản sau: thông tin đầy đủ về bên nhờ mang thai hộ và bên mang thai hộ, cam kết thực hiện các quyền và nghĩa vụ theo quy định, việc giải quyết hậu quả trong trường hợp có tai biến sản khoa, hỗ trợ bảo đảm sức khỏe sinh sản cho người mang thai hộ, việc nhận con của bên nhờ mang thai hộ, quyền và nghĩa vụ của hai bên đối với con, và trách nhiệm dân sự trong trường hợp vi phạm cam kết.',\n",
       "  'document': 'bd9fb543',\n",
       "  'doc_id': 'bd9fb543',\n",
       "  'law_title': 'Luật Hôn Nhân Và Gia Đình'},\n",
       " {'law_content': '1. Trong việc kết hôn giữa công dân Việt Nam với người nước ngoài, mỗi bên phải tuân theo pháp luật của nước mình về điều kiện kết hôn; nếu việc kết hôn được tiến hành tại cơ quan nhà nước có thẩm quyền của Việt Nam thì người nước ngoài còn phải tuân theo các quy định của Luật này về điều kiện kết hôn. 2. Việc kết hôn giữa những người nước ngoài thường trú ở Việt Nam tại cơ quan có thẩm quyền của Việt Nam phải tuân theo các quy định của Luật này về điều kiện kết hôn. ',\n",
       "  'generated_question': 'Nếu một công dân Việt Nam kết hôn với người nước ngoài tại Việt Nam, họ cần tuân theo những quy định pháp luật nào?',\n",
       "  'rag_answer_llm': 'Nếu một công dân Việt Nam kết hôn với người nước ngoài ở Việt Nam, anh ta phải tôn trọng luật pháp của đất nước anh ta về các điều kiện kết hôn, như hôn nhân giữa người Việt Nam và người nước ngoài, và tuân thủ các điều khoản của luật này về điều kiện kết hôn.',\n",
       "  'generated_answer': 'Trong việc kết hôn giữa công dân Việt Nam với người nước ngoài, mỗi bên phải tuân theo pháp luật của nước mình về điều kiện kết hôn. Nếu việc kết hôn được tiến hành tại cơ quan nhà nước có thẩm quyền của Việt Nam, người nước ngoài còn phải tuân theo các quy định của Luật Hôn Nhân Và Gia Đình Việt Nam về điều kiện kết hôn.',\n",
       "  'document': '3d54654f',\n",
       "  'doc_id': '3d54654f',\n",
       "  'law_title': 'Luật Hôn Nhân Và Gia Đình'},\n",
       " {'law_content': 'Chính phủ quy định chi tiết các điều, khoản được giao trong Luật. Tòa án nhân dân tối cao chủ trì phối hợp với Viện kiểm sát nhân dân tối cao và Bộ Tư pháp hướng dẫn thi hành các điều, khoản được giao trong Luật. Luật này đã được Quốc hội nước Cộng hòa xã hội chủ nghĩa Việt Nam khóa XIII, kỳ họp thứ 7 thông qua ngày 19 tháng 6 năm 2014. CHỦ TỊCH QUỐC HỘI Nguyễn Sinh Hùng ',\n",
       "  'generated_question': 'Luật Hôn Nhân Và Gia Đình được thông qua vào thời gian nào và bởi cơ quan nào?',\n",
       "  'rag_answer_llm': 'Luật hôn nhân và gia đình được luật pháp ngày 4 tháng 3 năm 2005 chấp thuận.',\n",
       "  'generated_answer': 'Luật Hôn Nhân Và Gia Đình đã được Quốc hội nước Cộng hòa xã hội chủ nghĩa Việt Nam khóa XIII, kỳ họp thứ 7 thông qua ngày 19 tháng 6 năm 2014.',\n",
       "  'document': 'eff71113',\n",
       "  'doc_id': 'eff71113',\n",
       "  'law_title': 'Luật Hôn Nhân Và Gia Đình'},\n",
       " {'law_content': '1. Nội dung giáo dục mầm non phải bảo đảm phù hợp với sự phát triển tâm sinh lý của trẻ em; hài hòa giữa bảo vệ, chăm sóc, nuôi dưỡng với giáo dục trẻ em; phát triển toàn diện về thể chất, tình cảm, kỹ năng xã hội, trí tuệ, thẩm mỹ; tôn trọng sự khác biệt; phù hợp với các độ tuổi và liên thông với giáo dục tiểu học. 2. Phương pháp giáo dục mầm non được quy định như sau: a) Giáo dục nhà trẻ phải tạo điều kiện thuận lợi cho trẻ em được tích cực hoạt động, vui chơi, tạo sự gắn bó giữa người lớn với trẻ em; kích thích sự phát triển các giác quan, cảm xúc và các chức năng tâm sinh lý; b) Giáo dục mẫu giáo phải tạo điều kiện cho trẻ em được vui chơi, trải nghiệm, tìm tòi, khám phá môi trường xung quanh bằng nhiều hình thức, đáp ứng nhu cầu, hứng thú của trẻ em. ',\n",
       "  'generated_question': 'Nội dung giáo dục mầm non cần đảm bảo những yêu cầu gì theo Luật Giáo Dục?',\n",
       "  'rag_answer_llm': 'Nội dung của giáo dục mầm non bao gồm sự biện minh cho sự hiện diện của các hoạt động giáo dục, tạo ra các điều kiện thuận lợi cho trẻ em, chăm sóc giáo dục, bảo vệ, chăm sóc, nuôi dưỡng, truyền thông, giáo dục cho hành động và tất cả giáo dục, sự tham gia tích cực của trẻ em trong Môi trường xung quanh và khám phá môi trường xung quanh với nhiều hình ảnh.',\n",
       "  'generated_answer': 'Nội dung giáo dục mầm non phải bảo đảm phù hợp với sự phát triển tâm sinh lý của trẻ em; hài hòa giữa bảo vệ, chăm sóc, nuôi dưỡng với giáo dục trẻ em; phát triển toàn diện về thể chất, tình cảm, kỹ năng xã hội, trí tuệ, thẩm mỹ; tôn trọng sự khác biệt; phù hợp với các độ tuổi và liên thông với giáo dục tiểu học.',\n",
       "  'document': '60d219bb',\n",
       "  'doc_id': '60d219bb',\n",
       "  'law_title': 'Luật Giáo Dục'},\n",
       " {'law_content': '1. Cha nuôi, mẹ nuôi, con nuôi có quyền và nghĩa vụ của cha, mẹ, con được quy định trong Luật này kể từ thời điểm quan hệ nuôi con nuôi được xác lập theo quy định của Luật nuôi con nuôi. Trong trường hợp chấm dứt việc nuôi con nuôi theo quyết định của Tòa án thì quyền, nghĩa vụ của cha nuôi, mẹ nuôi với con nuôi chấm dứt kể từ ngày quyết định của Tòa án có hiệu lực pháp luật. 2. Quyền, nghĩa vụ của cha đẻ, mẹ đẻ và con đã làm con nuôi của người khác được thực hiện theo quy định của Luật nuôi con nuôi. 3. Quyền, nghĩa vụ giữa cha đẻ, mẹ đẻ và con đẻ được khôi phục kể từ thời điểm quan hệ nuôi con nuôi chấm dứt. Trong trường hợp cha đẻ, mẹ đẻ không còn hoặc không có đủ điều kiện để nuôi con chưa thành niên, con đã thành niên mất năng lực hành vi dân sự hoặc không có khả năng lao động và không có tài sản để tự nuôi mình thì Tòa án giải quyết việc chấm dứt nuôi con nuôi và chỉ định người giám hộ cho con theo quy định của Bộ luật dân sự. ',\n",
       "  'generated_question': 'Khi nào quyền và nghĩa vụ của cha nuôi, mẹ nuôi với con nuôi chấm dứt?',\n",
       "  'rag_answer_llm': 'Các quyền và nghĩa vụ của người cha nuôi và người mẹ được nhận nuôi kết thúc khi mối quan hệ nhận con nuôi được thiết lập theo luật nhận con nuôi.',\n",
       "  'generated_answer': 'Quyền và nghĩa vụ của cha nuôi, mẹ nuôi với con nuôi chấm dứt kể từ ngày quyết định của Tòa án về việc chấm dứt nuôi con nuôi có hiệu lực pháp luật.',\n",
       "  'document': '094280f6',\n",
       "  'doc_id': '094280f6',\n",
       "  'law_title': 'Luật Hôn Nhân Và Gia Đình'},\n",
       " {'law_content': 'Khi đến gần đường giao nhau, người điều khiển phương tiện phải cho xe giảm tốc độ và nhường đường theo quy định sau đây: 1. Tại nơi đường giao nhau không có báo hiệu đi theo vòng xuyến, phải nhường đường cho xe đi đến từ bên phải; 2. Tại nơi đường giao nhau có báo hiệu đi theo vòng xuyến, phải nhường đường cho xe đi bên trái; 3. Tại nơi đường giao nhau giữa đường không ưu tiên và đường ưu tiên hoặc giữa đường nhánh và đường chính thì xe đi từ đường không ưu tiên hoặc đường nhánh phải nhường đường cho xe đi trên đường ưu tiên hoặc đường chính từ bất kỳ hướng nào tới. ',\n",
       "  'generated_question': 'Khi đến gần đường giao nhau không có báo hiệu đi theo vòng xuyến, tôi phải nhường đường như thế nào?',\n",
       "  'rag_answer_llm': 'Chiếc xe phải chậm lại và mang lại theo quy định của pháp luật.',\n",
       "  'generated_answer': 'Tại nơi đường giao nhau không có báo hiệu đi theo vòng xuyến, bạn phải nhường đường cho xe đi đến từ bên phải.',\n",
       "  'document': '2c8ddb11',\n",
       "  'doc_id': '2c8ddb11',\n",
       "  'law_title': 'Luật Giao Thông Đường Bộ'},\n",
       " {'law_content': '1. Đào tạo nhân lực trình độ cao, nâng cao dân trí, bồi dưỡng nhân tài; nghiên cứu khoa học và công nghệ tạo ra tri thức, sản phẩm mới, phục vụ nhu cầu phát triển kinh tế - xã hội, bảo đảm quốc phòng, an ninh, hội nhập quốc tế. 2. Đào tạo người học phát triển toàn diện về đức, trí, thể, mỹ; có tri thức, kỹ năng, trách nhiệm nghề nghiệp; có khả năng nắm bắt tiến bộ khoa học và công nghệ tương xứng với trình độ đào tạo, khả năng tự học, sáng tạo, thích nghi với môi trường làm việc; có tinh thần lập nghiệp, có ý thức phục vụ Nhân dân. ',\n",
       "  'generated_question': 'Mục tiêu của giáo dục đại học theo Luật Giáo Dục là gì?',\n",
       "  'rag_answer_llm': 'Mục tiêu của giáo dục đại học là tăng trí tuệ của mọi người, thúc đẩy tài năng, nghiên cứu khoa học và công nghệ để tạo ra kiến \\u200b\\u200bthức mới, tạo ra kết quả, đảm bảo phòng thủ quốc gia, an toàn và hội nhập quốc tế.',\n",
       "  'generated_answer': 'Mục tiêu của giáo dục đại học bao gồm đào tạo nhân lực trình độ cao, nâng cao dân trí, bồi dưỡng nhân tài; nghiên cứu khoa học và công nghệ tạo ra tri thức, sản phẩm mới phục vụ phát triển kinh tế - xã hội, bảo đảm quốc phòng, an ninh, hội nhập quốc tế. Đồng thời, giáo dục đại học hướng đến đào tạo người học phát triển toàn diện về đức, trí, thể, mỹ; có tri thức, kỹ năng, trách nhiệm nghề nghiệp; có khả năng nắm bắt tiến bộ khoa học và công nghệ, tự học, sáng tạo, thích nghi với môi trường làm việc; có tinh thần lập nghiệp và ý thức phục vụ Nhân dân.',\n",
       "  'document': '00640fda',\n",
       "  'doc_id': '00640fda',\n",
       "  'law_title': 'Luật Giáo Dục'},\n",
       " {'law_content': '1. Người mang thai hộ, chồng của người mang thai hộ có quyền, nghĩa vụ như cha mẹ trong việc chăm sóc sức khỏe sinh sản và chăm sóc, nuôi dưỡng con cho đến thời điểm giao đứa trẻ cho bên nhờ mang thai hộ; phải giao đứa trẻ cho bên nhờ mang thai hộ. 2. Người mang thai hộ phải tuân thủ quy định về thăm khám, các quy trình sàng lọc để phát hiện, điều trị các bất thường, dị tật của bào thai theo quy định của Bộ Y tế. 3. Người mang thai hộ được hưởng chế độ thai sản theo quy định của pháp luật về lao động và bảo hiểm xã hội cho đến thời điểm giao đứa trẻ cho bên nhờ mang thai hộ. Trong trường hợp kể từ ngày sinh đến thời điểm giao đứa trẻ mà thời gian hưởng chế độ thai sản chưa đủ 60 ngày thì người mang thai hộ vẫn được hưởng chế độ thai sản cho đến khi đủ 60 ngày. Việc sinh con do mang thai hộ không tính vào số con theo chính sách dân số và kế hoạch hóa gia đình. 4. Bên mang thai hộ có quyền yêu cầu bên nhờ mang thai hộ thực hiện việc hỗ trợ, chăm sóc sức khỏe sinh sản. Trong trường hợp vì lý do tính mạng, sức khỏe của mình hoặc sự phát triển của thai nhi, người mang thai hộ có quyền quyết định về số lượng bào thai, việc tiếp tục hay không tiếp tục mang thai phù hợp với quy định của pháp luật về chăm sóc sức khỏe sinh sản và sinh con bằng kỹ thuật hỗ trợ sinh sản. 5. Trong trường hợp bên nhờ mang thai hộ từ chối nhận con thì bên mang thai hộ có quyền yêu cầu Tòa án buộc bên nhờ mang thai hộ nhận con. ',\n",
       "  'generated_question': 'Người mang thai hộ có được hưởng chế độ thai sản không và thời gian hưởng là bao lâu?',\n",
       "  'rag_answer_llm': 'Làm mẹ thay thế có quyền yêu cầu phe biết ơn về việc làm mẹ, nhưng trong trường hợp của cuộc sống;Người phụ nữ thay thế có quyền quyết định số lượng thai nhi.',\n",
       "  'generated_answer': 'Người mang thai hộ được hưởng chế độ thai sản theo quy định của pháp luật về lao động và bảo hiểm xã hội cho đến thời điểm giao đứa trẻ cho bên nhờ mang thai hộ. Trong trường hợp kể từ ngày sinh đến thời điểm giao đứa trẻ mà thời gian hưởng chế độ thai sản chưa đủ 60 ngày thì người mang thai hộ vẫn được hưởng chế độ thai sản cho đến khi đủ 60 ngày.',\n",
       "  'document': '36d186a0',\n",
       "  'doc_id': '36d186a0',\n",
       "  'law_title': 'Luật Hôn Nhân Và Gia Đình'},\n",
       " {'law_content': '1. Vợ chồng có quyền sửa đổi, bổ sung thỏa thuận về chế độ tài sản. 2. Hình thức sửa đổi, bổ sung nội dung của thỏa thuận về chế độ tài sản theo thỏa thuận được áp dụng theo quy định tại Điều 47 của Luật này. ',\n",
       "  'generated_question': 'Vợ chồng có thể thay đổi thỏa thuận về chế độ tài sản của mình không?',\n",
       "  'rag_answer_llm': 'Không, cặp vợ chồng không thể sửa đổi và tích hợp nội dung của thỏa thuận về chế độ tài sản.',\n",
       "  'generated_answer': 'Vợ chồng có quyền sửa đổi, bổ sung thỏa thuận về chế độ tài sản. Hình thức sửa đổi, bổ sung nội dung của thỏa thuận về chế độ tài sản được áp dụng theo quy định tại Điều 47 của Luật Hôn Nhân Và Gia Đình.',\n",
       "  'document': 'b33cdce7',\n",
       "  'doc_id': 'b33cdce7',\n",
       "  'law_title': 'Luật Hôn Nhân Và Gia Đình'},\n",
       " {'law_content': 'Vợ, chồng có các nghĩa vụ riêng về tài sản sau đây: 1. Nghĩa vụ của mỗi bên vợ, chồng có trước khi kết hôn; 2. Nghĩa vụ phát sinh từ việc chiếm hữu, sử dụng, định đoạt tài sản riêng, trừ trường hợp nghĩa vụ phát sinh trong việc bảo quản, duy trì, tu sửa tài sản riêng của vợ, chồng theo quy định tại khoản 4 Điều 44 hoặc quy định tại khoản 4 Điều 37 của Luật này; 3. Nghĩa vụ phát sinh từ giao dịch do một bên xác lập, thực hiện không vì nhu cầu của gia đình; 4. Nghĩa vụ phát sinh từ hành vi vi phạm pháp luật của vợ, chồng. ',\n",
       "  'generated_question': 'Vợ hoặc chồng có phải chịu trách nhiệm về các nghĩa vụ tài sản riêng của mình không?',\n",
       "  'rag_answer_llm': 'Người chồng và vợ có nghĩa vụ sở hữu riêng: 1. Nghĩa vụ của mỗi người chồng có trước khi kết hôn;2. Trừ khi các nghĩa vụ được trình bày để bảo tồn;duy trì và sửa chữa tài sản của họ;Vợ chồng đã có trước khi kết hôn;Trừ khi các nghĩa vụ được trình bày.',\n",
       "  'generated_answer': 'Vợ, chồng có các nghĩa vụ riêng về tài sản sau đây: 1. Nghĩa vụ của mỗi bên vợ, chồng có trước khi kết hôn; 2. Nghĩa vụ phát sinh từ việc chiếm hữu, sử dụng, định đoạt tài sản riêng, trừ trường hợp nghĩa vụ phát sinh trong việc bảo quản, duy trì, tu sửa tài sản riêng của vợ, chồng theo quy định tại khoản 4 Điều 44 hoặc quy định tại khoản 4 Điều 37 của Luật này; 3. Nghĩa vụ phát sinh từ giao dịch do một bên xác lập, thực hiện không vì nhu cầu của gia đình; 4. Nghĩa vụ phát sinh từ hành vi vi phạm pháp luật của vợ, chồng.',\n",
       "  'document': '6a1cc6bc',\n",
       "  'doc_id': '6a1cc6bc',\n",
       "  'law_title': 'Luật Hôn Nhân Và Gia Đình'},\n",
       " {'law_content': 'Giáo dục đại học đào tạo trình độ đại học, trình độ thạc sĩ, trình độ tiến sĩ. ',\n",
       "  'generated_question': 'Giáo dục đại học tại Việt Nam đào tạo những trình độ nào?',\n",
       "  'rag_answer_llm': 'Tôi không đủ thông tin để trả lời câu hỏi này.',\n",
       "  'generated_answer': 'Giáo dục đại học đào tạo trình độ đại học, trình độ thạc sĩ, trình độ tiến sĩ.',\n",
       "  'document': 'e66c485e',\n",
       "  'doc_id': 'e66c485e',\n",
       "  'law_title': 'Luật Giáo Dục'},\n",
       " {'law_content': '1. Trường giáo dưỡng có nhiệm vụ giáo dục người chưa thành niên vi phạm pháp luật để đối tượng này rèn luyện, phát triển lành mạnh, trở thành người lương thiện, có khả năng tái hòa nhập vào đời sống xã hội. 2. Bộ trưởng Bộ Công an có trách nhiệm chủ trì, phối hợp với Bộ trưởng Bộ Giáo dục và Đào tạo, Bộ trưởng Bộ Lao động - Thương binh và Xã hội quy định chương trình giáo dục cho trường giáo dưỡng. ',\n",
       "  'generated_question': 'Trường giáo dưỡng có nhiệm vụ gì đối với người chưa thành niên vi phạm pháp luật?',\n",
       "  'rag_answer_llm': 'Cải cách, trở nên trung thực và có thể tái hòa nhập vào đời sống xã hội.',\n",
       "  'generated_answer': 'Trường giáo dưỡng có nhiệm vụ giáo dục người chưa thành niên vi phạm pháp luật để đối tượng này rèn luyện, phát triển lành mạnh, trở thành người lương thiện, có khả năng tái hòa nhập vào đời sống xã hội.',\n",
       "  'document': '3308ef92',\n",
       "  'doc_id': '3308ef92',\n",
       "  'law_title': 'Luật Giáo Dục'},\n",
       " {'law_content': 'Người học là người đang học tập tại cơ sở giáo dục trong hệ thống giáo dục quốc dân bao gồm: 1. Trẻ em của cơ sở giáo dục mầm non; 2. Học sinh của cơ sở giáo dục phổ thông, lớp đào tạo nghề, trung tâm giáo dục nghề nghiệp - giáo dục thường xuyên, trung tâm giáo dục nghề nghiệp, trường trung cấp, trường dự bị đại học; 3. Sinh viên của trường cao đẳng, trường đại học; 4. Học viên của cơ sở đào tạo thạc sĩ; 5. Nghiên cứu sinh của cơ sở đào tạo tiến sĩ; 6. Học viên theo học chương trình giáo dục thường xuyên. ',\n",
       "  'generated_question': 'Những đối tượng nào được coi là người học theo Luật Giáo Dục?',\n",
       "  'rag_answer_llm': 'Các môn học xem xét luật giáo dục bao gồm đào tạo chuyên nghiệp, đào tạo sinh viên của các tổ chức giáo dục ở độ tuổi mầm non, đào tạo sinh viên đại học, đào tạo liên tục và đào tạo sinh viên chuyên ngành.',\n",
       "  'generated_answer': 'Người học là người đang học tập tại cơ sở giáo dục trong hệ thống giáo dục quốc dân, bao gồm: trẻ em của cơ sở giáo dục mầm non; học sinh của cơ sở giáo dục phổ thông, lớp đào tạo nghề, trung tâm giáo dục nghề nghiệp - giáo dục thường xuyên, trung tâm giáo dục nghề nghiệp, trường trung cấp, trường dự bị đại học; sinh viên của trường cao đẳng, trường đại học; học viên của cơ sở đào tạo thạc sĩ; nghiên cứu sinh của cơ sở đào tạo tiến sĩ; và học viên theo học chương trình giáo dục thường xuyên.',\n",
       "  'document': 'd8d5b7a5',\n",
       "  'doc_id': 'd8d5b7a5',\n",
       "  'law_title': 'Luật Giáo Dục'},\n",
       " {'law_content': '1. Tùy theo loại động vật sống, người kinh doanh vận tải yêu cầu người thuê vận tải bố trí người áp tải để chăm sóc trong quá trình vận tải. 2. Người thuê vận tải chịu trách nhiệm về việc xếp, dỡ động vật sống theo hướng dẫn của người kinh doanh vận tải; trường hợp người thuê vận tải không thực hiện được thì phải trả cước, phí xếp, dỡ cho người kinh doanh vận tải. 3. Việc vận chuyển động vật sống trên đường phải tuân theo quy định của pháp luật về vệ sinh, phòng dịch và bảo vệ môi trường. ',\n",
       "  'generated_question': 'Khi vận chuyển động vật sống trên đường, người thuê vận tải cần tuân thủ những quy định gì?',\n",
       "  'rag_answer_llm': 'Vận chuyển động vật sống phải tuân thủ các quy định của luật vệ sinh, bảo vệ môi trường và phòng ngừa dịch bệnh.',\n",
       "  'generated_answer': 'Khi vận chuyển động vật sống trên đường, người thuê vận tải cần tuân thủ các quy định của pháp luật về vệ sinh, phòng dịch và bảo vệ môi trường. Ngoài ra, người thuê vận tải phải chịu trách nhiệm về việc xếp, dỡ động vật sống theo hướng dẫn của người kinh doanh vận tải. Nếu không thực hiện được, người thuê vận tải phải trả cước, phí xếp, dỡ cho người kinh doanh vận tải.',\n",
       "  'document': 'e287b488',\n",
       "  'doc_id': 'e287b488',\n",
       "  'law_title': 'Luật Giao Thông Đường Bộ'},\n",
       " {'law_content': '1. Khi vợ hoặc chồng yêu cầu ly hôn mà hòa giải tại Tòa án không thành thì Tòa án giải quyết cho ly hôn nếu có căn cứ về việc vợ, chồng có hành vi bạo lực gia đình hoặc vi phạm nghiêm trọng quyền, nghĩa vụ của vợ, chồng làm cho hôn nhân lâm vào tình trạng trầm trọng, đời sống chung không thể kéo dài, mục đích của hôn nhân không đạt được. 2. Trong trường hợp vợ hoặc chồng của người bị Tòa án tuyên bố mất tích yêu cầu ly hôn thì Tòa án giải quyết cho ly hôn. 3. Trong trường hợp có yêu cầu ly hôn theo quy định tại khoản 2 Điều 51 của Luật này thì Tòa án giải quyết cho ly hôn nếu có căn cứ về việc chồng, vợ có hành vi bạo lực gia đình làm ảnh hưởng nghiêm trọng đến tính mạng, sức khỏe, tinh thần của người kia. ',\n",
       "  'generated_question': 'Trong trường hợp nào Tòa án sẽ giải quyết cho ly hôn theo yêu cầu của một bên?',\n",
       "  'rag_answer_llm': 'Có, trong trường hợp này, tòa án sẽ quyết tâm ly hôn theo yêu cầu của một phần.',\n",
       "  'generated_answer': 'Tòa án sẽ giải quyết cho ly hôn nếu có căn cứ về việc vợ hoặc chồng có hành vi bạo lực gia đình hoặc vi phạm nghiêm trọng quyền, nghĩa vụ của vợ, chồng làm cho hôn nhân lâm vào tình trạng trầm trọng, đời sống chung không thể kéo dài, mục đích của hôn nhân không đạt được. Ngoài ra, trong trường hợp vợ hoặc chồng của người bị Tòa án tuyên bố mất tích yêu cầu ly hôn, Tòa án cũng sẽ giải quyết cho ly hôn.',\n",
       "  'document': '63501459',\n",
       "  'doc_id': '63501459',\n",
       "  'law_title': 'Luật Hôn Nhân Và Gia Đình'},\n",
       " {'law_content': '1. Tiếng Việt là ngôn ngữ chính thức dùng trong cơ sở giáo dục. Căn cứ vào mục tiêu giáo dục và yêu cầu cụ thể về nội dung giáo dục, Chính phủ quy định việc dạy và học bằng tiếng nước ngoài trong cơ sở giáo dục. 2. Nhà nước khuyến khích, tạo điều kiện để người dân tộc thiểu số được học tiếng nói, chữ viết của dân tộc mình theo quy định của Chính phủ; người khuyết tật nghe, nói được học bằng ngôn ngữ ký hiệu, người khuyết tật nhìn được học bằng chữ nổi Braille theo quy định của Luật Người khuyết tật. 3. Ngoại ngữ quy định trong chương trình giáo dục là ngôn ngữ được sử dụng phổ biến trong giao dịch quốc tế. Việc tổ chức dạy ngoại ngữ trong cơ sở giáo dục phải bảo đảm để người học được học liên tục, hiệu quả. ',\n",
       "  'generated_question': 'Ngôn ngữ chính thức được sử dụng trong các cơ sở giáo dục ở Việt Nam là gì?',\n",
       "  'rag_answer_llm': 'Ngôn ngữ chính thức được sử dụng trong các tổ chức giáo dục ở Việt Nam là người Việt Nam.',\n",
       "  'generated_answer': 'Tiếng Việt là ngôn ngữ chính thức dùng trong cơ sở giáo dục. Tuy nhiên, căn cứ vào mục tiêu giáo dục và yêu cầu cụ thể về nội dung giáo dục, Chính phủ có thể quy định việc dạy và học bằng tiếng nước ngoài trong cơ sở giáo dục.',\n",
       "  'document': '1095c99a',\n",
       "  'doc_id': '1095c99a',\n",
       "  'law_title': 'Luật Giáo Dục'},\n",
       " {'law_content': '1. Người kinh doanh vận tải hành khách có các quyền sau đây: a) Thu cước, phí vận tải; b) Từ chối vận chuyển trước khi phương tiện rời bến xe, rời vị trí đón, trả hành khách theo hợp đồng vận chuyển những người đã có vé hoặc người trong danh sách hợp đồng có hành vi gây rối trật tự công cộng, gây cản trở công việc của người kinh doanh vận tải, ảnh hưởng đến sức khoẻ, tài sản của người khác, gian lận vé hoặc hành khách đang bị dịch bệnh nguy hiểm. 2. Người kinh doanh vận tải hành khách có các nghĩa vụ sau đây: a) Thực hiện đầy đủ các cam kết về chất lượng vận tải, hợp đồng vận tải; b) Mua bảo hiểm cho hành khách; phí bảo hiểm được tính vào giá vé hành khách; c) Giao vé, chứng từ thu cước, phí vận tải cho hành khách; d) Bồi thường thiệt hại do người làm công, người đại diện gây ra trong khi thực hiện công việc được người kinh doanh vận tải giao; đ) Chịu trách nhiệm về hậu quả mà người làm công, người đại diện gây ra do thực hiện yêu cầu của người kinh doanh vận tải trái quy định của Luật này. 3. Bộ trưởng Bộ Tài chính chủ trì, phối hợp với Bộ trưởng Bộ Giao thông vận tải quy định về vé và chứng từ thu cước, phí vận tải hành khách. ',\n",
       "  'generated_question': 'Người kinh doanh vận tải hành khách có quyền từ chối vận chuyển hành khách trong trường hợp nào?',\n",
       "  'rag_answer_llm': 'Không có câu trả lời trong bối cảnh',\n",
       "  'generated_answer': 'Người kinh doanh vận tải hành khách có quyền từ chối vận chuyển trước khi phương tiện rời bến xe, rời vị trí đón, trả hành khách theo hợp đồng vận chuyển những người đã có vé hoặc người trong danh sách hợp đồng có hành vi gây rối trật tự công cộng, gây cản trở công việc của người kinh doanh vận tải, ảnh hưởng đến sức khoẻ, tài sản của người khác, gian lận vé hoặc hành khách đang bị dịch bệnh nguy hiểm.',\n",
       "  'document': 'fc2fbd8d',\n",
       "  'doc_id': 'fc2fbd8d',\n",
       "  'law_title': 'Luật Giao Thông Đường Bộ'},\n",
       " {'law_content': 'Khi ly hôn nếu bên khó khăn, túng thiếu có yêu cầu cấp dưỡng mà có lý do chính đáng thì bên kia có nghĩa vụ cấp dưỡng theo khả năng của mình. ',\n",
       "  'generated_question': 'Khi ly hôn, nếu một bên gặp khó khăn tài chính, bên kia có nghĩa vụ cấp dưỡng không?',\n",
       "  'rag_answer_llm': 'Nếu một phần có khó khăn về tài chính, phần khác của hỗ trợ.',\n",
       "  'generated_answer': 'Khi ly hôn, nếu bên khó khăn, túng thiếu có yêu cầu cấp dưỡng và có lý do chính đáng, bên kia có nghĩa vụ cấp dưỡng theo khả năng của mình.',\n",
       "  'document': '98aefc90',\n",
       "  'doc_id': '98aefc90',\n",
       "  'law_title': 'Luật Hôn Nhân Và Gia Đình'},\n",
       " {'law_content': '1. Quyền, nghĩa vụ tài sản của vợ chồng đối với người thứ ba vẫn có hiệu lực sau khi ly hôn, trừ trường hợp vợ chồng và người thứ ba có thỏa thuận khác. 2. Trong trường hợp có tranh chấp về quyền, nghĩa vụ tài sản thì áp dụng quy định tại các điều 27, 37 và 45 của Luật này và quy định của Bộ luật dân sự để giải quyết. ',\n",
       "  'generated_question': 'Khi ly hôn, quyền và nghĩa vụ tài sản của vợ chồng đối với người thứ ba có còn hiệu lực không?',\n",
       "  'rag_answer_llm': 'Quyền và nghĩa vụ của cặp vợ chồng đối với người thứ ba vẫn còn hiệu lực sau khi ly hôn.',\n",
       "  'generated_answer': 'Quyền, nghĩa vụ tài sản của vợ chồng đối với người thứ ba vẫn có hiệu lực sau khi ly hôn, trừ trường hợp vợ chồng và người thứ ba có thỏa thuận khác.',\n",
       "  'document': 'c1d63340',\n",
       "  'doc_id': 'c1d63340',\n",
       "  'law_title': 'Luật Hôn Nhân Và Gia Đình'},\n",
       " {'law_content': '1. Trên đoạn đường bộ giao nhau cùng mức với đường sắt, cầu đường bộ đi chung với đường sắt, phương tiện giao thông đường sắt được quyền ưu tiên đi trước. 2. Tại nơi đường bộ giao nhau cùng mức với đường sắt có đèn tín hiệu, rào chắn và chuông báo hiệu, khi đèn tín hiệu mầu đỏ đã bật sáng, có tiếng chuông báo hiệu, rào chắn đang dịch chuyển hoặc đã đóng, người tham gia giao thông đường bộ phải dừng lại phía phần đường của mình và cách rào chắn một khoảng cách an toàn; khi đèn tín hiệu đã tắt, rào chắn mở hết, tiếng chuông báo hiệu ngừng mới được đi qua. 3. Tại nơi đường bộ giao nhau cùng mức với đường sắt chỉ có đèn tín hiệu hoặc chuông báo hiệu, khi đèn tín hiệu mầu đỏ đã bật sáng hoặc có tiếng chuông báo hiệu, người tham gia giao thông đường bộ phải dừng ngay lại và giữ khoảng cách tối thiểu 5 mét tính từ ray gần nhất; khi đèn tín hiệu đã tắt hoặc tiếng chuông báo hiệu ngừng mới được đi qua. 4. Tại nơi đường bộ giao nhau cùng mức với đường sắt không có đèn tín hiệu, rào chắn và chuông báo hiệu, người tham gia giao thông đường bộ phải quan sát cả hai phía, khi thấy chắc chắn không có phương tiện đường sắt đang đi tới mới được đi qua, nếu thấy có phương tiện đường sắt đang đi tới thì phải dừng lại và giữ khoảng cách tối thiểu 5 mét tính từ ray gần nhất và chỉ khi phương tiện đường sắt đã đi qua mới được đi. 5. Khi phương tiện tham gia giao thông đường bộ bị hư hỏng tại nơi đường bộ giao nhau cùng mức với đường sắt hoặc trong phạm vi an toàn đường sắt thì người điều khiển phương tiện phải bằng mọi cách nhanh nhất đặt báo hiệu trên đường sắt cách tối thiểu 500 mét về hai phía để báo cho người điều khiển phương tiện đường sắt và tìm cách báo cho người quản lý đường sắt, nhà ga nơi gần nhất, đồng thời phải bằng mọi biện pháp nhanh chóng đưa phương tiện ra khỏi phạm vi an toàn đường sắt. 6. Những người có mặt tại nơi phương tiện tham gia giao thông đường bộ bị hư hỏng trên đoạn đường bộ giao nhau cùng mức với đường sắt có trách nhiệm giúp đỡ người điều khiển phương tiện đưa phương tiện ra khỏi phạm vi an toàn đường sắt. ',\n",
       "  'generated_question': 'Tôi cần làm gì khi gặp đèn tín hiệu màu đỏ và rào chắn đang đóng tại nơi đường bộ giao nhau cùng mức với đường sắt?',\n",
       "  'rag_answer_llm': 'Bạn phải dừng lại và giữ khoảng cách an toàn với hàng rào.',\n",
       "  'generated_answer': 'Khi đèn tín hiệu màu đỏ đã bật sáng, có tiếng chuông báo hiệu, rào chắn đang dịch chuyển hoặc đã đóng, người tham gia giao thông đường bộ phải dừng lại phía phần đường của mình và cách rào chắn một khoảng cách an toàn. Khi đèn tín hiệu đã tắt, rào chắn mở hết, tiếng chuông báo hiệu ngừng, bạn mới được đi qua.',\n",
       "  'document': 'aafaff10',\n",
       "  'doc_id': 'aafaff10',\n",
       "  'law_title': 'Luật Giao Thông Đường Bộ'},\n",
       " {'law_content': '1. Khi một bên vợ, chồng chết hoặc bị Tòa án tuyên bố là đã chết thì bên còn sống quản lý tài sản chung của vợ chồng, trừ trường hợp trong di chúc có chỉ định người khác quản lý di sản hoặc những người thừa kế thỏa thuận cử người khác quản lý di sản. 2. Khi có yêu cầu về chia di sản thì tài sản chung của vợ chồng được chia đôi, trừ trường hợp vợ chồng có thỏa thuận về chế độ tài sản. Phần tài sản của vợ, chồng chết hoặc bị Tòa án tuyên bố là đã chết được chia theo quy định của pháp luật về thừa kế. 3. Trong trường hợp việc chia di sản ảnh hưởng nghiêm trọng đến đời sống của vợ hoặc chồng còn sống, gia đình thì vợ, chồng còn sống có quyền yêu cầu Tòa án hạn chế phân chia di sản theo quy định của Bộ luật dân sự. 4. Tài sản của vợ chồng trong kinh doanh được giải quyết theo quy định tại các khoản 1, 2 và 3 Điều này, trừ trường hợp pháp luật về kinh doanh có quy định khác. ',\n",
       "  'generated_question': 'Khi một người vợ hoặc chồng chết, ai sẽ quản lý tài sản chung của vợ chồng?',\n",
       "  'rag_answer_llm': 'Một phần chết khi một phần quyền sở hữu chung của cặp vợ chồng đã chết hoặc được tòa án tuyên bố.',\n",
       "  'generated_answer': 'Khi một bên vợ hoặc chồng chết hoặc bị Tòa án tuyên bố là đã chết, bên còn sống sẽ quản lý tài sản chung của vợ chồng, trừ trường hợp trong di chúc có chỉ định người khác quản lý di sản hoặc những người thừa kế thỏa thuận cử người khác quản lý di sản.',\n",
       "  'document': '145c53b2',\n",
       "  'doc_id': '145c53b2',\n",
       "  'law_title': 'Luật Hôn Nhân Và Gia Đình'},\n",
       " {'law_content': '1. Tổ chức giao thông gồm các nội dung sau đây: a) Phân làn, phân luồng, phân tuyến và quy định thời gian đi lại cho người và phương tiện tham gia giao thông đường bộ; b) Quy định các đoạn đường cấm đi, đường đi một chiều, nơi cấm dừng, cấm đỗ, cấm quay đầu xe; lắp đặt báo hiệu đường bộ; c) Thông báo khi có sự thay đổi về việc phân luồng, phân tuyến, thời gian đi lại tạm thời hoặc lâu dài; thực hiện các biện pháp ứng cứu khi có sự cố xảy ra và các biện pháp khác về đi lại trên đường bộ để bảo đảm giao thông thông suốt, an toàn. 2. Trách nhiệm tổ chức giao thông quy định như sau: a) Bộ trưởng Bộ Giao thông vận tải chịu trách nhiệm tổ chức giao thông trên hệ thống quốc lộ; b) Chủ tịch Ủy ban nhân dân cấp tỉnh chịu trách nhiệm tổ chức giao thông trên các hệ thống đường bộ thuộc phạm vi quản lý. 3. Trách nhiệm điều khiển giao thông của cảnh sát giao thông như sau: a) Chỉ huy, điều khiển giao thông trên đường; hướng dẫn, bắt buộc người tham gia giao thông chấp hành quy tắc giao thông; b) Khi có tình huống gây ách tắc giao thông hoặc có yêu cầu cần thiết khác về bảo đảm an ninh, trật tự được tạm thời đình chỉ đi lại ở một số đoạn đường nhất định, phân lại luồng, phân lại tuyến và nơi tạm dừng xe, đỗ xe. ',\n",
       "  'generated_question': 'Ai là người chịu trách nhiệm tổ chức giao thông trên hệ thống quốc lộ theo Luật Giao Thông Đường Bộ?',\n",
       "  'rag_answer_llm': 'Tổ chức giao thông trên đường cao tốc quốc gia theo luật giao thông đường bộ được quản lý bởi Hiệp hội Giao thông vận tải.',\n",
       "  'generated_answer': 'Bộ trưởng Bộ Giao thông vận tải chịu trách nhiệm tổ chức giao thông trên hệ thống quốc lộ.',\n",
       "  'document': 'ca9492b0',\n",
       "  'doc_id': 'ca9492b0',\n",
       "  'law_title': 'Luật Giao Thông Đường Bộ'},\n",
       " {'law_content': '1. Cha, mẹ bị hạn chế quyền đối với con chưa thành niên trong các trường hợp sau đây: a) Bị kết án về một trong các tội xâm phạm tính mạng, sức khỏe, nhân phẩm, danh dự của con với lỗi cố ý hoặc có hành vi vi phạm nghiêm trọng nghĩa vụ trông nom, chăm sóc, nuôi dưỡng, giáo dục con; b) Phá tán tài sản của con; c) Có lối sống đồi trụy; d) Xúi giục, ép buộc con làm những việc trái pháp luật, trái đạo đức xã hội. 2. Căn cứ vào từng trường hợp cụ thể, Tòa án có thể tự mình hoặc theo yêu cầu của cá nhân, cơ quan, tổ chức quy định tại Điều 86 của Luật này ra quyết định không cho cha, mẹ trông nom, chăm sóc, giáo dục con, quản lý tài sản riêng của con hoặc đại diện theo pháp luật cho con trong thời hạn từ 01 năm đến 05 năm. Tòa án có thể xem xét việc rút ngắn thời hạn này. ',\n",
       "  'generated_question': 'Trong trường hợp nào cha mẹ bị hạn chế quyền đối với con chưa thành niên theo Luật Hôn Nhân và Gia Đình?',\n",
       "  'rag_answer_llm': 'Không, tòa án có thể mỗi trường hợp cụ thể;Tòa án có thể xem xét việc rút ngắn thời hạn này.',\n",
       "  'generated_answer': 'Cha, mẹ bị hạn chế quyền đối với con chưa thành niên trong các trường hợp sau: a) Bị kết án về một trong các tội xâm phạm tính mạng, sức khỏe, nhân phẩm, danh dự của con với lỗi cố ý hoặc có hành vi vi phạm nghiêm trọng nghĩa vụ trông nom, chăm sóc, nuôi dưỡng, giáo dục con; b) Phá tán tài sản của con; c) Có lối sống đồi trụy; d) Xúi giục, ép buộc con làm những việc trái pháp luật, trái đạo đức xã hội.',\n",
       "  'document': 'f85a0fdc',\n",
       "  'doc_id': 'f85a0fdc',\n",
       "  'law_title': 'Luật Hôn Nhân Và Gia Đình'},\n",
       " {'law_content': '1. Nghĩa vụ cấp dưỡng tuân theo pháp luật của nước nơi người yêu cầu cấp dưỡng cư trú. Trường hợp người yêu cầu cấp dưỡng không có nơi cư trú tại Việt Nam thì áp dụng pháp luật của nước nơi người yêu cầu cấp dưỡng là công dân. 2. Cơ quan có thẩm quyền giải quyết đơn yêu cầu cấp dưỡng của người quy định tại khoản 1 Điều này là cơ quan của nước nơi người yêu cầu cấp dưỡng cư trú. ',\n",
       "  'generated_question': 'Nếu tôi muốn yêu cầu cấp dưỡng từ người thân đang sống ở nước ngoài, luật nào sẽ được áp dụng?',\n",
       "  'rag_answer_llm': 'Luật của đất nước nơi cần cư trú.',\n",
       "  'generated_answer': 'Nghĩa vụ cấp dưỡng tuân theo pháp luật của nước nơi người yêu cầu cấp dưỡng cư trú. Trường hợp người yêu cầu cấp dưỡng không có nơi cư trú tại Việt Nam thì áp dụng pháp luật của nước nơi người yêu cầu cấp dưỡng là công dân.',\n",
       "  'document': 'fddfb9a0',\n",
       "  'doc_id': 'fddfb9a0',\n",
       "  'law_title': 'Luật Hôn Nhân Và Gia Đình'},\n",
       " {'law_content': '1. Trong trường hợp vợ chồng sống chung với gia đình mà ly hôn, nếu tài sản của vợ chồng trong khối tài sản chung của gia đình không xác định được thì vợ hoặc chồng được chia một phần trong khối tài sản chung của gia đình căn cứ vào công sức đóng góp của vợ chồng vào việc tạo lập, duy trì, phát triển khối tài sản chung cũng như vào đời sống chung của gia đình. Việc chia một phần trong khối tài sản chung do vợ chồng thỏa thuận với gia đình; nếu không thỏa thuận được thì yêu cầu Tòa án giải quyết. 2. Trong trường hợp vợ chồng sống chung với gia đình mà tài sản của vợ chồng trong khối tài sản chung của gia đình có thể xác định được theo phần thì khi ly hôn, phần tài sản của vợ chồng được trích ra từ khối tài sản chung đó để chia theo quy định tại Điều 59 của Luật này. ',\n",
       "  'generated_question': 'Nếu vợ chồng sống chung với gia đình và ly hôn, nhưng không xác định được tài sản riêng của họ trong khối tài sản chung, thì việc chia tài sản sẽ được giải quyết như thế nào?',\n",
       "  'rag_answer_llm': 'Nếu cặp vợ chồng sống với gia đình và ly hôn, quyền sở hữu của cặp vợ chồng được trích xuất từ \\u200b\\u200bmay mắn, theo Điều 59 của Luật.',\n",
       "  'generated_answer': 'Trong trường hợp vợ chồng sống chung với gia đình mà ly hôn, nếu tài sản của vợ chồng trong khối tài sản chung của gia đình không xác định được, vợ hoặc chồng được chia một phần trong khối tài sản chung của gia đình căn cứ vào công sức đóng góp của họ vào việc tạo lập, duy trì, phát triển khối tài sản chung cũng như vào đời sống chung của gia đình. Việc chia tài sản do vợ chồng thỏa thuận với gia đình; nếu không thỏa thuận được thì yêu cầu Tòa án giải quyết.',\n",
       "  'document': '2067f1b4',\n",
       "  'doc_id': '2067f1b4',\n",
       "  'law_title': 'Luật Hôn Nhân Và Gia Đình'},\n",
       " {'law_content': '1. Vợ, chồng có quyền, nghĩa vụ thực hiện giao dịch nhằm đáp ứng nhu cầu thiết yếu của gia đình. 2. Trong trường hợp vợ chồng không có tài sản chung hoặc tài sản chung không đủ để đáp ứng nhu cầu thiết yếu của gia đình thì vợ, chồng có nghĩa vụ đóng góp tài sản riêng theo khả năng kinh tế của mỗi bên. ',\n",
       "  'generated_question': 'Vợ chồng có nghĩa vụ gì khi tài sản chung không đủ để đáp ứng nhu cầu thiết yếu của gia đình?',\n",
       "  'rag_answer_llm': 'Trong trường hợp thiếu tài sản chung, cặp vợ chồng có nghĩa vụ đóng góp với tài sản riêng của họ dựa trên năng lực kinh tế của từng bộ phận.',\n",
       "  'generated_answer': 'Trong trường hợp vợ chồng không có tài sản chung hoặc tài sản chung không đủ để đáp ứng nhu cầu thiết yếu của gia đình, vợ chồng có nghĩa vụ đóng góp tài sản riêng theo khả năng kinh tế của mỗi bên.',\n",
       "  'document': 'b4d84fed',\n",
       "  'doc_id': 'b4d84fed',\n",
       "  'law_title': 'Luật Hôn Nhân Và Gia Đình'},\n",
       " {'law_content': '1. Thực hiện xóa mù chữ cho người trong độ tuổi theo quy định của pháp luật. 2. Đào tạo, bồi dưỡng nâng cao năng lực làm việc; cập nhật, bổ sung kiến thức, kỹ năng cần thiết trong cuộc sống cho mọi người; tạo cơ hội cho người có nhu cầu học tập nâng cao trình độ học vấn. ',\n",
       "  'generated_question': 'Giáo dục thường xuyên có nhiệm vụ gì đối với người dân?',\n",
       "  'rag_answer_llm': 'Nhiệm vụ giáo dục thường xuyên cho mọi người là liên tục học tập và học tập vĩnh viễn để thúc đẩy khả năng cá nhân;Tính cách hoàn hảo;mở rộng sự hiểu biết của họ;cải thiện giáo dục;chuyên môn và hoạt động để tìm việc làm;Tạo việc làm và thích nghi với đời sống xã hội;Đóng góp cho việc xây dựng một công ty học tập.',\n",
       "  'generated_answer': 'Giáo dục thường xuyên có nhiệm vụ thực hiện xóa mù chữ cho người trong độ tuổi theo quy định của pháp luật, đào tạo, bồi dưỡng nâng cao năng lực làm việc, cập nhật, bổ sung kiến thức, kỹ năng cần thiết trong cuộc sống cho mọi người, và tạo cơ hội cho người có nhu cầu học tập nâng cao trình độ học vấn.',\n",
       "  'document': 'c8eab58e',\n",
       "  'doc_id': 'c8eab58e',\n",
       "  'law_title': 'Luật Giáo Dục'},\n",
       " {'law_content': '1. Kinh doanh vận tải hành khách bằng xe ô tô bao gồm: a) Kinh doanh vận tải hành khách theo tuyến cố định có xác định bến đi, bến đến với lịch trình, hành trình nhất định; b) Kinh doanh vận tải hành khách bằng xe buýt theo tuyến cố định có các điểm dừng đón, trả khách và xe chạy theo biểu đồ vận hành với cự ly, phạm vi hoạt động nhất định; c) Kinh doanh vận tải hành khách bằng xe taxi có lịch trình và hành trình theo yêu cầu của hành khách; cước tính theo đồng hồ tính tiền; d) Kinh doanh vận tải hành khách theo hợp đồng không theo tuyến cố định được thực hiện theo hợp đồng vận tải; đ) Kinh doanh vận tải khách du lịch theo tuyến, chương trình và địa điểm du lịch. 2. Kinh doanh vận tải hàng hóa bằng xe ô tô bao gồm: a) Kinh doanh vận tải hàng hóa thông thường; b) Kinh doanh vận tải hàng hóa bằng xe taxi tải; c) Kinh doanh vận tải hàng hóa siêu trường, siêu trọng; d) Kinh doanh vận tải hàng nguy hiểm. 3. Chính phủ quy định cụ thể về kinh doanh vận tải bằng xe ô tô. ',\n",
       "  'generated_question': 'Kinh doanh vận tải hành khách bằng xe ô tô bao gồm những loại hình nào?',\n",
       "  'rag_answer_llm': 'Các loại hoạt động vận chuyển ô tô trong ô tô bao gồm vận chuyển hành khách trên các tuyến đường cố định, vận chuyển ô tô cho ô tô có tuyến đường cố định, vận chuyển hành khách và xe hơi với một chuyến đi trên một tuyến đường cố định và vận chuyển hành khách bằng xe buýt với chương trình và chuyến đi điều khiển từ xa.',\n",
       "  'generated_answer': 'Kinh doanh vận tải hành khách bằng xe ô tô bao gồm: kinh doanh vận tải hành khách theo tuyến cố định, kinh doanh vận tải hành khách bằng xe buýt theo tuyến cố định, kinh doanh vận tải hành khách bằng xe taxi, kinh doanh vận tải hành khách theo hợp đồng không theo tuyến cố định, và kinh doanh vận tải khách du lịch theo tuyến, chương trình và địa điểm du lịch.',\n",
       "  'document': 'e3ef6bec',\n",
       "  'doc_id': 'e3ef6bec',\n",
       "  'law_title': 'Luật Giao Thông Đường Bộ'},\n",
       " {'law_content': '1. Nhà đầu tư thực hiện hoạt động đầu tư trong lĩnh vực giáo dục bao gồm: a) Nhà đầu tư trong nước là cá nhân có quốc tịch Việt Nam, tổ chức được thành lập theo pháp luật Việt Nam; b) Nhà đầu tư nước ngoài là cá nhân có quốc tịch nước ngoài, tổ chức thành lập theo pháp luật nước ngoài. 2. Quyền và trách nhiệm của nhà đầu tư được quy định như sau: a) Thông qua kế hoạch phát triển nhà trường theo quy định của pháp luật do hội đồng trường đề xuất; b) Quyết định tổng vốn góp của nhà đầu tư, dự án đầu tư phát triển trường, việc huy động vốn đầu tư (nếu có); phương án sử dụng phần chênh lệch thu, chi hằng năm hoặc phương án xử lý lỗ của nhà trường; thông qua báo cáo tài chính hằng năm; c) Bầu hoặc cử, miễn nhiệm, bãi nhiệm thành viên của hội đồng trường; d) Tổ chức giám sát và đánh giá hoạt động của hội đồng trường; đ) Quyết định ban hành, sửa đổi, bổ sung quy chế tài chính; thông qua nội dung liên quan đến tài chính, tài sản trong quy chế tổ chức và hoạt động của nhà trường; e) Góp vốn đầy đủ, đúng hạn, giám sát việc góp vốn vào nhà trường theo đề án thành lập; g) Xem xét, xử lý vi phạm gây thiệt hại của hội đồng trường theo quy định của pháp luật, quy chế tổ chức và hoạt động của nhà trường; h) Quyết định tổ chức lại, giải thể nhà trường theo quy định của pháp luật; i) Công khai danh sách tổ chức và cá nhân góp vốn đầu tư trên trang thông tin điện tử của nhà trường; k) Nhà đầu tư thành lập trường tư thục hoạt động không vì lợi nhuận được vinh danh về công lao góp vốn đầu tư thành lập, xây dựng và phát triển trường. 3. Nhà đầu tư thành lập cơ sở giáo dục tư thục được lựa chọn một trong các phương thức sau đây: a) Đầu tư thành lập tổ chức kinh tế theo quy định của Luật Đầu tư, Luật Doanh nghiệp để tổ chức kinh tế thành lập cơ sở giáo dục tư thục theo quy định của Luật này; b) Trực tiếp đầu tư thành lập cơ sở giáo dục tư thục theo quy định của Luật này. ',\n",
       "  'generated_question': 'Nhà đầu tư trong lĩnh vực giáo dục bao gồm những đối tượng nào?',\n",
       "  'rag_answer_llm': 'Các môn học là đầu tư vào giáo dục phổ quát và phát triển giáo dục, đầu tư vào giáo dục phổ quát, đầu tư vào giáo dục và ưu tiên đầu tư đầu tư.',\n",
       "  'generated_answer': 'Nhà đầu tư trong lĩnh vực giáo dục bao gồm: a) Nhà đầu tư trong nước là cá nhân có quốc tịch Việt Nam, tổ chức được thành lập theo pháp luật Việt Nam; b) Nhà đầu tư nước ngoài là cá nhân có quốc tịch nước ngoài, tổ chức thành lập theo pháp luật nước ngoài.',\n",
       "  'document': '95354c8a',\n",
       "  'doc_id': '95354c8a',\n",
       "  'law_title': 'Luật Giáo Dục'},\n",
       " {'law_content': '1. Trẻ em tại cơ sở giáo dục mầm non có các quyền sau đây: a) Được chăm sóc, nuôi dưỡng, giáo dục theo chương trình giáo dục mầm non do Bộ trưởng Bộ Giáo dục và Đào tạo ban hành; được chăm sóc sức khỏe và bảo vệ theo quy định của Luật Trẻ em và quy định khác của pháp luật có liên quan; b) Được miễn, giảm giá vé đối với các dịch vụ vui chơi, giải trí công cộng. 2. Chính phủ quy định chính sách đối với trẻ em tại cơ sở giáo dục mầm non. ',\n",
       "  'generated_question': 'Trẻ em tại cơ sở giáo dục mầm non có những quyền gì theo Luật Giáo Dục?',\n",
       "  'rag_answer_llm': 'Trẻ em có quyền sau: a) từ chăm sóc;Fed và được giáo dục trong bối cảnh chương trình giáo dục mầm non do Bộ trưởng Bộ Giáo dục và Đào tạo ban hành;được điều trị cho sức khỏe và bảo vệ theo luật của trẻ em và các quy định khác của luật liên quan;b) Tỷ lệ miễn trừ và chiết khấu cho các dịch vụ giải trí và giải trí công cộng.',\n",
       "  'generated_answer': 'Trẻ em tại cơ sở giáo dục mầm non có các quyền sau: được chăm sóc, nuôi dưỡng, giáo dục theo chương trình giáo dục mầm non do Bộ trưởng Bộ Giáo dục và Đào tạo ban hành; được chăm sóc sức khỏe và bảo vệ theo quy định của Luật Trẻ em và các quy định khác của pháp luật có liên quan; được miễn, giảm giá vé đối với các dịch vụ vui chơi, giải trí công cộng.',\n",
       "  'document': '8aed8c41',\n",
       "  'doc_id': '8aed8c41',\n",
       "  'law_title': 'Luật Giáo Dục'},\n",
       " {'law_content': '1. Sách giáo khoa giáo dục phổ thông được quy định như sau: a) Sách giáo khoa triển khai chương trình giáo dục phổ thông, cụ thể hóa yêu cầu của chương trình giáo dục phổ thông về mục tiêu, nội dung giáo dục, yêu cầu về phẩm chất và năng lực của học sinh; định hướng về phương pháp giảng dạy và cách thức kiểm tra, đánh giá chất lượng giáo dục; nội dung và hình thức sách giáo khoa không mang định kiến dân tộc, tôn giáo, nghề nghiệp, giới, lứa tuổi và địa vị xã hội; sách giáo khoa thể hiện dưới dạng sách in, sách chữ nổi Braille, sách điện tử; b) Mỗi môn học có một hoặc một số sách giáo khoa; thực hiện xã hội hóa việc biên soạn sách giáo khoa; việc xuất bản sách giáo khoa thực hiện theo quy định của pháp luật; c) Ủy ban nhân dân cấp tỉnh quyết định việc lựa chọn sách giáo khoa sử dụng ổn định trong cơ sở giáo dục phổ thông trên địa bàn theo quy định của Bộ trưởng Bộ Giáo dục và Đào tạo; d) Tài liệu giáo dục địa phương do Ủy ban nhân dân cấp tỉnh tổ chức biên soạn đáp ứng nhu cầu và phù hợp với đặc điểm của địa phương, được hội đồng thẩm định cấp tỉnh thẩm định và Bộ trưởng Bộ Giáo dục và Đào tạo phê duyệt. 2. Hội đồng quốc gia thẩm định sách giáo khoa do Bộ trưởng Bộ Giáo dục và Đào tạo thành lập theo từng môn học, hoạt động giáo dục ở từng cấp học để thẩm định sách giáo khoa. Hội đồng gồm nhà giáo, cán bộ quản lý giáo dục, nhà khoa học có kinh nghiệm, uy tín về giáo dục và đại diện cơ quan, tổ chức có liên quan. Hội đồng phải có ít nhất một phần ba tổng số thành viên là nhà giáo đang giảng dạy ở cấp học tương ứng. Hội đồng và thành viên Hội đồng phải chịu trách nhiệm về nội dung và chất lượng thẩm định. 3. Bộ trưởng Bộ Giáo dục và Đào tạo chịu trách nhiệm về sách giáo khoa giáo dục phổ thông; phê duyệt sách giáo khoa để sử dụng trong cơ sở giáo dục phổ thông sau khi được Hội đồng quốc gia thẩm định sách giáo khoa thẩm định; quy định tiêu chuẩn, quy trình biên soạn, chỉnh sửa sách giáo khoa giáo dục phổ thông; quy định việc lựa chọn sách giáo khoa trong cơ sở giáo dục phổ thông; quy định nhiệm vụ, quyền hạn, phương thức hoạt động, tiêu chuẩn, số lượng và cơ cấu thành viên của Hội đồng quốc gia thẩm định sách giáo khoa và hội đồng thẩm định cấp tỉnh. 4. Chủ tịch Ủy ban nhân dân cấp tỉnh quyết định việc thành lập hội đồng thẩm định cấp tỉnh thẩm định tài liệu giáo dục địa phương. ',\n",
       "  'generated_question': 'Ai là người chịu trách nhiệm phê duyệt sách giáo khoa để sử dụng trong các cơ sở giáo dục phổ thông?',\n",
       "  'rag_answer_llm': 'Bộ trưởng Bộ Giáo dục và Đào tạo',\n",
       "  'generated_answer': 'Bộ trưởng Bộ Giáo dục và Đào tạo chịu trách nhiệm về sách giáo khoa giáo dục phổ thông và phê duyệt sách giáo khoa để sử dụng trong cơ sở giáo dục phổ thông sau khi được Hội đồng quốc gia thẩm định sách giáo khoa thẩm định.',\n",
       "  'document': 'f93b7fdb',\n",
       "  'doc_id': 'f93b7fdb',\n",
       "  'law_title': 'Luật Giáo Dục'},\n",
       " {'law_content': '1. Đầu tư cho giáo dục là đầu tư phát triển. Đầu tư trong lĩnh vực giáo dục là hoạt động đầu tư thuộc ngành, nghề đầu tư kinh doanh có điều kiện và được ưu đãi, hỗ trợ đầu tư theo quy định của pháp luật. 2. Nhà nước ưu tiên đầu tư và thu hút các nguồn đầu tư khác cho giáo dục; ưu tiên đầu tư cho phổ cập giáo dục, phát triển giáo dục ở miền núi, hải đảo, vùng đồng bào dân tộc thiểu số, vùng có điều kiện kinh tế - xã hội đặc biệt khó khăn, địa bàn có khu công nghiệp. Nhà nước khuyến khích và bảo hộ các quyền, lợi ích hợp pháp của tổ chức, cá nhân trong nước, người Việt Nam định cư ở nước ngoài, tổ chức, cá nhân nước ngoài đầu tư cho giáo dục. 3. Ngân sách nhà nước giữ vai trò chủ đạo trong tổng nguồn lực đầu tư cho giáo dục. ',\n",
       "  'generated_question': 'Nhà nước có chính sách ưu tiên đầu tư cho giáo dục ở những khu vực nào?',\n",
       "  'rag_answer_llm': 'Đầu tư vào giáo dục là đầu tư phát triển.',\n",
       "  'generated_answer': 'Nhà nước ưu tiên đầu tư cho phổ cập giáo dục, phát triển giáo dục ở miền núi, hải đảo, vùng đồng bào dân tộc thiểu số, vùng có điều kiện kinh tế - xã hội đặc biệt khó khăn, địa bàn có khu công nghiệp.',\n",
       "  'document': '73d171d2',\n",
       "  'doc_id': '73d171d2',\n",
       "  'law_title': 'Luật Giáo Dục'},\n",
       " {'law_content': '1. Trong giao dịch với người thứ ba ngay tình thì vợ, chồng là người đứng tên tài khoản ngân hàng, tài khoản chứng khoán được coi là người có quyền xác lập, thực hiện giao dịch liên quan đến tài sản đó. 2. Trong giao dịch với người thứ ba ngay tình thì vợ, chồng đang chiếm hữu động sản mà theo quy định của pháp luật không phải đăng ký quyền sở hữu được coi là người có quyền xác lập, thực hiện giao dịch liên quan đến tài sản đó trong trường hợp Bộ luật dân sự có quy định về việc bảo vệ người thứ ba ngay tình. ',\n",
       "  'generated_question': 'Nếu vợ hoặc chồng đứng tên tài khoản ngân hàng hoặc tài khoản chứng khoán, họ có quyền thực hiện giao dịch liên quan đến tài sản đó không?',\n",
       "  'rag_answer_llm': 'Có, nếu người phối ngẫu thay mặt cho tài khoản ngân hàng hoặc tài khoản, họ có quyền thực hiện các giao dịch liên quan đến tài sản này.',\n",
       "  'generated_answer': 'Theo Luật Hôn Nhân Và Gia Đình, trong giao dịch với người thứ ba ngay tình, vợ hoặc chồng là người đứng tên tài khoản ngân hàng, tài khoản chứng khoán được coi là người có quyền xác lập, thực hiện giao dịch liên quan đến tài sản đó.',\n",
       "  'document': 'f57e49dc',\n",
       "  'doc_id': 'f57e49dc',\n",
       "  'law_title': 'Luật Hôn Nhân Và Gia Đình'},\n",
       " {'law_content': '1. Người bị cưỡng ép kết hôn, bị lừa dối kết hôn, theo quy định của pháp luật về tố tụng dân sự, có quyền tự mình yêu cầu hoặc đề nghị cá nhân, tổ chức quy định tại khoản 2 Điều này yêu cầu Tòa án hủy việc kết hôn trái pháp luật do việc kết hôn vi phạm quy định tại điểm b khoản 1 Điều 8 của Luật này. 2. Cá nhân, cơ quan, tổ chức sau đây, theo quy định của pháp luật về tố tụng dân sự, có quyền yêu cầu Tòa án hủy việc kết hôn trái pháp luật do việc kết hôn vi phạm quy định tại các điểm a, c và d khoản 1 Điều 8 của Luật này: a) Vợ, chồng của người đang có vợ, có chồng mà kết hôn với người khác; cha, mẹ, con, người giám hộ hoặc người đại diện theo pháp luật khác của người kết hôn trái pháp luật; b) Cơ quan quản lý nhà nước về gia đình; c) Cơ quan quản lý nhà nước về trẻ em; d) Hội liên hiệp phụ nữ. 3. Cá nhân, cơ quan, tổ chức khác khi phát hiện việc kết hôn trái pháp luật thì có quyền đề nghị cơ quan, tổ chức quy định tại các điểm b, c và d khoản 2 Điều này yêu cầu Tòa án hủy việc kết hôn trái pháp luật. ',\n",
       "  'generated_question': 'Ai có quyền yêu cầu Tòa án hủy việc kết hôn trái pháp luật?',\n",
       "  'rag_answer_llm': 'Những người bị buộc phải kết hôn;bị lừa dối trong hôn nhân;tuân thủ luật về tố tụng dân sự;Họ có quyền yêu cầu hoặc yêu cầu các cá nhân và tổ chức trong khoản 2 của bài viết này.',\n",
       "  'generated_answer': 'Theo Luật Hôn Nhân Và Gia Đình, người bị cưỡng ép kết hôn, bị lừa dối kết hôn có quyền tự mình yêu cầu hoặc đề nghị cá nhân, tổ chức như vợ, chồng, cha, mẹ, con, người giám hộ, cơ quan quản lý nhà nước về gia đình, cơ quan quản lý nhà nước về trẻ em, Hội liên hiệp phụ nữ yêu cầu Tòa án hủy việc kết hôn trái pháp luật.',\n",
       "  'document': '6acc6cf8',\n",
       "  'doc_id': '6acc6cf8',\n",
       "  'law_title': 'Luật Hôn Nhân Và Gia Đình'},\n",
       " {'law_content': 'Trong trường hợp vợ chồng có thỏa thuận về việc một bên đưa tài sản chung vào kinh doanh thì người này có quyền tự mình thực hiện giao dịch liên quan đến tài sản chung đó. Thỏa thuận này phải lập thành văn bản. ',\n",
       "  'generated_question': 'Nếu vợ hoặc chồng muốn đưa tài sản chung vào kinh doanh, họ cần làm gì để đảm bảo hợp pháp?',\n",
       "  'rag_answer_llm': 'Nó phải tham gia vào một thỏa thuận về thực tế là một phần đặt quyền sở hữu chung trong doanh nghiệp, để đảm bảo rằng tài sản chung này được thực hiện.',\n",
       "  'generated_answer': 'Trong trường hợp vợ chồng có thỏa thuận về việc một bên đưa tài sản chung vào kinh doanh, thỏa thuận này phải được lập thành văn bản. Người được thỏa thuận có quyền tự mình thực hiện giao dịch liên quan đến tài sản chung đó.',\n",
       "  'document': '547a5091',\n",
       "  'doc_id': '547a5091',\n",
       "  'law_title': 'Luật Hôn Nhân Và Gia Đình'},\n",
       " {'law_content': '1. Trên đường không phân chia thành hai chiều xe chạy riêng biệt, hai xe đi ngược chiều tránh nhau, người điều khiển phải giảm tốc độ và cho xe đi về bên phải theo chiều xe chạy của mình. 2. Các trường hợp nhường đường khi tránh nhau quy định như sau: a) Nơi đường hẹp chỉ đủ cho một xe chạy và có chỗ tránh xe thì xe nào ở gần chỗ tránh hơn phải vào vị trí tránh, nhường đường cho xe kia đi; b) Xe xuống dốc phải nhường đường cho xe đang lên dốc; c) Xe nào có chướng ngại vật phía trước phải nhường đường cho xe không có chướng ngại vật đi trước. 3. Xe cơ giới đi ngược chiều gặp nhau không được dùng đèn chiếu xa. ',\n",
       "  'generated_question': 'Khi hai xe đi ngược chiều trên đường không phân chia thành hai chiều xe chạy riêng biệt, tôi cần làm gì để tránh nhau?',\n",
       "  'rag_answer_llm': 'Hai máy phải chậm lại và rời khỏi nơi, với người vận hành phải chậm lại và để chiếc xe kia kết thúc.',\n",
       "  'generated_answer': 'Khi hai xe đi ngược chiều trên đường không phân chia thành hai chiều xe chạy riêng biệt, người điều khiển phải giảm tốc độ và cho xe đi về bên phải theo chiều xe chạy của mình.',\n",
       "  'document': '0ed53793',\n",
       "  'doc_id': '0ed53793',\n",
       "  'law_title': 'Luật Giao Thông Đường Bộ'},\n",
       " {'law_content': '1. Nhà nước có chính sách, biện pháp bảo hộ hôn nhân và gia đình, tạo điều kiện để nam, nữ xác lập hôn nhân tự nguyện, tiến bộ, một vợ một chồng, vợ chồng bình đẳng; xây dựng gia đình ấm no, tiến bộ, hạnh phúc và thực hiện đầy đủ chức năng của mình; tăng cường tuyên truyền, phổ biến, giáo dục pháp luật về hôn nhân và gia đình; vận động nhân dân xóa bỏ phong tục, tập quán lạc hậu về hôn nhân và gia đình, phát huy truyền thống, phong tục, tập quán tốt đẹp thể hiện bản sắc của mỗi dân tộc. 2. Chính phủ thống nhất quản lý nhà nước về hôn nhân và gia đình. Các bộ, cơ quan ngang bộ thực hiện quản lý nhà nước về hôn nhân và gia đình theo sự phân công của Chính phủ. Ủy ban nhân dân các cấp và các cơ quan khác thực hiện quản lý nhà nước về hôn nhân và gia đình theo quy định của pháp luật. 3. Cơ quan, tổ chức có trách nhiệm giáo dục, vận động cán bộ, công chức, viên chức, người lao động, các thành viên của mình và mọi công dân xây dựng gia đình văn hóa; kịp thời hòa giải mâu thuẫn trong gia đình, bảo vệ quyền, lợi ích hợp pháp của các thành viên gia đình. Nhà trường phối hợp với gia đình trong việc giáo dục, tuyên truyền, phổ biến pháp luật về hôn nhân và gia đình cho thế hệ trẻ. ',\n",
       "  'generated_question': 'Nhà nước có những chính sách gì để bảo vệ hôn nhân và gia đình?',\n",
       "  'rag_answer_llm': 'Nhà nước có trách nhiệm nhà nước về hôn nhân và gia đình, thúc đẩy truyền thống, phong tục và thực tiễn tốt để thể hiện bản sắc của mỗi quốc gia.',\n",
       "  'generated_answer': 'Nhà nước có chính sách, biện pháp bảo hộ hôn nhân và gia đình, tạo điều kiện để nam, nữ xác lập hôn nhân tự nguyện, tiến bộ, một vợ một chồng, vợ chồng bình đẳng; xây dựng gia đình ấm no, tiến bộ, hạnh phúc và thực hiện đầy đủ chức năng của mình. Nhà nước cũng tăng cường tuyên truyền, phổ biến, giáo dục pháp luật về hôn nhân và gia đình, vận động nhân dân xóa bỏ phong tục, tập quán lạc hậu và phát huy truyền thống, phong tục, tập quán tốt đẹp thể hiện bản sắc của mỗi dân tộc.',\n",
       "  'document': '673a834b',\n",
       "  'doc_id': '673a834b',\n",
       "  'law_title': 'Luật Hôn Nhân Và Gia Đình'},\n",
       " {'law_content': 'Trong trường hợp không còn cha mẹ hoặc cha mẹ không có khả năng lao động và không có tài sản để cấp dưỡng cho con thì anh, chị đã thành niên không sống chung với em có nghĩa vụ cấp dưỡng cho em chưa thành niên không có tài sản để tự nuôi mình hoặc em đã thành niên không có khả năng lao động và không có tài sản để tự nuôi mình; em đã thành niên không sống chung với anh, chị có nghĩa vụ cấp dưỡng cho anh, chị không có khả năng lao động và không có tài sản để tự nuôi mình. ',\n",
       "  'generated_question': 'Trong trường hợp nào thì anh, chị có nghĩa vụ cấp dưỡng cho em mình theo Luật Hôn Nhân và Gia Đình?',\n",
       "  'rag_answer_llm': 'Vâng, bạn có nghĩa vụ phải hỗ trợ em trai của bạn dựa trên luật hôn nhân và gia đình.',\n",
       "  'generated_answer': 'Theo Luật Hôn Nhân và Gia Đình, anh, chị đã thành niên không sống chung với em có nghĩa vụ cấp dưỡng cho em chưa thành niên không có tài sản để tự nuôi mình hoặc em đã thành niên không có khả năng lao động và không có tài sản để tự nuôi mình trong trường hợp không còn cha mẹ hoặc cha mẹ không có khả năng lao động và không có tài sản để cấp dưỡng cho con.',\n",
       "  'document': 'a114ebfe',\n",
       "  'doc_id': 'a114ebfe',\n",
       "  'law_title': 'Luật Hôn Nhân Và Gia Đình'},\n",
       " {'law_content': '1. Cơ quan đăng ký hộ tịch Việt Nam có thẩm quyền giải quyết việc xác định cha, mẹ, con mà không có tranh chấp giữa công dân Việt Nam với người nước ngoài, giữa công dân Việt Nam với nhau mà ít nhất một bên định cư ở nước ngoài, giữa người nước ngoài với nhau mà ít nhất một bên thường trú tại Việt Nam theo quy định của pháp luật về hộ tịch. 2. Tòa án có thẩm quyền của Việt Nam giải quyết việc xác định cha, mẹ, con có yếu tố nước ngoài đối với trường hợp quy định tại khoản 2 Điều 88, Điều 89, Điều 90, khoản 1, khoản 5 Điều 97, khoản 3, khoản 5 Điều 98 và Điều 99 của Luật này; các trường hợp khác có tranh chấp. ',\n",
       "  'generated_question': 'Trường hợp nào cần phải đến Tòa án để xác định cha, mẹ, con có yếu tố nước ngoài?',\n",
       "  'rag_answer_llm': 'Tại tòa án, cơ quan ghi âm địa vị dân sự nên giải quyết việc xác định cha, mẹ và con trai với các yếu tố nước ngoài để đảm bảo tính hợp pháp của cuộc hôn nhân và hợp đồng của cha, mẹ và con trai với các yếu tố nước ngoài.',\n",
       "  'generated_answer': 'Tòa án có thẩm quyền của Việt Nam giải quyết việc xác định cha, mẹ, con có yếu tố nước ngoài đối với các trường hợp quy định tại khoản 2 Điều 88, Điều 89, Điều 90, khoản 1, khoản 5 Điều 97, khoản 3, khoản 5 Điều 98 và Điều 99 của Luật Hôn Nhân Và Gia Đình; các trường hợp khác có tranh chấp.',\n",
       "  'document': '3136fc57',\n",
       "  'doc_id': '3136fc57',\n",
       "  'law_title': 'Luật Hôn Nhân Và Gia Đình'},\n",
       " {'law_content': 'Cha mẹ phải bồi thường thiệt hại do con chưa thành niên, con đã thành niên mất năng lực hành vi dân sự gây ra theo quy định của Bộ luật dân sự. ',\n",
       "  'generated_question': 'Cha mẹ có phải bồi thường thiệt hại do con cái gây ra không?',\n",
       "  'rag_answer_llm': 'Vâng, cha mẹ phải bồi thường cho các thiệt hại do trẻ em gây ra.',\n",
       "  'generated_answer': 'Theo Luật Hôn Nhân Và Gia Đình, cha mẹ phải bồi thường thiệt hại do con chưa thành niên hoặc con đã thành niên nhưng mất năng lực hành vi dân sự gây ra, theo quy định của Bộ luật dân sự.',\n",
       "  'document': '227bb762',\n",
       "  'doc_id': '227bb762',\n",
       "  'law_title': 'Luật Hôn Nhân Và Gia Đình'},\n",
       " {'law_content': 'Học sinh, sinh viên được hưởng chế độ miễn, giảm giá vé khi sử dụng các dịch vụ công cộng về giao thông, giải trí, tham quan viện bảo tàng, di tích lịch sử, công trình văn hóa theo quy định của Chính phủ. ',\n",
       "  'generated_question': 'Học sinh, sinh viên có được hưởng chế độ miễn, giảm giá vé khi sử dụng dịch vụ công cộng không?',\n",
       "  'rag_answer_llm': 'Có, sinh viên được quyền miễn và giảm tỷ lệ khi sử dụng các dịch vụ giao thông công cộng;sự giải trí;Bảo tàng khi ghé thăm;di tích lịch sử;Công trình văn hóa theo quy định của chính phủ.',\n",
       "  'generated_answer': 'Học sinh, sinh viên được hưởng chế độ miễn, giảm giá vé khi sử dụng các dịch vụ công cộng về giao thông, giải trí, tham quan viện bảo tàng, di tích lịch sử, công trình văn hóa theo quy định của Chính phủ.',\n",
       "  'document': 'c5813216',\n",
       "  'doc_id': 'c5813216',\n",
       "  'law_title': 'Luật Giáo Dục'},\n",
       " {'law_content': '1. Nhà trường bị đình chỉ hoạt động giáo dục trong trường hợp sau đây: a) Có hành vi gian lận để được cho phép hoạt động giáo dục; b) Không bảo đảm một trong các điều kiện quy định tại khoản 2 Điều 49 của Luật này; c) Người cho phép hoạt động giáo dục không đúng thẩm quyền; d) Không triển khai hoạt động giáo dục trong thời hạn quy định kể từ ngày được phép hoạt động giáo dục; đ) Vi phạm quy định của pháp luật về giáo dục bị xử phạt vi phạm hành chính ở mức độ phải đình chỉ; e) Trường hợp khác theo quy định của pháp luật. 2. Quyết định đình chỉ hoạt động giáo dục đối với nhà trường phải xác định rõ lý do đình chỉ, thời hạn đình chỉ, biện pháp bảo đảm quyền, lợi ích của nhà giáo, cán bộ quản lý giáo dục, người học, người lao động trong nhà trường và phải công bố công khai trên phương tiện thông tin đại chúng. 3. Trong thời hạn bị đình chỉ, nếu nguyên nhân dẫn đến việc đình chỉ được khắc phục thì người có thẩm quyền quyết định đình chỉ ra quyết định cho phép nhà trường hoạt động giáo dục trở lại. ',\n",
       "  'generated_question': 'Trường hợp nào nhà trường có thể bị đình chỉ hoạt động giáo dục?',\n",
       "  'rag_answer_llm': 'Trường chỉ có thể bị đình chỉ bởi các hoạt động giáo dục trong trường hợp các hành vi gian lận có thể cho phép giáo dục, không tuân thủ các điều kiện đình chỉ cụ thể hoặc vi phạm một trong các điều khoản của pháp luật.',\n",
       "  'generated_answer': 'Nhà trường có thể bị đình chỉ hoạt động giáo dục trong các trường hợp sau: 1) Có hành vi gian lận để được cho phép hoạt động giáo dục; 2) Không bảo đảm một trong các điều kiện quy định tại khoản 2 Điều 49 của Luật Giáo Dục; 3) Người cho phép hoạt động giáo dục không đúng thẩm quyền; 4) Không triển khai hoạt động giáo dục trong thời hạn quy định kể từ ngày được phép hoạt động giáo dục; 5) Vi phạm quy định của pháp luật về giáo dục bị xử phạt vi phạm hành chính ở mức độ phải đình chỉ; 6) Trường hợp khác theo quy định của pháp luật.',\n",
       "  'document': '4751dc48',\n",
       "  'doc_id': '4751dc48',\n",
       "  'law_title': 'Luật Giáo Dục'},\n",
       " {'law_content': '1. Người đi bộ phải đi trên hè phố, lề đường; trường hợp đường không có hè phố, lề đường thì người đi bộ phải đi sát mép đường. 2. Người đi bộ chỉ được qua đường ở những nơi có đèn tín hiệu, có vạch kẻ đường hoặc có cầu vượt, hầm dành cho người đi bộ và phải tuân thủ tín hiệu chỉ dẫn. 3. Trường hợp không có đèn tín hiệu, không có vạch kẻ đường, cầu vượt, hầm dành cho người đi bộ thì người đi bộ phải quan sát các xe đang đi tới, chỉ qua đường khi bảo đảm an toàn và chịu trách nhiệm bảo đảm an toàn khi qua đường. 4. Người đi bộ không được vượt qua dải phân cách, không đu bám vào phương tiện giao thông đang chạy; khi mang vác vật cồng kềnh phải bảo đảm an toàn và không gây trở ngại cho người và phương tiện tham gia giao thông đường bộ. 5. Trẻ em dưới 7 tuổi khi đi qua đường đô thị, đường thường xuyên có xe cơ giới qua lại phải có người lớn dắt; mọi người có trách nhiệm giúp đỡ trẻ em dưới 7 tuổi khi đi qua đường. ',\n",
       "  'generated_question': 'Người đi bộ phải đi ở đâu khi đường không có hè phố hoặc lề đường?',\n",
       "  'rag_answer_llm': 'Người đi bộ phải băng qua đường ở những nơi có đèn tín hiệu;biển báo đường;lái;đường hầm cho người đi bộ;cho người đi bộ.',\n",
       "  'generated_answer': 'Trường hợp đường không có hè phố, lề đường thì người đi bộ phải đi sát mép đường.',\n",
       "  'document': '18b2ecf6',\n",
       "  'doc_id': '18b2ecf6',\n",
       "  'law_title': 'Luật Giao Thông Đường Bộ'},\n",
       " {'law_content': '1. Liên thông trong giáo dục là việc sử dụng kết quả học tập đã có để học tiếp ở các cấp học, trình độ khác cùng ngành, nghề đào tạo hoặc khi chuyển sang ngành, nghề đào tạo, hình thức giáo dục và trình độ đào tạo khác phù hợp với yêu cầu nội dung tương ứng, bảo đảm liên thông giữa các cấp học, trình độ đào tạo trong giáo dục phổ thông, giáo dục nghề nghiệp và giáo dục đại học. 2. Việc liên thông trong giáo dục phải đáp ứng các điều kiện bảo đảm chất lượng. Chương trình giáo dục được thiết kế theo hướng kế thừa, tích hợp kiến thức và kỹ năng dựa trên chuẩn đầu ra của từng bậc trình độ đào tạo trong Khung trình độ quốc gia Việt Nam. Người học không phải học lại kiến thức và kỹ năng đã tích lũy ở các chương trình giáo dục trước đó. 3. Chính phủ quy định chi tiết về liên thông giữa các cấp học, trình độ đào tạo trong hệ thống giáo dục quốc dân. ',\n",
       "  'generated_question': 'Liên thông trong giáo dục là gì và người học có phải học lại kiến thức đã tích lũy không?',\n",
       "  'rag_answer_llm': 'Giáo dục phổ thông;Đảm bảo kiến \\u200b\\u200bthức về kiến \\u200b\\u200bthức và kỹ năng dựa trên các tiêu chuẩn sản xuất của từng cấp độ đào tạo trong khuôn khổ của cấp quốc gia.',\n",
       "  'generated_answer': 'Liên thông trong giáo dục là việc sử dụng kết quả học tập đã có để học tiếp ở các cấp học, trình độ khác cùng ngành, nghề đào tạo hoặc khi chuyển sang ngành, nghề đào tạo, hình thức giáo dục và trình độ đào tạo khác phù hợp với yêu cầu nội dung tương ứng. Người học không phải học lại kiến thức và kỹ năng đã tích lũy ở các chương trình giáo dục trước đó.',\n",
       "  'document': '8152392a',\n",
       "  'doc_id': '8152392a',\n",
       "  'law_title': 'Luật Giáo Dục'},\n",
       " {'law_content': '1. Xử lý việc kết hôn trái pháp luật được Tòa án thực hiện theo quy định tại Luật này và pháp luật về tố tụng dân sự. 2. Trong trường hợp tại thời điểm Tòa án giải quyết yêu cầu hủy việc kết hôn trái pháp luật mà cả hai bên kết hôn đã có đủ các điều kiện kết hôn theo quy định tại Điều 8 của Luật này và hai bên yêu cầu công nhận quan hệ hôn nhân thì Tòa án công nhận quan hệ hôn nhân đó. Trong trường hợp này, quan hệ hôn nhân được xác lập từ thời điểm các bên đủ điều kiện kết hôn theo quy định của Luật này. 3. Quyết định của Tòa án về việc hủy kết hôn trái pháp luật hoặc công nhận quan hệ hôn nhân phải được gửi cho cơ quan đã thực hiện việc đăng ký kết hôn để ghi vào sổ hộ tịch; hai bên kết hôn trái pháp luật; cá nhân, cơ quan, tổ chức liên quan theo quy định của pháp luật về tố tụng dân sự. 4. Tòa án nhân dân tối cao chủ trì phối hợp với Viện kiểm sát nhân dân tối cao và Bộ Tư pháp hướng dẫn Điều này. ',\n",
       "  'generated_question': 'Nếu hai người kết hôn trái pháp luật nhưng sau đó đã đủ điều kiện kết hôn, Tòa án sẽ xử lý như thế nào?',\n",
       "  'rag_answer_llm': 'Tòa án đảm nhận trách nhiệm chính và điều phối chính nó với công tố viên của nhân dân tối cao và Bộ Tư pháp cho phiên tòa.',\n",
       "  'generated_answer': 'Trong trường hợp tại thời điểm Tòa án giải quyết yêu cầu hủy việc kết hôn trái pháp luật mà cả hai bên kết hôn đã có đủ các điều kiện kết hôn theo quy định tại Điều 8 của Luật Hôn Nhân Và Gia Đình và hai bên yêu cầu công nhận quan hệ hôn nhân, Tòa án sẽ công nhận quan hệ hôn nhân đó. Quan hệ hôn nhân được xác lập từ thời điểm các bên đủ điều kiện kết hôn theo quy định của Luật này.',\n",
       "  'document': 'daa1dccc',\n",
       "  'doc_id': 'daa1dccc',\n",
       "  'law_title': 'Luật Hôn Nhân Và Gia Đình'},\n",
       " {'law_content': '1. Nam, nữ có đủ điều kiện kết hôn theo quy định của Luật này chung sống với nhau như vợ chồng mà không đăng ký kết hôn thì không làm phát sinh quyền, nghĩa vụ giữa vợ và chồng. Quyền, nghĩa vụ đối với con, tài sản, nghĩa vụ và hợp đồng giữa các bên được giải quyết theo quy định tại Điều 15 và Điều 16 của Luật này. 2. Trong trường hợp nam, nữ chung sống với nhau như vợ chồng theo quy định tại khoản 1 Điều này nhưng sau đó thực hiện việc đăng ký kết hôn theo quy định của pháp luật thì quan hệ hôn nhân được xác lập từ thời điểm đăng ký kết hôn. ',\n",
       "  'generated_question': 'Nếu nam và nữ chung sống với nhau như vợ chồng mà không đăng ký kết hôn, họ có quyền và nghĩa vụ giống như vợ chồng hợp pháp không?',\n",
       "  'rag_answer_llm': 'Vâng, nếu đàn ông và phụ nữ sống cùng nhau như một người chồng và vợ mà không đăng ký làm hôn nhân, họ có quyền và nghĩa vụ tương tự như cặp vợ chồng hợp pháp, bao gồm cả việc giải quyết hậu quả của đàn ông và phụ nữ sống cùng nhau ghi lại đám cưới.',\n",
       "  'generated_answer': 'Nam, nữ có đủ điều kiện kết hôn theo quy định của Luật Hôn Nhân Và Gia Đình chung sống với nhau như vợ chồng mà không đăng ký kết hôn thì không làm phát sinh quyền, nghĩa vụ giữa vợ và chồng. Quyền, nghĩa vụ đối với con, tài sản, nghĩa vụ và hợp đồng giữa các bên được giải quyết theo quy định tại Điều 15 và Điều 16 của Luật này.',\n",
       "  'document': '5d674582',\n",
       "  'doc_id': '5d674582',\n",
       "  'law_title': 'Luật Hôn Nhân Và Gia Đình'},\n",
       " {'law_content': '1. Việc nhập tài sản riêng của vợ, chồng vào tài sản chung được thực hiện theo thỏa thuận của vợ chồng. 2. Tài sản được nhập vào tài sản chung mà theo quy định của pháp luật, giao dịch liên quan đến tài sản đó phải tuân theo hình thức nhất định thì thỏa thuận phải bảo đảm hình thức đó. 3. Nghĩa vụ liên quan đến tài sản riêng đã nhập vào tài sản chung được thực hiện bằng tài sản chung, trừ trường hợp vợ chồng có thỏa thuận khác hoặc pháp luật có quy định khác. ',\n",
       "  'generated_question': 'Tôi muốn nhập tài sản riêng của mình vào tài sản chung với vợ/chồng thì cần làm thế nào?',\n",
       "  'rag_answer_llm': 'Có, bạn phải tuân thủ Thỏa thuận tài sản chung với các quy định của pháp luật.',\n",
       "  'generated_answer': 'Việc nhập tài sản riêng của vợ, chồng vào tài sản chung được thực hiện theo thỏa thuận của vợ chồng. Nếu tài sản đó thuộc loại mà pháp luật quy định giao dịch liên quan phải tuân theo hình thức nhất định, thì thỏa thuận nhập tài sản cũng phải đảm bảo hình thức đó.',\n",
       "  'document': '146451b7',\n",
       "  'doc_id': '146451b7',\n",
       "  'law_title': 'Luật Hôn Nhân Và Gia Đình'},\n",
       " {'law_content': '1. Chương trình giáo dục phổ thông phải bảo đảm các yêu cầu sau đây: a) Thể hiện mục tiêu giáo dục phổ thông; b) Quy định yêu cầu về phẩm chất và năng lực của học sinh cần đạt được sau mỗi cấp học, nội dung giáo dục bắt buộc đối với tất cả học sinh trong cả nước; c) Quy định phương pháp, hình thức tổ chức hoạt động giáo dục và đánh giá kết quả giáo dục đối với các môn học ở mỗi lớp, mỗi cấp học của giáo dục phổ thông; d) Thống nhất trong cả nước và được tổ chức thực hiện linh hoạt, phù hợp với điều kiện cụ thể của địa phương và cơ sở giáo dục phổ thông; đ) Được lấy ý kiến rộng rãi các tổ chức, cá nhân và thực nghiệm trước khi ban hành; được công bố công khai sau khi ban hành. 2. Hội đồng quốc gia thẩm định chương trình giáo dục phổ thông do Bộ trưởng Bộ Giáo dục và Đào tạo thành lập để thẩm định chương trình giáo dục phổ thông. Hội đồng gồm nhà giáo, cán bộ quản lý giáo dục, nhà khoa học có kinh nghiệm, uy tín về giáo dục và đại diện cơ quan, tổ chức có liên quan. Hội đồng phải có ít nhất một phần ba tổng số thành viên là nhà giáo đang giảng dạy ở cấp học tương ứng. Hội đồng và thành viên Hội đồng phải chịu trách nhiệm về nội dung và chất lượng thẩm định. 3. Bộ trưởng Bộ Giáo dục và Đào tạo chịu trách nhiệm về chất lượng chương trình giáo dục phổ thông; ban hành chương trình giáo dục phổ thông sau khi được Hội đồng quốc gia thẩm định chương trình giáo dục phổ thông thẩm định; quy định tiêu chuẩn, quy trình biên soạn, chỉnh sửa chương trình giáo dục phổ thông; quy định về mục tiêu, đối tượng, quy mô, thời gian thực nghiệm một số nội dung, phương pháp giáo dục mới trong cơ sở giáo dục phổ thông; quy định nhiệm vụ, quyền hạn, phương thức hoạt động, tiêu chuẩn, số lượng và cơ cấu thành viên của Hội đồng quốc gia thẩm định chương trình giáo dục phổ thông. ',\n",
       "  'generated_question': 'Chương trình giáo dục phổ thông có những yêu cầu gì để đảm bảo chất lượng giáo dục?',\n",
       "  'rag_answer_llm': 'Các chương trình giáo dục phải đảm bảo khoa học và thực hành;kế thừa và kết nối giữa các cấp độ đào tạo;Cấp độ đào tạo;Tạo điều kiện cho dòng chảy và chuyển đổi giữa các cấp độ đào tạo và các lĩnh vực đào tạo và đào tạo.',\n",
       "  'generated_answer': 'Chương trình giáo dục phổ thông phải bảo đảm các yêu cầu sau: thể hiện mục tiêu giáo dục phổ thông; quy định yêu cầu về phẩm chất và năng lực của học sinh cần đạt được sau mỗi cấp học, nội dung giáo dục bắt buộc đối với tất cả học sinh trong cả nước; quy định phương pháp, hình thức tổ chức hoạt động giáo dục và đánh giá kết quả giáo dục đối với các môn học ở mỗi lớp, mỗi cấp học; thống nhất trong cả nước và được tổ chức thực hiện linh hoạt, phù hợp với điều kiện cụ thể của địa phương và cơ sở giáo dục phổ thông; được lấy ý kiến rộng rãi các tổ chức, cá nhân và thực nghiệm trước khi ban hành; được công bố công khai sau khi ban hành.',\n",
       "  'document': '7635a3db',\n",
       "  'doc_id': '7635a3db',\n",
       "  'law_title': 'Luật Giáo Dục'},\n",
       " {'law_content': '1. Con sinh ra trong thời kỳ hôn nhân hoặc do người vợ có thai trong thời kỳ hôn nhân là con chung của vợ chồng. Con được sinh ra trong thời hạn 300 ngày kể từ thời điểm chấm dứt hôn nhân được coi là con do người vợ có thai trong thời kỳ hôn nhân. Con sinh ra trước ngày đăng ký kết hôn và được cha mẹ thừa nhận là con chung của vợ chồng. 2. Trong trường hợp cha, mẹ không thừa nhận con thì phải có chứng cứ và phải được Tòa án xác định. ',\n",
       "  'generated_question': 'Nếu một đứa trẻ được sinh ra trong vòng 300 ngày sau khi cha mẹ ly hôn, đứa trẻ đó có được coi là con chung của vợ chồng không?',\n",
       "  'rag_answer_llm': 'Vâng, nếu đứa trẻ được sinh ra trong vòng 300 ngày kể từ khi kết thúc đám cưới, anh ta được coi là một đứa trẻ phổ biến của cặp vợ chồng.',\n",
       "  'generated_answer': 'Theo Luật Hôn Nhân Và Gia Đình, con được sinh ra trong thời hạn 300 ngày kể từ thời điểm chấm dứt hôn nhân được coi là con do người vợ có thai trong thời kỳ hôn nhân và là con chung của vợ chồng.',\n",
       "  'document': '88843b74',\n",
       "  'doc_id': '88843b74',\n",
       "  'law_title': 'Luật Hôn Nhân Và Gia Đình'},\n",
       " {'law_content': '1. Nhà trường được thành lập khi có đề án thành lập trường phù hợp với quy hoạch phát triển kinh tế - xã hội và quy hoạch mạng lưới cơ sở giáo dục theo quy định của Luật Quy hoạch. Đề án thành lập trường xác định rõ mục tiêu, nhiệm vụ, chương trình và nội dung giáo dục; đất đai, cơ sở vật chất, thiết bị, địa điểm dự kiến xây dựng trường, tổ chức bộ máy, nguồn lực và tài chính; phương hướng chiến lược xây dựng và phát triển nhà trường. 2. Nhà trường được phép hoạt động giáo dục khi đáp ứng đủ các điều kiện sau đây: a) Có đất đai, cơ sở vật chất, thiết bị đáp ứng yêu cầu hoạt động giáo dục; địa điểm xây dựng trường bảo đảm môi trường giáo dục, an toàn cho người học, người dạy và người lao động; b) Có chương trình giáo dục và tài liệu giảng dạy, học tập theo quy định phù hợp với mỗi cấp học, trình độ đào tạo; có đội ngũ nhà giáo và cán bộ quản lý đạt tiêu chuẩn, đủ về số lượng, đồng bộ về cơ cấu để bảo đảm thực hiện chương trình giáo dục và tổ chức các hoạt động giáo dục; c) Có đủ nguồn lực tài chính theo quy định để bảo đảm duy trì và phát triển hoạt động giáo dục; d) Có quy chế tổ chức và hoạt động của nhà trường. 3. Trong thời hạn quy định, nếu nhà trường có đủ các điều kiện quy định tại khoản 2 Điều này thì được cơ quan nhà nước có thẩm quyền cho phép hoạt động giáo dục; khi hết thời hạn quy định, nếu không đủ điều kiện quy định tại khoản 2 Điều này thì bị thu hồi quyết định thành lập hoặc quyết định cho phép thành lập. ',\n",
       "  'generated_question': 'Nhà trường cần đáp ứng những điều kiện gì để được phép hoạt động giáo dục?',\n",
       "  'rag_answer_llm': 'Trường phải đáp ứng đất đai, cấu trúc, thiết bị, cơ sở, cấu trúc tổ chức, nguồn tài chính, hội thảo, chương trình giáo dục, nội dung giáo dục, cấu trúc, thiết bị, địa điểm, đào tạo, hoạt động giáo dục, nguồn tài chính, hội thảo, và quản lý xây dựng chiến lược.',\n",
       "  'generated_answer': 'Nhà trường được phép hoạt động giáo dục khi đáp ứng đủ các điều kiện sau: có đất đai, cơ sở vật chất, thiết bị đáp ứng yêu cầu hoạt động giáo dục; có chương trình giáo dục và tài liệu giảng dạy, học tập phù hợp với mỗi cấp học, trình độ đào tạo; có đội ngũ nhà giáo và cán bộ quản lý đạt tiêu chuẩn, đủ về số lượng, đồng bộ về cơ cấu; có đủ nguồn lực tài chính để bảo đảm duy trì và phát triển hoạt động giáo dục; và có quy chế tổ chức và hoạt động của nhà trường.',\n",
       "  'document': 'be76406b',\n",
       "  'doc_id': 'be76406b',\n",
       "  'law_title': 'Luật Giáo Dục'},\n",
       " {'law_content': '1. Được cha mẹ thương yêu, tôn trọng, thực hiện các quyền, lợi ích hợp pháp về nhân thân và tài sản theo quy định của pháp luật; được học tập và giáo dục; được phát triển lành mạnh về thể chất, trí tuệ và đạo đức. 2. Có bổn phận yêu quý, kính trọng, biết ơn, hiếu thảo, phụng dưỡng cha mẹ, giữ gìn danh dự, truyền thống tốt đẹp của gia đình. 3. Con chưa thành niên, con đã thành niên mất năng lực hành vi dân sự hoặc không có khả năng lao động và không có tài sản để tự nuôi mình thì có quyền sống chung với cha mẹ, được cha mẹ trông nom, nuôi dưỡng, chăm sóc. Con chưa thành niên tham gia công việc gia đình phù hợp với lứa tuổi và không trái với quy định của pháp luật về bảo vệ, chăm sóc và giáo dục trẻ em. 4. Con đã thành niên có quyền tự do lựa chọn nghề nghiệp, nơi cư trú, học tập, nâng cao trình độ văn hóa, chuyên môn, nghiệp vụ; tham gia hoạt động chính trị, kinh tế, văn hóa, xã hội theo nguyện vọng và khả năng của mình. Khi sống cùng với cha mẹ, con có nghĩa vụ tham gia công việc gia đình, lao động, sản xuất, tạo thu nhập nhằm bảo đảm đời sống chung của gia đình; đóng góp thu nhập vào việc đáp ứng nhu cầu của gia đình phù hợp với khả năng của mình. 5. Được hưởng quyền về tài sản tương xứng với công sức đóng góp vào tài sản của gia đình. ',\n",
       "  'generated_question': 'Con cái có những quyền gì khi sống chung với cha mẹ theo Luật Hôn Nhân Và Gia Đình?',\n",
       "  'rag_answer_llm': 'Quyền của cha mẹ sống với con cái, như được chỉ ra trong luật nhận con nuôi.',\n",
       "  'generated_answer': 'Con cái có quyền sống chung với cha mẹ, được cha mẹ trông nom, nuôi dưỡng, chăm sóc. Con đã thành niên có quyền tự do lựa chọn nghề nghiệp, nơi cư trú, học tập, nâng cao trình độ văn hóa, chuyên môn, nghiệp vụ; tham gia hoạt động chính trị, kinh tế, văn hóa, xã hội theo nguyện vọng và khả năng của mình. Khi sống cùng với cha mẹ, con có nghĩa vụ tham gia công việc gia đình, lao động, sản xuất, tạo thu nhập nhằm bảo đảm đời sống chung của gia đình; đóng góp thu nhập vào việc đáp ứng nhu cầu của gia đình phù hợp với khả năng của mình.',\n",
       "  'document': '646f4add',\n",
       "  'doc_id': '646f4add',\n",
       "  'law_title': 'Luật Hôn Nhân Và Gia Đình'},\n",
       " {'law_content': '1. Điều lệ nhà trường được áp dụng chung cho các loại hình nhà trường ở giáo dục mầm non, giáo dục phổ thông, giáo dục nghề nghiệp và có các nội dung chủ yếu sau đây: a) Nhiệm vụ và quyền hạn của nhà trường; b) Tổ chức hoạt động giáo dục trong nhà trường; c) Nhiệm vụ và quyền của nhà giáo; d) Nhiệm vụ và quyền của người học; đ) Tổ chức và quản lý nhà trường; e) Tài chính và tài sản của nhà trường; g) Quan hệ giữa nhà trường, gia đình và xã hội. 2. Quy chế tổ chức và hoạt động của cơ sở giáo dục cụ thể hóa các nội dung của điều lệ nhà trường để áp dụng cho từng loại hình cơ sở giáo dục. 3. Bộ trưởng Bộ Giáo dục và Đào tạo, Bộ trưởng Bộ Lao động - Thương binh và Xã hội, trong phạm vi nhiệm vụ, quyền hạn của mình, ban hành điều lệ nhà trường, quy chế tổ chức và hoạt động của cơ sở giáo dục. ',\n",
       "  'generated_question': 'Điều lệ nhà trường bao gồm những nội dung chính nào?',\n",
       "  'rag_answer_llm': 'Nội dung chính của thẻ trường bao gồm các quy định giáo dục, nhiệm vụ và quyền của giáo viên, học sinh của học sinh, sản khoa của trường, mối quan hệ giữa trường học, gia đình và xã hội, và Bộ trưởng Bộ Giáo dục và Giáo dục công cộng.',\n",
       "  'generated_answer': 'Điều lệ nhà trường bao gồm các nội dung chính như: nhiệm vụ và quyền hạn của nhà trường, tổ chức hoạt động giáo dục trong nhà trường, nhiệm vụ và quyền của nhà giáo, nhiệm vụ và quyền của người học, tổ chức và quản lý nhà trường, tài chính và tài sản của nhà trường, và quan hệ giữa nhà trường, gia đình và xã hội.',\n",
       "  'document': '266ff403',\n",
       "  'doc_id': '266ff403',\n",
       "  'law_title': 'Luật Giáo Dục'},\n",
       " {'law_content': '1. Tổ chức, cá nhân nước ngoài, tổ chức quốc tế, người Việt Nam định cư ở nước ngoài được Nhà nước khuyến khích, tạo điều kiện để giảng dạy, học tập, đầu tư, tài trợ, hợp tác, nghiên cứu khoa học, ứng dụng và chuyển giao công nghệ về giáo dục tại Việt Nam; được bảo hộ các quyền, lợi ích hợp pháp theo pháp luật Việt Nam và điều ước quốc tế mà nước Cộng hòa xã hội chủ nghĩa Việt Nam là thành viên. 2. Hợp tác về giáo dục với Việt Nam phải bảo đảm giáo dục người học về nhân cách, phẩm chất và năng lực công dân; tôn trọng bản sắc văn hóa dân tộc; thực hiện mục tiêu giáo dục, yêu cầu về nội dung, phương pháp giáo dục phù hợp với mỗi cấp học, trình độ đào tạo trong hệ thống giáo dục quốc dân; hoạt động giáo dục phù hợp với quy định của pháp luật Việt Nam. 3. Các hình thức hợp tác, đầu tư của nước ngoài về giáo dục tại Việt Nam bao gồm: a) Liên kết giáo dục, đào tạo; b) Thành lập văn phòng đại diện; c) Thành lập phân hiệu; d) Thành lập cơ sở giáo dục; đ) Các hình thức hợp tác, đầu tư khác. 4. Chính phủ quy định chi tiết Điều này. ',\n",
       "  'generated_question': 'Những hình thức hợp tác, đầu tư của nước ngoài về giáo dục tại Việt Nam bao gồm những gì?',\n",
       "  'rag_answer_llm': 'Các hình thức hợp tác và đầu tư bao gồm kết nối giáo dục, đào tạo, nhà máy của một văn phòng đại diện, nhà máy của các tổ chức giáo dục, các hình thức đầu tư giáo dục nước ngoài khác ở Việt Nam.',\n",
       "  'generated_answer': 'Các hình thức hợp tác, đầu tư của nước ngoài về giáo dục tại Việt Nam bao gồm: liên kết giáo dục, đào tạo; thành lập văn phòng đại diện; thành lập phân hiệu; thành lập cơ sở giáo dục; và các hình thức hợp tác, đầu tư khác.',\n",
       "  'document': '6e20e083',\n",
       "  'doc_id': '6e20e083',\n",
       "  'law_title': 'Luật Giáo Dục'},\n",
       " {'law_content': '1. Việc chiếm hữu, sử dụng, định đoạt tài sản chung do vợ chồng thỏa thuận. 2. Việc định đoạt tài sản chung phải có sự thỏa thuận bằng văn bản của vợ chồng trong những trường hợp sau đây: a) Bất động sản; b) Động sản mà theo quy định của pháp luật phải đăng ký quyền sở hữu; c) Tài sản đang là nguồn tạo ra thu nhập chủ yếu của gia đình. ',\n",
       "  'generated_question': 'Khi vợ chồng muốn định đoạt tài sản chung như bất động sản hoặc động sản phải đăng ký quyền sở hữu, họ cần làm gì theo quy định của Luật Hôn Nhân Và Gia Đình?',\n",
       "  'rag_answer_llm': 'Cặp vợ chồng phải ghi lại tài sản là nguồn thu nhập chính của họ, theo các quy định của luật về hôn nhân và gia đình.',\n",
       "  'generated_answer': 'Theo Luật Hôn Nhân Và Gia Đình, việc định đoạt tài sản chung như bất động sản hoặc động sản phải đăng ký quyền sở hữu cần có sự thỏa thuận bằng văn bản của vợ chồng.',\n",
       "  'document': '6bebc96e',\n",
       "  'doc_id': '6bebc96e',\n",
       "  'law_title': 'Luật Hôn Nhân Và Gia Đình'},\n",
       " {'law_content': 'Vợ, chồng có nghĩa vụ tôn trọng, giữ gìn và bảo vệ danh dự, nhân phẩm, uy tín cho nhau. ',\n",
       "  'generated_question': 'Vợ chồng có nghĩa vụ gì trong việc bảo vệ danh dự và nhân phẩm của nhau theo Luật Hôn Nhân và Gia Đình?',\n",
       "  'rag_answer_llm': 'Người chồng và vợ có nghĩa vụ phải tôn trọng và giữ gìn danh dự, nhân phẩm và uy tín của vợ chồng.',\n",
       "  'generated_answer': 'Vợ, chồng có nghĩa vụ tôn trọng, giữ gìn và bảo vệ danh dự, nhân phẩm, uy tín cho nhau.',\n",
       "  'document': '8246899f',\n",
       "  'doc_id': '8246899f',\n",
       "  'law_title': 'Luật Hôn Nhân Và Gia Đình'},\n",
       " {'law_content': '1. Cơ sở giáo dục thực hiện nhiệm vụ đào tạo, bồi dưỡng nhà giáo gồm trường sư phạm, cơ sở giáo dục có khoa sư phạm, cơ sở giáo dục được phép đào tạo, bồi dưỡng nhà giáo. 2. Cơ sở giáo dục thực hiện nhiệm vụ đào tạo, bồi dưỡng cán bộ quản lý giáo dục gồm trường sư phạm, cơ sở giáo dục đại học có khoa quản lý giáo dục, cơ sở giáo dục được phép đào tạo, bồi dưỡng cán bộ quản lý giáo dục. 3. Trường sư phạm do Nhà nước thành lập để đào tạo, bồi dưỡng nhà giáo, cán bộ quản lý giáo dục được ưu tiên trong việc tuyển dụng nhà giáo, bố trí cán bộ quản lý giáo dục, đầu tư xây dựng cơ sở vật chất, ký túc xá và bảo đảm kinh phí đào tạo. Trường sư phạm có trường thực hành hoặc cơ sở thực hành. 4. Bộ trưởng Bộ Giáo dục và Đào tạo, Bộ trưởng Bộ Lao động - Thương binh và Xã hội, trong phạm vi nhiệm vụ, quyền hạn của mình, quy định việc thực hiện nhiệm vụ đào tạo, bồi dưỡng, nhà giáo, cán bộ quản lý giáo dục và cơ sở giáo dục được phép đào tạo, bồi dưỡng nhà giáo, cán bộ quản lý giáo dục. Mục 4. CHÍNH SÁCH ĐỐI VỚI NHÀ GIÁO ',\n",
       "  'generated_question': 'Những cơ sở giáo dục nào được phép đào tạo và bồi dưỡng nhà giáo?',\n",
       "  'rag_answer_llm': 'Các tổ chức giáo dục được ủy quyền đào tạo và khuyến khích giáo viên bao gồm các trường sư phạm, quản lý giáo dục, tổ chức giáo dục với các khoa sư phạm, tổ chức giáo dục với các khoa giáo dục và các tổ chức giáo dục được ủy quyền đào tạo và khuyến khích giáo viên.',\n",
       "  'generated_answer': 'Các cơ sở giáo dục được phép đào tạo và bồi dưỡng nhà giáo bao gồm trường sư phạm, cơ sở giáo dục có khoa sư phạm, và các cơ sở giáo dục được phép đào tạo, bồi dưỡng nhà giáo.',\n",
       "  'document': '3d81e63a',\n",
       "  'doc_id': '3d81e63a',\n",
       "  'law_title': 'Luật Giáo Dục'},\n",
       " {'law_content': 'Việc xuất bản sách giáo khoa, giáo trình, tài liệu dạy học; sản xuất và cung ứng thiết bị dạy học, đồ chơi cho trẻ em trong cơ sở giáo dục mầm non; nhập khẩu sách, báo, tài liệu giảng dạy, học tập, thiết bị dạy học, thiết bị nghiên cứu dùng trong cơ sở giáo dục được Nhà nước ưu đãi về thuế theo quy định của pháp luật về thuế. ',\n",
       "  'generated_question': 'Những loại sản phẩm nào liên quan đến giáo dục được hưởng ưu đãi về thuế theo Luật Giáo Dục?',\n",
       "  'rag_answer_llm': 'Ưu đãi thuế ưu đãi cho sách giáo khoa và tài liệu giáo dục, thiết bị giáo dục, thiết bị nghiên cứu được sử dụng trong các tổ chức giáo dục được khuyến khích theo luật giáo dục.',\n",
       "  'generated_answer': 'Theo Luật Giáo Dục, các sản phẩm được hưởng ưu đãi về thuế bao gồm sách giáo khoa, giáo trình, tài liệu dạy học; thiết bị dạy học, đồ chơi cho trẻ em trong cơ sở giáo dục mầm non; và các sách, báo, tài liệu giảng dạy, học tập, thiết bị dạy học, thiết bị nghiên cứu nhập khẩu dùng trong cơ sở giáo dục.',\n",
       "  'document': '149f303c',\n",
       "  'doc_id': '149f303c',\n",
       "  'law_title': 'Luật Giáo Dục'},\n",
       " {'law_content': '1. Giảng dạy, giáo dục theo mục tiêu, nguyên lý giáo dục, thực hiện đầy đủ và có chất lượng chương trình giáo dục. 2. Gương mẫu thực hiện nghĩa vụ công dân, điều lệ nhà trường, quy tắc ứng xử của nhà giáo. 3. Giữ gìn phẩm chất, uy tín, danh dự của nhà giáo; tôn trọng, đối xử công bằng với người học; bảo vệ các quyền, lợi ích chính đáng của người học. 4. Học tập, rèn luyện để nâng cao phẩm chất đạo đức, trình độ chính trị, chuyên môn, nghiệp vụ, đổi mới phương pháp giảng dạy, nêu gương tốt cho người học. ',\n",
       "  'generated_question': 'Nhà giáo có những nhiệm vụ gì theo Luật Giáo Dục?',\n",
       "  'rag_answer_llm': 'Giáo viên có các nhiệm vụ giảng dạy và giáo dục dựa trên các mục tiêu và nguyên tắc giáo dục.',\n",
       "  'generated_answer': 'Theo Luật Giáo Dục, nhà giáo có các nhiệm vụ sau: 1. Giảng dạy, giáo dục theo mục tiêu, nguyên lý giáo dục, thực hiện đầy đủ và có chất lượng chương trình giáo dục. 2. Gương mẫu thực hiện nghĩa vụ công dân, điều lệ nhà trường, quy tắc ứng xử của nhà giáo. 3. Giữ gìn phẩm chất, uy tín, danh dự của nhà giáo; tôn trọng, đối xử công bằng với người học; bảo vệ các quyền, lợi ích chính đáng của người học. 4. Học tập, rèn luyện để nâng cao phẩm chất đạo đức, trình độ chính trị, chuyên môn, nghiệp vụ, đổi mới phương pháp giảng dạy, nêu gương tốt cho người học.',\n",
       "  'document': '115e68df',\n",
       "  'doc_id': '115e68df',\n",
       "  'law_title': 'Luật Giáo Dục'},\n",
       " {'law_content': '1. Kiểm tra các điều kiện bảo đảm an toàn của xe trước khi khởi hành. 2. Có thái độ văn minh, lịch sự, hướng dẫn hành khách ngồi đúng nơi quy định. 3. Kiểm tra việc sắp xếp, chằng buộc hành lý, hàng hóa bảo đảm an toàn. 4. Có biện pháp bảo vệ tính mạng, sức khỏe, tài sản của hành khách đi xe, giữ gìn trật tự, vệ sinh trong xe. 5. Đóng cửa lên xuống của xe trước và trong khi xe chạy. ',\n",
       "  'generated_question': 'Người lái xe và nhân viên phục vụ trên xe ô tô vận tải hành khách có những trách nhiệm gì để đảm bảo an toàn cho hành khách?',\n",
       "  'rag_answer_llm': 'Việc kiểm soát các điều kiện an toàn của xe, chủng tộc, luật pháp, kiểm soát thỏa thuận và đóng cửa trước khi khởi hành.',\n",
       "  'generated_answer': 'Người lái xe và nhân viên phục vụ trên xe ô tô vận tải hành khách có các trách nhiệm sau: 1. Kiểm tra các điều kiện bảo đảm an toàn của xe trước khi khởi hành. 2. Có thái độ văn minh, lịch sự, hướng dẫn hành khách ngồi đúng nơi quy định. 3. Kiểm tra việc sắp xếp, chằng buộc hành lý, hàng hóa bảo đảm an toàn. 4. Có biện pháp bảo vệ tính mạng, sức khỏe, tài sản của hành khách đi xe, giữ gìn trật tự, vệ sinh trong xe. 5. Đóng cửa lên xuống của xe trước và trong khi xe chạy.',\n",
       "  'document': '9004be5b',\n",
       "  'doc_id': '9004be5b',\n",
       "  'law_title': 'Luật Giao Thông Đường Bộ'},\n",
       " {'law_content': '1. Những xe sau đây được quyền ưu tiên đi trước xe khác khi qua đường giao nhau từ bất kỳ hướng nào tới theo thứ tự: a) Xe chữa cháy đi làm nhiệm vụ; b) Xe quân sự, xe công an đi làm nhiệm vụ khẩn cấp, đoàn xe có xe cảnh sát dẫn đường; c) Xe cứu thương đang thực hiện nhiệm vụ cấp cứu; d) Xe hộ đê, xe đi làm nhiệm vụ khắc phục sự cố thiên tai, dịch bệnh hoặc xe đi làm nhiệm vụ trong tình trạng khẩn cấp theo quy định của pháp luật; đ) Đoàn xe tang. 2. Xe quy định tại các điểm a, b, c và d khoản 1 Điều này khi đi làm nhiệm vụ phải có tín hiệu còi, cờ, đèn theo quy định; không bị hạn chế tốc độ; được phép đi vào đường ngược chiều, các đường khác có thể đi được, kể cả khi có tín hiệu đèn đỏ và chỉ phải tuân theo chỉ dẫn của người điều khiển giao thông. Chính phủ quy định cụ thể tín hiệu của xe được quyền ưu tiên. 3. Khi có tín hiệu của xe được quyền ưu tiên, người tham gia giao thông phải nhanh chóng giảm tốc độ, tránh hoặc dừng lại sát lề đường bên phải để nhường đường. Không được gây cản trở xe được quyền ưu tiên. ',\n",
       "  'generated_question': 'Những loại xe nào được ưu tiên đi trước khi qua đường giao nhau?',\n",
       "  'rag_answer_llm': 'Những chiếc xe trước xe cảnh sát được ưu tiên trước khi băng qua ngã tư.',\n",
       "  'generated_answer': 'Theo Luật Giao Thông Đường Bộ, các loại xe được ưu tiên đi trước khi qua đường giao nhau bao gồm: xe chữa cháy đi làm nhiệm vụ; xe quân sự, xe công an đi làm nhiệm vụ khẩn cấp, đoàn xe có xe cảnh sát dẫn đường; xe cứu thương đang thực hiện nhiệm vụ cấp cứu; xe hộ đê, xe đi làm nhiệm vụ khắc phục sự cố thiên tai, dịch bệnh hoặc xe đi làm nhiệm vụ trong tình trạng khẩn cấp theo quy định của pháp luật; và đoàn xe tang.',\n",
       "  'document': 'c0f9feda',\n",
       "  'doc_id': 'c0f9feda',\n",
       "  'law_title': 'Luật Giao Thông Đường Bộ'},\n",
       " {'law_content': '1. Luật này có hiệu lực thi hành từ ngày 01 tháng 7 năm 2009. 2. Luật này thay thế Luật giao thông đường bộ ngày 29 tháng 6 năm 2001. ',\n",
       "  'generated_question': 'Luật Giao Thông Đường Bộ hiện tại có hiệu lực từ khi nào và thay thế luật nào?',\n",
       "  'rag_answer_llm': 'Luật hiện hành sẽ có hiệu lực từ ngày 1 tháng 7 năm 2009 và luật giao thông đường bộ trước đó, vào ngày 29 tháng 6 năm 2001, đã được thay thế.',\n",
       "  'generated_answer': 'Luật Giao Thông Đường Bộ hiện tại có hiệu lực thi hành từ ngày 01 tháng 7 năm 2009 và thay thế Luật giao thông đường bộ ngày 29 tháng 6 năm 2001.',\n",
       "  'document': '0c561b01',\n",
       "  'doc_id': '0c561b01',\n",
       "  'law_title': 'Luật Giao Thông Đường Bộ'},\n",
       " {'law_content': '1. Vợ, chồng bình đẳng với nhau về quyền, nghĩa vụ trong việc tạo lập, chiếm hữu, sử dụng, định đoạt tài sản chung; không phân biệt giữa lao động trong gia đình và lao động có thu nhập. 2. Vợ, chồng có nghĩa vụ bảo đảm điều kiện để đáp ứng nhu cầu thiết yếu của gia đình. 3. Việc thực hiện quyền, nghĩa vụ về tài sản của vợ chồng mà xâm phạm đến quyền, lợi ích hợp pháp của vợ, chồng, gia đình và của người khác thì phải bồi thường. ',\n",
       "  'generated_question': 'Vợ và chồng có quyền bình đẳng như thế nào trong việc quản lý tài sản chung?',\n",
       "  'rag_answer_llm': 'Họ có quyền quản lý tài sản tư nhân và trả các nghĩa vụ thuộc sở hữu của mỗi người.',\n",
       "  'generated_answer': 'Vợ và chồng bình đẳng với nhau về quyền, nghĩa vụ trong việc tạo lập, chiếm hữu, sử dụng, định đoạt tài sản chung; không phân biệt giữa lao động trong gia đình và lao động có thu nhập.',\n",
       "  'document': '65242f61',\n",
       "  'doc_id': '65242f61',\n",
       "  'law_title': 'Luật Hôn Nhân Và Gia Đình'},\n",
       " {'law_content': '1. Nhà nước thực hiện tuyển sinh vào trung cấp, cao đẳng, đại học theo chế độ cử tuyển đối với học sinh là người dân tộc thiểu số rất ít người; học sinh là người dân tộc thiểu số ở vùng có điều kiện kinh tế - xã hội đặc biệt khó khăn chưa có hoặc có rất ít cán bộ, công chức, viên chức là người dân tộc thiểu số; có chính sách tạo nguồn cử tuyển, tạo điều kiện thuận lợi để các đối tượng này vào học trường phổ thông dân tộc nội trú và tăng thời gian học dự bị đại học. 2. Ủy ban nhân dân cấp tỉnh căn cứ vào nhu cầu của địa phương đề xuất, phân bổ chỉ tiêu cử tuyển; cử người đi học theo tiêu chuẩn, chỉ tiêu được duyệt; xét tuyển và bố trí việc làm cho người học sau khi tốt nghiệp. Cơ sở giáo dục có trách nhiệm hỗ trợ cho người học theo chế độ cử tuyển để bảo đảm chất lượng đầu ra. 3. Người học theo chế độ cử tuyển có trách nhiệm trở về làm việc tại địa phương nơi cử đi học; được xét tuyển và bố trí việc làm. 4. Chính phủ quy định chi tiết tiêu chuẩn và đối tượng được hưởng chế độ cử tuyển; việc tổ chức thực hiện chế độ cử tuyển và việc tuyển dụng người học theo chế độ cử tuyển sau khi tốt nghiệp. ',\n",
       "  'generated_question': 'Ai là đối tượng được hưởng chế độ cử tuyển theo Luật Giáo Dục?',\n",
       "  'rag_answer_llm': 'Chủ đề để tận hưởng chế độ tuyển dụng là ủy ban phổ biến của tỉnh, chịu trách nhiệm hỗ trợ sinh viên theo chế độ tuyển dụng.',\n",
       "  'generated_answer': 'Đối tượng được hưởng chế độ cử tuyển bao gồm học sinh là người dân tộc thiểu số rất ít người; học sinh là người dân tộc thiểu số ở vùng có điều kiện kinh tế - xã hội đặc biệt khó khăn chưa có hoặc có rất ít cán bộ, công chức, viên chức là người dân tộc thiểu số.',\n",
       "  'document': 'f1594d18',\n",
       "  'doc_id': 'f1594d18',\n",
       "  'law_title': 'Luật Giáo Dục'},\n",
       " {'law_content': '1. Hoạt động khoa học và công nghệ là một nhiệm vụ của cơ sở giáo dục. 2. Cơ sở giáo dục tự triển khai hoặc phối hợp với tổ chức khoa học và công nghệ, cơ sở sản xuất, kinh doanh, dịch vụ trong việc đào tạo, nghiên cứu khoa học và chuyển giao công nghệ, phục vụ phát triển kinh tế - xã hội. 3. Nhà nước tạo điều kiện cho cơ sở giáo dục hoạt động khoa học và công nghệ, kết hợp đào tạo với nghiên cứu khoa học và sản xuất nhằm nâng cao chất lượng giáo dục; xây dựng cơ sở giáo dục thành trung tâm văn hóa, khoa học và công nghệ của địa phương hoặc của cả nước. 4. Nhà nước có chính sách ưu tiên phát triển hoạt động khoa học và công nghệ trong cơ sở giáo dục. Các chủ trương, chính sách về giáo dục phải được xây dựng trên cơ sở kết quả nghiên cứu khoa học phù hợp với thực tiễn Việt Nam và xu hướng quốc tế. ',\n",
       "  'generated_question': 'Cơ sở giáo dục có trách nhiệm gì trong hoạt động khoa học và công nghệ theo Luật Giáo Dục?',\n",
       "  'rag_answer_llm': 'Các tổ chức giáo dục được phân phối hoặc phối hợp với các tổ chức khoa học và công nghệ;sản xuất;Nhà máy công ty;Dịch vụ đào tạo;nghiên cứu khoa học và công nghệ;cho dịch vụ phát triển kinh tế xã hội.',\n",
       "  'generated_answer': 'Theo Luật Giáo Dục, hoạt động khoa học và công nghệ là một nhiệm vụ của cơ sở giáo dục. Cơ sở giáo dục có thể tự triển khai hoặc phối hợp với tổ chức khoa học và công nghệ, cơ sở sản xuất, kinh doanh, dịch vụ trong việc đào tạo, nghiên cứu khoa học và chuyển giao công nghệ, phục vụ phát triển kinh tế - xã hội.',\n",
       "  'document': '3f0e7c5a',\n",
       "  'doc_id': '3f0e7c5a',\n",
       "  'law_title': 'Luật Giáo Dục'},\n",
       " {'law_content': '1. Cha mẹ có nghĩa vụ và quyền giáo dục con, chăm lo và tạo điều kiện cho con học tập. Cha mẹ tạo điều kiện cho con được sống trong môi trường gia đình đầm ấm, hòa thuận; làm gương tốt cho con về mọi mặt; phối hợp chặt chẽ với nhà trường, cơ quan, tổ chức trong việc giáo dục con. 2. Cha mẹ hướng dẫn con chọn nghề; tôn trọng quyền chọn nghề, quyền tham gia hoạt động chính trị, kinh tế, văn hóa, xã hội của con. 3. Cha mẹ có thể đề nghị cơ quan, tổ chức hữu quan giúp đỡ để thực hiện việc giáo dục con khi gặp khó khăn không thể tự giải quyết được. ',\n",
       "  'generated_question': 'Cha mẹ có những nghĩa vụ và quyền gì trong việc giáo dục con theo Luật Hôn Nhân và Gia Đình?',\n",
       "  'rag_answer_llm': 'Các nghĩa vụ và quyền của cha mẹ bao gồm giáo dục con cái của họ, sự tham gia tích cực vào các hoạt động gia đình, tạo ra các điều kiện để nghiên cứu con cái, sự tham gia tích cực vào giáo dục trẻ em và khả năng đề xuất các cơ quan và tổ chức để giúp con cái họ Khi quyền của cha mẹ không thể được giải quyết.',\n",
       "  'generated_answer': 'Cha mẹ có nghĩa vụ và quyền giáo dục con, chăm lo và tạo điều kiện cho con học tập. Họ cần tạo điều kiện cho con được sống trong môi trường gia đình đầm ấm, hòa thuận; làm gương tốt cho con về mọi mặt; phối hợp chặt chẽ với nhà trường, cơ quan, tổ chức trong việc giáo dục con. Ngoài ra, cha mẹ còn hướng dẫn con chọn nghề và tôn trọng quyền chọn nghề, quyền tham gia hoạt động chính trị, kinh tế, văn hóa, xã hội của con.',\n",
       "  'document': '39207ac4',\n",
       "  'doc_id': '39207ac4',\n",
       "  'law_title': 'Luật Hôn Nhân Và Gia Đình'},\n",
       " {'law_content': '1. Khi tham gia giao thông, xe thô sơ phải bảo đảm điều kiện an toàn giao thông đường bộ. 2. Ủy ban nhân dân cấp tỉnh quy định cụ thể điều kiện, phạm vi hoạt động của xe thô sơ tại địa phương mình. ',\n",
       "  'generated_question': 'Xe thô sơ cần đáp ứng những điều kiện gì khi tham gia giao thông?',\n",
       "  'rag_answer_llm': 'Các điều kiện cho những chiếc xe thô sơ phải đảm bảo các điều kiện an toàn của giao thông đường bộ.',\n",
       "  'generated_answer': 'Khi tham gia giao thông, xe thô sơ phải bảo đảm điều kiện an toàn giao thông đường bộ. Ủy ban nhân dân cấp tỉnh sẽ quy định cụ thể điều kiện và phạm vi hoạt động của xe thô sơ tại địa phương mình.',\n",
       "  'document': '9d610d76',\n",
       "  'doc_id': '9d610d76',\n",
       "  'law_title': 'Luật Giao Thông Đường Bộ'},\n",
       " {'law_content': '1. Tài sản chung của vợ chồng gồm tài sản do vợ, chồng tạo ra, thu nhập do lao động, hoạt động sản xuất, kinh doanh, hoa lợi, lợi tức phát sinh từ tài sản riêng và thu nhập hợp pháp khác trong thời kỳ hôn nhân, trừ trường hợp được quy định tại khoản 1 Điều 40 của Luật này; tài sản mà vợ chồng được thừa kế chung hoặc được tặng cho chung và tài sản khác mà vợ chồng thỏa thuận là tài sản chung. Quyền sử dụng đất mà vợ, chồng có được sau khi kết hôn là tài sản chung của vợ chồng, trừ trường hợp vợ hoặc chồng được thừa kế riêng, được tặng cho riêng hoặc có được thông qua giao dịch bằng tài sản riêng. 2. Tài sản chung của vợ chồng thuộc sở hữu chung hợp nhất, được dùng để bảo đảm nhu cầu của gia đình, thực hiện nghĩa vụ chung của vợ chồng. 3. Trong trường hợp không có căn cứ để chứng minh tài sản mà vợ, chồng đang có tranh chấp là tài sản riêng của mỗi bên thì tài sản đó được coi là tài sản chung. ',\n",
       "  'generated_question': 'Tài sản chung của vợ chồng bao gồm những gì theo Luật Hôn Nhân và Gia Đình?',\n",
       "  'rag_answer_llm': 'Tài sản chung của cặp vợ chồng được thống nhất;được sử dụng để đảm bảo nhu cầu của gia đình;Được trang bị cho các nghĩa vụ chung của cặp vợ chồng;thực hiện nghĩa vụ gia đình.',\n",
       "  'generated_answer': 'Tài sản chung của vợ chồng bao gồm tài sản do vợ, chồng tạo ra, thu nhập từ lao động, hoạt động sản xuất, kinh doanh, hoa lợi, lợi tức phát sinh từ tài sản riêng và thu nhập hợp pháp khác trong thời kỳ hôn nhân. Ngoài ra, tài sản mà vợ chồng được thừa kế chung, được tặng cho chung, và tài sản khác mà vợ chồng thỏa thuận là tài sản chung cũng thuộc tài sản chung. Quyền sử dụng đất mà vợ, chồng có được sau khi kết hôn cũng là tài sản chung, trừ trường hợp được thừa kế riêng, được tặng cho riêng hoặc có được thông qua giao dịch bằng tài sản riêng.',\n",
       "  'document': '88ef4181',\n",
       "  'doc_id': '88ef4181',\n",
       "  'law_title': 'Luật Hôn Nhân Và Gia Đình'},\n",
       " {'law_content': '1. Cha dượng, mẹ kế có quyền và nghĩa vụ trông nom, nuôi dưỡng, chăm sóc, giáo dục con riêng của bên kia cùng sống chung với mình theo quy định tại các điều 69, 71 và 72 của Luật này. 2. Con riêng có quyền và nghĩa vụ chăm sóc, phụng dưỡng cha dượng, mẹ kế cùng sống chung với mình theo quy định tại Điều 70 và Điều 71 của Luật này. ',\n",
       "  'generated_question': 'Cha dượng, mẹ kế có quyền và nghĩa vụ gì đối với con riêng của vợ hoặc chồng mình?',\n",
       "  'rag_answer_llm': 'Quyền và nghĩa vụ chăm sóc, cho ăn, chăm sóc và giáo dục con riêng của họ để sống với cô ấy theo quy định trong các Điều 69, 71 và 72 của luật này.',\n",
       "  'generated_answer': 'Cha dượng, mẹ kế có quyền và nghĩa vụ trông nom, nuôi dưỡng, chăm sóc, giáo dục con riêng của bên kia cùng sống chung với mình theo quy định tại các điều 69, 71 và 72 của Luật Hôn Nhân Và Gia Đình.',\n",
       "  'document': 'f523c4e4',\n",
       "  'doc_id': 'f523c4e4',\n",
       "  'law_title': 'Luật Hôn Nhân Và Gia Đình'},\n",
       " {'law_content': '1. Hệ thống giáo dục quốc dân là hệ thống giáo dục mở, liên thông gồm giáo dục chính quy và giáo dục thường xuyên. 2. Cấp học, trình độ đào tạo của hệ thống giáo dục quốc dân bao gồm: a) Giáo dục mầm non gồm giáo dục nhà trẻ và giáo dục mẫu giáo; b) Giáo dục phổ thông gồm giáo dục tiểu học, giáo dục trung học cơ sở và giáo dục trung học phổ thông; c) Giáo dục nghề nghiệp đào tạo trình độ sơ cấp, trình độ trung cấp, trình độ cao đẳng và các chương trình đào tạo nghề nghiệp khác; d) Giáo dục đại học đào tạo trình độ đại học, trình độ thạc sĩ và trình độ tiến sĩ. 3. Thủ tướng Chính phủ quyết định phê duyệt Khung cơ cấu hệ thống giáo dục quốc dân và Khung trình độ quốc gia Việt Nam; quy định thời gian đào tạo, tiêu chuẩn cho từng trình độ đào tạo, khối lượng học tập tối thiểu đối với trình độ của giáo dục nghề nghiệp, giáo dục đại học. 4. Bộ trưởng Bộ Giáo dục và Đào tạo, Bộ trưởng Bộ Lao động - Thương binh và Xã hội, trong phạm vi nhiệm vụ, quyền hạn của mình, quy định ngưỡng đầu vào trình độ cao đẳng, trình độ đại học thuộc ngành đào tạo giáo viên và ngành thuộc lĩnh vực sức khỏe. ',\n",
       "  'generated_question': 'Hệ thống giáo dục quốc dân Việt Nam bao gồm những cấp học và trình độ đào tạo nào?',\n",
       "  'rag_answer_llm': 'Hệ thống giáo dục quốc gia.',\n",
       "  'generated_answer': 'Hệ thống giáo dục quốc dân bao gồm các cấp học và trình độ đào tạo sau: giáo dục mầm non (gồm giáo dục nhà trẻ và giáo dục mẫu giáo), giáo dục phổ thông (gồm giáo dục tiểu học, giáo dục trung học cơ sở và giáo dục trung học phổ thông), giáo dục nghề nghiệp (đào tạo trình độ sơ cấp, trung cấp, cao đẳng và các chương trình đào tạo nghề nghiệp khác), và giáo dục đại học (đào tạo trình độ đại học, thạc sĩ và tiến sĩ).',\n",
       "  'document': 'f01c46b4',\n",
       "  'doc_id': 'f01c46b4',\n",
       "  'law_title': 'Luật Giáo Dục'},\n",
       " {'law_content': '1. Vợ, chồng hoặc cả hai người có quyền yêu cầu Tòa án giải quyết ly hôn. 2. Cha, mẹ, người thân thích khác có quyền yêu cầu Tòa án giải quyết ly hôn khi một bên vợ, chồng do bị bệnh tâm thần hoặc mắc bệnh khác mà không thể nhận thức, làm chủ được hành vi của mình, đồng thời là nạn nhân của bạo lực gia đình do chồng, vợ của họ gây ra làm ảnh hưởng nghiêm trọng đến tính mạng, sức khỏe, tinh thần của họ. 3. Chồng không có quyền yêu cầu ly hôn trong trường hợp vợ đang có thai, sinh con hoặc đang nuôi con dưới 12 tháng tuổi. ',\n",
       "  'generated_question': 'Trong trường hợp nào chồng không có quyền yêu cầu ly hôn?',\n",
       "  'rag_answer_llm': 'Vâng, chồng cô không có quyền yêu cầu ly hôn trong trường hợp vợ anh ta đang mang thai hoặc nếu người khác có quyền yêu cầu ly hôn.',\n",
       "  'generated_answer': 'Chồng không có quyền yêu cầu ly hôn trong trường hợp vợ đang có thai, sinh con hoặc đang nuôi con dưới 12 tháng tuổi.',\n",
       "  'document': '7ad757e4',\n",
       "  'doc_id': '7ad757e4',\n",
       "  'law_title': 'Luật Hôn Nhân Và Gia Đình'},\n",
       " {'law_content': '1. Chính phủ thống nhất quản lý nhà nước về giao thông đường bộ. 2. Bộ Giao thông vận tải chịu trách nhiệm trước Chính phủ thực hiện quản lý nhà nước về giao thông đường bộ. 3. Bộ Công an thực hiện các nhiệm vụ quản lý nhà nước về giao thông đường bộ theo quy định của Luật này và các quy định khác của pháp luật có liên quan; thực hiện các biện pháp bảo đảm trật tự, an toàn giao thông; phối hợp với Bộ Giao thông vận tải bảo vệ kết cấu hạ tầng giao thông đường bộ. Bộ Công an, Bộ Giao thông vận tải có trách nhiệm phối hợp trong việc cung cấp số liệu đăng ký phương tiện giao thông đường bộ, dữ liệu về tai nạn giao thông và cấp, đổi, thu hồi giấy phép lái xe. 4. Bộ Quốc phòng thực hiện các nhiệm vụ quản lý nhà nước về giao thông đường bộ theo quy định của Luật này và các quy định khác của pháp luật có liên quan. 5. Bộ, cơ quan ngang bộ trong phạm vi nhiệm vụ, quyền hạn của mình có trách nhiệm phối hợp với Bộ Giao thông vận tải thực hiện quản lý nhà nước về giao thông đường bộ. 6. Ủy ban nhân dân các cấp trong phạm vi nhiệm vụ, quyền hạn của mình tổ chức thực hiện quản lý nhà nước về giao thông đường bộ theo quy định của Luật này và các quy định khác của pháp luật có liên quan trong phạm vi địa phương. ',\n",
       "  'generated_question': 'Ai là cơ quan chịu trách nhiệm chính trong việc quản lý nhà nước về giao thông đường bộ?',\n",
       "  'rag_answer_llm': 'Bộ Giao thông vận tải.',\n",
       "  'generated_answer': 'Bộ Giao thông vận tải chịu trách nhiệm trước Chính phủ thực hiện quản lý nhà nước về giao thông đường bộ. Bộ Công an và Bộ Quốc phòng cũng thực hiện các nhiệm vụ quản lý nhà nước về giao thông đường bộ theo quy định của Luật này và các quy định khác của pháp luật có liên quan.',\n",
       "  'document': 'f7febb2b',\n",
       "  'doc_id': 'f7febb2b',\n",
       "  'law_title': 'Luật Giao Thông Đường Bộ'},\n",
       " {'law_content': 'Đoàn thể, tổ chức xã hội trong nhà trường có trách nhiệm góp phần thực hiện mục tiêu giáo dục và hoạt động theo quy định của pháp luật. ',\n",
       "  'generated_question': 'Đoàn thể, tổ chức xã hội trong nhà trường có trách nhiệm gì theo Luật Giáo Dục?',\n",
       "  'rag_answer_llm': 'Các công đoàn và các tổ chức xã hội',\n",
       "  'generated_answer': 'Đoàn thể, tổ chức xã hội trong nhà trường có trách nhiệm góp phần thực hiện mục tiêu giáo dục và hoạt động theo quy định của pháp luật.',\n",
       "  'document': '6dab4f3e',\n",
       "  'doc_id': '6dab4f3e',\n",
       "  'law_title': 'Luật Giáo Dục'},\n",
       " {'law_content': '1. Hướng nghiệp trong giáo dục là hệ thống các biện pháp tiến hành trong và ngoài cơ sở giáo dục để giúp học sinh có kiến thức về nghề nghiệp, khả năng lựa chọn nghề nghiệp trên cơ sở kết hợp nguyện vọng, sở trường của cá nhân với nhu cầu sử dụng lao động của xã hội. 2. Phân luồng trong giáo dục là biện pháp tổ chức hoạt động giáo dục trên cơ sở thực hiện hướng nghiệp trong giáo dục, tạo điều kiện để học sinh tốt nghiệp trung học cơ sở, trung học phổ thông tiếp tục học ở cấp học, trình độ cao hơn hoặc theo học giáo dục nghề nghiệp hoặc tham gia lao động phù hợp với năng lực, điều kiện cụ thể của cá nhân và nhu cầu xã hội, góp phần điều tiết cơ cấu ngành nghề của lực lượng lao động phù hợp với yêu cầu phát triển của đất nước. 3. Chính phủ quy định chi tiết hướng nghiệp và phân luồng trong giáo dục theo từng giai đoạn phù hợp với nhu cầu phát triển kinh tế - xã hội. ',\n",
       "  'generated_question': 'Hướng nghiệp trong giáo dục là gì và nó có vai trò như thế nào đối với học sinh?',\n",
       "  'rag_answer_llm': 'Sự nghiệp trong giáo dục là một hệ thống các biện pháp được thực hiện trong và ngoài tổ chức giáo dục để giúp học sinh có được kiến \\u200b\\u200bthức chuyên môn;Khả năng chọn nghề nghiệp trong giáo dục là một hệ thống các biện pháp được thực hiện trong và ngoài tổ chức giáo dục để giúp học sinh tốt nghiệp trường trung học và trung học để tiếp tục học tập ở cấp độ giáo dục.',\n",
       "  'generated_answer': 'Hướng nghiệp trong giáo dục là hệ thống các biện pháp tiến hành trong và ngoài cơ sở giáo dục để giúp học sinh có kiến thức về nghề nghiệp, khả năng lựa chọn nghề nghiệp trên cơ sở kết hợp nguyện vọng, sở trường của cá nhân với nhu cầu sử dụng lao động của xã hội.',\n",
       "  'document': 'a8c67f16',\n",
       "  'doc_id': 'a8c67f16',\n",
       "  'law_title': 'Luật Giáo Dục'},\n",
       " {'law_content': '1. Người kinh doanh vận tải hàng hóa có các quyền sau đây: a) Yêu cầu người thuê vận tải cung cấp thông tin cần thiết về hàng hóa để ghi vào giấy vận chuyển và có quyền kiểm tra tính xác thực của thông tin đó; b) Yêu cầu người thuê vận tải thanh toán đủ cước, phí vận tải và chi phí phát sinh; yêu cầu người thuê vận tải bồi thường thiệt hại do vi phạm thỏa thuận trong hợp đồng; c) Từ chối vận chuyển nếu người thuê vận tải không giao hàng hóa theo thỏa thuận trong hợp đồng; d) Yêu cầu giám định hàng hóa khi cần thiết. 2. Người kinh doanh vận tải hàng hóa có các nghĩa vụ sau đây: a) Cung cấp phương tiện đúng loại, thời gian, địa điểm và giao hàng hóa cho người nhận hàng theo thỏa thuận trong hợp đồng; b) Hướng dẫn xếp, dỡ hàng hóa trên phương tiện; c) Bồi thường thiệt hại cho người thuê vận tải do mất mát, hư hỏng hàng hóa xảy ra trong quá trình vận tải từ lúc nhận hàng đến lúc giao hàng, trừ trường hợp miễn bồi thường thiệt hại theo quy định của pháp luật; d) Bồi thường thiệt hại do người làm công, người đại diện gây ra trong khi thực hiện công việc được người kinh doanh vận tải giao; đ) Chịu trách nhiệm về hậu quả mà người làm công, người đại diện gây ra do thực hiện yêu cầu của người kinh doanh vận tải trái quy định của Luật này. 3. Chính phủ quy định giới hạn trách nhiệm của người kinh doanh vận tải hàng hóa. ',\n",
       "  'generated_question': 'Người kinh doanh vận tải hàng hóa có quyền gì khi người thuê vận tải không giao hàng theo thỏa thuận trong hợp đồng?',\n",
       "  'rag_answer_llm': 'Người vận chuyển không giao hàng khi người vận chuyển không giao hàng dựa trên thỏa thuận trong hợp đồng.',\n",
       "  'generated_answer': 'Người kinh doanh vận tải hàng hóa có quyền từ chối vận chuyển nếu người thuê vận tải không giao hàng hóa theo thỏa thuận trong hợp đồng.',\n",
       "  'document': 'e2799572',\n",
       "  'doc_id': 'e2799572',\n",
       "  'law_title': 'Luật Giao Thông Đường Bộ'},\n",
       " {'law_content': '1. Xây dựng quy hoạch, kế hoạch và chính sách phát triển giao thông đường bộ; xây dựng và chỉ đạo thực hiện chương trình quốc gia về an toàn giao thông đường bộ. 2. Ban hành và tổ chức thực hiện các văn bản quy phạm pháp luật về giao thông đường bộ; quy chuẩn, tiêu chuẩn về giao thông đường bộ. 3. Tuyên truyền, phổ biến, giáo dục pháp luật về giao thông đường bộ. 4. Tổ chức quản lý, bảo trì, bảo vệ kết cấu hạ tầng giao thông đường bộ. 5. Đăng ký, cấp, thu hồi biển số phương tiện giao thông đường bộ; cấp, thu hồi giấy chứng nhận chất lượng, an toàn kỹ thuật và bảo vệ môi trường của phương tiện giao thông đường bộ. 6. Quản lý đào tạo, sát hạch lái xe; cấp, đổi, thu hồi giấy phép lái xe, chứng chỉ bồi dưỡng kiến thức pháp luật về giao thông đường bộ 7. Quản lý hoạt động vận tải và dịch vụ hỗ trợ vận tải; tổ chức cứu nạn giao thông đường bộ. 8. Tổ chức nghiên cứu, ứng dụng khoa học và công nghệ về giao thông đường bộ; đào tạo cán bộ và công nhân kỹ thuật giao thông đường bộ. 9. Kiểm tra, thanh tra, giải quyết khiếu nại, tố cáo; xử lý vi phạm pháp luật về giao thông đường bộ. 10. Hợp tác quốc tế về giao thông đường bộ. ',\n",
       "  'generated_question': 'Nhà nước có trách nhiệm gì trong việc quản lý và bảo trì kết cấu hạ tầng giao thông đường bộ?',\n",
       "  'rag_answer_llm': 'Bộ trưởng Bộ Giao thông vận tải thiết lập việc quản lý và bảo trì cơ sở hạ tầng giao thông đường bộ.',\n",
       "  'generated_answer': 'Nhà nước có trách nhiệm tổ chức quản lý, bảo trì, bảo vệ kết cấu hạ tầng giao thông đường bộ, bao gồm việc xây dựng quy hoạch, kế hoạch và chính sách phát triển giao thông đường bộ, cũng như thực hiện các chương trình quốc gia về an toàn giao thông đường bộ.',\n",
       "  'document': 'd2166e14',\n",
       "  'doc_id': 'd2166e14',\n",
       "  'law_title': 'Luật Giao Thông Đường Bộ'},\n",
       " {'law_content': 'Nhà nước và xã hội khuyến khích việc hòa giải ở cơ sở khi vợ, chồng có yêu cầu ly hôn. Việc hòa giải được thực hiện theo quy định của pháp luật về hòa giải ở cơ sở. ',\n",
       "  'generated_question': 'Nhà nước có khuyến khích việc hòa giải khi vợ chồng có yêu cầu ly hôn không?',\n",
       "  'rag_answer_llm': 'Vâng, luật khuyến khích hòa giải khi cặp vợ chồng yêu cầu ly hôn.',\n",
       "  'generated_answer': 'Nhà nước và xã hội khuyến khích việc hòa giải ở cơ sở khi vợ, chồng có yêu cầu ly hôn. Việc hòa giải được thực hiện theo quy định của pháp luật về hòa giải ở cơ sở.',\n",
       "  'document': '3f2a4a4d',\n",
       "  'doc_id': '3f2a4a4d',\n",
       "  'law_title': 'Luật Hôn Nhân Và Gia Đình'},\n",
       " {'law_content': '1. Một xe ô tô chỉ được kéo theo một xe ô tô hoặc xe máy chuyên dùng khác khi xe này không tự chạy được và phải bảo đảm các quy định sau đây: a) Xe được kéo phải có người điều khiển và hệ thống lái của xe đó phải còn hiệu lực; b) Việc nối xe kéo với xe được kéo phải bảo đảm chắc chắn, an toàn; trường hợp hệ thống hãm của xe được kéo không còn hiệu lực thì xe kéo nhau phải nối bằng thanh nối cứng; c) Phía trước của xe kéo và phía sau của xe được kéo phải có biển báo hiệu. 2. Xe kéo rơ moóc phải có tổng trọng lượng lớn hơn tổng trọng lượng của rơ moóc hoặc phải có hệ thống hãm có hiệu lực cho rơ moóc. 3. Không được thực hiện các hành vi sau đây: a) Xe kéo rơ moóc, xe kéo sơ mi rơ moóc kéo thêm rơ moóc hoặc xe khác; b) Chở người trên xe được kéo; c) Kéo theo xe thô sơ, xe gắn máy, xe mô tô. ',\n",
       "  'generated_question': 'Khi nào một xe ô tô được phép kéo theo một xe ô tô hoặc xe máy chuyên dùng khác?',\n",
       "  'rag_answer_llm': 'Một chiếc xe để kéo xe hoặc xe máy chuyên dụng khác được ủy quyền kéo xe hoặc xe đạp chuyên dụng khác khi nó không thể hoạt động hoặc không đảm bảo các quy định sau: a) xe kéo cho đường dẫn;b) xe kéo có xe kéo hoặc xe kéo khác hoặc các phương tiện khác;c) Việc vận chuyển người trên xe được kéo.',\n",
       "  'generated_answer': 'Một xe ô tô chỉ được kéo theo một xe ô tô hoặc xe máy chuyên dùng khác khi xe này không tự chạy được và phải bảo đảm các quy định sau: xe được kéo phải có người điều khiển và hệ thống lái của xe đó phải còn hiệu lực; việc nối xe kéo với xe được kéo phải bảo đảm chắc chắn, an toàn; phía trước của xe kéo và phía sau của xe được kéo phải có biển báo hiệu.',\n",
       "  'document': 'd638a752',\n",
       "  'doc_id': 'd638a752',\n",
       "  'law_title': 'Luật Giao Thông Đường Bộ'},\n",
       " {'law_content': 'Luật này quy định chế độ hôn nhân và gia đình; chuẩn mực pháp lý cho cách ứng xử giữa các thành viên gia đình; trách nhiệm của cá nhân, tổ chức, Nhà nước và xã hội trong việc xây dựng, củng cố chế độ hôn nhân và gia đình. ',\n",
       "  'generated_question': 'Luật Hôn Nhân Và Gia Đình điều chỉnh những vấn đề gì?',\n",
       "  'rag_answer_llm': 'Các vấn đề về hôn nhân và luật gia đình bao gồm tiêu đề của pháp luật, các quy định của Bộ luật Dân sự và các luật liên quan khác, và các quy định của Bộ luật Dân sự và các luật khác liên quan đến các mối quan hệ hôn nhân và gia đình.',\n",
       "  'generated_answer': 'Luật này quy định chế độ hôn nhân và gia đình; chuẩn mực pháp lý cho cách ứng xử giữa các thành viên gia đình; trách nhiệm của cá nhân, tổ chức, Nhà nước và xã hội trong việc xây dựng, củng cố chế độ hôn nhân và gia đình.',\n",
       "  'document': '424554a8',\n",
       "  'doc_id': '424554a8',\n",
       "  'law_title': 'Luật Hôn Nhân Và Gia Đình'},\n",
       " {'law_content': '1. Việc mang thai hộ vì mục đích nhân đạo phải được thực hiện trên cơ sở tự nguyện của các bên và được lập thành văn bản. 2. Vợ chồng có quyền nhờ người mang thai hộ khi có đủ các điều kiện sau đây: a) Có xác nhận của tổ chức y tế có thẩm quyền về việc người vợ không thể mang thai và sinh con ngay cả khi áp dụng kỹ thuật hỗ trợ sinh sản; b) Vợ chồng đang không có con chung; c) Đã được tư vấn về y tế, pháp lý, tâm lý. 3. Người được nhờ mang thai hộ phải có đủ các điều kiện sau đây: a) Là người thân thích cùng hàng của bên vợ hoặc bên chồng nhờ mang thai hộ; b) Đã từng sinh con và chỉ được mang thai hộ một lần; c) Ở độ tuổi phù hợp và có xác nhận của tổ chức y tế có thẩm quyền về khả năng mang thai hộ; d) Trường hợp người phụ nữ mang thai hộ có chồng thì phải có sự đồng ý bằng văn bản của người chồng; đ) Đã được tư vấn về y tế, pháp lý, tâm lý. 4. Việc mang thai hộ vì mục đích nhân đạo không được trái với quy định của pháp luật về sinh con bằng kỹ thuật hỗ trợ sinh sản. 5. Chính phủ quy định chi tiết Điều này. ',\n",
       "  'generated_question': 'Điều kiện để một cặp vợ chồng được nhờ người mang thai hộ vì mục đích nhân đạo là gì?',\n",
       "  'rag_answer_llm': 'Một cặp vợ chồng phải có sự đồng ý bằng văn bản của người yêu cầu mẹ thay thế cho mục đích nhân đạo.',\n",
       "  'generated_answer': 'Vợ chồng có quyền nhờ người mang thai hộ khi có đủ các điều kiện sau: 1) Có xác nhận của tổ chức y tế có thẩm quyền về việc người vợ không thể mang thai và sinh con ngay cả khi áp dụng kỹ thuật hỗ trợ sinh sản; 2) Vợ chồng đang không có con chung; 3) Đã được tư vấn về y tế, pháp lý, tâm lý.',\n",
       "  'document': '04868edf',\n",
       "  'doc_id': '04868edf',\n",
       "  'law_title': 'Luật Hôn Nhân Và Gia Đình'},\n",
       " {'law_content': '1. Cha mẹ là người đại diện theo pháp luật của con chưa thành niên, con đã thành niên mất năng lực hành vi dân sự, trừ trường hợp con có người khác làm giám hộ hoặc có người khác đại diện theo pháp luật. 2. Cha hoặc mẹ có quyền tự mình thực hiện giao dịch nhằm đáp ứng nhu cầu thiết yếu của con chưa thành niên, con đã thành niên mất năng lực hành vi dân sự hoặc không có khả năng lao động và không có tài sản để tự nuôi mình. 3. Đối với giao dịch liên quan đến tài sản là bất động sản, động sản có đăng ký quyền sở hữu, quyền sử dụng, tài sản đưa vào kinh doanh của con chưa thành niên, con đã thành niên mất năng lực hành vi dân sự thì phải có sự thỏa thuận của cha mẹ. 4. Cha, mẹ phải chịu trách nhiệm liên đới về việc thực hiện giao dịch liên quan đến tài sản của con được quy định tại khoản 2 và khoản 3 Điều này và theo quy định của Bộ luật dân sự. ',\n",
       "  'generated_question': 'Cha mẹ có quyền tự mình thực hiện giao dịch tài sản của con chưa thành niên không?',\n",
       "  'rag_answer_llm': 'Vâng, cha mẹ có quyền thực hiện giao dịch một mình để đáp ứng nhu cầu thiết yếu của trẻ vị thành niên.',\n",
       "  'generated_answer': 'Cha hoặc mẹ có quyền tự mình thực hiện giao dịch nhằm đáp ứng nhu cầu thiết yếu của con chưa thành niên, con đã thành niên mất năng lực hành vi dân sự hoặc không có khả năng lao động và không có tài sản để tự nuôi mình. Tuy nhiên, đối với giao dịch liên quan đến tài sản là bất động sản, động sản có đăng ký quyền sở hữu, quyền sử dụng, tài sản đưa vào kinh doanh của con chưa thành niên, con đã thành niên mất năng lực hành vi dân sự thì phải có sự thỏa thuận của cha mẹ.',\n",
       "  'document': 'dc292a9c',\n",
       "  'doc_id': 'dc292a9c',\n",
       "  'law_title': 'Luật Hôn Nhân Và Gia Đình'},\n",
       " {'law_content': 'Vợ, chồng có nghĩa vụ tôn trọng quyền tự do tín ngưỡng, tôn giáo của nhau. ',\n",
       "  'generated_question': 'Vợ chồng có nghĩa vụ gì đối với quyền tự do tín ngưỡng, tôn giáo của nhau theo Luật Hôn Nhân và Gia Đình?',\n",
       "  'rag_answer_llm': 'Các nghĩa vụ cho sự tự do của niềm tin và tôn giáo lẫn nhau được vợ chồng tôn trọng, theo luật về hôn nhân và gia đình.',\n",
       "  'generated_answer': 'Vợ, chồng có nghĩa vụ tôn trọng quyền tự do tín ngưỡng, tôn giáo của nhau.',\n",
       "  'document': 'c8a7e8e1',\n",
       "  'doc_id': 'c8a7e8e1',\n",
       "  'law_title': 'Luật Hôn Nhân Và Gia Đình'},\n",
       " {'law_content': '1. Tài sản riêng của vợ, chồng gồm tài sản mà mỗi người có trước khi kết hôn; tài sản được thừa kế riêng, được tặng cho riêng trong thời kỳ hôn nhân; tài sản được chia riêng cho vợ, chồng theo quy định tại các điều 38, 39 và 40 của Luật này; tài sản phục vụ nhu cầu thiết yếu của vợ, chồng và tài sản khác mà theo quy định của pháp luật thuộc sở hữu riêng của vợ, chồng. 2. Tài sản được hình thành từ tài sản riêng của vợ, chồng cũng là tài sản riêng của vợ, chồng. Hoa lợi, lợi tức phát sinh từ tài sản riêng trong thời kỳ hôn nhân được thực hiện theo quy định tại khoản 1 Điều 33 và khoản 1 Điều 40 của Luật này. ',\n",
       "  'generated_question': 'Tài sản nào được coi là tài sản riêng của vợ hoặc chồng theo Luật Hôn Nhân Và Gia Đình?',\n",
       "  'rag_answer_llm': 'Tài sản riêng của vợ chồng cô được coi là tài sản riêng của vợ chồng, người cũng bao gồm tài sản mà mỗi người có trước khi kết hôn, tài sản mà mỗi người có trước đám cưới, tài sản được thừa kế riêng với chồng e Theo các quy tắc của pháp luật, và các hoạt động phục vụ các nhu cầu thiết yếu của các vợ hoặc chồng khác và các tài sản khác.',\n",
       "  'generated_answer': 'Tài sản riêng của vợ, chồng gồm tài sản mà mỗi người có trước khi kết hôn; tài sản được thừa kế riêng, được tặng cho riêng trong thời kỳ hôn nhân; tài sản được chia riêng cho vợ, chồng theo quy định tại các điều 38, 39 và 40 của Luật này; tài sản phục vụ nhu cầu thiết yếu của vợ, chồng và tài sản khác mà theo quy định của pháp luật thuộc sở hữu riêng của vợ, chồng.',\n",
       "  'document': '48bc6ff9',\n",
       "  'doc_id': '48bc6ff9',\n",
       "  'law_title': 'Luật Hôn Nhân Và Gia Đình'}]"
      ]
     },
     "execution_count": 186,
     "metadata": {},
     "output_type": "execute_result"
    }
   ],
   "source": [
    "results_mamba_qa"
   ]
  },
  {
   "cell_type": "code",
   "execution_count": 53,
   "id": "3d68aec3-c05f-447d-9795-eb6c82c439ae",
   "metadata": {},
   "outputs": [],
   "source": [
    "import pandas as pd"
   ]
  },
  {
   "cell_type": "code",
   "execution_count": 54,
   "id": "141bf0e3-b25d-474f-a633-53d4189daf77",
   "metadata": {},
   "outputs": [
    {
     "data": {
      "text/html": [
       "<div>\n",
       "<style scoped>\n",
       "    .dataframe tbody tr th:only-of-type {\n",
       "        vertical-align: middle;\n",
       "    }\n",
       "\n",
       "    .dataframe tbody tr th {\n",
       "        vertical-align: top;\n",
       "    }\n",
       "\n",
       "    .dataframe thead th {\n",
       "        text-align: right;\n",
       "    }\n",
       "</style>\n",
       "<table border=\"1\" class=\"dataframe\">\n",
       "  <thead>\n",
       "    <tr style=\"text-align: right;\">\n",
       "      <th></th>\n",
       "      <th>law_content</th>\n",
       "      <th>generated_question</th>\n",
       "      <th>rag_answer_llm</th>\n",
       "      <th>generated_answer</th>\n",
       "      <th>document</th>\n",
       "    </tr>\n",
       "  </thead>\n",
       "  <tbody>\n",
       "    <tr>\n",
       "      <th>0</th>\n",
       "      <td>Cơ sở giáo dục mầm non bao gồm: 1. Nhà trẻ, nh...</td>\n",
       "      <td>Các loại hình cơ sở giáo dục mầm non được quy ...</td>\n",
       "      <td>Các loại viện giáo dục được quy định là: các v...</td>\n",
       "      <td>Cơ sở giáo dục mầm non bao gồm: 1. Nhà trẻ, nh...</td>\n",
       "      <td>a0fcdc5b</td>\n",
       "    </tr>\n",
       "    <tr>\n",
       "      <th>1</th>\n",
       "      <td>1. Việc ly hôn giữa công dân Việt Nam với ngườ...</td>\n",
       "      <td>Nếu tôi là công dân Việt Nam kết hôn với người...</td>\n",
       "      <td>Bạn phải thực hiện các thủ tục như được chỉ ra...</td>\n",
       "      <td>Việc ly hôn giữa công dân Việt Nam với người n...</td>\n",
       "      <td>a2a23d08</td>\n",
       "    </tr>\n",
       "    <tr>\n",
       "      <th>2</th>\n",
       "      <td>1. Cô, dì, chú, cậu, bác ruột không sống chung...</td>\n",
       "      <td>Khi nào cô, dì, chú, cậu, bác ruột có nghĩa vụ...</td>\n",
       "      <td>Nếu một người không sống với dì, chú, chú, chú...</td>\n",
       "      <td>Cô, dì, chú, cậu, bác ruột không sống chung vớ...</td>\n",
       "      <td>36501b98</td>\n",
       "    </tr>\n",
       "    <tr>\n",
       "      <th>3</th>\n",
       "      <td>1. Người tham gia giao thông phải chấp hành hi...</td>\n",
       "      <td>Tại nơi có cả biển báo hiệu cố định và báo hiệ...</td>\n",
       "      <td>Ở nơi có một báo cáo đường;Những người tham gi...</td>\n",
       "      <td>Tại nơi có biển báo hiệu cố định lại có báo hi...</td>\n",
       "      <td>4d5249af</td>\n",
       "    </tr>\n",
       "    <tr>\n",
       "      <th>4</th>\n",
       "      <td>1. Xe xin vượt phải có báo hiệu bằng đèn hoặc ...</td>\n",
       "      <td>Khi nào tôi được phép vượt xe bên phải thay vì...</td>\n",
       "      <td>Tôi không đủ thông tin để trả lời câu hỏi này.</td>\n",
       "      <td>Bạn được phép vượt xe bên phải trong các trườn...</td>\n",
       "      <td>7d030583</td>\n",
       "    </tr>\n",
       "    <tr>\n",
       "      <th>...</th>\n",
       "      <td>...</td>\n",
       "      <td>...</td>\n",
       "      <td>...</td>\n",
       "      <td>...</td>\n",
       "      <td>...</td>\n",
       "    </tr>\n",
       "    <tr>\n",
       "      <th>96</th>\n",
       "      <td>Luật này quy định chế độ hôn nhân và gia đình;...</td>\n",
       "      <td>Luật Hôn Nhân Và Gia Đình điều chỉnh những vấn...</td>\n",
       "      <td>Các vấn đề về hôn nhân và luật gia đình bao gồ...</td>\n",
       "      <td>Luật này quy định chế độ hôn nhân và gia đình;...</td>\n",
       "      <td>424554a8</td>\n",
       "    </tr>\n",
       "    <tr>\n",
       "      <th>97</th>\n",
       "      <td>1. Việc mang thai hộ vì mục đích nhân đạo phải...</td>\n",
       "      <td>Điều kiện để một cặp vợ chồng được nhờ người m...</td>\n",
       "      <td>Một cặp vợ chồng phải có sự đồng ý bằng văn bả...</td>\n",
       "      <td>Vợ chồng có quyền nhờ người mang thai hộ khi c...</td>\n",
       "      <td>04868edf</td>\n",
       "    </tr>\n",
       "    <tr>\n",
       "      <th>98</th>\n",
       "      <td>1. Cha mẹ là người đại diện theo pháp luật của...</td>\n",
       "      <td>Cha mẹ có quyền tự mình thực hiện giao dịch tà...</td>\n",
       "      <td>Vâng, cha mẹ có quyền thực hiện giao dịch một ...</td>\n",
       "      <td>Cha hoặc mẹ có quyền tự mình thực hiện giao dị...</td>\n",
       "      <td>dc292a9c</td>\n",
       "    </tr>\n",
       "    <tr>\n",
       "      <th>99</th>\n",
       "      <td>Vợ, chồng có nghĩa vụ tôn trọng quyền tự do tí...</td>\n",
       "      <td>Vợ chồng có nghĩa vụ gì đối với quyền tự do tí...</td>\n",
       "      <td>Các nghĩa vụ cho sự tự do của niềm tin và tôn ...</td>\n",
       "      <td>Vợ, chồng có nghĩa vụ tôn trọng quyền tự do tí...</td>\n",
       "      <td>c8a7e8e1</td>\n",
       "    </tr>\n",
       "    <tr>\n",
       "      <th>100</th>\n",
       "      <td>1. Tài sản riêng của vợ, chồng gồm tài sản mà ...</td>\n",
       "      <td>Tài sản nào được coi là tài sản riêng của vợ h...</td>\n",
       "      <td>Tài sản riêng của vợ chồng cô được coi là tài ...</td>\n",
       "      <td>Tài sản riêng của vợ, chồng gồm tài sản mà mỗi...</td>\n",
       "      <td>48bc6ff9</td>\n",
       "    </tr>\n",
       "  </tbody>\n",
       "</table>\n",
       "<p>101 rows × 5 columns</p>\n",
       "</div>"
      ],
      "text/plain": [
       "                                           law_content  \\\n",
       "0    Cơ sở giáo dục mầm non bao gồm: 1. Nhà trẻ, nh...   \n",
       "1    1. Việc ly hôn giữa công dân Việt Nam với ngườ...   \n",
       "2    1. Cô, dì, chú, cậu, bác ruột không sống chung...   \n",
       "3    1. Người tham gia giao thông phải chấp hành hi...   \n",
       "4    1. Xe xin vượt phải có báo hiệu bằng đèn hoặc ...   \n",
       "..                                                 ...   \n",
       "96   Luật này quy định chế độ hôn nhân và gia đình;...   \n",
       "97   1. Việc mang thai hộ vì mục đích nhân đạo phải...   \n",
       "98   1. Cha mẹ là người đại diện theo pháp luật của...   \n",
       "99   Vợ, chồng có nghĩa vụ tôn trọng quyền tự do tí...   \n",
       "100  1. Tài sản riêng của vợ, chồng gồm tài sản mà ...   \n",
       "\n",
       "                                    generated_question  \\\n",
       "0    Các loại hình cơ sở giáo dục mầm non được quy ...   \n",
       "1    Nếu tôi là công dân Việt Nam kết hôn với người...   \n",
       "2    Khi nào cô, dì, chú, cậu, bác ruột có nghĩa vụ...   \n",
       "3    Tại nơi có cả biển báo hiệu cố định và báo hiệ...   \n",
       "4    Khi nào tôi được phép vượt xe bên phải thay vì...   \n",
       "..                                                 ...   \n",
       "96   Luật Hôn Nhân Và Gia Đình điều chỉnh những vấn...   \n",
       "97   Điều kiện để một cặp vợ chồng được nhờ người m...   \n",
       "98   Cha mẹ có quyền tự mình thực hiện giao dịch tà...   \n",
       "99   Vợ chồng có nghĩa vụ gì đối với quyền tự do tí...   \n",
       "100  Tài sản nào được coi là tài sản riêng của vợ h...   \n",
       "\n",
       "                                        rag_answer_llm  \\\n",
       "0    Các loại viện giáo dục được quy định là: các v...   \n",
       "1    Bạn phải thực hiện các thủ tục như được chỉ ra...   \n",
       "2    Nếu một người không sống với dì, chú, chú, chú...   \n",
       "3    Ở nơi có một báo cáo đường;Những người tham gi...   \n",
       "4       Tôi không đủ thông tin để trả lời câu hỏi này.   \n",
       "..                                                 ...   \n",
       "96   Các vấn đề về hôn nhân và luật gia đình bao gồ...   \n",
       "97   Một cặp vợ chồng phải có sự đồng ý bằng văn bả...   \n",
       "98   Vâng, cha mẹ có quyền thực hiện giao dịch một ...   \n",
       "99   Các nghĩa vụ cho sự tự do của niềm tin và tôn ...   \n",
       "100  Tài sản riêng của vợ chồng cô được coi là tài ...   \n",
       "\n",
       "                                      generated_answer  document  \n",
       "0    Cơ sở giáo dục mầm non bao gồm: 1. Nhà trẻ, nh...  a0fcdc5b  \n",
       "1    Việc ly hôn giữa công dân Việt Nam với người n...  a2a23d08  \n",
       "2    Cô, dì, chú, cậu, bác ruột không sống chung vớ...  36501b98  \n",
       "3    Tại nơi có biển báo hiệu cố định lại có báo hi...  4d5249af  \n",
       "4    Bạn được phép vượt xe bên phải trong các trườn...  7d030583  \n",
       "..                                                 ...       ...  \n",
       "96   Luật này quy định chế độ hôn nhân và gia đình;...  424554a8  \n",
       "97   Vợ chồng có quyền nhờ người mang thai hộ khi c...  04868edf  \n",
       "98   Cha hoặc mẹ có quyền tự mình thực hiện giao dị...  dc292a9c  \n",
       "99   Vợ, chồng có nghĩa vụ tôn trọng quyền tự do tí...  c8a7e8e1  \n",
       "100  Tài sản riêng của vợ, chồng gồm tài sản mà mỗi...  48bc6ff9  \n",
       "\n",
       "[101 rows x 5 columns]"
      ]
     },
     "execution_count": 54,
     "metadata": {},
     "output_type": "execute_result"
    }
   ],
   "source": [
    "df_mamba_qa = pd.read_csv(\"./DeepMount00_mamba_790_hf_qa_1_top_search.csv\")\n",
    "df_mamba_qa"
   ]
  },
  {
   "cell_type": "markdown",
   "id": "55f32fc1-96f2-45c8-b22f-45c72c0786e0",
   "metadata": {},
   "source": [
    "## Evaluating "
   ]
  },
  {
   "cell_type": "code",
   "execution_count": null,
   "id": "e6678220-4686-41d2-9d6b-878498728cce",
   "metadata": {},
   "outputs": [],
   "source": [
    "rag(ground_truth[10], model='gpt-3.5-turbo')"
   ]
  },
  {
   "cell_type": "code",
   "execution_count": null,
   "id": "bfdc6e3c-a9d4-4ae8-8379-c9c90efc23b6",
   "metadata": {},
   "outputs": [],
   "source": [
    "from tqdm.auto import tqdm\n",
    "\n",
    "from concurrent.futures import ThreadPoolExecutor\n",
    "\n",
    "pool = ThreadPoolExecutor(max_workers=6)\n",
    "\n",
    "def map_progress(pool, seq, f):\n",
    "    results = []\n",
    "\n",
    "    with tqdm(total=len(seq)) as progress:\n",
    "        futures = []\n",
    "\n",
    "        for el in seq:\n",
    "            future = pool.submit(f, el)\n",
    "            future.add_done_callback(lambda p: progress.update())\n",
    "            futures.append(future)\n",
    "\n",
    "        for future in futures:\n",
    "            result = future.result()\n",
    "            results.append(result)\n",
    "\n",
    "    return results"
   ]
  },
  {
   "cell_type": "code",
   "execution_count": null,
   "id": "9c725d15-c355-4978-b598-81526fe298ec",
   "metadata": {},
   "outputs": [],
   "source": [
    "def process_record(rec):\n",
    "    model = 'gpt-3.5-turbo'\n",
    "    answer_llm = rag(rec, model=model)\n",
    "    \n",
    "    doc_id = rec['document']\n",
    "    original_doc = doc_idx[doc_id]\n",
    "    answer_orig = original_doc['text']\n",
    "\n",
    "    return {\n",
    "        'answer_llm': answer_llm,\n",
    "        'answer_orig': answer_orig,\n",
    "        'document': doc_id,\n",
    "        'question': rec['question'],\n",
    "        'course': rec['course'],\n",
    "    }"
   ]
  },
  {
   "cell_type": "code",
   "execution_count": null,
   "id": "dfd12868-c71e-45da-9557-d22f720c04a5",
   "metadata": {},
   "outputs": [],
   "source": [
    "process_record(ground_truth[10])"
   ]
  },
  {
   "cell_type": "code",
   "execution_count": null,
   "id": "0a0f73f6-7542-4351-9839-ba3129d0da44",
   "metadata": {},
   "outputs": [],
   "source": [
    "results_gpt35 = map_progress(pool, ground_truth, process_record)"
   ]
  },
  {
   "cell_type": "code",
   "execution_count": null,
   "id": "79eaa48a-7b55-4ff3-a4d5-16ce0e4fedd0",
   "metadata": {},
   "outputs": [],
   "source": [
    "df_gpt35 = pd.DataFrame(results_gpt35)\n",
    "df_gpt35.to_csv('data/results-gpt35.csv', index=False)"
   ]
  },
  {
   "cell_type": "code",
   "execution_count": null,
   "id": "b8a88bd2-7553-4222-8efc-530860f0c31a",
   "metadata": {},
   "outputs": [],
   "source": [
    "!head data/results-gpt35.csv"
   ]
  },
  {
   "cell_type": "markdown",
   "id": "67827816-f598-41c9-9bee-b312e117a32a",
   "metadata": {},
   "source": [
    "## Cosine similarity\n",
    "\n",
    "A->Q->A' cosine similarity\n",
    "\n",
    "A -> Q -> A'\n",
    "\n",
    "cosine(A, A')\n",
    "\n",
    "### gpt-4o"
   ]
  },
  {
   "cell_type": "code",
   "execution_count": 190,
   "id": "2af96a0d-627a-4f32-9965-c90ba542d65c",
   "metadata": {},
   "outputs": [],
   "source": [
    "results_mamba_qa = df_mamba_qa.to_dict(orient='records')"
   ]
  },
  {
   "cell_type": "code",
   "execution_count": 191,
   "id": "e8bfb5a3-06da-4459-bbc4-eed5ed1a84ce",
   "metadata": {},
   "outputs": [
    {
     "data": {
      "text/plain": [
       "{'law_content': 'Cơ sở giáo dục mầm non bao gồm: 1. Nhà trẻ, nhóm trẻ độc lập nhận trẻ em từ 03 tháng tuổi đến 03 tuổi; 2. Trường mẫu giáo, lớp mẫu giáo độc lập nhận trẻ em từ 03 tuổi đến 06 tuổi; 3. Trường mầm non, lớp mầm non độc lập là cơ sở giáo dục kết hợp nhà trẻ và mẫu giáo, nhận trẻ em từ 03 tháng tuổi đến 06 tuổi. ',\n",
       " 'generated_question': 'Các loại hình cơ sở giáo dục mầm non được quy định như thế nào trong Luật Giáo Dục?',\n",
       " 'rag_answer_llm': 'Các loại viện giáo dục được quy định là: các viện mầm non, tổ chức giáo dục mầm non, mẫu giáo, mẫu giáo, mẫu giáo.',\n",
       " 'generated_answer': 'Cơ sở giáo dục mầm non bao gồm: 1. Nhà trẻ, nhóm trẻ độc lập nhận trẻ em từ 03 tháng tuổi đến 03 tuổi; 2. Trường mẫu giáo, lớp mẫu giáo độc lập nhận trẻ em từ 03 tuổi đến 06 tuổi; 3. Trường mầm non, lớp mầm non độc lập là cơ sở giáo dục kết hợp nhà trẻ và mẫu giáo, nhận trẻ em từ 03 tháng tuổi đến 06 tuổi.',\n",
       " 'document': 'a0fcdc5b'}"
      ]
     },
     "execution_count": 191,
     "metadata": {},
     "output_type": "execute_result"
    }
   ],
   "source": [
    "record = results_mamba_qa[0]\n",
    "record"
   ]
  },
  {
   "cell_type": "code",
   "execution_count": 195,
   "id": "453b5a1d-a0cc-4023-aa74-de23a65ce71c",
   "metadata": {},
   "outputs": [],
   "source": [
    "def compute_similarity(record):\n",
    "    generated_answer = str(record['generated_answer'])  # Convert to string\n",
    "    rag_answer_llm = str(record['rag_answer_llm'])    # Convert to string\n",
    "    v_llm = model.encode(rag_answer_llm)\n",
    "    v_orig = model.encode(generated_answer)\n",
    "    return v_llm.dot(v_orig)"
   ]
  },
  {
   "cell_type": "code",
   "execution_count": 196,
   "id": "9b70aad3-71f4-46a4-81df-9c34ecfa6283",
   "metadata": {},
   "outputs": [
    {
     "data": {
      "application/vnd.jupyter.widget-view+json": {
       "model_id": "436123546e124bf2a180b6489a0146f5",
       "version_major": 2,
       "version_minor": 0
      },
      "text/plain": [
       "  0%|          | 0/101 [00:00<?, ?it/s]"
      ]
     },
     "metadata": {},
     "output_type": "display_data"
    }
   ],
   "source": [
    "similarity = []\n",
    "\n",
    "for record in tqdm(results_mamba_qa):\n",
    "    sim = compute_similarity(record)\n",
    "    similarity.append(sim)"
   ]
  },
  {
   "cell_type": "code",
   "execution_count": 197,
   "id": "39e10c57-34a0-41bf-9867-10a50fc6d9ac",
   "metadata": {},
   "outputs": [
    {
     "data": {
      "text/plain": [
       "count    101.000000\n",
       "mean       0.646146\n",
       "std        0.232852\n",
       "min       -0.047798\n",
       "25%        0.539032\n",
       "50%        0.713217\n",
       "75%        0.817774\n",
       "max        0.933885\n",
       "Name: cosine, dtype: float64"
      ]
     },
     "execution_count": 197,
     "metadata": {},
     "output_type": "execute_result"
    }
   ],
   "source": [
    "df_mamba_qa['cosine'] = similarity\n",
    "df_mamba_qa['cosine'].describe()"
   ]
  },
  {
   "cell_type": "code",
   "execution_count": 198,
   "id": "96b69a9a-ecd6-43fa-85da-e4ca00bdc61b",
   "metadata": {},
   "outputs": [],
   "source": [
    "import seaborn as sns"
   ]
  },
  {
   "cell_type": "code",
   "execution_count": 199,
   "id": "45f7f3e9",
   "metadata": {},
   "outputs": [
    {
     "data": {
      "text/plain": [
       "<seaborn.axisgrid.FacetGrid at 0x7f617dbaa770>"
      ]
     },
     "execution_count": 199,
     "metadata": {},
     "output_type": "execute_result"
    },
    {
     "data": {
      "image/png": "[encoded data removed]",
      "text/plain": [
       "<Figure size 500x500 with 1 Axes>"
      ]
     },
     "metadata": {},
     "output_type": "display_data"
    }
   ],
   "source": [
    "sns.displot(df_mamba_qa['cosine'])"
   ]
  },
  {
   "cell_type": "markdown",
   "id": "0651cb0c-96f7-449e-93a4-66f1e6e1c31d",
   "metadata": {},
   "source": [
    "### gpt-3.5-turbo"
   ]
  },
  {
   "cell_type": "code",
   "execution_count": null,
   "id": "3f497b01-c8c6-4809-8ac8-2be8db0ca578",
   "metadata": {},
   "outputs": [],
   "source": [
    "results_gpt35 = df_gpt35.to_dict(orient='records')\n",
    "\n",
    "similarity_35 = []\n",
    "\n",
    "for record in tqdm(results_gpt35):\n",
    "    sim = compute_similarity(record)\n",
    "    similarity_35.append(sim)"
   ]
  },
  {
   "cell_type": "code",
   "execution_count": null,
   "id": "524528a3-1651-4200-8240-badcaeee67ec",
   "metadata": {},
   "outputs": [],
   "source": [
    "df_gpt35['cosine'] = similarity_35\n",
    "df_gpt35['cosine'].describe()"
   ]
  },
  {
   "cell_type": "code",
   "execution_count": null,
   "id": "41e8a2ab-af71-48ea-8128-724160150592",
   "metadata": {},
   "outputs": [],
   "source": [
    "import matplotlib.pyplot as plt"
   ]
  },
  {
   "cell_type": "markdown",
   "id": "588d15df-d806-40d9-938d-d4abdb3b645c",
   "metadata": {},
   "source": [
    "### gpt-4o-mini"
   ]
  },
  {
   "cell_type": "code",
   "execution_count": null,
   "id": "17e1ff94-5cea-4d36-b80c-ba31026663d7",
   "metadata": {},
   "outputs": [],
   "source": [
    "def process_record_4o_mini(rec):\n",
    "    model = 'gpt-4o-mini'\n",
    "    answer_llm = rag(rec, model=model)\n",
    "    \n",
    "    doc_id = rec['document']\n",
    "    original_doc = doc_idx[doc_id]\n",
    "    answer_orig = original_doc['text']\n",
    "\n",
    "    return {\n",
    "        'answer_llm': answer_llm,\n",
    "        'answer_orig': answer_orig,\n",
    "        'document': doc_id,\n",
    "        'question': rec['question'],\n",
    "        'course': rec['course'],\n",
    "    }"
   ]
  },
  {
   "cell_type": "code",
   "execution_count": null,
   "id": "2e24207e-9ca8-4717-9e71-c0d3d0f62046",
   "metadata": {},
   "outputs": [],
   "source": [
    "process_record_4o_mini(ground_truth[10])"
   ]
  },
  {
   "cell_type": "code",
   "execution_count": null,
   "id": "c7d54408-6264-4ecf-8f71-d637706c1be3",
   "metadata": {},
   "outputs": [],
   "source": [
    "results_gpt4omini = []"
   ]
  },
  {
   "cell_type": "code",
   "execution_count": null,
   "id": "6fecebc2-d7c6-4474-b17c-5732f47fe366",
   "metadata": {},
   "outputs": [],
   "source": [
    "for record in tqdm(ground_truth):\n",
    "    result = process_record_4o_mini(record)\n",
    "    results_gpt4omini.append(result)"
   ]
  },
  {
   "cell_type": "code",
   "execution_count": null,
   "id": "028defb1-9250-49c8-8c93-432e94a77763",
   "metadata": {},
   "outputs": [],
   "source": [
    "df_gpt4o_mini = pd.DataFrame(results_gpt4omini)\n",
    "df_gpt4o_mini.to_csv('data/results-gpt4o-mini.csv', index=False)"
   ]
  },
  {
   "cell_type": "code",
   "execution_count": null,
   "id": "d4fc4de4-0622-4bcd-b0ff-61d9954842ab",
   "metadata": {},
   "outputs": [],
   "source": [
    "similarity_4o_mini = []\n",
    "\n",
    "for record in tqdm(results_gpt4omini):\n",
    "    sim = compute_similarity(record)\n",
    "    similarity_4o_mini.append(sim)"
   ]
  },
  {
   "cell_type": "code",
   "execution_count": null,
   "id": "22cd9af3-d3ca-4ab3-bbe1-1b8665aaeece",
   "metadata": {},
   "outputs": [],
   "source": [
    "df_gpt4o_mini['cosine'] = similarity_4o_mini\n",
    "df_gpt4o_mini['cosine'].describe()"
   ]
  },
  {
   "cell_type": "markdown",
   "id": "f5478e7d-015e-4356-8e8d-f68dcf3ca156",
   "metadata": {},
   "source": [
    "gpt4o \n",
    "\n",
    "```\n",
    "count    1830.000000\n",
    "mean        0.679129\n",
    "std         0.217995\n",
    "min        -0.153426\n",
    "25%         0.591460\n",
    "50%         0.734788\n",
    "75%         0.835390\n",
    "max         0.995339\n",
    "Name: cosine, dtype: float64\n",
    "```"
   ]
  },
  {
   "cell_type": "code",
   "execution_count": null,
   "id": "145be2b7-d84d-47cf-b39e-6241dc20b535",
   "metadata": {},
   "outputs": [],
   "source": [
    "# sns.distplot(df_gpt35['cosine'], label='3.5')\n",
    "\n",
    "sns.distplot(df_mamba_qa['cosine'], label='4o')\n",
    "sns.distplot(df_gpt4o_mini['cosine'], label='4o-mini')\n",
    "\n",
    "plt.title(\"RAG LLM performance\")\n",
    "plt.xlabel(\"A->Q->A' Cosine Similarity\")\n",
    "plt.legend()"
   ]
  },
  {
   "cell_type": "markdown",
   "id": "5d865c1d-3577-4812-959a-93fc8c3a598b",
   "metadata": {},
   "source": [
    "## LLM-as-a-Judge"
   ]
  },
  {
   "cell_type": "code",
   "execution_count": null,
   "id": "607005fb-d83f-44be-a51a-6bed9f6ebdc7",
   "metadata": {},
   "outputs": [],
   "source": [
    "prompt1_template = \"\"\"\n",
    "You are an expert evaluator for a Retrieval-Augmented Generation (RAG) system.\n",
    "Your task is to analyze the relevance of the generated answer compared to the original answer provided.\n",
    "Based on the relevance and similarity of the generated answer to the original answer, you will classify\n",
    "it as \"NON_RELEVANT\", \"PARTLY_RELEVANT\", or \"RELEVANT\".\n",
    "\n",
    "Here is the data for evaluation:\n",
    "\n",
    "Original Answer: {answer_orig}\n",
    "Generated Question: {question}\n",
    "Generated Answer: {answer_llm}\n",
    "\n",
    "Please analyze the content and context of the generated answer in relation to the original\n",
    "answer and provide your evaluation in parsable JSON without using code blocks:\n",
    "\n",
    "{{\n",
    "  \"Relevance\": \"NON_RELEVANT\" | \"PARTLY_RELEVANT\" | \"RELEVANT\",\n",
    "  \"Explanation\": \"[Provide a brief explanation for your evaluation]\"\n",
    "}}\n",
    "\"\"\".strip()\n",
    "\n",
    "prompt2_template = \"\"\"\n",
    "You are an expert evaluator for a Retrieval-Augmented Generation (RAG) system.\n",
    "Your task is to analyze the relevance of the generated answer to the given question.\n",
    "Based on the relevance of the generated answer, you will classify it\n",
    "as \"NON_RELEVANT\", \"PARTLY_RELEVANT\", or \"RELEVANT\".\n",
    "\n",
    "Here is the data for evaluation:\n",
    "\n",
    "Question: {question}\n",
    "Generated Answer: {answer_llm}\n",
    "\n",
    "Please analyze the content and context of the generated answer in relation to the question\n",
    "and provide your evaluation in parsable JSON without using code blocks:\n",
    "\n",
    "{{\n",
    "  \"Relevance\": \"NON_RELEVANT\" | \"PARTLY_RELEVANT\" | \"RELEVANT\",\n",
    "  \"Explanation\": \"[Provide a brief explanation for your evaluation]\"\n",
    "}}\n",
    "\"\"\".strip()"
   ]
  },
  {
   "cell_type": "code",
   "execution_count": null,
   "id": "fe131dc5-256b-4198-96f7-4c6209ca9b68",
   "metadata": {},
   "outputs": [],
   "source": [
    "df_sample = df_gpt4o_mini.sample(n=150, random_state=1)"
   ]
  },
  {
   "cell_type": "code",
   "execution_count": null,
   "id": "fd5b25b5-4244-4322-9cba-40b2dde6b7de",
   "metadata": {
    "scrolled": true
   },
   "outputs": [],
   "source": [
    "samples = df_sample.to_dict(orient='records')"
   ]
  },
  {
   "cell_type": "code",
   "execution_count": null,
   "id": "e61a635b-db6d-472f-89a1-a4d50f622124",
   "metadata": {},
   "outputs": [],
   "source": [
    "record = samples[0]\n",
    "record"
   ]
  },
  {
   "cell_type": "code",
   "execution_count": null,
   "id": "e514f94b-8564-40ab-a367-a5a2dda0c8e3",
   "metadata": {},
   "outputs": [],
   "source": [
    "prompt = prompt1_template.format(**record)\n",
    "print(prompt)"
   ]
  },
  {
   "cell_type": "code",
   "execution_count": null,
   "id": "57e6694f-bf49-467d-82ae-ca5bf06e94f4",
   "metadata": {},
   "outputs": [],
   "source": [
    "answer = llm(prompt, model='gpt-4o-mini')"
   ]
  },
  {
   "cell_type": "code",
   "execution_count": null,
   "id": "edbe0ddb-75ab-4663-abbd-9886bc23a416",
   "metadata": {},
   "outputs": [],
   "source": [
    "import json"
   ]
  },
  {
   "cell_type": "code",
   "execution_count": null,
   "id": "92b557cc-13a7-4832-b1c9-382cc51d08e2",
   "metadata": {},
   "outputs": [],
   "source": [
    "evaluations = []\n",
    "\n",
    "for record in tqdm(samples):\n",
    "    prompt = prompt1_template.format(**record)\n",
    "    evaluation = llm(prompt, model='gpt-4o-mini')\n",
    "    evaluations.append(evaluation)"
   ]
  },
  {
   "cell_type": "code",
   "execution_count": null,
   "id": "f3afb95a-53b9-474d-87fc-3d4461a7f27d",
   "metadata": {
    "scrolled": true
   },
   "outputs": [],
   "source": [
    "json_evaluations = []\n",
    "\n",
    "for i, str_eval in enumerate(evaluations):\n",
    "    json_eval = json.loads(str_eval)\n",
    "    json_evaluations.append(json_eval)"
   ]
  },
  {
   "cell_type": "code",
   "execution_count": null,
   "id": "a6419c24-1a39-4d3b-9468-b99208355035",
   "metadata": {},
   "outputs": [],
   "source": [
    "df_evaluations = pd.DataFrame(json_evaluations)"
   ]
  },
  {
   "cell_type": "code",
   "execution_count": null,
   "id": "a1d6aa1e-8c91-4a90-82e4-e2046a0e5be0",
   "metadata": {},
   "outputs": [],
   "source": [
    "df_evaluations.Relevance.value_counts()"
   ]
  },
  {
   "cell_type": "code",
   "execution_count": null,
   "id": "3664805d-2500-4b65-9980-de162ccf5df8",
   "metadata": {},
   "outputs": [],
   "source": [
    "df_evaluations[df_evaluations.Relevance == 'NON_RELEVANT'] #.to_dict(orient='records')"
   ]
  },
  {
   "cell_type": "code",
   "execution_count": null,
   "id": "550a962b-c807-4dcc-91c4-bb69f47f1c48",
   "metadata": {},
   "outputs": [],
   "source": [
    "sample[4]"
   ]
  },
  {
   "cell_type": "code",
   "execution_count": null,
   "id": "6cdb1246-4769-406c-a9a3-a602ce5d3801",
   "metadata": {},
   "outputs": [],
   "source": [
    "prompt = prompt2_template.format(**record)\n",
    "print(prompt)"
   ]
  },
  {
   "cell_type": "code",
   "execution_count": null,
   "id": "650e8ecb-80e2-42f1-8039-8d497e3eeca6",
   "metadata": {},
   "outputs": [],
   "source": [
    "evaluation = llm(prompt, model='gpt-4o-mini')\n",
    "print(evaluation)"
   ]
  },
  {
   "cell_type": "code",
   "execution_count": null,
   "id": "03afffa3-9f7e-47eb-9c17-46ae39e38424",
   "metadata": {},
   "outputs": [],
   "source": [
    "evaluations_2 = []\n",
    "\n",
    "for record in tqdm(samples):\n",
    "    prompt = prompt2_template.format(**record)\n",
    "    evaluation = llm(prompt, model='gpt-4o-mini')\n",
    "    evaluations_2.append(evaluation)"
   ]
  },
  {
   "cell_type": "code",
   "execution_count": null,
   "id": "c00c22f5-fe31-4782-99ac-846249fc59b6",
   "metadata": {},
   "outputs": [],
   "source": [
    "json_evaluations_2 = []\n",
    "\n",
    "for i, str_eval in enumerate(evaluations_2):\n",
    "    json_eval = json.loads(str_eval)\n",
    "    json_evaluations_2.append(json_eval)"
   ]
  },
  {
   "cell_type": "code",
   "execution_count": null,
   "id": "05c6d861-9d0c-41bb-a5db-454283c4b343",
   "metadata": {},
   "outputs": [],
   "source": [
    "df_evaluations_2 = pd.DataFrame(json_evaluations_2)"
   ]
  },
  {
   "cell_type": "code",
   "execution_count": null,
   "id": "09064866-d08c-4e0d-a095-44a9e8625bfb",
   "metadata": {},
   "outputs": [],
   "source": [
    "df_evaluations_2[df_evaluations_2.Relevance == 'NON_RELEVANT']"
   ]
  },
  {
   "cell_type": "code",
   "execution_count": null,
   "id": "95af0004-e25c-4328-8d22-d48443470da0",
   "metadata": {},
   "outputs": [],
   "source": [
    "samples[45]"
   ]
  },
  {
   "cell_type": "markdown",
   "id": "2e515bdc-2a05-4934-800b-7e1ccc1652b5",
   "metadata": {},
   "source": [
    "## Saving all the data"
   ]
  },
  {
   "cell_type": "markdown",
   "id": "9b2636b5",
   "metadata": {},
   "source": [
    "## Translation evaluation"
   ]
  },
  {
   "cell_type": "code",
   "execution_count": null,
   "id": "0800f27a",
   "metadata": {},
   "outputs": [],
   "source": []
  }
 ],
 "metadata": {
  "kernelspec": {
   "display_name": "Python 3 (ipykernel)",
   "language": "python",
   "name": "python3"
  },
  "language_info": {
   "codemirror_mode": {
    "name": "ipython",
    "version": 3
   },
   "file_extension": ".py",
   "mimetype": "text/x-python",
   "name": "python",
   "nbconvert_exporter": "python",
   "pygments_lexer": "ipython3",
   "version": "3.10.12"
  }
 },
 "nbformat": 4,
 "nbformat_minor": 5
}
