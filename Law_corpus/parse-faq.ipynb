{
 "cells": [
  {
   "cell_type": "code",
   "execution_count": null,
   "id": "4cd1eaa8-3424-41ad-9cf2-3e8548712865",
   "metadata": {},
   "outputs": [],
   "source": [
    "import io\n",
    "import requests\n",
    "import docx"
   ]
  },
  {
   "cell_type": "code",
   "execution_count": 6,
   "id": "8180e7e4-b90d-4900-a59b-d22e5d6537c4",
   "metadata": {},
   "outputs": [
    {
     "name": "stdout",
     "output_type": "stream",
     "text": [
      "Conversion to JSON complete. Output saved as 'translated_luat_giao_duc.json'.\n"
     ]
    }
   ],
   "source": [
    "# def clean_line(line):\n",
    "#     line = line.strip()\n",
    "#     line = line.strip('\\uFEFF')#explain \n",
    "#     return line\n",
    "\n",
    "# def read_faq(file_id):\n",
    "#     url = f'https://docs.google.com/document/d/{file_id}/export?format=docx'\n",
    "    \n",
    "#     response = requests.get(url)\n",
    "#     response.raise_for_status()\n",
    "    \n",
    "#     with io.BytesIO(response.content) as f_in:\n",
    "#         doc = docx.Document(f_in)\n",
    "\n",
    "#     questions = []\n",
    "\n",
    "#     question_heading_style = 'heading 2'\n",
    "#     section_heading_style = 'heading 1'\n",
    "    \n",
    "#     heading_id = ''\n",
    "#     section_title = ''\n",
    "#     question_title = ''\n",
    "#     answer_text_so_far = ''\n",
    "     \n",
    "#     for p in doc.paragraphs:\n",
    "#         style = p.style.name.lower()\n",
    "#         p_text = clean_line(p.text)\n",
    "    \n",
    "#         if len(p_text) == 0:\n",
    "#             continue\n",
    "    \n",
    "#         if style == section_heading_style:\n",
    "#             section_title = p_text\n",
    "#             continue\n",
    "    \n",
    "#         if style == question_heading_style:\n",
    "#             answer_text_so_far = answer_text_so_far.strip()\n",
    "#             if answer_text_so_far != '' and section_title != '' and question_title != '':\n",
    "#                 questions.append({\n",
    "#                     'text': answer_text_so_far,\n",
    "#                     'section': section_title,\n",
    "#                     'question': question_title,\n",
    "#                 })\n",
    "#                 answer_text_so_far = ''\n",
    "    \n",
    "#             question_title = p_text\n",
    "#             continue\n",
    "        \n",
    "#         answer_text_so_far += '\\n' + p_text\n",
    "    \n",
    "#     answer_text_so_far = answer_text_so_far.strip()\n",
    "#     if answer_text_so_far != '' and section_title != '' and question_title != '':\n",
    "#         questions.append({\n",
    "#             'text': answer_text_so_far,\n",
    "#             'section': section_title,\n",
    "#             'question': question_title,\n",
    "#         })\n",
    "\n",
    "#     return questions\n",
    "import json\n",
    "\n",
    "def clean_line(line):\n",
    "    \"\"\"Removes unnecessary whitespace and BOM characters from a line.\"\"\"\n",
    "    line = line.strip()\n",
    "    line = line.strip('\\uFEFF')\n",
    "    return line\n",
    "\n",
    "def read_law_text(file_path):\n",
    "    \"\"\"Reads and parses a Vietnamese law document, structuring it into JSON format.\"\"\"\n",
    "    with open(file_path, 'r', encoding='utf-8') as f:\n",
    "        lines = f.readlines()\n",
    "\n",
    "    law_data = {\n",
    "        \"law_title\": \"Luật Giáo Dục\",\n",
    "        \"law_number\": \"43/2019/QH14\",\n",
    "        \"chapters\": []\n",
    "    }\n",
    "\n",
    "    current_chapter = None\n",
    "    current_article = None\n",
    "\n",
    "    for line in lines:\n",
    "        line = clean_line(line)\n",
    "\n",
    "        # Skip empty lines\n",
    "        if not line:\n",
    "            continue\n",
    "\n",
    "        # Detect chapter\n",
    "        if line.startswith(\"Chương\"):\n",
    "            if current_chapter:\n",
    "                law_data[\"chapters\"].append(current_chapter)\n",
    "            current_chapter = {\n",
    "                \"chapter_title\": line,\n",
    "                \"articles\": []\n",
    "            }\n",
    "\n",
    "        # Detect article\n",
    "        elif line.startswith(\"Điều\"):\n",
    "            if current_article:\n",
    "                current_chapter[\"articles\"].append(current_article)\n",
    "            current_article = {\n",
    "                \"article_number\": line.split(\".\")[0].replace(\"Điều \", \"\").strip(),\n",
    "                \"title\": line.split(\". \", 1)[1] if \". \" in line else \"\",\n",
    "                \"content\": \"\"\n",
    "            }\n",
    "\n",
    "        # Accumulate content for current article\n",
    "        else:\n",
    "            if current_article:\n",
    "                current_article[\"content\"] += line + \" \"\n",
    "\n",
    "    # Append last article and chapter\n",
    "    if current_article:\n",
    "        current_chapter[\"articles\"].append(current_article)\n",
    "    if current_chapter:\n",
    "        law_data[\"chapters\"].append(current_chapter)\n",
    "\n",
    "    return law_data\n",
    "\n",
    "# Define the file path to your text file\n",
    "file_path = \"translated_luat_giao_duc.txt\"\n",
    "law_json = read_law_text(file_path)\n",
    "\n",
    "# Save the output as a JSON file\n",
    "with open(\"translated_luat_giao_duc.json\", \"w\", encoding=\"utf-8\") as f:\n",
    "    json.dump(law_json, f, ensure_ascii=False, indent=4)\n",
    "\n",
    "print(\"Conversion to JSON complete. Output saved as 'translated_luat_giao_duc.json'.\")\n"
   ]
  },
  {
   "cell_type": "code",
   "execution_count": null,
   "id": "7d3c2dd7-f64a-4dc7-a4e3-3e8aadfa720f",
   "metadata": {},
   "outputs": [],
   "source": [
    "# faq_documents = {\n",
    "#     'data-engineering-zoomcamp': '19bnYs80DwuUimHM65UV3sylsCn2j1vziPOwzBwQrebw',\n",
    "#     'machine-learning-zoomcamp': '1LpPanc33QJJ6BSsyxVg-pWNMplal84TdZtq10naIhD8',\n",
    "#     'mlops-zoomcamp': '12TlBfhIiKtyBv8RnsoJR6F72bkPDGEvPOItJIxaEzE0',\n",
    "# }"
   ]
  },
  {
   "cell_type": "code",
   "execution_count": null,
   "id": "f94efe26-05e8-4ae5-a0fa-0a8e16852816",
   "metadata": {},
   "outputs": [
    {
     "name": "stdout",
     "output_type": "stream",
     "text": [
      "data-engineering-zoomcamp\n",
      "machine-learning-zoomcamp\n",
      "mlops-zoomcamp\n"
     ]
    }
   ],
   "source": [
    "documents = []\n",
    "\n",
    "for course, file_id in faq_documents.items():\n",
    "    print(course)\n",
    "    course_documents = read_faq(file_id)\n",
    "    documents.append({'course': course, 'documents': course_documents})"
   ]
  },
  {
   "cell_type": "code",
   "execution_count": 2,
   "id": "06b8d8be-f656-4cc3-893f-b159be8fda21",
   "metadata": {},
   "outputs": [],
   "source": [
    "import json"
   ]
  },
  {
   "cell_type": "code",
   "execution_count": null,
   "id": "30d50bc1-8d26-44ee-8734-cafce05e0523",
   "metadata": {},
   "outputs": [
    {
     "name": "stdout",
     "output_type": "stream",
     "text": [
      "[\n",
      "  {\n",
      "    \"article_number\": \"1\",\n",
      "    \"title\": \"Phạm vi điều chỉnh\",\n",
      "    \"content\": \"Luật này quy định về hệ thống giáo dục quốc dân; cơ sở giáo dục, nhà giáo, người học; quản lý nhà nước về giáo dục; quyền và trách nhiệm của cơ quan, tổ chức, cá nhân liên quan đến hoạt động giáo dục. \"\n",
      "  },\n",
      "  {\n",
      "    \"article_number\": \"2\",\n",
      "    \"title\": \"Mục tiêu giáo dục\",\n",
      "    \"content\": \"Mục tiêu giáo dục nhằm phát triển toàn diện con người Việt Nam có đạo đức, tri thức, văn hóa, sức khỏe, thẩm mỹ và nghề nghiệp; có phẩm chất, năng lực và ý thức công dân; có lòng yêu nước, tinh thần dân tộc, trung thành với lý tưởng độc lập dân tộc và chủ nghĩa xã hội; phát huy tiềm năng, khả năng sáng tạo của mỗi cá nhân; nâng cao dân trí, phát triển nguồn nhân lực, bồi dưỡng nhân tài, đáp ứng yêu cầu của sự nghiệp xây dựng, bảo vệ Tổ quốc và hội nhập quốc tế. \"\n"
     ]
    }
   ],
   "source": [
    "\n",
    "# with open('documents.json', 'wt') as f_out:\n",
    "#     json.dump(documents, f_out, indent=2)\n",
    "with open('luat_giao_duc.json', 'wt') as f_out:\n",
    "    json.dump(law_json, f_out, indent=2)\n"
   ]
  },
  {
   "cell_type": "code",
   "execution_count": 7,
   "id": "0eabb1c6-5cc6-4d4d-a6da-e27d41cea546",
   "metadata": {},
   "outputs": [
    {
     "name": "stdout",
     "output_type": "stream",
     "text": [
      "\"articles\""
     ]
    }
   ],
   "source": [
    "!head luat_giao_duc.json"
   ]
  },
  {
   "cell_type": "code",
   "execution_count": null,
   "id": "1b21af5c-2f6d-49e7-92e9-ca229e2473b9",
   "metadata": {},
   "outputs": [],
   "source": []
  }
 ],
 "metadata": {
  "kernelspec": {
   "display_name": "conda_env",
   "language": "python",
   "name": "python3"
  },
  "language_info": {
   "codemirror_mode": {
    "name": "ipython",
    "version": 3
   },
   "file_extension": ".py",
   "mimetype": "text/x-python",
   "name": "python",
   "nbconvert_exporter": "python",
   "pygments_lexer": "ipython3",
   "version": "3.10.14"
  }
 },
 "nbformat": 4,
 "nbformat_minor": 5
}
