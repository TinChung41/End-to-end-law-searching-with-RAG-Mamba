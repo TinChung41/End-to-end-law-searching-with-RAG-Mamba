{
 "cells": [
  {
   "cell_type": "code",
   "execution_count": 19,
   "id": "7ba3282a-6099-44b3-81c6-ba4b73d80e7b",
   "metadata": {},
   "outputs": [],
   "source": [
    "import json\n",
    "\n",
    "json_file_path = '/app/Law_corpus/law-corpus.json'\n",
    "\n",
    "with open(json_file_path, 'rt') as f_in:\n",
    "    docs_raw = json.load(f_in)\n",
    "# docs_raw = [docs_raw]\n",
    "docs_raw\n",
    "\n",
    "documents = []\n",
    "\n",
    "for law_title, law_data in docs_raw.items():\n",
    "    law_title = law_data.get(\"law_title\")\n",
    "    law_number = law_data.get(\"law_number\")\n",
    "    chapters = law_data.get(\"chapters\", [])\n",
    "    \n",
    "    for chapter in chapters:\n",
    "        chapter_title = chapter.get(\"chapter_title\")\n",
    "        articles = chapter.get(\"articles\", [])\n",
    "        \n",
    "        for article in articles:\n",
    "            doc = {\n",
    "                \"law_title\": law_title,\n",
    "                \"law_number\": law_number,\n",
    "                \"chapter_title\": chapter_title,\n",
    "                \"article_number\": article.get(\"article_number\"),\n",
    "                \"title\": article.get(\"title\"),\n",
    "                \"content\": article.get(\"content\")\n",
    "            }\n",
    "            documents.append(doc)"
   ]
  },
  {
   "cell_type": "code",
   "execution_count": 7,
   "id": "5266a8e3",
   "metadata": {},
   "outputs": [
    {
     "data": {
      "text/plain": [
       "{'law_title': 'Luật Giáo Dục',\n",
       " 'law_number': 'Luật số: 43/2019/QH14',\n",
       " 'chapter_title': 'Chương I',\n",
       " 'article_number': 'Điều 1',\n",
       " 'title': 'Phạm vi điều chỉnh',\n",
       " 'content': 'Luật này quy định về hệ thống giáo dục quốc dân; cơ sở giáo dục, nhà giáo, người học; quản lý nhà nước về giáo dục; quyền và trách nhiệm của cơ quan, tổ chức, cá nhân liên quan đến hoạt động giáo dục. '}"
      ]
     },
     "execution_count": 7,
     "metadata": {},
     "output_type": "execute_result"
    }
   ],
   "source": [
    "documents[0]"
   ]
  },
  {
   "cell_type": "code",
   "execution_count": 8,
   "id": "9880aca9-ae97-42f5-9aa5-37bb46448841",
   "metadata": {},
   "outputs": [],
   "source": [
    "import hashlib\n",
    "\n",
    "def generate_document_id(doc):\n",
    "    # combined = f\"{doc['course']}-{doc['question']}\"\n",
    "    combined = f\"{doc['law_title']}-{doc['chapter_title']}-{doc['title']}-{doc['content'][:10]}\"\n",
    "    hash_object = hashlib.md5(combined.encode())\n",
    "    hash_hex = hash_object.hexdigest()\n",
    "    document_id = hash_hex[:8]\n",
    "    return document_id"
   ]
  },
  {
   "cell_type": "code",
   "execution_count": 9,
   "id": "66719b38-04f3-41a8-bdd8-f33f04fe9367",
   "metadata": {},
   "outputs": [],
   "source": [
    "for doc in documents:\n",
    "    doc['id'] = generate_document_id(doc)"
   ]
  },
  {
   "cell_type": "code",
   "execution_count": 10,
   "id": "d4672632-acc2-4c1c-96b4-d30f24598aa1",
   "metadata": {},
   "outputs": [
    {
     "data": {
      "text/plain": [
       "{'law_title': 'Luật Giáo Dục',\n",
       " 'law_number': 'Luật số: 43/2019/QH14',\n",
       " 'chapter_title': 'Chương I',\n",
       " 'article_number': 'Điều 4',\n",
       " 'title': 'Phát triển giáo dục',\n",
       " 'content': '1. Phát triển giáo dục là quốc sách hàng đầu. 2. Phát triển giáo dục phải gắn với nhu cầu phát triển kinh tế - xã hội, tiến bộ khoa học, công nghệ, củng cố quốc phòng, an ninh; thực hiện chuẩn hóa, hiện đại hóa, xã hội hóa; bảo đảm cân đối cơ cấu ngành nghề, trình độ, nguồn nhân lực và phù hợp vùng miền; mở rộng quy mô trên cơ sở bảo đảm chất lượng và hiệu quả; kết hợp giữa đào tạo và sử dụng. 3. Phát triển hệ thống giáo dục mở, xây dựng xã hội học tập nhằm tạo cơ hội để mọi người được tiếp cận giáo dục, được học tập ở mọi trình độ, mọi hình thức, học tập suốt đời. ',\n",
       " 'id': '06ce8ae6'}"
      ]
     },
     "execution_count": 10,
     "metadata": {},
     "output_type": "execute_result"
    }
   ],
   "source": [
    "documents[3]"
   ]
  },
  {
   "cell_type": "code",
   "execution_count": 11,
   "id": "470b703c-29d6-4ca8-a68e-4c461b3e7a90",
   "metadata": {},
   "outputs": [],
   "source": [
    "from collections import defaultdict"
   ]
  },
  {
   "cell_type": "code",
   "execution_count": 12,
   "id": "410f08db-2302-4c50-926c-511037b46c90",
   "metadata": {},
   "outputs": [],
   "source": [
    "hashes = defaultdict(list)\n",
    "\n",
    "for doc in documents:\n",
    "    doc_id = doc['id']\n",
    "    hashes[doc_id].append(doc)"
   ]
  },
  {
   "cell_type": "code",
   "execution_count": 13,
   "id": "47c69c01-e952-4818-a307-94ea224ca423",
   "metadata": {},
   "outputs": [
    {
     "data": {
      "text/plain": [
       "(314, 314)"
      ]
     },
     "execution_count": 13,
     "metadata": {},
     "output_type": "execute_result"
    }
   ],
   "source": [
    "len(hashes), len(documents)"
   ]
  },
  {
   "cell_type": "code",
   "execution_count": 14,
   "id": "c3e495f9-fdac-436f-88e9-44ae68844ee3",
   "metadata": {},
   "outputs": [],
   "source": [
    "for k, values in hashes.items():\n",
    "    if len(values) > 1:\n",
    "        print(k, len(values))"
   ]
  },
  {
   "cell_type": "code",
   "execution_count": 15,
   "id": "56bed2ec-9b14-4e7c-9db4-87900b30a674",
   "metadata": {},
   "outputs": [
    {
     "data": {
      "text/plain": [
       "[]"
      ]
     },
     "execution_count": 15,
     "metadata": {},
     "output_type": "execute_result"
    }
   ],
   "source": [
    "hashes['593f7569']"
   ]
  },
  {
   "cell_type": "code",
   "execution_count": 16,
   "id": "4d25e980-8a04-4186-94ef-c357bdc1b255",
   "metadata": {},
   "outputs": [],
   "source": [
    "import json\n",
    "import os"
   ]
  },
  {
   "cell_type": "code",
   "execution_count": 17,
   "id": "686a488a-67af-4f21-8538-2180dc085fa2",
   "metadata": {},
   "outputs": [],
   "source": [
    "output_dir = \"./Law_corpus\"\n",
    "output_path = os.path.join(output_dir, 'documents-with-ids.json')\n",
    "\n",
    "with open(output_path, 'wt') as f_out:\n",
    "    json.dump(documents, f_out, ensure_ascii=False, indent=4)"
   ]
  },
  {
   "cell_type": "code",
   "execution_count": 12,
   "id": "c567515e-a923-487f-9b4d-9f4ce370e2ca",
   "metadata": {},
   "outputs": [
    {
     "name": "stdout",
     "output_type": "stream",
     "text": [
      "[\n",
      "    {\n",
      "        \"law_title\": \"Luật Giáo Dục\",\n",
      "        \"law_number\": \"Luật số: 43/2019/QH14\",\n",
      "        \"chapter_title\": \"Chương I\",\n",
      "        \"article_number\": \"Điều 1\",\n",
      "        \"title\": \"Phạm vi điều chỉnh\",\n",
      "        \"content\": \"Luật này quy định về hệ thống giáo dục quốc dân; cơ sở giáo dục, nhà giáo, người học; quản lý nhà nước về giáo dục; quyền và trách nhiệm của cơ quan, tổ chức, cá nhân liên quan đến hoạt động giáo dục. \",\n",
      "        \"id\": \"75a9286e\"\n",
      "    },\n"
     ]
    }
   ],
   "source": [
    "!head ./Law_corpus/documents-with-ids.json"
   ]
  },
  {
   "cell_type": "code",
   "execution_count": 13,
   "id": "19652f30",
   "metadata": {},
   "outputs": [],
   "source": [
    "import json\n",
    "\n",
    "with open('/app/Law_corpus/documents-with-ids.json', 'rt') as f_in:  # Use /app, not the Windows path\n",
    "    documents = json.load(f_in)"
   ]
  },
  {
   "cell_type": "code",
   "execution_count": 15,
   "id": "0ff7624e",
   "metadata": {},
   "outputs": [
    {
     "data": {
      "text/plain": [
       "{'law_title': 'Luật Giáo Dục',\n",
       " 'law_number': 'Luật số: 43/2019/QH14',\n",
       " 'chapter_title': 'Chương I',\n",
       " 'article_number': 'Điều 1',\n",
       " 'title': 'Phạm vi điều chỉnh',\n",
       " 'content': 'Luật này quy định về hệ thống giáo dục quốc dân; cơ sở giáo dục, nhà giáo, người học; quản lý nhà nước về giáo dục; quyền và trách nhiệm của cơ quan, tổ chức, cá nhân liên quan đến hoạt động giáo dục. ',\n",
       " 'id': '75a9286e'}"
      ]
     },
     "execution_count": 15,
     "metadata": {},
     "output_type": "execute_result"
    }
   ],
   "source": [
    "documents[0]"
   ]
  },
  {
   "cell_type": "code",
   "execution_count": 24,
   "id": "1c062325-5608-4da6-80bf-b9ac371bc17f",
   "metadata": {},
   "outputs": [],
   "source": [
    "prompt_template = \"\"\"\n",
    "Bạn mô phỏng một người dùng đang tìm kiếm trợ lý luật.\n",
    "Dựa trên hồ sơ Luật Việt Nam được cung cấp, hãy tạo ra **1 cặp câu hỏi và câu trả lời** (question-answer pair).\n",
    "Câu hỏi phải liên quan trực tiếp đến nội dung của hồ sơ luật, và câu trả lời phải được trích xuất từ thông tin trong hồ sơ.\n",
    "Hãy đảm bảo rằng câu hỏi đầy đủ và rõ ràng, và câu trả lời vừa đủ, không dài không ngắn, chính xác.\n",
    "\n",
    "Hồ sơ luật:\n",
    "\n",
    "law_title: {law_title}\n",
    "title: {title}\n",
    "content: {content}\n",
    "\n",
    "Cung cấp đầu ra dưới dạng JSON có thể phân tích được mà không sử dụng các khối mã:\n",
    "\n",
    "{{\n",
    "  \"question\": \"Câu hỏi được tạo dựa trên hồ sơ luật\",\n",
    "  \"answer\": \"Câu trả lời được trích xuất từ hồ sơ luật\"\n",
    "}}\n",
    "\"\"\".strip()"
   ]
  },
  {
   "cell_type": "code",
   "execution_count": 3,
   "id": "51b8f259-eed8-4a50-b50c-2186fb154853",
   "metadata": {},
   "outputs": [],
   "source": [
    "import os\n",
    "from openai import OpenAI\n",
    "from dotenv import load_dotenv\n",
    "\n",
    "load_dotenv() \n",
    "DEEPSEEK_API_KEY = os.environ.get(\"DEEPSEEK_API_KEY\")\n",
    "client = OpenAI(\n",
    "    api_key = DEEPSEEK_API_KEY,\n",
    "    base_url=\"https://api.deepseek.com\"\n",
    ")"
   ]
  },
  {
   "cell_type": "code",
   "execution_count": 21,
   "id": "534ac1ae-b5e0-43a7-b8ad-103fd56ced54",
   "metadata": {},
   "outputs": [],
   "source": [
    "def generate_questions(doc):\n",
    "    prompt = prompt_template.format(**doc)\n",
    "\n",
    "    response = client.chat.completions.create(\n",
    "        model=\"deepseek-chat\",\n",
    "        messages=[\n",
    "            {\"role\": \"user\", \"content\": prompt}\n",
    "        ],\n",
    "        stream=False\n",
    "    )\n",
    "\n",
    "    json_response = response.choices[0].message.content\n",
    "    return json_response"
   ]
  },
  {
   "cell_type": "code",
   "execution_count": 25,
   "id": "a662c581",
   "metadata": {},
   "outputs": [
    {
     "data": {
      "application/vnd.jupyter.widget-view+json": {
       "model_id": "fbba1333e910405482fbf65667e8f34e",
       "version_major": 2,
       "version_minor": 0
      },
      "text/plain": [
       "  0%|          | 0/1 [00:00<?, ?it/s]"
      ]
     },
     "metadata": {},
     "output_type": "display_data"
    },
    {
     "name": "stdout",
     "output_type": "stream",
     "text": [
      "{'2bb7dafa': '```json\\n{\\n  \"question\": \"Ai là người ký thông qua Luật Giao Thông Đường Bộ được Quốc hội khóa XII, kỳ họp thứ 4 thông qua ngày 13 tháng 11 năm 2008?\",\\n  \"answer\": \"CHỦ TỊCH QUỐC HỘI Nguyễn Phú Trọng\"\\n}\\n```'}\n"
     ]
    }
   ],
   "source": [
    "from tqdm.auto import tqdm\n",
    "\n",
    "# Initialize an empty dictionary to store results\n",
    "results = {}\n",
    "\n",
    "# Select only the first document for testing\n",
    "test_document = [documents[-1]]\n",
    "\n",
    "# Loop through the test document (only 1 document in this case)\n",
    "for doc in tqdm(test_document): \n",
    "    doc_id = doc['id']\n",
    "    \n",
    "    # Skip if the document ID is already in results (not necessary here, but kept for consistency)\n",
    "    if doc_id in results:\n",
    "        continue\n",
    "\n",
    "    # Generate questions for the document\n",
    "    questions = generate_questions(doc)\n",
    "    \n",
    "    # Store the result\n",
    "    results[doc_id] = questions\n",
    "\n",
    "# Print the results for verification\n",
    "print(results)"
   ]
  },
  {
   "cell_type": "code",
   "execution_count": 17,
   "id": "eb2353f8-411b-4ab9-a4c2-0d158495491e",
   "metadata": {},
   "outputs": [],
   "source": [
    "from tqdm.auto import tqdm"
   ]
  },
  {
   "cell_type": "code",
   "execution_count": 18,
   "id": "25a48077-18c0-4d31-82ab-00a44d426279",
   "metadata": {},
   "outputs": [],
   "source": [
    "results = {}"
   ]
  },
  {
   "cell_type": "code",
   "execution_count": 25,
   "id": "742f4b7c-7632-4475-b6df-b3c02d343287",
   "metadata": {},
   "outputs": [
    {
     "data": {
      "application/vnd.jupyter.widget-view+json": {
       "model_id": "cd0340b2cdf04430a333fd7e78bdedd7",
       "version_major": 2,
       "version_minor": 0
      },
      "text/plain": [
       "  0%|          | 0/314 [00:00<?, ?it/s]"
      ]
     },
     "metadata": {},
     "output_type": "display_data"
    }
   ],
   "source": [
    "for doc in tqdm(documents): \n",
    "    doc_id = doc['id']\n",
    "    if doc_id in results:\n",
    "        continue\n",
    "\n",
    "    questions = generate_questions(doc)\n",
    "    results[doc_id] = questions"
   ]
  },
  {
   "cell_type": "code",
   "execution_count": 43,
   "id": "1dd42d55",
   "metadata": {},
   "outputs": [
    {
     "data": {
      "text/plain": [
       "{'75a9286e': '[\\n    \"Luật Giáo Dục điều chỉnh những đối tượng nào trong hệ thống giáo dục quốc dân?\",\\n    \"Những quyền và trách nhiệm nào của cá nhân liên quan đến hoạt động giáo dục được quy định trong Luật này?\",\\n    \"Cơ sở giáo dục và nhà giáo thuộc phạm vi điều chỉnh của Luật Giáo Dục không?\",\\n    \"Luật quy định về vấn đề quản lý nhà nước trong giáo dục như thế nào?\",\\n    \"Những hoạt động giáo dục nào được Luật Giáo Dục quy định cụ thể?\"\\n]',\n",
       " '82b52978': '[\\n  \"Mục tiêu giáo dục của Việt Nam là gì?\",\\n  \"Luật Giáo Dục xác định những phẩm chất nào cần có ở học sinh?\",\\n  \"Làm thế nào để phát triển tiềm năng và khả năng sáng tạo của học sinh?\",\\n  \"Luật Giáo Dục có nhấn mạnh về lòng yêu nước hay không?\",\\n  \"Mục tiêu giáo dục có liên quan gì đến sự nghiệp xây dựng Tổ quốc và hội nhập quốc tế?\"\\n]',\n",
       " 'e0e71ffa': '[\\n  \"Nền giáo dục Việt Nam có đặc điểm gì nổi bật?\",\\n  \"Nguyên lý giáo dục nào được áp dụng trong hệ thống giáo dục Việt Nam?\",\\n  \"Ai là nền tảng tư tưởng của nền giáo dục Việt Nam?\",\\n  \"Hoạt động giáo dục ở Việt Nam được thực hiện dựa trên những nguyên tắc nào?\",\\n  \"Mối quan hệ giữa giáo dục nhà trường, giáo dục gia đình và giáo dục xã hội được hiểu như thế nào?\"\\n]',\n",
       " '06ce8ae6': '[\\n    \"Phát triển giáo dục được xem là gì trong chính sách quốc gia của Việt Nam?\",\\n    \"Những yếu tố nào cần gắn kết trong phát triển giáo dục theo Luật Giáo Dục?\",\\n    \"Phát triển giáo dục cần đảm bảo điều gì về chất lượng và hiệu quả?\",\\n    \"Luật Giáo Dục nhấn mạnh sự hình thành loại hình giáo dục nào để hỗ trợ học tập suốt đời?\",\\n    \"Mục tiêu chính của việc phát triển hệ thống giáo dục là gì theo Luật Giáo Dục?\"\\n]',\n",
       " 'fb59a648': '[\"Giáo dục chính quy được định nghĩa như thế nào trong Luật Giáo Dục?\", \"Khái niệm giáo dục thường xuyên là gì và có điểm gì đặc biệt?\", \"Kiểm định chất lượng giáo dục có ý nghĩa gì theo Luật Giáo Dục?\", \"Chuẩn đầu ra của một chương trình giáo dục là gì?\", \"Ai được coi là nhà đầu tư trong lĩnh vực giáo dục theo quy định của Luật này?\"]',\n",
       " 'f01c46b4': '[\\n  \"Hệ thống giáo dục quốc dân bao gồm những cấp học nào?\",\\n  \"Thủ tướng Chính phủ có vai trò gì trong việc quy định khung hệ thống giáo dục?\",\\n  \"Các trình độ đào tạo nào có trong giáo dục nghề nghiệp?\",\\n  \"Ai quy định ngưỡng đầu vào cho trình độ đại học thuộc ngành giáo viên?\",\\n  \"Hệ thống giáo dục quốc dân có những hình thức đào tạo nào?\"\\n]',\n",
       " '970cc3cd': '[\"Nội dung giáo dục cần đáp ứng những tiêu chí nào trong Luật Giáo Dục?\", \"Các yêu cầu về phương pháp giáo dục theo Luật Giáo Dục là gì?\", \"Luật Giáo Dục quy định như thế nào về việc cập nhật nội dung giáo dục?\", \"Làm thế nào để giáo dục tư tưởng và phẩm chất đạo đức được chú trọng trong Luật Giáo Dục?\", \"Luật Giáo Dục yêu cầu gì về năng lực tự học và hợp tác của người học?\"]',\n",
       " '6a6e84fb': '[\\n    \"Chương trình giáo dục có vai trò gì trong việc xác định mục tiêu giáo dục?\",\\n    \"Những yếu tố nào cần đảm bảo trong chương trình giáo dục để phù hợp với thực tiễn?\",\\n    \"Cách thức mà kiến thức và kỹ năng được cụ thể hóa trong chương trình giáo dục là gì?\",\\n    \"Chương trình giáo dục được tổ chức thực hiện theo những phương thức nào?\",\\n    \"Ai là người quy định việc thực hiện chương trình giáo dục và công nhận giá trị chuyển đổi kết quả học tập?\"\\n]',\n",
       " 'a8c67f16': '[\\n    \"Hướng nghiệp trong giáo dục là gì và có vai trò như thế nào đối với học sinh?\",\\n    \"Phân luồng trong giáo dục là gì và tại sao nó lại quan trọng?\",\\n    \"Chính phủ quy định về hướng nghiệp và phân luồng trong giáo dục như thế nào?\",\\n    \"Các biện pháp nào được sử dụng để thực hiện hướng nghiệp cho học sinh?\",\\n    \"Hướng nghiệp và phân luồng có ảnh hưởng gì đến nhu cầu lao động của xã hội?\"\\n]',\n",
       " '8152392a': '[\"Liên thông trong giáo dục là gì và có ý nghĩa như thế nào?\", \"Điều kiện nào cần phải đáp ứng để thực hiện liên thông trong giáo dục?\", \"Chương trình giáo dục liên thông được thiết kế như thế nào?\", \"Có phải học lại kiến thức cũ khi liên thông không?\", \"Ai là người quy định chi tiết về liên thông giữa các cấp học trong hệ thống giáo dục?\"]',\n",
       " '1095c99a': '[\"Ngôn ngữ chính thức trong cơ sở giáo dục là gì?\", \"Chính phủ có quy định gì về việc dạy tiếng nước ngoài trong giáo dục không?\", \"Nhà nước có khuyến khích việc học tiếng nói của dân tộc thiểu số không?\", \"Người khuyết tật có quyền học bằng ngôn ngữ nào theo luật không?\", \"Ngoại ngữ nào được quy định trong chương trình giáo dục là chính?\"]',\n",
       " '62fe6274': '[\"Văn bằng của hệ thống giáo dục quốc dân được cấp cho đối tượng nào?\", \"Có những loại văn bằng nào trong hệ thống giáo dục quốc dân?\", \"Chứng chỉ trong giáo dục quốc dân được cấp cho ai và nhằm mục đích gì?\", \"Văn bằng và chứng chỉ do cơ sở giáo dục nào cấp có giá trị pháp lý ra sao?\", \"Chính phủ có quy định gì về hệ thống văn bằng giáo dục đại học không?\"]',\n",
       " '0c519e7b': '[\"Học tập có phải là quyền và nghĩa vụ của công dân không?\", \"Ai là những người được ưu tiên trong giáo dục theo luật?\", \"Nhà nước có trách nhiệm gì trong việc thực hiện quyền học tập?\", \"Có điều kiện nào để đảm bảo mọi công dân bình đẳng trong giáo dục không?\", \"Luật nào quy định về quyền học tập của trẻ em có hoàn cảnh đặc biệt?\"]',\n",
       " '536a066d': '[\\n  \"Giáo dục nào được xem là giáo dục bắt buộc theo Luật Giáo Dục?\",\\n  \"Nhà nước có trách nhiệm gì trong việc thực hiện phổ cập giáo dục?\",\\n  \"Ai có nghĩa vụ thực hiện giáo dục bắt buộc theo luật?\",\\n  \"Gia đình cần làm gì để hỗ trợ việc phổ cập giáo dục?\",\\n  \"Độ tuổi nào được quy định để tham gia giáo dục bắt buộc?\"\\n]',\n",
       " '3b94b861': '[\"Giáo dục hòa nhập là gì và có những đặc điểm nào?\", \"Luật nào quy định về giáo dục hòa nhập cho trẻ em có hoàn cảnh đặc biệt?\", \"Nhà nước có chính sách nào hỗ trợ giáo dục hòa nhập cho người khuyết tật?\", \"Lợi ích của giáo dục hòa nhập đối với người học là gì?\", \"Có phân biệt đối xử trong giáo dục hòa nhập không?\"]',\n",
       " 'de8a8f73': '[\\n    \"Luật Giáo Dục có quy định gì về vai trò của Nhà nước trong phát triển giáo dục?\",\\n    \"Những chính sách nào được đưa ra để khuyến khích tổ chức và cá nhân tham gia vào sự nghiệp giáo dục?\",\\n    \"Ai có trách nhiệm trong việc chăm lo sự nghiệp giáo dục và thiết lập môi trường giáo dục an toàn?\",\\n    \"Luật có quy định như thế nào về khen thưởng cho các tổ chức và cá nhân có thành tích trong giáo dục?\",\\n    \"Nội dung của xã hội hóa sự nghiệp giáo dục bao gồm những gì theo Luật Giáo Dục?\"\\n]',\n",
       " '73d171d2': '[\"Đầu tư cho giáo dục được định nghĩa như thế nào trong Luật Giáo Dục?\", \"Nhà nước có ưu tiên gì đối với đầu tư cho giáo dục không?\", \"Tổ chức và cá nhân nào được khuyến khích đầu tư cho giáo dục?\", \"Ngân sách nhà nước đóng vai trò gì trong đầu tư giáo dục?\", \"Nhà nước hỗ trợ như thế nào cho giáo dục ở vùng khó khăn?\"]',\n",
       " 'f74d0b82': '[\\n    \"Cán bộ quản lý giáo dục có vai trò gì trong hệ thống giáo dục?\",\\n    \"Những trách nhiệm nào mà cán bộ quản lý giáo dục cần thực hiện?\",\\n    \"Cán bộ quản lý giáo dục cần nâng cao phẩm chất và trình độ như thế nào?\",\\n    \"Nhà nước có chính sách gì để cải thiện chất lượng đội ngũ cán bộ quản lý giáo dục?\",\\n    \"Tại sao việc tổ chức và điều hành hoạt động giáo dục lại quan trọng đối với cán bộ quản lý?\"\\n]',\n",
       " '3f0e7c5a': '[\\n    \"Hoạt động khoa học và công nghệ là gì trong Luật Giáo Dục?\",\\n    \"Cơ sở giáo dục có trách nhiệm gì trong việc phát triển khoa học và công nghệ?\",\\n    \"Nhà nước hỗ trợ cơ sở giáo dục như thế nào trong hoạt động khoa học và công nghệ?\",\\n    \"Các chính sách giáo dục được xây dựng dựa trên điều gì?\",\\n    \"Hoạt động khoa học và công nghệ góp phần gì cho sự phát triển kinh tế - xã hội?\"\\n]',\n",
       " 'a27c4d52': '[\"Luật Giáo Dục quy định như thế nào về việc truyền bá tôn giáo trong trường học?\", \"Có những tổ chức nào không được phép thực hiện nghi lễ tôn giáo trong cơ sở giáo dục không?\", \"Liệu giáo viên có được truyền bá tôn giáo trong lớp học hay không?\", \"Những hình thức nào bị cấm trong cơ sở giáo dục liên quan đến tôn giáo?\", \"Luật này áp dụng cho tất cả các cơ sở giáo dục trong hệ thống giáo dục quốc dân chứ?\"]',\n",
       " '323f7d91': '[\"Hoạt động giáo dục nào bị cấm lợi dụng theo Luật Giáo Dục?\", \"Những hành vi nào bị nghiêm cấm trong hoạt động giáo dục?\", \"Có những hình thức nào bị cấm trong hoạt động giáo dục vì mục đích vụ lợi?\", \"Luật Giáo Dục quy định như thế nào về việc xuyên tạc chủ trương của Nhà nước?\", \"Có những tệ nạn xã hội nào không được lôi kéo người học tham gia trong giáo dục?\"]',\n",
       " '3688cb9d': '[\\n    \"Giáo dục mầm non có vai trò gì trong hệ thống giáo dục quốc dân của Việt Nam?\",\\n    \"Mục tiêu chính của giáo dục mầm non là gì?\",\\n    \"Đối tượng nào được giáo dục trong cấp học mầm non?\",\\n    \"Giáo dục mầm non tác động như thế nào đến sự phát triển của trẻ em?\",\\n    \"Giáo dục mầm non chuẩn bị cho trẻ em vào học lớp mấy?\"\\n]',\n",
       " '60d219bb': '[\\n  \"Nội dung giáo dục mầm non cần bảo đảm điều gì theo Luật Giáo Dục?\",\\n  \"Phương pháp giáo dục mầm non được quy định ra sao?\",\\n  \"Các yếu tố nào cần được cân nhắc trong giáo dục mầm non?\",\\n  \"Giáo dục nhà trẻ nhằm mục đích gì theo quy định của Luật?\",\\n  \"Luật Giáo Dục yêu cầu giáo dục mẫu giáo phải làm gì để phát triển trẻ em?\"\\n]',\n",
       " '7bbe02ec': '[\"Chương trình giáo dục mầm non cần đáp ứng những yêu cầu gì?\", \"Ai là người thẩm định chương trình giáo dục mầm non?\", \"Hội đồng quốc gia thẩm định chương trình giáo dục mầm non có thành phần gồm những ai?\", \"Bộ trưởng Bộ Giáo dục và Đào tạo có trách nhiệm gì trong việc ban hành chương trình giáo dục mầm non?\", \"Những tiêu chuẩn nào được quy định trong chương trình giáo dục mầm non?\"]',\n",
       " 'a0fcdc5b': '[\\n    \"Cơ sở giáo dục mầm non gồm những loại hình nào?\",\\n    \"Độ tuổi nào được nhận vào nhà trẻ?\",\\n    \"Trường mẫu giáo nhận trẻ từ độ tuổi nào?\",\\n    \"Cơ sở nào nhận trẻ em từ 03 tháng đến 06 tuổi?\",\\n    \"Nhóm trẻ độc lập là gì trong hệ thống giáo dục mầm non?\"\\n]',\n",
       " 'a0e71011': '[\"Nhà nước có những chính sách gì để phát triển giáo dục mầm non?\", \"Có những khu vực nào được ưu tiên phát triển giáo dục mầm non?\", \"Làm thế nào để tổ chức, cá nhân có thể đầu tư vào giáo dục mầm non?\", \"Chính phủ có quy định gì chi tiết về giáo dục mầm non?\", \"Nhà nước có hỗ trợ gì cho những vùng có điều kiện khó khăn trong giáo dục mầm non?\"]',\n",
       " '622d16f1': '[\\n    \"Luật quy định các cấp học và độ tuổi của giáo dục phổ thông như thế nào?\",\\n    \"Tuổi tối thiểu để vào học lớp một là bao nhiêu?\",\\n    \"Có những trường hợp nào cho phép học sinh học vượt lớp?\",\\n    \"Giáo dục phổ thông được chia thành những giai đoạn nào?\",\\n    \"Ai có thẩm quyền quy định việc dạy và học tiếng Việt cho trẻ em dân tộc thiểu số?\"\\n]',\n",
       " '15742b71': '[\"Mục tiêu giáo dục phổ thông là gì?\", \"Giáo dục tiểu học có vai trò gì trong sự phát triển của học sinh?\", \"Các yếu tố nào được giáo dục trung học cơ sở củng cố và phát triển?\", \"Lợi ích của giáo dục trung học phổ thông đối với người học là gì?\", \"Chương trình nào giáo dục phổ thông chuẩn bị cho học sinh tham gia sau khi tốt nghiệp?\"]',\n",
       " '94f2ab8e': '[\\n    \"Nội dung giáo dục phổ thông được quy định như thế nào trong Luật Giáo Dục?\",\\n    \"Có những yêu cầu cụ thể nào cho giáo dục tiểu học theo Luật này?\",\\n    \"Giáo dục trung học cơ sở có những nội dung gì cần củng cố từ tiểu học?\",\\n    \"Luật yêu cầu gì về phương pháp giáo dục đối với học sinh?\",\\n    \"Giáo dục trung học phổ thông yêu cầu đạt chuẩn kiến thức nào?\"\\n]',\n",
       " '7635a3db': '[\\n    \"Chương trình giáo dục phổ thông phải đảm bảo những yêu cầu gì?\",\\n    \"Ai là người chịu trách nhiệm về chất lượng chương trình giáo dục phổ thông?\",\\n    \"Hội đồng quốc gia thẩm định chương trình giáo dục phổ thông được thành lập như thế nào?\",\\n    \"Thành phần của Hội đồng thẩm định chương trình giáo dục phổ thông bao gồm ai?\",\\n    \"Chương trình giáo dục phổ thông có cần lấy ý kiến rộng rãi trước khi ban hành không?\"\\n]',\n",
       " 'f93b7fdb': '[\"Sách giáo khoa giáo dục phổ thông được quy định như thế nào trong Luật Giáo Dục?\", \"Ai là người quyết định việc lựa chọn sách giáo khoa sử dụng trong cơ sở giáo dục phổ thông?\", \"Hội đồng quốc gia thẩm định sách giáo khoa bao gồm những ai?\", \"Bộ trưởng Bộ Giáo dục và Đào tạo có trách nhiệm gì liên quan đến sách giáo khoa?\", \"Tài liệu giáo dục địa phương được thẩm định bởi ai?\"]',\n",
       " '7bcff432': '[\\n    \"Cơ sở giáo dục phổ thông bao gồm những loại trường nào?\",\\n    \"Trường tiểu học là loại cơ sở giáo dục nào?\",\\n    \"Trường trung học cơ sở thuộc loại cơ sở giáo dục nào?\",\\n    \"Có bao nhiêu loại trường trong hệ thống giáo dục phổ thông?\",\\n    \"Trường phổ thông có nhiều cấp học là gì?\"\\n]',\n",
       " 'f8f74a9c': '[\"Ai là người xác nhận hoàn thành chương trình tiểu học?\", \"Có cần thi để nhận bằng tốt nghiệp trung học phổ thông không?\", \"Ai cấp bằng tốt nghiệp trung học cơ sở?\", \"Giấy chứng nhận hoàn thành chương trình giáo dục phổ thông có tác dụng gì?\", \"Học sinh trung cấp cần điều kiện gì để được cấp giấy chứng nhận kiến thức văn hóa trung học phổ thông?\"]',\n",
       " 'eb3aabd5': '[\"Luật Giáo Dục quy định những trình độ đào tạo nào trong giáo dục nghề nghiệp?\", \"Ai là đối tượng được tham gia vào các chương trình đào tạo nghề nghiệp?\", \"Mục tiêu của giáo dục nghề nghiệp theo luật là gì?\", \"Có bao nhiêu trình độ đào tạo được quy định trong Luật Giáo Dục?\", \"Luật Giáo Dục có quy định về nhu cầu nhân lực trong lĩnh vực nào không?\"]',\n",
       " 'ce4e6b40': '[\"Mục tiêu chính của giáo dục nghề nghiệp là gì?\", \"Giáo dục nghề nghiệp giúp gì cho người học sau khi tốt nghiệp?\", \"Những yếu tố nào được coi là quan trọng trong giáo dục nghề nghiệp?\", \"Giáo dục nghề nghiệp có liên quan đến hội nhập quốc tế như thế nào?\", \"Giáo dục nghề nghiệp ảnh hưởng ra sao đến năng suất và chất lượng lao động?\"]',\n",
       " 'cfb46c1d': '[\"Luật nào quy định về tổ chức giáo dục nghề nghiệp?\", \"Giáo dục đại học thuộc tiểu mục nào trong Luật này?\", \"Các hoạt động giáo dục nghề nghiệp phải tuân theo quy định nào?\", \"Luật nào liên quan đến giáo dục nghề nghiệp?\", \"Tổ chức giáo dục nghề nghiệp chịu sự điều chỉnh của văn bản nào?\"]',\n",
       " 'e66c485e': '[\\n    \"Luật Giáo Dục định nghĩa các trình độ đào tạo nào trong giáo dục đại học?\",\\n    \"Có bao nhiêu trình độ đào tạo được công nhận trong giáo dục đại học theo Luật Giáo Dục?\",\\n    \"Trình độ nào ở bậc giáo dục đại học là cao nhất?\",\\n    \"Luật nào quy định về các trình độ đào tạo giáo dục đại học?\",\\n    \"Giáo dục đại học bao gồm những cấp bậc nào theo quy định của Luật Giáo Dục?\"\\n]',\n",
       " '00640fda': '[\"Mục tiêu chính của giáo dục đại học theo Luật Giáo Dục là gì?\", \"Luật Giáo Dục định nghĩa thế nào về nhân lực trình độ cao?\", \"Giáo dục đại học có vai trò gì trong việc phát triển kinh tế - xã hội?\", \"Những phẩm chất nào được chú trọng trong đào tạo người học đại học?\", \"Luật quy định như thế nào về khả năng tự học và thích nghi của sinh viên?\"]',\n",
       " '78ef411d': '[\\n    \"Tổ chức giáo dục đại học phải tuân thủ những quy định nào?\",\\n    \"Luật nào liên quan đến hoạt động giáo dục đại học?\",\\n    \"Vai trò của Luật Giáo dục trong giáo dục đại học là gì?\",\\n    \"Có những hình thức giáo dục nào ngoài giáo dục đại học không?\",\\n    \"Luật này quy định các hoạt động giáo dục thường xuyên ra sao?\"\\n]',\n",
       " '9f99a6da': '[\"Mục tiêu của giáo dục thường xuyên là gì?\", \"Giáo dục thường xuyên giúp người học như thế nào?\", \"Ai là đối tượng của giáo dục thường xuyên?\", \"Lợi ích của việc học thường xuyên là gì?\", \"Giáo dục thường xuyên có góp phần vào xã hội học tập không?\"]',\n",
       " 'c8eab58e': '[\\n  \"Nhiệm vụ chính của giáo dục thường xuyên theo Luật Giáo Dục là gì?\",\\n  \"Luật Giáo Dục quy định về việc xóa mù chữ như thế nào?\",\\n  \"Giáo dục thường xuyên có nhiệm vụ gì trong việc nâng cao kỹ năng làm việc?\",\\n  \"Người mong muốn học tập nâng cao trình độ học vấn có thể được hỗ trợ ra sao theo luật?\",\\n  \"Luật Giáo Dục yêu cầu những gì đối với việc bồi dưỡng kiến thức và kỹ năng cho người dân?\"\\n]',\n",
       " '630a45e2': '[\\n  \"Chương trình giáo dục thường xuyên bao gồm những nội dung gì?\",\\n  \"Các hình thức thực hiện chương trình giáo dục thường xuyên là gì?\",\\n  \"Nội dung chương trình giáo dục thường xuyên cần đảm bảo tiêu chí nào?\",\\n  \"Phương pháp giáo dục thường xuyên yêu cầu gì đối với người học?\",\\n  \"Ai có thẩm quyền quy định chi tiết về chương trình giáo dục thường xuyên?\"\\n]',\n",
       " 'f37a6eeb': '[\"Cơ sở giáo dục thường xuyên được thành lập ở đâu?\", \"Các loại cơ sở giáo dục thường xuyên bao gồm những loại nào?\", \"Chương trình giáo dục thường xuyên của cơ sở giáo dục được quy định ra sao?\", \"Có cần sự cho phép của cơ quan quản lý để thực hiện chương trình giáo dục thường xuyên không?\", \"Liên kết đào tạo trình độ đại học theo hình thức vừa làm vừa học được quy định như thế nào?\"]',\n",
       " '18bd8d82': '[\"Học viên xóa mù chữ được công nhận khi nào?\", \"Làm thế nào để nhận bằng tốt nghiệp trung học cơ sở?\", \"Học sinh có phải thi để nhận bằng tốt nghiệp trung học phổ thông không?\", \"Điều kiện để được cấp bằng đào tạo là gì?\", \"Chứng chỉ bồi dưỡng được cấp khi nào?\"]',\n",
       " 'ff030746': '[\"Những loại hình nhà trường nào có trong hệ thống giáo dục quốc dân?\", \"Trường dân lập có chức năng gì trong hệ thống giáo dục?\", \"Trường tư thục hoạt động không vì lợi nhuận là gì?\", \"Có thể chuyển đổi loại hình nhà trường từ trường tư thục sang loại hình nào khác không?\", \"Ai là người quy định chi tiết về việc chuyển đổi loại hình nhà trường trong giáo dục?\"]',\n",
       " '35bdafa7': '[\"Trường của cơ quan nhà nước có nhiệm vụ gì trong việc đào tạo cán bộ?\", \"Ai là đối tượng được đào tạo tại trường lực lượng vũ trang nhân dân?\", \"Luật nào quy định hoạt động của các trường trong hệ',\n",
       " 'be76406b': '[\\n    \"Nhà trường cần đáp ứng điều kiện gì để được thành lập theo Luật Giáo Dục?\",\\n    \"Đề án thành lập trường cần bao gồm những nội dung nào?\",\\n    \"Các điều kiện nào cần có để nhà trường được phép hoạt động giáo dục?\",\\n    \"Địa điểm xây dựng trường cần đảm bảo yêu cầu gì theo quy định?\",\\n    \"Nhà trường sẽ bị thu hồi quyết định thành lập trong trường hợp nào?\"\\n]',\n",
       " '4751dc48': '[\\n    \"Nhà trường có thể bị đình chỉ hoạt động giáo dục trong những trường hợp nào?\",\\n    \"Quyết định đình chỉ hoạt động giáo dục cần có nội dung gì?\",\\n    \"Nếu nguyên nhân đình chỉ đã được khắc phục, nhà trường có thể hoạt động trở lại không?\",\\n    \"Có thể áp dụng hình thức xử phạt nào đối với nhà trường trước khi đình chỉ hoạt động giáo dục?\",\\n    \"Thời gian đình chỉ hoạt động giáo dục được quy định như thế nào trong Luật Giáo Dục?\"\\n]',\n",
       " '0d665934': '[\\n    \"Nhà trường cần đảm bảo điều gì khi thực hiện sáp nhập, chia, tách?\",\\n    \"Trong trường hợp nào thì nhà trường bị giải thể theo quy định của Luật Giáo Dục?\",\\n    \"Quyết định về sáp nhập, chia, tách, giải thể nhà trường cần có những thông tin gì?\",\\n    \"Nhà trường cần đáp ứng những yêu cầu nào để đảm bảo quyền lợi của nhà giáo và người học?\",\\n    \"Có những nguyên nhân nào khiến nhà trường bị đình chỉ hoạt động giáo dục?\"\\n]',\n",
       " 'a7d2696b': '[\"Ai có thẩm quyền quyết định thành lập các trường mầm non và tiểu học?\", \"Bộ nào quyết định cho phép hoạt động giáo dục tại cơ sở giáo dục đại học?\", \"Theo quy định, ai có quyền đình chỉ hoạt động của trường học?\", \"Để sáp nhập hai trường mà không cùng cấp, ai sẽ quyết định?\", \"Thủ tục nào cần thực hiện để thành lập một trường theo Luật Giáo Dục?\"]',\n",
       " '266ff403': '[\\n    \"Nội dung chủ yếu của điều lệ nhà trường gồm những gì?\",\\n    \"Ai chịu trách nhiệm ban hành điều lệ nhà trường?\",\\n    \"Quy chế tổ chức và hoạt động của cơ sở giáo dục có vai trò gì?\",\\n    \"Nhà trường có những quyền hạn và nhiệm vụ nào?\",\\n    \"Mối quan hệ giữa nhà trường, gia đình và xã hội được quy định ra sao?\"\\n]',\n",
       " '95354c8a': '[\"Nhà đầu tư trong lĩnh vực giáo dục bao gồm những đối tượng nào?\", \"Quyền lợi của nhà đầu tư trong lĩnh vực giáo dục cụ thể ra sao?\", \"Nhà đầu tư có trách nhiệm gì khi tham gia vào hoạt động giáo dục?\", \"Có những phương thức nào để nhà đầu tư thành lập cơ sở giáo dục tư thục?\", \"Nhà đầu tư có thể thành lập trường tư thục không vì lợi nhuận không?\"]',\n",
       " '1ee3abf7': '[\"Hội đồng trường của trường công lập có chức năng gì?\", \"Thành phần của hội đồng trường đối với nhà trẻ bao gồm những ai?\", \"Hội đồng trường của trường tư thục được quy định như thế nào?\", \"Hội đồng trường có trách nhiệm gì đối với cơ sở giáo dục nghề nghiệp?\", \"Thủ tục thành lập hội đồng trường được quy định ở đâu?\"]',\n",
       " '0a476fe4': '[\\n  \"Hiệu trưởng có vai trò gì trong quản lý trường học?\",\\n  \"Ai là người bổ nhiệm hoặc công nhận hiệu trưởng?\",\\n  \"Để trở thành hiệu trưởng, điều kiện đào tạo nào cần thiết?\",\\n  \"Ai quy định tiêu chuẩn và nhiệm vụ của hiệu trưởng?\",\\n  \"Quy trình bổ nhiệm hiệu trưởng trường nghề và đại học có khác gì so với trường phổ thông không?\"\\n]',\n",
       " 'a7385638': '[\\n    \"Hội đồng tư vấn trong nhà trường được thành lập bởi ai?\",\\n    \"Mục đích của hội đồng tư vấn là gì?\",\\n    \"Sự tổ chức và hoạt động của hội đồng tư vấn được quy định ở đâu?\",\\n    \"Ai là người thực hiện nhiệm vụ của hội đồng tư vấn?\",\\n    \"Hội đồng tư vấn có vai trò gì trong việc hỗ trợ hiệu trưởng?\"\\n]',\n",
       " '4ca71e3d': '[\\n    \"Tổ chức Đảng tại trường học có vai trò gì?\",\\n    \"Tổ chức Đảng trong trường hoạt động theo quy định nào?\",\\n    \"Luật nào quy định về tổ chức Đảng trong nhà trường?\",\\n    \"Ai lãnh đạo các hoạt động của nhà trường?\",\\n    \"Tổ chức Đảng trong trường có tuân thủ Hiến pháp không?\"\\n]',\n",
       " '6dab4f3e': '[\"Đoàn thể và tổ chức xã hội trong nhà trường có vai trò gì?\", \"Luật Giáo Dục quy định trách nhiệm của các đoàn thể như thế nào?\", \"Những hoạt động nào của tổ chức xã hội trong trường học là hợp pháp?\", \"Mục tiêu giáo dục có liên quan gì đến đoàn thể trong trường học?\", \"Pháp luật có yêu cầu gì về hoạt động của tổ chức xã hội trong nhà trường?\"]',\n",
       " 'a7e62d25': '[\"Nhà trường có những nhiệm vụ và quyền hạn gì theo Luật Giáo Dục?\", \"Trường công lập có trách nhiệm gì đối với xã hội và người học?\", \"Các cơ sở giáo dục dân lập và tư thục có quyền tự chủ ra sao?\", \"Nhà trường có quyền lực gì trong việc tổ chức tuyển sinh và cấp văn bằng?\", \"Làm thế nào nhà trường phối hợp với gia đình và cộng đồng trong hoạt động giáo dục?\"]',\n",
       " 'ad093946': '[\\n  \"Luật nào quy định về trường phổ thông dân tộc nội trú và bán trú?\",\\n  \"Ai là đối tượng được thành lập trường phổ thông dân tộc nội trú và bán trú?\",\\n  \"Trường phổ thông dân tộc được ưu tiên hỗ trợ gì?\",\\n  \"Cơ quan nào quy định về điều kiện học sinh vào trường dân tộc?\",\\n  \"Trường dự bị đại học dành cho ai theo Luật Giáo Dục?\"\\n]',\n",
       " 'ca8cc608': '[\"Trường chuyên được thành lập với mục đích gì?\", \"Nhà nước có chính sách hỗ trợ gì cho trường chuyên và trường năng khiếu không?\", \"Ai là người quy định chương trình giáo dục cho trường chuyên và trường năng khiếu?\", \"Trường năng khiếu nghệ thuật có vai trò gì trong giáo dục?\", \"Ai là đối tượng được tuyển sinh vào trường chuyên?\"]',\n",
       " '3b12fc35': '[\\n    \"Nhà nước có những chính sách gì để hỗ trợ trường, lớp dành cho người khuyết tật?\",\\n    \"Các trường lớp dành cho người khuyết tật có được bố trí giáo viên và cơ sở vật chất không?\",\\n    \"Có điều kiện nào để thành lập trường, lớp cho người khuyết tật không?\",\\n    \"Ngân sách cho trường, lớp dành cho người khuyết tật do Nhà nước thành lập được cấp như thế nào?\",\\n    \"Tổ chức, cá nhân có thể thành lập trường lớp dành cho người khuyết tật không và có chính sách gì ưu đãi không?\"\\n]',\n",
       " '3308ef92': '[\\n    \"Trường giáo dưỡng có nhiệm vụ gì đối với người chưa thành niên vi phạm pháp luật?\",\\n    \"Ai có trách nhiệm quy định chương trình giáo dục cho trường giáo dưỡng?\",\\n    \"Làm thế nào để người chưa thành niên vi phạm pháp luật có khả năng tái hòa nhập vào xã hội?\",\\n    \"Ai phối hợp với Bộ trưởng Bộ Công an trong việc giáo dục tại trường giáo dưỡng?\",\\n    \"Mục tiêu chính của trường giáo dưỡng là gì?\"\\n]',\n",
       " '074a5ce5': '[\\n  \"Nhà giáo có những vai trò gì trong lĩnh vực giáo dục?\",\\n  \"Ai được gọi là giáo viên và ai được gọi là giảng viên theo Luật Giáo Dục?\",\\n  \"Nhà giáo có nhiệm vụ gì tại cơ sở giáo dục?\",\\n  \"Tại sao nhà giáo được xã hội tôn vinh?\",\\n  \"Nhà giáo ảnh hưởng đến chất lượng giáo dục như thế nào?\"\\n]',\n",
       " 'bcd487aa': '[\"Nhà giáo cần đáp ứng những tiêu chuẩn gì theo Luật Giáo Dục?\", \"Yêu cầu về phẩm chất và đạo đức của nhà giáo là gì?\", \"Nhà giáo cần có những kỹ năng nào để đạt chuẩn nghề nghiệp?\", \"Tiêu chuẩn về sức khỏe của nhà giáo được quy định ra sao?\", \"Có những yêu cầu gì về năng lực chuyên môn của nhà giáo?\"]',\n",
       " 'b7fbf3ab': '[\"Giáo sư và phó giáo sư là những chức danh gì trong hệ thống giáo dục Việt Nam?\", \"Ai là người quy định tiêu chuẩn và thủ tục bổ nhiệm giáo sư, phó giáo sư?\", \"Nhà giáo ở cấp nào có thể được bổ nhiệm là giáo sư, phó giáo sư?\", \"Có thể miễn nhiệm chức danh giáo sư, phó giáo sư không? Nếu có, ai quy định điều này?\", \"Những nhiệm vụ và quyền lợi cụ thể của giáo sư, phó giáo sư là gì?\"]',\n",
       " '115e68df': '[\"Nhà giáo có trách nhiệm gì trong việc giảng dạy và giáo dục?\", \"Nhà giáo cần tuân thủ những quy định nào trong trường học?\", \"Cách nào để nhà giáo bảo vệ quyền lợi của người học?\", \"Nhà giáo cần phát triển kỹ năng gì để nâng cao trình độ?\", \"Hành vi nào thể hiện phẩm chất và uy tín của nhà giáo trong nghề nghiệp?\"]',\n",
       " '6635f071': '[\"Nhà giáo có quyền gì trong việc giảng dạy?\", \"Có những hình thức đào tạo nào dành cho nhà giáo?\", \"Nhà giáo có thể làm gì tại cơ sở giáo dục khác?\", \"Quyền nào bảo vệ nhân phẩm và danh dự của nhà giáo?\", \"Nhà giáo có được nghỉ hè không và theo quy định nào?\"]',\n",
       " 'c8a94b66': '[\"Thỉnh giảng là gì theo Luật Giáo Dục?\", \"Ai là người được mời giảng dạy theo chế độ thỉnh giảng?\", \"Có điều kiện gì để trở thành giáo viên thỉnh giảng?\", \"Những nhiệm vụ nào giáo viên thỉnh giảng phải thực hiện?\", \"Có khuyến khích gì đối với nhà giáo, nhà khoa học nước ngoài trong việc thỉnh giảng không?\"]',\n",
       " '3c1db50f': '[\"Trình độ chuẩn tối thiểu của giáo viên mầm non là gì?\", \"Giáo viên tiểu học cần bằng cấp gì để giảng dạy?\", \"Nhà giáo giảng dạy cấp đại học cần trình độ nào?\", \"Có lộ trình nào cho việc nâng cao trình độ giáo viên không?\", \"Quy định về giáo viên không đáp ứng yêu cầu chuẩn được tổ chức như thế nào?\"]',\n",
       " '592358fb': '[\"Nhà nước có chính sách gì về đào tạo nhà giáo?\", \"Đối tượng nào sẽ được cử đi đào tạo, bồi dưỡng?\", \"Nhà giáo sẽ nhận được những quyền lợi nào khi tham gia chương trình đào tạo?\", \"Cơ sở giáo dục có trách nhiệm gì đối với việc đào tạo nhà giáo?\", \"Ai quy định các tiêu chuẩn về đào tạo, bồi dưỡng nhà giáo?\"]',\n",
       " '3d81e63a': '[\"Cơ sở giáo dục nào thực hiện nhiệm vụ đào tạo nhà giáo tại Việt Nam?\", \"Ai là người quy định việc đào tạo và bồi dưỡng cán bộ quản lý giáo dục?\", \"Trường sư phạm được ưu tiên ra sao trong việc tuyển dụng nhà giáo?\", \"Có những loại cơ sở giáo dục nào được phép đào tạo cán bộ quản lý giáo dục?\", \"Các điều kiện nào được quy định cho trường sư phạm trong Luật Giáo Dục?\"]',\n",
       " '7c58c97a': '[\"Ngày nào là Ngày Nhà giáo Việt Nam?\", \"Ngày Nhà giáo Việt Nam được tổ chức vào tháng nào?\", \"Luật nào quy định về Ngày Nhà giáo Việt Nam?\", \"Có sự kiện nào đặc biệt diễn ra vào ngày 20 tháng 11 không?\", \"Ngày Nhà giáo Việt Nam có ý nghĩa gì đối với giáo viên?\"]',\n",
       " '0f1d84b3': '[\"Nhà giáo được hưởng những chế độ lương nào theo Luật Giáo Dục?\", \"Có phụ cấp gì cho nhà giáo không?\", \"Tiêu chí để xếp lương cho nhà giáo là gì?\", \"Ai quy định về phụ cấp đặc thù nghề cho nhà giáo?\", \"Nhà giáo có được thưởng thêm hay không?\"]',\n",
       " 'f9b4bacd': '[\"Nhà nước có chính sách gì để hỗ trợ nhà giáo trong công việc của họ?\", \"Nhà giáo nào được hưởng chế độ phụ cấp và chính sách ưu đãi?\", \"Có chính sách nào dành cho nhà giáo làm việc ở vùng khó khăn không?\", \"Nhà nước có đảm bảo điều kiện gì cho nhà giáo thực hiện nhiệm vụ?\", \"Ai có trách nhiệm quy định chi tiết các chính sách đối với nhà giáo?\"]',\n",
       " 'fd0e1bab': '[\"Ai có khả năng được phong tặng danh hiệu Nhà giáo nhân dân?\", \"Có những danh hiệu nào dành cho nhà giáo?\", \"Điều kiện nào cần thiết để nhận danh hiệu Nhà giáo ưu tú?\", \"Quy định nào điều chỉnh phong tặng danh hiệu cho nhà giáo?\", \"Ai là cơ quan có thẩm quyền phong tặng danh hiệu cho nhà giáo?\"]',\n",
       " 'd8d5b7a5': '[\\n    \"Người học được định nghĩa là ai theo Luật Giáo Dục?\",\\n    \"Các loại hình cơ sở giáo dục nào có người học?\",\\n    \"Trẻ em thuộc cấp học nào được tính là người học?\",\\n    \"Sinh viên thuộc những cấp nào được công nhận là người học?\",\\n    \"Ai là người học theo chương trình giáo dục thường xuyên?\"\\n]',\n",
       " '8aed8c41': '[\\n    \"Trẻ em tại cơ sở giáo dục mầm non có những quyền gì theo Luật Giáo Dục?\",\\n    \"Ai là cơ quan ban hành chương trình giáo dục mầm non?\",\\n    \"Trẻ em có được chăm sóc sức khỏe tại cơ sở giáo dục mầm non không?\",\\n    \"Có chính sách nào từ Chính phủ đối với trẻ em tại cơ sở giáo dục mầm non không?\",\\n    \"Trẻ em có được miễn giảm giá vé cho các dịch vụ vui chơi giải trí không?\"\\n]',\n",
       " '2fa13653': '[\"Nhiệm vụ chính của người học theo Luật Giáo Dục là gì?\", \"Có những quy tắc ứng xử nào mà người học cần tuân thủ trong cơ sở giáo dục?\", \"Người học có trách nhiệm gì đối với tài sản của cơ sở giáo dục?\", \"Người học có thể tham gia vào những hoạt động nào ngoài học tập?\", \"Luật Giáo Dục quy định thế nào về việc tôn trọng giáo viên và cán bộ trong cơ sở giáo dục?\"]',\n",
       " 'b6c43bcf': '[\"Những quyền cơ bản của người học theo Luật Giáo Dục là gì?\", \"Người học có được cấp văn bằng sau khi tốt nghiệp không?\", \"Có những chính sách ưu tiên nào cho người học tốt nghiệp loại giỏi?\", \"Người học có quyền tham gia hoạt động đoàn thể trong cơ sở giáo dục không?\", \"Người học có thể kiến nghị các giải pháp gì để bảo vệ quyền lợi của mình?\"]',\n",
       " 'f0688c86': '[\\n  \"Luật Giáo Dục quy định chính sách tín dụng giáo dục như thế nào?\",\\n  \"Các điều kiện để vay tiền trong tín dụng giáo dục là gì?\",\\n  \"Thời hạn vay tiền cho người học được quy định ra sao?\",\\n  \"Nhà nước có hỗ trợ lãi suất cho tín dụng giáo dục không?\",\\n  \"Có khuyến khích nào cho việc xã hội hóa tín dụng giáo dục không?\"\\n]',\n",
       " '877409b5': '[\"Nhà nước có chính sách nào về học bổng cho học sinh xuất sắc?\", \"Các đối tượng nào được miễn, giảm học phí theo luật này?\", \"Học sinh, sinh viên sư phạm có được hỗ trợ gì về học phí không?\", \"Có khoản nào cần hoàn trả sau khi tốt nghiệp nếu không làm giáo dục không?\", \"Ai có quyền tổ chức cấp học bổng cho người học?\"]',\n",
       " 'c5813216': '[\"Học sinh, sinh viên có được miễn giá vé dịch vụ công cộng không?\", \"Những ai được hưởng chế độ miễn, giảm giá vé này?\", \"Các dịch vụ công cộng nào áp dụng chế độ miễn giảm giá vé?\", \"Ai quy định về miễn, giảm giá vé cho học sinh, sinh viên?\", \"Có địa điểm nào đặc biệt được miễn, giảm giá vé cho học sinh, sinh viên không?\"]',\n",
       " 'f1594d18': '[\\n    \"Chế độ cử tuyển áp dụng cho đối tượng nào theo Luật Giáo Dục?\",\\n    \"Ủy ban nhân dân cấp tỉnh có trách nhiệm gì trong việc cử người đi học theo chế độ cử tuyển?\",\\n    \"Người học theo chế độ cử tuyển cần thực hiện nghĩa vụ gì sau khi tốt nghiệp?\",\\n    \"Chính phủ sẽ quy định những nội dung gì liên quan đến chế độ cử tuyển?\",\\n    \"Cơ sở giáo dục có trách nhiệm gì đối với người học theo chế độ cử tuyển?\"\\n]',\n",
       " 'ef32f242': '[\"Nhà trường có những trách nhiệm gì trong việc phối hợp với gia đình và xã hội?\", \"Nhà trường phải thực hiện những kế hoạch nào liên quan đến giáo dục?\", \"Có những quy tắc ứng xử nào mà nhà trường cần tuân thủ?\", \"Nhà trường có trách nhiệm như thế nào trong việc thông báo kết quả học tập?\", \"Cơ sở giáo dục khác có thể áp dụng những quy định nào từ Luật Giáo Dục?\"]',\n",
       " '7b040ad2': '[\\n    \"Gia đình có trách nhiệm gì trong việc giáo dục con cái theo Luật Giáo Dục?\",\\n    \"Cha mẹ cần làm gì để hỗ trợ việc học tập của con trẻ?\",\\n    \"Trách nhiệm của người giám hộ trong giáo dục có những gì?\",\\n    \"Luật Giáo Dục yêu cầu gia đình phải tạo điều kiện gì cho sự phát triển của con em?\",\\n    \"Những hành động nào của gia đình có thể bị xem là vi phạm quyền của nhà giáo?\"\\n]',\n",
       " '7189fc9c': '[\"Cha mẹ hoặc người giám hộ cần làm gì để theo dõi kết quả học tập của con mình?\", \"Những hoạt động giáo dục nào mà cha mẹ có thể tham gia theo kế hoạch của nhà trường?\", \"Cha mẹ có thể phối hợp với ai để giải quyết các vấn đề giáo dục liên quan đến con em mình?\", \"Có những trách nhiệm gì đối với hoạt động của ban đại diện cha mẹ học sinh?\", \"Tại sao việc tham gia hoạt động giáo dục là quan trọng đối với cha mẹ hoặc người giám hộ?\"]',\n",
       " '1731904d': '[\\n  \"Ban đại diện cha mẹ học sinh, trẻ mầm non được tổ chức như thế nào trong năm học?\",\\n  \"Ai có quyền cử ra thành viên vào ban đại diện cha mẹ học sinh, trẻ mầm non?\",\\n  \"Ban đại diện cha mẹ học sinh, trẻ mầm non có chức năng gì đối với nhà trường?\",\\n  \"Tại sao không tổ chức ban đại diện cha mẹ học sinh, trẻ mầm non liên trường?\",\\n  \"Ban đại diện cha mẹ học sinh, trẻ mầm non hoạt động theo quy định của ai?\"\\n]',\n",
       " '74717f24': '[\\n    \"Ai có trách nhiệm hỗ trợ nhà trường trong các hoạt động giáo dục và nghiên cứu khoa học?\",\\n    \"Mặt trận Tổ quốc Việt Nam có nhiệm vụ gì trong việc chăm lo cho sự nghiệp giáo dục?\",\\n    \"Đoàn Thanh niên Cộng sản Hồ Chí Minh có vai trò gì trong giáo dục thanh niên và thiếu niên?\",\\n    \"Cơ quan, tổ chức, cá nhân nào cần tạo điều kiện cho công dân thực hiện nghĩa vụ học tập?\",\\n    \"Những nguồn lực nào có thể được hỗ trợ để phát triển sự nghiệp giáo dục?\"\\n]',\n",
       " 'd5d9a61c': '[\\n    \"Luật Giáo Dục quy định các nguồn tài chính đầu tư cho giáo dục là gì?\",\\n    \"Ngân sách nhà nước có phải là một trong những nguồn tài chính cho giáo dục không?\",\\n    \"Ngoài ngân sách nhà nước, còn có những nguồn vốn nào được phép đầu tư vào giáo dục?\",\\n    \"Có các hình thức tài trợ nào cho giáo dục theo luật không?\",\\n    \"Nguồn thu từ dịch vụ giáo dục có được tính là nguồn tài chính đầu tư không?\"\\n]',\n",
       " '1b6bc7fc': '[\"Ngân sách nhà nước chi cho giáo dục tối thiếu là bao nhiêu phần trăm tổng chi ngân sách?\", \"Ngân sách giáo dục được phân bổ theo nguyên tắc nào?\", \"Có những đối tượng nào được ưu tiên trong phân bổ ngân sách giáo dục?\", \"Cơ quan nào có trách nhiệm quản lý ngân sách giáo dục?\", \"Nhà nước có trách nhiệm gì trong việc thực hiện phổ cập giáo dục?\"]',\n",
       " '22fc78eb': '[\\n  \"Ai có trách nhiệm quy hoạch xây dựng trường học theo Luật Giáo Dục?\",\\n  \"Luật Giáo Dục có quy định gì về đầu tư cho học sinh, sinh viên?\",\\n  \"Ưu tiên nào được nêu bật trong việc xây dựng trường học theo Luật Giáo Dục?\",\\n  \"Cơ quan nào tham gia kế hoạch phát triển kinh tế - xã hội liên quan đến giáo dục?\",\\n  \"Luật Giáo Dục đề cập đến các công trình nào phục vụ giáo dục?\"\\n]',\n",
       " '1c159414': '[\\n    \"Nhà nước có khuyến khích đầu tư vào giáo dục không?\",\\n    \"Các khoản đóng góp cho giáo dục có được trừ khi xác định thu nhập chịu thuế không?\",\\n    \"Tổ chức nào được xem xét ghi nhận khi đầu tư cho giáo dục?\",\\n    \"Cá nhân có thể đóng góp gì cho sự nghiệp giáo dục?\",\\n    \"Các hình thức đóng góp nào được công nhận trong đầu tư cho giáo dục?\"\\n]',\n",
       " 'f0783725': '[\"Học phí là gì và ai phải nộp?\", \"Chi phí dịch vụ giáo dục bao gồm những gì?\", \"Học sinh tiểu học ở cơ sở giáo dục công lập có phải nộp học phí không?\", \"Trẻ em mầm non ở vùng khó khăn có được miễn học phí không?\", \"Cơ chế quản lý học phí tại các cơ sở giáo dục được quy định như thế nào?\"]',\n",
       " '149f303c': '[\"Luật Giáo Dục quy định về ưu đãi thuế cho những hoạt động nào?\", \"Ai là đối tượng được hưởng ưu đãi thuế theo Luật Giáo Dục?\", \"Việc xuất bản sách giáo khoa có được ưu đãi thuế không?\", \"Có ưu đãi thuế cho thiết bị dạy học nhập khẩu không?\", \"Nhà nước ưu đãi thuế cho những loại tài liệu nào trong giáo dục?\"]',\n",
       " '9e8e0d12': '[\\n    \"Cơ sở giáo dục công lập phải tuân thủ những quy định gì về tài chính?\",\\n    \"Chế độ tài chính của cơ sở giáo dục dân lập và tư thục có điểm gì khác biệt?\",\\n    \"Cơ sở giáo dục được phép sử dụng khoản thu vào những hoạt động nào?\",\\n    \"Cơ sở nào bắt buộc phải công khai chi phí dịch vụ giáo dục và khi nào?\",\\n    \"Cơ sở giáo dục tư thục phải thực hiện các nghĩa vụ gì đối với ngân sách nhà nước?\"\\n]',\n",
       " 'c370b7ff': '[\\n    \"Tài sản của trường dân lập thuộc ai và được bảo hộ như thế nào theo luật?\",\\n    \"Tài sản của trường tư thục được xác định như thế nào và thuộc sở hữu của ai?\",\\n    \"Quy trình chuyển nhượng vốn đối với trường dân lập và tư thục được quy định ra sao?\",\\n    \"Có quy định gì về sự ổn định và phát triển của trường trong quá trình chuyển nhượng vốn?\",\\n    \"Ai là người có quyền thực hiện chuyển phần tài sản góp vốn cho trường tư thục?\"\\n]',\n",
       " '782d041c': '[\\n    \"Luật Giáo Dục quy định những nội dung nào liên quan đến quản lý nhà nước về giáo dục?\",\\n    \"Cục quản lý giáo dục có trách nhiệm gì trong việc phát triển giáo dục?\",\\n    \"Có những điều kiện nào để tuyển dụng giáo viên theo luật giáo dục?\",\\n    \"Luật quy định về việc đánh giá chất lượng giáo dục như thế nào?\",\\n    \"Các văn bản nào cần được ban hành và tổ chức thực hiện trong lĩnh vực giáo dục theo luật?\"\\n]',\n",
       " 'ad36042b': '[\"Chính phủ có vai trò gì trong quản lý giáo dục?\", \"Ai là cơ quan chịu trách nhiệm chính về giáo dục mầm non và phổ thông?\", \"Bộ Lao động - Thương binh và Xã hội quản lý loại hình giáo dục nào?\", \"Ủy ban nhân dân các cấp có nhiệm vụ gì trong giáo dục?\", \"Bộ và cơ quan ngang Bộ có trách nhiệm phối hợp với ai trong quản lý giáo dục?\"]',\n",
       " '7955bc0d': '[\"Nguyên tắc hợp tác quốc tế trong giáo dục là gì?\", \"Luật Giáo Dục quy định về tôn trọng chủ quyền thế nào?\", \"Lợi ích nào được đảm bảo trong hợp tác quốc tế về giáo dục?\", \"Nhà nước có trách nhiệm gì trong hợp tác giáo dục quốc tế?\", \"Hợp tác giáo dục quốc tế cần tuân theo nguyên tắc nào?\"]',\n",
       " '4167b5f6': '[\"Nhà nước khuyến khích hợp tác giáo dục với nước ngoài như thế nào?\", \"Các điều kiện nào để công dân Việt Nam ra nước ngoài giảng dạy và học tập?\", \"Ngân sách dành cho việc đi học tập ở nước ngoài được quy định ra sao?\", \"Cơ sở giáo dục Việt Nam có thể hợp tác với ai ở nước ngoài?\", \"Có quy định nào cho việc công dân ra nước ngoài trao đổi học thuật không?\"]',\n",
       " '6e20e083': '[\\n  \"Ai là những tổ chức hoặc cá nhân nước ngoài được khuyến khích đầu tư vào giáo dục tại Việt Nam?\",\\n  \"Hợp tác giáo dục với Việt Nam cần tuân thủ những yêu cầu gì về nhân cách và phẩm chất của người học?\",\\n  \"Có những hình thức hợp tác nào giữa nước ngoài và Việt Nam trong lĩnh vực giáo dục?\",\\n  \"Các quyền lợi của tổ chức, cá nhân nước ngoài khi đầu tư vào giáo dục Việt Nam được bảo vệ như thế nào?\",\\n  \"Ai có trách nhiệm quy định chi tiết về hợp tác và đầu tư giáo dục tại Việt Nam?\"\\n]',\n",
       " '064cf4f2': '[\"Văn bằng nước ngoài nào được công nhận tại Việt Nam?\", \"Ai là người ký thỏa thuận công nhận văn bằng quốc tế?\", \"Điều kiện nào cần thiết để công nhận văn bằng do cơ sở giáo dục nước ngoài cấp?\", \"Thủ tục nào để công nhận văn bằng giáo dục nghề nghiệp nước ngoài?\", \"Cơ quan nào có thẩm quyền xác nhận văn bằng nước ngoài tại Việt Nam?\"]',\n",
       " '85509483': '[\"Mục tiêu chính của việc kiểm định chất lượng giáo dục là gì?\", \"Những nguyên tắc nào cần tuân thủ trong kiểm định chất lượng giáo dục?\", \"Đối tượng nào sẽ được kiểm định chất lượng giáo dục?\", \"Tại sao việc kiểm định chất lượng giáo dục lại quan trọng cho người học?\", \"Kiểm định chất lượng giáo dục có bắt buộc không?\"]',\n",
       " '0b726985': '[\\n    \"Luật Giáo dục quy định những nội dung gì liên quan đến kiểm định chất lượng giáo dục?\",\\n    \"Có những tiêu chuẩn nào được ban hành để đánh giá chất lượng giáo dục?\",\\n    \"Quy trình và chu kỳ kiểm định chất lượng giáo dục được quy định như thế nào ở từng cấp học?\",\\n    \"Ai là tổ chức hoặc cá nhân có quyền thực hiện kiểm định chất lượng giáo dục?\",\\n    \"Có hình thức nào để kiểm tra và đánh giá việc thực hiện quy định về kiểm định chất lượng giáo dục không?\"\\n]',\n",
       " '3820aeb9': '[\"Luật Giáo dục có những nội dung sửa đổi nào về điều kiện học tập?\", \"Thời gian đào tạo trình độ cao đẳng tối thiểu là bao nhiêu?\", \"Có những loại bằng cấp nào được đăng ký học cùng chuyên ngành?\", \"Điều kiện nào để người có bằng tốt nghiệp trung cấp loại khá có thể đăng ký học?\", \"Luật có quy định gì về thời gian học theo phương thức tích lũy mô-đun hoặc tín chỉ?\"]',\n",
       " 'c9825b69': '[\\n    \"Luật Giáo dục có hiệu lực thi hành từ khi nào?\",\\n    \"Luật nào đã được sửa đổi, bổ sung và hết hiệu lực theo Luật Giáo dục này?\",\\n    \"Có những thay đổi nào đối với Luật Giáo dục trước khi Luật mới có hiệu lực?\",\\n    \"Ngày nào Luật Giáo dục chính thức bắt đầu áp dụng?\",\\n    \"Điều nào trong Luật này có quy định về hiệu lực của các luật trước đó?\"\\n]',\n",
       " 'dd7645ea': '[\"Quy định nào áp dụng cho học sinh sư phạm tuyển sinh trước khi Luật Giáo dục mới có hiệu lực?\", \"Có điều khoản nào trong Luật Giáo dục số 38/2005/QH11 được giữ nguyên cho sinh viên sư phạm không?\", \"Luật Giáo dục mới có hiệu lực khi nào và ai đã thông qua luật này?\", \"Những sửa đổi nào đã được thực hiện trên Luật Giáo dục số 38/2005/QH11?\", \"Học sinh, sinh viên sư phạm có phải tuân theo luật mới không nếu họ đã tuyển sinh trước thời điểm luật có hiệu lực?\"]',\n",
       " '424554a8': '[\"Luật Hôn Nhân Và Gia Đình quy định những vấn đề nào liên quan đến hôn nhân?\", \"Luật này có tác động gì đến mối quan hệ giữa các thành viên trong gia đình?\", \"Trách nhiệm của Nhà nước trong việc củng cố chế độ hôn nhân và gia đình được quy định ra sao?\", \"Ai là bên chịu trách nhiệm trong việc chăm sóc các thành viên gia đình theo luật?\", \"Luật này có ít nhất những chuẩn mực nào về ứng xử giữa các thành viên gia đình?\"]',\n",
       " '58a5d816': '[\\n    \"Hôn nhân ở Việt Nam có những nguyên tắc cơ bản nào?\",\\n    \"Ai có quyền tham gia hôn nhân theo luật Hôn Nhân Và Gia Đình?\",\\n    \"Nhà nước có trách nhiệm gì trong việc bảo vệ quyền lợi của trẻ em và người cao tuổi trong gia đình?\",\\n    \"Các thành viên trong gia đình phải có nghĩa vụ gì đối với nhau?\",\\n    \"Luật Hôn Nhân Và Gia Đình có quy định về việc tôn trọng và phát huy truyền thống văn hóa nào không?\"\\n]',\n",
       " '69aad55b': '[\"Hôn nhân được định nghĩa như thế nào trong Luật Hôn Nhân và Gia Đình?\", \"Gia đình theo quy định của Luật này bao gồm những thành viên nào?\", \"Kết hôn trái pháp luật là gì và có những điều kiện nào?\", \"Thế nào là chế độ hôn nhân và gia đình theo Luật Việt Nam?\", \"Cấp dưỡng được hiểu như thế nào trong bối cảnh của Luật này?\"]',\n",
       " '673a834b': '[\\n  \"Nhà nước có những chính sách gì để bảo vệ hôn nhân và gia đình?\",\\n  \"Ai là cơ quan quản lý nhà nước về hôn nhân và gia đình theo luật?\",\\n  \"Các bộ phận nào có trách nhiệm giáo dục và vận động về hôn nhân và gia đình?\",\\n  \"Chính phủ quản lý hôn nhân và gia đình như thế nào?\",\\n  \"Vai trò của nhà trường trong việc giáo dục về hôn nhân và gia đình là gì?\"\\n]',\n",
       " '816ea9c1': '[\"Luật này quy định như thế nào về việc bảo vệ mối quan hệ hôn nhân và gia đình?\", \"Những hành vi nào bị cấm theo Luật Hôn Nhân và Gia Đình?\", \"Ai có quyền yêu cầu xử lý các hành vi vi phạm hôn nhân và gia đình?\", \"Luật quy định gì về danh dự và nhân phẩm trong các vụ việc hôn nhân?\", \"Các biện pháp xử lý các hành vi vi phạm pháp luật về hôn nhân và gia đình là gì?\"]',\n",
       " '68ce4227': '[\"Luật Hôn Nhân và Gia Đình quy định những gì liên quan đến quan hệ hôn nhân?\", \"Có những luật nào khác được áp dụng trong Luật Hôn Nhân và Gia Đình không?\", \"Khi nào thì áp dụng Bộ luật dân sự trong vấn đề hôn nhân?\", \"Luật nào sẽ được coi là ưu tiên trong các vấn đề gia đình?\", \"Đối với quan hệ hôn nhân không được quy định trong Luật, chúng ta áp dụng luật nào?\"]',\n",
       " '92e757ec': '[\\n  \"Ai là đối tượng đủ tuổi để kết hôn theo Luật Hôn Nhân Và Gia Đình?\",\\n  \"Có những điều kiện gì để hai người kết hôn hợp pháp?\",\\n  \"Nhà nước có công nhận hôn nhân giữa những người cùng giới tính không?\",\\n  \"Hôn nhân có được xem là hợp pháp nếu một trong hai bên bị mất năng lực hành vi dân sự không?\",\\n  \"Có những trường hợp nào bị cấm kết hôn theo quy định của luật này?\"\\n]',\n",
       " '4aa0d316': '[\"Việc kết hôn có cần đăng ký không?\", \"Chủ thể nào có thẩm quyền thực hiện việc đăng ký kết hôn?\", \"Hệ quả pháp lý của việc kết hôn không được đăng ký là gì?\", \"Nếu vợ chồng đã ly hôn thì có thể tái kết hôn không?\", \"Quy trình để đăng ký kết hôn là như thế nào?\"]',\n",
       " '6acc6cf8': '[\"Ai có quyền yêu cầu hủy việc kết hôn trái pháp luật?\", \"Người nào có thể tự mình yêu cầu hủy việc kết hôn trái phép?\", \"Có tổ chức nào có quyền yêu cầu hủy việc kết hôn trái pháp luật không?\", \"Các trường hợp nào được coi là kết hôn trái pháp luật?\", \"Thủ tục để yêu cầu hủy kết hôn trái pháp luật là gì?\"]',\n",
       " 'daa1dccc': '[\"Xử lý như thế nào đối với việc kết hôn trái pháp luật?\", \"Tòa án có quyền gì khi xử lý việc kết hôn trái pháp luật?\", \"Khi nào Tòa án công nhận quan hệ hôn nhân giữa các bên?\", \"Quy định nào cho việc gửi quyết định về kết hôn trái pháp luật?\", \"Ai hướng dẫn việc xử lý kết hôn trái pháp luật theo luật này?\"]',\n",
       " '89e48178': '[\\n    \"Hậu quả pháp lý nào xảy ra khi kết hôn trái pháp luật bị hủy?\",\\n    \"Việc hủy kết hôn trái pháp luật có ảnh hưởng đến quan hệ vợ chồng không?\",\\n    \"Quyền và nghĩa vụ của cha, mẹ, con được giải quyết ra sao khi hủy kết hôn trái pháp luật?\",\\n    \"Những quy định nào áp dụng cho quan hệ tài sản khi kết hôn trái pháp luật bị hủy?\",\\n    \"Có những điều kiện nào để xác định kết hôn trái pháp luật theo Luật Hôn Nhân và Gia Đình?\"\\n]',\n",
       " '1510177c': '[\"Việc đăng ký kết hôn không đúng thẩm quyền được xử lý như thế nào?\", \"Cơ quan nào có thẩm quyền thu hồi giấy chứng nhận kết hôn?\", \"Khi nào quan hệ hôn nhân được xác lập?\", \"Có yêu cầu nào cần thiết để hủy bỏ giấy chứng nhận kết hôn không?\", \"Các bước nào cần thực hiện để đăng ký kết hôn lại?\"]',\n",
       " '5d674582': '[\\n    \"Hậu quả pháp lý của việc nam, nữ chung sống như vợ chồng mà không đăng ký kết hôn là gì?\",\\n    \"Nếu nam, nữ không đăng ký kết hôn thì quyền và nghĩa vụ giữa họ ra sao?\",\\n    \"Khi nào quan hệ hôn nhân được xác lập trong trường hợp chung sống không đăng ký?\",\\n    \"Luật nào quy định về quyền và nghĩa vụ đối với con của nam, nữ chung sống mà không kết hôn?\",\\n    \"Thực hiện đăng ký kết hôn sau thời gian chung sống thì quan hệ hôn nhân được xác lập từ khi nào?\"\\n]',\n",
       " 'ddb4c799': '[\"Quyền và nghĩa vụ của cha mẹ trong trường hợp không đăng ký kết hôn là gì?\", \"Luật nào quy định về quyền và nghĩa vụ của con trong gia đình không hợp pháp?\", \"Nam nữ chung sống như vợ chồng có được quyền gì liên quan đến con cái không?\", \"Tình huống nào thì quyền, nghĩa vụ cha mẹ và con được áp dụng?\", \"Có sự khác biệt nào giữa quyền lợi của cha mẹ có đăng ký kết hôn và chưa đăng ký không?\"]',\n",
       " 'fda06163': '[\"Vợ và chồng có quyền gì trong gia đình theo Luật Hôn Nhân và Gia Đình?\", \"Quyền và nghĩa vụ của vợ chồng có sự khác biệt gì không?\", \"Luật nào quy định về bình đẳng giữa vợ và chồng?\", \"Có quy định nào về quyền công dân trong đời sống gia đình không?\", \"Vợ, chồng có thể thực hiện nghĩa vụ gì theo Hiến pháp và luật liên quan?\"]',\n",
       " '64eda91d': '[\\n    \"Quyền và nghĩa vụ của vợ, chồng được quy định ở đâu?\",\\n    \"Luật nào bảo vệ quyền nhân thân của vợ, chồng?\",\\n    \"Các luật nào liên quan đến quyền và nghĩa vụ của vợ, chồng?\",\\n    \"Có luật nào bảo vệ nghĩa vụ nhân thân cho vợ, chồng không?\",\\n    \"Quy định nào tôn trọng quyền của vợ, chồng trong hôn nhân?\"\\n]',\n",
       " 'c97035b8': '[\\n    \"Vợ chồng có những nghĩa vụ gì theo Luật Hôn Nhân và Gia Đình?\",\\n    \"Có những trường hợp nào vợ chồng được thỏa thuận không sống chung?\",\\n    \"Luật quy định như thế nào về việc thương yêu giữa vợ chồng?\",\\n    \"Làm thế nào vợ chồng chia sẻ công việc trong gia đình theo luật?\",\\n    \"Có những lý do nào được coi là chính đáng để vợ chồng không sống chung?\"\\n]',\n",
       " 'f345a89e': '[\"Vợ chồng có thể tự do chọn nơi cư trú không?\", \"Có bị ràng buộc bởi phong tục hay tập quán không?\", \"Địa giới hành chính có ảnh hưởng đến nơi cư trú không?\", \"Thỏa thuận giữa vợ chồng có giá trị pháp lý ra sao?\", \"Luật nào quy định việc lựa chọn nơi cư trú của vợ chồng?\"]',\n",
       " '8246899f': '[\"Vợ chồng có nghĩa vụ gì đối với danh dự của nhau?\", \"Làm thế nào để bảo vệ nhân phẩm trong hôn nhân?\", \"Luật nào liên quan đến uy tín của vợ chồng?\", \"Có quy định gì về việc tôn trọng lẫn nhau trong hôn nhân?\", \"Vợ chồng phải làm gì để giữ gìn danh dự của nhau?\"]',\n",
       " 'c8a7e8e1': '[\"Vợ chồng có cần tôn trọng quyền tín ngưỡng của nhau không?\", \"Luật nào quy định về quyền tôn trọng tôn giáo trong hôn nhân?\", \"Quyền tự do tôn giáo của vợ, chồng được ghi nhận ở đâu?\", \"Có nghĩa vụ nào về quyền tôn giáo giữa vợ và chồng không?\", \"Luật Hôn Nhân và Gia Đình nói gì về quyền tín ngưỡng của vợ, chồng?\"]',\n",
       " 'b0595cb6': '[\"Vợ chồng có quyền gì trong việc chọn nghề nghiệp không?\", \"Nghĩa vụ của vợ chồng trong việc học tập là gì?\", \"Vợ chồng có thể tham gia các hoạt động chính trị nào?\", \"Quyền tham gia hoạt động kinh tế của vợ chồng được quy định ra sao?\", \"Làm thế nào vợ chồng có thể hỗ trợ nhau trong việc nâng cao trình độ chuyên môn?\"]',\n",
       " '84c685af': '[\"Căn cứ nào xác lập đại diện giữa vợ và chồng trong giao dịch?\", \"Vợ chồng có thể ủy quyền cho nhau trong những tình huống nào?\", \"Điều kiện nào để một bên đại diện cho bên kia khi mất năng lực hành vi dân sự?\", \"Nếu một bên vợ hoặc chồng yêu cầu ly hôn, ai sẽ đại diện cho bên mất năng lực hành vi dân sự?\", \"Có luật nào quy định về việc chấm dứt đại diện giữa vợ và chồng hay không?\"]',\n",
       " '855034fe': '[\"Vợ chồng có quyền đại diện lẫn nhau trong quan hệ kinh doanh không?\", \"Có cần thỏa thuận trước khi kinh doanh chung không?\", \"Thỏa thuận nào có thể được thực hiện giữa vợ chồng khi kinh doanh?\", \"Khi nào vợ hoặc chồng không thể đại diện cho nhau?\", \"Tài sản chung của vợ chồng được xử lý như thế nào trong kinh doanh?\"]',\n",
       " '6e925b03': '[\\n    \"Cho tôi biết về quyền đại diện giữa vợ và chồng trong việc xử lý tài sản chung.\",\\n    \"Điều nào trong Luật Hôn Nhân Và Gia Đình quy định về việc đại diện giữa vợ và chồng?\",\\n    \"Có những trường hợp nào khiến giao dịch giữa vợ hoặc chồng trở nên vô hiệu?\",\\n    \"Ai sẽ bị ảnh hưởng nếu một trong hai vợ chồng tự ý thực hiện giao dịch với tài sản chung?\",\\n    \"Luật này có bảo vệ quyền lợi cho người thứ ba trong giao dịch không đúng quy định không?\"\\n]',\n",
       " 'd7e4b8a2': '[\"Vợ, chồng có trách nhiệm liên đới trong các giao dịch nào?\", \"Các điều nào trong Luật quy định về trách nhiệm liên đới của vợ chồng?\", \"Vợ, chồng có nghĩa vụ gì theo Điều 37 của Luật Hôn Nhân Và Gia Đình?\", \"Trách nhiệm liên đới của vợ chồng áp dụng cho những loại giao dịch nào?\", \"Luật nào quy định về chế độ tài sản của vợ chồng?\"]',\n",
       " '91226967': '[\\n  \"Vợ chồng có quyền lựa chọn chế độ tài sản nào theo Luật Hôn Nhân và Gia Đình?\",\\n  \"Chế độ tài sản theo luật định được quy định trong những điều nào?\",\\n  \"Có những điều khoản nào không phụ thuộc vào chế độ tài sản mà vợ chồng đã chọn?\",\\n  \"Luật nào quy định về cách thức áp dụng chế độ tài sản của vợ chồng theo thỏa thuận?\",\\n  \"Ai có trách nhiệm quy định chi tiết về chế độ tài sản của vợ chồng?\"\\n]',\n",
       " '65242f61': '[\\n    \"Vợ chồng có quyền và nghĩa vụ gì trong việc quản lý tài sản chung?\",\\n    \"Có sự phân biệt nào trong lao động của vợ và chồng không?\",\\n    \"Vợ chồng có trách nhiệm gì đối với nhu cầu của gia đình?\",\\n    \"Liệu có phải bồi thường nếu xâm phạm quyền lợi của vợ chồng hay không?\",\\n    \"Nguyên tắc nào đảm bảo quyền lợi của gia đình trong chế độ tài sản của vợ chồng?\"\\n]',\n",
       " 'b4d84fed': '[\\n    \"Vợ, chồng có quyền và nghĩa vụ gì trong việc đáp ứng nhu cầu thiết yếu của gia đình?\",\\n    \"Nếu vợ chồng không có tài sản chung, họ phải làm gì để đáp ứng nhu cầu gia đình?\",\\n    \"Trong trường hợp tài sản chung không đủ, nghĩa vụ đóng góp của vợ chồng như thế nào?\",\\n    \"Liệu vợ chồng có thể thực hiện giao dịch nào để đáp ứng nhu cầu gia đình không?\",\\n    \"Những yếu tố nào xác định khả năng kinh tế của mỗi bên trong việc đóng góp tài sản riêng?\"\\n]',\n",
       " '61a9776e': '[\\n    \"Có cần sự thỏa thuận của vợ chồng khi giao dịch nhà ở duy nhất không?\",\\n    \"Nếu nhà ở thuộc sở hữu riêng của một bên, họ có quyền giao dịch không?\",\\n    \"Các giao dịch liên quan đến nhà ở duy nhất được xác lập như thế nào?\",\\n    \"Chồng hoặc vợ có quyền thực hiện giao dịch mà không cần đồng ý không?\",\\n    \"Nếu nhà ở không đảm bảo chỗ ở cho vợ chồng, có vấn đề gì xảy ra không?\"\\n]',\n",
       " 'f57e49dc': '[\\n    \"Ai là người có quyền thực hiện giao dịch liên quan đến tài khoản ngân hàng trong hôn nhân?\",\\n    \"Trong trường hợp nào vợ, chồng có quyền giao dịch với người thứ ba ngay tình về động sản?\",\\n    \"Có cần đăng ký quyền sở hữu đối với tài sản để thực hiện giao dịch với người thứ ba không?\",\\n    \"Người thứ ba ngay tình có được bảo vệ khi giao dịch với vợ, chồng không?\",\\n    \"Giao dịch nào giữa vợ, chồng và người thứ ba liên quan đến tài khoản chứng khoán được coi là hợp pháp?\"\\n]',\n",
       " '88ef4181': '[\\n    \"Tài sản chung của vợ chồng bao gồm những loại tài sản nào?\",\\n    \"Quyền sử dụng đất sau khi kết hôn có được xem là tài sản chung không?\",\\n    \"Làm thế nào để xác định tài sản đang tranh chấp là tài sản riêng hay tài sản chung?\",\\n    \"Trong trường hợp nào tài sản thừa kế riêng không trở thành tài sản chung?\",\\n    \"Tài sản chung có thể được sử dụng cho mục đích gì trong gia đình?\"\\n]',\n",
       " 'c83f83de': '[\"Ai là người sở hữu tài sản chung trong hôn nhân?\", \"Giấy chứng nhận quyền sở hữu có cần ghi tên cả hai vợ chồng không?\", \"Nếu chỉ ghi tên một vợ hoặc chồng thì phải làm gì?\", \"Trường hợp nào thì tài sản chung không cần đăng ký quyền sở hữu?\", \"Làm thế nào để giải quyết tranh chấp về tài sản chung?\"]',\n",
       " '6bebc96e': '[\\n    \"Ai là người có quyền chiếm hữu tài sản chung trong hôn nhân?\",\\n    \"Định đoạt tài sản chung cần có hình thức gì?\",\\n    \"Loại tài sản nào cần thỏa thuận bằng văn bản để định đoạt?\",\\n    \"Có những loại tài sản nào phải được đăng ký quyền sở hữu?\",\\n    \"Tài sản nào được xem là nguồn tạo ra thu nhập chủ yếu của gia đình?\"\\n]',\n",
       " '547a5091': '[\\n    \"Luật nào quy định về tài sản chung trong hôn nhân?\",\\n    \"Vợ chồng có thể thỏa thuận về tài sản chung không?\",\\n    \"Ai có quyền thực hiện giao dịch liên quan đến tài sản chung?\",\\n    \"Thỏa thuận đưa tài sản chung vào kinh doanh có cần văn bản không?\",\\n    \"Tài sản chung có thể được đưa vào kinh doanh như thế nào?\"\\n]',\n",
       " '39a85d00': '[\"Vợ chồng có những nghĩa vụ chung về tài sản nào theo Luật Hôn Nhân Và Gia Đình?\", \"Có những loại nghĩa vụ nào phát sinh từ giao dịch do vợ chồng thỏa thuận?\", \"Nghĩa vụ nào thuộc về sự đáp ứng nhu cầu thiết yếu của gia đình?\", \"Các nghĩa vụ liên quan đến tài sản chung được quy định như thế nào?\", \"Ai sẽ chịu trách nhiệm bồi thường thiệt hại do con cái gây ra?\"]',\n",
       " 'e056b1f2': '[\\n    \"Vợ chồng có quyền chia tài sản chung trong thời kỳ hôn nhân không?\",\\n    \"Nếu không thể thỏa thuận về việc chia tài sản chung, tôi có thể làm gì?\",\\n    \"Thỏa thuận chia tài sản chung cần phải được lập như thế nào?\",\\n    \"Trong trường hợp nào Tòa án có quyền giải quyết việc chia tài sản chung?\",\\n    \"Có cần phải công chứng văn bản thỏa thuận chia tài sản chung hay không?\"\\n]',\n",
       " '30ccca9a': '[\\n    \"Thời điểm nào được coi là có hiệu lực khi chia tài sản chung của vợ chồng?\",\\n    \"Nếu không có thỏa thuận về thời điểm, khi nào việc chia tài sản sẽ có hiệu lực?\",\\n    \"Trong trường hợp nào việc chia tài sản sẽ có hiệu lực từ thời điểm thỏa thuận tuân thủ hình thức pháp luật?\",\\n    \"Khi Tòa án chia tài sản, thời điểm có hiệu lực sẽ là khi nào?\",\\n    \"Quyền và nghĩa vụ về tài sản giữa vợ chồng và người thứ ba có còn hiệu lực không sau khi chia tài sản chung?\"\\n]',\n",
       " 'e46c2ca7': '[\\n    \"Chia tài sản chung của vợ chồng thì tài sản nào sẽ trở thành tài sản riêng?\",\\n    \"Hoa lợi và lợi tức từ tài sản riêng sau khi chia tài sản chung sẽ được xem như tài sản gì?\",\\n    \"Nếu vợ chồng có thỏa thuận khác, liệu tài sản chia sẽ thay đổi quyền nghĩa vụ trước đó không?\",\\n    \"Phần tài sản nào sẽ vẫn được coi là tài sản chung sau khi chia?\",\\n    \"Thỏa thuận chia tài sản chung có ảnh hưởng đến quyền lợi của bên thứ ba không?\"\\n]',\n",
       " '2b6300b7': '[\"Vợ chồng có quyền chấm dứt hiệu lực chia tài sản chung không?\", \"Hình thức thỏa thuận chấm dứt hiệu lực chia tài sản chung được quy định ở đâu?\", \"Tài sản đã chia sau khi chấm dứt hiệu lực có thuộc sở hữu riêng của vợ chồng không?\", \"Quyền và nghĩa vụ về tài sản phát sinh trước khi chấm dứt hiệu lực có còn hiệu lực không?\", \"Nếu việc chia tài sản chung thực hiện theo bản án, thỏa thuận chấm dứt có cần Tòa án công nhận không?\"]',\n",
       " 'b74bd375': '[\\n    \"Trong trường hợp nào việc chia tài sản chung trong hôn nhân bị vô hiệu?\",\\n    \"Lợi ích nào của gia đình có thể bị ảnh hưởng khiến việc chia tài sản bị vô hiệu?\",\\n    \"Những nghĩa vụ nào được liệt kê có thể dẫn đến việc chia tài sản chung bị vô hiệu?\",\\n    \"Con cái có thể bị ảnh hưởng như thế nào khi chia tài sản chung bị vô hiệu?\",\\n    \"Các trường hợp nào khác mà việc chia tài sản bị coi là vô hiệu theo luật này?\"\\n]',\n",
       " '48bc6ff9': '[\\n  \"Tài sản nào được coi là tài sản riêng của vợ, chồng theo luật?\",\\n  \"Tài sản riêng của vợ, chồng có bao gồm tài sản thừa kế không?\",\\n  \"Có những trường hợp nào khiến tài sản riêng trở thành tài sản chung không?\",\\n  \"Hoa lợi và lợi tức phát sinh từ tài sản riêng được xử lý như thế nào?\",\\n  \"Tài sản nào không được tính là tài sản riêng của vợ, chồng?\"\\n]',\n",
       " '8ce1ad4f': '[\\n  \"Vợ chồng có quyền chiếm hữu và định đoạt tài sản riêng của mình không?\",\\n  \"Nếu vợ hoặc chồng không thể quản lý tài sản riêng, ai sẽ quản lý tài sản đó?\",\\n  \"Nghĩa vụ tài sản riêng của mỗi người được thanh toán từ đâu?\",\\n  \"Định đoạt tài sản riêng cần sự đồng ý của ai trong gia đình?\",\\n  \"Tài sản riêng có thể được nhập vào tài sản chung không?\"\\n]',\n",
       " '6a1cc6bc': '[\"Vợ chồng có nghĩa vụ riêng về tài sản như thế nào?\", \"Có những nghĩa vụ tài sản nào phát sinh trước khi kết hôn?\", \"Nghĩa vụ tài sản nào không liên quan đến nhu cầu gia đình?\", \"Có nghĩa vụ nào phát sinh từ hành vi vi phạm pháp luật không?\", \"Nghĩa vụ bảo quản và duy trì tài sản riêng được quy định ra sao?\"]',\n",
       " '146451b7': '[\\n    \"Việc nhập tài sản riêng của vợ chồng vào tài sản chung có cần thỏa thuận không?\",\\n    \"Có hình thức nào phải tuân theo khi nhập tài sản riêng vào tài sản chung không?\",\\n    \"Nghĩa vụ liên quan đến tài sản riêng đã nhập vào tài sản chung được thực hiện như thế nào?\",\\n    \"Nếu vợ chồng có thỏa thuận khác thì nghĩa vụ có liên quan đến tài sản chung có thay đổi không?\",\\n    \"Những quy định nào cần tuân thủ khi nhập tài sản riêng của vợ chồng vào tài sản chung?\"\\n]',\n",
       " 'd7b55c26': '[\\n    \"Thỏa thuận chế độ tài sản của vợ chồng phải được lập trước khi nào?\",\\n    \"Có cần công chứng hay chứng thực cho thỏa thuận này không?\",\\n    \"Chế độ tài sản theo thỏa thuận bắt đầu có hiệu lực từ khi nào?\",\\n    \"Để xác lập chế độ tài sản, có yêu cầu về hình thức nào không?\",\\n    \"Nếu hai bên không thỏa thuận, chế độ tài sản sẽ như thế nào?\"\\n]',\n",
       " '4a540223': '[\\n    \"Nội dung cơ bản của thỏa thuận về chế độ tài sản của vợ chồng bao gồm những gì?\",\\n    \"Các quyền và nghĩa vụ của vợ chồng đối với tài sản chung là gì?\",\\n    \"Thủ tục phân chia tài sản khi chấm dứt chế độ tài sản được quy định như thế nào?\",\\n    \"Nếu phát sinh vấn đề trong thỏa thuận tài sản thì tôi phải làm gì?\",\\n    \"Có những điều gì cần chú ý trong thỏa thuận về tài sản riêng của vợ chồng?\"\\n]',\n",
       " 'b33cdce7': '[\\n    \"Vợ chồng có quyền sửa đổi thỏa thuận về chế độ tài sản hay không?\",\\n    \"Cách thức sửa đổi, bổ sung thỏa thuận chế độ tài sản được quy định như thế nào?\",\\n    \"Có cần tuân theo hình thức nào khi sửa đổi thỏa thuận chế độ tài sản không?\",\\n    \"Luật nào quy định về việc sửa đổi nội dung thỏa thuận chế độ tài sản của vợ chồng?\",\\n    \"Những điều gì cần lưu ý khi bổ sung thỏa thuận về chế độ tài sản giữa vợ chồng?\"\\n]',\n",
       " '7ad757e4': '[\\n    \"Ai có quyền yêu cầu Tòa án giải quyết ly hôn theo Luật Hôn Nhân và Gia Đình?\",\\n    \"Cha mẹ có thể yêu cầu ly hôn trong trường hợp nào?\",\\n    \"Có những điều kiện nào mà chồng không được yêu cầu ly hôn?\",\\n    \"Vợ có thể yêu cầu ly hôn trong trường hợp nào không?\",\\n    \"Nếu vợ đang nuôi con dưới 12 tháng tuổi, chồng có quyền yêu cầu ly hôn không?\"\\n]',\n",
       " '3f2a4a4d': '[\"Luật nào quy định về hòa giải khi vợ chồng ly hôn?\", \"Ai khuyến khích hòa giải ở cơ sở trong trường hợp ly hôn?\", \"Căn cứ nào để thực hiện hòa giải ở cơ sở?\", \"Việc hòa giải ở cơ sở được quy định bởi văn bản pháp luật nào?\", \"Hòa giải ở cơ sở có bắt buộc khi vợ chồng yêu cầu ly hôn không?\"]',\n",
       " '85e826cd': '[\\n    \"Tòa án thụ lý đơn yêu cầu ly hôn theo quy định nào của pháp luật?\",\\n    \"Điều gì xảy ra nếu không đăng ký kết hôn nhưng có yêu cầu ly hôn?\",\\n    \"Tòa án giải quyết yêu cầu về con và tài sản trong trường hợp nào?\",\\n    \"Luật nào quy định về thụ lý đơn yêu cầu ly hôn?\",\\n    \"Khi nào Tòa án tuyên bố không công nhận quan hệ vợ chồng?\"\\n]',\n",
       " '0b193c2f': '[\"Tòa án có phải thực hiện hòa giải trong trường hợp nào?\", \"Quy trình hòa giải tại Tòa án diễn ra như thế nào?\", \"Có quy định nào về thời gian hòa giải không?\", \"Ai là người có thẩm quyền thực hiện hòa giải?\", \"Nếu hòa giải không thành, thì bước tiếp theo là gì?\"]',\n",
       " '199fb0fe': '[\"Ly hôn thuận tình là gì và những điều kiện nào cần có?\", \"Nếu vợ chồng không thỏa thuận được về tài sản thì sao?\", \"Tòa án sẽ làm gì nếu quyền lợi của vợ và con không được đảm bảo?\", \"Có cần tài liệu gì không để yêu cầu ly hôn thuận tình?\", \"Thời gian giải quyết một vụ ly hôn thuận tình là bao lâu?\"]',\n",
       " '63501459': '[\\n    \"Ly hôn theo yêu cầu của một bên được thực hiện trong những trường hợp nào?\",\\n    \"Tòa án sẽ giải quyết ly hôn khi nào không đạt được hòa giải?\",\\n    \"Có những bằng chứng nào để chứng minh hành vi bạo lực gia đình trong vụ ly hôn?\",\\n    \"Nếu một bên bị tuyên bố mất tích, ly hôn có được thực hiện không?\",\\n    \"Hành vi nào được coi là vi phạm nghiêm trọng quyền và nghĩa vụ trong hôn nhân?\"\\n]',\n",
       " '50af1cfa': '[\\n    \"Hôn nhân chấm dứt khi nào theo quy định của Luật Hôn Nhân và Gia Đình?\",\\n    \"Tòa án cần thực hiện những bước gì sau khi quyết định ly hôn có hiệu lực?\",\\n    \"Bản án ly hôn có hiệu lực có được gửi cho ai ngoài hai bên ly hôn không?\",\\n    \"Khi nào bản án, quyết định ly hôn của Tòa án có hiệu lực pháp luật?\",\\n    \"Ai là cơ quan nhận bản án, quyết định ly hôn đã có hiệu lực pháp luật?\"\\n]',\n",
       " '63ecff26': '[\\n    \"Quy định về quyền và nghĩa vụ của cha mẹ sau khi ly hôn là gì?\",\\n    \"Ai có trách nhiệm trông nom và nuôi dưỡng con cái sau ly hôn?\",\\n    \"Các điều nào trong Luật Hôn Nhân Và Gia Đình liên quan đến nuôi dưỡng con sau ly hôn?\",\\n    \"Cha mẹ có quyền gì đối với con cái sau khi ly hôn?\",\\n    \"Luật nào quy định về giáo dục con cái sau khi cha mẹ ly hôn?\"\\n]',\n",
       " '7330590b': '[\"Nguyên tắc nào điều chỉnh việc giải quyết tài sản khi vợ chồng ly hôn?\", \"Tài sản chung của vợ chồng được chia như thế nào?\", \"Có yếu tố nào được xem xét khi chia tài sản chung?\", \"Tài sản riêng của vợ, chồng được xử lý ra sao khi ly hôn?\", \"Ai bảo vệ quyền lợi của con chưa thành niên trong trường hợp ly hôn?\"]',\n",
       " 'c1d63340': '[\"Quyền tài sản của vợ chồng đối với người thứ ba sau ly hôn có hiệu lực đến bao lâu?\", \"Nếu có tranh chấp về quyền tài sản, luật nào sẽ được áp dụng để giải quyết?\", \"Có cách nào để thay đổi quyền, nghĩa vụ tài sản đối với người thứ ba không?\", \"Cần thỏa thuận gì giữa vợ chồng và người thứ ba để quyền tài sản không còn hiệu lực?\", \"Trong trường hợp ly hôn, quyền và nghĩa vụ tài sản của tôi sẽ được xử lý như thế nào?\"]',\n",
       " '2067f1b4': '[\"Trong trường hợp vợ chồng sống chung với gia đình và ly hôn, tài sản sẽ được chia như thế nào?\", \"Nếu tài sản của vợ chồng không xác định được trong khối tài sản chung, ai sẽ quyết định cách thức chia tài sản?\", \"Khi tài sản chung có thể xác định được, quy định nào áp dụng để chia tài sản vợ chồng?\", \"Vợ chồng cần làm gì nếu không thể thỏa thuận được việc chia tài sản?\", \"Công sức đóng góp của vợ chồng có ảnh hưởng ra sao đến việc chia tài sản khi ly hôn?\"]',\n",
       " 'f5a05e35': '[\"Quyền sử dụng đất của vợ chồng sẽ được chia như thế nào khi ly hôn?\", \"Nếu quyền sử dụng đất thuộc về một bên, bên đó có quyền gì khi ly hôn?\", \"Cách giải quyết quyền sử dụng đất nông nghiệp trồng cây hàng năm khi ly hôn là gì?\", \"Khi vợ chồng sống chung với gia đình, quyền lợi của bên không có đất sẽ được xử lý ra sao?\", \"Phân chia đất ở khi ly hôn được quy định như thế nào theo luật?\"]',\n",
       " 'ff7b8b7b': '[\\n  \"Vợ hoặc chồng có quyền gì liên quan đến nhà ở khi ly hôn?\",\\n  \"Nếu nhà ở đã sử dụng chung thì tài sản thuộc ai sau khi ly hôn?\",\\n  \"Thời gian được quyền lưu cư của vợ hoặc chồng là bao lâu sau khi ly hôn?\",\\n  \"Trong trường hợp nào vợ hoặc chồng không được quyền lưu cư?\",\\n  \"Nếu có thỏa thuận giữa hai bên, quyền lưu cư có thể thay đổi không?\"\\n]',\n",
       " 'b0df0f34': '[\\n    \"Thế nào là tài sản chung của vợ chồng trong kinh doanh?\",\\n    \"Vợ chồng có quyền gì khi một bên tham gia kinh doanh tài sản chung?\",\\n    \"Khi nào vợ hoặc chồng phải thanh toán cho bên kia giá trị tài sản?\",\\n    \"Có trường hợp nào ngoại lệ cho việc chia tài sản chung trong kinh doanh không?\",\\n    \"Thủ tục nào cần thực hiện khi chấm dứt hôn nhân do một bên chết hoặc bị tuyên bố đã chết?\"\\n]',\n",
       " '4857898e': '[\"Hôn nhân chấm dứt khi nào?\", \"Thời điểm nào xác định hôn nhân chấm dứt?\", \"Nếu vợ hoặc chồng chết, hôn nhân chấm dứt ra sao?\", \"Tòa án có vai trò gì trong việc chấm dứt hôn nhân?\", \"Ngày chết của vợ hoặc chồng được xác định như thế nào trong quyết định của Tòa án?\"]',\n",
       " '145c53b2': '[\\n    \"Quy định về quản lý tài sản chung của vợ chồng khi một trong hai bên chết là gì?\",\\n    \"Nếu một bên vợ hoặc chồng chết, tài sản chung sẽ được chia như thế nào?\",\\n    \"Trong trường hợp cần chia di sản, ai có quyền yêu cầu hạn chế phân chia di sản?\",\\n    \"Đối với tài sản chung trong kinh doanh, có quy định gì khác không?\",\\n    \"Tài sản của người đã chết sẽ được chia theo cách nào theo pháp luật thừa kế?\"\\n]',\n",
       " '1ab08ea9': '[\"Luật nào quy định về quyền và nghĩa vụ của cha mẹ và con?\", \"Con sinh ra không phụ thuộc tình trạng hôn nhân của cha mẹ có quyền gì?\", \"Quyền và nghĩa vụ giữa con nuôi và cha nuôi được quy định như thế nào?\", \"Có những điều kiện nào mà thỏa thuận của cha mẹ không được ảnh hưởng đến quyền của con?\", \"Các quyền và nghĩa vụ cha mẹ và con có được bảo vệ không?\"]',\n",
       " '0fdcbc2e': '[\"Cha mẹ có nghĩa vụ như thế nào đối với con cái?\", \"Quyền của cha mẹ đối với con chưa thành niên là gì?\", \"Cha mẹ có trách nhiệm gì trong việc nuôi dưỡng và giáo dục con cái?\", \"Có những điều cấm kỵ nào mà cha mẹ phải tuân thủ khi đối xử với con?\", \"Cha mẹ có thể làm gì nếu con cái mất năng lực hành vi dân sự?\"]',\n",
       " '646f4add': '[\\n    \"Con có quyền gì đối với cha mẹ theo quy định của Luật Hôn Nhân và Gia Đình?\",\\n    \"Nghĩa vụ của con đối với cha mẹ là gì trong luật pháp Việt Nam?\",\\n    \"Con chưa thành niên có quyền sống chung với cha mẹ không?\",\\n    \"Con đã thành niên có quyền tự do chọn nghề nghiệp hay nơi cư trú không?\",\\n    \"Con có quyền về tài sản ra sao nếu đóng góp công sức vào tài sản của gia đình?\"\\n]',\n",
       " '3df2d127': '[\\n    \"Ai có nghĩa vụ chăm sóc con theo Luật Hôn Nhân Và Gia Đình?\",\\n    \"Con có nghĩa vụ gì đối với cha mẹ theo quy định của luật?\",\\n    \"Trường hợp nào thì con phải chăm sóc cha mẹ?\",\\n    \"Cha mẹ có quyền gì trong việc nuôi dưỡng con chưa thành niên?\",\\n    \"Nếu cha mẹ không có khả năng lao động, ai sẽ chăm sóc họ?\"\\n]',\n",
       " '39207ac4': '[\\n    \"Ai là người có nghĩa vụ và quyền giáo dục con theo Luật Hôn Nhân Và Gia Đình?\",\\n    \"Cha mẹ cần làm gì để tạo điều kiện cho con học tập tốt hơn?\",\\n    \"Luật quy định như thế nào về việc cha mẹ hướng dẫn con chọn nghề?\",\\n    \"Cha mẹ có thể làm gì nếu gặp khó khăn trong việc giáo dục con?\",\\n    \"Luật có đề cập đến việc phối hợp giữa cha mẹ và trường học trong giáo dục con không?\"\\n]',\n",
       " 'dc292a9c': '[\\n  \"Ai là người đại diện pháp luật cho con chưa thành niên theo Luật Hôn Nhân và Gia Đình?\",\\n  \"Cha mẹ có quyền thực hiện giao dịch gì để đáp ứng nhu cầu của con chưa thành niên?\",\\n  \"Có cần sự thỏa thuận của cha mẹ cho giao dịch tài sản nào không?\",\\n  \"Cha mẹ có trách nhiệm gì khi thực hiện giao dịch liên quan đến tài sản của con?\",\\n  \"Trong trường hợp con đã thành niên nhưng mất năng lực hành vi dân sự, ai sẽ đại diện cho con?\"\\n]',\n",
       " '227bb762': '[\"Ai phải bồi thường thiệt hại do con gây ra?\", \"Con nào phải bồi thường thiệt hại?\", \"Theo quy định nào về bồi thường thiệt hại?\", \"Có cần bồi thường khi con đã thành niên không?\", \"Bồi thường thiệt hại này thuộc loại nào trong pháp luật?\"]',\n",
       " '32af0af6': '[\\n    \"Con có quyền có tài sản riêng không?\",\\n    \"Tài sản riêng của con bao gồm những gì?\",\\n    \"Con từ bao nhiêu tuổi có nghĩa vụ chăm lo cho gia đình?\",\\n    \"Con đã thành niên có nghĩa vụ gì đối với gia đình?\",\\n    \"Tài sản hình thành từ tài sản riêng của con có được xem là tài sản riêng không?\"\\n]',\n",
       " '654575f0': '[\"Con bao nhiêu tuổi thì có thể tự quản lý tài sản riêng?\", \"Ai sẽ quản lý tài sản riêng của con chưa đủ 15 tuổi?\", \"Tài sản của con sẽ được quản lý như thế nào nếu con mất năng lực hành vi dân sự?\", \"Khi nào tài sản riêng của con sẽ được giao lại cho con?\", \"Cha mẹ có thể quản lý tài sản riêng của con trong những trường hợp nào?\"]',\n",
       " '5009f38e': '[\\n    \"Cha mẹ có quyền định đoạt tài sản riêng của con dưới 15 tuổi không?\",\\n    \"Khi nào thì con từ đủ 09 tuổi có thể bày tỏ nguyện vọng về tài sản của mình?\",\\n    \"Con từ đủ 15 tuổi có quyền định đoạt tài sản nào mà không cần sự đồng ý của cha mẹ?\",\\n    \"Tài sản nào của con đã thành niên mất năng lực hành vi dân sự được người giám hộ định đoạt?\",\\n    \"Cần có giấy tờ gì khi con từ 15 đến dưới 18 tuổi muốn định đoạt bất động sản?\"\\n]',\n",
       " '094280f6': '[\"Cha nuôi, mẹ nuôi và con nuôi có quyền và nghĩa vụ như thế nào theo luật?\",\"Khi nào quyền nghĩa vụ của cha nuôi, mẹ nuôi chấm dứt?\",\"Quyền và nghĩa vụ của cha mẹ đẻ và con nuôi được quy định ra sao?\",\"Điều gì sẽ xảy ra với quyền và nghĩa vụ giữa cha đẻ, mẹ đẻ và con khi đã có mối liên hệ nuôi con nuôi?\",\"Tòa án có vai trò gì trong việc chấm dứt nuôi con nuôi và chỉ định người giám hộ không?\"]',\n",
       " 'f523c4e4': '[\\n    \"Cha dượng, mẹ kế có những quyền và nghĩa vụ gì đối với con riêng của vợ hoặc chồng?\",\\n    \"Con riêng có quyền và nghĩa vụ gì đối với cha dượng, mẹ kế của mình?\",\\n    \"Các điều nào trong Luật Hôn Nhân và Gia Đình quy định về quyền và nghĩa vụ của cha dượng, mẹ kế?\",\\n    \"Có cần sự đồng ý của con riêng khi cha dượng, mẹ kế nuôi dưỡng và giáo dục không?\",\\n    \"Những điều khoản nào liên quan đến nghĩa vụ chăm sóc và phụng dưỡng trong hồ sơ luật này?\"\\n]',\n",
       " '9320cbd1': '[\"Con dâu và con rể có những quyền lợi gì khi sống chung với gia đình chồng hoặc vợ?\", \"Nghĩa vụ của con dâu và con rể đối với cha mẹ chồng và cha mẹ vợ là gì?\", \"Luật nào quy định về quyền và nghĩa vụ của con dâu, con rể trong gia đình?\", \"Có quy định cụ thể nào về việc chăm sóc giữa con dâu, con rể và cha mẹ vợ, cha mẹ chồng không?\", \"Các điều luật nào liên quan đến quyền và nghĩa vụ của con dâu và con rể trong Luật Hôn Nhân Và Gia Đình?\"]',\n",
       " 'c26c6dae': '[\"Cha mẹ có quyền và nghĩa vụ gì đối với con cái sau khi ly hôn?\", \"Nếu cha mẹ không thống nhất được việc nuôi con thì ai sẽ quyết định?\", \"Có điều kiện nào cho việc mẹ trực tiếp nuôi con dưới 36 tháng tuổi không?\", \"Nguyện vọng của con sẽ được xem xét trong trường hợp nào?\", \"Vợ chồng cần thỏa thuận những vấn đề gì liên quan đến chăm sóc con sau ly hôn?\"]',\n",
       " '244ec245': '[\\n    \"Cha, mẹ không trực tiếp nuôi con sau ly hôn có nghĩa vụ gì đối với quyền của con?\",\\n    \"Người không trực tiếp nuôi con có nghĩa vụ gì trong việc cấp dưỡng cho con?\",\\n    \"Quyền thăm nom của cha, mẹ không trực tiếp nuôi con được quy định như thế nào?\",\\n    \"Có thể bị hạn chế quyền thăm nom con trong trường hợp nào không?\",\\n    \"Cha, mẹ không trực tiếp nuôi con có quyền gì trong việc chăm sóc và giáo dục con sau khi ly hôn?\"\\n]',\n",
       " 'cfe3306d': '[\"Cha, mẹ trực tiếp nuôi con có quyền gì đối với người không trực tiếp nuôi con sau ly hôn?\", \"Người không trực tiếp nuôi con có nghĩa vụ gì theo Luật Hôn Nhân và Gia Đình?\", \"Có những quyền nào của cha, mẹ trực tiếp nuôi con liên quan đến việc thăm nom con?\", \"Ai không được cản trở trong việc nuôi dưỡng và giáo dục con?\", \"Luật này quy định như thế nào về quyền được nuôi con?\"]',\n",
       " '1e3ae93d': '[\"Tòa án có quyền quyết định thay đổi người nuôi con trong trường hợp nào?\", \"Có những căn cứ nào để thay đổi người trực tiếp nuôi con?\", \"Nguyện vọng của con có được xem xét khi thay đổi người nuôi không?\", \"Ai có quyền yêu cầu thay đổi người trực tiếp nuôi con?\", \"Nếu cả cha mẹ đều không đủ điều kiện nuôi con thì ai sẽ nhận nuôi?\"]',\n",
       " 'f85a0fdc': '[\"Cha, mẹ bị hạn chế quyền đối với con trong những trường hợp nào?\", \"Tòa án có thẩm quyền quyết định hạn chế quyền cha, mẹ như thế nào?\", \"Thời hạn hạn chế quyền của cha, mẹ đối với con là bao lâu?\", \"Có cách nào để rút ngắn thời hạn hạn chế quyền cha, mẹ không?\", \"Những hành vi nào của cha, mẹ bị coi là vi phạm nghiêm trọng quyền nuôi dưỡng con?\"]',\n",
       " 'f8d760bc': '[\"Ai có quyền yêu cầu Tòa án hạn chế quyền của cha mẹ đối với con chưa thành niên?\", \"Ai là người thân thích có thể yêu cầu Tòa án trong trường hợp này?\", \"Cơ quan nào có thẩm quyền yêu cầu hạn chế quyền của cha mẹ đối với con chưa thành niên?\", \"Có những tổ chức nào khác có quyền đề nghị Tòa án hạn chế quyền của cha mẹ?\", \"Cha, mẹ nào bị vi phạm quyền có thể bị yêu cầu hạn chế?\"]',\n",
       " '7077e01f': '[\"Hậu quả pháp lý khi một trong cha mẹ bị hạn chế quyền với con chưa thành niên là gì?\", \"Ai sẽ thực hiện quyền nuôi dưỡng và chăm sóc con khi cha hoặc mẹ bị hạn chế quyền?\", \"Trong trường hợp nào sẽ có người giám hộ cho con chưa thành niên?\", \"Cha hoặc mẹ bị hạn chế quyền có phải thực hiện nghĩa vụ cấp dưỡng cho con không?\", \"Điều kiện nào để một bên cha mẹ không bị hạn chế quyền không đủ khả năng thực hiện nghĩa vụ với con?\"]',\n",
       " '88843b74': '[\\n    \"Con sinh ra trong thời kỳ hôn nhân có được coi là con chung của vợ chồng không?\",\\n    \"Thời gian bao lâu sau khi chấm dứt hôn nhân thì con vẫn được coi là con chung?\",\\n    \"Con sinh ra trước khi đăng ký kết hôn có được thừa nhận là con chung không?\",\\n    \"Nếu cha, mẹ không thừa nhận con thì cần có những bằng chứng gì?\",\\n    \"Ai sẽ xác định cha, mẹ trong trường hợp không có sự thừa nhận?\" \\n]',\n",
       " 'f2efa9fd': '[\\n  \"Ai có quyền yêu cầu Tòa án xác định một người là con của mình?\",\\n  \"Người nào có thể yêu cầu Tòa án xác định không phải là con của họ?\",\\n  \"Tòa án sẽ xem xét yêu cầu xác định con trong trường hợp nào?\",\\n  \"Có cần chứng minh điều gì khi yêu cầu xác định con qua Tòa án không?\",\\n  \"Luật nào quy định về việc xác định con trong hôn nhân và gia đình?\"\\n]',\n",
       " 'f9b6f23a': '[\\n    \"Con có quyền nhận cha mẹ của mình không, kể cả khi họ đã chết?\",\\n    \"Có phải con đã thành niên có thể nhận cha mà không cần sự đồng ý của mẹ không?\",\\n    \"Nếu con nhận mẹ, có cần sự đồng ý của cha không?\",\\n    \"Quyền nhận cha mẹ bao gồm những ai?\",\\n    \"Liệu quyền nhận cha mẹ có thay đổi khi một trong hai người đã qua đời?\"\\n]',\n",
       " 'b94ca499': '[\\n    \"Ai có quyền nhận con theo Luật Hôn Nhân và Gia Đình?\",\\n    \"Quy định về quyền nhận con trong trường hợp cha mẹ đã ly hôn là gì?\",\\n    \"Nếu một người có vợ hoặc chồng thì họ có cần sự đồng ý của người kia khi nhận con không?\",\\n    \"Quyền nhận con có áp dụng cho trường hợp con đã chết không?\",\\n    \"Các điều kiện nào cần thiết để nhận con theo quy định của Luật Hôn Nhân và Gia Đình?\"\\n]',\n",
       " '40d7d24b': '[\\n  \"Nếu người yêu cầu xác định cha, mẹ, con qua đời thì ai có quyền yêu cầu Tòa án giải quyết?\",\\n  \"Quy trình nào sẽ diễn ra khi người yêu cầu xác định cha, mẹ, con đã chết?\",\\n  \"Tòa án có thể thực hiện việc xác định cha, mẹ, con trong trường hợp nào?\",\\n  \"Thời gian giải quyết yêu cầu xác định cha, mẹ, con trong trường hợp người yêu cầu chết là bao lâu?\",\\n  \"Có cần bổ sung tài liệu gì không khi người yêu cầu xác định đã qua đời?\"\\n]',\n",
       " '1480de90': '[\\n    \"Điều nào trong Luật Hôn Nhân và Gia Đình quy định về xác định cha, mẹ khi sinh con bằng kỹ thuật hỗ trợ sinh sản?\",\\n    \"Ai được công nhận là mẹ khi một phụ nữ sống độc thân sinh con bằng kỹ thuật hỗ trợ sinh sản?\",\\n    \"Việc sinh con bằng kỹ thuật hỗ trợ sinh sản có ảnh hưởng đến quan hệ cha, mẹ và con hay không?\",\\n    \"Xác định cha, mẹ trong trường hợp mang thai hộ vì mục đích nhân đạo được quy định ở điều nào?\",\\n    \"Người cho tinh trùng, cho noãn, cho phôi có quan hệ gì với đứa con được sinh ra không?\"\\n]',\n",
       " '3b7589f3': '[\\n    \"Ai là cha mẹ trong trường hợp mang thai hộ vì mục đích nhân đạo?\",\\n    \"Khi nào con được xác định là con chung của vợ chồng nhờ mang thai hộ?\",\\n    \"Con sinh ra từ mang thai hộ có được công nhận là con hợp pháp không?\",\\n    \"Điều gì xảy ra với quyền nuôi dưỡng con trong trường hợp mang thai hộ?\",\\n    \"Có yêu cầu gì về pháp lý khi thực hiện mang thai hộ vì mục đích nhân đạo không?\"\\n]',\n",
       " '04868edf': '[\"Điều kiện nào để vợ chồng có thể nhờ người mang thai hộ?\", \"Người mang thai hộ cần đáp ứng những yêu cầu gì?\", \"Việc mang thai hộ vì mục đích nhân đạo có cần văn bản không?\", \"Có phải tất cả vợ chồng đều có quyền nhờ mang thai hộ không?\", \"Người mang thai hộ có cần sự đồng ý của chồng không?\"]',\n",
       " 'bd9fb543': '[\"Thỏa thuận về mang thai hộ vì mục đích nhân đạo cần có những nội dung gì cơ bản?\", \"Có cần công chứng cho thỏa thuận mang thai hộ không?\", \"Nếu bên nhờ mang thai hộ ủy quyền cho người khác thì có giá trị pháp lý không?\", \"Ai là người có thẩm quyền xác nhận thỏa thuận mang thai hộ với cơ sở y tế?\", \"Những quyền và nghĩa vụ nào được quy định trong thỏa thuận mang thai hộ?\"]',\n",
       " '36d186a0': '[\\n    \"Người mang thai hộ có quyền gì trong việc chăm sóc sức khỏe sinh sản?\",\\n    \"Bên mang thai hộ có quyền yêu cầu gì từ bên nhờ mang thai hộ?\",\\n    \"Người mang thai hộ có được hưởng chế độ thai sản không?\",\\n    \"Nếu bên nhờ mang thai hộ từ chối nhận con, bên mang thai hộ có quyền gì?\",\\n    \"Người mang thai hộ cần tuân thủ quy định nào về thăm khám trong quá trình mang thai?\"\\n]',\n",
       " '71f8b1f9': '[\\n  \"Bên nhờ mang thai hộ có nghĩa vụ gì về chi phí chăm sóc sức khỏe không?\",\\n  \"Quyền lợi gì của bên nhờ mang thai hộ liên quan đến con khi sinh ra?\",\\n  \"Nếu bên nhờ mang thai hộ không nhận con kịp thời thì sẽ xảy ra điều gì?\",\\n  \"Con sinh ra từ việc mang thai hộ có quyền lợi gì trong gia đình bên nhờ không?\",\\n  \"Bên nhờ mang thai hộ có thể làm gì nếu bên mang thai hộ từ chối giao con?\"\\n]',\n",
       " '4cce6ec0': '[\\n    \"Ai là cơ quan có thẩm quyền giải quyết tranh chấp về sinh con bằng kỹ thuật hỗ trợ sinh sản?\",\\n    \"Điều gì xảy ra nếu cả hai vợ chồng nhờ mang thai hộ tử vong trước khi giao đứa trẻ?\",\\n    \"Bên nào có quyền nhận nuôi đứa trẻ trong trường hợp bên nhờ mang thai hộ chết?\",\\n    \"Nếu bên mang thai hộ không muốn nuôi đứa trẻ, ai sẽ giám hộ và cấp dưỡng?\",\\n    \"Có quy định nào liên quan đến việc mang thai hộ vì mục đích nhân đạo không?\"\\n]',\n",
       " '0702549a': '[\\n    \"Những hành vi nào liên quan đến sinh con bằng kỹ thuật hỗ trợ sinh sản có thể bị xử lý theo Luật Hôn Nhân Và Gia Đình?\",\\n    \"Các bên vi phạm quyền và nghĩa vụ về mang thai hộ sẽ bị xử lý như thế nào?\",\\n    \"Xử lý vi phạm trong quan hệ sinh con bằng kỹ thuật hỗ trợ sinh sản phụ thuộc vào điều kiện gì?\",\\n    \"Có những hình thức xử lý nào được áp dụng cho hành vi vi phạm trong lĩnh vực này?\",\\n    \"Luật này quy định mức độ xử lý vi phạm đối với hành vi vi phạm là như thế nào?\"\\n]',\n",
       " 'bccd6f03': '[\\n    \"Ai là cơ quan có thẩm quyền xác định cha, mẹ, con khi không có tranh chấp?\",\\n    \"Tòa án có thẩm quyền nào trong trường hợp có tranh chấp về việc xác định cha, mẹ, con?\",\\n    \"Trong trường hợp nào quyết định của Tòa án về việc xác định cha, mẹ, con cần được gửi cho cơ quan đăng ký hộ tịch?\",\\n    \"Điều nào của Luật Hôn Nhân và Gia Đình quy định về trường hợp người được yêu cầu xác định đã chết?\",\\n    \"Các bên liên quan nào cần được thông báo khi có quyết định xác định cha, mẹ, con từ Tòa án?\"\\n]',\n",
       " '2e530947': '[\\n  \"Các thành viên trong gia đình có quyền và nghĩa vụ gì với nhau?\",\\n  \"Khi sống chung, các thành viên gia đình cần tham gia vào những công việc gì?\",\\n  \"Nhà nước có chính sách gì để hỗ trợ gia đình trong việc giữ gìn truyền thống?\",\\n  \"Quyền lợi nào của các thành viên gia đình được pháp luật bảo vệ?\",\\n  \"Các thành viên có nghĩa vụ đóng góp gì để duy trì đời sống chung của gia đình?\"\\n]',\n",
       " '53741c72': '[\\n  \"Ông bà nội, ông bà ngoại có những quyền gì đối với cháu?\",\\n  \"Nghĩa vụ chăm sóc cháu của ông bà được quy định như thế nào?\",\\n  \"Cháu có trách nhiệm gì đối với ông bà nội, ông bà ngoại?\",\\n  \"Trường hợp nào ông bà phải nuôi dưỡng cháu?\",\\n  \"Cháu đã thành niên có nghĩa vụ gì nếu ông bà không còn con để nuôi dưỡng?\"\\n]',\n",
       " '53603883': '[\"Quyền của anh, chị, em trong gia đình là gì?\", \"Nghĩa vụ của anh, chị, em đối với nhau như thế nào?\", \"Anh, chị, em có quyền nuôi dưỡng nhau trong những tình huống nào?\", \"Điều gì xảy ra khi cha mẹ không có khả năng trông nom con cái?\", \"Luật quy định như thế nào về sự giúp đỡ giữa anh, chị, em?\"]',\n",
       " 'edaf687b': '[\\n    \"Nghĩa vụ cấp dưỡng được thực hiện giữa những ai theo Luật Hôn Nhân và Gia Đình?\",\\n    \"Nghĩa vụ cấp dưỡng có thể được chuyển giao cho người khác không?\",\\n    \"Nếu người có nghĩa vụ cấp dưỡng không thực hiện, tôi nên làm gì?\",\\n    \"Tòa án có quyền can thiệp vào nghĩa vụ cấp dưỡng ở trường hợp nào?\",\\n    \"Ai là những người có quyền yêu cầu thực hiện nghĩa vụ cấp dưỡng?\"\\n]',\n",
       " '95ac90a5': '[\"Ai có nghĩa vụ cấp dưỡng cho nhiều người?\", \"Làm thế nào để thỏa thuận về mức cấp dưỡng?\", \"Nếu không thỏa thuận được, tôi phải làm gì?\", \"Mức cấp dưỡng phụ thuộc vào yếu tố nào?\", \"Người cấp dưỡng có thể yêu cầu Tòa án giải quyết không?\"]',\n",
       " 'ddb6e7af': '[\\n    \"Ai có nghĩa vụ cấp dưỡng cho một người hoặc nhiều người theo Luật Hôn Nhân Và Gia Đình?\",\\n    \"Nếu nhiều người cùng cấp dưỡng, họ cần thỏa thuận như thế nào về mức đóng góp?\",\\n    \"Trong trường hợp không thỏa thuận được, ai sẽ giải quyết vấn đề cấp dưỡng?\",\\n    \"Có yêu cầu nào về thu nhập của những người cấp dưỡng không?\",\\n    \"Người được cấp dưỡng cần có nhu cầu thiết yếu nào để nhận được hỗ trợ?\"\\n]',\n",
       " '35cb521d': '[\\n    \"Cha mẹ có nghĩa vụ cấp dưỡng cho con trong những trường hợp nào?\",\\n    \"Ai là đối tượng được cấp dưỡng theo Luật Hôn Nhân và Gia Đình?\",\\n    \"Nếu cha mẹ không sống chung với con, họ có nghĩa vụ cấp dưỡng không?\",\\n    \"Con đã thành niên nhưng không có khả năng lao động thì sao?\",\\n    \"Nghĩa vụ cấp dưỡng áp dụng khi nào cha mẹ vi phạm nghĩa vụ nuôi dưỡng?\"\\n]',\n",
       " '85c82d17': '[\"Con có nghĩa vụ cấp dưỡng cho cha, mẹ trong những trường hợp nào?\", \"Ai là người có quyền yêu cầu con cấp dưỡng?\", \"Con đã thành niên thì có bắt buộc phải cấp dưỡng không?\", \"Nếu cha, mẹ có tài sản, con có cần phải cấp dưỡng không?\", \"Điều kiện nào để cha, mẹ được nhận cấp dưỡng từ con?\"]',\n",
       " 'a114ebfe': '[\\n    \"Ai có nghĩa vụ cấp dưỡng cho em chưa thành niên khi không có cha mẹ?\",\\n    \"Điều kiện nào để anh, chị không sống chung có nghĩa vụ cấp dưỡng?\",\\n    \"Khi nào em đã thành niên có trách nhiệm cấp dưỡng cho anh, chị?\",\\n    \"Những ai được hưởng trợ cấp trong trường hợp không có khả năng lao động?\",\\n    \"Cấp dưỡng có áp dụng cho trường hợp gia đình không còn cha mẹ không?\"\\n]',\n",
       " '30000d3a': '[\\n    \"Ông bà nội và ông bà ngoại có nghĩa vụ cấp dưỡng cho cháu trong những trường hợp nào?\",\\n    \"Cháu cần đáp ứng điều kiện gì để nhận được sự cấp dưỡng từ ông bà nội hoặc ông bà ngoại?\",\\n    \"Nếu cháu đã thành niên, liệu cháu có nghĩa vụ cấp dưỡng cho ông bà không?\",\\n    \"Cấp dưỡng giữa ông bà và cháu có bị ảnh hưởng nếu không sống chung không?\",\\n    \"Luật nào quy định về nghĩa vụ cấp dưỡng giữa ông bà và cháu?\"\\n]',\n",
       " '36501b98': '[\\n    \"Cô, dì, chú, cậu, bác ruột có nghĩa vụ cấp dưỡng cho cháu ruột trong trường hợp nào?\",\\n    \"Cháu ruột có nghĩa vụ cấp dưỡng cho ai trong gia đình?\",\\n    \"Điều kiện để cô, dì, chú, cậu, bác ruột phải cấp dưỡng cho cháu là gì?\",\\n    \"Người nào không có khả năng lao động thì được cấp dưỡng theo Luật này?\",\\n    \"Luật quy định như thế nào về việc cấp dưỡng giữa trẻ em và người thân trong gia đình?\"\\n]',\n",
       " '98aefc90': '[\\n    \"Khi nào thì có nghĩa vụ cấp dưỡng giữa vợ và chồng sau khi ly hôn?\",\\n    \"Ai là người có quyền yêu cầu cấp dưỡng khi hai bên ly hôn?\",\\n    \"Điều kiện nào để yêu cầu cấp dưỡng được chấp nhận?\",\\n    \"Bên cấp dưỡng phải dựa vào khả năng nào để thực hiện nghĩa vụ?\",\\n    \"Cấp dưỡng có thể được yêu cầu trong trường hợp nào khi một bên gặp khó khăn?\"\\n]',\n",
       " '115936d7': '[\"Mức cấp dưỡng có thể được thỏa thuận như thế nào giữa các bên?\", \"Nếu không thể thỏa thuận về mức cấp dưỡng thì phải làm gì?\", \"Mức cấp dưỡng có thể thay đổi trong những trường hợp nào?\", \"Ai là người có quyền yêu cầu Tòa án giải quyết vấn đề cấp dưỡng?\", \"Căn cứ nào để xác định mức cấp dưỡng hợp lý?\"]',\n",
       " '14e68f53': '[\\n  \"Phương thức nào được sử dụng để cấp dưỡng theo Luật Hôn Nhân và Gia Đình?\",\\n  \"Có thể thay đổi phương thức cấp dưỡng không, và nếu có thì thế nào?\",\\n  \"Trong trường hợp nào người có nghĩa vụ cấp dưỡng có thể tạm ngừng cấp dưỡng?\",\\n  \"Nếu các bên không thỏa thuận được về cấp dưỡng thì phải làm gì?\",\\n  \"Cấp dưỡng có thể được thực hiện bao lâu một lần theo quy định?\" \\n]',\n",
       " '69986846': '[\\n    \"Nghĩa vụ cấp dưỡng sẽ chấm dứt khi nào?\",\\n    \"Có những trường hợp nào dẫn đến việc chấm dứt nghĩa vụ cấp dưỡng?\",\\n    \"Ai là người có thể chấm dứt nghĩa vụ cấp dưỡng theo luật pháp?\",\\n    \"Nếu người được cấp dưỡng đã trưởng thành, nghĩa vụ cấp dưỡng còn hiệu lực không?\",\\n    \"Nghĩa vụ cấp dưỡng có chấm dứt khi người được cấp dưỡng được nhận làm con nuôi không?\"\\n]',\n",
       " '6ee847ce': '[\"Ai có quyền yêu cầu thực hiện nghĩa vụ cấp dưỡng theo Luật Hôn Nhân và Gia Đình?\", \"Thủ tục yêu cầu Tòa án buộc thực hiện nghĩa vụ cấp dưỡng là gì?\", \"Có các tổ chức nào có quyền yêu cầu thực hiện nghĩa vụ cấp dưỡng không?\", \"Người nào có thể yêu cầu Tòa án nếu người cấp dưỡng trốn tránh nghĩa vụ?\", \"Điều kiện nào để người thân thích yêu cầu nghĩa vụ cấp dưỡng?\"]',\n",
       " '2a098f02': '[\"Quan hệ hôn nhân với người nước ngoài có được pháp luật Việt Nam bảo vệ không?\", \"Người nước ngoài ở Việt Nam có quyền gì trong quan hệ hôn nhân với công dân Việt Nam?\", \"Điều gì xảy ra với quyền lợi của công dân Việt Nam ở nước ngoài trong quan hệ hôn nhân?\", \"Ai có trách nhiệm quy định chi tiết về quan hệ hôn nhân có yếu tố nước ngoài?\", \"Luật nào bảo vệ quyền lợi hợp pháp của các bên trong quan hệ hôn nhân và gia đình quốc tế?\"]',\n",
       " '95b8ed00': '[\\n    \"Các quy định pháp luật nào áp dụng cho hôn nhân và gia đình có yếu tố nước ngoài ở Việt Nam?\",\\n    \"Điều gì xảy ra nếu điều ước quốc tế mà Việt Nam tham gia có quy định khác với Luật Hôn Nhân và Gia Đình?\",\\n    \"Khi nào thì pháp luật nước ngoài được áp dụng trong quan hệ hôn nhân và gia đình tại Việt Nam?\",\\n    \"Nếu pháp luật nước ngoài dẫn chiếu đến pháp luật Việt Nam thì quy định nào sẽ được áp dụng?\",\\n    \"Trong trường hợp nào các văn bản pháp luật khác của Việt Nam có thể dẫn chiếu đến việc áp dụng pháp luật nước ngoài?\"\\n]',\n",
       " '710af5fa': '[\"Thẩm quyền đăng ký hộ tịch liên quan đến hôn nhân nước ngoài được quy định như thế nào?\", \"Ai có thẩm quyền giải quyết tranh chấp trong vụ việc hôn nhân có yếu tố nước ngoài?\", \"Tòa án nào có thẩm quyền hủy kết hôn trái pháp luật giữa công dân Việt Nam và nước ngoài?\", \"Các quy định về ly hôn với người nước ngoài được thực hiện ra sao?\", \"Luật nào quy định quyền và nghĩa vụ giữa vợ chồng trong hôn nhân có yếu tố nước ngoài?\"]',\n",
       " 'bf39ada0': '[\\n    \"Giấy tờ hôn nhân nước ngoài có cần hợp pháp hóa lãnh sự không?\",\\n    \"Ai là cơ quan có thẩm quyền xác nhận giấy tờ hôn nhân tại nước ngoài?\",\\n    \"Có trường hợp nào không cần hợp pháp hóa lãnh sự giấy tờ hôn nhân không?\",\\n    \"Điều ước quốc tế nào có thể miễn hợp pháp hóa lãnh sự giấy tờ hôn nhân?\",\\n    \"Nguyên tắc nào được áp dụng để miễn hợp pháp hóa lãnh sự theo luật Việt Nam?\"\\n]',\n",
       " '1754a39d': '[\\n  \"Bản án hôn nhân nước ngoài có được công nhận ở Việt Nam không?\",\\n  \"Thủ tục nào để thi hành quyết định hôn nhân quốc tế tại Việt Nam?\",\\n  \"Cơ quan nào quy định việc ghi chú hôn nhân ngoại quốc vào sổ hộ tịch?\",\\n  \"Có cần đơn yêu cầu công nhận quyết định hôn nhân nước ngoài tại Việt Nam không?\",\\n  \"Quy định nào áp dụng cho bản án hôn nhân không cần thi hành tại Việt Nam?\"\\n]',\n",
       " '3d54654f': '[\"Điều kiện nào cần tuân theo khi kết hôn giữa công dân Việt Nam và người nước ngoài?\", \"Người nước ngoài phải tuân theo luật nào khi kết hôn tại Việt Nam?\", \"Nếu một người nước ngoài thường trú ở Việt Nam kết hôn, cần những điều kiện gì?\", \"Luật nào quy định điều kiện kết hôn cho người nước ngoài tại cơ quan của Việt Nam?\", \"Có yêu cầu gì đặc biệt cho việc kết hôn giữa những người nước ngoài tại Việt Nam không?\"]',\n",
       " 'a2a23d08': '[\\n    \"Ly hôn có yếu tố nước ngoài được giải quyết tại cơ quan nào của Việt Nam?\",\\n    \"Nếu một bên là công dân Việt Nam không thường trú ở Việt Nam, ly hôn sẽ được giải quyết theo pháp luật nào?\",\\n    \"Trong trường hợp không có nơi thường trú chung, luật nào áp dụng cho việc ly hôn?\",\\n    \"Việc giải quyết tài sản bất động sản ở nước ngoài khi ly hôn tuân theo quy định nào?\",\\n    \"Ly hôn giữa người nước ngoài sống tại Việt Nam được xử lý như thế nào?\"\\n]',\n",
       " '3136fc57': '[\"Ai có thẩm quyền giải quyết việc xác định cha, mẹ, con có yếu tố nước ngoài?\", \"Tòa án nào giải quyết tranh chấp về xác định cha, mẹ, con có yếu tố nước ngoài?\", \"Có phải tất cả cuộc tranh chấp về xác định cha, mẹ, con đều được giải quyết tại tòa án?\", \"Cơ quan nào giải quyết việc xác định cha, mẹ, con mà không có tranh chấp?\", \"Trường hợp nào thì Tòa án có thẩm quyền giải quyết việc xác định cha, mẹ, con?\"]',\n",
       " 'fddfb9a0': '[\\n  \"Nghĩa vụ cấp dưỡng có tuân theo pháp luật nào nếu người yêu cầu cư trú ở nước ngoài?\",\\n  \"Nếu người yêu cầu cấp dưỡng là công dân Việt Nam nhưng cư trú ở nước ngoài, áp dụng pháp luật nào?\",\\n  \"Cơ quan nào có thẩm quyền giải quyết yêu cầu cấp dưỡng khi người yêu cầu không cư trú tại Việt Nam?\",\\n  \"Ủy ban nào sẽ xem xét đơn yêu cầu cấp dưỡng từ người không cư trú ở Việt Nam?\",\\n  \"Luật nào điều chỉnh nghĩa vụ cấp dưỡng trong trường hợp có yếu tố nước ngoài?\"\\n]',\n",
       " '1b687208': '[\\n    \"Quan hệ hôn nhân và gia đình trước ngày Luật Hôn Nhân và Gia Đình có hiệu lực được áp dụng như thế nào?\",\\n    \"Vụ việc về hôn nhân và gia đình nào được Tòa án thụ lý trước ngày Luật này có hiệu lực sẽ được xử lý ra sao?\",\\n    \"Luật Hôn Nhân và Gia Đình có áp dụng cho các vụ việc đã được Tòa án giải quyết trước khi Luật này có hiệu lực không?\",\\n    \"Nếu một vụ việc hôn nhân và gia đình chưa giải quyết thì thủ tục áp dụng sẽ là gì?\",\\n    \"Có quy định nào về việc kháng nghị đối với vụ việc đã giải quyết theo pháp luật trước khi Luật này có hiệu lực không?\"\\n]',\n",
       " '745cadf7': '[\\n    \"Luật Hôn Nhân Và Gia Đình có hiệu lực thi hành từ khi nào?\",\\n    \"Luật nào hết hiệu lực khi Luật Hôn Nhân Và Gia Đình có hiệu lực?\",\\n    \"Ngày nào Luật Hôn Nhân Và Gia Đình bắt đầu có hiệu lực?\",\\n    \"Có phải Luật Hôn Nhân Và Gia Đình được thay thế bởi một luật mới không?\",\\n    \"Luật Hôn Nhân Và Gia Đình số bao nhiêu đã hết hiệu lực?\"\\n]',\n",
       " 'eff71113': '[\"Luật Hôn Nhân và Gia Đình được thông qua vào thời gian nào?\", \"Ai là người chủ trì hướng dẫn thi hành Luật này?\", \"Luật Hôn Nhân và Gia Đình thuộc về Quốc hội nào?\", \"Các cơ quan nào phối hợp trong việc hướng dẫn thi hành Luật?\", \"Đối tượng nào được quy định chi tiết trong Luật Hôn Nhân và Gia Đình?\"]',\n",
       " '8d550cbd': '[\"Luật Giao Thông Đường Bộ điều chỉnh những vấn đề gì?\", \"Ai là người tham gia giao thông đường bộ theo luật này?\", \"Luật này có quy định về phương tiện giao thông nào không?\", \"Quy tắc giao thông đường bộ được quy định như thế nào trong luật?\", \"Luật có đề cập đến quản lý nhà nước trong lĩnh vực giao thông đường bộ không?\"]',\n",
       " 'a7f985e0': '[\"Luật Giao Thông Đường Bộ áp dụng cho đối tượng nào?\", \"Ai là những cá nhân liên quan đến giao thông đường bộ?\", \"Tổ chức nào phải tuân theo Luật Giao Thông Đường Bộ?\", \"Luật này có áp dụng cho cá nhân nước ngoài không?\", \"Địa bàn áp dụng của Luật Giao Thông Đường Bộ là gì?\"]',\n",
       " '1bdf0fe8': '[\"Luật Giao Thông Đường Bộ quy định những thuật ngữ nào liên quan đến đường bộ?\", \"Có những loại phương tiện nào được phân loại trong Luật Giao Thông Đường Bộ?\", \"Đường cao tốc được định nghĩa như thế nào trong Luật Giao Thông Đường Bộ?\", \"Hành lang an toàn đường bộ có ý nghĩa gì theo Luật Giao Thông Đường Bộ?\", \"Ai là người điều khiển giao thông theo quy định của Luật Giao Thông Đường Bộ?\"]',\n",
       " '1bb4063b': '[\"Nguyên tắc hoạt động giao thông đường bộ là gì?\", \"Ai chịu trách nhiệm bảo đảm an toàn giao thông đường bộ?\", \"Các phương thức vận tải nào được gắn kết với giao thông đường bộ?\", \"Làm thế nào để phát triển giao thông đường bộ theo quy hoạch?\", \"Các hành vi vi phạm pháp luật giao thông đường bộ sẽ bị xử lý như thế nào?\"]',\n",
       " '18ed9979': '[\\n    \"Nhà nước có những chính sách nào để phát triển kết cấu hạ tầng giao thông đường bộ?\",\\n    \"Tại sao việc phát triển vận tải hành khách công cộng lại được ưu tiên?\",\\n    \"Chính phủ đã có kế hoạch gì cho các vùng kinh tế trọng điểm trong giao thông đường bộ?\",\\n    \"Có những biện pháp nào để hạn chế sử dụng phương tiện giao thông cá nhân ở các thành phố?\",\\n    \"Nhà nước đang khuyến khích đầu tư vào lĩnh vực giao thông đường bộ như thế nào?\"\\n]',\n",
       " 'a912b5ce': '[\\n  \"Quy hoạch giao thông vận tải đường bộ bao gồm những nội dung gì?\",\\n  \"Ai là cơ quan chịu trách nhiệm lập quy hoạch giao thông vận tải đường bộ?\",\\n  \"Thời gian lập quy hoạch giao thông vận tải đường bộ là bao lâu?\",\\n  \"Quy hoạch giao thông vận tải đường bộ cần xác định những thông tin gì?\",\\n  \"Có cần tham khảo ý kiến của các cơ quan khác trước khi quyết định quy hoạch không?\"\\n]',\n",
       " 'f07cd5d4': '[\"Cơ quan nào có trách nhiệm tuyên truyền pháp luật về giao thông đường bộ đến toàn dân?\", \"Uỷ ban nhân dân các cấp cần làm gì để giáo dục pháp luật giao thông tại địa phương?\", \"Ai phải đưa pháp luật giao thông vào chương trình giảng dạy trong trường học?\", \"Mặt trận Tổ quốc Việt Nam có vai trò gì trong việc tuyên truyền pháp luật giao thông?\", \"Ai có trách nhiệm nhắc nhở gia đình về việc chấp hành pháp luật giao thông đường bộ?\"]',\n",
       " 'ec4b35be': '[\\n    \"Người tham gia giao thông cần tuân thủ những quy tắc nào trên đường?\",\\n    \"Có yêu cầu nào về việc sử dụng dây an toàn khi ngồi trên xe ô tô không?\",\\n    \"Làn đường và phần đường có quy định ra sao cho người tham gia giao thông?\",\\n    \"Người lái xe ô tô có nghĩa vụ gì liên quan đến dây an toàn?\",\\n    \"Hệ thống báo hiệu đường bộ bao gồm những gì mà người tham gia giao thông cần chấp hành?\"\\n]',\n",
       " '0e6a08af': '[\\n    \"Hệ thống báo hiệu đường bộ bao gồm những yếu tố gì?\",\\n    \"Hiệu lệnh của người điều khiển giao thông được quy định như thế nào?\",\\n    \"Tín hiệu đèn giao thông có ý nghĩa gì đối với người tham gia giao thông?\",\\n    \"Các nhóm biển báo hiệu đường bộ được phân loại như thế nào?\",\\n    \"Rào chắn được sử dụng ở những trường hợp nào trên đường?\" \\n]',\n",
       " '4d5249af': '[\"Người tham gia giao thông có nghĩa vụ gì khi có hiệu lệnh từ báo hiệu đường bộ?\", \"Khi nào thì người tham gia giao thông phải chấp hành theo chỉ dẫn của người điều khiển giao thông?\", \"Biển báo hiệu tạm thời có ưu tiên hơn biển báo cố định không?\", \"Người điều khiển phương tiện cần làm gì khi thấy người đi bộ qua đường ở nơi có vạch kẻ?\", \"Nếu không có vạch kẻ đường, người điều khiển phương tiện cần hành động ra sao khi thấy người đi bộ hoặc xe lăn của người khuyết tật?\"]',\n",
       " '2332c13d': '[\\n    \"Người lái xe cần tuân thủ quy định về tốc độ như thế nào trên đường?\",\\n    \"Khoảng cách an toàn giữa các xe cần phải giữ là bao nhiêu?\",\\n    \"Ai là người quy định và đặt biển báo tốc độ trên quốc lộ?\",\\n    \"Trách nhiệm của Chủ tịch Uỷ ban nhân dân cấp tỉnh trong việc đặt biển báo tốc độ là gì?\",\\n    \"Có biển báo \\'Cự ly tối thiểu giữa hai xe\\' thì quy định khoảng cách phải là bao nhiêu?\"\\n]',\n",
       " '517a9a1f': '[\\n    \"Điều gì quy định việc sử dụng làn đường cho phương tiện giao thông trên đường bộ?\",\\n    \"Có thể chuyển làn đường một cách tự do hay cần tuân theo quy định nào không?\",\\n    \"Phân biệt làn đường cho xe thô sơ và xe cơ giới như thế nào?\",\\n    \"Nếu một phương tiện di chuyển với tốc độ thấp, nó cần phải đi trên làn đường nào?\",\\n    \"Có cần phải báo hiệu khi chuyển làn đường hay không và làm như thế nào?\"\\n]',\n",
       " '7d030583': '[\"Xe xin vượt phải làm gì trước khi thực hiện?\", \"Khi nào xe không được vượt?\", \"Ai có trách nhiệm giảm tốc độ khi có xe xin vượt?\", \"Trong trường hợp nào xe có thể vượt bên phải?\", \"Khoảng thời gian nào xe chỉ được xin vượt bằng đèn trong khu vực đông dân cư?\"]',\n",
       " '4fde6f0d': '[\\n    \"Khi nào người điều khiển phương tiện cần phải giảm tốc độ khi chuyển hướng?\",\\n    \"Ai là người phải nhường quyền đi trước trong quá trình chuyển hướng?\",\\n    \"Ở đâu người lái xe có thể quay đầu xe trong khu dân cư?\",\\n    \"Để quay đầu xe, có những nơi nào không được phép thực hiện hành động này?\",\\n    \"Người điều khiển xe máy chuyên dùng có cần phải thực hiện tín hiệu khi chuyển hướng không?\"\\n]',\n",
       " '7f7a2ff6': '[\\n  \"Điều gì cần lưu ý khi lùi xe theo Luật Giao Thông Đường Bộ?\",\\n  \"Có những nơi nào không được phép lùi xe?\",\\n  \"Người điều khiển xe cần thực hiện những hành động gì trước khi lùi xe?\",\\n  \"Khi nào thì người điều khiển được phép lùi xe?\",\\n  \"Luật quy định gì về việc lùi xe trong khu vực giao cắt đường bộ và đường sắt?\"\\n]',\n",
       " '0ed53793': '[\\n    \"Xe đi ngược chiều cần phải làm gì khi tránh nhau trên đường không phân chia?\",\\n    \"Trong trường hợp đường hẹp, ai phải nhường đường khi hai xe đi ngược chiều?\",\\n    \"Xe xuống dốc có phải nhường đường cho xe lên dốc không?\",\\n    \"Khi xe cơ giới đi ngược chiều gặp nhau, có được sử dụng đèn chiếu xa không?\",\\n    \"Những trường hợp nào xe phải nhường đường khi gặp chướng ngại vật phía trước?\"\\n]',\n",
       " '192a3f5f': '[\\n    \"Dừng xe được định nghĩa như thế nào theo Luật Giao Thông Đường Bộ?\",\\n    \"Có sự khác biệt gì giữa dừng xe và đỗ xe trong luật này?\",\\n    \"Những biện pháp an toàn nào cần thực hiện khi rời khỏi xe đỗ?\",\\n    \"Những vị trí nào bị cấm dừng xe, đỗ xe theo quy định hiện hành?\",\\n    \"Người điều khiển phương tiện phải làm gì khi dừng xe trên đường dốc?\"\\n]',\n",
       " '0367a752': '[\\n    \"Người điều khiển phương tiện có cần tuân theo quy định nào khi dừng xe, đỗ xe trên đường phố không?\",\\n    \"Cách dừng và đỗ xe đúng quy định là như thế nào trên lề đường?\",\\n    \"Có những địa điểm nào mà xe không được dừng, đỗ trên đường phố?\",\\n    \"Khoảng cách tối thiểu giữa xe ô tô đỗ bên đường và xe đỗ ở phía đối diện là bao nhiêu mét?\",\\n    \"Khi nào thì việc dừng xe, đỗ xe có thể gây cản trở cho giao thông?\"\\n]',\n",
       " '55e0fcdf': '[\\n    \"Hàng hóa trên xe cần được xếp như thế nào để đảm bảo an toàn?\",\\n    \"Khi nào cần sử dụng cờ hoặc đèn báo hiệu cho hàng hóa xếp trên xe?\",\\n    \"Có quy định nào về việc chằng buộc hàng hóa không?\",\\n    \"Ai là người quy định cụ thể về việc xếp hàng hóa trên phương tiện giao thông đường bộ?\",\\n    \"Có yêu cầu gì về việc không để hàng hóa rơi vãi trên đường không?\"\\n]',\n",
       " 'f3dbf53e': '[\\n    \"Có thể chở người trên xe ô tô chở hàng trong những trường hợp nào?\",\\n    \"Xe ô tô chở người cần có yêu cầu gì khi chở trong trường hợp đặc biệt?\",\\n    \"Ai có thể được chở trên xe ô tô chở hàng trong trường hợp khẩn cấp?\",\\n    \"Có những quy định nào về việc chở công nhân trên xe ô tô chở hàng?\",\\n    \"Trường hợp nào được xem là khẩn cấp khi chở người bằng xe ô tô chở hàng?\"\\n]',\n",
       " 'c0f9feda': '[\\n    \"Các loại xe nào được quyền ưu tiên khi qua đường giao nhau?\",\\n    \"Điều kiện nào để xe được quyền ưu tiên thực hiện nhiệm vụ?\",\\n    \"Người tham gia giao thông cần làm gì khi có tín hiệu của xe ưu tiên?\",\\n    \"Xe ưu tiên có được phép đi vào đường ngược chiều không?\",\\n    \"Ai quy định tín hiệu của xe được quyền ưu tiên?\"\\n]',\n",
       " '18dce598': '[\\n    \"Xe cần làm gì khi đến bến phà, cầu phao?\",\\n    \"Ai là những người không phải xuống xe khi qua phà?\",\\n    \"Thứ tự nào phải tuân thủ khi các phương tiện xuống phà?\",\\n    \"Những phương tiện nào được ưu tiên khi qua phà?\",\\n    \"Nếu nhiều xe cùng loại ưu tiên đến bến phà, xe nào sẽ qua trước?\"\\n]',\n",
       " '2c8ddb11': '[\"Khi nào tôi phải nhường đường tại nơi đường giao nhau?\", \"Nếu không có biển báo thì tôi nên nhường cho xe nào?\", \"Tôi cần làm gì khi gặp biển báo đi theo vòng xuyến?\", \"Xe nào được ưu tiên tại giao lộ giữa đường ưu tiên và đường không ưu tiên?\", \"Có quy tắc nào cho xe đi từ đường nhánh vào đường chính không?\"]',\n",
       " 'aafaff10': '[\\n    \"Phương tiện nào được quyền ưu tiên khi đi trên đoạn đường bộ giao nhau cùng mức với đường sắt?\",\\n    \"Khi nào người tham gia giao thông phải dừng lại tại nơi đường bộ giao nhau với đường sắt có đèn tín hiệu?\",\\n    \"Nếu không có đèn tín hiệu và rào chắn, người tham gia giao thông cần làm gì để qua đường?\",\\n    \"Những hành động nào cần thực hiện khi phương tiện hư hỏng tại đoạn đường bộ giao nhau với đường sắt?\",\\n    \"Ai có trách nhiệm giúp đỡ người điều khiển phương tiện tại nơi hư hỏng trên đường bộ giao nhau với đường sắt?\"\\n]',\n",
       " '727fc1fe': '[\\n    \"Người lái xe cần tuân theo quy tắc nào khi vào đường cao tốc?\",\\n    \"Các quy định nào áp dụng khi ra khỏi đường cao tốc?\",\\n    \"Có những lưu ý nào về tốc độ khi lưu thông trên đường cao tốc?\",\\n    \"Người đi bộ hay phương tiện nào không được phép vào đường cao tốc?\",\\n    \"Khi dừng hoặc đỗ xe trên đường cao tốc, cần tuân thủ quy định gì?\"\\n]',\n",
       " '4f15f43a': '[\\n    \"Trong hầm đường bộ, người điều khiển phương tiện có phải bật đèn không?\",\\n    \"Có quy định nào về việc dừng xe và đỗ xe trong hầm không?\",\\n    \"Xe thô sơ có cần bật đèn khi đi vào hầm đường bộ không?\",\\n    \"Người điều khiển xe máy chuyên dùng có phải thực hiện quy định gì đặc biệt trong hầm không?\",\\n    \"Có những quy tắc giao thông nào mà người điều khiển phương tiện phải tuân thủ khi vào hầm đường bộ?\"\\n]',\n",
       " 'b35dbe5b': '[\"Người điều khiển phương tiện có những quy định nào về tải trọng và khổ giới hạn của đường bộ?\", \"Xe quá tải trọng có được lưu hành pháp lý không, và nếu có thì cần điều kiện gì?\", \"Ai có quyền cấp giấy phép lưu hành cho xe bánh xích gây hư hại mặt đường?\", \"Bộ trưởng Bộ Giao thông vận tải có trách nhiệm gì liên quan đến tải trọng và khổ giới hạn của đường bộ?\", \"Làm thế nào để tìm hiểu về tải trọng và khổ giới hạn của đường bộ tại địa phương?\"]',\n",
       " 'd638a752': '[\\n  \"Luật quy định như thế nào về việc kéo xe ô tô và xe máy chuyên dùng khác?\",\\n  \"Có yêu cầu gì về việc điều khiển xe kéo và hệ thống lái của xe bị kéo không?\",\\n  \"Khi xe kéo rơ moóc, trọng lượng của xe kéo có cần phải lớn hơn trọng lượng của rơ moóc không?\",\\n  \"Các hành vi nào bị cấm khi kéo rơ moóc hoặc xe khác theo luật?\",\\n  \"Có cần biển báo hiệu khi thực hiện việc kéo xe không?\"\\n]',\n",
       " 'd175bb2b': '[\\n  \"Người điều khiển xe mô tô hai bánh được phép chở bao nhiêu người?\",\\n  \"Cần phải đội mũ bảo hiểm như thế nào khi tham gia giao thông trên xe mô tô?\",\\n  \"Có những hành vi nào mà người điều khiển xe mô tô không được thực hiện?\",\\n  \"Người ngồi trên xe mô tô được phép làm gì và không được làm gì khi tham gia giao thông?\",\\n  \"Trẻ em dưới 14 tuổi có được chở trên xe mô tô hay không?\"\\n]',\n",
       " '183e54d8': '[\"Ai được phép chở trên xe đạp theo quy định của Luật Giao Thông Đường Bộ?\", \"Người điều khiển xe thô sơ cần tuân thủ những quy định nào khi tham gia giao thông?\", \"Cần mang theo gì khi lái xe đạp máy?\", \"Hàng hóa trên xe thô sơ có những yêu cầu gì về an toàn?\", \"Người điều khiển xe súc vật kéo cần thực hiện những biện pháp gì để đảm bảo vệ sinh?\"]',\n",
       " '18b2ecf6': '[\"Người đi bộ cần phải đi ở đâu khi có hè phố và lề đường?\", \"Khi nào người đi bộ được phép qua đường?\", \"Nếu không có tín hiệu đèn hoặc vạch kẻ đường, người đi bộ cần làm gì để đảm bảo an toàn?\", \"Có những hành vi nào cấm đối với người đi bộ khi tham gia giao thông?\", \"Trẻ em dưới 7 tuổi cần lưu ý điều gì khi qua đường có xe chạy?\" ]',\n",
       " '88901e3a': '[\"Người khuyết tật có được đi trên hè phố không?\", \"Người khiếm thị cần có ai bên cạnh khi đi đường?\", \"Có công cụ nào hỗ trợ người khiếm thị tham gia giao thông không?\", \"Ai có trách nhiệm giúp đỡ người khuyết tật khi qua đường?\", \"Những phương tiện nào người khuyết tật được phép sử dụng trên đường phố?\"]',\n",
       " '08c0309d': '[\\n    \"Điều gì cần lưu ý khi dẫn dắt súc vật trên đường bộ?\",\\n    \"Có quy định nào về vị trí dẫn súc vật trên đường không?\",\\n    \"Người dẫn súc vật có được đi vào phần đường dành cho xe cơ giới không?\",\\n    \"Khi nào thì được cho súc vật đi ngang qua đường?\",\\n    \"Có yêu cầu nào về vệ sinh khi dẫn súc vật trên đường không?\"\\n]',\n",
       " '08f86116': '[\\n  \"Cần làm gì để tổ chức hoạt động lễ hội trên đường bộ?\",\\n  \"Ai có trách nhiệm phân luồng giao thông khi tổ chức sự kiện trên đường bộ?\",\\n  \"Có những hành vi nào bị nghiêm cấm trên đường bộ?\",\\n  \"Làm thế nào để xin phép tổ chức hoạt động văn hóa trên đường bộ?\",\\n  \"Khi nào cần thông báo hạn chế hoặc cấm giao thông trên đường bộ?\"\\n]',\n",
       " 'c4f121cc': '[\\n    \"Lòng đường và hè phố có được sử dụng cho mục đích gì không?\",\\n    \"Ai có thẩm quyền quyết định việc sử dụng tạm thời lòng đường, hè phố cho mục đích khác?\",\\n    \"Có cần tuân thủ quy định nào khi thực hiện hoạt động khác trên đường phố không?\",\\n    \"Những hành vi nào bị cấm trên lòng đường và hè phố theo Luật Giao Thông Đường Bộ?\",\\n    \"Có thể đổ rác trên hè phố hay không và nếu có thì quy định như thế nào?\"\\n]',\n",
       " 'ca9492b0': '[\\n    \"Tổ chức giao thông bao gồm những nội dung nào trong Luật Giao Thông Đường Bộ?\",\\n    \"Ai là người chịu trách nhiệm tổ chức giao thông trên hệ thống quốc lộ?\",\\n    \"Trách nhiệm của cảnh sát giao thông trong việc điều khiển giao thông được quy định ra sao?\",\\n    \"Có những biện pháp nào để bảo đảm an toàn và thông suốt cho giao thông đường bộ?\",\\n    \"Những trường hợp nào cảnh sát giao thông có thể tạm thời đình chỉ đi lại trên đường?\" \\n]',\n",
       " '7ba555bd': '[\\n    \"Luật Giao Thông Đường Bộ quy định có bao nhiêu loại đường bộ?\",\\n    \"Ai có thẩm quyền quyết định hệ thống quốc lộ theo luật này?\",\\n    \"Phân loại đường tỉnh và đường đô thị khác nhau như thế nào?\",\\n    \"Đường chuyên dùng được quy định như thế nào trong Luật Giao Thông Đường Bộ?\",\\n    \"Ai quyết định thẩm quyền phân loại đường huyện và đường xã?\"\\n]',\n",
       " 'c110098f': '[\"Đường bộ được đặt tên theo tiêu chí nào trong Luật Giao Thông Đường Bộ?\", \"Ai có thẩm quyền quyết định việc đặt tên và số hiệu đường bộ?\", \"Có cần tuân theo quy định nào khi đặt tên đường địa phương trùng với quốc lộ không?\", \"Việc đặt tên và số hiệu đường bộ quốc tế được thực hiện theo nguyên tắc gì?\", \"Chính phủ có vai trò gì trong việc quy định đặt tên, số hiệu đường bộ?\"]',\n",
       " '9ed3c530': '[\"Đường bộ được chia thành những cấp kỹ thuật nào?\", \"Các yêu cầu kỹ thuật đối với đường bộ xây dựng mới là gì?\", \"Ai là cơ quan phụ trách xây dựng tiêu chuẩn kỹ thuật cho đường bộ?\", \"Khi nào cần cải tạo, nâng cấp đường bộ đang khai thác?\", \"Có cần sự chấp thuận của cơ quan nào khi áp dụng tiêu chuẩn kỹ thuật đường bộ nước ngoài không?\"]',\n",
       " '878cc4ea': '[\\n    \"Quỹ đất giao thông đường bộ được xác định như thế nào?\",\\n    \"Ai là cơ quan chịu trách nhiệm quản lý quỹ đất dành cho kết cấu hạ tầng giao thông?\",\\n    \"Tỷ lệ quỹ đất giao thông đô thị so với đất xây dựng đô thị là bao nhiêu?\",\\n    \"Ai phê duyệt quy hoạch quỹ đất dành cho giao thông đường bộ?\",\\n    \"Chính phủ có quy định gì về tỷ lệ quỹ đất giao thông cho các loại đô thị khác nhau?\"\\n]',\n",
       " 'e4be8a61': '[\\n  \"Phạm vi đất dành cho đường bộ bao gồm những gì?\",\\n  \"Có được xây dựng công trình khác trong phạm vi đất dành cho đường bộ không?\",\\n  \"Việc sử dụng đất hành lang an toàn đường bộ có những hạn chế nào?\",\\n  \"Nếu đất trong hành lang an toàn đường bộ đang được sử dụng, người sử dụng có quyền lợi gì?\",\\n  \"Ai quy định cụ thể về phạm vi và việc sử dụng đất dành cho đường bộ?\"\\n]',\n",
       " 'c8872a79': '[\\n  \"Công trình đường bộ nào phải bảo đảm tiêu chuẩn kỹ thuật và an toàn giao thông?\",\\n  \"Ai có trách nhiệm thẩm định an toàn giao thông cho công trình đường bộ?\",\\n  \"Đường gom cần đấu nối như thế nào với đường nhánh và đường chính?\",\\n  \"Khu đô thị có yêu cầu gì về hệ thống đường gom?\",\\n  \"Đường gom phục vụ cho mục đích gì đối với khu dân cư?\"\\n]',\n",
       " '47f4ba62': '[\\n    \"Công trình báo hiệu đường bộ gồm những gì?\",\\n    \"Đường bộ cần được chuẩn bị gì trước khi đưa vào khai thác?\",\\n    \"Có những điều nào cần chú ý khi lắp đặt công trình báo hiệu đường bộ?\",\\n    \"Có được gắn nội dung không liên quan vào công trình báo hiệu đường bộ không?\",\\n    \"Thiết kế công trình báo hiệu đường bộ được phê duyệt bởi ai?\"\\n]',\n",
       " 'ae720225': '[\\n    \"Đầu tư xây dựng kết cấu hạ tầng giao thông đường bộ gồm những hoạt động nào?\",\\n    \"Có những yêu cầu nào phải tuân thủ khi đầu tư xây dựng kết cấu hạ tầng giao thông đường bộ?\",\\n    \"Ai có quyền đầu tư xây dựng và khai thác kết cấu hạ tầng giao thông đường bộ?\",\\n    \"Quy trình giải phóng mặt bằng được thực hiện như thế nào trước khi đầu tư xây dựng?\",\\n    \"Sau khi hoàn thành, kết cấu hạ tầng giao thông đường bộ cần được kiểm tra và nghiệm thu bởi cơ quan nào?\"\\n]',\n",
       " 'ba45c469': '[\"Thi công công trình trên đường bộ đang khai thác có cần giấy phép không?\", \"Đơn vị thi công có nghĩa vụ gì trong quá trình thi công không?\", \"Có quy định nào về thi công công trình trên đường đô thị không?\", \"Nếu đơn vị thi công không đảm bảo giao thông thì sẽ bị xử lý ra sao?\", \"Những yêu cầu gì cần thực hiện sau khi thi công xong?\"]',\n",
       " '4f32cf2f': '[\\n  \"Bảo trì đường bộ được định nghĩa như thế nào trong Luật Giao Thông Đường Bộ?\",\\n  \"Ai chịu trách nhiệm quản lý và bảo trì hệ thống quốc lộ theo quy định?\",\\n  \"Các công việc nào được thực hiện trong quá trình bảo trì đường bộ?\",\\n  \"Ủy ban nhân dân cấp tỉnh có trách nhiệm gì liên quan đến quản lý, bảo trì đường bộ?\",\\n  \"Ai quy định việc quản lý, bảo trì đường bộ trong hệ thống giao thông tại Việt Nam?\"\\n]',\n",
       " '001d8b76': '[\"Nguồn tài chính nào được sử dụng để quản lý và bảo trì đường bộ ở Việt Nam?\", \"Quỹ bảo trì đường bộ được hình thành từ những nguồn nào?\", \"Ai là người chịu trách nhiệm quản lý khai thác đường chuyên dùng?\", \"Chính phủ có quy định gì về việc lập và quản lý quỹ bảo trì đường bộ?\", \"Ngân sách nhà nước có vai trò gì trong quỹ bảo trì đường bộ?\"]',\n",
       " '03e5a083': '[\\n    \"Ai là cơ quan có thẩm quyền cho phép xây dựng đường giao nhau cùng mức giữa đường bộ và đường sắt?\",\\n    \"Có cần thiết kế bảo đảm tiêu chuẩn kỹ thuật khi xây dựng đoạn đường giao nhau này không?\",\\n    \"Ai sẽ phê duyệt thiết kế xây dựng đoạn đường giao nhau cùng mức?\",\\n    \"Có yêu cầu nào về điều kiện an toàn giao thông khi xây dựng đoạn đường giao nhau này không?\",\\n    \"Luật nào quy định về việc xây dựng đoạn đường giao nhau giữa đường bộ và đường sắt?\"\\n]',\n",
       " 'b229bf95': '[\\n    \"Bến xe và bãi đỗ xe cần phải tuân theo quy hoạch nào?\",\\n    \"Cơ quan nào phê duyệt quy hoạch cho bến xe và trạm dừng nghỉ?\",\\n    \"Trạm thu phí có vai trò gì trong giao thông đường bộ?\",\\n    \"Thẩm quyền nào quyết định thành lập trạm kiểm tra tải trọng xe tạm thời?\",\\n    \"Ai quy định tiêu chuẩn kỹ thuật cho các bến xe và trạm kiểm tra tải trọng xe?\"\\n]',\n",
       " 'df4dfc2b': '[\\n  \"Xe ô tô cần những điều kiện gì để được phép tham gia giao thông?\",\\n  \"Các quy định nào áp dụng cho xe mô tô hai bánh tại Việt Nam?\",\\n  \"Xe cơ giới có cần đăng ký và gắn biển số không?\",\\n  \"Chính phủ có quy định gì về niên hạn sử dụng xe cơ giới?\",\\n  \"Ai là người quy định về chất lượng an toàn kỹ thuật của xe cơ giới tham gia giao thông?\"\\n]',\n",
       " 'f63f22dd': '[\"Xe cơ giới nào được cấp đăng ký và biển số theo Luật Giao Thông Đường Bộ?\", \"Ai là cơ quan có thẩm quyền cấp đăng ký và biển số cho xe cơ giới?\", \"Có điều kiện gì để xe cơ giới được cấp đăng ký?\", \"Bộ nào quy định về thu hồi đăng ký và biển số xe cơ giới?\", \"Xe cơ giới của quân đội được cấp đăng ký bởi ai?\"]',\n",
       " '1abb4eb0': '[\\n    \"Luật nào quy định về chất lượng và an toàn kỹ thuật của xe cơ giới tham gia giao thông đường bộ?\",\\n    \"Chủ phương tiện có được tự ý thay đổi kết cấu của xe không?\",\\n    \"Ai chịu trách nhiệm về việc xác nhận kết quả kiểm định xe cơ giới?\",\\n    \"Xe ô tô có cần phải được kiểm tra định kỳ về an toàn kỹ thuật không?\",\\n    \"Ai quy định các tiêu chuẩn và cấp giấy phép cho cơ sở đăng kiểm xe cơ giới?\"\\n]',\n",
       " '9d610d76': '[\\n  \"Xe thô sơ cần đảm bảo điều kiện gì khi tham gia giao thông?\",\\n  \"Ai quy định điều kiện tham gia giao thông cho xe thô sơ ở địa phương?\",\\n  \"Đã có những quy định nào về phạm vi hoạt động của xe thô sơ?\",\\n  \"Điều gì là cần thiết để đảm bảo an toàn giao thông đường bộ cho xe thô sơ?\",\\n  \"Luật nào quy định về điều kiện tham gia giao thông của xe thô sơ?\"\\n]',\n",
       " 'bcf247af': '[\\n  \"Người lái xe cần đáp ứng điều kiện gì để tham gia giao thông theo Luật Giao Thông Đường Bộ?\",\\n  \"Có giấy tờ gì người lái xe phải mang theo khi điều khiển phương tiện?\",\\n  \"Luật quy định độ tuổi tối thiểu của người lái xe là bao nhiêu?\",\\n  \"Người tập lái xe ô tô có yêu cầu gì đặc biệt khi tham gia giao thông không?\",\\n  \"Ai cấp giấy phép lái xe cho người lái xe tham gia giao thông?\"\\n]',\n",
       " '2101c091': '[\\n    \"Giấy phép lái xe được phân loại dựa trên những yếu tố nào?\",\\n    \"Có những hạng giấy phép lái xe không thời hạn nào trong luật giao thông đường bộ?\",\\n    \"Giấy phép lái xe hạng nào dành cho người điều khiển mô tô ba bánh cho người khuyết tật?\",\\n    \"Những hạng giấy phép lái xe có thời hạn nào cho phép lái xe ô tô chở người đến 9 chỗ ngồi?\",\\n    \"Giấy phép lái xe có giá trị sử dụng ở đâu theo luật giao thông đường bộ?\"\\n]',\n",
       " '913967dc': '[\\n    \"Người lái xe phải đủ tuổi tối thiểu nào để lái xe gắn máy dưới 50 cm3?\",\\n    \"Có độ tuổi nào quy định cho người lái xe ô tô chở người trên 30 chỗ ngồi không?\",\\n    \"Người lái xe ô tô tải có trọng tải từ 3.500 kg cần đủ bao nhiêu tuổi?\",\\n    \"Tiêu chuẩn sức khỏe của người lái xe được quy định bởi cơ quan nào?\",\\n    \"Tuổi tối đa của người lái xe nữ chở người trên 30 chỗ ngồi là bao nhiêu?\"\\n]',\n",
       " 'abdcc8ba': '[\"Cơ sở đào tạo lái xe cần điều kiện gì để hoạt động?\", \"Ai là người được cấp giấy phép lái xe hạng B1, B2, C, D, E?\", \"Nâng hạng giấy phép lái xe từ hạng nào lên hạng nào được đào tạo?\", \"Điều kiện gì để sát hạch cấp giấy phép lái xe ô tô?\", \"Ai chịu trách nhiệm về kết quả sát hạch lái xe?\"]',\n",
       " '0b29b90b': '[\\n    \"Người điều khiển xe máy chuyên dùng tham gia giao thông cần đáp ứng điều kiện gì về độ tuổi và sức khỏe?\",\\n    \"Chứng chỉ nào là bắt buộc đối với người điều khiển xe máy chuyên dùng?\",\\n    \"Có những giấy tờ nào cần mang theo khi điều khiển xe máy chuyên dùng?\",\\n    \"Ai là cơ sở cấp chứng chỉ điều khiển xe máy chuyên dùng?\",\\n    \"Giấy chứng nhận nào liên quan đến an toàn kỹ thuật cần phải có khi tham gia giao thông bằng xe máy chuyên dùng?\"\\n]',\n",
       " 'f0cedf28': '[\\n    \"Hoạt động vận tải đường bộ có bao nhiêu loại hình?\",\\n    \"Kinh doanh vận tải đường bộ có phải là ngành nghề kinh doanh có điều kiện không?\",\\n    \"Các loại hình kinh doanh vận tải đường bộ bao gồm những gì?\",\\n    \"Hoạt động vận tải đường bộ cần phải tuân thủ quy hoạch nào?\",\\n    \"Mạng lưới tuyến vận tải có ảnh hưởng đến hoạt động vận tải đường bộ không?\"\\n]',\n",
       " 'fadb787e': '[\"Thời gian tối đa mà người lái xe ô tô có thể làm việc trong một ngày là bao nhiêu giờ?\", \"Người lái xe ô tô có được phép lái xe liên tục trong bao lâu không?\", \"Ai chịu trách nhiệm về thời gian làm việc của người lái xe ô tô?\", \"Có quy định nào về việc nghỉ giữa các lần lái xe ô tô không?\", \"Thời gian làm việc của người lái xe ô tô có cần tuân theo quy định nào không?\"]',\n",
       " 'e3ef6bec': '[\\n    \"Kinh doanh vận tải hành khách bằng xe ô tô bao gồm những hình thức nào?\",\\n    \"Có mấy loại hình thức kinh doanh vận tải hàng hóa bằng xe ô tô?\",\\n    \"Ai là cơ quan quy định về kinh doanh vận tải bằng xe ô tô?\",\\n    \"Kinh doanh vận tải hành khách theo hợp đồng có điểm gì đặc biệt?\",\\n    \"Kinh doanh vận tải hàng hóa có những loại nào không theo tiêu chuẩn thông thường?\"\\n]',\n",
       " '8d42fb34': '[\\n    \"Doanh nghiệp cần điều kiện gì để kinh doanh vận tải bằng xe ô tô?\",\\n    \"Có những loại hình vận tải nào được phép kinh doanh chỉ bởi doanh nghiệp và hợp tác xã?\",\\n    \"Những yêu cầu nào về phương tiện vận tải phải tuân thủ theo Luật Giao Thông Đường Bộ?\",\\n    \"Người điều hành hoạt động vận tải cần có trình độ gì theo quy định?\",\\n    \"Làm thế nào để doanh nghiệp có thể đăng ký tiêu chuẩn chất lượng dịch vụ vận tải hành khách?\"\\n]',\n",
       " '55ac7fd3': '[\\n  \"Các quy định chính khi vận tải hành khách bằng xe ô tô là gì?\",\\n  \"Người lái xe khách không được làm gì theo luật giao thông?\",\\n  \"Chở hàng gì là không được phép khi vận chuyển hành khách?\",\\n  \"Có những yêu cầu nào về sức khỏe của hành khách khi đi xe ô tô?\",\\n  \"Ai quy định về tổ chức và quản lý hoạt động vận tải hành khách bằng xe ô tô?\"\\n]',\n",
       " 'fc2fbd8d': '[\"Người kinh doanh vận tải hành khách có những quyền gì?\", \"Có những nghĩa vụ nào mà người kinh doanh vận tải hành khách cần thực hiện?\", \"Người vận tải có thể từ chối vận chuyển trong những trường hợp nào?\", \"Bảo hiểm cho hành khách được quy định như thế nào trong Luật Giao Thông Đường Bộ?\", \"Ai là người quy định về vé và chứng từ thu cước, phí vận tải hành khách?\"]',\n",
       " '9004be5b': '[\\n    \"Người lái xe cần thực hiện những kiểm tra nào trước khi khởi hành?\",\\n    \"Làm thế nào để người lái xe thể hiện thái độ với hành khách?\",\\n    \"Người lái xe có trách nhiệm gì về việc bảo đảm an toàn cho hành lý trên xe?\",\\n    \"Các biện pháp nào để bảo vệ tính mạng và tài sản của hành khách?\",\\n    \"Người lái xe cần làm gì liên quan đến cửa xe khi xe đang chạy?\"\\n]',\n",
       " 'fa8d6109': '[\\n    \"Hành khách có quyền gì khi đi xe khách theo Luật Giao Thông Đường Bộ?\",\\n    \"Có những nghĩa vụ gì mà hành khách cần thực hiện khi sử dụng dịch vụ vận tải?\",\\n    \"Hành khách có được miễn cước hành lý không và điều kiện như thế nào?\",\\n    \"Nếu hành khách không muốn đi chuyến đã mua vé, họ có quyền yêu cầu hoàn tiền không?\",\\n    \"Hành khách có những hạn chế nào về hành lý khi đi xe theo quy định của pháp luật?\"\\n]',\n",
       " 'af743418': '[\\n    \"Việc xếp đặt và chằng buộc hàng hóa trên xe ô tô có những yêu cầu gì?\",\\n    \"Có những hành vi nào bị cấm khi vận chuyển hàng hóa bằng xe ô tô?\",\\n    \"Không được chở hàng vượt quá trọng tải thiết kế là điều gì?\",\\n    \"Điều nào cho phép chở người trong thùng xe ô tô?\",\\n    \"Ai có quyền quy định về quản lý hoạt động vận tải hàng hóa bằng xe ô tô?\"\\n]',\n",
       " 'e2799572': '[\"Người kinh doanh vận tải hàng hóa có quyền gì khi nhận hàng?\", \"Người thuê vận tải có nghĩa vụ gì đối với người kinh doanh?\", \"Người kinh doanh vận tải có thể từ chối vận chuyển trong trường hợp nào?\", \"Nếu hàng hóa bị mất mát trong quá trình vận tải, ai sẽ bồi thường?\", \"Chính phủ quy định điều gì liên quan đến trách nhiệm của người kinh doanh vận tải hàng hóa?\"]',\n",
       " '48952592': '[\"Người thuê vận tải hàng hóa có quyền gì khi phương tiện không đúng thỏa thuận?\", \"Người thuê có thể yêu cầu người kinh doanh vận tải làm gì nếu hàng không được giao đúng hạn?\", \"Luật có quy định gì về nghĩa vụ chuẩn bị giấy tờ của người thuê vận tải?\", \"Người thuê vận tải cần thanh toán những gì cho người kinh doanh vận tải?\", \"Có cần cử người áp tải hàng hóa trong mọi trường hợp không?\"]',\n",
       " '9d411030': '[\"Người nhận hàng có những quyền gì theo luật Giao Thông Đường Bộ?\", \"Nghĩa vụ của người nhận hàng là gì?\", \"Người nhận hàng có thể yêu cầu bồi thường thiệt hại trong trường hợp nào?\", \"Có yêu cầu nào về thời gian và địa điểm nhận hàng không?\", \"Người nhận hàng có quyền kiểm tra hàng hóa nhận được không?\"]',\n",
       " '0c86961c': '[\\n    \"Hàng siêu trường, siêu trọng được định nghĩa như thế nào theo Luật Giao Thông Đường Bộ?\",\\n    \"Cần có giấy tờ gì để vận chuyển hàng siêu trường, siêu trọng?\",\\n    \"Có yêu cầu nào về tốc độ cho xe vận chuyển hàng siêu trường, siêu trọng không?\",\\n    \"Ai là người có thẩm quyền quy định về vận chuyển hàng siêu trường, siêu trọng?\",\\n    \"Trong trường hợp nào cần phải có người chỉ dẫn giao thông khi vận chuyển hàng siêu trường, siêu trọng?\"\\n]',\n",
       " 'e287b488': '[\"Ai là người chịu trách nhiệm chăm sóc động vật sống trong quá trình vận tải?\", \"Người thuê vận tải có nghĩa vụ gì trong việc xếp và dỡ động vật sống?\", \"Có cần bố trí người áp tải khi vận chuyển tất cả các loại động vật sống không?\", \"Những quy định nào cần tuân thủ khi vận chuyển động vật sống trên đường?\", \"Người thuê vận tải có phải trả thêm phí nếu không thực hiện được việc xếp, dỡ không?\"]',\n",
       " '72c51f26': '[\\n    \"Xe vận chuyển hàng nguy hiểm cần có giấy phép từ cơ quan nào?\",\\n    \"Có những quy định nào về việc dừng, đỗ xe vận chuyển hàng nguy hiểm?\",\\n    \"Ai là cơ quan có thẩm quyền cấp giấy phép vận chuyển hàng nguy hiểm?\",\\n    \"Danh mục hàng nguy hiểm được quy định bởi ai?\",\\n    \"Có quy định gì về vận chuyển hàng nguy hiểm không phải là hàng hóa thông thường?\"\\n]',\n",
       " 'ff71c198': '[\\n  \"Xe buýt có những quy định gì khi hoạt động trong đô thị?\",\\n  \"Lái xe taxi cần tuân thủ điều gì khi đón, trả hành khách?\",\\n  \"Xe chở hàng phải tuân theo những quy định nào về tuyến và thời gian hoạt động?\",\\n  \"Xe vệ sinh môi trường có yêu cầu gì về việc che phủ hàng hóa?\",\\n  \"Ai là người quy định cụ thể về hoạt động vận tải đường bộ trong đô thị?\"\\n]',\n",
       " 'be4402b2': '[\\n    \"Luật nào quy định về việc vận chuyển hành khách và hàng hóa bằng xe thô sơ và xe gắn máy?\",\\n    \"Có quy định nào về an toàn giao thông khi sử dụng xe mô tô hai bánh và ba bánh không?\",\\n    \"Ai là người quy định chi tiết về việc vận chuyển bằng các loại xe tương tự?\",\\n    \"Ủy ban nhân dân cấp tỉnh có trách nhiệm gì trong việc tổ chức thực hiện luật này?\",\\n    \"Các loại xe nào được phép vận chuyển hành khách và hàng hóa theo luật giao thông đường bộ?\"\\n]',\n",
       " '76354586': '[\"Vận tải đa phương thức là gì theo Luật Giao Thông Đường Bộ?\", \"Luật này quy định về việc vận chuyển hàng hóa như thế nào?\", \"Có những phương thức vận tải nào được sử dụng trong vận tải đa phương thức?\", \"Ai là cơ quan quy định cụ thể về vận tải đa phương thức?\", \"Hợp đồng vận tải đa phương thức bao gồm những nội dung gì?\"]',\n",
       " '2a39cc90': '[\\n  \"Dịch vụ hỗ trợ vận tải đường bộ là gì và bao gồm những gì?\",\\n  \"Ai là người quy định về dịch vụ hỗ trợ vận tải đường bộ?\",\\n  \"Có những loại dịch vụ nào trong lĩnh vực hỗ trợ vận tải đường bộ?\",\\n  \"Tôi có thể tìm dịch vụ cứu hộ vận tải đường bộ ở đâu?\",\\n  \"Dịch vụ hỗ trợ vận tải đường bộ có tính năng gì nổi bật không?\"\\n]',\n",
       " 'd2166e14': '[\\n    \"Nội dung quản lý nhà nước về giao thông đường bộ gồm những gì?\",\\n    \"Các nhiệm vụ nào liên quan đến an toàn giao thông đường bộ?\",\\n    \"Quy định về việc đăng ký và cấp biển số phương tiện giao thông đường bộ là gì?\",\\n    \"Cơ quan nào chịu trách nhiệm quản lý đào tạo và cấp giấy phép lái xe?\",\\n    \"Luật giao thông có những hình thức tuyên truyền pháp luật nào không?\"\\n]',\n",
       " 'f7febb2b': '[\"Chính phủ có trách nhiệm gì về quản lý giao thông đường bộ?\", \"Ai là cơ quan chính thực hiện quản lý nhà nước về giao thông đường bộ?\", \"Bộ Công an có nhiệm vụ gì trong việc quản lý giao thông?\", \"Bộ Quốc phòng có vai trò gì trong quản lý giao thông đường bộ?\", \"Ủy ban nhân dân các cấp phải làm gì theo quy định của Luật này về giao thông đường bộ?\"]',\n",
       " '5ee04056': '[\"Thanh tra đường bộ có chức năng gì trong quản lý giao thông?\", \"Những nhiệm vụ chính của Thanh tra đường bộ là gì?\", \"Thanh tra đường bộ có quyền hạn gì khi phát hiện vi phạm?\", \"Các quy định nào áp dụng cho tổ chức và hoạt động của Thanh tra đường bộ?\", \"Ai quy định nhiệm vụ và quyền hạn cụ thể của Thanh tra đường bộ?\"]',\n",
       " '0c561b01': '[\\n    \"Luật Giao Thông Đường Bộ có hiệu lực từ khi nào?\",\\n    \"Luật Giao Thông Đường Bộ nào bị thay thế bởi luật mới?\",\\n    \"Ngày luật Giao Thông Đường Bộ có hiệu lực là ngày nào?\",\\n    \"Luật Giao Thông Đường Bộ đã thay đổi những gì vào năm 2009?\",\\n    \"Có thông tin gì về sự thay thế của Luật giao thông đường bộ năm 2001?\"\\n]',\n",
       " '2bb7dafa': '[\"Quy định chi tiết và hướng dẫn thi hành Luật Giao Thông Đường Bộ được ban hành bởi ai?\", \"Luật Giao Thông Đường Bộ được Quốc hội thông qua vào thời gian nào?\", \"Ai là Người đứng đầu khi thông qua Luật Giao Thông Đường Bộ?\", \"Luật này nhằm mục đích gì trong quản lý nhà nước?\", \"Luật có liên quan đến những nội dung nào khác không?\"]'}"
      ]
     },
     "execution_count": 43,
     "metadata": {},
     "output_type": "execute_result"
    }
   ],
   "source": [
    "results"
   ]
  },
  {
   "cell_type": "code",
   "execution_count": null,
   "id": "60f742d1",
   "metadata": {},
   "outputs": [],
   "source": [
    "doc_id = '35bdafa7'\n",
    "questions = generate_questions(doc)\n",
    "results[doc_id] = questions"
   ]
  },
  {
   "cell_type": "code",
   "execution_count": 33,
   "id": "031ecc50-a9a3-4508-8149-cf716e045d20",
   "metadata": {},
   "outputs": [],
   "source": [
    "import pickle\n",
    "with open('results.bin', 'wb') as f_out:\n",
    "    pickle.dump(results, f_out)\n"
   ]
  },
  {
   "cell_type": "code",
   "execution_count": 38,
   "id": "de64d355-a4c8-4633-b179-952bb38923c5",
   "metadata": {},
   "outputs": [],
   "source": [
    "with open('./results.bin', 'rb') as f_in:\n",
    "    results = pickle.load(f_in)"
   ]
  },
  {
   "cell_type": "code",
   "execution_count": 45,
   "id": "2d5cd8f8-ddfd-4802-908b-504722511a04",
   "metadata": {},
   "outputs": [
    {
     "data": {
      "text/plain": [
       "'[\"Trường của cơ quan nhà nước có nhiệm vụ gì trong việc đào tạo cán bộ?\", \"Ai là đối tượng được đào tạo tại trường lực lượng vũ trang nhân dân?\", \"Luật nào quy định hoạt động của các trường trong hệ'"
      ]
     },
     "execution_count": 45,
     "metadata": {},
     "output_type": "execute_result"
    }
   ],
   "source": [
    "results['35bdafa7']"
   ]
  },
  {
   "cell_type": "code",
   "execution_count": null,
   "id": "44ae7b75",
   "metadata": {},
   "outputs": [],
   "source": [
    "json_questions = [\n",
    "  r\"Trường của cơ quan nhà nước, tổ chức chính trị, tổ chức chính trị - xã hội có nhiệm vụ chính là gì?\",\n",
    "  \"Trường của lực lượng vũ trang nhân dân đào tạo những đối tượng nào?\",\n",
    "  \"Các trường của cơ quan nhà nước, tổ chức chính trị - xã hội, và lực lượng vũ trang nhân dân hoạt động theo những quy định nào?\",\n",
    "  \"Khi nào thì trường của các cơ quan, tổ chức này được cấp văn bằng, chứng chỉ của hệ thống giáo dục quốc dân?\",\n",
    "  \"Cơ quan nào chịu trách nhiệm quy định chi tiết về hoạt động của các loại trường này?\"\n",
    "]\n",
    "results['35bdafa7'] = json.dumps(json_questions)"
   ]
  },
  {
   "cell_type": "code",
   "execution_count": 50,
   "id": "d265559b-de13-45a3-ba4d-b5f84a3c070a",
   "metadata": {},
   "outputs": [],
   "source": [
    "parsed_resulst = {}\n",
    "\n",
    "for doc_id, json_questions in results.items():\n",
    "    parsed_resulst[doc_id] = json.loads(json_questions)"
   ]
  },
  {
   "cell_type": "code",
   "execution_count": 54,
   "id": "35342e51",
   "metadata": {},
   "outputs": [
    {
     "data": {
      "text/plain": [
       "['Luật Giáo Dục điều chỉnh những đối tượng nào trong hệ thống giáo dục quốc dân?',\n",
       " 'Những quyền và trách nhiệm nào của cá nhân liên quan đến hoạt động giáo dục được quy định trong Luật này?',\n",
       " 'Cơ sở giáo dục và nhà giáo thuộc phạm vi điều chỉnh của Luật Giáo Dục không?',\n",
       " 'Luật quy định về vấn đề quản lý nhà nước trong giáo dục như thế nào?',\n",
       " 'Những hoạt động giáo dục nào được Luật Giáo Dục quy định cụ thể?']"
      ]
     },
     "execution_count": 54,
     "metadata": {},
     "output_type": "execute_result"
    }
   ],
   "source": [
    "parsed_resulst['75a9286e']"
   ]
  },
  {
   "cell_type": "code",
   "execution_count": 52,
   "id": "6c928923-d3d8-4b8f-b093-887dffc8e6cb",
   "metadata": {},
   "outputs": [],
   "source": [
    "doc_index = {d['id']: d for d in documents}"
   ]
  },
  {
   "cell_type": "code",
   "execution_count": 55,
   "id": "0dc65cff",
   "metadata": {},
   "outputs": [
    {
     "data": {
      "text/plain": [
       "{'law_title': 'Luật Giáo Dục',\n",
       " 'law_number': 'Luật số: 43/2019/QH14',\n",
       " 'chapter_title': 'Chương I',\n",
       " 'article_number': 'Điều 1',\n",
       " 'title': 'Phạm vi điều chỉnh',\n",
       " 'content': 'Luật này quy định về hệ thống giáo dục quốc dân; cơ sở giáo dục, nhà giáo, người học; quản lý nhà nước về giáo dục; quyền và trách nhiệm của cơ quan, tổ chức, cá nhân liên quan đến hoạt động giáo dục. ',\n",
       " 'id': '75a9286e'}"
      ]
     },
     "execution_count": 55,
     "metadata": {},
     "output_type": "execute_result"
    }
   ],
   "source": [
    "doc_index['75a9286e']"
   ]
  },
  {
   "cell_type": "code",
   "execution_count": 61,
   "id": "1ad018b8-33d7-4b80-85df-de3a115aa2b7",
   "metadata": {},
   "outputs": [],
   "source": [
    "final_results = []\n",
    "\n",
    "for doc_id, questions in parsed_resulst.items():\n",
    "    law_title = doc_index[doc_id]['law_title']\n",
    "    for q in questions:\n",
    "        final_results.append((q, law_title, doc_id))"
   ]
  },
  {
   "cell_type": "code",
   "execution_count": 63,
   "id": "f7e44c9c-c383-4b7a-8c7a-404d9c2ec8d2",
   "metadata": {},
   "outputs": [],
   "source": [
    "import pandas as pd"
   ]
  },
  {
   "cell_type": "code",
   "execution_count": null,
   "id": "c5adba2e-d628-47e5-a107-0ddad14fd667",
   "metadata": {},
   "outputs": [
    {
     "data": {
      "text/html": [
       "<div>\n",
       "<style scoped>\n",
       "    .dataframe tbody tr th:only-of-type {\n",
       "        vertical-align: middle;\n",
       "    }\n",
       "\n",
       "    .dataframe tbody tr th {\n",
       "        vertical-align: top;\n",
       "    }\n",
       "\n",
       "    .dataframe thead th {\n",
       "        text-align: right;\n",
       "    }\n",
       "</style>\n",
       "<table border=\"1\" class=\"dataframe\">\n",
       "  <thead>\n",
       "    <tr style=\"text-align: right;\">\n",
       "      <th></th>\n",
       "      <th>questions</th>\n",
       "      <th>law_title</th>\n",
       "      <th>document</th>\n",
       "    </tr>\n",
       "  </thead>\n",
       "  <tbody>\n",
       "    <tr>\n",
       "      <th>0</th>\n",
       "      <td>Luật Giáo Dục điều chỉnh những đối tượng nào t...</td>\n",
       "      <td>Luật Giáo Dục</td>\n",
       "      <td>75a9286e</td>\n",
       "    </tr>\n",
       "    <tr>\n",
       "      <th>1</th>\n",
       "      <td>Những quyền và trách nhiệm nào của cá nhân liê...</td>\n",
       "      <td>Luật Giáo Dục</td>\n",
       "      <td>75a9286e</td>\n",
       "    </tr>\n",
       "    <tr>\n",
       "      <th>2</th>\n",
       "      <td>Cơ sở giáo dục và nhà giáo thuộc phạm vi điều ...</td>\n",
       "      <td>Luật Giáo Dục</td>\n",
       "      <td>75a9286e</td>\n",
       "    </tr>\n",
       "    <tr>\n",
       "      <th>3</th>\n",
       "      <td>Luật quy định về vấn đề quản lý nhà nước trong...</td>\n",
       "      <td>Luật Giáo Dục</td>\n",
       "      <td>75a9286e</td>\n",
       "    </tr>\n",
       "    <tr>\n",
       "      <th>4</th>\n",
       "      <td>Những hoạt động giáo dục nào được Luật Giáo Dụ...</td>\n",
       "      <td>Luật Giáo Dục</td>\n",
       "      <td>75a9286e</td>\n",
       "    </tr>\n",
       "    <tr>\n",
       "      <th>5</th>\n",
       "      <td>Mục tiêu giáo dục của Việt Nam là gì?</td>\n",
       "      <td>Luật Giáo Dục</td>\n",
       "      <td>82b52978</td>\n",
       "    </tr>\n",
       "    <tr>\n",
       "      <th>6</th>\n",
       "      <td>Luật Giáo Dục xác định những phẩm chất nào cần...</td>\n",
       "      <td>Luật Giáo Dục</td>\n",
       "      <td>82b52978</td>\n",
       "    </tr>\n",
       "    <tr>\n",
       "      <th>7</th>\n",
       "      <td>Làm thế nào để phát triển tiềm năng và khả năn...</td>\n",
       "      <td>Luật Giáo Dục</td>\n",
       "      <td>82b52978</td>\n",
       "    </tr>\n",
       "    <tr>\n",
       "      <th>8</th>\n",
       "      <td>Luật Giáo Dục có nhấn mạnh về lòng yêu nước ha...</td>\n",
       "      <td>Luật Giáo Dục</td>\n",
       "      <td>82b52978</td>\n",
       "    </tr>\n",
       "    <tr>\n",
       "      <th>9</th>\n",
       "      <td>Mục tiêu giáo dục có liên quan gì đến sự nghiệ...</td>\n",
       "      <td>Luật Giáo Dục</td>\n",
       "      <td>82b52978</td>\n",
       "    </tr>\n",
       "    <tr>\n",
       "      <th>10</th>\n",
       "      <td>Nền giáo dục Việt Nam có đặc điểm gì nổi bật?</td>\n",
       "      <td>Luật Giáo Dục</td>\n",
       "      <td>e0e71ffa</td>\n",
       "    </tr>\n",
       "    <tr>\n",
       "      <th>11</th>\n",
       "      <td>Nguyên lý giáo dục nào được áp dụng trong hệ t...</td>\n",
       "      <td>Luật Giáo Dục</td>\n",
       "      <td>e0e71ffa</td>\n",
       "    </tr>\n",
       "    <tr>\n",
       "      <th>12</th>\n",
       "      <td>Ai là nền tảng tư tưởng của nền giáo dục Việt ...</td>\n",
       "      <td>Luật Giáo Dục</td>\n",
       "      <td>e0e71ffa</td>\n",
       "    </tr>\n",
       "    <tr>\n",
       "      <th>13</th>\n",
       "      <td>Hoạt động giáo dục ở Việt Nam được thực hiện d...</td>\n",
       "      <td>Luật Giáo Dục</td>\n",
       "      <td>e0e71ffa</td>\n",
       "    </tr>\n",
       "    <tr>\n",
       "      <th>14</th>\n",
       "      <td>Mối quan hệ giữa giáo dục nhà trường, giáo dục...</td>\n",
       "      <td>Luật Giáo Dục</td>\n",
       "      <td>e0e71ffa</td>\n",
       "    </tr>\n",
       "  </tbody>\n",
       "</table>\n",
       "</div>"
      ],
      "text/plain": [
       "                                            questions      law_title  document\n",
       "0   Luật Giáo Dục điều chỉnh những đối tượng nào t...  Luật Giáo Dục  75a9286e\n",
       "1   Những quyền và trách nhiệm nào của cá nhân liê...  Luật Giáo Dục  75a9286e\n",
       "2   Cơ sở giáo dục và nhà giáo thuộc phạm vi điều ...  Luật Giáo Dục  75a9286e\n",
       "3   Luật quy định về vấn đề quản lý nhà nước trong...  Luật Giáo Dục  75a9286e\n",
       "4   Những hoạt động giáo dục nào được Luật Giáo Dụ...  Luật Giáo Dục  75a9286e\n",
       "5               Mục tiêu giáo dục của Việt Nam là gì?  Luật Giáo Dục  82b52978\n",
       "6   Luật Giáo Dục xác định những phẩm chất nào cần...  Luật Giáo Dục  82b52978\n",
       "7   Làm thế nào để phát triển tiềm năng và khả năn...  Luật Giáo Dục  82b52978\n",
       "8   Luật Giáo Dục có nhấn mạnh về lòng yêu nước ha...  Luật Giáo Dục  82b52978\n",
       "9   Mục tiêu giáo dục có liên quan gì đến sự nghiệ...  Luật Giáo Dục  82b52978\n",
       "10      Nền giáo dục Việt Nam có đặc điểm gì nổi bật?  Luật Giáo Dục  e0e71ffa\n",
       "11  Nguyên lý giáo dục nào được áp dụng trong hệ t...  Luật Giáo Dục  e0e71ffa\n",
       "12  Ai là nền tảng tư tưởng của nền giáo dục Việt ...  Luật Giáo Dục  e0e71ffa\n",
       "13  Hoạt động giáo dục ở Việt Nam được thực hiện d...  Luật Giáo Dục  e0e71ffa\n",
       "14  Mối quan hệ giữa giáo dục nhà trường, giáo dục...  Luật Giáo Dục  e0e71ffa"
      ]
     },
     "execution_count": 69,
     "metadata": {},
     "output_type": "execute_result"
    }
   ],
   "source": [
    "df = pd.DataFrame(final_results, columns=['questions', 'law_title', 'document'])\n",
    "# law_title: {law_title}\n",
    "# title: {title}\n",
    "# answer: {content}\n",
    "df.head(5)"
   ]
  },
  {
   "cell_type": "code",
   "execution_count": 70,
   "id": "537bec6d",
   "metadata": {},
   "outputs": [
    {
     "data": {
      "text/html": [
       "<div>\n",
       "<style scoped>\n",
       "    .dataframe tbody tr th:only-of-type {\n",
       "        vertical-align: middle;\n",
       "    }\n",
       "\n",
       "    .dataframe tbody tr th {\n",
       "        vertical-align: top;\n",
       "    }\n",
       "\n",
       "    .dataframe thead th {\n",
       "        text-align: right;\n",
       "    }\n",
       "</style>\n",
       "<table border=\"1\" class=\"dataframe\">\n",
       "  <thead>\n",
       "    <tr style=\"text-align: right;\">\n",
       "      <th></th>\n",
       "      <th>questions</th>\n",
       "      <th>law_title</th>\n",
       "      <th>document</th>\n",
       "    </tr>\n",
       "  </thead>\n",
       "  <tbody>\n",
       "    <tr>\n",
       "      <th>1565</th>\n",
       "      <td>Quy định chi tiết và hướng dẫn thi hành Luật G...</td>\n",
       "      <td>Luật Giao Thông Đường Bộ</td>\n",
       "      <td>2bb7dafa</td>\n",
       "    </tr>\n",
       "    <tr>\n",
       "      <th>1566</th>\n",
       "      <td>Luật Giao Thông Đường Bộ được Quốc hội thông q...</td>\n",
       "      <td>Luật Giao Thông Đường Bộ</td>\n",
       "      <td>2bb7dafa</td>\n",
       "    </tr>\n",
       "    <tr>\n",
       "      <th>1567</th>\n",
       "      <td>Ai là Người đứng đầu khi thông qua Luật Giao T...</td>\n",
       "      <td>Luật Giao Thông Đường Bộ</td>\n",
       "      <td>2bb7dafa</td>\n",
       "    </tr>\n",
       "    <tr>\n",
       "      <th>1568</th>\n",
       "      <td>Luật này nhằm mục đích gì trong quản lý nhà nước?</td>\n",
       "      <td>Luật Giao Thông Đường Bộ</td>\n",
       "      <td>2bb7dafa</td>\n",
       "    </tr>\n",
       "    <tr>\n",
       "      <th>1569</th>\n",
       "      <td>Luật có liên quan đến những nội dung nào khác ...</td>\n",
       "      <td>Luật Giao Thông Đường Bộ</td>\n",
       "      <td>2bb7dafa</td>\n",
       "    </tr>\n",
       "  </tbody>\n",
       "</table>\n",
       "</div>"
      ],
      "text/plain": [
       "                                              questions  \\\n",
       "1565  Quy định chi tiết và hướng dẫn thi hành Luật G...   \n",
       "1566  Luật Giao Thông Đường Bộ được Quốc hội thông q...   \n",
       "1567  Ai là Người đứng đầu khi thông qua Luật Giao T...   \n",
       "1568  Luật này nhằm mục đích gì trong quản lý nhà nước?   \n",
       "1569  Luật có liên quan đến những nội dung nào khác ...   \n",
       "\n",
       "                     law_title  document  \n",
       "1565  Luật Giao Thông Đường Bộ  2bb7dafa  \n",
       "1566  Luật Giao Thông Đường Bộ  2bb7dafa  \n",
       "1567  Luật Giao Thông Đường Bộ  2bb7dafa  \n",
       "1568  Luật Giao Thông Đường Bộ  2bb7dafa  \n",
       "1569  Luật Giao Thông Đường Bộ  2bb7dafa  "
      ]
     },
     "execution_count": 70,
     "metadata": {},
     "output_type": "execute_result"
    }
   ],
   "source": [
    "df.tail(5)"
   ]
  },
  {
   "cell_type": "code",
   "execution_count": 71,
   "id": "9e4d5ba5-c59c-4e0f-9e79-8f4cd86bb5f0",
   "metadata": {},
   "outputs": [],
   "source": [
    "df.to_csv('ground-truth-data.csv', index=False)"
   ]
  },
  {
   "cell_type": "code",
   "execution_count": 72,
   "id": "f88e2b0d-53ba-4766-9f5c-aa5d85eff47b",
   "metadata": {},
   "outputs": [
    {
     "name": "stdout",
     "output_type": "stream",
     "text": [
      "questions,law_title,document\n",
      "Luật Giáo Dục điều chỉnh những đối tượng nào trong hệ thống giáo dục quốc dân?,Luật Giáo Dục,75a9286e\n",
      "Những quyền và trách nhiệm nào của cá nhân liên quan đến hoạt động giáo dục được quy định trong Luật này?,Luật Giáo Dục,75a9286e\n",
      "Cơ sở giáo dục và nhà giáo thuộc phạm vi điều chỉnh của Luật Giáo Dục không?,Luật Giáo Dục,75a9286e\n",
      "Luật quy định về vấn đề quản lý nhà nước trong giáo dục như thế nào?,Luật Giáo Dục,75a9286e\n",
      "Những hoạt động giáo dục nào được Luật Giáo Dục quy định cụ thể?,Luật Giáo Dục,75a9286e\n",
      "Mục tiêu giáo dục của Việt Nam là gì?,Luật Giáo Dục,82b52978\n",
      "Luật Giáo Dục xác định những phẩm chất nào cần có ở học sinh?,Luật Giáo Dục,82b52978\n",
      "Làm thế nào để phát triển tiềm năng và khả năng sáng tạo của học sinh?,Luật Giáo Dục,82b52978\n",
      "Luật Giáo Dục có nhấn mạnh về lòng yêu nước hay không?,Luật Giáo Dục,82b52978\n"
     ]
    }
   ],
   "source": [
    "!head ground-truth-data.csv"
   ]
  }
 ],
 "metadata": {
  "kernelspec": {
   "display_name": "Python 3 (ipykernel)",
   "language": "python",
   "name": "python3"
  },
  "language_info": {
   "codemirror_mode": {
    "name": "ipython",
    "version": 3
   },
   "file_extension": ".py",
   "mimetype": "text/x-python",
   "name": "python",
   "nbconvert_exporter": "python",
   "pygments_lexer": "ipython3",
   "version": "3.10.12"
  }
 },
 "nbformat": 4,
 "nbformat_minor": 5
}
