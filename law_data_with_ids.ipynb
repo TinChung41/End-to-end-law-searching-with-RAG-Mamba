{
 "cells": [
  {
   "cell_type": "code",
   "execution_count": 19,
   "id": "7ba3282a-6099-44b3-81c6-ba4b73d80e7b",
   "metadata": {},
   "outputs": [],
   "source": [
    "import json\n",
    "\n",
    "json_file_path = '/app/Law_corpus/law-corpus.json'\n",
    "\n",
    "with open(json_file_path, 'rt') as f_in:\n",
    "    docs_raw = json.load(f_in)\n",
    "# docs_raw = [docs_raw]\n",
    "docs_raw\n",
    "\n",
    "documents = []\n",
    "\n",
    "for law_title, law_data in docs_raw.items():\n",
    "    law_title = law_data.get(\"law_title\")\n",
    "    law_number = law_data.get(\"law_number\")\n",
    "    chapters = law_data.get(\"chapters\", [])\n",
    "    \n",
    "    for chapter in chapters:\n",
    "        chapter_title = chapter.get(\"chapter_title\")\n",
    "        articles = chapter.get(\"articles\", [])\n",
    "        \n",
    "        for article in articles:\n",
    "            doc = {\n",
    "                \"law_title\": law_title,\n",
    "                \"law_number\": law_number,\n",
    "                \"chapter_title\": chapter_title,\n",
    "                \"article_number\": article.get(\"article_number\"),\n",
    "                \"title\": article.get(\"title\"),\n",
    "                \"content\": article.get(\"content\")\n",
    "            }\n",
    "            documents.append(doc)"
   ]
  },
  {
   "cell_type": "code",
   "execution_count": 7,
   "id": "5266a8e3",
   "metadata": {},
   "outputs": [
    {
     "data": {
      "text/plain": [
       "{'law_title': 'Luật Giáo Dục',\n",
       " 'law_number': 'Luật số: 43/2019/QH14',\n",
       " 'chapter_title': 'Chương I',\n",
       " 'article_number': 'Điều 1',\n",
       " 'title': 'Phạm vi điều chỉnh',\n",
       " 'content': 'Luật này quy định về hệ thống giáo dục quốc dân; cơ sở giáo dục, nhà giáo, người học; quản lý nhà nước về giáo dục; quyền và trách nhiệm của cơ quan, tổ chức, cá nhân liên quan đến hoạt động giáo dục. '}"
      ]
     },
     "execution_count": 7,
     "metadata": {},
     "output_type": "execute_result"
    }
   ],
   "source": [
    "documents[0]"
   ]
  },
  {
   "cell_type": "code",
   "execution_count": 8,
   "id": "9880aca9-ae97-42f5-9aa5-37bb46448841",
   "metadata": {},
   "outputs": [],
   "source": [
    "import hashlib\n",
    "\n",
    "def generate_document_id(doc):\n",
    "    # combined = f\"{doc['course']}-{doc['question']}\"\n",
    "    combined = f\"{doc['law_title']}-{doc['chapter_title']}-{doc['title']}-{doc['content'][:10]}\"\n",
    "    hash_object = hashlib.md5(combined.encode())\n",
    "    hash_hex = hash_object.hexdigest()\n",
    "    document_id = hash_hex[:8]\n",
    "    return document_id"
   ]
  },
  {
   "cell_type": "code",
   "execution_count": 9,
   "id": "66719b38-04f3-41a8-bdd8-f33f04fe9367",
   "metadata": {},
   "outputs": [],
   "source": [
    "for doc in documents:\n",
    "    doc['id'] = generate_document_id(doc)"
   ]
  },
  {
   "cell_type": "code",
   "execution_count": 10,
   "id": "d4672632-acc2-4c1c-96b4-d30f24598aa1",
   "metadata": {},
   "outputs": [
    {
     "data": {
      "text/plain": [
       "{'law_title': 'Luật Giáo Dục',\n",
       " 'law_number': 'Luật số: 43/2019/QH14',\n",
       " 'chapter_title': 'Chương I',\n",
       " 'article_number': 'Điều 4',\n",
       " 'title': 'Phát triển giáo dục',\n",
       " 'content': '1. Phát triển giáo dục là quốc sách hàng đầu. 2. Phát triển giáo dục phải gắn với nhu cầu phát triển kinh tế - xã hội, tiến bộ khoa học, công nghệ, củng cố quốc phòng, an ninh; thực hiện chuẩn hóa, hiện đại hóa, xã hội hóa; bảo đảm cân đối cơ cấu ngành nghề, trình độ, nguồn nhân lực và phù hợp vùng miền; mở rộng quy mô trên cơ sở bảo đảm chất lượng và hiệu quả; kết hợp giữa đào tạo và sử dụng. 3. Phát triển hệ thống giáo dục mở, xây dựng xã hội học tập nhằm tạo cơ hội để mọi người được tiếp cận giáo dục, được học tập ở mọi trình độ, mọi hình thức, học tập suốt đời. ',\n",
       " 'id': '06ce8ae6'}"
      ]
     },
     "execution_count": 10,
     "metadata": {},
     "output_type": "execute_result"
    }
   ],
   "source": [
    "documents[3]"
   ]
  },
  {
   "cell_type": "code",
   "execution_count": 11,
   "id": "470b703c-29d6-4ca8-a68e-4c461b3e7a90",
   "metadata": {},
   "outputs": [],
   "source": [
    "from collections import defaultdict"
   ]
  },
  {
   "cell_type": "code",
   "execution_count": 12,
   "id": "410f08db-2302-4c50-926c-511037b46c90",
   "metadata": {},
   "outputs": [],
   "source": [
    "hashes = defaultdict(list)\n",
    "\n",
    "for doc in documents:\n",
    "    doc_id = doc['id']\n",
    "    hashes[doc_id].append(doc)"
   ]
  },
  {
   "cell_type": "code",
   "execution_count": 13,
   "id": "47c69c01-e952-4818-a307-94ea224ca423",
   "metadata": {},
   "outputs": [
    {
     "data": {
      "text/plain": [
       "(314, 314)"
      ]
     },
     "execution_count": 13,
     "metadata": {},
     "output_type": "execute_result"
    }
   ],
   "source": [
    "len(hashes), len(documents)"
   ]
  },
  {
   "cell_type": "code",
   "execution_count": 14,
   "id": "c3e495f9-fdac-436f-88e9-44ae68844ee3",
   "metadata": {},
   "outputs": [],
   "source": [
    "for k, values in hashes.items():\n",
    "    if len(values) > 1:\n",
    "        print(k, len(values))"
   ]
  },
  {
   "cell_type": "code",
   "execution_count": 15,
   "id": "56bed2ec-9b14-4e7c-9db4-87900b30a674",
   "metadata": {},
   "outputs": [
    {
     "data": {
      "text/plain": [
       "[]"
      ]
     },
     "execution_count": 15,
     "metadata": {},
     "output_type": "execute_result"
    }
   ],
   "source": [
    "hashes['593f7569']"
   ]
  },
  {
   "cell_type": "code",
   "execution_count": 16,
   "id": "4d25e980-8a04-4186-94ef-c357bdc1b255",
   "metadata": {},
   "outputs": [],
   "source": [
    "import json\n",
    "import os"
   ]
  },
  {
   "cell_type": "code",
   "execution_count": 17,
   "id": "686a488a-67af-4f21-8538-2180dc085fa2",
   "metadata": {},
   "outputs": [],
   "source": [
    "output_dir = \"./Law_corpus\"\n",
    "output_path = os.path.join(output_dir, 'documents-with-ids.json')\n",
    "\n",
    "with open(output_path, 'wt') as f_out:\n",
    "    json.dump(documents, f_out, ensure_ascii=False, indent=4)"
   ]
  },
  {
   "cell_type": "code",
   "execution_count": 12,
   "id": "c567515e-a923-487f-9b4d-9f4ce370e2ca",
   "metadata": {},
   "outputs": [
    {
     "name": "stdout",
     "output_type": "stream",
     "text": [
      "[\n",
      "    {\n",
      "        \"law_title\": \"Luật Giáo Dục\",\n",
      "        \"law_number\": \"Luật số: 43/2019/QH14\",\n",
      "        \"chapter_title\": \"Chương I\",\n",
      "        \"article_number\": \"Điều 1\",\n",
      "        \"title\": \"Phạm vi điều chỉnh\",\n",
      "        \"content\": \"Luật này quy định về hệ thống giáo dục quốc dân; cơ sở giáo dục, nhà giáo, người học; quản lý nhà nước về giáo dục; quyền và trách nhiệm của cơ quan, tổ chức, cá nhân liên quan đến hoạt động giáo dục. \",\n",
      "        \"id\": \"75a9286e\"\n",
      "    },\n"
     ]
    }
   ],
   "source": [
    "!head ./Law_corpus/documents-with-ids.json"
   ]
  },
  {
   "cell_type": "code",
   "execution_count": 1,
   "id": "19652f30",
   "metadata": {},
   "outputs": [],
   "source": [
    "import json\n",
    "\n",
    "with open('/app/Law_corpus/documents-with-ids.json', 'rt') as f_in:  # Use /app, not the Windows path\n",
    "    documents = json.load(f_in)"
   ]
  },
  {
   "cell_type": "code",
   "execution_count": 2,
   "id": "0ff7624e",
   "metadata": {},
   "outputs": [
    {
     "data": {
      "text/plain": [
       "{'law_title': 'Luật Giáo Dục',\n",
       " 'law_number': 'Luật số: 43/2019/QH14',\n",
       " 'chapter_title': 'Chương I',\n",
       " 'article_number': 'Điều 1',\n",
       " 'title': 'Phạm vi điều chỉnh',\n",
       " 'content': 'Luật này quy định về hệ thống giáo dục quốc dân; cơ sở giáo dục, nhà giáo, người học; quản lý nhà nước về giáo dục; quyền và trách nhiệm của cơ quan, tổ chức, cá nhân liên quan đến hoạt động giáo dục. ',\n",
       " 'id': '75a9286e'}"
      ]
     },
     "execution_count": 2,
     "metadata": {},
     "output_type": "execute_result"
    }
   ],
   "source": [
    "documents[0]"
   ]
  },
  {
   "cell_type": "code",
   "execution_count": 19,
   "id": "1c062325-5608-4da6-80bf-b9ac371bc17f",
   "metadata": {},
   "outputs": [],
   "source": [
    "prompt_template = \"\"\"\n",
    "Bạn mô phỏng một người dùng đang tìm kiếm trợ lý luật.\n",
    "Dựa trên hồ sơ Luật Việt Nam được cung cấp, hãy tạo ra **1 cặp câu hỏi và câu trả lời** (question-answer pair).\n",
    "Câu hỏi phải là câu hỏi mà một người dân bình thường có thể đặt ra khi tìm hiểu về luật này, liên quan trực tiếp đến nội dung của hồ sơ luật.\n",
    "Câu trả lời phải được trích xuất từ thông tin trong hồ sơ, vừa đủ, không dài không ngắn, và chính xác.\n",
    "\n",
    "Hồ sơ luật:\n",
    "\n",
    "law_title: {law_title}\n",
    "title: {title}\n",
    "content: {content}\n",
    "\n",
    "Cung cấp đầu ra dưới dạng JSON có thể phân tích được mà không sử dụng các khối mã:\n",
    "\n",
    "{{\n",
    "  \"generated_question\": \"Câu hỏi mà người dân có thể đặt ra khi tìm hiểu về luật này\",\n",
    "  \"generated_answer\": \"Câu trả lời được trích xuất từ hồ sơ luật\"\n",
    "}}\n",
    "\"\"\".strip()"
   ]
  },
  {
   "cell_type": "code",
   "execution_count": 9,
   "id": "51b8f259-eed8-4a50-b50c-2186fb154853",
   "metadata": {},
   "outputs": [],
   "source": [
    "import os\n",
    "from openai import OpenAI\n",
    "from dotenv import load_dotenv\n",
    "\n",
    "load_dotenv() \n",
    "DEEPSEEK_API_KEY = os.environ.get(\"DEEPSEEK_API_KEY\")\n",
    "client = OpenAI(\n",
    "    api_key = DEEPSEEK_API_KEY,\n",
    "    base_url=\"https://api.deepseek.com\"\n",
    ")"
   ]
  },
  {
   "cell_type": "code",
   "execution_count": 10,
   "id": "534ac1ae-b5e0-43a7-b8ad-103fd56ced54",
   "metadata": {},
   "outputs": [],
   "source": [
    "def generate_questions(doc):\n",
    "    prompt = prompt_template.format(**doc)\n",
    "\n",
    "    response = client.chat.completions.create(\n",
    "        model=\"deepseek-chat\",\n",
    "        messages=[\n",
    "            {\"role\": \"user\", \"content\": prompt}\n",
    "        ],\n",
    "        stream=False\n",
    "    )\n",
    "\n",
    "    json_response = response.choices[0].message.content\n",
    "    return json_response"
   ]
  },
  {
   "cell_type": "code",
   "execution_count": 11,
   "id": "eb2353f8-411b-4ab9-a4c2-0d158495491e",
   "metadata": {},
   "outputs": [],
   "source": [
    "from tqdm.auto import tqdm"
   ]
  },
  {
   "cell_type": "code",
   "execution_count": 12,
   "id": "25a48077-18c0-4d31-82ab-00a44d426279",
   "metadata": {},
   "outputs": [],
   "source": [
    "results = {}"
   ]
  },
  {
   "cell_type": "markdown",
   "id": "1e28456a",
   "metadata": {},
   "source": [
    "## Generate 100 question-answer pair"
   ]
  },
  {
   "cell_type": "code",
   "execution_count": 20,
   "id": "0a8e2785",
   "metadata": {},
   "outputs": [
    {
     "data": {
      "text/plain": [
       "314"
      ]
     },
     "execution_count": 20,
     "metadata": {},
     "output_type": "execute_result"
    }
   ],
   "source": [
    "len(documents)"
   ]
  },
  {
   "cell_type": "code",
   "execution_count": 31,
   "id": "bbe44cbe",
   "metadata": {},
   "outputs": [],
   "source": [
    "import random\n",
    "# Randomly sample 100 documents\n",
    "sampled_documents = random.sample(documents, 150)"
   ]
  },
  {
   "cell_type": "code",
   "execution_count": 33,
   "id": "6e0cf50a",
   "metadata": {},
   "outputs": [
    {
     "data": {
      "text/plain": [
       "{'law_title': 'Luật Giao Thông Đường Bộ',\n",
       " 'law_number': 'Luật số: 23/2008/QH12',\n",
       " 'chapter_title': 'CHƯƠNG II',\n",
       " 'article_number': 'Điều 10',\n",
       " 'title': 'Hệ thống báo hiệu đường bộ',\n",
       " 'content': '1. Hệ thống báo hiệu đường bộ gồm hiệu lệnh của người điều khiển giao thông; tín hiệu đèn giao thông, biển báo hiệu, vạch kẻ đường, cọc tiêu hoặc tường bảo vệ, rào chắn. 2. Hiệu lệnh của người điều khiển giao thông quy định như sau: a) Tay giơ thẳng đứng để báo hiệu cho người tham gia giao thông ở các hướng dừng lại; b) Hai tay hoặc một tay dang ngang để báo hiệu cho người tham gia giao thông ở phía trước và ở phía sau người điều khiển giao thông phải dừng lại; người tham gia giao thông ở phía bên phải và bên trái của người điều khiển giao thông được đi; c) Tay phải giơ về phía trước để báo hiệu cho người tham gia giao thông ở phía sau và bên phải người điều khiển giao thông phải dừng lại; người tham gia giao thông ở phía trước người điều khiển giao thông được rẽ phải; người tham gia giao thông ở phía bên trái người điểu khiển giao thông được đi tất cả các hướng; người đi bộ qua đường phải đi sau lưng người điều khiển giao thông. 3. Tín hiệu đèn giao thông có ba mầu, quy định như sau: a) Tín hiệu xanh là được đi; b) Tín hiệu đỏ là cấm đi; c) Tín hiệu vàng là phải dừng lại trước vạch dừng, trừ trường hợp đã đi quá vạch dừng thì được đi tiếp; trong trường hợp tín hiệu vàng nhấp nháy là được đi nhưng phải giảm tốc độ, chú ý quan sát, nhường đường cho người đi bộ qua đường. 4. Biển báo hiệu đường bộ gồm năm nhóm, quy định như sau: a) Biển báo cấm để biểu thị các điều cấm; b) Biển báo nguy hiểm để cảnh báo các tình huống nguy hiểm có thể xảy ra; c) Biển hiệu lệnh để báo các hiệu lệnh phải thi hành; d) Biển chỉ dẫn để chỉ dẫn hướng đi hoặc các điều cần biết; đ) Biển phụ để thuyết minh bổ sung các loại biển báo cấm, biển báo nguy hiểm, biển hiệu lệnh và biển chỉ dẫn. 5. Vạch kẻ đường là vạch chỉ sự phân chia làn đường, vị trí hoặc hướng đi, vị trí dừng lại. 6. Cọc tiêu hoặc tường bảo vệ được đặt ở mép các đoạn đường nguy hiểm để hướng dẫn cho người tham gia giao thông biết phạm vi an toàn của nền đường và hướng đi của đường. 7. Rào chắn được đặt ở nơi đường bị thắt hẹp, đầu cầu, đầu cống, đầu đoạn đường cấm, đường cụt không cho xe, người qua lại hoặc đặt ở những nơi cần điều khiển, kiểm soát sự đi lại. 8. Bộ trưởng Bộ Giao thông vận tải quy định cụ thể về báo hiệu đường bộ. ',\n",
       " 'id': '0e6a08af'}"
      ]
     },
     "execution_count": 33,
     "metadata": {},
     "output_type": "execute_result"
    }
   ],
   "source": [
    "sampled_documents[[id]=='0f1d84b3']"
   ]
  },
  {
   "cell_type": "code",
   "execution_count": null,
   "id": "742f4b7c-7632-4475-b6df-b3c02d343287",
   "metadata": {},
   "outputs": [],
   "source": [
    "results = []\n",
    "\n",
    "# Process each sampled document\n",
    "for doc in tqdm(sampled_documents):\n",
    "    doc_id = doc['id']\n",
    "    \n",
    "    # Generate question-answer pair using the API\n",
    "    qa_pair_json = generate_questions(doc)\n",
    "    \n",
    "    # Parse JSON response and add document ID to the result\n",
    "    qa_pair = json.loads(qa_pair_json)\n",
    "    qa_pair['doc_id'] = doc_id\n",
    "    \n",
    "    # Append to results\n",
    "    results.append(qa_pair)"
   ]
  },
  {
   "cell_type": "code",
   "execution_count": 37,
   "id": "1dd42d55",
   "metadata": {},
   "outputs": [
    {
     "data": {
      "text/plain": [
       "[{'generated_question': 'Khi gặp tín hiệu đèn vàng nhấp nháy, người tham gia giao thông cần làm gì?',\n",
       "  'generated_answer': 'Khi gặp tín hiệu đèn vàng nhấp nháy, người tham gia giao thông được đi nhưng phải giảm tốc độ, chú ý quan sát và nhường đường cho người đi bộ qua đường.',\n",
       "  'doc_id': '0e6a08af'},\n",
       " {'generated_question': 'Các loại hình cơ sở giáo dục mầm non được quy định như thế nào trong Luật Giáo Dục?',\n",
       "  'generated_answer': 'Cơ sở giáo dục mầm non bao gồm: 1. Nhà trẻ, nhóm trẻ độc lập nhận trẻ em từ 03 tháng tuổi đến 03 tuổi; 2. Trường mẫu giáo, lớp mẫu giáo độc lập nhận trẻ em từ 03 tuổi đến 06 tuổi; 3. Trường mầm non, lớp mầm non độc lập là cơ sở giáo dục kết hợp nhà trẻ và mẫu giáo, nhận trẻ em từ 03 tháng tuổi đến 06 tuổi.',\n",
       "  'doc_id': 'a0fcdc5b'},\n",
       " {'generated_question': 'Nếu tôi là công dân Việt Nam kết hôn với người nước ngoài và muốn ly hôn, tôi cần làm thủ tục ở đâu?',\n",
       "  'generated_answer': 'Việc ly hôn giữa công dân Việt Nam với người nước ngoài, giữa người nước ngoài với nhau thường trú ở Việt Nam được giải quyết tại cơ quan có thẩm quyền của Việt Nam theo quy định của Luật Hôn Nhân Và Gia Đình.',\n",
       "  'doc_id': 'a2a23d08'},\n",
       " {'generated_question': 'Khi nào cô, dì, chú, cậu, bác ruột có nghĩa vụ cấp dưỡng cho cháu ruột?',\n",
       "  'generated_answer': 'Cô, dì, chú, cậu, bác ruột không sống chung với cháu ruột có nghĩa vụ cấp dưỡng cho cháu trong trường hợp cháu chưa thành niên hoặc cháu đã thành niên không có khả năng lao động và không có tài sản để tự nuôi mình mà không có người khác cấp dưỡng theo quy định của Luật Hôn Nhân Và Gia Đình.',\n",
       "  'doc_id': '36501b98'},\n",
       " {'generated_question': 'Tại nơi có cả biển báo hiệu cố định và báo hiệu tạm thời, người tham gia giao thông phải tuân theo hiệu lệnh nào?',\n",
       "  'generated_answer': 'Tại nơi có biển báo hiệu cố định lại có báo hiệu tạm thời thì người tham gia giao thông phải chấp hành hiệu lệnh của báo hiệu tạm thời.',\n",
       "  'doc_id': '4d5249af'},\n",
       " {'generated_question': 'Khi nào tôi được phép vượt xe bên phải thay vì bên trái?',\n",
       "  'generated_answer': 'Bạn được phép vượt xe bên phải trong các trường hợp sau: 1) Khi xe phía trước có tín hiệu rẽ trái hoặc đang rẽ trái; 2) Khi xe điện đang chạy giữa đường; 3) Khi xe chuyên dùng đang làm việc trên đường mà không thể vượt bên trái được.',\n",
       "  'doc_id': '7d030583'},\n",
       " {'generated_question': 'Khi lùi xe, người điều khiển cần tuân thủ những quy định gì để đảm bảo an toàn?',\n",
       "  'generated_answer': 'Khi lùi xe, người điều khiển phải quan sát phía sau, có tín hiệu cần thiết và chỉ khi nào thấy không nguy hiểm mới được lùi. Ngoài ra, không được lùi xe ở khu vực cấm dừng, trên phần đường dành cho người đi bộ qua đường, nơi đường bộ giao nhau, đường bộ giao nhau cùng mức với đường sắt, nơi tầm nhìn bị che khuất, trong hầm đường bộ, đường cao tốc.',\n",
       "  'doc_id': '7f7a2ff6'},\n",
       " {'generated_question': 'Vợ chồng có thể chấm dứt hiệu lực của việc chia tài sản chung trong thời kỳ hôn nhân không?',\n",
       "  'generated_answer': 'Sau khi chia tài sản chung trong thời kỳ hôn nhân, vợ chồng có quyền thỏa thuận chấm dứt hiệu lực của việc chia tài sản chung. Hình thức của thỏa thuận được thực hiện theo quy định tại khoản 2 Điều 38 của Luật Hôn Nhân Và Gia Đình.',\n",
       "  'doc_id': '2b6300b7'},\n",
       " {'generated_question': 'Quyền và nghĩa vụ về nhân thân của vợ chồng được bảo vệ như thế nào theo Luật Hôn Nhân và Gia Đình?',\n",
       "  'generated_answer': 'Quyền, nghĩa vụ về nhân thân của vợ, chồng quy định tại Luật Hôn Nhân và Gia Đình, Bộ luật dân sự và các luật khác có liên quan được tôn trọng và bảo vệ.',\n",
       "  'doc_id': '64eda91d'},\n",
       " {'generated_question': 'Tôi cần giữ khoảng cách bao nhiêu với xe phía trước khi tham gia giao thông?',\n",
       "  'generated_answer': \"Người lái xe phải giữ một khoảng cách an toàn với xe chạy liền trước. Ở nơi có biển báo 'Cự ly tối thiểu giữa hai xe', khoảng cách không được nhỏ hơn số ghi trên biển báo.\",\n",
       "  'doc_id': '2332c13d'},\n",
       " {'generated_question': 'Chương trình giáo dục mầm non cần đáp ứng những yêu cầu gì theo Luật Giáo Dục?',\n",
       "  'generated_answer': 'Chương trình giáo dục mầm non phải bảo đảm các yêu cầu sau: thể hiện mục tiêu giáo dục mầm non; quy định yêu cầu cần đạt ở mỗi độ tuổi, các hoạt động giáo dục, phương pháp, hình thức tổ chức hoạt động giáo dục, môi trường giáo dục, đánh giá sự phát triển của trẻ em; thống nhất trong cả nước và được tổ chức thực hiện linh hoạt, phù hợp với điều kiện cụ thể của địa phương và cơ sở giáo dục mầm non.',\n",
       "  'doc_id': '7bbe02ec'},\n",
       " {'generated_question': 'Người lái xe khách có được phép chở hành khách trên mui xe hoặc để hành khách đu, bám bên ngoài xe không?',\n",
       "  'generated_answer': 'Không, người lái xe khách không được phép chở hành khách trên mui, trong khoang chở hành lý hoặc để hành khách đu, bám bên ngoài xe.',\n",
       "  'doc_id': '55ac7fd3'},\n",
       " {'generated_question': 'Nghĩa vụ cấp dưỡng được thực hiện giữa những ai theo Luật Hôn Nhân và Gia Đình?',\n",
       "  'generated_answer': 'Nghĩa vụ cấp dưỡng được thực hiện giữa cha, mẹ và con; giữa anh, chị, em với nhau; giữa ông bà nội, ông bà ngoại và cháu; giữa cô, dì, chú, cậu, bác ruột và cháu ruột; giữa vợ và chồng theo quy định của Luật Hôn Nhân và Gia Đình.',\n",
       "  'doc_id': 'edaf687b'},\n",
       " {'generated_question': 'Trong trường hợp nào việc chia tài sản chung trong thời kỳ hôn nhân bị coi là vô hiệu?',\n",
       "  'generated_answer': 'Việc chia tài sản chung trong thời kỳ hôn nhân bị vô hiệu khi thuộc một trong các trường hợp sau: 1. Ảnh hưởng nghiêm trọng đến lợi ích của gia đình; quyền, lợi ích hợp pháp của con chưa thành niên, con đã thành niên mất năng lực hành vi dân sự hoặc không có khả năng lao động và không có tài sản để tự nuôi mình; 2. Nhằm trốn tránh thực hiện các nghĩa vụ như nuôi dưỡng, cấp dưỡng, bồi thường thiệt hại, thanh toán khi bị Tòa án tuyên bố phá sản, trả nợ cho cá nhân, tổ chức, nộp thuế hoặc nghĩa vụ tài chính khác đối với Nhà nước, và các nghĩa vụ khác về tài sản theo quy định của Luật Hôn Nhân Và Gia Đình, Bộ luật dân sự và quy định khác của pháp luật có liên quan.',\n",
       "  'doc_id': 'b74bd375'},\n",
       " {'generated_question': 'Khi dừng xe, đỗ xe trên đường phố, tôi cần tuân thủ những quy định gì về vị trí đỗ xe?',\n",
       "  'generated_answer': 'Khi dừng xe, đỗ xe trên đường phố, bạn phải cho xe dừng, đỗ sát theo lề đường, hè phố phía bên phải theo chiều đi của mình. Bánh xe gần nhất không được cách xa lề đường, hè phố quá 0,25 mét và không được gây cản trở, nguy hiểm cho giao thông. Trường hợp đường phố hẹp, bạn phải dừng xe, đỗ xe ở vị trí cách xe ô tô đang đỗ bên kia đường tối thiểu 20 mét.',\n",
       "  'doc_id': '0367a752'},\n",
       " {'generated_question': 'Các thành viên trong gia đình có nghĩa vụ gì khi sống chung?',\n",
       "  'generated_answer': 'Khi sống chung, các thành viên gia đình có nghĩa vụ tham gia công việc gia đình, lao động tạo thu nhập; đóng góp công sức, tiền hoặc tài sản khác để duy trì đời sống chung của gia đình phù hợp với khả năng thực tế của mình.',\n",
       "  'doc_id': '2e530947'},\n",
       " {'generated_question': 'Nếu một người không thể tự quản lý tài sản riêng của mình trong hôn nhân, ai có quyền quản lý tài sản đó?',\n",
       "  'generated_answer': 'Trong trường hợp vợ hoặc chồng không thể tự mình quản lý tài sản riêng và cũng không ủy quyền cho người khác quản lý thì bên kia có quyền quản lý tài sản đó. Việc quản lý tài sản phải bảo đảm lợi ích của người có tài sản.',\n",
       "  'doc_id': '8ce1ad4f'},\n",
       " {'generated_question': 'Ông bà nội, ông bà ngoại có nghĩa vụ cấp dưỡng cho cháu trong trường hợp nào?',\n",
       "  'generated_answer': 'Ông bà nội, ông bà ngoại không sống chung với cháu có nghĩa vụ cấp dưỡng cho cháu trong trường hợp cháu chưa thành niên hoặc cháu đã thành niên không có khả năng lao động, không có tài sản để tự nuôi mình và không có người cấp dưỡng theo quy định tại Điều 112 của Luật Hôn Nhân Và Gia Đình.',\n",
       "  'doc_id': '30000d3a'},\n",
       " {'generated_question': 'Nếu nam và nữ chung sống với nhau như vợ chồng mà không đăng ký kết hôn, quyền và nghĩa vụ của họ đối với con cái được quy định như thế nào?',\n",
       "  'generated_answer': 'Quyền, nghĩa vụ giữa nam, nữ chung sống với nhau như vợ chồng và con được giải quyết theo quy định của Luật Hôn Nhân Và Gia Đình về quyền, nghĩa vụ của cha mẹ và con.',\n",
       "  'doc_id': 'ddb4c799'},\n",
       " {'generated_question': 'Khi muốn chuyển hướng xe, người điều khiển phương tiện cần tuân thủ những quy định gì?',\n",
       "  'generated_answer': 'Khi muốn chuyển hướng, người điều khiển phương tiện phải giảm tốc độ và có tín hiệu báo hướng rẽ. Trong khi chuyển hướng, người lái xe phải nhường quyền đi trước cho người đi bộ, người đi xe đạp đang đi trên phần đường dành riêng cho họ, nhường đường cho các xe đi ngược chiều và chỉ cho xe chuyển hướng khi quan sát thấy không gây trở ngại hoặc nguy hiểm cho người và phương tiện khác.',\n",
       "  'doc_id': '4fde6f0d'},\n",
       " {'generated_question': 'Cha mẹ có nghĩa vụ và quyền chăm sóc, nuôi dưỡng con như thế nào theo Luật Hôn Nhân Và Gia Đình?',\n",
       "  'generated_answer': 'Theo Luật Hôn Nhân Và Gia Đình, cha mẹ có nghĩa vụ và quyền ngang nhau, cùng nhau chăm sóc, nuôi dưỡng con chưa thành niên, con đã thành niên mất năng lực hành vi dân sự hoặc không có khả năng lao động và không có tài sản để tự nuôi mình.',\n",
       "  'doc_id': '3df2d127'},\n",
       " {'generated_question': 'Tôi 18 tuổi, tôi có được lái xe ô tô chở người đến 9 chỗ ngồi không?',\n",
       "  'generated_answer': 'Theo quy định của Luật Giao Thông Đường Bộ, người đủ 18 tuổi trở lên được lái xe ô tô chở người đến 9 chỗ ngồi. Do đó, bạn đủ tuổi để lái loại xe này.',\n",
       "  'doc_id': '913967dc'},\n",
       " {'generated_question': 'Thỏa thuận về mang thai hộ vì mục đích nhân đạo cần bao gồm những nội dung gì?',\n",
       "  'generated_answer': 'Thỏa thuận về mang thai hộ vì mục đích nhân đạo cần bao gồm các nội dung cơ bản sau: thông tin đầy đủ về bên nhờ mang thai hộ và bên mang thai hộ, cam kết thực hiện các quyền và nghĩa vụ theo quy định, việc giải quyết hậu quả trong trường hợp có tai biến sản khoa, hỗ trợ bảo đảm sức khỏe sinh sản cho người mang thai hộ, việc nhận con của bên nhờ mang thai hộ, quyền và nghĩa vụ của hai bên đối với con, và trách nhiệm dân sự trong trường hợp vi phạm cam kết.',\n",
       "  'doc_id': 'bd9fb543'},\n",
       " {'generated_question': 'Nếu một công dân Việt Nam kết hôn với người nước ngoài tại Việt Nam, họ cần tuân theo những quy định pháp luật nào?',\n",
       "  'generated_answer': 'Trong việc kết hôn giữa công dân Việt Nam với người nước ngoài, mỗi bên phải tuân theo pháp luật của nước mình về điều kiện kết hôn. Nếu việc kết hôn được tiến hành tại cơ quan nhà nước có thẩm quyền của Việt Nam, người nước ngoài còn phải tuân theo các quy định của Luật Hôn Nhân Và Gia Đình Việt Nam về điều kiện kết hôn.',\n",
       "  'doc_id': '3d54654f'},\n",
       " {'generated_question': 'Việc kết hôn có cần phải đăng ký với cơ quan nhà nước không?',\n",
       "  'generated_answer': 'Việc kết hôn phải được đăng ký và do cơ quan nhà nước có thẩm quyền thực hiện theo quy định của Luật Hôn Nhân Và Gia Đình và pháp luật về hộ tịch. Việc kết hôn không được đăng ký theo quy định này thì không có giá trị pháp lý.',\n",
       "  'doc_id': '4aa0d316'},\n",
       " {'generated_question': 'Luật Hôn Nhân Và Gia Đình được thông qua vào thời gian nào và bởi cơ quan nào?',\n",
       "  'generated_answer': 'Luật Hôn Nhân Và Gia Đình đã được Quốc hội nước Cộng hòa xã hội chủ nghĩa Việt Nam khóa XIII, kỳ họp thứ 7 thông qua ngày 19 tháng 6 năm 2014.',\n",
       "  'doc_id': 'eff71113'},\n",
       " {'generated_question': 'Nội dung giáo dục mầm non cần đảm bảo những yêu cầu gì theo Luật Giáo Dục?',\n",
       "  'generated_answer': 'Nội dung giáo dục mầm non phải bảo đảm phù hợp với sự phát triển tâm sinh lý của trẻ em; hài hòa giữa bảo vệ, chăm sóc, nuôi dưỡng với giáo dục trẻ em; phát triển toàn diện về thể chất, tình cảm, kỹ năng xã hội, trí tuệ, thẩm mỹ; tôn trọng sự khác biệt; phù hợp với các độ tuổi và liên thông với giáo dục tiểu học.',\n",
       "  'doc_id': '60d219bb'},\n",
       " {'generated_question': 'Nhà nước có chính sách gì để hỗ trợ người học trong việc vay tiền học tập?',\n",
       "  'generated_answer': 'Nhà nước có chính sách tín dụng ưu đãi về lãi suất, điều kiện và thời hạn vay tiền để người học có điều kiện học tập. Khuyến khích xã hội hóa hoạt động tín dụng giáo dục.',\n",
       "  'doc_id': 'f0688c86'},\n",
       " {'generated_question': 'Khi nào quyền và nghĩa vụ của cha nuôi, mẹ nuôi với con nuôi chấm dứt?',\n",
       "  'generated_answer': 'Quyền và nghĩa vụ của cha nuôi, mẹ nuôi với con nuôi chấm dứt kể từ ngày quyết định của Tòa án về việc chấm dứt nuôi con nuôi có hiệu lực pháp luật.',\n",
       "  'doc_id': '094280f6'},\n",
       " {'generated_question': 'Khi đến gần đường giao nhau không có báo hiệu đi theo vòng xuyến, tôi phải nhường đường như thế nào?',\n",
       "  'generated_answer': 'Tại nơi đường giao nhau không có báo hiệu đi theo vòng xuyến, bạn phải nhường đường cho xe đi đến từ bên phải.',\n",
       "  'doc_id': '2c8ddb11'},\n",
       " {'generated_question': 'Mục tiêu của giáo dục đại học theo Luật Giáo Dục là gì?',\n",
       "  'generated_answer': 'Mục tiêu của giáo dục đại học bao gồm đào tạo nhân lực trình độ cao, nâng cao dân trí, bồi dưỡng nhân tài; nghiên cứu khoa học và công nghệ tạo ra tri thức, sản phẩm mới phục vụ phát triển kinh tế - xã hội, bảo đảm quốc phòng, an ninh, hội nhập quốc tế. Đồng thời, giáo dục đại học hướng đến đào tạo người học phát triển toàn diện về đức, trí, thể, mỹ; có tri thức, kỹ năng, trách nhiệm nghề nghiệp; có khả năng nắm bắt tiến bộ khoa học và công nghệ, tự học, sáng tạo, thích nghi với môi trường làm việc; có tinh thần lập nghiệp và ý thức phục vụ Nhân dân.',\n",
       "  'doc_id': '00640fda'},\n",
       " {'generated_question': 'Người mang thai hộ có được hưởng chế độ thai sản không và thời gian hưởng là bao lâu?',\n",
       "  'generated_answer': 'Người mang thai hộ được hưởng chế độ thai sản theo quy định của pháp luật về lao động và bảo hiểm xã hội cho đến thời điểm giao đứa trẻ cho bên nhờ mang thai hộ. Trong trường hợp kể từ ngày sinh đến thời điểm giao đứa trẻ mà thời gian hưởng chế độ thai sản chưa đủ 60 ngày thì người mang thai hộ vẫn được hưởng chế độ thai sản cho đến khi đủ 60 ngày.',\n",
       "  'doc_id': '36d186a0'},\n",
       " {'generated_question': 'Vợ chồng có thể thay đổi thỏa thuận về chế độ tài sản của mình không?',\n",
       "  'generated_answer': 'Vợ chồng có quyền sửa đổi, bổ sung thỏa thuận về chế độ tài sản. Hình thức sửa đổi, bổ sung nội dung của thỏa thuận về chế độ tài sản được áp dụng theo quy định tại Điều 47 của Luật Hôn Nhân Và Gia Đình.',\n",
       "  'doc_id': 'b33cdce7'},\n",
       " {'generated_question': 'Vợ hoặc chồng có phải chịu trách nhiệm về các nghĩa vụ tài sản riêng của mình không?',\n",
       "  'generated_answer': 'Vợ, chồng có các nghĩa vụ riêng về tài sản sau đây: 1. Nghĩa vụ của mỗi bên vợ, chồng có trước khi kết hôn; 2. Nghĩa vụ phát sinh từ việc chiếm hữu, sử dụng, định đoạt tài sản riêng, trừ trường hợp nghĩa vụ phát sinh trong việc bảo quản, duy trì, tu sửa tài sản riêng của vợ, chồng theo quy định tại khoản 4 Điều 44 hoặc quy định tại khoản 4 Điều 37 của Luật này; 3. Nghĩa vụ phát sinh từ giao dịch do một bên xác lập, thực hiện không vì nhu cầu của gia đình; 4. Nghĩa vụ phát sinh từ hành vi vi phạm pháp luật của vợ, chồng.',\n",
       "  'doc_id': '6a1cc6bc'},\n",
       " {'generated_question': 'Giáo dục đại học tại Việt Nam đào tạo những trình độ nào?',\n",
       "  'generated_answer': 'Giáo dục đại học đào tạo trình độ đại học, trình độ thạc sĩ, trình độ tiến sĩ.',\n",
       "  'doc_id': 'e66c485e'},\n",
       " {'generated_question': 'Trường giáo dưỡng có nhiệm vụ gì đối với người chưa thành niên vi phạm pháp luật?',\n",
       "  'generated_answer': 'Trường giáo dưỡng có nhiệm vụ giáo dục người chưa thành niên vi phạm pháp luật để đối tượng này rèn luyện, phát triển lành mạnh, trở thành người lương thiện, có khả năng tái hòa nhập vào đời sống xã hội.',\n",
       "  'doc_id': '3308ef92'},\n",
       " {'generated_question': 'Những đối tượng nào được coi là người học theo Luật Giáo Dục?',\n",
       "  'generated_answer': 'Người học là người đang học tập tại cơ sở giáo dục trong hệ thống giáo dục quốc dân, bao gồm: trẻ em của cơ sở giáo dục mầm non; học sinh của cơ sở giáo dục phổ thông, lớp đào tạo nghề, trung tâm giáo dục nghề nghiệp - giáo dục thường xuyên, trung tâm giáo dục nghề nghiệp, trường trung cấp, trường dự bị đại học; sinh viên của trường cao đẳng, trường đại học; học viên của cơ sở đào tạo thạc sĩ; nghiên cứu sinh của cơ sở đào tạo tiến sĩ; và học viên theo học chương trình giáo dục thường xuyên.',\n",
       "  'doc_id': 'd8d5b7a5'},\n",
       " {'generated_question': 'Khi vận chuyển động vật sống trên đường, người thuê vận tải cần tuân thủ những quy định gì?',\n",
       "  'generated_answer': 'Khi vận chuyển động vật sống trên đường, người thuê vận tải cần tuân thủ các quy định của pháp luật về vệ sinh, phòng dịch và bảo vệ môi trường. Ngoài ra, người thuê vận tải phải chịu trách nhiệm về việc xếp, dỡ động vật sống theo hướng dẫn của người kinh doanh vận tải. Nếu không thực hiện được, người thuê vận tải phải trả cước, phí xếp, dỡ cho người kinh doanh vận tải.',\n",
       "  'doc_id': 'e287b488'},\n",
       " {'generated_question': 'Trong trường hợp nào Tòa án sẽ giải quyết cho ly hôn theo yêu cầu của một bên?',\n",
       "  'generated_answer': 'Tòa án sẽ giải quyết cho ly hôn nếu có căn cứ về việc vợ hoặc chồng có hành vi bạo lực gia đình hoặc vi phạm nghiêm trọng quyền, nghĩa vụ của vợ, chồng làm cho hôn nhân lâm vào tình trạng trầm trọng, đời sống chung không thể kéo dài, mục đích của hôn nhân không đạt được. Ngoài ra, trong trường hợp vợ hoặc chồng của người bị Tòa án tuyên bố mất tích yêu cầu ly hôn, Tòa án cũng sẽ giải quyết cho ly hôn.',\n",
       "  'doc_id': '63501459'},\n",
       " {'generated_question': 'Ngôn ngữ chính thức được sử dụng trong các cơ sở giáo dục ở Việt Nam là gì?',\n",
       "  'generated_answer': 'Tiếng Việt là ngôn ngữ chính thức dùng trong cơ sở giáo dục. Tuy nhiên, căn cứ vào mục tiêu giáo dục và yêu cầu cụ thể về nội dung giáo dục, Chính phủ có thể quy định việc dạy và học bằng tiếng nước ngoài trong cơ sở giáo dục.',\n",
       "  'doc_id': '1095c99a'},\n",
       " {'generated_question': 'Người kinh doanh vận tải hành khách có quyền từ chối vận chuyển hành khách trong trường hợp nào?',\n",
       "  'generated_answer': 'Người kinh doanh vận tải hành khách có quyền từ chối vận chuyển trước khi phương tiện rời bến xe, rời vị trí đón, trả hành khách theo hợp đồng vận chuyển những người đã có vé hoặc người trong danh sách hợp đồng có hành vi gây rối trật tự công cộng, gây cản trở công việc của người kinh doanh vận tải, ảnh hưởng đến sức khoẻ, tài sản của người khác, gian lận vé hoặc hành khách đang bị dịch bệnh nguy hiểm.',\n",
       "  'doc_id': 'fc2fbd8d'},\n",
       " {'generated_question': 'Khi ly hôn, nếu một bên gặp khó khăn tài chính, bên kia có nghĩa vụ cấp dưỡng không?',\n",
       "  'generated_answer': 'Khi ly hôn, nếu bên khó khăn, túng thiếu có yêu cầu cấp dưỡng và có lý do chính đáng, bên kia có nghĩa vụ cấp dưỡng theo khả năng của mình.',\n",
       "  'doc_id': '98aefc90'},\n",
       " {'generated_question': 'Khi ly hôn, quyền và nghĩa vụ tài sản của vợ chồng đối với người thứ ba có còn hiệu lực không?',\n",
       "  'generated_answer': 'Quyền, nghĩa vụ tài sản của vợ chồng đối với người thứ ba vẫn có hiệu lực sau khi ly hôn, trừ trường hợp vợ chồng và người thứ ba có thỏa thuận khác.',\n",
       "  'doc_id': 'c1d63340'},\n",
       " {'generated_question': 'Mục tiêu của giáo dục phổ thông là gì?',\n",
       "  'generated_answer': 'Giáo dục phổ thông nhằm phát triển toàn diện cho người học về đạo đức, trí tuệ, thể chất, thẩm mỹ, kỹ năng cơ bản, phát triển năng lực cá nhân, tính năng động và sáng tạo; hình thành nhân cách con người Việt Nam xã hội chủ nghĩa và trách nhiệm công dân; chuẩn bị cho người học tiếp tục học chương trình giáo dục đại học, giáo dục nghề nghiệp hoặc tham gia lao động, xây dựng và bảo vệ Tổ quốc.',\n",
       "  'doc_id': '15742b71'},\n",
       " {'generated_question': 'Tôi cần làm gì khi gặp đèn tín hiệu màu đỏ và rào chắn đang đóng tại nơi đường bộ giao nhau cùng mức với đường sắt?',\n",
       "  'generated_answer': 'Khi đèn tín hiệu màu đỏ đã bật sáng, có tiếng chuông báo hiệu, rào chắn đang dịch chuyển hoặc đã đóng, người tham gia giao thông đường bộ phải dừng lại phía phần đường của mình và cách rào chắn một khoảng cách an toàn. Khi đèn tín hiệu đã tắt, rào chắn mở hết, tiếng chuông báo hiệu ngừng, bạn mới được đi qua.',\n",
       "  'doc_id': 'aafaff10'},\n",
       " {'generated_question': 'Khi một người vợ hoặc chồng chết, ai sẽ quản lý tài sản chung của vợ chồng?',\n",
       "  'generated_answer': 'Khi một bên vợ hoặc chồng chết hoặc bị Tòa án tuyên bố là đã chết, bên còn sống sẽ quản lý tài sản chung của vợ chồng, trừ trường hợp trong di chúc có chỉ định người khác quản lý di sản hoặc những người thừa kế thỏa thuận cử người khác quản lý di sản.',\n",
       "  'doc_id': '145c53b2'},\n",
       " {'generated_question': 'Ai là người chịu trách nhiệm tổ chức giao thông trên hệ thống quốc lộ theo Luật Giao Thông Đường Bộ?',\n",
       "  'generated_answer': 'Bộ trưởng Bộ Giao thông vận tải chịu trách nhiệm tổ chức giao thông trên hệ thống quốc lộ.',\n",
       "  'doc_id': 'ca9492b0'},\n",
       " {'generated_question': 'Trong trường hợp nào cha mẹ bị hạn chế quyền đối với con chưa thành niên theo Luật Hôn Nhân và Gia Đình?',\n",
       "  'generated_answer': 'Cha, mẹ bị hạn chế quyền đối với con chưa thành niên trong các trường hợp sau: a) Bị kết án về một trong các tội xâm phạm tính mạng, sức khỏe, nhân phẩm, danh dự của con với lỗi cố ý hoặc có hành vi vi phạm nghiêm trọng nghĩa vụ trông nom, chăm sóc, nuôi dưỡng, giáo dục con; b) Phá tán tài sản của con; c) Có lối sống đồi trụy; d) Xúi giục, ép buộc con làm những việc trái pháp luật, trái đạo đức xã hội.',\n",
       "  'doc_id': 'f85a0fdc'},\n",
       " {'generated_question': 'Nếu tôi muốn yêu cầu cấp dưỡng từ người thân đang sống ở nước ngoài, luật nào sẽ được áp dụng?',\n",
       "  'generated_answer': 'Nghĩa vụ cấp dưỡng tuân theo pháp luật của nước nơi người yêu cầu cấp dưỡng cư trú. Trường hợp người yêu cầu cấp dưỡng không có nơi cư trú tại Việt Nam thì áp dụng pháp luật của nước nơi người yêu cầu cấp dưỡng là công dân.',\n",
       "  'doc_id': 'fddfb9a0'},\n",
       " {'generated_question': 'Nếu vợ chồng sống chung với gia đình và ly hôn, nhưng không xác định được tài sản riêng của họ trong khối tài sản chung, thì việc chia tài sản sẽ được giải quyết như thế nào?',\n",
       "  'generated_answer': 'Trong trường hợp vợ chồng sống chung với gia đình mà ly hôn, nếu tài sản của vợ chồng trong khối tài sản chung của gia đình không xác định được, vợ hoặc chồng được chia một phần trong khối tài sản chung của gia đình căn cứ vào công sức đóng góp của họ vào việc tạo lập, duy trì, phát triển khối tài sản chung cũng như vào đời sống chung của gia đình. Việc chia tài sản do vợ chồng thỏa thuận với gia đình; nếu không thỏa thuận được thì yêu cầu Tòa án giải quyết.',\n",
       "  'doc_id': '2067f1b4'},\n",
       " {'generated_question': 'Vợ chồng có nghĩa vụ gì khi tài sản chung không đủ để đáp ứng nhu cầu thiết yếu của gia đình?',\n",
       "  'generated_answer': 'Trong trường hợp vợ chồng không có tài sản chung hoặc tài sản chung không đủ để đáp ứng nhu cầu thiết yếu của gia đình, vợ chồng có nghĩa vụ đóng góp tài sản riêng theo khả năng kinh tế của mỗi bên.',\n",
       "  'doc_id': 'b4d84fed'},\n",
       " {'generated_question': 'Giáo dục thường xuyên có nhiệm vụ gì đối với người dân?',\n",
       "  'generated_answer': 'Giáo dục thường xuyên có nhiệm vụ thực hiện xóa mù chữ cho người trong độ tuổi theo quy định của pháp luật, đào tạo, bồi dưỡng nâng cao năng lực làm việc, cập nhật, bổ sung kiến thức, kỹ năng cần thiết trong cuộc sống cho mọi người, và tạo cơ hội cho người có nhu cầu học tập nâng cao trình độ học vấn.',\n",
       "  'doc_id': 'c8eab58e'},\n",
       " {'generated_question': 'Kinh doanh vận tải hành khách bằng xe ô tô bao gồm những loại hình nào?',\n",
       "  'generated_answer': 'Kinh doanh vận tải hành khách bằng xe ô tô bao gồm: kinh doanh vận tải hành khách theo tuyến cố định, kinh doanh vận tải hành khách bằng xe buýt theo tuyến cố định, kinh doanh vận tải hành khách bằng xe taxi, kinh doanh vận tải hành khách theo hợp đồng không theo tuyến cố định, và kinh doanh vận tải khách du lịch theo tuyến, chương trình và địa điểm du lịch.',\n",
       "  'doc_id': 'e3ef6bec'},\n",
       " {'generated_question': 'Nhà đầu tư trong lĩnh vực giáo dục bao gồm những đối tượng nào?',\n",
       "  'generated_answer': 'Nhà đầu tư trong lĩnh vực giáo dục bao gồm: a) Nhà đầu tư trong nước là cá nhân có quốc tịch Việt Nam, tổ chức được thành lập theo pháp luật Việt Nam; b) Nhà đầu tư nước ngoài là cá nhân có quốc tịch nước ngoài, tổ chức thành lập theo pháp luật nước ngoài.',\n",
       "  'doc_id': '95354c8a'},\n",
       " {'generated_question': 'Trẻ em tại cơ sở giáo dục mầm non có những quyền gì theo Luật Giáo Dục?',\n",
       "  'generated_answer': 'Trẻ em tại cơ sở giáo dục mầm non có các quyền sau: được chăm sóc, nuôi dưỡng, giáo dục theo chương trình giáo dục mầm non do Bộ trưởng Bộ Giáo dục và Đào tạo ban hành; được chăm sóc sức khỏe và bảo vệ theo quy định của Luật Trẻ em và các quy định khác của pháp luật có liên quan; được miễn, giảm giá vé đối với các dịch vụ vui chơi, giải trí công cộng.',\n",
       "  'doc_id': '8aed8c41'},\n",
       " {'generated_question': 'Ai là người chịu trách nhiệm phê duyệt sách giáo khoa để sử dụng trong các cơ sở giáo dục phổ thông?',\n",
       "  'generated_answer': 'Bộ trưởng Bộ Giáo dục và Đào tạo chịu trách nhiệm về sách giáo khoa giáo dục phổ thông và phê duyệt sách giáo khoa để sử dụng trong cơ sở giáo dục phổ thông sau khi được Hội đồng quốc gia thẩm định sách giáo khoa thẩm định.',\n",
       "  'doc_id': 'f93b7fdb'},\n",
       " {'generated_question': 'Nhà nước có chính sách ưu tiên đầu tư cho giáo dục ở những khu vực nào?',\n",
       "  'generated_answer': 'Nhà nước ưu tiên đầu tư cho phổ cập giáo dục, phát triển giáo dục ở miền núi, hải đảo, vùng đồng bào dân tộc thiểu số, vùng có điều kiện kinh tế - xã hội đặc biệt khó khăn, địa bàn có khu công nghiệp.',\n",
       "  'doc_id': '73d171d2'},\n",
       " {'generated_question': 'Nếu vợ hoặc chồng đứng tên tài khoản ngân hàng hoặc tài khoản chứng khoán, họ có quyền thực hiện giao dịch liên quan đến tài sản đó không?',\n",
       "  'generated_answer': 'Theo Luật Hôn Nhân Và Gia Đình, trong giao dịch với người thứ ba ngay tình, vợ hoặc chồng là người đứng tên tài khoản ngân hàng, tài khoản chứng khoán được coi là người có quyền xác lập, thực hiện giao dịch liên quan đến tài sản đó.',\n",
       "  'doc_id': 'f57e49dc'},\n",
       " {'generated_question': 'Ai có quyền yêu cầu Tòa án hủy việc kết hôn trái pháp luật?',\n",
       "  'generated_answer': 'Theo Luật Hôn Nhân Và Gia Đình, người bị cưỡng ép kết hôn, bị lừa dối kết hôn có quyền tự mình yêu cầu hoặc đề nghị cá nhân, tổ chức như vợ, chồng, cha, mẹ, con, người giám hộ, cơ quan quản lý nhà nước về gia đình, cơ quan quản lý nhà nước về trẻ em, Hội liên hiệp phụ nữ yêu cầu Tòa án hủy việc kết hôn trái pháp luật.',\n",
       "  'doc_id': '6acc6cf8'},\n",
       " {'generated_question': 'Nếu vợ hoặc chồng muốn đưa tài sản chung vào kinh doanh, họ cần làm gì để đảm bảo hợp pháp?',\n",
       "  'generated_answer': 'Trong trường hợp vợ chồng có thỏa thuận về việc một bên đưa tài sản chung vào kinh doanh, thỏa thuận này phải được lập thành văn bản. Người được thỏa thuận có quyền tự mình thực hiện giao dịch liên quan đến tài sản chung đó.',\n",
       "  'doc_id': '547a5091'},\n",
       " {'generated_question': 'Khi hai xe đi ngược chiều trên đường không phân chia thành hai chiều xe chạy riêng biệt, tôi cần làm gì để tránh nhau?',\n",
       "  'generated_answer': 'Khi hai xe đi ngược chiều trên đường không phân chia thành hai chiều xe chạy riêng biệt, người điều khiển phải giảm tốc độ và cho xe đi về bên phải theo chiều xe chạy của mình.',\n",
       "  'doc_id': '0ed53793'},\n",
       " {'generated_question': 'Nhà nước có những chính sách gì để bảo vệ hôn nhân và gia đình?',\n",
       "  'generated_answer': 'Nhà nước có chính sách, biện pháp bảo hộ hôn nhân và gia đình, tạo điều kiện để nam, nữ xác lập hôn nhân tự nguyện, tiến bộ, một vợ một chồng, vợ chồng bình đẳng; xây dựng gia đình ấm no, tiến bộ, hạnh phúc và thực hiện đầy đủ chức năng của mình. Nhà nước cũng tăng cường tuyên truyền, phổ biến, giáo dục pháp luật về hôn nhân và gia đình, vận động nhân dân xóa bỏ phong tục, tập quán lạc hậu và phát huy truyền thống, phong tục, tập quán tốt đẹp thể hiện bản sắc của mỗi dân tộc.',\n",
       "  'doc_id': '673a834b'},\n",
       " {'generated_question': 'Trong trường hợp nào thì anh, chị có nghĩa vụ cấp dưỡng cho em mình theo Luật Hôn Nhân và Gia Đình?',\n",
       "  'generated_answer': 'Theo Luật Hôn Nhân và Gia Đình, anh, chị đã thành niên không sống chung với em có nghĩa vụ cấp dưỡng cho em chưa thành niên không có tài sản để tự nuôi mình hoặc em đã thành niên không có khả năng lao động và không có tài sản để tự nuôi mình trong trường hợp không còn cha mẹ hoặc cha mẹ không có khả năng lao động và không có tài sản để cấp dưỡng cho con.',\n",
       "  'doc_id': 'a114ebfe'},\n",
       " {'generated_question': 'Trường hợp nào cần phải đến Tòa án để xác định cha, mẹ, con có yếu tố nước ngoài?',\n",
       "  'generated_answer': 'Tòa án có thẩm quyền của Việt Nam giải quyết việc xác định cha, mẹ, con có yếu tố nước ngoài đối với các trường hợp quy định tại khoản 2 Điều 88, Điều 89, Điều 90, khoản 1, khoản 5 Điều 97, khoản 3, khoản 5 Điều 98 và Điều 99 của Luật Hôn Nhân Và Gia Đình; các trường hợp khác có tranh chấp.',\n",
       "  'doc_id': '3136fc57'},\n",
       " {'generated_question': 'Cha mẹ có phải bồi thường thiệt hại do con cái gây ra không?',\n",
       "  'generated_answer': 'Theo Luật Hôn Nhân Và Gia Đình, cha mẹ phải bồi thường thiệt hại do con chưa thành niên hoặc con đã thành niên nhưng mất năng lực hành vi dân sự gây ra, theo quy định của Bộ luật dân sự.',\n",
       "  'doc_id': '227bb762'},\n",
       " {'generated_question': 'Học sinh, sinh viên có được hưởng chế độ miễn, giảm giá vé khi sử dụng dịch vụ công cộng không?',\n",
       "  'generated_answer': 'Học sinh, sinh viên được hưởng chế độ miễn, giảm giá vé khi sử dụng các dịch vụ công cộng về giao thông, giải trí, tham quan viện bảo tàng, di tích lịch sử, công trình văn hóa theo quy định của Chính phủ.',\n",
       "  'doc_id': 'c5813216'},\n",
       " {'generated_question': 'Trường hợp nào nhà trường có thể bị đình chỉ hoạt động giáo dục?',\n",
       "  'generated_answer': 'Nhà trường có thể bị đình chỉ hoạt động giáo dục trong các trường hợp sau: 1) Có hành vi gian lận để được cho phép hoạt động giáo dục; 2) Không bảo đảm một trong các điều kiện quy định tại khoản 2 Điều 49 của Luật Giáo Dục; 3) Người cho phép hoạt động giáo dục không đúng thẩm quyền; 4) Không triển khai hoạt động giáo dục trong thời hạn quy định kể từ ngày được phép hoạt động giáo dục; 5) Vi phạm quy định của pháp luật về giáo dục bị xử phạt vi phạm hành chính ở mức độ phải đình chỉ; 6) Trường hợp khác theo quy định của pháp luật.',\n",
       "  'doc_id': '4751dc48'},\n",
       " {'generated_question': 'Người đi bộ phải đi ở đâu khi đường không có hè phố hoặc lề đường?',\n",
       "  'generated_answer': 'Trường hợp đường không có hè phố, lề đường thì người đi bộ phải đi sát mép đường.',\n",
       "  'doc_id': '18b2ecf6'},\n",
       " {'generated_question': 'Liên thông trong giáo dục là gì và người học có phải học lại kiến thức đã tích lũy không?',\n",
       "  'generated_answer': 'Liên thông trong giáo dục là việc sử dụng kết quả học tập đã có để học tiếp ở các cấp học, trình độ khác cùng ngành, nghề đào tạo hoặc khi chuyển sang ngành, nghề đào tạo, hình thức giáo dục và trình độ đào tạo khác phù hợp với yêu cầu nội dung tương ứng. Người học không phải học lại kiến thức và kỹ năng đã tích lũy ở các chương trình giáo dục trước đó.',\n",
       "  'doc_id': '8152392a'},\n",
       " {'generated_question': 'Tổ chức Đảng trong nhà trường có vai trò như thế nào theo Luật Giáo Dục?',\n",
       "  'generated_answer': 'Tổ chức Đảng Cộng sản Việt Nam trong nhà trường lãnh đạo nhà trường và hoạt động trong khuôn khổ Hiến pháp và pháp luật.',\n",
       "  'doc_id': '4ca71e3d'},\n",
       " {'generated_question': 'Nếu hai người kết hôn trái pháp luật nhưng sau đó đã đủ điều kiện kết hôn, Tòa án sẽ xử lý như thế nào?',\n",
       "  'generated_answer': 'Trong trường hợp tại thời điểm Tòa án giải quyết yêu cầu hủy việc kết hôn trái pháp luật mà cả hai bên kết hôn đã có đủ các điều kiện kết hôn theo quy định tại Điều 8 của Luật Hôn Nhân Và Gia Đình và hai bên yêu cầu công nhận quan hệ hôn nhân, Tòa án sẽ công nhận quan hệ hôn nhân đó. Quan hệ hôn nhân được xác lập từ thời điểm các bên đủ điều kiện kết hôn theo quy định của Luật này.',\n",
       "  'doc_id': 'daa1dccc'},\n",
       " {'generated_question': 'Nếu nam và nữ chung sống với nhau như vợ chồng mà không đăng ký kết hôn, họ có quyền và nghĩa vụ giống như vợ chồng hợp pháp không?',\n",
       "  'generated_answer': 'Nam, nữ có đủ điều kiện kết hôn theo quy định của Luật Hôn Nhân Và Gia Đình chung sống với nhau như vợ chồng mà không đăng ký kết hôn thì không làm phát sinh quyền, nghĩa vụ giữa vợ và chồng. Quyền, nghĩa vụ đối với con, tài sản, nghĩa vụ và hợp đồng giữa các bên được giải quyết theo quy định tại Điều 15 và Điều 16 của Luật này.',\n",
       "  'doc_id': '5d674582'},\n",
       " {'generated_question': 'Tôi muốn nhập tài sản riêng của mình vào tài sản chung với vợ/chồng thì cần làm thế nào?',\n",
       "  'generated_answer': 'Việc nhập tài sản riêng của vợ, chồng vào tài sản chung được thực hiện theo thỏa thuận của vợ chồng. Nếu tài sản đó thuộc loại mà pháp luật quy định giao dịch liên quan phải tuân theo hình thức nhất định, thì thỏa thuận nhập tài sản cũng phải đảm bảo hình thức đó.',\n",
       "  'doc_id': '146451b7'},\n",
       " {'generated_question': 'Chương trình giáo dục phổ thông có những yêu cầu gì để đảm bảo chất lượng giáo dục?',\n",
       "  'generated_answer': 'Chương trình giáo dục phổ thông phải bảo đảm các yêu cầu sau: thể hiện mục tiêu giáo dục phổ thông; quy định yêu cầu về phẩm chất và năng lực của học sinh cần đạt được sau mỗi cấp học, nội dung giáo dục bắt buộc đối với tất cả học sinh trong cả nước; quy định phương pháp, hình thức tổ chức hoạt động giáo dục và đánh giá kết quả giáo dục đối với các môn học ở mỗi lớp, mỗi cấp học; thống nhất trong cả nước và được tổ chức thực hiện linh hoạt, phù hợp với điều kiện cụ thể của địa phương và cơ sở giáo dục phổ thông; được lấy ý kiến rộng rãi các tổ chức, cá nhân và thực nghiệm trước khi ban hành; được công bố công khai sau khi ban hành.',\n",
       "  'doc_id': '7635a3db'},\n",
       " {'generated_question': 'Nếu một đứa trẻ được sinh ra trong vòng 300 ngày sau khi cha mẹ ly hôn, đứa trẻ đó có được coi là con chung của vợ chồng không?',\n",
       "  'generated_answer': 'Theo Luật Hôn Nhân Và Gia Đình, con được sinh ra trong thời hạn 300 ngày kể từ thời điểm chấm dứt hôn nhân được coi là con do người vợ có thai trong thời kỳ hôn nhân và là con chung của vợ chồng.',\n",
       "  'doc_id': '88843b74'},\n",
       " {'generated_question': 'Nhà trường cần đáp ứng những điều kiện gì để được phép hoạt động giáo dục?',\n",
       "  'generated_answer': 'Nhà trường được phép hoạt động giáo dục khi đáp ứng đủ các điều kiện sau: có đất đai, cơ sở vật chất, thiết bị đáp ứng yêu cầu hoạt động giáo dục; có chương trình giáo dục và tài liệu giảng dạy, học tập phù hợp với mỗi cấp học, trình độ đào tạo; có đội ngũ nhà giáo và cán bộ quản lý đạt tiêu chuẩn, đủ về số lượng, đồng bộ về cơ cấu; có đủ nguồn lực tài chính để bảo đảm duy trì và phát triển hoạt động giáo dục; và có quy chế tổ chức và hoạt động của nhà trường.',\n",
       "  'doc_id': 'be76406b'},\n",
       " {'generated_question': 'Con cái có những quyền gì khi sống chung với cha mẹ theo Luật Hôn Nhân Và Gia Đình?',\n",
       "  'generated_answer': 'Con cái có quyền sống chung với cha mẹ, được cha mẹ trông nom, nuôi dưỡng, chăm sóc. Con đã thành niên có quyền tự do lựa chọn nghề nghiệp, nơi cư trú, học tập, nâng cao trình độ văn hóa, chuyên môn, nghiệp vụ; tham gia hoạt động chính trị, kinh tế, văn hóa, xã hội theo nguyện vọng và khả năng của mình. Khi sống cùng với cha mẹ, con có nghĩa vụ tham gia công việc gia đình, lao động, sản xuất, tạo thu nhập nhằm bảo đảm đời sống chung của gia đình; đóng góp thu nhập vào việc đáp ứng nhu cầu của gia đình phù hợp với khả năng của mình.',\n",
       "  'doc_id': '646f4add'},\n",
       " {'generated_question': 'Điều lệ nhà trường bao gồm những nội dung chính nào?',\n",
       "  'generated_answer': 'Điều lệ nhà trường bao gồm các nội dung chính như: nhiệm vụ và quyền hạn của nhà trường, tổ chức hoạt động giáo dục trong nhà trường, nhiệm vụ và quyền của nhà giáo, nhiệm vụ và quyền của người học, tổ chức và quản lý nhà trường, tài chính và tài sản của nhà trường, và quan hệ giữa nhà trường, gia đình và xã hội.',\n",
       "  'doc_id': '266ff403'},\n",
       " {'generated_question': 'Những hình thức hợp tác, đầu tư của nước ngoài về giáo dục tại Việt Nam bao gồm những gì?',\n",
       "  'generated_answer': 'Các hình thức hợp tác, đầu tư của nước ngoài về giáo dục tại Việt Nam bao gồm: liên kết giáo dục, đào tạo; thành lập văn phòng đại diện; thành lập phân hiệu; thành lập cơ sở giáo dục; và các hình thức hợp tác, đầu tư khác.',\n",
       "  'doc_id': '6e20e083'},\n",
       " {'generated_question': 'Khi vợ chồng muốn định đoạt tài sản chung như bất động sản hoặc động sản phải đăng ký quyền sở hữu, họ cần làm gì theo quy định của Luật Hôn Nhân Và Gia Đình?',\n",
       "  'generated_answer': 'Theo Luật Hôn Nhân Và Gia Đình, việc định đoạt tài sản chung như bất động sản hoặc động sản phải đăng ký quyền sở hữu cần có sự thỏa thuận bằng văn bản của vợ chồng.',\n",
       "  'doc_id': '6bebc96e'},\n",
       " {'generated_question': 'Vợ chồng có nghĩa vụ gì trong việc bảo vệ danh dự và nhân phẩm của nhau theo Luật Hôn Nhân và Gia Đình?',\n",
       "  'generated_answer': 'Vợ, chồng có nghĩa vụ tôn trọng, giữ gìn và bảo vệ danh dự, nhân phẩm, uy tín cho nhau.',\n",
       "  'doc_id': '8246899f'},\n",
       " {'generated_question': 'Những cơ sở giáo dục nào được phép đào tạo và bồi dưỡng nhà giáo?',\n",
       "  'generated_answer': 'Các cơ sở giáo dục được phép đào tạo và bồi dưỡng nhà giáo bao gồm trường sư phạm, cơ sở giáo dục có khoa sư phạm, và các cơ sở giáo dục được phép đào tạo, bồi dưỡng nhà giáo.',\n",
       "  'doc_id': '3d81e63a'},\n",
       " {'generated_question': 'Những loại sản phẩm nào liên quan đến giáo dục được hưởng ưu đãi về thuế theo Luật Giáo Dục?',\n",
       "  'generated_answer': 'Theo Luật Giáo Dục, các sản phẩm được hưởng ưu đãi về thuế bao gồm sách giáo khoa, giáo trình, tài liệu dạy học; thiết bị dạy học, đồ chơi cho trẻ em trong cơ sở giáo dục mầm non; và các sách, báo, tài liệu giảng dạy, học tập, thiết bị dạy học, thiết bị nghiên cứu nhập khẩu dùng trong cơ sở giáo dục.',\n",
       "  'doc_id': '149f303c'},\n",
       " {'generated_question': 'Nhà giáo có những nhiệm vụ gì theo Luật Giáo Dục?',\n",
       "  'generated_answer': 'Theo Luật Giáo Dục, nhà giáo có các nhiệm vụ sau: 1. Giảng dạy, giáo dục theo mục tiêu, nguyên lý giáo dục, thực hiện đầy đủ và có chất lượng chương trình giáo dục. 2. Gương mẫu thực hiện nghĩa vụ công dân, điều lệ nhà trường, quy tắc ứng xử của nhà giáo. 3. Giữ gìn phẩm chất, uy tín, danh dự của nhà giáo; tôn trọng, đối xử công bằng với người học; bảo vệ các quyền, lợi ích chính đáng của người học. 4. Học tập, rèn luyện để nâng cao phẩm chất đạo đức, trình độ chính trị, chuyên môn, nghiệp vụ, đổi mới phương pháp giảng dạy, nêu gương tốt cho người học.',\n",
       "  'doc_id': '115e68df'},\n",
       " {'generated_question': 'Người lái xe và nhân viên phục vụ trên xe ô tô vận tải hành khách có những trách nhiệm gì để đảm bảo an toàn cho hành khách?',\n",
       "  'generated_answer': 'Người lái xe và nhân viên phục vụ trên xe ô tô vận tải hành khách có các trách nhiệm sau: 1. Kiểm tra các điều kiện bảo đảm an toàn của xe trước khi khởi hành. 2. Có thái độ văn minh, lịch sự, hướng dẫn hành khách ngồi đúng nơi quy định. 3. Kiểm tra việc sắp xếp, chằng buộc hành lý, hàng hóa bảo đảm an toàn. 4. Có biện pháp bảo vệ tính mạng, sức khỏe, tài sản của hành khách đi xe, giữ gìn trật tự, vệ sinh trong xe. 5. Đóng cửa lên xuống của xe trước và trong khi xe chạy.',\n",
       "  'doc_id': '9004be5b'},\n",
       " {'generated_question': 'Những loại xe nào được ưu tiên đi trước khi qua đường giao nhau?',\n",
       "  'generated_answer': 'Theo Luật Giao Thông Đường Bộ, các loại xe được ưu tiên đi trước khi qua đường giao nhau bao gồm: xe chữa cháy đi làm nhiệm vụ; xe quân sự, xe công an đi làm nhiệm vụ khẩn cấp, đoàn xe có xe cảnh sát dẫn đường; xe cứu thương đang thực hiện nhiệm vụ cấp cứu; xe hộ đê, xe đi làm nhiệm vụ khắc phục sự cố thiên tai, dịch bệnh hoặc xe đi làm nhiệm vụ trong tình trạng khẩn cấp theo quy định của pháp luật; và đoàn xe tang.',\n",
       "  'doc_id': 'c0f9feda'},\n",
       " {'generated_question': 'Luật Giao Thông Đường Bộ hiện tại có hiệu lực từ khi nào và thay thế luật nào?',\n",
       "  'generated_answer': 'Luật Giao Thông Đường Bộ hiện tại có hiệu lực thi hành từ ngày 01 tháng 7 năm 2009 và thay thế Luật giao thông đường bộ ngày 29 tháng 6 năm 2001.',\n",
       "  'doc_id': '0c561b01'},\n",
       " {'generated_question': 'Vợ và chồng có quyền bình đẳng như thế nào trong việc quản lý tài sản chung?',\n",
       "  'generated_answer': 'Vợ và chồng bình đẳng với nhau về quyền, nghĩa vụ trong việc tạo lập, chiếm hữu, sử dụng, định đoạt tài sản chung; không phân biệt giữa lao động trong gia đình và lao động có thu nhập.',\n",
       "  'doc_id': '65242f61'},\n",
       " {'generated_question': 'Ai là đối tượng được hưởng chế độ cử tuyển theo Luật Giáo Dục?',\n",
       "  'generated_answer': 'Đối tượng được hưởng chế độ cử tuyển bao gồm học sinh là người dân tộc thiểu số rất ít người; học sinh là người dân tộc thiểu số ở vùng có điều kiện kinh tế - xã hội đặc biệt khó khăn chưa có hoặc có rất ít cán bộ, công chức, viên chức là người dân tộc thiểu số.',\n",
       "  'doc_id': 'f1594d18'},\n",
       " {'generated_question': 'Cơ sở giáo dục có trách nhiệm gì trong hoạt động khoa học và công nghệ theo Luật Giáo Dục?',\n",
       "  'generated_answer': 'Theo Luật Giáo Dục, hoạt động khoa học và công nghệ là một nhiệm vụ của cơ sở giáo dục. Cơ sở giáo dục có thể tự triển khai hoặc phối hợp với tổ chức khoa học và công nghệ, cơ sở sản xuất, kinh doanh, dịch vụ trong việc đào tạo, nghiên cứu khoa học và chuyển giao công nghệ, phục vụ phát triển kinh tế - xã hội.',\n",
       "  'doc_id': '3f0e7c5a'},\n",
       " {'generated_question': 'Cha mẹ có những nghĩa vụ và quyền gì trong việc giáo dục con theo Luật Hôn Nhân và Gia Đình?',\n",
       "  'generated_answer': 'Cha mẹ có nghĩa vụ và quyền giáo dục con, chăm lo và tạo điều kiện cho con học tập. Họ cần tạo điều kiện cho con được sống trong môi trường gia đình đầm ấm, hòa thuận; làm gương tốt cho con về mọi mặt; phối hợp chặt chẽ với nhà trường, cơ quan, tổ chức trong việc giáo dục con. Ngoài ra, cha mẹ còn hướng dẫn con chọn nghề và tôn trọng quyền chọn nghề, quyền tham gia hoạt động chính trị, kinh tế, văn hóa, xã hội của con.',\n",
       "  'doc_id': '39207ac4'},\n",
       " {'generated_question': 'Xe thô sơ cần đáp ứng những điều kiện gì khi tham gia giao thông?',\n",
       "  'generated_answer': 'Khi tham gia giao thông, xe thô sơ phải bảo đảm điều kiện an toàn giao thông đường bộ. Ủy ban nhân dân cấp tỉnh sẽ quy định cụ thể điều kiện và phạm vi hoạt động của xe thô sơ tại địa phương mình.',\n",
       "  'doc_id': '9d610d76'},\n",
       " {'generated_question': 'Tài sản chung của vợ chồng bao gồm những gì theo Luật Hôn Nhân và Gia Đình?',\n",
       "  'generated_answer': 'Tài sản chung của vợ chồng bao gồm tài sản do vợ, chồng tạo ra, thu nhập từ lao động, hoạt động sản xuất, kinh doanh, hoa lợi, lợi tức phát sinh từ tài sản riêng và thu nhập hợp pháp khác trong thời kỳ hôn nhân. Ngoài ra, tài sản mà vợ chồng được thừa kế chung, được tặng cho chung, và tài sản khác mà vợ chồng thỏa thuận là tài sản chung cũng thuộc tài sản chung. Quyền sử dụng đất mà vợ, chồng có được sau khi kết hôn cũng là tài sản chung, trừ trường hợp được thừa kế riêng, được tặng cho riêng hoặc có được thông qua giao dịch bằng tài sản riêng.',\n",
       "  'doc_id': '88ef4181'},\n",
       " {'generated_question': 'Trong trường hợp có tranh chấp về việc xác định cha, mẹ, con, cơ quan nào có thẩm quyền giải quyết?',\n",
       "  'generated_answer': 'Tòa án có thẩm quyền giải quyết việc xác định cha, mẹ, con trong trường hợp có tranh chấp hoặc người được yêu cầu xác định là cha, mẹ, con đã chết và trường hợp quy định tại Điều 92 của Luật Hôn Nhân Và Gia Đình.',\n",
       "  'doc_id': 'bccd6f03'},\n",
       " {'generated_question': 'Cha dượng, mẹ kế có quyền và nghĩa vụ gì đối với con riêng của vợ hoặc chồng mình?',\n",
       "  'generated_answer': 'Cha dượng, mẹ kế có quyền và nghĩa vụ trông nom, nuôi dưỡng, chăm sóc, giáo dục con riêng của bên kia cùng sống chung với mình theo quy định tại các điều 69, 71 và 72 của Luật Hôn Nhân Và Gia Đình.',\n",
       "  'doc_id': 'f523c4e4'},\n",
       " {'generated_question': 'Hệ thống giáo dục quốc dân Việt Nam bao gồm những cấp học và trình độ đào tạo nào?',\n",
       "  'generated_answer': 'Hệ thống giáo dục quốc dân bao gồm các cấp học và trình độ đào tạo sau: giáo dục mầm non (gồm giáo dục nhà trẻ và giáo dục mẫu giáo), giáo dục phổ thông (gồm giáo dục tiểu học, giáo dục trung học cơ sở và giáo dục trung học phổ thông), giáo dục nghề nghiệp (đào tạo trình độ sơ cấp, trung cấp, cao đẳng và các chương trình đào tạo nghề nghiệp khác), và giáo dục đại học (đào tạo trình độ đại học, thạc sĩ và tiến sĩ).',\n",
       "  'doc_id': 'f01c46b4'},\n",
       " {'generated_question': 'Trong trường hợp nào chồng không có quyền yêu cầu ly hôn?',\n",
       "  'generated_answer': 'Chồng không có quyền yêu cầu ly hôn trong trường hợp vợ đang có thai, sinh con hoặc đang nuôi con dưới 12 tháng tuổi.',\n",
       "  'doc_id': '7ad757e4'},\n",
       " {'generated_question': 'Ai là cơ quan chịu trách nhiệm chính trong việc quản lý nhà nước về giao thông đường bộ?',\n",
       "  'generated_answer': 'Bộ Giao thông vận tải chịu trách nhiệm trước Chính phủ thực hiện quản lý nhà nước về giao thông đường bộ. Bộ Công an và Bộ Quốc phòng cũng thực hiện các nhiệm vụ quản lý nhà nước về giao thông đường bộ theo quy định của Luật này và các quy định khác của pháp luật có liên quan.',\n",
       "  'doc_id': 'f7febb2b'},\n",
       " {'generated_question': 'Đoàn thể, tổ chức xã hội trong nhà trường có trách nhiệm gì theo Luật Giáo Dục?',\n",
       "  'generated_answer': 'Đoàn thể, tổ chức xã hội trong nhà trường có trách nhiệm góp phần thực hiện mục tiêu giáo dục và hoạt động theo quy định của pháp luật.',\n",
       "  'doc_id': '6dab4f3e'},\n",
       " {'generated_question': 'Hướng nghiệp trong giáo dục là gì và nó có vai trò như thế nào đối với học sinh?',\n",
       "  'generated_answer': 'Hướng nghiệp trong giáo dục là hệ thống các biện pháp tiến hành trong và ngoài cơ sở giáo dục để giúp học sinh có kiến thức về nghề nghiệp, khả năng lựa chọn nghề nghiệp trên cơ sở kết hợp nguyện vọng, sở trường của cá nhân với nhu cầu sử dụng lao động của xã hội.',\n",
       "  'doc_id': 'a8c67f16'},\n",
       " {'generated_question': 'Người kinh doanh vận tải hàng hóa có quyền gì khi người thuê vận tải không giao hàng theo thỏa thuận trong hợp đồng?',\n",
       "  'generated_answer': 'Người kinh doanh vận tải hàng hóa có quyền từ chối vận chuyển nếu người thuê vận tải không giao hàng hóa theo thỏa thuận trong hợp đồng.',\n",
       "  'doc_id': 'e2799572'},\n",
       " {'generated_question': 'Nhà nước có trách nhiệm gì trong việc quản lý và bảo trì kết cấu hạ tầng giao thông đường bộ?',\n",
       "  'generated_answer': 'Nhà nước có trách nhiệm tổ chức quản lý, bảo trì, bảo vệ kết cấu hạ tầng giao thông đường bộ, bao gồm việc xây dựng quy hoạch, kế hoạch và chính sách phát triển giao thông đường bộ, cũng như thực hiện các chương trình quốc gia về an toàn giao thông đường bộ.',\n",
       "  'doc_id': 'd2166e14'},\n",
       " {'generated_question': 'Giáo dục hòa nhập là gì và mục đích của nó là gì?',\n",
       "  'generated_answer': 'Giáo dục hòa nhập là phương thức giáo dục nhằm đáp ứng nhu cầu và khả năng khác nhau của người học; bảo đảm quyền học tập bình đẳng, chất lượng giáo dục, phù hợp với nhu cầu, đặc điểm và khả năng của người học; tôn trọng sự đa dạng, khác biệt của người học và không phân biệt đối xử.',\n",
       "  'doc_id': '3b94b861'},\n",
       " {'generated_question': 'Nhà nước có khuyến khích việc hòa giải khi vợ chồng có yêu cầu ly hôn không?',\n",
       "  'generated_answer': 'Nhà nước và xã hội khuyến khích việc hòa giải ở cơ sở khi vợ, chồng có yêu cầu ly hôn. Việc hòa giải được thực hiện theo quy định của pháp luật về hòa giải ở cơ sở.',\n",
       "  'doc_id': '3f2a4a4d'},\n",
       " {'generated_question': 'Khi nào một xe ô tô được phép kéo theo một xe ô tô hoặc xe máy chuyên dùng khác?',\n",
       "  'generated_answer': 'Một xe ô tô chỉ được kéo theo một xe ô tô hoặc xe máy chuyên dùng khác khi xe này không tự chạy được và phải bảo đảm các quy định sau: xe được kéo phải có người điều khiển và hệ thống lái của xe đó phải còn hiệu lực; việc nối xe kéo với xe được kéo phải bảo đảm chắc chắn, an toàn; phía trước của xe kéo và phía sau của xe được kéo phải có biển báo hiệu.',\n",
       "  'doc_id': 'd638a752'},\n",
       " {'generated_question': 'Luật Hôn Nhân Và Gia Đình điều chỉnh những vấn đề gì?',\n",
       "  'generated_answer': 'Luật này quy định chế độ hôn nhân và gia đình; chuẩn mực pháp lý cho cách ứng xử giữa các thành viên gia đình; trách nhiệm của cá nhân, tổ chức, Nhà nước và xã hội trong việc xây dựng, củng cố chế độ hôn nhân và gia đình.',\n",
       "  'doc_id': '424554a8'},\n",
       " {'generated_question': 'Điều kiện để một cặp vợ chồng được nhờ người mang thai hộ vì mục đích nhân đạo là gì?',\n",
       "  'generated_answer': 'Vợ chồng có quyền nhờ người mang thai hộ khi có đủ các điều kiện sau: 1) Có xác nhận của tổ chức y tế có thẩm quyền về việc người vợ không thể mang thai và sinh con ngay cả khi áp dụng kỹ thuật hỗ trợ sinh sản; 2) Vợ chồng đang không có con chung; 3) Đã được tư vấn về y tế, pháp lý, tâm lý.',\n",
       "  'doc_id': '04868edf'},\n",
       " {'generated_question': 'Cha mẹ có quyền tự mình thực hiện giao dịch tài sản của con chưa thành niên không?',\n",
       "  'generated_answer': 'Cha hoặc mẹ có quyền tự mình thực hiện giao dịch nhằm đáp ứng nhu cầu thiết yếu của con chưa thành niên, con đã thành niên mất năng lực hành vi dân sự hoặc không có khả năng lao động và không có tài sản để tự nuôi mình. Tuy nhiên, đối với giao dịch liên quan đến tài sản là bất động sản, động sản có đăng ký quyền sở hữu, quyền sử dụng, tài sản đưa vào kinh doanh của con chưa thành niên, con đã thành niên mất năng lực hành vi dân sự thì phải có sự thỏa thuận của cha mẹ.',\n",
       "  'doc_id': 'dc292a9c'},\n",
       " {'generated_question': 'Vợ chồng có nghĩa vụ gì đối với quyền tự do tín ngưỡng, tôn giáo của nhau theo Luật Hôn Nhân và Gia Đình?',\n",
       "  'generated_answer': 'Vợ, chồng có nghĩa vụ tôn trọng quyền tự do tín ngưỡng, tôn giáo của nhau.',\n",
       "  'doc_id': 'c8a7e8e1'},\n",
       " {'generated_question': 'Tài sản nào được coi là tài sản riêng của vợ hoặc chồng theo Luật Hôn Nhân Và Gia Đình?',\n",
       "  'generated_answer': 'Tài sản riêng của vợ, chồng gồm tài sản mà mỗi người có trước khi kết hôn; tài sản được thừa kế riêng, được tặng cho riêng trong thời kỳ hôn nhân; tài sản được chia riêng cho vợ, chồng theo quy định tại các điều 38, 39 và 40 của Luật này; tài sản phục vụ nhu cầu thiết yếu của vợ, chồng và tài sản khác mà theo quy định của pháp luật thuộc sở hữu riêng của vợ, chồng.',\n",
       "  'doc_id': '48bc6ff9'},\n",
       " {'generated_question': 'Luật Giáo dục quy định những nội dung gì?',\n",
       "  'generated_answer': 'Luật Giáo dục quy định về hệ thống giáo dục quốc dân; cơ sở giáo dục, nhà giáo, người học; quản lý nhà nước về giáo dục; quyền và trách nhiệm của cơ quan, tổ chức, cá nhân liên quan đến hoạt động giáo dục.',\n",
       "  'doc_id': '75a9286e'}]"
      ]
     },
     "execution_count": 37,
     "metadata": {},
     "output_type": "execute_result"
    }
   ],
   "source": [
    "results"
   ]
  },
  {
   "cell_type": "code",
   "execution_count": 1,
   "id": "031ecc50-a9a3-4508-8149-cf716e045d20",
   "metadata": {},
   "outputs": [
    {
     "ename": "NameError",
     "evalue": "name 'results' is not defined",
     "output_type": "error",
     "traceback": [
      "\u001b[0;31m---------------------------------------------------------------------------\u001b[0m",
      "\u001b[0;31mNameError\u001b[0m                                 Traceback (most recent call last)",
      "Cell \u001b[0;32mIn[1], line 4\u001b[0m\n\u001b[1;32m      1\u001b[0m \u001b[38;5;28;01mimport\u001b[39;00m \u001b[38;5;21;01mpandas\u001b[39;00m \u001b[38;5;28;01mas\u001b[39;00m \u001b[38;5;21;01mpd\u001b[39;00m\n\u001b[1;32m      3\u001b[0m \u001b[38;5;66;03m# Convert results to a DataFrame\u001b[39;00m\n\u001b[0;32m----> 4\u001b[0m df \u001b[38;5;241m=\u001b[39m pd\u001b[38;5;241m.\u001b[39mDataFrame(\u001b[43mresults\u001b[49m)\n\u001b[1;32m      6\u001b[0m \u001b[38;5;66;03m# Strip extra spaces from column names\u001b[39;00m\n\u001b[1;32m      7\u001b[0m df\u001b[38;5;241m.\u001b[39mcolumns \u001b[38;5;241m=\u001b[39m df\u001b[38;5;241m.\u001b[39mcolumns\u001b[38;5;241m.\u001b[39mstr\u001b[38;5;241m.\u001b[39mstrip()\n",
      "\u001b[0;31mNameError\u001b[0m: name 'results' is not defined"
     ]
    }
   ],
   "source": [
    "import pandas as pd\n",
    "\n",
    "# Convert results to a DataFrame\n",
    "df = pd.DataFrame(results)\n",
    "\n",
    "# Save to CSV\n",
    "df.to_csv('ground-truth-data.csv', index=False, encoding='utf-8')"
   ]
  },
  {
   "cell_type": "markdown",
   "id": "9a5e67ae",
   "metadata": {},
   "source": [
    "## Add law_title to groundtruth dataset"
   ]
  },
  {
   "cell_type": "code",
   "execution_count": 4,
   "id": "d9c61301",
   "metadata": {},
   "outputs": [],
   "source": [
    "import pandas as pd\n",
    "\n",
    "df_ground_truth = pd.read_csv('./evaluate/ground-truth-data.csv')\n",
    "ground_truth = df_ground_truth.to_dict(orient='records')"
   ]
  },
  {
   "cell_type": "code",
   "execution_count": 6,
   "id": "603b3de6",
   "metadata": {},
   "outputs": [
    {
     "data": {
      "text/html": [
       "<div>\n",
       "<style scoped>\n",
       "    .dataframe tbody tr th:only-of-type {\n",
       "        vertical-align: middle;\n",
       "    }\n",
       "\n",
       "    .dataframe tbody tr th {\n",
       "        vertical-align: top;\n",
       "    }\n",
       "\n",
       "    .dataframe thead th {\n",
       "        text-align: right;\n",
       "    }\n",
       "</style>\n",
       "<table border=\"1\" class=\"dataframe\">\n",
       "  <thead>\n",
       "    <tr style=\"text-align: right;\">\n",
       "      <th></th>\n",
       "      <th>generated_question</th>\n",
       "      <th>generated_answer</th>\n",
       "      <th>doc_id</th>\n",
       "    </tr>\n",
       "  </thead>\n",
       "  <tbody>\n",
       "    <tr>\n",
       "      <th>0</th>\n",
       "      <td>Các loại hình cơ sở giáo dục mầm non được quy ...</td>\n",
       "      <td>Cơ sở giáo dục mầm non bao gồm: 1. Nhà trẻ, nh...</td>\n",
       "      <td>a0fcdc5b</td>\n",
       "    </tr>\n",
       "    <tr>\n",
       "      <th>1</th>\n",
       "      <td>Nếu tôi là công dân Việt Nam kết hôn với người...</td>\n",
       "      <td>Việc ly hôn giữa công dân Việt Nam với người n...</td>\n",
       "      <td>a2a23d08</td>\n",
       "    </tr>\n",
       "    <tr>\n",
       "      <th>2</th>\n",
       "      <td>Khi nào cô, dì, chú, cậu, bác ruột có nghĩa vụ...</td>\n",
       "      <td>Cô, dì, chú, cậu, bác ruột không sống chung vớ...</td>\n",
       "      <td>36501b98</td>\n",
       "    </tr>\n",
       "    <tr>\n",
       "      <th>3</th>\n",
       "      <td>Tại nơi có cả biển báo hiệu cố định và báo hiệ...</td>\n",
       "      <td>Tại nơi có biển báo hiệu cố định lại có báo hi...</td>\n",
       "      <td>4d5249af</td>\n",
       "    </tr>\n",
       "    <tr>\n",
       "      <th>4</th>\n",
       "      <td>Khi nào tôi được phép vượt xe bên phải thay vì...</td>\n",
       "      <td>Bạn được phép vượt xe bên phải trong các trườn...</td>\n",
       "      <td>7d030583</td>\n",
       "    </tr>\n",
       "    <tr>\n",
       "      <th>...</th>\n",
       "      <td>...</td>\n",
       "      <td>...</td>\n",
       "      <td>...</td>\n",
       "    </tr>\n",
       "    <tr>\n",
       "      <th>96</th>\n",
       "      <td>Luật Hôn Nhân Và Gia Đình điều chỉnh những vấn...</td>\n",
       "      <td>Luật này quy định chế độ hôn nhân và gia đình;...</td>\n",
       "      <td>424554a8</td>\n",
       "    </tr>\n",
       "    <tr>\n",
       "      <th>97</th>\n",
       "      <td>Điều kiện để một cặp vợ chồng được nhờ người m...</td>\n",
       "      <td>Vợ chồng có quyền nhờ người mang thai hộ khi c...</td>\n",
       "      <td>04868edf</td>\n",
       "    </tr>\n",
       "    <tr>\n",
       "      <th>98</th>\n",
       "      <td>Cha mẹ có quyền tự mình thực hiện giao dịch tà...</td>\n",
       "      <td>Cha hoặc mẹ có quyền tự mình thực hiện giao dị...</td>\n",
       "      <td>dc292a9c</td>\n",
       "    </tr>\n",
       "    <tr>\n",
       "      <th>99</th>\n",
       "      <td>Vợ chồng có nghĩa vụ gì đối với quyền tự do tí...</td>\n",
       "      <td>Vợ, chồng có nghĩa vụ tôn trọng quyền tự do tí...</td>\n",
       "      <td>c8a7e8e1</td>\n",
       "    </tr>\n",
       "    <tr>\n",
       "      <th>100</th>\n",
       "      <td>Tài sản nào được coi là tài sản riêng của vợ h...</td>\n",
       "      <td>Tài sản riêng của vợ, chồng gồm tài sản mà mỗi...</td>\n",
       "      <td>48bc6ff9</td>\n",
       "    </tr>\n",
       "  </tbody>\n",
       "</table>\n",
       "<p>101 rows × 3 columns</p>\n",
       "</div>"
      ],
      "text/plain": [
       "                                    generated_question  \\\n",
       "0    Các loại hình cơ sở giáo dục mầm non được quy ...   \n",
       "1    Nếu tôi là công dân Việt Nam kết hôn với người...   \n",
       "2    Khi nào cô, dì, chú, cậu, bác ruột có nghĩa vụ...   \n",
       "3    Tại nơi có cả biển báo hiệu cố định và báo hiệ...   \n",
       "4    Khi nào tôi được phép vượt xe bên phải thay vì...   \n",
       "..                                                 ...   \n",
       "96   Luật Hôn Nhân Và Gia Đình điều chỉnh những vấn...   \n",
       "97   Điều kiện để một cặp vợ chồng được nhờ người m...   \n",
       "98   Cha mẹ có quyền tự mình thực hiện giao dịch tà...   \n",
       "99   Vợ chồng có nghĩa vụ gì đối với quyền tự do tí...   \n",
       "100  Tài sản nào được coi là tài sản riêng của vợ h...   \n",
       "\n",
       "                                      generated_answer    doc_id  \n",
       "0    Cơ sở giáo dục mầm non bao gồm: 1. Nhà trẻ, nh...  a0fcdc5b  \n",
       "1    Việc ly hôn giữa công dân Việt Nam với người n...  a2a23d08  \n",
       "2    Cô, dì, chú, cậu, bác ruột không sống chung vớ...  36501b98  \n",
       "3    Tại nơi có biển báo hiệu cố định lại có báo hi...  4d5249af  \n",
       "4    Bạn được phép vượt xe bên phải trong các trườn...  7d030583  \n",
       "..                                                 ...       ...  \n",
       "96   Luật này quy định chế độ hôn nhân và gia đình;...  424554a8  \n",
       "97   Vợ chồng có quyền nhờ người mang thai hộ khi c...  04868edf  \n",
       "98   Cha hoặc mẹ có quyền tự mình thực hiện giao dị...  dc292a9c  \n",
       "99   Vợ, chồng có nghĩa vụ tôn trọng quyền tự do tí...  c8a7e8e1  \n",
       "100  Tài sản riêng của vợ, chồng gồm tài sản mà mỗi...  48bc6ff9  \n",
       "\n",
       "[101 rows x 3 columns]"
      ]
     },
     "execution_count": 6,
     "metadata": {},
     "output_type": "execute_result"
    }
   ],
   "source": [
    "df_ground_truth"
   ]
  },
  {
   "cell_type": "code",
   "execution_count": 49,
   "id": "f88e2b0d-53ba-4766-9f5c-aa5d85eff47b",
   "metadata": {},
   "outputs": [
    {
     "name": "stdout",
     "output_type": "stream",
     "text": [
      "generated_question                                                                                                                                                               ,generated_answer                                                                                                                                                                                                                                                                                                                                                                                                                                                                                                                                                                                                                                                                                ,doc_id\n",
      "Các loại hình cơ sở giáo dục mầm non được quy định như thế nào trong Luật Giáo Dục?                                                                                              ,\"Cơ sở giáo dục mầm non bao gồm: 1. Nhà trẻ, nhóm trẻ độc lập nhận trẻ em từ 03 tháng tuổi đến 03 tuổi; 2. Trường mẫu giáo, lớp mẫu giáo độc lập nhận trẻ em từ 03 tuổi đến 06 tuổi; 3. Trường mầm non, lớp mầm non độc lập là cơ sở giáo dục kết hợp nhà trẻ và mẫu giáo, nhận trẻ em từ 03 tháng tuổi đến 06 tuổi.\"                                                                                                                                                                                                                                                                                                                                                                           ,a0fcdc5b\n",
      "\"Nếu tôi là công dân Việt Nam kết hôn với người nước ngoài và muốn ly hôn, tôi cần làm thủ tục ở đâu?\"                                                                           ,\"Việc ly hôn giữa công dân Việt Nam với người nước ngoài, giữa người nước ngoài với nhau thường trú ở Việt Nam được giải quyết tại cơ quan có thẩm quyền của Việt Nam theo quy định của Luật Hôn Nhân Và Gia Đình.\"                                                                                                                                                                                                                                                                                                                                                                                                                                                                             ,a2a23d08\n",
      "\"Khi nào cô, dì, chú, cậu, bác ruột có nghĩa vụ cấp dưỡng cho cháu ruột?\"                                                                                                        ,\"Cô, dì, chú, cậu, bác ruột không sống chung với cháu ruột có nghĩa vụ cấp dưỡng cho cháu trong trường hợp cháu chưa thành niên hoặc cháu đã thành niên không có khả năng lao động và không có tài sản để tự nuôi mình mà không có người khác cấp dưỡng theo quy định của Luật Hôn Nhân Và Gia Đình.\"                                                                                                                                                                                                                                                                                                                                                                                           ,36501b98\n",
      "\"Tại nơi có cả biển báo hiệu cố định và báo hiệu tạm thời, người tham gia giao thông phải tuân theo hiệu lệnh nào?\"                                                              ,Tại nơi có biển báo hiệu cố định lại có báo hiệu tạm thời thì người tham gia giao thông phải chấp hành hiệu lệnh của báo hiệu tạm thời.                                                                                                                                                                                                                                                                                                                                                                                                                                                                                                                                                         ,4d5249af\n",
      "Khi nào tôi được phép vượt xe bên phải thay vì bên trái?                                                                                                                         ,Bạn được phép vượt xe bên phải trong các trường hợp sau: 1) Khi xe phía trước có tín hiệu rẽ trái hoặc đang rẽ trái; 2) Khi xe điện đang chạy giữa đường; 3) Khi xe chuyên dùng đang làm việc trên đường mà không thể vượt bên trái được.                                                                                                                                                                                                                                                                                                                                                                                                                                                       ,7d030583\n",
      "Vợ chồng có thể chấm dứt hiệu lực của việc chia tài sản chung trong thời kỳ hôn nhân không?                                                                                      ,\"Sau khi chia tài sản chung trong thời kỳ hôn nhân, vợ chồng có quyền thỏa thuận chấm dứt hiệu lực của việc chia tài sản chung. Hình thức của thỏa thuận được thực hiện theo quy định tại khoản 2 Điều 38 của Luật Hôn Nhân Và Gia Đình.\"                                                                                                                                                                                                                                                                                                                                                                                                                                                       ,2b6300b7\n",
      "Quyền và nghĩa vụ về nhân thân của vợ chồng được bảo vệ như thế nào theo Luật Hôn Nhân và Gia Đình?                                                                              ,\"Quyền, nghĩa vụ về nhân thân của vợ, chồng quy định tại Luật Hôn Nhân và Gia Đình, Bộ luật dân sự và các luật khác có liên quan được tôn trọng và bảo vệ.\"                                                                                                                                                                                                                                                                                                                                                                                                                                                                                                                                     ,64eda91d\n",
      "Chương trình giáo dục mầm non cần đáp ứng những yêu cầu gì theo Luật Giáo Dục?                                                                                                   ,\"Chương trình giáo dục mầm non phải bảo đảm các yêu cầu sau: thể hiện mục tiêu giáo dục mầm non; quy định yêu cầu cần đạt ở mỗi độ tuổi, các hoạt động giáo dục, phương pháp, hình thức tổ chức hoạt động giáo dục, môi trường giáo dục, đánh giá sự phát triển của trẻ em; thống nhất trong cả nước và được tổ chức thực hiện linh hoạt, phù hợp với điều kiện cụ thể của địa phương và cơ sở giáo dục mầm non.\"                                                                                                                                                                                                                                                                               ,7bbe02ec\n",
      "\"Người lái xe khách có được phép chở hành khách trên mui xe hoặc để hành khách đu, bám bên ngoài xe không?\"                                                                      ,\"Không, người lái xe khách không được phép chở hành khách trên mui, trong khoang chở hành lý hoặc để hành khách đu, bám bên ngoài xe.\"                                                                                                                                                                                                                                                                                                                                                                                                                                                                                                                                                          ,55ac7fd3\n"
     ]
    }
   ],
   "source": [
    "!head ground-truth-data.csv"
   ]
  },
  {
   "cell_type": "code",
   "execution_count": 7,
   "id": "f70036b5",
   "metadata": {},
   "outputs": [
    {
     "data": {
      "text/plain": [
       "{'generated_question': 'Các loại hình cơ sở giáo dục mầm non được quy định như thế nào trong Luật Giáo Dục?',\n",
       " 'generated_answer': 'Cơ sở giáo dục mầm non bao gồm: 1. Nhà trẻ, nhóm trẻ độc lập nhận trẻ em từ 03 tháng tuổi đến 03 tuổi; 2. Trường mẫu giáo, lớp mẫu giáo độc lập nhận trẻ em từ 03 tuổi đến 06 tuổi; 3. Trường mầm non, lớp mầm non độc lập là cơ sở giáo dục kết hợp nhà trẻ và mẫu giáo, nhận trẻ em từ 03 tháng tuổi đến 06 tuổi.',\n",
       " 'doc_id': 'a0fcdc5b'}"
      ]
     },
     "execution_count": 7,
     "metadata": {},
     "output_type": "execute_result"
    }
   ],
   "source": [
    "ground_truth[0]"
   ]
  },
  {
   "cell_type": "code",
   "execution_count": 8,
   "id": "8cc2638d",
   "metadata": {},
   "outputs": [],
   "source": [
    "import json\n",
    "\n",
    "with open('/app/Law_corpus/documents-with-ids.json', 'rt') as f_in:\n",
    "    documents = json.load(f_in)"
   ]
  },
  {
   "cell_type": "code",
   "execution_count": 13,
   "id": "d7c028c5",
   "metadata": {},
   "outputs": [
    {
     "data": {
      "text/plain": [
       "{'law_title': 'Luật Giáo Dục',\n",
       " 'law_number': 'Luật số: 43/2019/QH14',\n",
       " 'chapter_title': 'Chương I',\n",
       " 'article_number': 'Điều 1',\n",
       " 'title': 'Phạm vi điều chỉnh',\n",
       " 'content': 'Luật này quy định về hệ thống giáo dục quốc dân; cơ sở giáo dục, nhà giáo, người học; quản lý nhà nước về giáo dục; quyền và trách nhiệm của cơ quan, tổ chức, cá nhân liên quan đến hoạt động giáo dục. ',\n",
       " 'id': '75a9286e'}"
      ]
     },
     "execution_count": 13,
     "metadata": {},
     "output_type": "execute_result"
    }
   ],
   "source": [
    "documents[0] "
   ]
  },
  {
   "cell_type": "code",
   "execution_count": 16,
   "id": "3d21380e",
   "metadata": {},
   "outputs": [],
   "source": [
    "def find_document_by_id(doc_id, documents):\n",
    "    for doc in documents:\n",
    "        if doc['id'] == doc_id:\n",
    "            return doc\n",
    "    return None\n",
    "\n",
    "# Update the ground_truth list directly\n",
    "for item in ground_truth:\n",
    "    doc_id = item['doc_id']\n",
    "    doc = find_document_by_id(doc_id, documents)\n",
    "    if doc:\n",
    "        item['law_title'] = doc.get('law_title', 'Unknown Law Title')\n",
    "\n",
    "# Convert the updated list back to a DataFrame\n",
    "df_updated = pd.DataFrame(ground_truth)"
   ]
  },
  {
   "cell_type": "code",
   "execution_count": 18,
   "id": "337d533d",
   "metadata": {},
   "outputs": [
    {
     "data": {
      "text/plain": [
       "{'generated_question': 'Tài sản nào được coi là tài sản riêng của vợ hoặc chồng theo Luật Hôn Nhân Và Gia Đình?',\n",
       " 'generated_answer': 'Tài sản riêng của vợ, chồng gồm tài sản mà mỗi người có trước khi kết hôn; tài sản được thừa kế riêng, được tặng cho riêng trong thời kỳ hôn nhân; tài sản được chia riêng cho vợ, chồng theo quy định tại các điều 38, 39 và 40 của Luật này; tài sản phục vụ nhu cầu thiết yếu của vợ, chồng và tài sản khác mà theo quy định của pháp luật thuộc sở hữu riêng của vợ, chồng.',\n",
       " 'doc_id': '48bc6ff9',\n",
       " 'law_title': 'Luật Hôn Nhân Và Gia Đình'}"
      ]
     },
     "execution_count": 18,
     "metadata": {},
     "output_type": "execute_result"
    }
   ],
   "source": [
    "ground_truth[-1]"
   ]
  },
  {
   "cell_type": "code",
   "execution_count": 19,
   "id": "afcbb49f",
   "metadata": {},
   "outputs": [
    {
     "data": {
      "text/html": [
       "<div>\n",
       "<style scoped>\n",
       "    .dataframe tbody tr th:only-of-type {\n",
       "        vertical-align: middle;\n",
       "    }\n",
       "\n",
       "    .dataframe tbody tr th {\n",
       "        vertical-align: top;\n",
       "    }\n",
       "\n",
       "    .dataframe thead th {\n",
       "        text-align: right;\n",
       "    }\n",
       "</style>\n",
       "<table border=\"1\" class=\"dataframe\">\n",
       "  <thead>\n",
       "    <tr style=\"text-align: right;\">\n",
       "      <th></th>\n",
       "      <th>generated_question</th>\n",
       "      <th>generated_answer</th>\n",
       "      <th>doc_id</th>\n",
       "      <th>law_title</th>\n",
       "    </tr>\n",
       "  </thead>\n",
       "  <tbody>\n",
       "    <tr>\n",
       "      <th>0</th>\n",
       "      <td>Các loại hình cơ sở giáo dục mầm non được quy ...</td>\n",
       "      <td>Cơ sở giáo dục mầm non bao gồm: 1. Nhà trẻ, nh...</td>\n",
       "      <td>a0fcdc5b</td>\n",
       "      <td>Luật Giáo Dục</td>\n",
       "    </tr>\n",
       "    <tr>\n",
       "      <th>1</th>\n",
       "      <td>Nếu tôi là công dân Việt Nam kết hôn với người...</td>\n",
       "      <td>Việc ly hôn giữa công dân Việt Nam với người n...</td>\n",
       "      <td>a2a23d08</td>\n",
       "      <td>Luật Hôn Nhân Và Gia Đình</td>\n",
       "    </tr>\n",
       "    <tr>\n",
       "      <th>2</th>\n",
       "      <td>Khi nào cô, dì, chú, cậu, bác ruột có nghĩa vụ...</td>\n",
       "      <td>Cô, dì, chú, cậu, bác ruột không sống chung vớ...</td>\n",
       "      <td>36501b98</td>\n",
       "      <td>Luật Hôn Nhân Và Gia Đình</td>\n",
       "    </tr>\n",
       "    <tr>\n",
       "      <th>3</th>\n",
       "      <td>Tại nơi có cả biển báo hiệu cố định và báo hiệ...</td>\n",
       "      <td>Tại nơi có biển báo hiệu cố định lại có báo hi...</td>\n",
       "      <td>4d5249af</td>\n",
       "      <td>Luật Giao Thông Đường Bộ</td>\n",
       "    </tr>\n",
       "    <tr>\n",
       "      <th>4</th>\n",
       "      <td>Khi nào tôi được phép vượt xe bên phải thay vì...</td>\n",
       "      <td>Bạn được phép vượt xe bên phải trong các trườn...</td>\n",
       "      <td>7d030583</td>\n",
       "      <td>Luật Giao Thông Đường Bộ</td>\n",
       "    </tr>\n",
       "    <tr>\n",
       "      <th>...</th>\n",
       "      <td>...</td>\n",
       "      <td>...</td>\n",
       "      <td>...</td>\n",
       "      <td>...</td>\n",
       "    </tr>\n",
       "    <tr>\n",
       "      <th>96</th>\n",
       "      <td>Luật Hôn Nhân Và Gia Đình điều chỉnh những vấn...</td>\n",
       "      <td>Luật này quy định chế độ hôn nhân và gia đình;...</td>\n",
       "      <td>424554a8</td>\n",
       "      <td>Luật Hôn Nhân Và Gia Đình</td>\n",
       "    </tr>\n",
       "    <tr>\n",
       "      <th>97</th>\n",
       "      <td>Điều kiện để một cặp vợ chồng được nhờ người m...</td>\n",
       "      <td>Vợ chồng có quyền nhờ người mang thai hộ khi c...</td>\n",
       "      <td>04868edf</td>\n",
       "      <td>Luật Hôn Nhân Và Gia Đình</td>\n",
       "    </tr>\n",
       "    <tr>\n",
       "      <th>98</th>\n",
       "      <td>Cha mẹ có quyền tự mình thực hiện giao dịch tà...</td>\n",
       "      <td>Cha hoặc mẹ có quyền tự mình thực hiện giao dị...</td>\n",
       "      <td>dc292a9c</td>\n",
       "      <td>Luật Hôn Nhân Và Gia Đình</td>\n",
       "    </tr>\n",
       "    <tr>\n",
       "      <th>99</th>\n",
       "      <td>Vợ chồng có nghĩa vụ gì đối với quyền tự do tí...</td>\n",
       "      <td>Vợ, chồng có nghĩa vụ tôn trọng quyền tự do tí...</td>\n",
       "      <td>c8a7e8e1</td>\n",
       "      <td>Luật Hôn Nhân Và Gia Đình</td>\n",
       "    </tr>\n",
       "    <tr>\n",
       "      <th>100</th>\n",
       "      <td>Tài sản nào được coi là tài sản riêng của vợ h...</td>\n",
       "      <td>Tài sản riêng của vợ, chồng gồm tài sản mà mỗi...</td>\n",
       "      <td>48bc6ff9</td>\n",
       "      <td>Luật Hôn Nhân Và Gia Đình</td>\n",
       "    </tr>\n",
       "  </tbody>\n",
       "</table>\n",
       "<p>101 rows × 4 columns</p>\n",
       "</div>"
      ],
      "text/plain": [
       "                                    generated_question  \\\n",
       "0    Các loại hình cơ sở giáo dục mầm non được quy ...   \n",
       "1    Nếu tôi là công dân Việt Nam kết hôn với người...   \n",
       "2    Khi nào cô, dì, chú, cậu, bác ruột có nghĩa vụ...   \n",
       "3    Tại nơi có cả biển báo hiệu cố định và báo hiệ...   \n",
       "4    Khi nào tôi được phép vượt xe bên phải thay vì...   \n",
       "..                                                 ...   \n",
       "96   Luật Hôn Nhân Và Gia Đình điều chỉnh những vấn...   \n",
       "97   Điều kiện để một cặp vợ chồng được nhờ người m...   \n",
       "98   Cha mẹ có quyền tự mình thực hiện giao dịch tà...   \n",
       "99   Vợ chồng có nghĩa vụ gì đối với quyền tự do tí...   \n",
       "100  Tài sản nào được coi là tài sản riêng của vợ h...   \n",
       "\n",
       "                                      generated_answer    doc_id  \\\n",
       "0    Cơ sở giáo dục mầm non bao gồm: 1. Nhà trẻ, nh...  a0fcdc5b   \n",
       "1    Việc ly hôn giữa công dân Việt Nam với người n...  a2a23d08   \n",
       "2    Cô, dì, chú, cậu, bác ruột không sống chung vớ...  36501b98   \n",
       "3    Tại nơi có biển báo hiệu cố định lại có báo hi...  4d5249af   \n",
       "4    Bạn được phép vượt xe bên phải trong các trườn...  7d030583   \n",
       "..                                                 ...       ...   \n",
       "96   Luật này quy định chế độ hôn nhân và gia đình;...  424554a8   \n",
       "97   Vợ chồng có quyền nhờ người mang thai hộ khi c...  04868edf   \n",
       "98   Cha hoặc mẹ có quyền tự mình thực hiện giao dị...  dc292a9c   \n",
       "99   Vợ, chồng có nghĩa vụ tôn trọng quyền tự do tí...  c8a7e8e1   \n",
       "100  Tài sản riêng của vợ, chồng gồm tài sản mà mỗi...  48bc6ff9   \n",
       "\n",
       "                     law_title  \n",
       "0                Luật Giáo Dục  \n",
       "1    Luật Hôn Nhân Và Gia Đình  \n",
       "2    Luật Hôn Nhân Và Gia Đình  \n",
       "3     Luật Giao Thông Đường Bộ  \n",
       "4     Luật Giao Thông Đường Bộ  \n",
       "..                         ...  \n",
       "96   Luật Hôn Nhân Và Gia Đình  \n",
       "97   Luật Hôn Nhân Và Gia Đình  \n",
       "98   Luật Hôn Nhân Và Gia Đình  \n",
       "99   Luật Hôn Nhân Và Gia Đình  \n",
       "100  Luật Hôn Nhân Và Gia Đình  \n",
       "\n",
       "[101 rows x 4 columns]"
      ]
     },
     "execution_count": 19,
     "metadata": {},
     "output_type": "execute_result"
    }
   ],
   "source": [
    "df_updated"
   ]
  },
  {
   "cell_type": "code",
   "execution_count": 20,
   "id": "092ef9a6",
   "metadata": {},
   "outputs": [],
   "source": [
    "# Strip extra spaces from string values in the DataFrame\n",
    "df_updated['generated_question'] = df_updated['generated_question'].str.strip()\n",
    "df_updated['generated_answer'] = df_updated['generated_answer'].str.strip()\n",
    "\n",
    "# Save the updated DataFrame to CSV\n",
    "df_updated.to_csv('/app/evaluate/ground-truth-data.csv', index=False, encoding='utf-8')"
   ]
  }
 ],
 "metadata": {
  "kernelspec": {
   "display_name": "Python 3 (ipykernel)",
   "language": "python",
   "name": "python3"
  }
 },
 "nbformat": 4,
 "nbformat_minor": 5
}
